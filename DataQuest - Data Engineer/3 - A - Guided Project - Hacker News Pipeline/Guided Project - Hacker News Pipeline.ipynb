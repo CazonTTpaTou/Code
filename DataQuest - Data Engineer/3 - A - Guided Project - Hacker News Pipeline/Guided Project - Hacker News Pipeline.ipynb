{
 "cells": [
  {
   "cell_type": "markdown",
   "metadata": {
    "collapsed": true
   },
   "source": [
    "# Guided Project - Hacker News Pipeline"
   ]
  },
  {
   "cell_type": "code",
   "execution_count": 9,
   "metadata": {
    "collapsed": true
   },
   "outputs": [],
   "source": [
    "from pipeline import Pipeline\n",
    "\n",
    "pipeline = Pipeline()\n",
    "\n",
    "\n",
    "import json\n",
    "\n",
    "@pipeline.task()\n",
    "def file_to_json():\n",
    "    file_name='hn_stories_2014.json'\n",
    "    with open(file_name,'r') as f:\n",
    "        data = json.load(f)\n",
    "        stories = data['stories']\n",
    "        \n",
    "    return stories\n",
    "          "
   ]
  },
  {
   "cell_type": "code",
   "execution_count": 10,
   "metadata": {
    "collapsed": true
   },
   "outputs": [],
   "source": [
    "@pipeline.task(depends_on=file_to_json)\n",
    "def filter_stories(stories):\n",
    "    for story in stories:\n",
    "        if (story['points']>=50\n",
    "            and story['num_comments']>1\n",
    "            and story['title'][:6] != 'Ask HN'):\n",
    "            \n",
    "            yield story"
   ]
  },
  {
   "cell_type": "code",
   "execution_count": 11,
   "metadata": {
    "collapsed": true
   },
   "outputs": [],
   "source": [
    "from datetime import datetime\n",
    "from pipeline import build_csv\n",
    "import io\n",
    "\n",
    "@pipeline.task(depends_on=filter_stories)\n",
    "def json_to_csv(filtered):\n",
    "    def parse(inputs):\n",
    "        for data in inputs:\n",
    "            yield (data['objectID'],\n",
    "                   datetime.strptime(data['created_at'], \"%Y-%m-%dT%H:%M:%SZ\"),\n",
    "                   data['url'],\n",
    "                   data['points'],\n",
    "                   data['title'])               \n",
    "    return build_csv(\n",
    "            parse(filtered),\n",
    "            header=['objectID', 'created_at', 'url', 'points', 'title'],\n",
    "            file=io.StringIO())"
   ]
  },
  {
   "cell_type": "code",
   "execution_count": 12,
   "metadata": {
    "collapsed": true
   },
   "outputs": [],
   "source": [
    "import csv\n",
    "\n",
    "@pipeline.task(depends_on=json_to_csv)\n",
    "def extract_titles(file):\n",
    "    reader = csv.reader(file)\n",
    "    header = next(reader)\n",
    "    idx = header.index('title')\n",
    "\n",
    "    return (line[idx] for line in reader)"
   ]
  },
  {
   "cell_type": "code",
   "execution_count": 13,
   "metadata": {
    "collapsed": false
   },
   "outputs": [],
   "source": [
    "import string\n",
    "\n",
    "@pipeline.task(depends_on=extract_titles)\n",
    "def clean_titles(titles):\n",
    "    def clean(words):\n",
    "        word = words.lower()\n",
    "        table = str.maketrans({key: None for key in string.punctuation})\n",
    "        return word.translate(table)\n",
    "    \n",
    "    return (clean(wd) for wd in titles)"
   ]
  },
  {
   "cell_type": "code",
   "execution_count": 14,
   "metadata": {
    "collapsed": false
   },
   "outputs": [],
   "source": [
    "from stop_words import stop_words\n",
    "\n",
    "@pipeline.task(depends_on=clean_titles)\n",
    "def build_keyword_dictionary(titles):\n",
    "    dict_words = dict()\n",
    "    for title in titles:\n",
    "        for word in title.split(' '):\n",
    "            if len(word)>0 and word not in stop_words:\n",
    "                if word in dict_words.keys():\n",
    "                    dict_words[word]+=1\n",
    "                else:\n",
    "                    dict_words[word]=1\n",
    "                    \n",
    "    return dict_words"
   ]
  },
  {
   "cell_type": "code",
   "execution_count": 15,
   "metadata": {
    "collapsed": false
   },
   "outputs": [],
   "source": [
    "@pipeline.task(depends_on=build_keyword_dictionary)\n",
    "def sort_word_frequency(frequency):\n",
    "    sort_frequencies = sorted(frequency,\n",
    "                              key=lambda x:frequency[x],\n",
    "                              reverse=True)\n",
    "    \n",
    "    freq_tupe = [(word,frequency[word]) for word in sort_frequencies] \n",
    "    \n",
    "    return freq_tupe[:100]"
   ]
  },
  {
   "cell_type": "code",
   "execution_count": 20,
   "metadata": {
    "collapsed": false
   },
   "outputs": [
    {
     "name": "stdout",
     "output_type": "stream",
     "text": [
      "[('new', 188), ('google', 174), ('bitcoin', 103), ('web', 94), ('open', 93), ('programming', 91), ('data', 87), ('video', 80), ('python', 75), ('code', 74), ('using', 72), ('facebook', 72), ('released', 72), ('free', 66), ('2013', 65), ('source', 65), ('javascript', 65), ('game', 63), ('internet', 62), ('linux', 59), ('c', 59), ('microsoft', 59), ('app', 58), ('pdf', 56), ('work', 55), ('language', 54), ('2014', 54), ('startup', 52), ('software', 52), ('make', 51), ('time', 51), ('apple', 50), ('yc', 50), ('use', 50), ('security', 48), ('github', 46), ('nsa', 45), ('windows', 44), ('way', 43), ('world', 42), ('heartbleed', 41), ('1', 41), ('like', 41), ('computer', 41), ('project', 40), ('ios', 38), ('design', 38), ('dont', 38), ('git', 38), ('twitter', 37), ('life', 37), ('big', 37), ('ceo', 37), ('users', 37), ('vs', 36), ('developer', 36), ('os', 36), ('simple', 35), ('day', 35), ('online', 34), ('android', 34), ('years', 34), ('apps', 33), ('court', 33), ('browser', 32), ('says', 32), ('engine', 32), ('guide', 32), ('api', 32), ('learning', 32), ('mt', 32), ('introducing', 31), ('site', 31), ('server', 31), ('firefox', 31), ('mozilla', 31), ('people', 31), ('fast', 31), ('gox', 31), ('problem', 31), ('year', 30), ('built', 30), ('support', 30), ('amazon', 30), ('stop', 29), ('text', 29), ('better', 29), ('million', 29), ('developers', 28), ('tech', 28), ('did', 28), ('3', 28), ('development', 28), ('future', 28), ('just', 28), ('does', 28), ('library', 27), ('website', 27), ('good', 27), ('2048', 27)]\n"
     ]
    }
   ],
   "source": [
    "top_words = pipeline.run()\n",
    "\n",
    "print(top_words[sort_word_frequency])"
   ]
  }
 ],
 "metadata": {
  "anaconda-cloud": {},
  "kernelspec": {
   "display_name": "Python 3",
   "language": "python",
   "name": "python3"
  },
  "language_info": {
   "codemirror_mode": {
    "name": "ipython",
    "version": 3
   },
   "file_extension": ".py",
   "mimetype": "text/x-python",
   "name": "python",
   "nbconvert_exporter": "python",
   "pygments_lexer": "ipython3",
   "version": "3.4.3"
  }
 },
 "nbformat": 4,
 "nbformat_minor": 1
}
