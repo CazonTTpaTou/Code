{
 "cells": [
  {
   "cell_type": "markdown",
   "metadata": {
    "collapsed": true
   },
   "source": [
    "# Guided Project - Implementing a Key-Value Database"
   ]
  },
  {
   "cell_type": "markdown",
   "metadata": {},
   "source": [
    "## Implement the Get and the Set"
   ]
  },
  {
   "cell_type": "code",
   "execution_count": 66,
   "metadata": {
    "collapsed": true
   },
   "outputs": [],
   "source": [
    "from btree import NodeKey, Node, BTree \n",
    "import pickle"
   ]
  },
  {
   "cell_type": "code",
   "execution_count": 94,
   "metadata": {
    "collapsed": false
   },
   "outputs": [],
   "source": [
    "class DQKV(BTree):\n",
    "    \n",
    "    def __init__(self,type_,values=None):\n",
    "        self.type = type_\n",
    "        super().__init__(10)\n",
    "        \n",
    "    def get(self,key):\n",
    "        value = self.search(self.root,key)\n",
    "        if not value:\n",
    "            raise KeyError('There is no value for {}'.format(key))\n",
    "        else:\n",
    "            return value\n",
    "    \n",
    "    def set(self,key,value):\n",
    "        \n",
    "        if not value:\n",
    "            raise ValueError('Value is null !!')\n",
    "        \n",
    "        if not isinstance(key,self.type):\n",
    "            raise KeyError('Invalid type for the key {}'.format(key))\n",
    "        \n",
    "        exist = self.search(self.root,key)\n",
    "        \n",
    "        if exist:\n",
    "            raise KeyError('{} already exist !!'.format(key))\n",
    "        \n",
    "        nodekey = NodeKey(key,value)\n",
    "        self.insert(nodekey)\n",
    "\n",
    "    def range_query(self,interval,inclusive=False):\n",
    "        \n",
    "        if not isinstance(interval,list):\n",
    "            raise ValueError('{} is not a list interval'.format(interval))\n",
    "        if len(interval)>2:\n",
    "            raise ValueError('Interval should only have a inf and sup value')\n",
    "        if interval[0] and interval[1]:\n",
    "            if interval[0] > interval[1]:\n",
    "                raise ValueError('Value inf should be inferior to value sup in the interval')\n",
    "        if not interval[0] and  not interval[1]:\n",
    "            raise ValueError('The 2 values in the interval are not defined')        \n",
    "        if interval[0]:\n",
    "            if not isinstance(interval[0],int):\n",
    "                raise ValueError('Values inf in interval should be interger types !!')            \n",
    "        if interval[1]:\n",
    "            if not isinstance(interval[1],int):\n",
    "                raise ValueError('Values sup in interval should be interger types !!')            \n",
    "        \n",
    "        \n",
    "        inc = inclusive\n",
    "        node = self.root    \n",
    "        list_values = list()\n",
    "\n",
    "        if interval[0] is None:\n",
    "            list_values = self.less_than(node, interval[1], inclusive=inc)\n",
    "\n",
    "        elif interval[1] is None:\n",
    "            list_values = self.greater_than(node,interval[0],inclusive=inc)\n",
    "\n",
    "        else:\n",
    "            list_values = self.greater_than(node,interval[0],interval[1],inclusive=inc)\n",
    "\n",
    "        return list_values\n",
    "\n",
    "    def save(self,namefile):\n",
    "        filename = namefile + '.dqdb'\n",
    "        \n",
    "        with open(filename,'wb') as f:\n",
    "            pickle.dump(self,f)\n",
    "            return True\n",
    "        \n",
    "        return False\n",
    "\n",
    "    @staticmethod\n",
    "    def load(namefile):\n",
    "        filename = namefile + '.dqdb'\n",
    "        \n",
    "        with open(filename,'rb') as f:\n",
    "            return pickle.load(f)\n",
    "        \n",
    "        return False\n",
    "    \n",
    "    def set_from_dict(self,dictionnary):\n",
    "        if not isinstance(dictionnary,dict):\n",
    "            raise ValueError('Data in entry is not adictionnary !!')\n",
    "            \n",
    "        for key,value in dictionnary.items():\n",
    "            self.set(key,value)\n",
    "    "
   ]
  },
  {
   "cell_type": "code",
   "execution_count": 95,
   "metadata": {
    "collapsed": false
   },
   "outputs": [],
   "source": [
    "dq = DQKV(int)\n",
    "\n",
    "dq.set(1,'Hello')\n",
    "dq.set(2,'World')\n",
    "dq.set(3,'ABC')\n"
   ]
  },
  {
   "cell_type": "code",
   "execution_count": 96,
   "metadata": {
    "collapsed": false
   },
   "outputs": [
    {
     "name": "stdout",
     "output_type": "stream",
     "text": [
      "'There is no value for 5'\n",
      "'2 already exist !!'\n",
      "ABC\n"
     ]
    }
   ],
   "source": [
    "try :\n",
    "    trial = dq.get(3)\n",
    "    trial2 = dq.get(5)\n",
    "    \n",
    "except KeyError as e:\n",
    "    print(e)\n",
    "\n",
    "try :\n",
    "    dq.set(2,'Morning')\n",
    "\n",
    "except KeyError as e:\n",
    "    print(e)\n",
    "    \n",
    "print(trial)"
   ]
  },
  {
   "cell_type": "markdown",
   "metadata": {},
   "source": [
    "## Override the Initializer"
   ]
  },
  {
   "cell_type": "code",
   "execution_count": 97,
   "metadata": {
    "collapsed": false
   },
   "outputs": [
    {
     "name": "stdout",
     "output_type": "stream",
     "text": [
      "'Invalid type for the key a'\n"
     ]
    }
   ],
   "source": [
    "try:\n",
    "    dq.set('a','Surprise !!')\n",
    "except KeyError as e:\n",
    "    print(e)\n",
    "    "
   ]
  },
  {
   "cell_type": "markdown",
   "metadata": {},
   "source": [
    "## Reimplementing the range Queries"
   ]
  },
  {
   "cell_type": "code",
   "execution_count": 98,
   "metadata": {
    "collapsed": true
   },
   "outputs": [],
   "source": [
    "dq.set(9,'Hello')\n",
    "dq.set(10,'World')\n",
    "dq.set(11,'ABC')\n",
    "\n",
    "dq.set(-9,'Croco')\n",
    "dq.set(-10,'Alligator')\n",
    "dq.set(-11,'Gavial')"
   ]
  },
  {
   "cell_type": "code",
   "execution_count": 99,
   "metadata": {
    "collapsed": false
   },
   "outputs": [],
   "source": [
    "list1 = dq.range_query([0,5],True)\n",
    "list2 = dq.range_query([6,None])\n",
    "list3 = dq.range_query([None,6])\n"
   ]
  },
  {
   "cell_type": "code",
   "execution_count": 100,
   "metadata": {
    "collapsed": false
   },
   "outputs": [
    {
     "data": {
      "text/plain": [
       "[<NodeKey: (1, Hello)>, <NodeKey: (2, World)>, <NodeKey: (3, ABC)>]"
      ]
     },
     "execution_count": 100,
     "metadata": {},
     "output_type": "execute_result"
    }
   ],
   "source": [
    "list1"
   ]
  },
  {
   "cell_type": "code",
   "execution_count": 101,
   "metadata": {
    "collapsed": false
   },
   "outputs": [
    {
     "data": {
      "text/plain": [
       "[<NodeKey: (9, Hello)>, <NodeKey: (10, World)>, <NodeKey: (11, ABC)>]"
      ]
     },
     "execution_count": 101,
     "metadata": {},
     "output_type": "execute_result"
    }
   ],
   "source": [
    "list2"
   ]
  },
  {
   "cell_type": "code",
   "execution_count": 102,
   "metadata": {
    "collapsed": false
   },
   "outputs": [
    {
     "data": {
      "text/plain": [
       "[<NodeKey: (-11, Gavial)>,\n",
       " <NodeKey: (-10, Alligator)>,\n",
       " <NodeKey: (-9, Croco)>,\n",
       " <NodeKey: (1, Hello)>,\n",
       " <NodeKey: (2, World)>,\n",
       " <NodeKey: (3, ABC)>]"
      ]
     },
     "execution_count": 102,
     "metadata": {},
     "output_type": "execute_result"
    }
   ],
   "source": [
    "list3"
   ]
  },
  {
   "cell_type": "markdown",
   "metadata": {},
   "source": [
    "## Dump and load the KV Store"
   ]
  },
  {
   "cell_type": "code",
   "execution_count": 103,
   "metadata": {
    "collapsed": true
   },
   "outputs": [],
   "source": [
    "saving = dq.save('MyFile')"
   ]
  },
  {
   "cell_type": "code",
   "execution_count": 104,
   "metadata": {
    "collapsed": false
   },
   "outputs": [
    {
     "data": {
      "text/plain": [
       "True"
      ]
     },
     "execution_count": 104,
     "metadata": {},
     "output_type": "execute_result"
    }
   ],
   "source": [
    "saving"
   ]
  },
  {
   "cell_type": "code",
   "execution_count": 105,
   "metadata": {
    "collapsed": false
   },
   "outputs": [],
   "source": [
    "loading = DQKV.load('MyFile')"
   ]
  },
  {
   "cell_type": "code",
   "execution_count": 106,
   "metadata": {
    "collapsed": false
   },
   "outputs": [
    {
     "data": {
      "text/plain": [
       "<__main__.DQKV at 0x7f0618178128>"
      ]
     },
     "execution_count": 106,
     "metadata": {},
     "output_type": "execute_result"
    }
   ],
   "source": [
    "loading"
   ]
  },
  {
   "cell_type": "markdown",
   "metadata": {},
   "source": [
    "## Load from dictionnary"
   ]
  },
  {
   "cell_type": "code",
   "execution_count": 107,
   "metadata": {
    "collapsed": true
   },
   "outputs": [],
   "source": [
    "dico = {20:'Gazelle',\n",
    "        21:'Hippopotame',\n",
    "        22:'Lion',\n",
    "        23:'Cactus'}\n",
    "\n",
    "dq.set_from_dict(dico)\n",
    "\n",
    "query1 = dq.get(20)\n",
    "query2 = dq.get(23)\n",
    "\n",
    "list4 = dq.range_query([6,None])"
   ]
  },
  {
   "cell_type": "code",
   "execution_count": 108,
   "metadata": {
    "collapsed": false
   },
   "outputs": [
    {
     "data": {
      "text/plain": [
       "'Gazelle'"
      ]
     },
     "execution_count": 108,
     "metadata": {},
     "output_type": "execute_result"
    }
   ],
   "source": [
    "query1"
   ]
  },
  {
   "cell_type": "code",
   "execution_count": 109,
   "metadata": {
    "collapsed": false
   },
   "outputs": [
    {
     "data": {
      "text/plain": [
       "'Cactus'"
      ]
     },
     "execution_count": 109,
     "metadata": {},
     "output_type": "execute_result"
    }
   ],
   "source": [
    "query2"
   ]
  },
  {
   "cell_type": "code",
   "execution_count": 110,
   "metadata": {
    "collapsed": false
   },
   "outputs": [
    {
     "data": {
      "text/plain": [
       "[<NodeKey: (9, Hello)>,\n",
       " <NodeKey: (10, World)>,\n",
       " <NodeKey: (11, ABC)>,\n",
       " <NodeKey: (20, Gazelle)>,\n",
       " <NodeKey: (21, Hippopotame)>,\n",
       " <NodeKey: (22, Lion)>,\n",
       " <NodeKey: (23, Cactus)>]"
      ]
     },
     "execution_count": 110,
     "metadata": {},
     "output_type": "execute_result"
    }
   ],
   "source": [
    "list4"
   ]
  },
  {
   "cell_type": "code",
   "execution_count": null,
   "metadata": {
    "collapsed": true
   },
   "outputs": [],
   "source": []
  }
 ],
 "metadata": {
  "kernelspec": {
   "display_name": "Python 3",
   "language": "python",
   "name": "python3"
  },
  "language_info": {
   "codemirror_mode": {
    "name": "ipython",
    "version": 3
   },
   "file_extension": ".py",
   "mimetype": "text/x-python",
   "name": "python",
   "nbconvert_exporter": "python",
   "pygments_lexer": "ipython3",
   "version": "3.4.3"
  }
 },
 "nbformat": 4,
 "nbformat_minor": 0
}
