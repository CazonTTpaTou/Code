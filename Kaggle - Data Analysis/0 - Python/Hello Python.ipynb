{
  "cells": [
    {
      "metadata": {
        "_uuid": "2d6d70b1888cc482e625146c5c52e649c0a6628a"
      },
      "cell_type": "markdown",
      "source": "Welcome to Kaggle Learn's Python course. This course will cover the fundamental Python skills that you’ll need before jumping in to using Python for data science. These lessons are aimed at those with some previous coding experience who are looking to add Python to their repertoire or level up their Python skills. (If you're a first-time coder, you may find this course a bit too fast-paced. You may want to check out [these \"Python for Non-Programmers\" learning resources](https://wiki.python.org/moin/BeginnersGuide/NonProgrammers).)\n\nThis first lesson will cover a brief overview of Python syntax, variable assignment, and arithmetic operators. If you have previous Python experience, you may want to [skip straight to the exercise](https://www.kaggle.com/kernels/fork/1275163).\n\n> These lessons borrow and adapt some content from [A Whirlwind Tour of Python](https://www.kaggle.com/sohier/whirlwind-tour-of-python-index). Thanks to the author, Jake VanderPlas, for releasing it under a permissive license. If you're interested in a more thorough, theoretical grounding in Python, I encourage you to check out WTOP.\n"
    },
    {
      "metadata": {
        "_uuid": "db2f5b8497646efd5279ce359cb48cc879251697"
      },
      "cell_type": "markdown",
      "source": "# Hello, Python!\n\nPython was named for the British comedy troupe [Monty Python](https://en.wikipedia.org/wiki/Monty_Python), so why not make our first Python program an homage to their famous [Spam](https://en.wikipedia.org/wiki/Spam_(Monty_Python%29) skit?\n\n<!-- todo: maybe a little side note on spam metasyntactic variables in Python -->\n\nJust for fun, try reading over the code below and predicting what it's going to do when run. (If you have no idea, that's fine!)\n\nThen click the \"output\" button to see the results of our program."
    },
    {
      "metadata": {
        "_kg_hide-output": true,
        "trusted": false,
        "collapsed": true,
        "_uuid": "a924297f5b7a5a4d896d3d98dcb71c4949fac040"
      },
      "cell_type": "code",
      "source": "spam_amount = 0\nprint(spam_amount)\n\n# Ordering Spam, egg, Spam, Spam, bacon and Spam (4 more servings of Spam)\nspam_amount = spam_amount + 4\n\nif spam_amount > 0:\n    print(\"But I don't want ANY spam!\")\n\nviking_song = \"Spam \" * spam_amount\nprint(viking_song)",
      "execution_count": null,
      "outputs": []
    },
    {
      "metadata": {
        "_uuid": "1164ebe7332739ffcc1d59fee9b69aada31e7b5f"
      },
      "cell_type": "markdown",
      "source": "There's a lot to unpack here! This silly program demonstrates many important aspects of what Python code looks like (its *syntax*) and how it works (its *semantics*). Let's run down the code from top to bottom."
    },
    {
      "metadata": {
        "collapsed": true,
        "trusted": false,
        "_uuid": "defdfa8b50e699b0278b48a458838c78f622db79"
      },
      "cell_type": "code",
      "source": "spam_amount = 0",
      "execution_count": null,
      "outputs": []
    },
    {
      "metadata": {
        "_uuid": "b018350e4786d81aff1dfd5029268af21e3ee636"
      },
      "cell_type": "markdown",
      "source": "**Variable assignment!** Here we create a variable called `spam_amount` and assign it the value of 0 using `=`, Python's assignment operator.\n\n> **Aside**: If you've programmed in certain other languages (like Java or C++), you might be noticing some things Python *doesn't* require us to do here:  \n- we don't need to \"declare\" `spam_amount` before assigning to it\n- we don't need to tell Python what type of value `spam_amount` is going to refer to. In fact, we can even go on to reassign `spam_amount` to refer to a different sort of thing like a string or a boolean."
    },
    {
      "metadata": {
        "_kg_hide-output": false,
        "collapsed": true,
        "trusted": false,
        "_uuid": "6e78db1a32ddb62abd5623bbcb87948caa11feba"
      },
      "cell_type": "code",
      "source": "print(spam_amount)",
      "execution_count": null,
      "outputs": []
    },
    {
      "metadata": {
        "_uuid": "a3bf6dad9d61b68a84810accf8e0ad1e9fa9b139"
      },
      "cell_type": "markdown",
      "source": "A **function call**. `print` is an extremely useful builtin Python function that displays the value passed to it on the screen. We call functions by putting parentheses after their name, with the inputs to the function (or *arguments*) in between."
    },
    {
      "metadata": {
        "_kg_hide-output": false,
        "collapsed": true,
        "trusted": false,
        "_uuid": "fd8f7da4694ee802a3dbaa676a86be517c255e8a"
      },
      "cell_type": "code",
      "source": "# Ordering Spam, egg, Spam, Spam, bacon and Spam (4 more servings of Spam)\nspam_amount = spam_amount + 4",
      "execution_count": null,
      "outputs": []
    },
    {
      "metadata": {
        "_uuid": "d964625d576be50294796f85868a80cf473069f4"
      },
      "cell_type": "markdown",
      "source": "The first line above is a **comment**. In Python, comments begin with the `#` symbol.\n\nNext we see an example of reassignment. Reassigning the value of an existing variable looks just the same as creating a variable - it still uses the `=` assignment operator.\n\nIn this case, the value we're assigning to `spam_amount` involves a little simple arithmetic on its previous value. When it encounters this line, Python evaluates the expression on the right-hand-side of the `=` (0 + 4 = 4), and then assigns that value to the variable on the left-hand-side."
    },
    {
      "metadata": {
        "_kg_hide-output": false,
        "collapsed": true,
        "trusted": false,
        "_uuid": "dab1b622a40b44f5c39d6616018a3a9c7cb4fdc9"
      },
      "cell_type": "code",
      "source": "if spam_amount > 0:\n    print(\"But I don't want ANY spam!\")",
      "execution_count": null,
      "outputs": []
    },
    {
      "metadata": {
        "_uuid": "c43ddf39a2626800d4b978f31c65a49edaf5ce00"
      },
      "cell_type": "markdown",
      "source": "We won't talk much about conditionals until later, but, even if you've never coded before, you can probably guess what this does. Python is prized for its readability and the simplicity of its syntax (with some going as far as to call it \"executable pseudocode\"). \n\nNote how we indicated which code belongs to the `if`. `\"But I don't want ANY spam!\"` is only supposed to be printed if `spam_amount` is positive. But the later code (like `print(viking_song)`) should be executed no matter what. How do we (and Python) know that?\n\nThe colon (`:`) at the end of the `if` line indicates that a new \"code block\" is coming up. Subsequent lines which are **indented** (beginning with an extra 4 spaces) are part of that code block. You may be familiar with other languages which use `{`curly braces`}` to mark the beginning and end of code blocks. Python's use of meaningful whitespace often is surprising to programmers who are accustomed to other languages, but in practice it can lead to more consistent and readable code than languages that do not enforce indentation of code blocks. \n\nThe later lines dealing with `viking_song` are not indented with an extra 4 spaces, so they're not a part of the `if`'s code block. We'll see more examples of indented code blocks later when we start defining functions and using loops.\n\nThis code snippet is also our first sighting of a **string** in Python:\n\n```python\n\"But I don't want ANY spam!\"\n```\n\nStrings can be marked either by double or single quotation marks. (But because this particular string *contains* a single-quote character, we might confuse Python by trying to surround it with single-quotes, unless we're careful.)"
    },
    {
      "metadata": {
        "_kg_hide-output": false,
        "collapsed": true,
        "trusted": false,
        "_uuid": "26e1aec1e7fa4a8931026134f41bf11f70dc0421"
      },
      "cell_type": "code",
      "source": "viking_song = \"Spam \" * spam_amount\nprint(viking_song)",
      "execution_count": null,
      "outputs": []
    },
    {
      "metadata": {
        "_uuid": "5d7270467ca70255053e37bd3251546677e3d973"
      },
      "cell_type": "markdown",
      "source": "The `*` operator can be used to multiply two numbers (`3 * 3` evaluates to 9), but amusingly enough, we can also multiply a string by a number, to get a version that's been repeated that many times. Python offers a number of cheeky little time-saving tricks like this where operators like `*` and `+` have a different meaning depending on what kind of thing they're applied to. (The technical term for this is [operator overloading](https://en.wikipedia.org/wiki/Operator_overloading))"
    },
    {
      "metadata": {
        "_uuid": "728a2a2c573eb30071f39ec77ab5aeba149e97d5"
      },
      "cell_type": "markdown",
      "source": "## Numbers and arithmetic in Python\n\nWe've already seen an example of a variable containing a number above:"
    },
    {
      "metadata": {
        "collapsed": true,
        "trusted": false,
        "_uuid": "47f824c5eba39adce356f6134f970ddf883c182f"
      },
      "cell_type": "code",
      "source": "spam_amount = 0",
      "execution_count": null,
      "outputs": []
    },
    {
      "metadata": {
        "_uuid": "8642a8ca5fcce2aa1fb84b68f57cfe57e3c9bac1"
      },
      "cell_type": "markdown",
      "source": "\"Number\" is a fine informal name for the kind of thing, but if we wanted to be more technical, we could ask Python how it would describe the type of thing that `spam_amount` is:"
    },
    {
      "metadata": {
        "collapsed": true,
        "trusted": false,
        "_uuid": "5c039a9cde0b8b5e32c89182c7cb0951b37d6a71"
      },
      "cell_type": "code",
      "source": "type(spam_amount)",
      "execution_count": null,
      "outputs": []
    },
    {
      "metadata": {
        "_uuid": "da836fecf2dd14b61a7ca833750372aa70e63336"
      },
      "cell_type": "markdown",
      "source": "It's an `int` - short for integer. There's another sort of number we commonly encounter in Python:"
    },
    {
      "metadata": {
        "collapsed": true,
        "trusted": false,
        "_uuid": "d416fd5f284b1a737fb7c94f5e2dc3acdd869213"
      },
      "cell_type": "code",
      "source": "type(19.95)",
      "execution_count": null,
      "outputs": []
    },
    {
      "metadata": {
        "_uuid": "23d5936c74dc956c4238d3453405f830ae26005b"
      },
      "cell_type": "markdown",
      "source": "A `float` is a number with a decimal place - very useful for representing things like weights or proportions.\n\n`type()` is the second built-in function we've seen (after `print()`), and it's another good one to remember. It's very useful to be able to ask Python \"what kind of thing is this?\". "
    },
    {
      "metadata": {
        "_uuid": "45328610942acb8cb5eb78d5103308b21f913604"
      },
      "cell_type": "markdown",
      "source": "A natural thing to want to do with numbers is perform arithmetic. We've seen the `+` operator for addition, and the `*` operator for multiplication (of a sort). Python also has us covered for the rest of the basic buttons on your calculator:\n\n| Operator     | Name           | Description                                            |\n|--------------|----------------|--------------------------------------------------------|\n| ``a + b``    | Addition       | Sum of ``a`` and ``b``                                 |\n| ``a - b``    | Subtraction    | Difference of ``a`` and ``b``                          |\n| ``a * b``    | Multiplication | Product of ``a`` and ``b``                             |\n| ``a / b``    | True division  | Quotient of ``a`` and ``b``                            |\n| ``a // b``   | Floor division | Quotient of ``a`` and ``b``, removing fractional parts |\n| ``a % b``    | Modulus        | Integer remainder after division of ``a`` by ``b``     |\n| ``a ** b``   | Exponentiation | ``a`` raised to the power of ``b``                     |\n| ``-a``       | Negation       | The negative of ``a``                                  |\n\n<span style=\"display:none\">hack</span>\n\nOne interesting observation here is that, whereas your calculator probably just has one button for division, Python can do two kinds. \"True division\" is basically what your calculator does:"
    },
    {
      "metadata": {
        "collapsed": true,
        "trusted": false,
        "_uuid": "e63f6ef5c22e2c4fa956113ac4e6bedc334c7a9a"
      },
      "cell_type": "code",
      "source": "print(5 / 2)\nprint(6 / 2)",
      "execution_count": null,
      "outputs": []
    },
    {
      "metadata": {
        "_uuid": "2fbc4176521849e9132783623edc0a5a5f70745b"
      },
      "cell_type": "markdown",
      "source": "It always gives us a `float`. \n\nThe `//` operator gives us a result that's rounded down to the next integer."
    },
    {
      "metadata": {
        "collapsed": true,
        "trusted": false,
        "_uuid": "bf83dff9b51ce0ec45edc92d59e7b3decbdf93d3"
      },
      "cell_type": "code",
      "source": "print(5 // 2)\nprint(6 // 2)",
      "execution_count": null,
      "outputs": []
    },
    {
      "metadata": {
        "_uuid": "c69cd389b81fa36eb32b606d3d8a5c849eab9858"
      },
      "cell_type": "markdown",
      "source": "Can you think of where this would be useful? You may see an example soon in the coding problems."
    },
    {
      "metadata": {
        "_uuid": "cd0887bd851b5e5c52eadfc32d8f5baea33accab"
      },
      "cell_type": "markdown",
      "source": "### Order of operations\n\nThe arithmetic we learned in primary school has conventions about the order in which operations are evaluated. Some remember these by a mnemonic such as **PEMDAS** - **P**arentheses, **E**xponents, **M**ultiplication/**D**ivision, **A**ddition/**S**ubtraction.\n\nPython follows similar rules about which calculations to perform first. They're mostly pretty intuitive."
    },
    {
      "metadata": {
        "collapsed": true,
        "trusted": false,
        "_uuid": "d3ca9889a03021a5e12bd062822b40b8a603fdc2"
      },
      "cell_type": "code",
      "source": "8 - 3 + 2",
      "execution_count": null,
      "outputs": []
    },
    {
      "metadata": {
        "collapsed": true,
        "trusted": false,
        "_uuid": "42b86f436fffd820b1aea23cddd4b179a84a9993"
      },
      "cell_type": "code",
      "source": "-3 + 4 * 2",
      "execution_count": null,
      "outputs": []
    },
    {
      "metadata": {
        "_uuid": "c4142a72fbef5afe7d62958db25a061227158494"
      },
      "cell_type": "markdown",
      "source": "Sometimes the default order of operations isn't what we want:"
    },
    {
      "metadata": {
        "collapsed": true,
        "trusted": false,
        "_uuid": "bbc5bcc2793d2dc997da9b095d986c7460b1553e"
      },
      "cell_type": "code",
      "source": "hat_height_cm = 25\nmy_height_cm = 190\n# How tall am I, in meters, when wearing my hat?\ntotal_height_meters = hat_height_cm + my_height_cm / 100\nprint(\"Height in meters =\", total_height_meters, \"?\")",
      "execution_count": null,
      "outputs": []
    },
    {
      "metadata": {
        "_uuid": "cca7fafe245e2b5b55ed12ffe8c6931126cee5fc"
      },
      "cell_type": "markdown",
      "source": "Parentheses are your trump card. You can add them to force Python to evaluate sub-expressions in a different order (or just to make your code easier to read)."
    },
    {
      "metadata": {
        "collapsed": true,
        "trusted": false,
        "_uuid": "41df8027015691d00823a6f604bd2e651b1b65a5"
      },
      "cell_type": "code",
      "source": "total_height_meters = (hat_height_cm + my_height_cm) / 100\nprint(\"Height in meters =\", total_height_meters)",
      "execution_count": null,
      "outputs": []
    },
    {
      "metadata": {
        "_uuid": "191b97483aea1fdae41888d68854c1dbd796249c"
      },
      "cell_type": "markdown",
      "source": "### Builtin functions for working with numbers\n\n`min` and `max` return the minimum and maximum of their arguments, respectively..."
    },
    {
      "metadata": {
        "collapsed": true,
        "trusted": false,
        "_uuid": "d4c797ca9814a835ae478d58df39ab0fd50a0d22"
      },
      "cell_type": "code",
      "source": "print(min(1, 2, 3))\nprint(max(1, 2, 3))",
      "execution_count": null,
      "outputs": []
    },
    {
      "metadata": {
        "_uuid": "435f36a6de2a4ff71033161acd2ff9a43b7d6065"
      },
      "cell_type": "markdown",
      "source": "`abs` returns the absolute value of it argument:"
    },
    {
      "metadata": {
        "collapsed": true,
        "trusted": false,
        "_uuid": "dc5e41b7de243eb1ab6f1880725266d4be8b50ee"
      },
      "cell_type": "code",
      "source": "print(abs(32))\nprint(abs(-32))",
      "execution_count": null,
      "outputs": []
    },
    {
      "metadata": {
        "_uuid": "4824346c24ea16fc3d19c01d9695c0a395797449"
      },
      "cell_type": "markdown",
      "source": "In addition to being the names of Python's two main numerical types, `int` and `float` can also be called as functions which convert their arguments to the corresponding type:"
    },
    {
      "metadata": {
        "collapsed": true,
        "trusted": false,
        "_uuid": "1e55a8f902a752820bb249241fc3f3d65e9cf035"
      },
      "cell_type": "code",
      "source": "print(float(10))\nprint(int(3.33))\n# They can even be called on strings!\nprint(int('807') + 1)",
      "execution_count": null,
      "outputs": []
    },
    {
      "metadata": {
        "_uuid": "2e1fc6b05284354627217591c323eb30295888db"
      },
      "cell_type": "markdown",
      "source": "# Your turn!\n\nHead over to [the Exercises notebook](https://www.kaggle.com/kernels/fork/1275163) to get some hands-on practice working with syntax, variable assignment, and numbers."
    }
  ],
  "metadata": {
    "anaconda-cloud": {},
    "celltoolbar": "Edit Metadata",
    "kernelspec": {
      "display_name": "Python 3",
      "language": "python",
      "name": "python3"
    },
    "language_info": {
      "name": "python",
      "version": "3.6.6",
      "mimetype": "text/x-python",
      "codemirror_mode": {
        "name": "ipython",
        "version": 3
      },
      "pygments_lexer": "ipython3",
      "nbconvert_exporter": "python",
      "file_extension": ".py"
    },
    "learntools_metadata": {
      "lesson_index": 0,
      "type": "tutorial"
    }
  },
  "nbformat": 4,
  "nbformat_minor": 1
}