{
  "cells": [
    {
      "metadata": {
        "_uuid": "7ed85649cb5d3b43b9a7a7b97feacd7b2a92bb6c"
      },
      "cell_type": "markdown",
      "source": "# Exercises"
    },
    {
      "metadata": {
        "_uuid": "d4067cb86408adb95671636919351b95ff6da893"
      },
      "cell_type": "markdown",
      "source": "Welcome to your first set of Python coding problems! Each tutorial will be followed by a handful of problems so you can practice what you just learned.\n\nAlso, if this is your first time using Kaggle Kernels, welcome! For a very quick introduction to Kernels' features, [check out this video](https://youtu.be/4C2qMnaIKL4).\n\nTry running the code cell below (by pressing the ► button in the left margin, or clicking on the cell and using the keyboard shortcut ctrl+enter)."
    },
    {
      "metadata": {
        "collapsed": true,
        "_uuid": "6b08d02c12258ef7d04f428f77b902c624e66818",
        "trusted": false
      },
      "cell_type": "code",
      "source": "print(\"You've successfully run some Python code\")\nprint(\"Congratulations!\")",
      "execution_count": null,
      "outputs": []
    },
    {
      "metadata": {
        "_uuid": "7198a06de90a18ffce64eb1e0ed9ae71228951a9"
      },
      "cell_type": "markdown",
      "source": "Try adding another line of code to the cell above and re-running it. \n\nTry creating a new code cell (using the \"+\" buttons in a cell's top-right menu), writing some code in it, then running it.\n\nGreat! You now know how to use Kernels.\n\nIf you're curious about other ways of running Python code, and how to install Python locally, check out [the installation section of chapter 0 of A Whirlwind Tour of Python](https://www.kaggle.com/sohier/whirlwind-tour-of-python-00-introduction), and chapter 1 of WTOP on [How to Run Python Code](https://www.kaggle.com/sohier/wtop-01-how-to-run-python-code).\n\nEach exercise will start by importing some code that I wrote for checking  your code. Run the code cell below to do that, and you'll be ready to move on to question 0."
    },
    {
      "metadata": {
        "_kg_hide-input": true,
        "_kg_hide-output": true,
        "collapsed": true,
        "_uuid": "7fe6797cfbb21b554970a67f9b7211245be816fa",
        "trusted": false
      },
      "cell_type": "code",
      "source": "# You don't need to worry for now about what this code does or how it works. If you're ever curious about the \n# code behind these exercises, it's available under an open source license here: https://github.com/Kaggle/learntools/\n# (But if you can understand that code, you'll probably find these lessons boring :)\nfrom learntools.core import binder; binder.bind(globals())\nfrom learntools.python.ex1 import *\nprint(\"Setup complete! You're ready to start question 0.\")",
      "execution_count": null,
      "outputs": []
    },
    {
      "metadata": {
        "_uuid": "a2b5efdc250d4859b030701ea95e6eb213c0c688"
      },
      "cell_type": "markdown",
      "source": "## 0.\n\n*This is a silly question intended as an introduction to the format we'll be using for questions throughout the Python course.*\n\n**What is your favorite color? **\n\nTo complete this question, you must create a variable called `color` in the cell below with an appropriate value. The function call `q0.check()` (which we've already provided in the cell below) will check your answer. If you run the cell below without changing its contents, `q0.check()` will recognize that you haven't attempted the problem yet, and remind you what you need to do. Try that now.\n\n(If  you get a `NameError`, it probably means you didn't run the setup code above. Make sure you run the previous code cell, and see a \"Setup complete!\" message printed.)"
    },
    {
      "metadata": {
        "collapsed": true,
        "_uuid": "8ac999b67cdd423e7fdf3864f3e7cdb9d1969af0",
        "trusted": false
      },
      "cell_type": "code",
      "source": "# create a variable called color with an appropriate value on the line below.\n\nq0.check()",
      "execution_count": null,
      "outputs": []
    },
    {
      "metadata": {
        "_uuid": "e5a85c90be5d1509a577258a7b312c9fe113a968"
      },
      "cell_type": "markdown",
      "source": "Now try editing the cell below to solve the problem, creating a variable `color` on the second line of the cell. Run the cell to check your answer."
    },
    {
      "metadata": {
        "collapsed": true,
        "_uuid": "ed229e2a9ae4403ec8a248b6ae00eb2e2d793e64",
        "trusted": false
      },
      "cell_type": "code",
      "source": "# create a variable called color with an appropriate value on the line below\n# (Remember, strings in Python must be enclosed in 'single' or \"double\" quotes)\n\nq0.check()",
      "execution_count": null,
      "outputs": []
    },
    {
      "metadata": {
        "_uuid": "88e6b2f301a5d35cc6ee87dea100f43d4b0fc1d3"
      },
      "cell_type": "markdown",
      "source": "Didn't get the right answer? How do you not even know your own favorite color?!\n\nUncomment the below cell (by deleting the `#`) then run it to get a hint.  \n\nYou can also uncomment the second cell below to get the full answer."
    },
    {
      "metadata": {
        "collapsed": true,
        "_uuid": "1a5f125325b41c1a8dd495b257dd7e9755aebb6b",
        "trusted": false
      },
      "cell_type": "code",
      "source": "#q0.hint()",
      "execution_count": null,
      "outputs": []
    },
    {
      "metadata": {
        "collapsed": true,
        "_uuid": "4ae34ccaa2e45d4c1ae62858f2bd3f824701ef7f",
        "trusted": false
      },
      "cell_type": "code",
      "source": "#q0.solution()",
      "execution_count": null,
      "outputs": []
    },
    {
      "metadata": {
        "_uuid": "11a1c2562e13e1306bf7d4489fc6848e22636198"
      },
      "cell_type": "markdown",
      "source": "All the questions for these exercises will have this kind of \"API\". The only thing that will change are the questions numbers. For the next question, you'll call `q1.check()`, `q1.hint()`, `q1.solution()`, for question 5, you'll call `q5.check()`, and so on."
    },
    {
      "metadata": {
        "_uuid": "32e7b11304ba30d2834901edb563b2e5958646a6"
      },
      "cell_type": "markdown",
      "source": "<hr/>\n\n## 1.\n\nComplete the code below."
    },
    {
      "metadata": {
        "collapsed": true,
        "_uuid": "455aa0424d1f543a54d58bec11699a0e809383fa",
        "trusted": false
      },
      "cell_type": "code",
      "source": "pi = 3.14159 # approximate\ndiameter = 3\n\n# Create a variable called 'radius' equal to half the diameter\n\n# Create a variable called 'area', using the formula for the area of a circle: pi times the radius squared\n\nq1.check()",
      "execution_count": null,
      "outputs": []
    },
    {
      "metadata": {
        "collapsed": true,
        "_uuid": "6aab8cd8b9aa8ef172a1d336bb5463c918e56856",
        "trusted": false
      },
      "cell_type": "code",
      "source": "# Uncomment and run the lines below if you need help.\n#q1.hint()\n#q1.solution()",
      "execution_count": null,
      "outputs": []
    },
    {
      "metadata": {
        "_uuid": "33dfdcd4afcf4f57714b3ef25ac39c081b985dfc"
      },
      "cell_type": "markdown",
      "source": "<hr/>\n## 2.\n\nAdd code to the following cell to swap variables `a` and `b` (so that `a` refers to the object previously referred to by `b` and vice versa)."
    },
    {
      "metadata": {
        "collapsed": true,
        "_uuid": "3b62e934eb19ebd0607be7b241272f2607a53a6a",
        "trusted": false
      },
      "cell_type": "code",
      "source": "########### Setup code - don't touch this part ######################\n# If you're curious, these are examples of lists. We'll talk about \n# them in depth a few lessons from now. For now, just know that they're\n# yet another type of Python object, like int or float.\na = [1, 2, 3]\nb = [3, 2, 1]\nq2.store_original_ids()\n######################################################################\n\n# Your code goes here. Swap the values to which a and b refer.\n# If you get stuck, you can always uncomment one or both of the lines in\n# the next cell for a hint, or to peek at the solution.\n\n######################################################################\nq2.check()",
      "execution_count": null,
      "outputs": []
    },
    {
      "metadata": {
        "collapsed": true,
        "_uuid": "3aa78f7896a168c42a9f55d32108418ca2e7f968",
        "trusted": false
      },
      "cell_type": "code",
      "source": "#q2.hint()",
      "execution_count": null,
      "outputs": []
    },
    {
      "metadata": {
        "collapsed": true,
        "_uuid": "6261c61328484c6be2fc161e884c74062d0c54bd",
        "trusted": false
      },
      "cell_type": "code",
      "source": "#q2.solution()",
      "execution_count": null,
      "outputs": []
    },
    {
      "metadata": {
        "_uuid": "c9b2d4bd667066bc1608aee302226ce75eef9fce"
      },
      "cell_type": "markdown",
      "source": "<hr/>\n## 3.\n\n<!-- TODO: Or maybe this SHOULD just have a check method for consistency.-->\n\n<small>*Note: some questions, such as this one, won't have a .check() function. In this case, it should hopefully be easy to see whether you've succeeded by visual inspection.*</small>\n\na) Add parentheses to the following expression so that it evaluates to 1."
    },
    {
      "metadata": {
        "collapsed": true,
        "_uuid": "4cfed4ad717f7e862e64105332c74d12ca3f0b60",
        "trusted": false
      },
      "cell_type": "code",
      "source": "5 - 3 // 2",
      "execution_count": null,
      "outputs": []
    },
    {
      "metadata": {
        "collapsed": true,
        "_uuid": "e65728413d61352bc17712fbbf6f23fc4cc6332d",
        "trusted": false
      },
      "cell_type": "code",
      "source": "#q3.a.hint()",
      "execution_count": null,
      "outputs": []
    },
    {
      "metadata": {
        "collapsed": true,
        "_uuid": "fb5100b8818c1fff9f05666b102abead55945b6e",
        "trusted": false
      },
      "cell_type": "code",
      "source": "#q3.a.solution()",
      "execution_count": null,
      "outputs": []
    },
    {
      "metadata": {
        "_uuid": "d11851b21bd3b62566692a6e7ccde012dee67165"
      },
      "cell_type": "markdown",
      "source": "b) <span title=\"A bit spicy\" style=\"color: darkgreen \">🌶️</span> Add parentheses to the following expression so that it evaluates to 0\n\n<small>Questions, like this one, marked with a single pepper are a bit harder than average.</small>"
    },
    {
      "metadata": {
        "collapsed": true,
        "_uuid": "418f91f66943db82459a138bc105bf3e3c71ab16",
        "trusted": false
      },
      "cell_type": "code",
      "source": "8 - 3 * 2 - 1 + 1",
      "execution_count": null,
      "outputs": []
    },
    {
      "metadata": {
        "collapsed": true,
        "_uuid": "d7b6fe559ead6a0b37f123bcf166bb38e7f20961",
        "trusted": false
      },
      "cell_type": "code",
      "source": "#q3.b.hint()",
      "execution_count": null,
      "outputs": []
    },
    {
      "metadata": {
        "collapsed": true,
        "_uuid": "4576fd187e2c891cf22cc5627a4459217986646e",
        "trusted": false
      },
      "cell_type": "code",
      "source": "#q3.b.solution()",
      "execution_count": null,
      "outputs": []
    },
    {
      "metadata": {
        "_uuid": "03d7c2a1b96187e784952db7dd8dfb51dfb89a07"
      },
      "cell_type": "markdown",
      "source": "<hr/>\n## 4. \nAlice, Bob and Carol have agreed to pool their Halloween candy and split it evenly among themselves.\nFor the sake of their friendship, any candies left over will be smashed. For example, if they collectively\nbring home 91 candies, they'll take 30 each and smash 1.\n\nWrite an arithmetic expression below to calculate how many candies they must smash for a given haul."
    },
    {
      "metadata": {
        "collapsed": true,
        "_uuid": "14a85036c0ed40860c716c348d9d8502c8b58ae8",
        "trusted": false
      },
      "cell_type": "code",
      "source": "# Variables representing the number of candies collected by alice, bob, and carol\nalice_candies = 121\nbob_candies = 77\ncarol_candies = 109\n\n# Your code goes here! Replace the right-hand side of this assignment with an expression\n# involving alice_candies, bob_candies, and carol_candies\nto_smash = -1\n\nq4.check()",
      "execution_count": null,
      "outputs": []
    },
    {
      "metadata": {
        "collapsed": true,
        "_uuid": "bb17ab7b95543f6c838b1d3315fde7b8befc6edc",
        "trusted": false
      },
      "cell_type": "code",
      "source": "#q4.hint()\n#q4.solution()",
      "execution_count": null,
      "outputs": []
    },
    {
      "metadata": {
        "_uuid": "e362ad45c3b9ffe505f4d1a4ed9dcc8b569dbbeb"
      },
      "cell_type": "markdown",
      "source": "<hr/>\n## 5. <span title=\"Spicy\" style=\"color: coral\">🌶️🌶️</span>\n\n<small>Questions marked with 2 or more peppers are especially tricky - don't feel bad about having to peek at the solution.</small>\n\nThe code cell below may look like ASCII art, but it's actually a valid Python expression.\nCan you guess its value? Once you've made a prediction, uncomment and run the expression.\n\n<!-- TODO: Maybe a q6.a for them to guess the expression value before running, and have us tell them whether it's right or not? -->"
    },
    {
      "metadata": {
        "collapsed": true,
        "_uuid": "c37741da91d598a1725f10b0c6ef27bd1336d80d",
        "trusted": false
      },
      "cell_type": "code",
      "source": "#7------3",
      "execution_count": null,
      "outputs": []
    },
    {
      "metadata": {
        "_uuid": "162aaa38fd0ee2c4b7c9a335b99cee50317154ad"
      },
      "cell_type": "markdown",
      "source": "What's going on here?\n\nHere's a test of your understanding: how will the value of the expression change as `-`s are added or removed from the middle? Fill in the variable `ninety_nine_dashes` in the code cell below with the value of the above expression if we had used 99 `-` symbols between 7 and 3 ."
    },
    {
      "metadata": {
        "collapsed": true,
        "_uuid": "239821b6106218b962ee0886ea8271e3aac8698e",
        "trusted": false
      },
      "cell_type": "code",
      "source": "#ninety_nine_dashes = \nq5.check()",
      "execution_count": null,
      "outputs": []
    },
    {
      "metadata": {
        "collapsed": true,
        "_uuid": "7971a4c0b9209bc42a98b8a663a17aedef11d5f5",
        "trusted": false
      },
      "cell_type": "code",
      "source": "#q5.hint()\n#q5.solution()",
      "execution_count": null,
      "outputs": []
    },
    {
      "metadata": {
        "_uuid": "1ed2095eb9520bc98edc65cf22427a5bb12aaecf"
      },
      "cell_type": "markdown",
      "source": "<hr/>\n## 6. <span title=\"Spicy\" style=\"color: coral\">🌶️🌶️</span>\n\nThe following is an example of a tricky piece of arithmetic manipulation you might encounter when using Python for visualization.\n\nSuppose we're working with the [QuickDraw dataset](https://www.kaggle.com/google/tinyquickdraw) of doodled sketches and we want to visualize several sketches at once in a grid-like arrangement.\n\nWe'd like to reserve 2x2 inches for each image, and we'd like the whole grid to be no wider than 16 inches.\n\nThe code below almost works. It does the following:\n\n1. Get a random number of sketches from some category (e.g. bears, stars, hockey sticks...)\n2. Create variables `rows`, `cols`, `height`, and `width`, setting them to numbers we pulled out of the air.\n3. Calls `plt.subplots()` using the variables from step 2, which creates a grid with the given characteristics.\n4. Draws the sketches from step 1 in the grid from step 3.\n\nTry running the cell a few times to see it in action."
    },
    {
      "metadata": {
        "collapsed": true,
        "_uuid": "e04ccf3c51962b66fa25374f5178c747f1574a79",
        "trusted": false
      },
      "cell_type": "code",
      "source": "import random\nfrom matplotlib import pyplot as plt\nfrom learntools.python.quickdraw import random_category, sample_images_of_category, draw_images_on_subplots\n\n## Step 1: Sample some sketches\n# How many sketches to view - a random number from 2 to 20\nn = random.randint(2, 20)\n# Choose a random quickdraw category. (Check out https://quickdraw.withgoogle.com/data for an overview of categories)\ncategory = random_category()\nimgs = sample_images_of_category(n, category)\n\n## Step 2: Choose the grid properties\n######## Your changes should go here ###############\nrows = 3\ncols = 5\n# The height and width of the whole grid, measured in inches.\nheight = 5\nwidth = 16\n\n## Step 3: Create the grid\ngrid = plt.subplots(rows, cols, figsize=(width, height))\n\n## Step 4: Draw the sketches in the grid\ndraw_images_on_subplots(imgs, grid)",
      "execution_count": null,
      "outputs": []
    },
    {
      "metadata": {
        "_uuid": "c084037018b83459e37ed33997469b13d4e24c36"
      },
      "cell_type": "markdown",
      "source": "You may have noticed a few problems (with accompanying warning messages printed out):\n\n- We wanted each image to be drawn in a square (with width and height of 2 inches), but they're being drawn inside fat rectangles.\n- Our grid can only fit at most 15 images. If we sample more than that, only the first 15 are shown.\n- If we sample a small number of images, we waste a lot of space.\n\nAll these problems stem from our shoddy approach to step 2 in the code. Instead of using the same grid dimensions every time, they should adapt to the number of images we're showing. For example, if `n = 3`,  we should make a 6\" x 2\" grid with 1 row and 3 columns. If `n = 15`, we should make a 16\" x 4\" grid with 2 rows and 8 columns. (We'll have one empty space in the grid, but that's okay, as long as we don't have whole rows or columns that are empty.)\n\nUpdate the code above to fix the values of `rows`, `cols`, `width`, and `height`, so that our grid adapts to the number of images shown and makes efficient use of space. Run your code a few times to make sure it doesn't generate any warnings.\n\n<small>**Note**: I'm intentionally glossing over the details of steps 1, 3, and 4 of the code. If you're curious about how the functions we imported such as `sample_images_of_category`, or `draw_images_on_subplots` work, you can check out their definitions [here](https://github.com/Kaggle/learntools/blob/master/learntools/python/quickdraw.py). The code uses lots of syntax and data structures that we'll cover later, so if it looks like gibberish to you at this point, don't worry. We will *not* be going into the specifics of data visualization using matplotlib or any other library in this course. But fortunately, we have a [course on Kaggle Learn](https://www.kaggle.com/learn/data-visualisation) on just that topic.</small>"
    },
    {
      "metadata": {
        "collapsed": true,
        "_uuid": "73760e28500c33f8ef7cfa6baf9d24aad8088a5e",
        "trusted": false
      },
      "cell_type": "code",
      "source": "#q6.hint()\n#q6.solution()",
      "execution_count": null,
      "outputs": []
    },
    {
      "metadata": {
        "_uuid": "9c389004c75e8fda782a22260095b367a5593176"
      },
      "cell_type": "markdown",
      "source": "**Bonus**: Can you code this in a way the minimizes the number of empty cells (while obeying the original constraints about 2x2 inches per image and no more than 16\" total width)? For example, a naive solution for `n = 10` might create an 8x2 grid, meaning the bottom row would have only 2 images, and 4 empty spaces. A more clever solution would set `rows = 2`, and `columns = 5`."
    },
    {
      "metadata": {
        "_uuid": "2e43367fc03e703032bf8419b3566637f1d22915"
      },
      "cell_type": "markdown",
      "source": "<hr/>\n## 7. <span title=\"Extra-spicy. Recommended for experienced Pythonistas only\" style=\"color: firebrick\">🌶️🌶️🌶️</span>\n\n<small>Questions marked with 3 peppers are **extra-spicy**, and may be difficult to solve without prior Python experience. They're mostly aimed at experienced Python coders who are taking the Python course as a refresher. If that doesn't describe you, feel free to skip this one.</small>\n\nSuppose we want to create two variables, `a` and `b`, both initialized to 0. The obvious way to do this would be...\n\n```python\na = 0\nb = 0```\n\nBut if you've read a lot of Python code, you may be aware of the following nifty shortcut:\n\n```python\na = b = 0\n```\n\nCan you think of a case where it makes a difference which syntax we use, when initializing two variables to the same value?"
    },
    {
      "metadata": {
        "collapsed": true,
        "_uuid": "c8a7946a647ef55ac7640e01b83d3c0bd081794e",
        "trusted": false
      },
      "cell_type": "code",
      "source": "#q7.hint()\n#q7.solution()",
      "execution_count": null,
      "outputs": []
    },
    {
      "metadata": {
        "_uuid": "f909e81565192ef385edb74de4b9a27dd90282cc"
      },
      "cell_type": "markdown",
      "source": "If you have any questions, be sure to post them on the [forums](https://www.kaggle.com/learn-forum).\n\nRemember that your notebook is private by default, and in order to share it with other people or ask for help with it, you'll need to make it public. First, you'll need to save a version of your notebook that shows your current work by hitting the \"Commit & Run\" button. (Your work is saved automatically, but versioning your work lets you go back and look at what it was like at the point you saved it. It also let's you share a nice compiled notebook instead of just the raw code.) Then, once your notebook is finished running, you can go to the Settings tab in the panel to the left (you may have to expand it by hitting the [<] button next to the \"Commit & Run\" button) and setting the \"Visibility\" dropdown to \"Public\".\n\n# Keep Going\n\nWhen you're ready to continue, [click here](https://www.kaggle.com/colinmorris/functions-and-getting-help) to continue on to the next tutorial on functions and getting help."
    }
  ],
  "metadata": {
    "kernelspec": {
      "display_name": "Python 3",
      "language": "python",
      "name": "python3"
    },
    "language_info": {
      "name": "python",
      "version": "3.6.6",
      "mimetype": "text/x-python",
      "codemirror_mode": {
        "name": "ipython",
        "version": 3
      },
      "pygments_lexer": "ipython3",
      "nbconvert_exporter": "python",
      "file_extension": ".py"
    },
    "learntools_metadata": {
      "lesson_index": 0,
      "type": "exercise"
    }
  },
  "nbformat": 4,
  "nbformat_minor": 1
}