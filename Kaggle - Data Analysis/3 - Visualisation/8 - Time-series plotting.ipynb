{
  "cells": [
    {
      "metadata": {
        "_cell_guid": "a41f0e3c-5f7e-4d47-84b2-1c3226701b99",
        "_uuid": "9d13d390ecefc95572c609f8e05193644d8b1a72"
      },
      "cell_type": "markdown",
      "source": "# Time-series plotting (Optional)\n\nIn all of the sections thus far our visualizations have focused on and used numeric variables: either categorical variables, which fall into a set of buckets, or interval variables, which fall into an interval of values. In this notebook we will explore another type of variable: a time-series variable."
    },
    {
      "metadata": {
        "_cell_guid": "e5aacaf7-9dc0-4e05-ba27-20190c35c4a6",
        "_uuid": "45c6d293428c51092829d0fe6b1c079561d631fd",
        "collapsed": true,
        "trusted": true
      },
      "cell_type": "code",
      "source": "import pandas as pd\npd.set_option('max_columns', None)\nimport numpy as np",
      "execution_count": 7,
      "outputs": []
    },
    {
      "metadata": {
        "_cell_guid": "2cd93e60-8823-45c2-a37c-341bb1443126",
        "_uuid": "67f376be10065f6c0c923c951d2b224ca2f1f575"
      },
      "cell_type": "markdown",
      "source": "## Types of time series variables\n\nTime-series variables are populated by values which are specific to a point in time. Time is linear and infinitely fine-grained, so really time-series values are a kind of special case of interval variables.\n\nDates can show up in your dataset in a few different ways. We'll examine the two most common ways in this notebook.\n\nIn the \"strong case\" dates act as an explicit index on your dataset. A good example is the following dataset on stock prices:"
    },
    {
      "metadata": {
        "_cell_guid": "b1076dfc-b9ad-4769-8c92-a6c4dae69d19",
        "_uuid": "8f2839f25d086af736a60e9eeb907d3b93b6e0e5",
        "trusted": true
      },
      "cell_type": "code",
      "source": "stocks = pd.read_csv(\"../input/nyse/prices.csv\", parse_dates=['date'])\nstocks = stocks[stocks['symbol'] == \"GOOG\"].set_index('date')\nstocks.head()",
      "execution_count": 8,
      "outputs": [
        {
          "output_type": "execute_result",
          "execution_count": 8,
          "data": {
            "text/plain": "           symbol        open       close         low        high      volume\ndate                                                                         \n2010-01-04   GOOG  626.951088  626.751061  624.241073  629.511067   3927000.0\n2010-01-05   GOOG  627.181073  623.991055  621.541045  627.841071   6031900.0\n2010-01-06   GOOG  625.861078  608.261023  606.361042  625.861078   7987100.0\n2010-01-07   GOOG  609.401025  594.101005  592.651008  610.001045  12876600.0\n2010-01-08   GOOG  592.000997  602.021036  589.110988  603.251034   9483900.0",
            "text/html": "<div>\n<style scoped>\n    .dataframe tbody tr th:only-of-type {\n        vertical-align: middle;\n    }\n\n    .dataframe tbody tr th {\n        vertical-align: top;\n    }\n\n    .dataframe thead th {\n        text-align: right;\n    }\n</style>\n<table border=\"1\" class=\"dataframe\">\n  <thead>\n    <tr style=\"text-align: right;\">\n      <th></th>\n      <th>symbol</th>\n      <th>open</th>\n      <th>close</th>\n      <th>low</th>\n      <th>high</th>\n      <th>volume</th>\n    </tr>\n    <tr>\n      <th>date</th>\n      <th></th>\n      <th></th>\n      <th></th>\n      <th></th>\n      <th></th>\n      <th></th>\n    </tr>\n  </thead>\n  <tbody>\n    <tr>\n      <th>2010-01-04</th>\n      <td>GOOG</td>\n      <td>626.951088</td>\n      <td>626.751061</td>\n      <td>624.241073</td>\n      <td>629.511067</td>\n      <td>3927000.0</td>\n    </tr>\n    <tr>\n      <th>2010-01-05</th>\n      <td>GOOG</td>\n      <td>627.181073</td>\n      <td>623.991055</td>\n      <td>621.541045</td>\n      <td>627.841071</td>\n      <td>6031900.0</td>\n    </tr>\n    <tr>\n      <th>2010-01-06</th>\n      <td>GOOG</td>\n      <td>625.861078</td>\n      <td>608.261023</td>\n      <td>606.361042</td>\n      <td>625.861078</td>\n      <td>7987100.0</td>\n    </tr>\n    <tr>\n      <th>2010-01-07</th>\n      <td>GOOG</td>\n      <td>609.401025</td>\n      <td>594.101005</td>\n      <td>592.651008</td>\n      <td>610.001045</td>\n      <td>12876600.0</td>\n    </tr>\n    <tr>\n      <th>2010-01-08</th>\n      <td>GOOG</td>\n      <td>592.000997</td>\n      <td>602.021036</td>\n      <td>589.110988</td>\n      <td>603.251034</td>\n      <td>9483900.0</td>\n    </tr>\n  </tbody>\n</table>\n</div>"
          },
          "metadata": {}
        }
      ]
    },
    {
      "metadata": {
        "_cell_guid": "de9ce09c-5222-421e-b117-50be3f38b99d",
        "_uuid": "3204297dcbb44b24f0e1072eb036c734af660063"
      },
      "cell_type": "markdown",
      "source": "This dataset which is indexed by the date: the data being collected is being collected in the \"period\" of a day. The values in the record provide information about that stock within that period.\n\nFor daily data like this using a date like this is convenient. But a period can technically be for any length of time. `pandas` provides a whole dedicated type, the `pandas.Period` `dtype` (documented [here](https://pandas.pydata.org/pandas-docs/stable/generated/pandas.Period.html)), for this concept.\n\nIn the \"weak case\", dates act as timestamps: they tell us something about when an observation occurred. For example, in the following dataset of animal shelter outcomes, there are two columns, `datetime` and `date_of_birth`, which describe facts about the animal in the observation."
    },
    {
      "metadata": {
        "_cell_guid": "480062a0-9139-4ed7-b8a4-282f3282224c",
        "_uuid": "8413036de99600f8e5b252205c2832fbc2395fde",
        "trusted": true
      },
      "cell_type": "code",
      "source": "shelter_outcomes = pd.read_csv(\n    \"../input/austin-animal-center-shelter-outcomes-and/aac_shelter_outcomes.csv\", \n    parse_dates=['date_of_birth', 'datetime']\n)\nshelter_outcomes = shelter_outcomes[\n    ['outcome_type', 'age_upon_outcome', 'datetime', 'animal_type', 'breed', \n     'color', 'sex_upon_outcome', 'date_of_birth']\n]\nshelter_outcomes.head()",
      "execution_count": 4,
      "outputs": [
        {
          "output_type": "execute_result",
          "execution_count": 4,
          "data": {
            "text/plain": "  outcome_type age_upon_outcome            datetime animal_type  \\\n0     Transfer          2 weeks 2014-07-22 16:04:00         Cat   \n1     Transfer           1 year 2013-11-07 11:47:00         Dog   \n2     Adoption           1 year 2014-06-03 14:20:00         Dog   \n3     Transfer          9 years 2014-06-15 15:50:00         Dog   \n4   Euthanasia         5 months 2014-07-07 14:04:00       Other   \n\n                     breed         color sex_upon_outcome date_of_birth  \n0   Domestic Shorthair Mix  Orange Tabby      Intact Male    2014-07-07  \n1               Beagle Mix   White/Brown    Spayed Female    2012-11-06  \n2                 Pit Bull    Blue/White    Neutered Male    2013-03-31  \n3  Miniature Schnauzer Mix         White    Neutered Male    2005-06-02  \n4                  Bat Mix         Brown          Unknown    2014-01-07  ",
            "text/html": "<div>\n<style scoped>\n    .dataframe tbody tr th:only-of-type {\n        vertical-align: middle;\n    }\n\n    .dataframe tbody tr th {\n        vertical-align: top;\n    }\n\n    .dataframe thead th {\n        text-align: right;\n    }\n</style>\n<table border=\"1\" class=\"dataframe\">\n  <thead>\n    <tr style=\"text-align: right;\">\n      <th></th>\n      <th>outcome_type</th>\n      <th>age_upon_outcome</th>\n      <th>datetime</th>\n      <th>animal_type</th>\n      <th>breed</th>\n      <th>color</th>\n      <th>sex_upon_outcome</th>\n      <th>date_of_birth</th>\n    </tr>\n  </thead>\n  <tbody>\n    <tr>\n      <th>0</th>\n      <td>Transfer</td>\n      <td>2 weeks</td>\n      <td>2014-07-22 16:04:00</td>\n      <td>Cat</td>\n      <td>Domestic Shorthair Mix</td>\n      <td>Orange Tabby</td>\n      <td>Intact Male</td>\n      <td>2014-07-07</td>\n    </tr>\n    <tr>\n      <th>1</th>\n      <td>Transfer</td>\n      <td>1 year</td>\n      <td>2013-11-07 11:47:00</td>\n      <td>Dog</td>\n      <td>Beagle Mix</td>\n      <td>White/Brown</td>\n      <td>Spayed Female</td>\n      <td>2012-11-06</td>\n    </tr>\n    <tr>\n      <th>2</th>\n      <td>Adoption</td>\n      <td>1 year</td>\n      <td>2014-06-03 14:20:00</td>\n      <td>Dog</td>\n      <td>Pit Bull</td>\n      <td>Blue/White</td>\n      <td>Neutered Male</td>\n      <td>2013-03-31</td>\n    </tr>\n    <tr>\n      <th>3</th>\n      <td>Transfer</td>\n      <td>9 years</td>\n      <td>2014-06-15 15:50:00</td>\n      <td>Dog</td>\n      <td>Miniature Schnauzer Mix</td>\n      <td>White</td>\n      <td>Neutered Male</td>\n      <td>2005-06-02</td>\n    </tr>\n    <tr>\n      <th>4</th>\n      <td>Euthanasia</td>\n      <td>5 months</td>\n      <td>2014-07-07 14:04:00</td>\n      <td>Other</td>\n      <td>Bat Mix</td>\n      <td>Brown</td>\n      <td>Unknown</td>\n      <td>2014-01-07</td>\n    </tr>\n  </tbody>\n</table>\n</div>"
          },
          "metadata": {}
        }
      ]
    },
    {
      "metadata": {
        "_cell_guid": "b1c880ea-132c-41d0-833c-07e631a53515",
        "_uuid": "f6c0ca990174542e3a1c5dcf182b25ef34648bfc"
      },
      "cell_type": "markdown",
      "source": "To put this another way, the stock data is aggregated over a certain period of time, so changing the time significantly changes the data. In the animal outcomes case, information is \"record-level\"; the dates are descriptive facts and it doesn't make sense to change them."
    },
    {
      "metadata": {
        "_cell_guid": "79c7e3d0-c299-4dcb-8224-4455121ee9b0",
        "_uuid": "d629ff2d2480ee46fbb7e2d37f6b5fab8052498a"
      },
      "cell_type": "markdown",
      "source": "## Visualizing by grouping\n\nI said earlier that time is a \"special case\" of an interval variable. Does that mean that we can use the tools and techniques familiar to us from earlier sections with time series data as well? Of course!\n\nFor example, here's a line plot visualizing which birth dates are the most common in the dataset."
    },
    {
      "metadata": {
        "_cell_guid": "e7df7af0-9298-4be1-96b4-68a23ed0c5de",
        "_uuid": "bcff94700b1dfd32095b441240f56a4eebdab370",
        "trusted": false,
        "collapsed": true
      },
      "cell_type": "code",
      "source": "shelter_outcomes['date_of_birth'].value_counts().sort_values().plot.line()",
      "execution_count": 4,
      "outputs": []
    },
    {
      "metadata": {
        "_cell_guid": "8cb084b3-1bb1-4274-b2ac-0dc9c240823d",
        "_uuid": "598b69bd7d6a7398a867914ebe285198d3144dff"
      },
      "cell_type": "markdown",
      "source": "It looks like birth dates for the animals in the dataset peak at around 2015, but it's hard to tell for sure because the data is rather noisy.\n\nCurrently the data is by day, but what if we globbed all the dates together into years? This is known as **resampling**. We can do this to tweak the dataset, generating a result that's aggregated by year. The method for doing this in `pandas`, `resample`, is pretty simple. There are lots of potential resampling options: we'll use `Y`, which is short for \"year\"."
    },
    {
      "metadata": {
        "_cell_guid": "5383d369-d1c6-4420-9da2-8b5bd5639a03",
        "_uuid": "d7e7d93eeee4b9db4ff283b2f486805849f8d37f",
        "trusted": false,
        "collapsed": true
      },
      "cell_type": "code",
      "source": "shelter_outcomes['date_of_birth'].value_counts().resample('Y').sum().plot.line()",
      "execution_count": 5,
      "outputs": []
    },
    {
      "metadata": {
        "_cell_guid": "e18309b3-cd73-4f2c-b36b-62c702f016cd",
        "_uuid": "b59bed121cdc0e3c7e28ffd510d24aed6dbb2ef1"
      },
      "cell_type": "markdown",
      "source": "Much clearer! It looks like, actually, 2014 and 2015 have an almost equal presence in the dataset.\n\nThis demonstrates the data visualization benefit of resampling: by choosing certain periods you can more clearly visualize certain aspects of the dataset.\n\nNotice that `pandas` is automatically adapting the labels on the x-axis to match our output type. This is because `pandas` is \"datetime-aware\"; it knows that when we have data points spaced out one year apart from one another, we only want to see the years in the labels, and nothing else!\n\nUsually the value of time-series data is exposed through this sort of grouping. For example, here's a similar simple bar chart which looks at the trade volume of the `GOOG` stock:"
    },
    {
      "metadata": {
        "_cell_guid": "05e58523-495d-4bb0-9f9d-43475c8b4454",
        "_uuid": "e6d4d3e00b7ec4ffba0dcc8d0825e7635f715ab0",
        "trusted": false,
        "collapsed": true
      },
      "cell_type": "code",
      "source": "stocks['volume'].resample('Y').mean().plot.bar()",
      "execution_count": 6,
      "outputs": []
    },
    {
      "metadata": {
        "_cell_guid": "5eeed0b4-901f-4193-8020-f98190a96589",
        "_uuid": "a04fe337cd1833293026be651944eaca23d3cdd7"
      },
      "cell_type": "markdown",
      "source": "Most of the \"new stuff\" to using dates in your visualization comes down to a handful of new data processing techniques. Because timestampls are \"just\" interval variables, understanding date-time data don't require any newfangled visualization techniques!"
    },
    {
      "metadata": {
        "_cell_guid": "35109596-8879-4462-b0db-e535bca4ad64",
        "_uuid": "bb78786dd634fb34fa3193a4fc0ec8b4fe7cd600"
      },
      "cell_type": "markdown",
      "source": "## Some new plot types\n\n### Lag plot\n\nOne of these plot types is the lag plot. A lag plot compares data points from each observation in the dataset against data points from a previous observation. So for example, data from December 21st will be compared with data from December 20th, which will in turn be compared with data from December 19th, and so on. For example, here is what we see when we apply a lag plot to the volume (number of trades conducted) in the stock data:"
    },
    {
      "metadata": {
        "_cell_guid": "5d7b667e-397c-4b9c-9315-b750fc77da48",
        "_uuid": "809e90a80a04b7952e62d7b160cefa0d0ebb1e30",
        "trusted": false,
        "collapsed": true
      },
      "cell_type": "code",
      "source": "from pandas.plotting import lag_plot\n\nlag_plot(stocks['volume'].sample(250))",
      "execution_count": 7,
      "outputs": []
    },
    {
      "metadata": {
        "_cell_guid": "f8109eca-cfd1-4458-954a-97c8d83b188e",
        "_uuid": "52754fae07f0818ed138effe55062c9b06655a8e"
      },
      "cell_type": "markdown",
      "source": "It looks like days when volume is high are only very loosely correlated with one another. In other words, a day of frantic trading does not necessarily signal that the next day will also involve frantic trading. In fact, there seem to be quite a few days of *extremely* high trading activity which stand out all alone!\n\nTime-series data tends to exhibit a behavior called **periodicity**: rises and peaks in the data that are correlated with time. For example, a gym would likely see an increase in attendance at the end of every workday, hence exhibiting a periodicity of a day. A bar would likely see a bump in sales on Friday, exhibiting periodicity over the course of a week. And so on.\n\nLag plots are extremely useful because they are a simple way of checking datasets for this kind of periodicity.\n\nNote that they only work on \"strong case\" timeseries data.\n\n### Autocorrelation plot\n\nA plot type that takes this concept and goes even further with it is the autocorrelation plot. The autocorrelation plot is a multivariate summarization-type plot that lets you check *every* periodicity at the same time. It does this by computing a summary statistic&mdash;the correlation score&mdash;across every possible lag in the dataset. This is known as autocorrelation.\n\nIn an autocorrelation plot the lag is on the x-axis and the autocorrelation score is on the y-axis. The farther away the autocorrelation is from 0, the greater the influence that records that far away from each other exert on one another.\n\nHere is what an autocorrelation plot looks like when applied to the stock volume data:"
    },
    {
      "metadata": {
        "_cell_guid": "dd0568b1-61e6-4c6d-8eac-bd7807ee1656",
        "_uuid": "5b2cd1f577a942bfe2934e6cd41fecda64894de4",
        "trusted": false,
        "collapsed": true
      },
      "cell_type": "code",
      "source": "from pandas.plotting import autocorrelation_plot\n\nautocorrelation_plot(stocks['volume'])",
      "execution_count": 8,
      "outputs": []
    },
    {
      "metadata": {
        "_cell_guid": "41dfb13c-1304-4c5c-b5a0-02543dea4d09",
        "_uuid": "9a2b226b143dca2a563ffd082d504aa3810cc625"
      },
      "cell_type": "markdown",
      "source": "It seems like the volume of trading activity is weakly descendingly correlated with trading volume from the year prior. There aren't any significant non-random peaks in the dataset, so this is good evidence that there isn't much of a time-series pattern to the volume of trade activity over time.\n\nOf course, in this short optional section we're only scratching the surface of what you can do with do with time-series data. There's an entire literature around how to work with time-series variables that we are not discussing here. But these are the basics, and hopefully enough to get you started analyzing your own time-dependent data!"
    },
    {
      "metadata": {
        "_cell_guid": "ad915ea3-f49e-4d61-ba13-299b2db2bc32",
        "_uuid": "18e8808480cd41584df7a71605568a9162089235"
      },
      "cell_type": "markdown",
      "source": "## Exercises\n"
    },
    {
      "metadata": {
        "trusted": true,
        "_uuid": "ed1edc54b7a8d500e296e1bb767d167d9fea7e0c",
        "scrolled": true
      },
      "cell_type": "code",
      "source": "import pandas as pd\n\ncrypto = pd.read_csv(\"../input/all-crypto-currencies/crypto-markets.csv\")\ncrypto = crypto[crypto['name'] == 'Bitcoin']\ncrypto['date'] = pd.to_datetime(crypto['date'])\ncrypto.head()",
      "execution_count": 1,
      "outputs": [
        {
          "output_type": "execute_result",
          "execution_count": 1,
          "data": {
            "text/plain": "      slug symbol     name       date  ranknow    open    high     low  \\\n0  bitcoin    BTC  Bitcoin 2013-04-28        1  135.30  135.98  132.10   \n1  bitcoin    BTC  Bitcoin 2013-04-29        1  134.44  147.49  134.00   \n2  bitcoin    BTC  Bitcoin 2013-04-30        1  144.00  146.93  134.05   \n3  bitcoin    BTC  Bitcoin 2013-05-01        1  139.00  139.89  107.72   \n4  bitcoin    BTC  Bitcoin 2013-05-02        1  116.38  125.60   92.28   \n\n    close  volume        market  close_ratio  spread  \n0  134.21     0.0  1.500520e+09       0.5438    3.88  \n1  144.54     0.0  1.491160e+09       0.7813   13.49  \n2  139.00     0.0  1.597780e+09       0.3843   12.88  \n3  116.99     0.0  1.542820e+09       0.2882   32.17  \n4  105.21     0.0  1.292190e+09       0.3881   33.32  ",
            "text/html": "<div>\n<style scoped>\n    .dataframe tbody tr th:only-of-type {\n        vertical-align: middle;\n    }\n\n    .dataframe tbody tr th {\n        vertical-align: top;\n    }\n\n    .dataframe thead th {\n        text-align: right;\n    }\n</style>\n<table border=\"1\" class=\"dataframe\">\n  <thead>\n    <tr style=\"text-align: right;\">\n      <th></th>\n      <th>slug</th>\n      <th>symbol</th>\n      <th>name</th>\n      <th>date</th>\n      <th>ranknow</th>\n      <th>open</th>\n      <th>high</th>\n      <th>low</th>\n      <th>close</th>\n      <th>volume</th>\n      <th>market</th>\n      <th>close_ratio</th>\n      <th>spread</th>\n    </tr>\n  </thead>\n  <tbody>\n    <tr>\n      <th>0</th>\n      <td>bitcoin</td>\n      <td>BTC</td>\n      <td>Bitcoin</td>\n      <td>2013-04-28</td>\n      <td>1</td>\n      <td>135.30</td>\n      <td>135.98</td>\n      <td>132.10</td>\n      <td>134.21</td>\n      <td>0.0</td>\n      <td>1.500520e+09</td>\n      <td>0.5438</td>\n      <td>3.88</td>\n    </tr>\n    <tr>\n      <th>1</th>\n      <td>bitcoin</td>\n      <td>BTC</td>\n      <td>Bitcoin</td>\n      <td>2013-04-29</td>\n      <td>1</td>\n      <td>134.44</td>\n      <td>147.49</td>\n      <td>134.00</td>\n      <td>144.54</td>\n      <td>0.0</td>\n      <td>1.491160e+09</td>\n      <td>0.7813</td>\n      <td>13.49</td>\n    </tr>\n    <tr>\n      <th>2</th>\n      <td>bitcoin</td>\n      <td>BTC</td>\n      <td>Bitcoin</td>\n      <td>2013-04-30</td>\n      <td>1</td>\n      <td>144.00</td>\n      <td>146.93</td>\n      <td>134.05</td>\n      <td>139.00</td>\n      <td>0.0</td>\n      <td>1.597780e+09</td>\n      <td>0.3843</td>\n      <td>12.88</td>\n    </tr>\n    <tr>\n      <th>3</th>\n      <td>bitcoin</td>\n      <td>BTC</td>\n      <td>Bitcoin</td>\n      <td>2013-05-01</td>\n      <td>1</td>\n      <td>139.00</td>\n      <td>139.89</td>\n      <td>107.72</td>\n      <td>116.99</td>\n      <td>0.0</td>\n      <td>1.542820e+09</td>\n      <td>0.2882</td>\n      <td>32.17</td>\n    </tr>\n    <tr>\n      <th>4</th>\n      <td>bitcoin</td>\n      <td>BTC</td>\n      <td>Bitcoin</td>\n      <td>2013-05-02</td>\n      <td>1</td>\n      <td>116.38</td>\n      <td>125.60</td>\n      <td>92.28</td>\n      <td>105.21</td>\n      <td>0.0</td>\n      <td>1.292190e+09</td>\n      <td>0.3881</td>\n      <td>33.32</td>\n    </tr>\n  </tbody>\n</table>\n</div>"
          },
          "metadata": {}
        }
      ]
    },
    {
      "metadata": {
        "_uuid": "5b2134c9def6fef40d040cabd38ce3c9d14310d8"
      },
      "cell_type": "markdown",
      "source": "Try answering the following questions. Click the \"Output\" button on the cell below to see the answers.\n\n* Time-series variables are really a special case of what other type of variable?\n* Why is resampling useful in a data visualization context?\n* What is lag? What is autocorrelation?"
    },
    {
      "metadata": {
        "_cell_guid": "fe8fe962-93d2-4707-96f5-317e600540f3",
        "_uuid": "a239889bca63744b2f93d0187d901723f3743e19",
        "trusted": true,
        "_kg_hide-input": true,
        "_kg_hide-output": true
      },
      "cell_type": "code",
      "source": "from IPython.display import HTML\n\nHTML(\"\"\"\n<ol>\n<li>Time-series data is really a special case of interval data.</li>\n<br/>\n<li>Resampling is often useful in data visualization because it can help clean up and denoise our plots by aggregating on a different level.</li>\n<br/>\n<li>Lag is the time-difference for each observation in the dataset. Autocorrelation is correlation applied to lag.</li>\n</ol>\n\"\"\")",
      "execution_count": 2,
      "outputs": [
        {
          "output_type": "execute_result",
          "execution_count": 2,
          "data": {
            "text/plain": "<IPython.core.display.HTML object>",
            "text/html": "\n<ol>\n<li>Time-series data is really a special case of interval data.</li>\n<br/>\n<li>Resampling is often useful in data visualization because it can help clean up and denoise our plots by aggregating on a different level.</li>\n<br/>\n<li>Lag is the time-difference for each observation in the dataset. Autocorrelation is correlation applied to lag.</li>\n</ol>\n"
          },
          "metadata": {}
        }
      ]
    },
    {
      "metadata": {
        "_cell_guid": "c039f245-500e-4567-9df0-06428062eeb1",
        "_uuid": "74022b8bdf52b8feebd65bdf18d90a26dfe86c99",
        "collapsed": true
      },
      "cell_type": "markdown",
      "source": "For the exercises that follow, try forking this notebook and replicating the plots that follow. To see the answers, hit the \"Input\" button below to un-hide the code."
    },
    {
      "metadata": {
        "_uuid": "04cb9fcaeab5662b72234b934931aae57637971e"
      },
      "cell_type": "markdown",
      "source": "A line chart depicting the `datetime` column in `shelter_outcomes` aggregated by year."
    },
    {
      "metadata": {
        "_kg_hide-input": true,
        "trusted": true,
        "_uuid": "676718470793951c13eaf953b31df44ea0f60e3a"
      },
      "cell_type": "code",
      "source": "shelter_outcomes['datetime'].value_counts().resample('Y').count().plot.line()",
      "execution_count": 5,
      "outputs": [
        {
          "output_type": "execute_result",
          "execution_count": 5,
          "data": {
            "text/plain": "<matplotlib.axes._subplots.AxesSubplot at 0x7f79343324e0>"
          },
          "metadata": {}
        },
        {
          "output_type": "display_data",
          "data": {
            "text/plain": "<matplotlib.figure.Figure at 0x7f79348f2160>",
            "image/png": "[encoded data removed]"
          },
          "metadata": {}
        }
      ]
    },
    {
      "metadata": {
        "_uuid": "c8b6eed16a715fe77623f6868ec024b2751c4024"
      },
      "cell_type": "markdown",
      "source": "A lag plot of cryptocurrency (`crypto`) trading `volume`."
    },
    {
      "metadata": {
        "_cell_guid": "d65494d2-b903-4646-ae3d-afe5cb4625f0",
        "_kg_hide-input": true,
        "_uuid": "a73570195db226eeec3a4be0efcc74c8d96e3948",
        "trusted": true
      },
      "cell_type": "code",
      "source": "from pandas.plotting import lag_plot\n\nlag_plot(crypto['volume'].sample(250))",
      "execution_count": 9,
      "outputs": [
        {
          "output_type": "execute_result",
          "execution_count": 9,
          "data": {
            "text/plain": "<matplotlib.axes._subplots.AxesSubplot at 0x7f7927afd668>"
          },
          "metadata": {}
        },
        {
          "output_type": "display_data",
          "data": {
            "text/plain": "<matplotlib.figure.Figure at 0x7f7927a02b00>",
            "image/png": "[encoded data removed]"
          },
          "metadata": {}
        }
      ]
    },
    {
      "metadata": {
        "_uuid": "5c45ebfe4c37ca505f372f1e307db53a65e82e40"
      },
      "cell_type": "markdown",
      "source": "An autocorrelation plot of cryptocurrency (`crypto`) trading `volume`."
    },
    {
      "metadata": {
        "_cell_guid": "cc8d2ec4-1a08-46fa-a317-69bfe40bc771",
        "_kg_hide-input": true,
        "_uuid": "4cedaa1a7a157771ab7d03548103f0f3cf1bdd35",
        "trusted": true
      },
      "cell_type": "code",
      "source": "from pandas.plotting import autocorrelation_plot\n\nautocorrelation_plot(crypto['volume'])",
      "execution_count": 11,
      "outputs": [
        {
          "output_type": "execute_result",
          "execution_count": 11,
          "data": {
            "text/plain": "<matplotlib.axes._subplots.AxesSubplot at 0x7f792776ee80>"
          },
          "metadata": {}
        },
        {
          "output_type": "display_data",
          "data": {
            "text/plain": "<matplotlib.figure.Figure at 0x7f792777c978>",
            "image/png": "[encoded data removed]"
          },
          "metadata": {}
        }
      ]
    }
  ],
  "metadata": {
    "kernelspec": {
      "display_name": "Python 3",
      "language": "python",
      "name": "python3"
    },
    "language_info": {
      "name": "python",
      "version": "3.6.4",
      "mimetype": "text/x-python",
      "codemirror_mode": {
        "name": "ipython",
        "version": 3
      },
      "pygments_lexer": "ipython3",
      "nbconvert_exporter": "python",
      "file_extension": ".py"
    }
  },
  "nbformat": 4,
  "nbformat_minor": 1
}