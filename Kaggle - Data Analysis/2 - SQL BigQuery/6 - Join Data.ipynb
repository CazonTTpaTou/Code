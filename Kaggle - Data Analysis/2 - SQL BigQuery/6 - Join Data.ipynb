{
  "cells": [
    {
      "metadata": {
        "_uuid": "1a4e4095d0aa8db597c7aab221dca56752f7a39b",
        "_cell_guid": "983b79b8-acd6-47dc-8529-d38d9924060b"
      },
      "cell_type": "markdown",
      "source": "# Get Started\n\nAfter forking this notebook, run the code in the following cell:"
    },
    {
      "metadata": {
        "_uuid": "f6ef073f89558eeb5d421de99c8f11b77ff029c0",
        "_cell_guid": "ab390d70-9f13-4f77-9455-04d09950e9fb",
        "collapsed": true,
        "trusted": true
      },
      "cell_type": "code",
      "source": "# import package with helper functions \nimport bq_helper\n\n# create a helper object for this dataset\ngithub = bq_helper.BigQueryHelper(active_project=\"bigquery-public-data\",\n                                              dataset_name=\"github_repos\")",
      "execution_count": 2,
      "outputs": []
    },
    {
      "metadata": {
        "_uuid": "3c099edebc77b1060333faab526e73dc61f81cf5",
        "_cell_guid": "9c2f7693-1a28-4b4f-9389-6900abdede1a"
      },
      "cell_type": "markdown",
      "source": "Then write the code to answer the question below"
    },
    {
      "metadata": {
        "_cell_guid": "b1076dfc-b9ad-4769-8c92-a6c4dae69d19",
        "_uuid": "8f2839f25d086af736a60e9eeb907d3b93b6e0e5"
      },
      "cell_type": "markdown",
      "source": "# Question\n\n#### 1)  How many commits (recorded in the \"sample_commits\" table) have been made in repos written in the Python programming language? (I'm looking for the number of commits per repo for all the repos written in Python.\n* You'll want to JOIN the sample_files and sample_commits questions to answer this.\n* **Hint:** You can figure out which files are written in Python by filtering results from the \"sample_files\" table using `WHERE path LIKE '%.py'`. This will return results where the \"path\" column ends in the text \".py\", which is one way to identify which files have Python code."
    },
    {
      "metadata": {
        "_cell_guid": "79c7e3d0-c299-4dcb-8224-4455121ee9b0",
        "_uuid": "d629ff2d2480ee46fbb7e2d37f6b5fab8052498a",
        "trusted": true
      },
      "cell_type": "code",
      "source": "query = (\"\"\"\n        SELECT COUNT(*) AS number_of_commits\n        FROM `bigquery-public-data.github_repos.sample_files` as sf\n        INNER JOIN `bigquery-public-data.github_repos.sample_commits` as L \n            ON sf.repo_name = L.repo_name -- what columns should we join on?\n        WHERE sf.path LIKE '%.py'     \n        \"\"\")\n\nnumber_commit = github.query_to_pandas_safe(query, max_gb_scanned=6)\nnumber_commit \n",
      "execution_count": 6,
      "outputs": [
        {
          "output_type": "execute_result",
          "execution_count": 6,
          "data": {
            "text/plain": "   number_of_commits\n0           31695737",
            "text/html": "<div>\n<style scoped>\n    .dataframe tbody tr th:only-of-type {\n        vertical-align: middle;\n    }\n\n    .dataframe tbody tr th {\n        vertical-align: top;\n    }\n\n    .dataframe thead th {\n        text-align: right;\n    }\n</style>\n<table border=\"1\" class=\"dataframe\">\n  <thead>\n    <tr style=\"text-align: right;\">\n      <th></th>\n      <th>number_of_commits</th>\n    </tr>\n  </thead>\n  <tbody>\n    <tr>\n      <th>0</th>\n      <td>31695737</td>\n    </tr>\n  </tbody>\n</table>\n</div>"
          },
          "metadata": {}
        }
      ]
    },
    {
      "metadata": {
        "_cell_guid": "7a5d8c3b-86d6-4c5c-bdd1-7df1bc96a0bd",
        "_uuid": "71bf031898b72c4fe1b1e8f66581b3fa135de12d"
      },
      "cell_type": "markdown",
      "source": "# Feedback\nBring any questions or feedback to the [Learn Discussion Forum](kaggle.com/learn-forum).\n\n# Congratulations\nBy now, you know all the key components to use BigQuery and SQL effectively.\n\nWant to go play with your new powers?  Kaggle has BigQuery datasets available [here](https://www.kaggle.com/datasets?filetype=bigQuery)."
    }
  ],
  "metadata": {
    "language_info": {
      "name": "python",
      "version": "3.6.5",
      "mimetype": "text/x-python",
      "codemirror_mode": {
        "name": "ipython",
        "version": 3
      },
      "pygments_lexer": "ipython3",
      "nbconvert_exporter": "python",
      "file_extension": ".py"
    },
    "kernelspec": {
      "display_name": "Python 3",
      "language": "python",
      "name": "python3"
    }
  },
  "nbformat": 4,
  "nbformat_minor": 1
}