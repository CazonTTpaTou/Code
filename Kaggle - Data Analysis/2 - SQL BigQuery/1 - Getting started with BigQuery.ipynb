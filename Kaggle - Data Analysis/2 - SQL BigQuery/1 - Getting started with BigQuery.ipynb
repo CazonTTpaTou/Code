{
  "cells": [
    {
      "metadata": {
        "_uuid": "8f2839f25d086af736a60e9eeb907d3b93b6e0e5",
        "_cell_guid": "b1076dfc-b9ad-4769-8c92-a6c4dae69d19",
        "trusted": true
      },
      "cell_type": "code",
      "source": "# This Python 3 environment comes with many helpful analytics libraries installed\n# It is defined by the kaggle/python docker image: https://github.com/kaggle/docker-python\n# For example, here's several helpful packages to load in \n\nimport numpy as np # linear algebra\nimport pandas as pd # data processing, CSV file I/O (e.g. pd.read_csv)\nimport bq_helper\n\n# Input data files are available in the \"../input/\" directory.\n# For example, running this (by clicking run or pressing Shift+Enter) will list the files in the input directory\n\nimport os\nprint(os.listdir(\"../input\"))\n\n# Any results you write to the current directory are saved as output.",
      "execution_count": 1,
      "outputs": [
        {
          "output_type": "stream",
          "text": "[]\n",
          "name": "stdout"
        }
      ]
    },
    {
      "metadata": {
        "trusted": true,
        "collapsed": true,
        "_uuid": "2b4cf09b13b6bd98b90886e6e7d3a0eb328d6062"
      },
      "cell_type": "code",
      "source": "# create a helper object for our bigquery dataset\nhacker_news = bq_helper.BigQueryHelper(active_project= \"bigquery-public-data\", \n                                       dataset_name = \"hacker_news\")",
      "execution_count": 2,
      "outputs": []
    },
    {
      "metadata": {
        "trusted": true,
        "_uuid": "8f2a19e4b1cb17f1f1b7fef8e79eed62a3c0e41d"
      },
      "cell_type": "code",
      "source": "# print a list of all the tables in the hacker_news dataset\nhacker_news.list_tables()",
      "execution_count": 3,
      "outputs": [
        {
          "output_type": "execute_result",
          "execution_count": 3,
          "data": {
            "text/plain": "['comments', 'full', 'full_201510', 'stories']"
          },
          "metadata": {}
        }
      ]
    },
    {
      "metadata": {
        "_cell_guid": "79c7e3d0-c299-4dcb-8224-4455121ee9b0",
        "_uuid": "d629ff2d2480ee46fbb7e2d37f6b5fab8052498a",
        "trusted": true
      },
      "cell_type": "code",
      "source": "hacker_news.table_schema(\"comments\")",
      "execution_count": 4,
      "outputs": [
        {
          "output_type": "execute_result",
          "execution_count": 4,
          "data": {
            "text/plain": "[SchemaField('id', 'INTEGER', 'NULLABLE', 'Unique comment ID', ()),\n SchemaField('by', 'STRING', 'NULLABLE', 'Username of commenter', ()),\n SchemaField('author', 'STRING', 'NULLABLE', 'Username of author', ()),\n SchemaField('time', 'INTEGER', 'NULLABLE', 'Unix time', ()),\n SchemaField('time_ts', 'TIMESTAMP', 'NULLABLE', 'Human readable time in UTC (format: YYYY-MM-DD hh:mm:ss)', ()),\n SchemaField('text', 'STRING', 'NULLABLE', 'Comment text', ()),\n SchemaField('parent', 'INTEGER', 'NULLABLE', 'Parent comment ID', ()),\n SchemaField('deleted', 'BOOLEAN', 'NULLABLE', 'Is deleted?', ()),\n SchemaField('dead', 'BOOLEAN', 'NULLABLE', 'Is dead?', ()),\n SchemaField('ranking', 'INTEGER', 'NULLABLE', 'Comment ranking', ())]"
          },
          "metadata": {}
        }
      ]
    },
    {
      "metadata": {
        "trusted": true,
        "_uuid": "38aa6baba52a1c8c51e2320bd94da77d91c47ce0"
      },
      "cell_type": "code",
      "source": "hacker_news.head(\"full\")",
      "execution_count": 5,
      "outputs": [
        {
          "output_type": "execute_result",
          "execution_count": 5,
          "data": {
            "text/plain": "            by score        time   ...   descendants        id ranking\n0         e12e  None  1401901749   ...          None   7846752    None\n1          pja  None  1364125713   ...          None   5431785    None\n2          hvs  None  1242152578   ...          None    605908    None\n3  user5994461  None  1493321626   ...          None  14214069    None\n4   uptownfunk  None  1502496795   ...          None  14995506    None\n\n[5 rows x 14 columns]",
            "text/html": "<div>\n<style scoped>\n    .dataframe tbody tr th:only-of-type {\n        vertical-align: middle;\n    }\n\n    .dataframe tbody tr th {\n        vertical-align: top;\n    }\n\n    .dataframe thead th {\n        text-align: right;\n    }\n</style>\n<table border=\"1\" class=\"dataframe\">\n  <thead>\n    <tr style=\"text-align: right;\">\n      <th></th>\n      <th>by</th>\n      <th>score</th>\n      <th>time</th>\n      <th>timestamp</th>\n      <th>title</th>\n      <th>type</th>\n      <th>url</th>\n      <th>text</th>\n      <th>parent</th>\n      <th>deleted</th>\n      <th>dead</th>\n      <th>descendants</th>\n      <th>id</th>\n      <th>ranking</th>\n    </tr>\n  </thead>\n  <tbody>\n    <tr>\n      <th>0</th>\n      <td>e12e</td>\n      <td>None</td>\n      <td>1401901749</td>\n      <td>2014-06-04 17:09:09+00:00</td>\n      <td></td>\n      <td>comment</td>\n      <td></td>\n      <td>Ah, come now. We can start a village in centra...</td>\n      <td>7846670</td>\n      <td>None</td>\n      <td>None</td>\n      <td>None</td>\n      <td>7846752</td>\n      <td>None</td>\n    </tr>\n    <tr>\n      <th>1</th>\n      <td>pja</td>\n      <td>None</td>\n      <td>1364125713</td>\n      <td>2013-03-24 11:48:33+00:00</td>\n      <td></td>\n      <td>comment</td>\n      <td></td>\n      <td>(This is missing the wider point, but regardle...</td>\n      <td>5431737</td>\n      <td>None</td>\n      <td>None</td>\n      <td>None</td>\n      <td>5431785</td>\n      <td>None</td>\n    </tr>\n    <tr>\n      <th>2</th>\n      <td>hvs</td>\n      <td>None</td>\n      <td>1242152578</td>\n      <td>2009-05-12 18:22:58+00:00</td>\n      <td></td>\n      <td>comment</td>\n      <td></td>\n      <td>That depends on whether the law is constitutio...</td>\n      <td>605760</td>\n      <td>None</td>\n      <td>None</td>\n      <td>None</td>\n      <td>605908</td>\n      <td>None</td>\n    </tr>\n    <tr>\n      <th>3</th>\n      <td>user5994461</td>\n      <td>None</td>\n      <td>1493321626</td>\n      <td>2017-04-27 19:33:46+00:00</td>\n      <td></td>\n      <td>comment</td>\n      <td></td>\n      <td>You never need to release now.&lt;p&gt;Well, unless ...</td>\n      <td>14214013</td>\n      <td>None</td>\n      <td>None</td>\n      <td>None</td>\n      <td>14214069</td>\n      <td>None</td>\n    </tr>\n    <tr>\n      <th>4</th>\n      <td>uptownfunk</td>\n      <td>None</td>\n      <td>1502496795</td>\n      <td>2017-08-12 00:13:15+00:00</td>\n      <td></td>\n      <td>comment</td>\n      <td></td>\n      <td>Don&amp;#x27;t say anything if you&amp;#x27;re a guy.....</td>\n      <td>14992770</td>\n      <td>None</td>\n      <td>None</td>\n      <td>None</td>\n      <td>14995506</td>\n      <td>None</td>\n    </tr>\n  </tbody>\n</table>\n</div>"
          },
          "metadata": {}
        }
      ]
    },
    {
      "metadata": {
        "trusted": true,
        "_uuid": "f1d4afb5318ce61cab405977ada3dda877a0a6f8"
      },
      "cell_type": "code",
      "source": "hacker_news.head(\"full\", selected_columns=\"by\", num_rows=10)",
      "execution_count": 6,
      "outputs": [
        {
          "output_type": "execute_result",
          "execution_count": 6,
          "data": {
            "text/plain": "              by\n0           e12e\n1            pja\n2            hvs\n3    user5994461\n4     uptownfunk\n5         pyoung\n6   AnthonyMouse\n7        ilikepi\n8  puppetmaster3\n9     wccrawford",
            "text/html": "<div>\n<style scoped>\n    .dataframe tbody tr th:only-of-type {\n        vertical-align: middle;\n    }\n\n    .dataframe tbody tr th {\n        vertical-align: top;\n    }\n\n    .dataframe thead th {\n        text-align: right;\n    }\n</style>\n<table border=\"1\" class=\"dataframe\">\n  <thead>\n    <tr style=\"text-align: right;\">\n      <th></th>\n      <th>by</th>\n    </tr>\n  </thead>\n  <tbody>\n    <tr>\n      <th>0</th>\n      <td>e12e</td>\n    </tr>\n    <tr>\n      <th>1</th>\n      <td>pja</td>\n    </tr>\n    <tr>\n      <th>2</th>\n      <td>hvs</td>\n    </tr>\n    <tr>\n      <th>3</th>\n      <td>user5994461</td>\n    </tr>\n    <tr>\n      <th>4</th>\n      <td>uptownfunk</td>\n    </tr>\n    <tr>\n      <th>5</th>\n      <td>pyoung</td>\n    </tr>\n    <tr>\n      <th>6</th>\n      <td>AnthonyMouse</td>\n    </tr>\n    <tr>\n      <th>7</th>\n      <td>ilikepi</td>\n    </tr>\n    <tr>\n      <th>8</th>\n      <td>puppetmaster3</td>\n    </tr>\n    <tr>\n      <th>9</th>\n      <td>wccrawford</td>\n    </tr>\n  </tbody>\n</table>\n</div>"
          },
          "metadata": {}
        }
      ]
    },
    {
      "metadata": {
        "trusted": true,
        "_uuid": "ab34d1318d9433e1e84adb96d5fa9f6c1528b8f7"
      },
      "cell_type": "code",
      "source": "# this query looks in the full table in the hacker_news\n# dataset, then gets the score column from every row where \n# the type column has \"job\" in it.\nquery = \"\"\"SELECT score\n            FROM `bigquery-public-data.hacker_news.full`\n            WHERE type = \"job\" \"\"\"\n\n# check how big this query will be\nhacker_news.estimate_query_size(query)",
      "execution_count": 7,
      "outputs": [
        {
          "output_type": "execute_result",
          "execution_count": 7,
          "data": {
            "text/plain": "0.15883952286094427"
          },
          "metadata": {}
        }
      ]
    },
    {
      "metadata": {
        "trusted": true,
        "collapsed": true,
        "_uuid": "cf9443af12ac44710a201f013561fb5b86e00c23"
      },
      "cell_type": "code",
      "source": "# check out the scores of job postings (if the \n# query is smaller than 1 gig)\njob_post_scores = hacker_news.query_to_pandas_safe(query)",
      "execution_count": 8,
      "outputs": []
    },
    {
      "metadata": {
        "trusted": true,
        "_uuid": "48aa4a196ecff54bba35dfcc53c1464f1e44f38e"
      },
      "cell_type": "code",
      "source": "job_post_scores.score.mean()",
      "execution_count": 9,
      "outputs": [
        {
          "output_type": "execute_result",
          "execution_count": 9,
          "data": {
            "text/plain": "2.0983834176336407"
          },
          "metadata": {}
        }
      ]
    },
    {
      "metadata": {
        "trusted": true,
        "collapsed": true,
        "_uuid": "31f239e17008b4cb91eb082119b2fbd768b0adc1"
      },
      "cell_type": "code",
      "source": "",
      "execution_count": null,
      "outputs": []
    }
  ],
  "metadata": {
    "language_info": {
      "name": "python",
      "version": "3.6.5",
      "mimetype": "text/x-python",
      "codemirror_mode": {
        "name": "ipython",
        "version": 3
      },
      "pygments_lexer": "ipython3",
      "nbconvert_exporter": "python",
      "file_extension": ".py"
    },
    "kernelspec": {
      "display_name": "Python 3",
      "language": "python",
      "name": "python3"
    }
  },
  "nbformat": 4,
  "nbformat_minor": 1
}