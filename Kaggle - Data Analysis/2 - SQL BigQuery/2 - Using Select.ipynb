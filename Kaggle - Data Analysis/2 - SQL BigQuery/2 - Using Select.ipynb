{
  "cells": [
    {
      "metadata": {
        "_cell_guid": "b1076dfc-b9ad-4769-8c92-a6c4dae69d19",
        "_uuid": "8f2839f25d086af736a60e9eeb907d3b93b6e0e5"
      },
      "cell_type": "markdown",
      "source": "# Get Started\nFork this notebook by hitting the blue \"Fork Notebook\" button at the top of this page.  \"Forking\" makes a copy that you can edit on your own without changing the original.\n\nAfter forking this notebook, run the code in the following cell."
    },
    {
      "metadata": {
        "_cell_guid": "581115e3-6443-4d88-aebc-2b7b64e10312",
        "_uuid": "10e9310686ffa8666fddf643693d27bf6c2da62f",
        "trusted": true
      },
      "cell_type": "code",
      "source": "# import package with helper functions \nimport bq_helper\n\n# create a helper object for this dataset\nopen_aq = bq_helper.BigQueryHelper(active_project=\"bigquery-public-data\",\n                                   dataset_name=\"openaq\")\n\n# print all the tables in this dataset (there's only one!)\nopen_aq.list_tables()",
      "execution_count": 1,
      "outputs": [
        {
          "output_type": "execute_result",
          "execution_count": 1,
          "data": {
            "text/plain": "['global_air_quality']"
          },
          "metadata": {}
        }
      ]
    },
    {
      "metadata": {
        "_cell_guid": "6c5a2cf7-e634-49fe-8f66-fec2386128e2",
        "_uuid": "40f9f29f2ff5f355747bcd8ddb83bf5beecdb04e"
      },
      "cell_type": "markdown",
      "source": "Then write and run the code to answer the questions below."
    },
    {
      "metadata": {
        "_cell_guid": "00f8161f-9d76-4740-b6b1-d245b00f4587",
        "_uuid": "e0c53920e3b893930976a772c17f67f9781087ec"
      },
      "cell_type": "markdown",
      "source": "# Question\n\n#### 1) Which countries use a unit other than ppm to measure any type of pollution? \n(Hint: to get rows where the value *isn't* something, use \"!=\")"
    },
    {
      "metadata": {
        "_cell_guid": "79c7e3d0-c299-4dcb-8224-4455121ee9b0",
        "_uuid": "d629ff2d2480ee46fbb7e2d37f6b5fab8052498a",
        "trusted": true
      },
      "cell_type": "code",
      "source": "open_aq.table_schema(open_aq.list_tables()[0])",
      "execution_count": 2,
      "outputs": [
        {
          "output_type": "execute_result",
          "execution_count": 2,
          "data": {
            "text/plain": "[SchemaField('location', 'STRING', 'NULLABLE', 'Location where data was measured', ()),\n SchemaField('city', 'STRING', 'NULLABLE', 'City containing location', ()),\n SchemaField('country', 'STRING', 'NULLABLE', 'Country containing measurement in 2 letter ISO code', ()),\n SchemaField('pollutant', 'STRING', 'NULLABLE', 'Name of the Pollutant being measured. Allowed values: PM25, PM10, SO2, NO2, O3, CO, BC', ()),\n SchemaField('value', 'FLOAT', 'NULLABLE', 'Latest measured value for the pollutant', ()),\n SchemaField('timestamp', 'TIMESTAMP', 'NULLABLE', 'The datetime at which the pollutant was measured, in ISO 8601 format', ()),\n SchemaField('unit', 'STRING', 'NULLABLE', 'The unit the value was measured in coded by UCUM Code', ()),\n SchemaField('source_name', 'STRING', 'NULLABLE', 'Name of the source of the data', ()),\n SchemaField('latitude', 'FLOAT', 'NULLABLE', 'Latitude in decimal degrees. Precision >3 decimal points.', ()),\n SchemaField('longitude', 'FLOAT', 'NULLABLE', 'Longitude in decimal degrees. Precision >3 decimal points.', ()),\n SchemaField('averaged_over_in_hours', 'FLOAT', 'NULLABLE', 'The number of hours the value was averaged over.', ())]"
          },
          "metadata": {}
        }
      ]
    },
    {
      "metadata": {
        "trusted": true,
        "_uuid": "1cec34a44f9aebc07b379479511c0814080df08a"
      },
      "cell_type": "code",
      "source": "query=\"SELECT distinct country FROM `bigquery-public-data.openaq.global_air_quality` WHERE pollutant != 'ppm'\"\nopen_aq.estimate_query_size(query)\n",
      "execution_count": 8,
      "outputs": [
        {
          "output_type": "execute_result",
          "execution_count": 8,
          "data": {
            "text/plain": "0.0001390436664223671"
          },
          "metadata": {}
        }
      ]
    },
    {
      "metadata": {
        "trusted": true,
        "_uuid": "2248a0c2620ebcbe59fbc29686f1e26db01976ff"
      },
      "cell_type": "code",
      "source": "open_aq.query_to_pandas_safe(query, max_gb_scanned=0.1)",
      "execution_count": 9,
      "outputs": [
        {
          "output_type": "execute_result",
          "execution_count": 9,
          "data": {
            "text/plain": "   country\n0       US\n1       FR\n2       TH\n3       IN\n4       NL\n5       GB\n6       CH\n7       TR\n8       PT\n9       ES\n10      BR\n11      PE\n12      NO\n13      HK\n14      LV\n15      IT\n16      CN\n17      GH\n18      CL\n19      PL\n20      SI\n21      BD\n22      MT\n23      VN\n24      BA\n25      BE\n26      TW\n27      LT\n28      DE\n29      CO\n..     ...\n35      PH\n36      RU\n37      CA\n38      AD\n39      IE\n40      AT\n41      ID\n42      HU\n43      LK\n44      UG\n45      FI\n46      KE\n47      IL\n48      LU\n49      HR\n50      XK\n51      AE\n52      NP\n53      SG\n54      DK\n55      CZ\n56      MX\n57      ET\n58      KW\n59      MN\n60      AR\n61      RS\n62      ZA\n63      SK\n64      GI\n\n[65 rows x 1 columns]",
            "text/html": "<div>\n<style scoped>\n    .dataframe tbody tr th:only-of-type {\n        vertical-align: middle;\n    }\n\n    .dataframe tbody tr th {\n        vertical-align: top;\n    }\n\n    .dataframe thead th {\n        text-align: right;\n    }\n</style>\n<table border=\"1\" class=\"dataframe\">\n  <thead>\n    <tr style=\"text-align: right;\">\n      <th></th>\n      <th>country</th>\n    </tr>\n  </thead>\n  <tbody>\n    <tr>\n      <th>0</th>\n      <td>US</td>\n    </tr>\n    <tr>\n      <th>1</th>\n      <td>FR</td>\n    </tr>\n    <tr>\n      <th>2</th>\n      <td>TH</td>\n    </tr>\n    <tr>\n      <th>3</th>\n      <td>IN</td>\n    </tr>\n    <tr>\n      <th>4</th>\n      <td>NL</td>\n    </tr>\n    <tr>\n      <th>5</th>\n      <td>GB</td>\n    </tr>\n    <tr>\n      <th>6</th>\n      <td>CH</td>\n    </tr>\n    <tr>\n      <th>7</th>\n      <td>TR</td>\n    </tr>\n    <tr>\n      <th>8</th>\n      <td>PT</td>\n    </tr>\n    <tr>\n      <th>9</th>\n      <td>ES</td>\n    </tr>\n    <tr>\n      <th>10</th>\n      <td>BR</td>\n    </tr>\n    <tr>\n      <th>11</th>\n      <td>PE</td>\n    </tr>\n    <tr>\n      <th>12</th>\n      <td>NO</td>\n    </tr>\n    <tr>\n      <th>13</th>\n      <td>HK</td>\n    </tr>\n    <tr>\n      <th>14</th>\n      <td>LV</td>\n    </tr>\n    <tr>\n      <th>15</th>\n      <td>IT</td>\n    </tr>\n    <tr>\n      <th>16</th>\n      <td>CN</td>\n    </tr>\n    <tr>\n      <th>17</th>\n      <td>GH</td>\n    </tr>\n    <tr>\n      <th>18</th>\n      <td>CL</td>\n    </tr>\n    <tr>\n      <th>19</th>\n      <td>PL</td>\n    </tr>\n    <tr>\n      <th>20</th>\n      <td>SI</td>\n    </tr>\n    <tr>\n      <th>21</th>\n      <td>BD</td>\n    </tr>\n    <tr>\n      <th>22</th>\n      <td>MT</td>\n    </tr>\n    <tr>\n      <th>23</th>\n      <td>VN</td>\n    </tr>\n    <tr>\n      <th>24</th>\n      <td>BA</td>\n    </tr>\n    <tr>\n      <th>25</th>\n      <td>BE</td>\n    </tr>\n    <tr>\n      <th>26</th>\n      <td>TW</td>\n    </tr>\n    <tr>\n      <th>27</th>\n      <td>LT</td>\n    </tr>\n    <tr>\n      <th>28</th>\n      <td>DE</td>\n    </tr>\n    <tr>\n      <th>29</th>\n      <td>CO</td>\n    </tr>\n    <tr>\n      <th>...</th>\n      <td>...</td>\n    </tr>\n    <tr>\n      <th>35</th>\n      <td>PH</td>\n    </tr>\n    <tr>\n      <th>36</th>\n      <td>RU</td>\n    </tr>\n    <tr>\n      <th>37</th>\n      <td>CA</td>\n    </tr>\n    <tr>\n      <th>38</th>\n      <td>AD</td>\n    </tr>\n    <tr>\n      <th>39</th>\n      <td>IE</td>\n    </tr>\n    <tr>\n      <th>40</th>\n      <td>AT</td>\n    </tr>\n    <tr>\n      <th>41</th>\n      <td>ID</td>\n    </tr>\n    <tr>\n      <th>42</th>\n      <td>HU</td>\n    </tr>\n    <tr>\n      <th>43</th>\n      <td>LK</td>\n    </tr>\n    <tr>\n      <th>44</th>\n      <td>UG</td>\n    </tr>\n    <tr>\n      <th>45</th>\n      <td>FI</td>\n    </tr>\n    <tr>\n      <th>46</th>\n      <td>KE</td>\n    </tr>\n    <tr>\n      <th>47</th>\n      <td>IL</td>\n    </tr>\n    <tr>\n      <th>48</th>\n      <td>LU</td>\n    </tr>\n    <tr>\n      <th>49</th>\n      <td>HR</td>\n    </tr>\n    <tr>\n      <th>50</th>\n      <td>XK</td>\n    </tr>\n    <tr>\n      <th>51</th>\n      <td>AE</td>\n    </tr>\n    <tr>\n      <th>52</th>\n      <td>NP</td>\n    </tr>\n    <tr>\n      <th>53</th>\n      <td>SG</td>\n    </tr>\n    <tr>\n      <th>54</th>\n      <td>DK</td>\n    </tr>\n    <tr>\n      <th>55</th>\n      <td>CZ</td>\n    </tr>\n    <tr>\n      <th>56</th>\n      <td>MX</td>\n    </tr>\n    <tr>\n      <th>57</th>\n      <td>ET</td>\n    </tr>\n    <tr>\n      <th>58</th>\n      <td>KW</td>\n    </tr>\n    <tr>\n      <th>59</th>\n      <td>MN</td>\n    </tr>\n    <tr>\n      <th>60</th>\n      <td>AR</td>\n    </tr>\n    <tr>\n      <th>61</th>\n      <td>RS</td>\n    </tr>\n    <tr>\n      <th>62</th>\n      <td>ZA</td>\n    </tr>\n    <tr>\n      <th>63</th>\n      <td>SK</td>\n    </tr>\n    <tr>\n      <th>64</th>\n      <td>GI</td>\n    </tr>\n  </tbody>\n</table>\n<p>65 rows × 1 columns</p>\n</div>"
          },
          "metadata": {}
        }
      ]
    },
    {
      "metadata": {
        "_cell_guid": "f50aa855-5ae4-4dbd-a7f4-1c0940a76e41",
        "_uuid": "a527d39f5e9e31ae5476505249d1136558e97ede"
      },
      "cell_type": "markdown",
      "source": "#### 2) Which pollutants have a value of exactly 0?"
    },
    {
      "metadata": {
        "_cell_guid": "0bfeb274-f8ed-4710-a6db-e1e6457e78c4",
        "_uuid": "ac2253ac8ff931cf984f4c80f4fee1aafaa71789",
        "trusted": true
      },
      "cell_type": "code",
      "source": "query=\"SELECT distinct pollutant FROM `bigquery-public-data.openaq.global_air_quality` WHERE value = 0\"\nopen_aq.estimate_query_size(query)\n\nopen_aq.query_to_pandas_safe(query, max_gb_scanned=0.1)\n",
      "execution_count": 11,
      "outputs": [
        {
          "output_type": "execute_result",
          "execution_count": 11,
          "data": {
            "text/plain": "  pollutant\n0      pm25\n1       so2\n2        o3\n3      pm10\n4       no2\n5        co\n6        bc",
            "text/html": "<div>\n<style scoped>\n    .dataframe tbody tr th:only-of-type {\n        vertical-align: middle;\n    }\n\n    .dataframe tbody tr th {\n        vertical-align: top;\n    }\n\n    .dataframe thead th {\n        text-align: right;\n    }\n</style>\n<table border=\"1\" class=\"dataframe\">\n  <thead>\n    <tr style=\"text-align: right;\">\n      <th></th>\n      <th>pollutant</th>\n    </tr>\n  </thead>\n  <tbody>\n    <tr>\n      <th>0</th>\n      <td>pm25</td>\n    </tr>\n    <tr>\n      <th>1</th>\n      <td>so2</td>\n    </tr>\n    <tr>\n      <th>2</th>\n      <td>o3</td>\n    </tr>\n    <tr>\n      <th>3</th>\n      <td>pm10</td>\n    </tr>\n    <tr>\n      <th>4</th>\n      <td>no2</td>\n    </tr>\n    <tr>\n      <th>5</th>\n      <td>co</td>\n    </tr>\n    <tr>\n      <th>6</th>\n      <td>bc</td>\n    </tr>\n  </tbody>\n</table>\n</div>"
          },
          "metadata": {}
        }
      ]
    },
    {
      "metadata": {
        "_cell_guid": "3b323b31-ee71-466f-a328-3b6f83598878",
        "_uuid": "2601df8b4255ca1087f794e6f39ca04107e93de6"
      },
      "cell_type": "markdown",
      "source": "# Keep Going\nAfter finishing this exercise, click [here](https://www.kaggle.com/dansbecker/group-by-having-count/).  You will learn about the **GROUP BY** command and its extensions.  This is especially valuable in large datasets like what you find in BigQuery.\n\n# Help and Feedback \nBring any comments or questions to the [Learn Discussion Forum](https://www.kaggle.com/learn-forum).\n\nIf you want comments or help on your code, make it \"public\" first using the \"Settings\" tab on this page.\n\n---\n\n*This tutorial is part of the [SQL Series](https://www.kaggle.com/learn/sql) on Kaggle Learn.*"
    }
  ],
  "metadata": {
    "language_info": {
      "name": "python",
      "version": "3.6.5",
      "mimetype": "text/x-python",
      "codemirror_mode": {
        "name": "ipython",
        "version": 3
      },
      "pygments_lexer": "ipython3",
      "nbconvert_exporter": "python",
      "file_extension": ".py"
    },
    "kernelspec": {
      "display_name": "Python 3",
      "language": "python",
      "name": "python3"
    }
  },
  "nbformat": 4,
  "nbformat_minor": 1
}