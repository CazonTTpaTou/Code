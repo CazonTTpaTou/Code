{
  "cells": [
    {
      "metadata": {
        "_uuid": "118088bc1f65d8030a50882edcdca039a70d6b4a",
        "_cell_guid": "c00aa938-286a-461b-8fbd-3486b3188d38"
      },
      "cell_type": "markdown",
      "source": "# Get Started\n\nAfter forking this notebook, run the code in the following cell:"
    },
    {
      "metadata": {
        "_uuid": "424a5ab971bbe2d7aec8fb83d76307d16095ad41",
        "collapsed": true,
        "_cell_guid": "fafbc62b-2cf1-4d94-919b-f236e5fad3b2",
        "trusted": true
      },
      "cell_type": "code",
      "source": "# import package with helper functions \nimport bq_helper\n\n# create a helper object for this dataset\nbitcoin_blockchain = bq_helper.BigQueryHelper(active_project=\"bigquery-public-data\",\n                                              dataset_name=\"bitcoin_blockchain\")",
      "execution_count": 1,
      "outputs": []
    },
    {
      "metadata": {
        "_uuid": "8f2839f25d086af736a60e9eeb907d3b93b6e0e5",
        "_cell_guid": "b1076dfc-b9ad-4769-8c92-a6c4dae69d19"
      },
      "cell_type": "markdown",
      "source": "Then write the code to answer the questions below.\n\n#### Note\nThis dataset is bigger than the ones we've used previously, so your queries will be more than 1 Gigabyte. You can still run them by setting the \"max_gb_scanned\" argument in the `query_to_pandas_safe()` function to be large enough to run your query, or by using the `query_to_pandas()` function instead.\n\n## Questions\n#### 1) How many Bitcoin transactions were made each day in 2017?\n* You can use the \"timestamp\" column from the \"transactions\" table to answer this question. You can go back to the [order-by tutorial](https://www.kaggle.com/dansbecker/order-by) for more information on timestamps."
    },
    {
      "metadata": {
        "_uuid": "d629ff2d2480ee46fbb7e2d37f6b5fab8052498a",
        "_cell_guid": "79c7e3d0-c299-4dcb-8224-4455121ee9b0",
        "trusted": true
      },
      "cell_type": "code",
      "source": "query = \"\"\" WITH time AS \n            (\n                SELECT TIMESTAMP_MILLIS(timestamp) AS trans_time,\n                    transaction_id\n                FROM `bigquery-public-data.bitcoin_blockchain.transactions`\n            )\n            SELECT COUNT(transaction_id) AS transactions,\n                EXTRACT(DAYOFYEAR FROM trans_time) AS day                \n            FROM time\n\t    WHERE EXTRACT(YEAR FROM trans_time) = 2017\n            GROUP BY day \n            ORDER BY day\n        \"\"\"\n\ntransactions_per_day = bitcoin_blockchain.query_to_pandas_safe(query, max_gb_scanned=22)\ntransactions_per_day",
      "execution_count": 4,
      "outputs": [
        {
          "output_type": "execute_result",
          "execution_count": 4,
          "data": {
            "text/plain": "     transactions  day\n0          180502    1\n1          290951    2\n2          301664    3\n3          328642    4\n4          288501    5\n5          346405    6\n6          282060    7\n7          260101    8\n8          269947    9\n9          323888   10\n10         303058   11\n11         295125   12\n12         272747   13\n13         242269   14\n14         235999   15\n15         267640   16\n16         292697   17\n17         297100   18\n18         300605   19\n19         298377   20\n20         263562   21\n21         236886   22\n22         235530   23\n23         278177   24\n24         304727   25\n25         313755   26\n26         263332   27\n27         246395   28\n28         241627   29\n29         247408   30\n..            ...  ...\n335        326354  336\n336        353044  337\n337        400686  338\n338        405709  339\n339        443587  340\n340        374917  341\n341        385092  342\n342        403399  343\n343        341420  344\n344        368598  345\n345        372977  346\n346        424579  347\n347        490644  348\n348        405676  349\n349        364222  350\n350        391910  351\n351        394239  352\n352        378622  353\n353        370277  354\n354        335482  355\n355        380648  356\n356        308211  357\n357        279523  358\n358        228926  359\n359        247440  360\n360        307642  361\n361        305053  362\n362        353824  363\n363        344407  364\n364        290422  365\n\n[365 rows x 2 columns]",
            "text/html": "<div>\n<style scoped>\n    .dataframe tbody tr th:only-of-type {\n        vertical-align: middle;\n    }\n\n    .dataframe tbody tr th {\n        vertical-align: top;\n    }\n\n    .dataframe thead th {\n        text-align: right;\n    }\n</style>\n<table border=\"1\" class=\"dataframe\">\n  <thead>\n    <tr style=\"text-align: right;\">\n      <th></th>\n      <th>transactions</th>\n      <th>day</th>\n    </tr>\n  </thead>\n  <tbody>\n    <tr>\n      <th>0</th>\n      <td>180502</td>\n      <td>1</td>\n    </tr>\n    <tr>\n      <th>1</th>\n      <td>290951</td>\n      <td>2</td>\n    </tr>\n    <tr>\n      <th>2</th>\n      <td>301664</td>\n      <td>3</td>\n    </tr>\n    <tr>\n      <th>3</th>\n      <td>328642</td>\n      <td>4</td>\n    </tr>\n    <tr>\n      <th>4</th>\n      <td>288501</td>\n      <td>5</td>\n    </tr>\n    <tr>\n      <th>5</th>\n      <td>346405</td>\n      <td>6</td>\n    </tr>\n    <tr>\n      <th>6</th>\n      <td>282060</td>\n      <td>7</td>\n    </tr>\n    <tr>\n      <th>7</th>\n      <td>260101</td>\n      <td>8</td>\n    </tr>\n    <tr>\n      <th>8</th>\n      <td>269947</td>\n      <td>9</td>\n    </tr>\n    <tr>\n      <th>9</th>\n      <td>323888</td>\n      <td>10</td>\n    </tr>\n    <tr>\n      <th>10</th>\n      <td>303058</td>\n      <td>11</td>\n    </tr>\n    <tr>\n      <th>11</th>\n      <td>295125</td>\n      <td>12</td>\n    </tr>\n    <tr>\n      <th>12</th>\n      <td>272747</td>\n      <td>13</td>\n    </tr>\n    <tr>\n      <th>13</th>\n      <td>242269</td>\n      <td>14</td>\n    </tr>\n    <tr>\n      <th>14</th>\n      <td>235999</td>\n      <td>15</td>\n    </tr>\n    <tr>\n      <th>15</th>\n      <td>267640</td>\n      <td>16</td>\n    </tr>\n    <tr>\n      <th>16</th>\n      <td>292697</td>\n      <td>17</td>\n    </tr>\n    <tr>\n      <th>17</th>\n      <td>297100</td>\n      <td>18</td>\n    </tr>\n    <tr>\n      <th>18</th>\n      <td>300605</td>\n      <td>19</td>\n    </tr>\n    <tr>\n      <th>19</th>\n      <td>298377</td>\n      <td>20</td>\n    </tr>\n    <tr>\n      <th>20</th>\n      <td>263562</td>\n      <td>21</td>\n    </tr>\n    <tr>\n      <th>21</th>\n      <td>236886</td>\n      <td>22</td>\n    </tr>\n    <tr>\n      <th>22</th>\n      <td>235530</td>\n      <td>23</td>\n    </tr>\n    <tr>\n      <th>23</th>\n      <td>278177</td>\n      <td>24</td>\n    </tr>\n    <tr>\n      <th>24</th>\n      <td>304727</td>\n      <td>25</td>\n    </tr>\n    <tr>\n      <th>25</th>\n      <td>313755</td>\n      <td>26</td>\n    </tr>\n    <tr>\n      <th>26</th>\n      <td>263332</td>\n      <td>27</td>\n    </tr>\n    <tr>\n      <th>27</th>\n      <td>246395</td>\n      <td>28</td>\n    </tr>\n    <tr>\n      <th>28</th>\n      <td>241627</td>\n      <td>29</td>\n    </tr>\n    <tr>\n      <th>29</th>\n      <td>247408</td>\n      <td>30</td>\n    </tr>\n    <tr>\n      <th>...</th>\n      <td>...</td>\n      <td>...</td>\n    </tr>\n    <tr>\n      <th>335</th>\n      <td>326354</td>\n      <td>336</td>\n    </tr>\n    <tr>\n      <th>336</th>\n      <td>353044</td>\n      <td>337</td>\n    </tr>\n    <tr>\n      <th>337</th>\n      <td>400686</td>\n      <td>338</td>\n    </tr>\n    <tr>\n      <th>338</th>\n      <td>405709</td>\n      <td>339</td>\n    </tr>\n    <tr>\n      <th>339</th>\n      <td>443587</td>\n      <td>340</td>\n    </tr>\n    <tr>\n      <th>340</th>\n      <td>374917</td>\n      <td>341</td>\n    </tr>\n    <tr>\n      <th>341</th>\n      <td>385092</td>\n      <td>342</td>\n    </tr>\n    <tr>\n      <th>342</th>\n      <td>403399</td>\n      <td>343</td>\n    </tr>\n    <tr>\n      <th>343</th>\n      <td>341420</td>\n      <td>344</td>\n    </tr>\n    <tr>\n      <th>344</th>\n      <td>368598</td>\n      <td>345</td>\n    </tr>\n    <tr>\n      <th>345</th>\n      <td>372977</td>\n      <td>346</td>\n    </tr>\n    <tr>\n      <th>346</th>\n      <td>424579</td>\n      <td>347</td>\n    </tr>\n    <tr>\n      <th>347</th>\n      <td>490644</td>\n      <td>348</td>\n    </tr>\n    <tr>\n      <th>348</th>\n      <td>405676</td>\n      <td>349</td>\n    </tr>\n    <tr>\n      <th>349</th>\n      <td>364222</td>\n      <td>350</td>\n    </tr>\n    <tr>\n      <th>350</th>\n      <td>391910</td>\n      <td>351</td>\n    </tr>\n    <tr>\n      <th>351</th>\n      <td>394239</td>\n      <td>352</td>\n    </tr>\n    <tr>\n      <th>352</th>\n      <td>378622</td>\n      <td>353</td>\n    </tr>\n    <tr>\n      <th>353</th>\n      <td>370277</td>\n      <td>354</td>\n    </tr>\n    <tr>\n      <th>354</th>\n      <td>335482</td>\n      <td>355</td>\n    </tr>\n    <tr>\n      <th>355</th>\n      <td>380648</td>\n      <td>356</td>\n    </tr>\n    <tr>\n      <th>356</th>\n      <td>308211</td>\n      <td>357</td>\n    </tr>\n    <tr>\n      <th>357</th>\n      <td>279523</td>\n      <td>358</td>\n    </tr>\n    <tr>\n      <th>358</th>\n      <td>228926</td>\n      <td>359</td>\n    </tr>\n    <tr>\n      <th>359</th>\n      <td>247440</td>\n      <td>360</td>\n    </tr>\n    <tr>\n      <th>360</th>\n      <td>307642</td>\n      <td>361</td>\n    </tr>\n    <tr>\n      <th>361</th>\n      <td>305053</td>\n      <td>362</td>\n    </tr>\n    <tr>\n      <th>362</th>\n      <td>353824</td>\n      <td>363</td>\n    </tr>\n    <tr>\n      <th>363</th>\n      <td>344407</td>\n      <td>364</td>\n    </tr>\n    <tr>\n      <th>364</th>\n      <td>290422</td>\n      <td>365</td>\n    </tr>\n  </tbody>\n</table>\n<p>365 rows × 2 columns</p>\n</div>"
          },
          "metadata": {}
        }
      ]
    },
    {
      "metadata": {
        "_uuid": "6f5acc3073bb99100b5e1fd8f1111b8a75c19777",
        "_cell_guid": "c6fc9554-1290-4940-9c03-2929eb17613e"
      },
      "cell_type": "markdown",
      "source": "\n#### 2) How many transactions are associated with each merkle root?\n* You can use the \"merkle_root\" and \"transaction_id\" columns in the \"transactions\" table to answer this question. "
    },
    {
      "metadata": {
        "_uuid": "959b10f407dbd9f80ab1b5d33ed9c8eaafa6b30c",
        "_cell_guid": "18629270-096f-412b-a3de-c863388d9f8f",
        "trusted": true
      },
      "cell_type": "code",
      "source": "query = \"\"\" WITH merkle AS \n            (\n                SELECT merkle_root,\n                    transaction_id\n                FROM `bigquery-public-data.bitcoin_blockchain.transactions`\n            )\n            SELECT COUNT(transaction_id) AS transactions,\n                merkle_root                \n            FROM merkle\n            GROUP BY merkle_root \n            ORDER BY transactions DESC\n        \"\"\"\n\ntransactions_per_day = bitcoin_blockchain.query_to_pandas_safe(query, max_gb_scanned=40)\ntransactions_per_day",
      "execution_count": 6,
      "outputs": [
        {
          "output_type": "execute_result",
          "execution_count": 6,
          "data": {
            "text/plain": "       ...\n0      ...\n1      ...\n2      ...\n3      ...\n4      ...\n5      ...\n6      ...\n7      ...\n8      ...\n9      ...\n10     ...\n11     ...\n12     ...\n13     ...\n14     ...\n15     ...\n16     ...\n17     ...\n18     ...\n19     ...\n20     ...\n21     ...\n22     ...\n23     ...\n24     ...\n25     ...\n26     ...\n27     ...\n28     ...\n29     ...\n...    ...\n523481 ...\n523482 ...\n523483 ...\n523484 ...\n523485 ...\n523486 ...\n523487 ...\n523488 ...\n523489 ...\n523490 ...\n523491 ...\n523492 ...\n523493 ...\n523494 ...\n523495 ...\n523496 ...\n523497 ...\n523498 ...\n523499 ...\n523500 ...\n523501 ...\n523502 ...\n523503 ...\n523504 ...\n523505 ...\n523506 ...\n523507 ...\n523508 ...\n523509 ...\n523510 ...\n\n[523511 rows x 2 columns]",
            "text/html": "<div>\n<style scoped>\n    .dataframe tbody tr th:only-of-type {\n        vertical-align: middle;\n    }\n\n    .dataframe tbody tr th {\n        vertical-align: top;\n    }\n\n    .dataframe thead th {\n        text-align: right;\n    }\n</style>\n<table border=\"1\" class=\"dataframe\">\n  <thead>\n    <tr style=\"text-align: right;\">\n      <th></th>\n      <th>transactions</th>\n      <th>merkle_root</th>\n    </tr>\n  </thead>\n  <tbody>\n    <tr>\n      <th>0</th>\n      <td>12239</td>\n      <td>dc1bde29f6912ba825138118676988a0e7f839054155db...</td>\n    </tr>\n    <tr>\n      <th>1</th>\n      <td>9647</td>\n      <td>03ef22104e4561d1c8198015157aa80ec08f1aaef676bf...</td>\n    </tr>\n    <tr>\n      <th>2</th>\n      <td>6451</td>\n      <td>52461d6e9d181204112ee8ca440921d5df88763ddb6e86...</td>\n    </tr>\n    <tr>\n      <th>3</th>\n      <td>6144</td>\n      <td>60f1b83982cd4588a8a99b66bb24c5e6d7bb15d34c6a90...</td>\n    </tr>\n    <tr>\n      <th>4</th>\n      <td>6084</td>\n      <td>73733e699f12f312843b99b309d65ac499c57507d2120f...</td>\n    </tr>\n    <tr>\n      <th>5</th>\n      <td>5973</td>\n      <td>c59fd39bd08b42ff1d6c175439af2dc74942bb708e517b...</td>\n    </tr>\n    <tr>\n      <th>6</th>\n      <td>5946</td>\n      <td>e3d2085f137f83e14e572784ad353ed9bcc02a65e3946a...</td>\n    </tr>\n    <tr>\n      <th>7</th>\n      <td>5944</td>\n      <td>012c4d5cb8c1fb95325d46f6c47634300b89ef4f99fe56...</td>\n    </tr>\n    <tr>\n      <th>8</th>\n      <td>5937</td>\n      <td>37a3c1b5d1da8450c0b7c2ed1768cc9d8ccd8c5e59fb59...</td>\n    </tr>\n    <tr>\n      <th>9</th>\n      <td>5866</td>\n      <td>e395b6a84f591ef69be39110e20ffc7c573e5186cf7f09...</td>\n    </tr>\n    <tr>\n      <th>10</th>\n      <td>5789</td>\n      <td>5cf65f69eb510616815c5e7a640de990d9fdf3f9445c32...</td>\n    </tr>\n    <tr>\n      <th>11</th>\n      <td>5787</td>\n      <td>503910b8e04afbe8372ffa73620a9698f74f3d1f81cabe...</td>\n    </tr>\n    <tr>\n      <th>12</th>\n      <td>5682</td>\n      <td>78b05350c524bc4d0f08558e90f82ae0f4586ac38160fe...</td>\n    </tr>\n    <tr>\n      <th>13</th>\n      <td>5593</td>\n      <td>c144a764d52d7a288b0a038d3abff1cfd1805c88b7c5d5...</td>\n    </tr>\n    <tr>\n      <th>14</th>\n      <td>5572</td>\n      <td>7efe5aef43cd083d0c83c03d0c70e7b192f0bab0e3ba6e...</td>\n    </tr>\n    <tr>\n      <th>15</th>\n      <td>5550</td>\n      <td>feb0b24e542d760b9431992b65af0cd5bc771c792ba7fd...</td>\n    </tr>\n    <tr>\n      <th>16</th>\n      <td>5490</td>\n      <td>b7eb6b3903c97c8518aae8550fe9c7da3fe2669835ccc2...</td>\n    </tr>\n    <tr>\n      <th>17</th>\n      <td>5482</td>\n      <td>2fcb0b3f6a3c81c99c6aca6b085022aa67eeffb285facb...</td>\n    </tr>\n    <tr>\n      <th>18</th>\n      <td>5467</td>\n      <td>214dd92a8d95ed46d576e0dd1503e8bb2b3ce54e4944dd...</td>\n    </tr>\n    <tr>\n      <th>19</th>\n      <td>5459</td>\n      <td>e34371b079838de6d19e0373524818aeed6502933935d8...</td>\n    </tr>\n    <tr>\n      <th>20</th>\n      <td>5447</td>\n      <td>bf05557aa4790a072d3a84ff4e8e2462f2cf577c27976b...</td>\n    </tr>\n    <tr>\n      <th>21</th>\n      <td>5410</td>\n      <td>0b28a8618f70c191bb7aeb8b88fb36dae1deabeccbbbc5...</td>\n    </tr>\n    <tr>\n      <th>22</th>\n      <td>5388</td>\n      <td>fe56d3d1eb58a7e8d864359ecb1f517c3cd4706f931cb9...</td>\n    </tr>\n    <tr>\n      <th>23</th>\n      <td>5286</td>\n      <td>63a430c7fde2fc1b8a1fe7ceda530ef3dd5f79d8d65ac9...</td>\n    </tr>\n    <tr>\n      <th>24</th>\n      <td>5284</td>\n      <td>ebf0acc4688bad582d2fd3179beffa8a5824991d91d235...</td>\n    </tr>\n    <tr>\n      <th>25</th>\n      <td>5278</td>\n      <td>1167aefc5e7c792cfe5bf2f86caa8a15df01cf56e21868...</td>\n    </tr>\n    <tr>\n      <th>26</th>\n      <td>5257</td>\n      <td>f6a1474484de75afd0bf183aa07828323b9e6c6d1ccfa8...</td>\n    </tr>\n    <tr>\n      <th>27</th>\n      <td>5235</td>\n      <td>13ad9b62695888a1b9e1430bd494923e0baa6907d78d22...</td>\n    </tr>\n    <tr>\n      <th>28</th>\n      <td>5217</td>\n      <td>205e4352d96ca8833a48d038c00f22023339eb350c56b5...</td>\n    </tr>\n    <tr>\n      <th>29</th>\n      <td>5201</td>\n      <td>1d8e21e29620eacfdf4e47d20bc33efe7f5894c9ff59d2...</td>\n    </tr>\n    <tr>\n      <th>...</th>\n      <td>...</td>\n      <td>...</td>\n    </tr>\n    <tr>\n      <th>523481</th>\n      <td>1</td>\n      <td>deb3437822ec4a64be321c285d933b7293dfd2b726b5fd...</td>\n    </tr>\n    <tr>\n      <th>523482</th>\n      <td>1</td>\n      <td>086fcc2c469a006bf42d46cc598313f0308a872c7fd312...</td>\n    </tr>\n    <tr>\n      <th>523483</th>\n      <td>1</td>\n      <td>d6428ff3ee46933c5e3e9ce4295812b330bf65cd16df29...</td>\n    </tr>\n    <tr>\n      <th>523484</th>\n      <td>1</td>\n      <td>e5a0622066ff24c4e3b0b5761f9923d9c7063d4975c62c...</td>\n    </tr>\n    <tr>\n      <th>523485</th>\n      <td>1</td>\n      <td>054ead616bd254d7d897bed0a743286640c92a1e96c30b...</td>\n    </tr>\n    <tr>\n      <th>523486</th>\n      <td>1</td>\n      <td>974a62ec8f67266600bf23d3cd1335f9ed0cd4ed38938b...</td>\n    </tr>\n    <tr>\n      <th>523487</th>\n      <td>1</td>\n      <td>7ba4a8f44b3ceb1ddb6e472af46a9228db480e48e5441e...</td>\n    </tr>\n    <tr>\n      <th>523488</th>\n      <td>1</td>\n      <td>b1dfb36fb5447cf57c3af75ba95a5d33dc5f5d694b0a55...</td>\n    </tr>\n    <tr>\n      <th>523489</th>\n      <td>1</td>\n      <td>a4eaf2f0c7614d915e225d7be1e8d6c07d7eb30e6fa765...</td>\n    </tr>\n    <tr>\n      <th>523490</th>\n      <td>1</td>\n      <td>1725ca8578d688b3c1935a1e967204cd54bd6f99c17f8f...</td>\n    </tr>\n    <tr>\n      <th>523491</th>\n      <td>1</td>\n      <td>1d13dddaddce6d3c9f56af9e043315c9f29b7a58a35432...</td>\n    </tr>\n    <tr>\n      <th>523492</th>\n      <td>1</td>\n      <td>7832960d6396dc44ca14983acc04542a12840566d31cf5...</td>\n    </tr>\n    <tr>\n      <th>523493</th>\n      <td>1</td>\n      <td>d08a1eea13271a8df34b3397713d222d66f123b5063284...</td>\n    </tr>\n    <tr>\n      <th>523494</th>\n      <td>1</td>\n      <td>f0b03cb6abd759100670889405b4abe42da41d59cde98b...</td>\n    </tr>\n    <tr>\n      <th>523495</th>\n      <td>1</td>\n      <td>e771cd3ef22c6207fc9e20272d9b9ac8c3bcc29a87ecbb...</td>\n    </tr>\n    <tr>\n      <th>523496</th>\n      <td>1</td>\n      <td>244b40afa6330fdb300da2ad9c35cc561026d3ccac2386...</td>\n    </tr>\n    <tr>\n      <th>523497</th>\n      <td>1</td>\n      <td>6ade1722cee0f1b1bdc15277cbed33da6f865cdce11dda...</td>\n    </tr>\n    <tr>\n      <th>523498</th>\n      <td>1</td>\n      <td>38d4d25a29f2df5cdf01991f8503a4e9feb116c96f93e4...</td>\n    </tr>\n    <tr>\n      <th>523499</th>\n      <td>1</td>\n      <td>5bae2e2754cb485b2c4fb1dce4b4e4261525d8ead9b56a...</td>\n    </tr>\n    <tr>\n      <th>523500</th>\n      <td>1</td>\n      <td>00892549dcbeb8d8d309264f81eb984bfd6477b8fd8d3a...</td>\n    </tr>\n    <tr>\n      <th>523501</th>\n      <td>1</td>\n      <td>0c9dc0e1c30e29c05cf61e6126c791528be8303f4f5888...</td>\n    </tr>\n    <tr>\n      <th>523502</th>\n      <td>1</td>\n      <td>b16de74c2dc11eece12da2a8c1362d5e009db716fcc1b1...</td>\n    </tr>\n    <tr>\n      <th>523503</th>\n      <td>1</td>\n      <td>afbb8d1e97cfe87bff326eaeaaabee31746b55efb52f4c...</td>\n    </tr>\n    <tr>\n      <th>523504</th>\n      <td>1</td>\n      <td>c1e641c02f211802cd4eb58b5e8bedbd3176d66ba916bf...</td>\n    </tr>\n    <tr>\n      <th>523505</th>\n      <td>1</td>\n      <td>bbdd72c8b86e645941b224a33204e10c9356c263e6f361...</td>\n    </tr>\n    <tr>\n      <th>523506</th>\n      <td>1</td>\n      <td>3a4bb01e6999d65c05adda384f4082b24e0708406817f8...</td>\n    </tr>\n    <tr>\n      <th>523507</th>\n      <td>1</td>\n      <td>6bb6333506d0c3a38ea507a020214fd0546ef16f3dfd3d...</td>\n    </tr>\n    <tr>\n      <th>523508</th>\n      <td>1</td>\n      <td>f6eb2cf635b2bba85aa732f4299e414a66e9723ab7922f...</td>\n    </tr>\n    <tr>\n      <th>523509</th>\n      <td>1</td>\n      <td>ebb1b10efbd2c6f666ed76b62051c5990bae6777b7520d...</td>\n    </tr>\n    <tr>\n      <th>523510</th>\n      <td>1</td>\n      <td>1c297863ed420af8c81192c0c95844c336a68d9ae66930...</td>\n    </tr>\n  </tbody>\n</table>\n<p>523511 rows × 2 columns</p>\n</div>"
          },
          "metadata": {}
        }
      ]
    },
    {
      "metadata": {
        "_uuid": "fa432e43e8dec711fad0b8b7af37f2e4db1a3079",
        "_cell_guid": "5a6f5219-6a0c-4446-8bd6-7f2a1772332b"
      },
      "cell_type": "markdown",
      "source": "---\n# Keep Going\n[Click here](https://www.kaggle.com/dansbecker/joining-data) to learn how to combine multiple data sources with the JOIN command.\n\n# Feedback\nBring any questions or feedback to the [Learn Discussion Forum](kaggle.com/learn-forum).\n\n----\n\n*This tutorial is part of the [SQL Series](https://www.kaggle.com/learn/sql) on Kaggle Learn.*"
    }
  ],
  "metadata": {
    "kernelspec": {
      "display_name": "Python 3",
      "language": "python",
      "name": "python3"
    },
    "language_info": {
      "name": "python",
      "version": "3.6.5",
      "mimetype": "text/x-python",
      "codemirror_mode": {
        "name": "ipython",
        "version": 3
      },
      "pygments_lexer": "ipython3",
      "nbconvert_exporter": "python",
      "file_extension": ".py"
    }
  },
  "nbformat": 4,
  "nbformat_minor": 1
}