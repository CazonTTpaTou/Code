{
  "cells": [
    {
      "metadata": {
        "_cell_guid": "ceb3b54f-4199-46e1-acce-7e5d79432f2e",
        "_uuid": "eefe260736ba6ae7070912a2cb2f0179593974dc"
      },
      "cell_type": "markdown",
      "source": "# Summary functions and maps workbook\n\n## Introduction\n\nThis is the workbook component to the \"Summary functions and maps\" section of the Advanced Pandas tutorial. For the reference, [click here](https://www.kaggle.com/residentmario/summary-functions-and-maps-reference).\n\nIn the last section we learned how to select relevant data out of our `pandas` `DataFrame` and `Series` objects. Plucking the right data out of our data representation is critical to getting work done, as we demonstrated in the visualization exercises attached to the workbook.\n\nHowever, the data does not always come out of memory in the format we want it in right out of the bat. Sometimes we have to do some more work ourselves to reformat it for the task at hand.\n\nThe remainder of this tutorial will cover different operations we can apply to our data to get the input \"just right\". We'll start off in this section by looking at the most commonly looked built-in reshaping operations. Along the way we'll cover data `dtypes`, a concept essential to working with `pandas` effectively."
    },
    {
      "metadata": {
        "_cell_guid": "fde3f674-6fd0-41f2-bf55-b2af076c065f",
        "collapsed": true,
        "_uuid": "f93afaffdb6993c6fbd1a0229fdb130cf372e8a4",
        "trusted": true
      },
      "cell_type": "code",
      "source": "import pandas as pd\npd.set_option('max_rows', 5)\nimport numpy as np\nfrom learntools.advanced_pandas.summary_functions_maps import *\n\nreviews = pd.read_csv(\"../input/wine-reviews/winemag-data-130k-v2.csv\", index_col=0)",
      "execution_count": 1,
      "outputs": []
    },
    {
      "metadata": {
        "_cell_guid": "872d5b77-dc25-41ac-8127-93da91565712",
        "_uuid": "f928b1b5d733f9a5abca1f60a5cf84518438d768"
      },
      "cell_type": "markdown",
      "source": "Look at an overview of your data by running the line below:"
    },
    {
      "metadata": {
        "_cell_guid": "6a5f3cbe-2b0a-4ef6-816f-65adb866f63c",
        "_uuid": "ffa2d47df5c3119929fee7234fdfdc53ac15071c"
      },
      "cell_type": "markdown",
      "source": "# Checking Answers\n\n**Check your answers in each exercise using the  `check_qN` function** (replacing `N` with the number of the exercise). For example here's how you would check an incorrect answer to exercise 1:"
    },
    {
      "metadata": {
        "_cell_guid": "547ec9e3-02f9-4b09-885a-3f97fc0bedbe",
        "collapsed": true,
        "_uuid": "42bad74646c49cec61bf5f0014200bf37eed46f8",
        "trusted": false
      },
      "cell_type": "code",
      "source": "check_q1(pd.DataFrame())",
      "execution_count": null,
      "outputs": []
    },
    {
      "metadata": {
        "_cell_guid": "50b1febe-4440-4c6a-8ea0-9290360d332a",
        "_uuid": "aebe052470e69f579b33bfa7c9dbfa5c1b59e31b"
      },
      "cell_type": "markdown",
      "source": "If you get stuck, **use the `answer_qN` function to see the code with the correct answer.**\n\nFor the first set of questions, running the `check_qN` on the correct answer returns `True`.\n\nFor the second set of questions, using this function to check a correct answer will present an informative graph!\n"
    },
    {
      "metadata": {
        "_cell_guid": "97d5f969-1ce2-43f5-aab2-97c617fb73a9",
        "_uuid": "a921868d97a94733892f77700c894272bfd5c215"
      },
      "cell_type": "markdown",
      "source": "## Exercises\n\nLook at your data by running the cell below:"
    },
    {
      "metadata": {
        "_cell_guid": "617910d3-8d7d-4179-a5c4-6f3f0c996e4e",
        "_uuid": "e060edab17be9f22fcb0e92b6b85817f933b8510",
        "trusted": true
      },
      "cell_type": "code",
      "source": "reviews.head()",
      "execution_count": 2,
      "outputs": [
        {
          "output_type": "execute_result",
          "execution_count": 2,
          "data": {
            "text/plain": "    country                                        description  \\\n0     Italy  Aromas include tropical fruit, broom, brimston...   \n1  Portugal  This is ripe and fruity, a wine that is smooth...   \n2        US  Tart and snappy, the flavors of lime flesh and...   \n3        US  Pineapple rind, lemon pith and orange blossom ...   \n4        US  Much like the regular bottling from 2012, this...   \n\n                          designation  points  price           province  \\\n0                        Vulkà Bianco      87    NaN  Sicily & Sardinia   \n1                            Avidagos      87   15.0              Douro   \n2                                 NaN      87   14.0             Oregon   \n3                Reserve Late Harvest      87   13.0           Michigan   \n4  Vintner's Reserve Wild Child Block      87   65.0             Oregon   \n\n              region_1           region_2         taster_name  \\\n0                 Etna                NaN       Kerin O’Keefe   \n1                  NaN                NaN          Roger Voss   \n2    Willamette Valley  Willamette Valley        Paul Gregutt   \n3  Lake Michigan Shore                NaN  Alexander Peartree   \n4    Willamette Valley  Willamette Valley        Paul Gregutt   \n\n  taster_twitter_handle                                              title  \\\n0          @kerinokeefe                  Nicosia 2013 Vulkà Bianco  (Etna)   \n1            @vossroger      Quinta dos Avidagos 2011 Avidagos Red (Douro)   \n2           @paulgwine       Rainstorm 2013 Pinot Gris (Willamette Valley)   \n3                   NaN  St. Julian 2013 Reserve Late Harvest Riesling ...   \n4           @paulgwine   Sweet Cheeks 2012 Vintner's Reserve Wild Child...   \n\n          variety               winery  \n0     White Blend              Nicosia  \n1  Portuguese Red  Quinta dos Avidagos  \n2      Pinot Gris            Rainstorm  \n3        Riesling           St. Julian  \n4      Pinot Noir         Sweet Cheeks  ",
            "text/html": "<div>\n<style scoped>\n    .dataframe tbody tr th:only-of-type {\n        vertical-align: middle;\n    }\n\n    .dataframe tbody tr th {\n        vertical-align: top;\n    }\n\n    .dataframe thead th {\n        text-align: right;\n    }\n</style>\n<table border=\"1\" class=\"dataframe\">\n  <thead>\n    <tr style=\"text-align: right;\">\n      <th></th>\n      <th>country</th>\n      <th>description</th>\n      <th>designation</th>\n      <th>points</th>\n      <th>price</th>\n      <th>province</th>\n      <th>region_1</th>\n      <th>region_2</th>\n      <th>taster_name</th>\n      <th>taster_twitter_handle</th>\n      <th>title</th>\n      <th>variety</th>\n      <th>winery</th>\n    </tr>\n  </thead>\n  <tbody>\n    <tr>\n      <th>0</th>\n      <td>Italy</td>\n      <td>Aromas include tropical fruit, broom, brimston...</td>\n      <td>Vulkà Bianco</td>\n      <td>87</td>\n      <td>NaN</td>\n      <td>Sicily &amp; Sardinia</td>\n      <td>Etna</td>\n      <td>NaN</td>\n      <td>Kerin O’Keefe</td>\n      <td>@kerinokeefe</td>\n      <td>Nicosia 2013 Vulkà Bianco  (Etna)</td>\n      <td>White Blend</td>\n      <td>Nicosia</td>\n    </tr>\n    <tr>\n      <th>1</th>\n      <td>Portugal</td>\n      <td>This is ripe and fruity, a wine that is smooth...</td>\n      <td>Avidagos</td>\n      <td>87</td>\n      <td>15.0</td>\n      <td>Douro</td>\n      <td>NaN</td>\n      <td>NaN</td>\n      <td>Roger Voss</td>\n      <td>@vossroger</td>\n      <td>Quinta dos Avidagos 2011 Avidagos Red (Douro)</td>\n      <td>Portuguese Red</td>\n      <td>Quinta dos Avidagos</td>\n    </tr>\n    <tr>\n      <th>2</th>\n      <td>US</td>\n      <td>Tart and snappy, the flavors of lime flesh and...</td>\n      <td>NaN</td>\n      <td>87</td>\n      <td>14.0</td>\n      <td>Oregon</td>\n      <td>Willamette Valley</td>\n      <td>Willamette Valley</td>\n      <td>Paul Gregutt</td>\n      <td>@paulgwine</td>\n      <td>Rainstorm 2013 Pinot Gris (Willamette Valley)</td>\n      <td>Pinot Gris</td>\n      <td>Rainstorm</td>\n    </tr>\n    <tr>\n      <th>3</th>\n      <td>US</td>\n      <td>Pineapple rind, lemon pith and orange blossom ...</td>\n      <td>Reserve Late Harvest</td>\n      <td>87</td>\n      <td>13.0</td>\n      <td>Michigan</td>\n      <td>Lake Michigan Shore</td>\n      <td>NaN</td>\n      <td>Alexander Peartree</td>\n      <td>NaN</td>\n      <td>St. Julian 2013 Reserve Late Harvest Riesling ...</td>\n      <td>Riesling</td>\n      <td>St. Julian</td>\n    </tr>\n    <tr>\n      <th>4</th>\n      <td>US</td>\n      <td>Much like the regular bottling from 2012, this...</td>\n      <td>Vintner's Reserve Wild Child Block</td>\n      <td>87</td>\n      <td>65.0</td>\n      <td>Oregon</td>\n      <td>Willamette Valley</td>\n      <td>Willamette Valley</td>\n      <td>Paul Gregutt</td>\n      <td>@paulgwine</td>\n      <td>Sweet Cheeks 2012 Vintner's Reserve Wild Child...</td>\n      <td>Pinot Noir</td>\n      <td>Sweet Cheeks</td>\n    </tr>\n  </tbody>\n</table>\n</div>"
          },
          "metadata": {}
        }
      ]
    },
    {
      "metadata": {
        "_cell_guid": "27108510-72e4-4b96-9a9f-91ca467ae69e",
        "_uuid": "ddf41baa215da4eac422b653716d028d86619f29"
      },
      "cell_type": "markdown",
      "source": "**Exercise 1**: What is the median of the `points` column?"
    },
    {
      "metadata": {
        "_cell_guid": "57257af5-6a8d-4585-9708-d9293ef5fdd0",
        "_uuid": "b0cedffda6b609ce018b7bf58ad511307458dd6e",
        "trusted": true
      },
      "cell_type": "code",
      "source": "med = reviews.points.median()\nmed",
      "execution_count": 6,
      "outputs": [
        {
          "output_type": "execute_result",
          "execution_count": 6,
          "data": {
            "text/plain": "88.0"
          },
          "metadata": {}
        }
      ]
    },
    {
      "metadata": {
        "_cell_guid": "5d18dd56-6cb9-4a31-994c-19cfdc67c0d9",
        "_uuid": "f91395e1752525f0d8d73700407c95e7d8ad35af"
      },
      "cell_type": "markdown",
      "source": "**Exercise 2**: What countries are represented in the dataset?"
    },
    {
      "metadata": {
        "_cell_guid": "2219317d-6627-4082-930d-ab1962b444e4",
        "_uuid": "19219235053287a1fb1ae3f9c15f112e8625f14e",
        "trusted": true
      },
      "cell_type": "code",
      "source": "countr_uniq = reviews.country.unique()\ncountr_uniq",
      "execution_count": 10,
      "outputs": [
        {
          "output_type": "execute_result",
          "execution_count": 10,
          "data": {
            "text/plain": "array(['Italy', 'Portugal', 'US', 'Spain', 'France', 'Germany',\n       'Argentina', 'Chile', 'Australia', 'Austria', 'South Africa',\n       'New Zealand', 'Israel', 'Hungary', 'Greece', 'Romania', 'Mexico',\n       'Canada', nan, 'Turkey', 'Czech Republic', 'Slovenia',\n       'Luxembourg', 'Croatia', 'Georgia', 'Uruguay', 'England',\n       'Lebanon', 'Serbia', 'Brazil', 'Moldova', 'Morocco', 'Peru',\n       'India', 'Bulgaria', 'Cyprus', 'Armenia', 'Switzerland',\n       'Bosnia and Herzegovina', 'Ukraine', 'Slovakia', 'Macedonia',\n       'China', 'Egypt'], dtype=object)"
          },
          "metadata": {}
        }
      ]
    },
    {
      "metadata": {
        "_cell_guid": "505f59af-ab2a-4648-81b1-cb5ae2c1ae74",
        "_uuid": "0b788fafed337639a804c96afab89b92fb8ec56e"
      },
      "cell_type": "markdown",
      "source": "**Exercise 3**: What countries appear in the dataset most often?"
    },
    {
      "metadata": {
        "_cell_guid": "89283723-297f-4850-a179-6295a6615683",
        "_uuid": "3d485ec9b3177ec9b70ebeac7914f51500faa878",
        "trusted": true
      },
      "cell_type": "code",
      "source": "mod = reviews.country.mode()\nmod\n#answer_q3()\nreviews.country.value_counts()\n\n",
      "execution_count": 15,
      "outputs": [
        {
          "output_type": "execute_result",
          "execution_count": 15,
          "data": {
            "text/plain": "US          54504\nFrance      22093\n            ...  \nSlovakia        1\nEgypt           1\nName: country, Length: 43, dtype: int64"
          },
          "metadata": {}
        }
      ]
    },
    {
      "metadata": {
        "_cell_guid": "ce551e25-c3cc-4db4-8a12-ff0aaff0df37",
        "_uuid": "a885a5e54b1fe2955098a10637eac3af9118f8b9"
      },
      "cell_type": "markdown",
      "source": "**Exercise 4**: Remap the `price` column by subtracting the median price. Use the `Series.map` method."
    },
    {
      "metadata": {
        "_cell_guid": "c334f6f6-76b3-42c0-8716-43d9319dac46",
        "_uuid": "db1648614ffab480292ec81009339267d9c5d42b",
        "trusted": true
      },
      "cell_type": "code",
      "source": "med = reviews.price.median()\nreduction = lambda x: x-med\nprix = reviews['price'].map(reduction)\nprix\n#answer_q4()",
      "execution_count": 20,
      "outputs": [
        {
          "output_type": "execute_result",
          "execution_count": 20,
          "data": {
            "text/plain": "0          NaN\n1        -10.0\n          ... \n129969     7.0\n129970    -4.0\nName: price, Length: 129971, dtype: float64"
          },
          "metadata": {}
        }
      ]
    },
    {
      "metadata": {
        "_cell_guid": "a69b83a3-fc5f-4c3f-b49e-86c84ef94721",
        "_uuid": "32cd19cff1b9a569960ed304e9c6176d67792299"
      },
      "cell_type": "markdown",
      "source": "**Exercise 5**: Remap the `price` column by subtracting the median price. Use the `DataFrame.apply` method."
    },
    {
      "metadata": {
        "_cell_guid": "1ba8f98d-c9c0-45c7-b4e3-92a457c27a8e",
        "_uuid": "fa8779bab713a62d7bc945555114ccf521c236a0",
        "trusted": true
      },
      "cell_type": "code",
      "source": "med = reviews.price.median()\nreduction = lambda x: x-med\nreviews['price'].apply(reduction)",
      "execution_count": 23,
      "outputs": [
        {
          "output_type": "execute_result",
          "execution_count": 23,
          "data": {
            "text/plain": "0          NaN\n1        -10.0\n          ... \n129969     7.0\n129970    -4.0\nName: price, Length: 129971, dtype: float64"
          },
          "metadata": {}
        }
      ]
    },
    {
      "metadata": {
        "_cell_guid": "2f1a49c1-87a2-4e0e-8f90-3d0770c6935a",
        "_uuid": "4c7dccfc6e6dcc09f97c38d29e016f84c6607062"
      },
      "cell_type": "markdown",
      "source": "**Exercise 6**: I\"m an economical wine buyer. Which wine in is the \"best bargain\", e.g., which wine has the highest points-to-price ratio in the dataset?\n\nHint: use a map and the [`argmax` function](http://pandas.pydata.org/pandas-docs/version/0.19.2/generated/pandas.Series.argmax.html)."
    },
    {
      "metadata": {
        "_cell_guid": "7d8cd2ad-c123-41b9-a6f4-9a69d95d836b",
        "_uuid": "a64044cabdda4291bec09c7ded3de3c62f9df8b7",
        "trusted": true
      },
      "cell_type": "code",
      "source": "reviews['price-ratio']=reviews.points/reviews.price\nindex_best = reviews['price-ratio'].idxmax()\nresult = reviews.loc[index_best,'title']\nresult",
      "execution_count": 35,
      "outputs": [
        {
          "output_type": "execute_result",
          "execution_count": 35,
          "data": {
            "text/plain": "'Bandit NV Merlot (California)'"
          },
          "metadata": {}
        }
      ]
    },
    {
      "metadata": {
        "_cell_guid": "433eaff6-4e2b-4304-8694-e70a11bf05df",
        "_uuid": "161b8f55577ad163e0f4406536f31f4a4847e706"
      },
      "cell_type": "markdown",
      "source": "Now it's time for some visual exercises. In the questions that follow, generate the data that we will need to have in order to produce the plots that follow. These exercises will use skills from this workbook as well as from previous ones. They look a lot like questions you will actually be asking when working with your own data!"
    },
    {
      "metadata": {
        "_cell_guid": "94e7f19d-ccf9-45a8-b2bf-432d1f9b7d90",
        "_uuid": "fa295d216882dadfbe127ad369efb67f521e47c6"
      },
      "cell_type": "markdown",
      "source": "<!--\n**Exercise 6**: Sometimes the `province` and `region_1` provided in the dataset is the same value. Create a `Series` whose values counts how many times this occurs (`True`) and doesn't occur (`False`).\n-->"
    },
    {
      "metadata": {
        "_cell_guid": "ea01da04-cd01-45bf-9592-6dab2d6f991c",
        "_uuid": "cb263542035a146fe49efe78d7e1bb18ae874b22"
      },
      "cell_type": "markdown",
      "source": "**Exercise 7**: There are only so many words you can use when describing a bottle of wine. Is a wine more likely to be \"tropical\" or \"fruity\"? Create a `Series` counting how many times each of these two words appears in the `description` column in the dataset.\n\nHint: use a map to check each description for the string `tropical`, then count up the number of times this is `True`. Repeat this for `fruity`. Create a `Series` combining the two values at the end."
    },
    {
      "metadata": {
        "_cell_guid": "a033c426-1e02-4462-8d5a-9924a2773758",
        "_uuid": "0dc4c1ea5cc2646e7cebcf905a00fce71d7740e9",
        "trusted": true
      },
      "cell_type": "code",
      "source": "nb_tropical = reviews.description.str.contains('tropical',case=False).sum()\nnb_fruity = reviews.description.str.contains('fruity',case=False).sum()\nnb_words=pd.Series([nb_tropical,nb_fruity],index=['tropical','fruity'])\nnb_words",
      "execution_count": 59,
      "outputs": [
        {
          "output_type": "execute_result",
          "execution_count": 59,
          "data": {
            "text/plain": "tropical    3800\nfruity      9455\ndtype: int64"
          },
          "metadata": {}
        }
      ]
    },
    {
      "metadata": {
        "_cell_guid": "e64c1c0d-dd13-4945-a74b-4b64f2e65186",
        "_uuid": "20cf342b102dee91b36aecfa5d213fb9a3fee8b9"
      },
      "cell_type": "markdown",
      "source": "**Exercise 8**: What combination of countries and varieties are most common?\n\nCreate a `Series` whose index consists of strings of the form `\"<Country> - <Wine Variety>\"`. For example, a pinot noir produced in the US should map to `\"US - Pinot Noir\"`. The values should be counts of how many times the given wine appears in the dataset. Drop any reviews with incomplete `country` or `variety` data.\n\nHint: you can do this in three steps. First, generate a `DataFrame` whose `country` and `variety` columns are non-null. Then use a map to create a series whose entries are a `str` concatenation of those two columns. Finally, generate a `Series` counting how many times each label appears in the dataset."
    },
    {
      "metadata": {
        "_cell_guid": "a8c2749e-4996-41bf-9031-31b9c3bf2cc2",
        "_uuid": "5301cd803c94500d641fad28c8617d1f7b4b35d1",
        "trusted": true
      },
      "cell_type": "code",
      "source": "data = reviews.loc[(reviews.country.notnull() & reviews.variety.notnull()),:].copy()\ncountry_variety = data['country'] + ' - ' + data['variety']\ncountry_variety.value_counts()",
      "execution_count": 58,
      "outputs": [
        {
          "output_type": "execute_result",
          "execution_count": 58,
          "data": {
            "text/plain": "US - Pinot Noir                 9885\nUS - Cabernet Sauvignon         7315\n                                ... \nAustralia - Shiraz-Roussanne       1\nHungary - Muscat Blanc             1\nLength: 1612, dtype: int64"
          },
          "metadata": {}
        }
      ]
    },
    {
      "metadata": {
        "_cell_guid": "7484fe30-6db2-4a0a-8b1f-67db1f52012b",
        "_uuid": "a38c20f7ad13253cd75df2a97e0a0d2e182b22df"
      },
      "cell_type": "markdown",
      "source": "# Keep Going\n**[Continue to grouping and sorting](https://www.kaggle.com/residentmario/grouping-and-sorting-workbook).**"
    }
  ],
  "metadata": {
    "language_info": {
      "name": "python",
      "version": "3.6.5",
      "mimetype": "text/x-python",
      "codemirror_mode": {
        "name": "ipython",
        "version": 3
      },
      "pygments_lexer": "ipython3",
      "nbconvert_exporter": "python",
      "file_extension": ".py"
    },
    "kernelspec": {
      "display_name": "Python 3",
      "language": "python",
      "name": "python3"
    }
  },
  "nbformat": 4,
  "nbformat_minor": 1
}