{
  "cells": [
    {
      "metadata": {
        "_cell_guid": "7d2c0bed-e234-4ed9-8418-50e2d4f261ce",
        "_uuid": "41ef69316a31179d29efa9126830d49db18ee849",
        "collapsed": true
      },
      "cell_type": "markdown",
      "source": "# Introduction\nMaps allow us to transform data in a `DataFrame` or `Series` one value at a time for an entire column. However, often we want to group our data, and then do something specific to the group the data is in. We do this with the `groupby` operation.\n\nIn these exercises we'll apply groupwise analysis to our dataset.\n\n# Relevant Resources\n- [**Grouping Reference and Examples**](https://www.kaggle.com/residentmario/grouping-and-sorting-reference).  \n- [Pandas cheat sheet](https://github.com/pandas-dev/pandas/blob/master/doc/cheatsheet/Pandas_Cheat_Sheet.pdf)"
    },
    {
      "metadata": {
        "_cell_guid": "8074a545-93e4-444d-97c3-5072424b82af",
        "_uuid": "cb1679d86e31ae07cae65734991dedc256477670"
      },
      "cell_type": "markdown",
      "source": "# Set Up\nRun the code cell below to load the data before running the exercises."
    },
    {
      "metadata": {
        "_cell_guid": "eeb0c820-9b90-427b-9ffe-5f19284612f6",
        "_uuid": "e2998b16c588cea8cfc151e8ea30e9c743715def",
        "trusted": true
      },
      "cell_type": "code",
      "source": "import pandas as pd\nfrom learntools.advanced_pandas.grouping_and_sorting import *\n\nreviews = pd.read_csv(\"../input/wine-reviews/winemag-data-130k-v2.csv\", index_col=0)\npd.set_option(\"display.max_rows\", 5)\nreviews.shape\nreviews.head()\n",
      "execution_count": 41,
      "outputs": [
        {
          "output_type": "execute_result",
          "execution_count": 41,
          "data": {
            "text/plain": "    country                                        description  \\\n0     Italy  Aromas include tropical fruit, broom, brimston...   \n1  Portugal  This is ripe and fruity, a wine that is smooth...   \n2        US  Tart and snappy, the flavors of lime flesh and...   \n3        US  Pineapple rind, lemon pith and orange blossom ...   \n4        US  Much like the regular bottling from 2012, this...   \n\n                          designation  points  price           province  \\\n0                        Vulkà Bianco      87    NaN  Sicily & Sardinia   \n1                            Avidagos      87   15.0              Douro   \n2                                 NaN      87   14.0             Oregon   \n3                Reserve Late Harvest      87   13.0           Michigan   \n4  Vintner's Reserve Wild Child Block      87   65.0             Oregon   \n\n              region_1           region_2         taster_name  \\\n0                 Etna                NaN       Kerin O’Keefe   \n1                  NaN                NaN          Roger Voss   \n2    Willamette Valley  Willamette Valley        Paul Gregutt   \n3  Lake Michigan Shore                NaN  Alexander Peartree   \n4    Willamette Valley  Willamette Valley        Paul Gregutt   \n\n  taster_twitter_handle                                              title  \\\n0          @kerinokeefe                  Nicosia 2013 Vulkà Bianco  (Etna)   \n1            @vossroger      Quinta dos Avidagos 2011 Avidagos Red (Douro)   \n2           @paulgwine       Rainstorm 2013 Pinot Gris (Willamette Valley)   \n3                   NaN  St. Julian 2013 Reserve Late Harvest Riesling ...   \n4           @paulgwine   Sweet Cheeks 2012 Vintner's Reserve Wild Child...   \n\n          variety               winery  \n0     White Blend              Nicosia  \n1  Portuguese Red  Quinta dos Avidagos  \n2      Pinot Gris            Rainstorm  \n3        Riesling           St. Julian  \n4      Pinot Noir         Sweet Cheeks  ",
            "text/html": "<div>\n<style scoped>\n    .dataframe tbody tr th:only-of-type {\n        vertical-align: middle;\n    }\n\n    .dataframe tbody tr th {\n        vertical-align: top;\n    }\n\n    .dataframe thead th {\n        text-align: right;\n    }\n</style>\n<table border=\"1\" class=\"dataframe\">\n  <thead>\n    <tr style=\"text-align: right;\">\n      <th></th>\n      <th>country</th>\n      <th>description</th>\n      <th>designation</th>\n      <th>points</th>\n      <th>price</th>\n      <th>province</th>\n      <th>region_1</th>\n      <th>region_2</th>\n      <th>taster_name</th>\n      <th>taster_twitter_handle</th>\n      <th>title</th>\n      <th>variety</th>\n      <th>winery</th>\n    </tr>\n  </thead>\n  <tbody>\n    <tr>\n      <th>0</th>\n      <td>Italy</td>\n      <td>Aromas include tropical fruit, broom, brimston...</td>\n      <td>Vulkà Bianco</td>\n      <td>87</td>\n      <td>NaN</td>\n      <td>Sicily &amp; Sardinia</td>\n      <td>Etna</td>\n      <td>NaN</td>\n      <td>Kerin O’Keefe</td>\n      <td>@kerinokeefe</td>\n      <td>Nicosia 2013 Vulkà Bianco  (Etna)</td>\n      <td>White Blend</td>\n      <td>Nicosia</td>\n    </tr>\n    <tr>\n      <th>1</th>\n      <td>Portugal</td>\n      <td>This is ripe and fruity, a wine that is smooth...</td>\n      <td>Avidagos</td>\n      <td>87</td>\n      <td>15.0</td>\n      <td>Douro</td>\n      <td>NaN</td>\n      <td>NaN</td>\n      <td>Roger Voss</td>\n      <td>@vossroger</td>\n      <td>Quinta dos Avidagos 2011 Avidagos Red (Douro)</td>\n      <td>Portuguese Red</td>\n      <td>Quinta dos Avidagos</td>\n    </tr>\n    <tr>\n      <th>2</th>\n      <td>US</td>\n      <td>Tart and snappy, the flavors of lime flesh and...</td>\n      <td>NaN</td>\n      <td>87</td>\n      <td>14.0</td>\n      <td>Oregon</td>\n      <td>Willamette Valley</td>\n      <td>Willamette Valley</td>\n      <td>Paul Gregutt</td>\n      <td>@paulgwine</td>\n      <td>Rainstorm 2013 Pinot Gris (Willamette Valley)</td>\n      <td>Pinot Gris</td>\n      <td>Rainstorm</td>\n    </tr>\n    <tr>\n      <th>3</th>\n      <td>US</td>\n      <td>Pineapple rind, lemon pith and orange blossom ...</td>\n      <td>Reserve Late Harvest</td>\n      <td>87</td>\n      <td>13.0</td>\n      <td>Michigan</td>\n      <td>Lake Michigan Shore</td>\n      <td>NaN</td>\n      <td>Alexander Peartree</td>\n      <td>NaN</td>\n      <td>St. Julian 2013 Reserve Late Harvest Riesling ...</td>\n      <td>Riesling</td>\n      <td>St. Julian</td>\n    </tr>\n    <tr>\n      <th>4</th>\n      <td>US</td>\n      <td>Much like the regular bottling from 2012, this...</td>\n      <td>Vintner's Reserve Wild Child Block</td>\n      <td>87</td>\n      <td>65.0</td>\n      <td>Oregon</td>\n      <td>Willamette Valley</td>\n      <td>Willamette Valley</td>\n      <td>Paul Gregutt</td>\n      <td>@paulgwine</td>\n      <td>Sweet Cheeks 2012 Vintner's Reserve Wild Child...</td>\n      <td>Pinot Noir</td>\n      <td>Sweet Cheeks</td>\n    </tr>\n  </tbody>\n</table>\n</div>"
          },
          "metadata": {}
        }
      ]
    },
    {
      "metadata": {
        "_cell_guid": "a2d79f51-1a14-45e8-ba9b-e22f267c4276",
        "_uuid": "c21ce253d787d7bb0f48ac3dcb0bd7529f3f86e8"
      },
      "cell_type": "markdown",
      "source": "# Checking Your Answers\n\n**Check your answers in each exercise using the  `check_qN` function** (replacing `N` with the number of the exercise). For example here's how you would check an incorrect answer to exercise 1:"
    },
    {
      "metadata": {
        "_cell_guid": "00da2801-5ca8-4450-b5a7-5da3b3c169c9",
        "_uuid": "d47f23574b313bd142ca2aef155f899c7517a2be",
        "collapsed": true,
        "trusted": false
      },
      "cell_type": "code",
      "source": "check_q1(pd.DataFrame())",
      "execution_count": null,
      "outputs": []
    },
    {
      "metadata": {
        "_cell_guid": "14c9fa0b-51a0-46bb-81bd-258939cb091e",
        "_uuid": "42020602eae94c3ebc5ca1108396523c8b3e9c7c"
      },
      "cell_type": "markdown",
      "source": "If you get stuck, **use the `answer_qN` function to see the code with the correct answer.**\n\nFor the first set of questions, running the `check_qN` on the correct answer returns `True`.\nFor the second set of questions, using this function to check a correct answer will present an informative graph!"
    },
    {
      "metadata": {
        "_cell_guid": "621631ef-b69c-4b85-823a-f713c6894a49",
        "_uuid": "8a2e7c4cbc0c359f16913ef0e86a6a479b5ce276"
      },
      "cell_type": "markdown",
      "source": "# Exercises"
    },
    {
      "metadata": {
        "_cell_guid": "45bbcdb0-ffce-4db5-aa8e-08cc59d25096",
        "_uuid": "ceae4b627d78a83b3a8c14ba5010462b24f63e15"
      },
      "cell_type": "markdown",
      "source": "**Exercise 1**: Who are the most common wine reviewers in the dataset? Create a `Series` whose index is the `taster_twitter_handle` category from the dataset, and whose values count how many reviews each person wrote."
    },
    {
      "metadata": {
        "_cell_guid": "3dca18bc-cdb8-4006-be38-39ccbe09dc22",
        "_uuid": "2bd63076e7282aba33ca05d81414a327b25791f4",
        "trusted": true
      },
      "cell_type": "code",
      "source": "reviews.groupby('taster_twitter_handle').title.count().sort_values(ascending=False)\n\n# common_wine_reviewers = _______\n# check_q1(common_wine_reviewers)",
      "execution_count": 53,
      "outputs": [
        {
          "output_type": "execute_result",
          "execution_count": 53,
          "data": {
            "text/plain": "taster_twitter_handle\n@vossroger         25514\n@wineschach        15134\n                   ...  \n@bkfiona              27\n@winewchristina        6\nName: title, Length: 15, dtype: int64"
          },
          "metadata": {}
        }
      ]
    },
    {
      "metadata": {
        "_cell_guid": "75a00eac-7227-4bba-8998-634e847f8df8",
        "_uuid": "e4a10285c994991a6d5194a61d58816a1e46c4b5"
      },
      "cell_type": "markdown",
      "source": "**Exercise 2**: What is the best wine I can buy for a given amount of money? Create a `Series` whose index is wine prices and whose values is the maximum number of points a wine costing that much was given in a review. Sort the valeus by price, ascending (so that `4.0` dollars is at the top and `3300.0` dollars is at the bottom)."
    },
    {
      "metadata": {
        "_cell_guid": "0fd24c2d-6682-447e-b7bf-fd8bc56b09a2",
        "_uuid": "00d5df0828a08419bc934dc4795a26d067337b1e",
        "trusted": true
      },
      "cell_type": "code",
      "source": "reviews.groupby('price').points.max().sort_index()\n\n# best_wine = ______\n# check_q2(best_wine)",
      "execution_count": 51,
      "outputs": [
        {
          "output_type": "execute_result",
          "execution_count": 51,
          "data": {
            "text/plain": "price\n4.0       86\n5.0       87\n          ..\n2500.0    96\n3300.0    88\nName: points, Length: 390, dtype: int64"
          },
          "metadata": {}
        }
      ]
    },
    {
      "metadata": {
        "_cell_guid": "25b51ad3-a410-43a5-9c19-cd321719e7d3",
        "_uuid": "24d0a38c0f999fcbe2085b55e60d5c0176bc6916"
      },
      "cell_type": "markdown",
      "source": "**Exercise 3**: What are the minimum and maximum prices for each `variety` of wine? Create a `DataFrame` whose index is the `variety` category from the dataset and whose values are the `min` and `max` values thereof."
    },
    {
      "metadata": {
        "_cell_guid": "8b9703f8-5965-40b4-b7a7-7260c01a2eab",
        "_uuid": "f07cc8572c1646ac57c53f80315eebb15f76d52f",
        "trusted": true
      },
      "cell_type": "code",
      "source": "reviews.groupby('variety').price.agg(['min','max'])\n\n# wine_price_extremes = _____\n# check_q3(wine_price_extremes)",
      "execution_count": 49,
      "outputs": [
        {
          "output_type": "execute_result",
          "execution_count": 49,
          "data": {
            "text/plain": "              min   max\nvariety                \nAbouriou     15.0  75.0\nAgiorgitiko  10.0  66.0\n...           ...   ...\nÇalkarası    19.0  19.0\nŽilavka      15.0  15.0\n\n[707 rows x 2 columns]",
            "text/html": "<div>\n<style scoped>\n    .dataframe tbody tr th:only-of-type {\n        vertical-align: middle;\n    }\n\n    .dataframe tbody tr th {\n        vertical-align: top;\n    }\n\n    .dataframe thead th {\n        text-align: right;\n    }\n</style>\n<table border=\"1\" class=\"dataframe\">\n  <thead>\n    <tr style=\"text-align: right;\">\n      <th></th>\n      <th>min</th>\n      <th>max</th>\n    </tr>\n    <tr>\n      <th>variety</th>\n      <th></th>\n      <th></th>\n    </tr>\n  </thead>\n  <tbody>\n    <tr>\n      <th>Abouriou</th>\n      <td>15.0</td>\n      <td>75.0</td>\n    </tr>\n    <tr>\n      <th>Agiorgitiko</th>\n      <td>10.0</td>\n      <td>66.0</td>\n    </tr>\n    <tr>\n      <th>...</th>\n      <td>...</td>\n      <td>...</td>\n    </tr>\n    <tr>\n      <th>Çalkarası</th>\n      <td>19.0</td>\n      <td>19.0</td>\n    </tr>\n    <tr>\n      <th>Žilavka</th>\n      <td>15.0</td>\n      <td>15.0</td>\n    </tr>\n  </tbody>\n</table>\n<p>707 rows × 2 columns</p>\n</div>"
          },
          "metadata": {}
        }
      ]
    },
    {
      "metadata": {
        "_cell_guid": "fc823a15-f6de-4355-9a9d-e3c1ffc79155",
        "_uuid": "cabccb4231a824d25692a9b4d60ae1752f4608aa"
      },
      "cell_type": "markdown",
      "source": "The rest of the exercises are visual.\n\n**Exercise 4**: Are there significant differences in the average scores assigned by the various reviewers? Create a `Series` whose index is reviewers and whose values is the average review score given out by that reviewer. Hint: you will need the `taster_name` and `points` columns."
    },
    {
      "metadata": {
        "_cell_guid": "7b3edc07-fdd3-40eb-a868-83ea2ba3c88d",
        "_uuid": "c8a99c4e3bbe35e9784448131beebe773c6467b8",
        "trusted": true
      },
      "cell_type": "code",
      "source": "reviews.groupby('taster_name').points.mean()\n\n# reviewer_mean_ratings = _____\n# check_q4(reviewer_mean_ratings)",
      "execution_count": 47,
      "outputs": [
        {
          "output_type": "execute_result",
          "execution_count": 47,
          "data": {
            "text/plain": "taster_name\nAlexander Peartree    85.855422\nAnna Lee C. Iijima    88.415629\n                        ...    \nSusan Kostrzewa       86.609217\nVirginie Boone        89.213379\nName: points, Length: 19, dtype: float64"
          },
          "metadata": {}
        }
      ]
    },
    {
      "metadata": {
        "_cell_guid": "746f335e-f558-4c87-bc7d-a3153029e1c4",
        "_uuid": "a1dbab04b493906ace97813c3bb9cc70445cb77d"
      },
      "cell_type": "markdown",
      "source": "**Exercise 5**: What are the most expensive wine varieties? Create a `DataFrame` whose index is wine varieties and whose values are columns with the `min` and the `max` price of wines of this variety. Sort in descending order based on `min` first, `max` second."
    },
    {
      "metadata": {
        "_cell_guid": "a579a539-0bfa-489b-84c3-abf4ea3c5c86",
        "_uuid": "867fbedd2147a388be82341867138b97afcfab8f",
        "trusted": true
      },
      "cell_type": "code",
      "source": "sr=reviews.groupby('variety').price.agg(['min','max']).sort_values(by=['min','max'],ascending=False)\nsr.loc['Airen']\nsr\n# wine_price_range = ____\n# check_q5(wine_price_range)",
      "execution_count": 45,
      "outputs": [
        {
          "output_type": "execute_result",
          "execution_count": 45,
          "data": {
            "text/plain": "             min    max\nvariety                \nRamisco    495.0  495.0\nTerrantez  236.0  236.0\n...          ...    ...\nVital        NaN    NaN\nZelen        NaN    NaN\n\n[707 rows x 2 columns]",
            "text/html": "<div>\n<style scoped>\n    .dataframe tbody tr th:only-of-type {\n        vertical-align: middle;\n    }\n\n    .dataframe tbody tr th {\n        vertical-align: top;\n    }\n\n    .dataframe thead th {\n        text-align: right;\n    }\n</style>\n<table border=\"1\" class=\"dataframe\">\n  <thead>\n    <tr style=\"text-align: right;\">\n      <th></th>\n      <th>min</th>\n      <th>max</th>\n    </tr>\n    <tr>\n      <th>variety</th>\n      <th></th>\n      <th></th>\n    </tr>\n  </thead>\n  <tbody>\n    <tr>\n      <th>Ramisco</th>\n      <td>495.0</td>\n      <td>495.0</td>\n    </tr>\n    <tr>\n      <th>Terrantez</th>\n      <td>236.0</td>\n      <td>236.0</td>\n    </tr>\n    <tr>\n      <th>...</th>\n      <td>...</td>\n      <td>...</td>\n    </tr>\n    <tr>\n      <th>Vital</th>\n      <td>NaN</td>\n      <td>NaN</td>\n    </tr>\n    <tr>\n      <th>Zelen</th>\n      <td>NaN</td>\n      <td>NaN</td>\n    </tr>\n  </tbody>\n</table>\n<p>707 rows × 2 columns</p>\n</div>"
          },
          "metadata": {}
        }
      ]
    },
    {
      "metadata": {
        "_cell_guid": "79671bbe-de91-4c2b-b677-cb8475a64548",
        "_uuid": "8a064d8e2da7085f9d6fd2882cc45a7885e9a8cf"
      },
      "cell_type": "markdown",
      "source": "**Exercise 6**: What combination of countries and varieties are most common? Create a `Series` whose index is a `MultiIndex`of `{country, variety}` pairs. For example, a pinot noir produced in the US should map to `{\"US\", \"Pinot Noir\"}`. Sort the values in the `Series` in descending order based on wine count.\n\nHint: first run `reviews['n'] = 0`. Then `groupby` the dataset and run something on the column `n`. You won't need `reset_index`."
    },
    {
      "metadata": {
        "_cell_guid": "96bd2a15-0ad0-4f8c-b961-9de8d36d276f",
        "_uuid": "d5d18245090702c6096b7d2ee986f228bc546917",
        "trusted": true
      },
      "cell_type": "code",
      "source": "reviews.groupby(['country','variety']).description.count().sort_values(ascending=False)\n# country_variety_pairs = _____\n# check_q6(country_variety_pairs)\n",
      "execution_count": 43,
      "outputs": [
        {
          "output_type": "execute_result",
          "execution_count": 43,
          "data": {
            "text/plain": "country    variety           \nUS         Pinot Noir            9885\n           Cabernet Sauvignon    7315\n                                 ... \nItaly      Moscato di Noto          1\nArgentina  Barbera                  1\nName: description, Length: 1612, dtype: int64"
          },
          "metadata": {}
        }
      ]
    },
    {
      "metadata": {
        "_cell_guid": "877e843c-f13c-4cf1-88de-efec90c72ff2",
        "_uuid": "822140aec7f254c7845df8237525bb4d944f6871"
      },
      "cell_type": "markdown",
      "source": "# Keep Going\n\nMove on to [**Data types and missing data workbook**](https://www.kaggle.com/residentmario/data-types-and-missing-data-workbook).\n\n___\nThis is part of the [*Learn Pandas*](https://www.kaggle.com/learn/pandas) series."
    }
  ],
  "metadata": {
    "kernelspec": {
      "display_name": "Python 3",
      "language": "python",
      "name": "python3"
    },
    "language_info": {
      "name": "python",
      "version": "3.6.5",
      "mimetype": "text/x-python",
      "codemirror_mode": {
        "name": "ipython",
        "version": 3
      },
      "pygments_lexer": "ipython3",
      "nbconvert_exporter": "python",
      "file_extension": ".py"
    }
  },
  "nbformat": 4,
  "nbformat_minor": 1
}