{
  "cells": [
    {
      "metadata": {
        "_uuid": "13862e491295654979f1c1a68d5b51050078c9a8",
        "_cell_guid": "ed441827-912f-4d26-bb30-962e494e4902"
      },
      "cell_type": "markdown",
      "source": "# Introduction\n\nThis is the workbook component of the \"Indexing, selecting, assigning\" section. For the reference component, [**click here**](https://www.kaggle.com/residentmario/indexing-selecting-assigning-reference).\n\nSelecting specific values of a `pandas` `DataFrame` or `Series` to work on is an implicit step in almost any data operation you'll run, so one of the first things you need to learn in working with data in Python is how to go about selecting the data points relevant to you quickly and effectively.\n\nIn this set of exercises we will work on exploring the [Wine Reviews dataset](https://www.kaggle.com/zynicide/wine-reviews). \n\n# Relevant Resources\n* **[Quickstart to indexing and selecting data](https://www.kaggle.com/residentmario/indexing-and-selecting-data/)** \n* [Indexing and Selecting Data](https://pandas.pydata.org/pandas-docs/stable/indexing.html) section of pandas documentation\n* [Pandas Cheat Sheet](https://assets.datacamp.com/blog_assets/PandasPythonForDataScience.pdf)\n\n\n"
    },
    {
      "metadata": {
        "_uuid": "186dca163ee5d64edb5e9c533d63b5ca9a278074",
        "_cell_guid": "ec3878ea-06ce-444d-ad5a-ce6b8a32d586"
      },
      "cell_type": "markdown",
      "source": "# Set Up\n**Fork this notebook using the button towards the top of the screen.**\n\nRun the following cell to load your data and some utility functions"
    },
    {
      "metadata": {
        "_uuid": "5bf2c033be7c19b418a11b3cca979720546a1e34",
        "_cell_guid": "497764a1-5328-44b6-8d23-3d7935fa3000",
        "collapsed": true,
        "trusted": true
      },
      "cell_type": "code",
      "source": "import pandas as pd\nimport seaborn as sns\n\nimport sys\nsys.path.append('../input/advanced-pandas-exercises/')\nfrom indexing_selecting_assigning import *\n\nreviews = pd.read_csv(\"../input/wine-reviews/winemag-data-130k-v2.csv\", index_col=0)\npd.set_option(\"display.max_rows\", 5)",
      "execution_count": 1,
      "outputs": []
    },
    {
      "metadata": {
        "_uuid": "94a8c222c0001e704841a1e9ce24db5f9a59c485",
        "_cell_guid": "44883696-4161-46b8-8dfc-f7d6a98482b9"
      },
      "cell_type": "markdown",
      "source": "Look at an overview of your data by running the following line"
    },
    {
      "metadata": {
        "_uuid": "87a9445923b613457f5790e0baff3585a3fe4c93",
        "_cell_guid": "6d0cb1b7-ea5f-4540-8865-0e9282f60e2f",
        "trusted": true
      },
      "cell_type": "code",
      "source": "reviews.head()",
      "execution_count": 2,
      "outputs": [
        {
          "output_type": "execute_result",
          "execution_count": 2,
          "data": {
            "text/plain": "    country                                        description  \\\n0     Italy  Aromas include tropical fruit, broom, brimston...   \n1  Portugal  This is ripe and fruity, a wine that is smooth...   \n2        US  Tart and snappy, the flavors of lime flesh and...   \n3        US  Pineapple rind, lemon pith and orange blossom ...   \n4        US  Much like the regular bottling from 2012, this...   \n\n                          designation  points  price           province  \\\n0                        Vulkà Bianco      87    NaN  Sicily & Sardinia   \n1                            Avidagos      87   15.0              Douro   \n2                                 NaN      87   14.0             Oregon   \n3                Reserve Late Harvest      87   13.0           Michigan   \n4  Vintner's Reserve Wild Child Block      87   65.0             Oregon   \n\n              region_1           region_2         taster_name  \\\n0                 Etna                NaN       Kerin O’Keefe   \n1                  NaN                NaN          Roger Voss   \n2    Willamette Valley  Willamette Valley        Paul Gregutt   \n3  Lake Michigan Shore                NaN  Alexander Peartree   \n4    Willamette Valley  Willamette Valley        Paul Gregutt   \n\n  taster_twitter_handle                                              title  \\\n0          @kerinokeefe                  Nicosia 2013 Vulkà Bianco  (Etna)   \n1            @vossroger      Quinta dos Avidagos 2011 Avidagos Red (Douro)   \n2           @paulgwine       Rainstorm 2013 Pinot Gris (Willamette Valley)   \n3                   NaN  St. Julian 2013 Reserve Late Harvest Riesling ...   \n4           @paulgwine   Sweet Cheeks 2012 Vintner's Reserve Wild Child...   \n\n          variety               winery  \n0     White Blend              Nicosia  \n1  Portuguese Red  Quinta dos Avidagos  \n2      Pinot Gris            Rainstorm  \n3        Riesling           St. Julian  \n4      Pinot Noir         Sweet Cheeks  ",
            "text/html": "<div>\n<style scoped>\n    .dataframe tbody tr th:only-of-type {\n        vertical-align: middle;\n    }\n\n    .dataframe tbody tr th {\n        vertical-align: top;\n    }\n\n    .dataframe thead th {\n        text-align: right;\n    }\n</style>\n<table border=\"1\" class=\"dataframe\">\n  <thead>\n    <tr style=\"text-align: right;\">\n      <th></th>\n      <th>country</th>\n      <th>description</th>\n      <th>designation</th>\n      <th>points</th>\n      <th>price</th>\n      <th>province</th>\n      <th>region_1</th>\n      <th>region_2</th>\n      <th>taster_name</th>\n      <th>taster_twitter_handle</th>\n      <th>title</th>\n      <th>variety</th>\n      <th>winery</th>\n    </tr>\n  </thead>\n  <tbody>\n    <tr>\n      <th>0</th>\n      <td>Italy</td>\n      <td>Aromas include tropical fruit, broom, brimston...</td>\n      <td>Vulkà Bianco</td>\n      <td>87</td>\n      <td>NaN</td>\n      <td>Sicily &amp; Sardinia</td>\n      <td>Etna</td>\n      <td>NaN</td>\n      <td>Kerin O’Keefe</td>\n      <td>@kerinokeefe</td>\n      <td>Nicosia 2013 Vulkà Bianco  (Etna)</td>\n      <td>White Blend</td>\n      <td>Nicosia</td>\n    </tr>\n    <tr>\n      <th>1</th>\n      <td>Portugal</td>\n      <td>This is ripe and fruity, a wine that is smooth...</td>\n      <td>Avidagos</td>\n      <td>87</td>\n      <td>15.0</td>\n      <td>Douro</td>\n      <td>NaN</td>\n      <td>NaN</td>\n      <td>Roger Voss</td>\n      <td>@vossroger</td>\n      <td>Quinta dos Avidagos 2011 Avidagos Red (Douro)</td>\n      <td>Portuguese Red</td>\n      <td>Quinta dos Avidagos</td>\n    </tr>\n    <tr>\n      <th>2</th>\n      <td>US</td>\n      <td>Tart and snappy, the flavors of lime flesh and...</td>\n      <td>NaN</td>\n      <td>87</td>\n      <td>14.0</td>\n      <td>Oregon</td>\n      <td>Willamette Valley</td>\n      <td>Willamette Valley</td>\n      <td>Paul Gregutt</td>\n      <td>@paulgwine</td>\n      <td>Rainstorm 2013 Pinot Gris (Willamette Valley)</td>\n      <td>Pinot Gris</td>\n      <td>Rainstorm</td>\n    </tr>\n    <tr>\n      <th>3</th>\n      <td>US</td>\n      <td>Pineapple rind, lemon pith and orange blossom ...</td>\n      <td>Reserve Late Harvest</td>\n      <td>87</td>\n      <td>13.0</td>\n      <td>Michigan</td>\n      <td>Lake Michigan Shore</td>\n      <td>NaN</td>\n      <td>Alexander Peartree</td>\n      <td>NaN</td>\n      <td>St. Julian 2013 Reserve Late Harvest Riesling ...</td>\n      <td>Riesling</td>\n      <td>St. Julian</td>\n    </tr>\n    <tr>\n      <th>4</th>\n      <td>US</td>\n      <td>Much like the regular bottling from 2012, this...</td>\n      <td>Vintner's Reserve Wild Child Block</td>\n      <td>87</td>\n      <td>65.0</td>\n      <td>Oregon</td>\n      <td>Willamette Valley</td>\n      <td>Willamette Valley</td>\n      <td>Paul Gregutt</td>\n      <td>@paulgwine</td>\n      <td>Sweet Cheeks 2012 Vintner's Reserve Wild Child...</td>\n      <td>Pinot Noir</td>\n      <td>Sweet Cheeks</td>\n    </tr>\n  </tbody>\n</table>\n</div>"
          },
          "metadata": {}
        }
      ]
    },
    {
      "metadata": {
        "_uuid": "0819443af6fb6b6873a46c293ce49ba78289a89d",
        "_cell_guid": "17c566a8-2801-4ca2-ba2c-654ed5e1e17d"
      },
      "cell_type": "markdown",
      "source": "# Checking Answers\n\nYou can check your answers in each of the exercises that follow using the  `check_qN` function provided in the code cell above (replacing `N` with the number of the exercise). For example here's how you would check an incorrect answer to exercise 1:"
    },
    {
      "metadata": {
        "_uuid": "0eed19f2928893a99c482c04b391324f10b1f813",
        "_cell_guid": "d84be9db-d3ac-419b-9520-8b3c621430ec",
        "trusted": false,
        "collapsed": true
      },
      "cell_type": "code",
      "source": "check_q1(pd.DataFrame())",
      "execution_count": null,
      "outputs": []
    },
    {
      "metadata": {
        "_uuid": "3d66fb5688ac4df6cc0830edd141003c2ee71537",
        "_cell_guid": "16402da6-fd1b-41aa-b089-545deccc384a"
      },
      "cell_type": "markdown",
      "source": "For the first set of questions, if you use `check_qN` on your answer, and your answer is right, a simple `True` value will be returned.\n\nFor the second set of questions, using this function to check a correct answer will present you will an informative graph!\n\nIf you get stuck, use `answer_qN` function to print the answer outright."
    },
    {
      "metadata": {
        "_uuid": "18bc3f3f42e3182bf8a94334fc51891700df20b7",
        "_cell_guid": "038328fc-3cb6-484d-b1fd-02fe569f44f3"
      },
      "cell_type": "markdown",
      "source": "# Exercises"
    },
    {
      "metadata": {
        "_uuid": "5b808702856343d30227350738e9afaf79569a36",
        "_cell_guid": "ad12fe94-371f-4f97-bfcd-816c010e22ae",
        "collapsed": true
      },
      "cell_type": "markdown",
      "source": "**Exercise 1**: Select the `description` column from `reviews`."
    },
    {
      "metadata": {
        "_uuid": "7ac619bd1d32f5e1bfdce6c67e6c4793dc51bbfb",
        "_cell_guid": "b28e2a54-3aad-4278-ae3f-90c0ba009964",
        "trusted": true
      },
      "cell_type": "code",
      "source": "column = reviews.loc[:,'description']\ncolumn.head(5)",
      "execution_count": 3,
      "outputs": [
        {
          "output_type": "execute_result",
          "execution_count": 3,
          "data": {
            "text/plain": "0    Aromas include tropical fruit, broom, brimston...\n1    This is ripe and fruity, a wine that is smooth...\n2    Tart and snappy, the flavors of lime flesh and...\n3    Pineapple rind, lemon pith and orange blossom ...\n4    Much like the regular bottling from 2012, this...\nName: description, dtype: object"
          },
          "metadata": {}
        }
      ]
    },
    {
      "metadata": {
        "_uuid": "b1953b7288f1e6664adcf7b22948999b17a0cdd7",
        "_cell_guid": "6c8d3db7-5a8d-46b1-8a45-80cf211cb7d3"
      },
      "cell_type": "markdown",
      "source": "**Exercise 2**: Select the first value from the description column of `reviews`."
    },
    {
      "metadata": {
        "_uuid": "9689e0f2dd35dc91d3fada053ff5fd3623a55241",
        "_cell_guid": "f44806b3-4c37-4af9-87c4-9bffaf2a665b",
        "trusted": true
      },
      "cell_type": "code",
      "source": "value = reviews.loc[0,'description']\nvalue",
      "execution_count": 4,
      "outputs": [
        {
          "output_type": "execute_result",
          "execution_count": 4,
          "data": {
            "text/plain": "\"Aromas include tropical fruit, broom, brimstone and dried herb. The palate isn't overly expressive, offering unripened apple, citrus and dried sage alongside brisk acidity.\""
          },
          "metadata": {}
        }
      ]
    },
    {
      "metadata": {
        "_uuid": "7fa5025f3d20fc0873d09e3074b3e06e3c2bd856",
        "_cell_guid": "a2fd5bd3-dae4-4030-a4e0-8e9575d53fe1"
      },
      "cell_type": "markdown",
      "source": "**Exercise 3**: Select the first row of data (the first record) from `reviews`. Hint: from this exercise onwards I strongly recommend using `loc` or `iloc`."
    },
    {
      "metadata": {
        "_uuid": "a6ce031ab720497962734344ed93eea16293e5bb",
        "_cell_guid": "ad874c6e-e666-4d1c-98e0-dc3e06645dc1",
        "trusted": true
      },
      "cell_type": "code",
      "source": "first = reviews.iloc[0,:]\nfirst",
      "execution_count": 6,
      "outputs": [
        {
          "output_type": "execute_result",
          "execution_count": 6,
          "data": {
            "text/plain": "country                                                    Italy\ndescription    Aromas include tropical fruit, broom, brimston...\n                                     ...                        \nvariety                                              White Blend\nwinery                                                   Nicosia\nName: 0, Length: 13, dtype: object"
          },
          "metadata": {}
        }
      ]
    },
    {
      "metadata": {
        "_uuid": "7b1db0811de09bf8466a4b63c623e8935f54e8f4",
        "_cell_guid": "e88c42bf-81e4-494f-802d-6d36be1da963"
      },
      "cell_type": "markdown",
      "source": "**Exercise 4**: Select the first 10 values from the `description` column in `reviews`. Hint: format your output as a `pandas` `Series`."
    },
    {
      "metadata": {
        "_uuid": "a98097fe18a6ee5196a287f4de1992df4a97a093",
        "_cell_guid": "0d81e71b-d73c-414c-ad54-bc8c4844fd1b",
        "trusted": true
      },
      "cell_type": "code",
      "source": "ten_first = pd.Series(reviews.loc[0:10,'description'])\nten_first\n",
      "execution_count": 9,
      "outputs": [
        {
          "output_type": "execute_result",
          "execution_count": 9,
          "data": {
            "text/plain": "0     Aromas include tropical fruit, broom, brimston...\n1     This is ripe and fruity, a wine that is smooth...\n                            ...                        \n9     This has great depth of flavor with its fresh ...\n10    Soft, supple plum envelopes an oaky structure ...\nName: description, Length: 11, dtype: object"
          },
          "metadata": {}
        }
      ]
    },
    {
      "metadata": {
        "_uuid": "38686efe5181343e1b88676a6b764a3b64f33b87",
        "_cell_guid": "bb6cf115-67d0-4238-9811-2a1a4ba0ab15"
      },
      "cell_type": "markdown",
      "source": "**Exercise 5**: Select the records with the `1`, `2`, `3`, `5`, and `8` row index positions. In other words, generate the following`DataFrame`:\n\n![](https://i.imgur.com/sHZvI1O.png)"
    },
    {
      "metadata": {
        "_uuid": "279f8f34ddfdb581c057ea1564c23d7a22b09cf0",
        "_cell_guid": "ddd495d4-6900-4d89-a3a3-dd1377f02b10",
        "trusted": true
      },
      "cell_type": "code",
      "source": "fancy_indexing = [1,2,3,5,8]\nview = reviews.iloc[fancy_indexing,:]\nview",
      "execution_count": 10,
      "outputs": [
        {
          "output_type": "execute_result",
          "execution_count": 10,
          "data": {
            "text/plain": "    country                                        description  \\\n1  Portugal  This is ripe and fruity, a wine that is smooth...   \n2        US  Tart and snappy, the flavors of lime flesh and...   \n3        US  Pineapple rind, lemon pith and orange blossom ...   \n5     Spain  Blackberry and raspberry aromas show a typical...   \n8   Germany  Savory dried thyme notes accent sunnier flavor...   \n\n            designation  points  price        province             region_1  \\\n1              Avidagos      87   15.0           Douro                  NaN   \n2                   NaN      87   14.0          Oregon    Willamette Valley   \n3  Reserve Late Harvest      87   13.0        Michigan  Lake Michigan Shore   \n5          Ars In Vitro      87   15.0  Northern Spain              Navarra   \n8                 Shine      87   12.0     Rheinhessen                  NaN   \n\n            region_2         taster_name taster_twitter_handle  \\\n1                NaN          Roger Voss            @vossroger   \n2  Willamette Valley        Paul Gregutt           @paulgwine    \n3                NaN  Alexander Peartree                   NaN   \n5                NaN   Michael Schachner           @wineschach   \n8                NaN  Anna Lee C. Iijima                   NaN   \n\n                                               title             variety  \\\n1      Quinta dos Avidagos 2011 Avidagos Red (Douro)      Portuguese Red   \n2      Rainstorm 2013 Pinot Gris (Willamette Valley)          Pinot Gris   \n3  St. Julian 2013 Reserve Late Harvest Riesling ...            Riesling   \n5  Tandem 2011 Ars In Vitro Tempranillo-Merlot (N...  Tempranillo-Merlot   \n8  Heinz Eifel 2013 Shine Gewürztraminer (Rheinhe...      Gewürztraminer   \n\n                winery  \n1  Quinta dos Avidagos  \n2            Rainstorm  \n3           St. Julian  \n5               Tandem  \n8          Heinz Eifel  ",
            "text/html": "<div>\n<style scoped>\n    .dataframe tbody tr th:only-of-type {\n        vertical-align: middle;\n    }\n\n    .dataframe tbody tr th {\n        vertical-align: top;\n    }\n\n    .dataframe thead th {\n        text-align: right;\n    }\n</style>\n<table border=\"1\" class=\"dataframe\">\n  <thead>\n    <tr style=\"text-align: right;\">\n      <th></th>\n      <th>country</th>\n      <th>description</th>\n      <th>designation</th>\n      <th>points</th>\n      <th>price</th>\n      <th>province</th>\n      <th>region_1</th>\n      <th>region_2</th>\n      <th>taster_name</th>\n      <th>taster_twitter_handle</th>\n      <th>title</th>\n      <th>variety</th>\n      <th>winery</th>\n    </tr>\n  </thead>\n  <tbody>\n    <tr>\n      <th>1</th>\n      <td>Portugal</td>\n      <td>This is ripe and fruity, a wine that is smooth...</td>\n      <td>Avidagos</td>\n      <td>87</td>\n      <td>15.0</td>\n      <td>Douro</td>\n      <td>NaN</td>\n      <td>NaN</td>\n      <td>Roger Voss</td>\n      <td>@vossroger</td>\n      <td>Quinta dos Avidagos 2011 Avidagos Red (Douro)</td>\n      <td>Portuguese Red</td>\n      <td>Quinta dos Avidagos</td>\n    </tr>\n    <tr>\n      <th>2</th>\n      <td>US</td>\n      <td>Tart and snappy, the flavors of lime flesh and...</td>\n      <td>NaN</td>\n      <td>87</td>\n      <td>14.0</td>\n      <td>Oregon</td>\n      <td>Willamette Valley</td>\n      <td>Willamette Valley</td>\n      <td>Paul Gregutt</td>\n      <td>@paulgwine</td>\n      <td>Rainstorm 2013 Pinot Gris (Willamette Valley)</td>\n      <td>Pinot Gris</td>\n      <td>Rainstorm</td>\n    </tr>\n    <tr>\n      <th>3</th>\n      <td>US</td>\n      <td>Pineapple rind, lemon pith and orange blossom ...</td>\n      <td>Reserve Late Harvest</td>\n      <td>87</td>\n      <td>13.0</td>\n      <td>Michigan</td>\n      <td>Lake Michigan Shore</td>\n      <td>NaN</td>\n      <td>Alexander Peartree</td>\n      <td>NaN</td>\n      <td>St. Julian 2013 Reserve Late Harvest Riesling ...</td>\n      <td>Riesling</td>\n      <td>St. Julian</td>\n    </tr>\n    <tr>\n      <th>5</th>\n      <td>Spain</td>\n      <td>Blackberry and raspberry aromas show a typical...</td>\n      <td>Ars In Vitro</td>\n      <td>87</td>\n      <td>15.0</td>\n      <td>Northern Spain</td>\n      <td>Navarra</td>\n      <td>NaN</td>\n      <td>Michael Schachner</td>\n      <td>@wineschach</td>\n      <td>Tandem 2011 Ars In Vitro Tempranillo-Merlot (N...</td>\n      <td>Tempranillo-Merlot</td>\n      <td>Tandem</td>\n    </tr>\n    <tr>\n      <th>8</th>\n      <td>Germany</td>\n      <td>Savory dried thyme notes accent sunnier flavor...</td>\n      <td>Shine</td>\n      <td>87</td>\n      <td>12.0</td>\n      <td>Rheinhessen</td>\n      <td>NaN</td>\n      <td>NaN</td>\n      <td>Anna Lee C. Iijima</td>\n      <td>NaN</td>\n      <td>Heinz Eifel 2013 Shine Gewürztraminer (Rheinhe...</td>\n      <td>Gewürztraminer</td>\n      <td>Heinz Eifel</td>\n    </tr>\n  </tbody>\n</table>\n</div>"
          },
          "metadata": {}
        }
      ]
    },
    {
      "metadata": {
        "_uuid": "7b1bf189d3acc0b71fb78f1dab4c0799d657988a",
        "_cell_guid": "c7a65b77-e302-42eb-bfdf-fe7656e94800"
      },
      "cell_type": "markdown",
      "source": "**Exercise 6**: Select the `country`, `province`, `region_1`, and `region_2` columns of the records with the `0`, `1`, `10`, and `100` index positions. In other words, generate the following `DataFrame`:\n\n![](https://i.imgur.com/FUCGiKP.png)"
    },
    {
      "metadata": {
        "_uuid": "d5f6dd18e401b34541add94b128ab826f51cdb32",
        "_cell_guid": "7f5fa62d-cac5-4613-a019-5a1b6c305af3",
        "trusted": true
      },
      "cell_type": "code",
      "source": "view = reviews.loc[[0,1,10,100],['country','province','region_1','region_2']]\nview",
      "execution_count": 13,
      "outputs": [
        {
          "output_type": "execute_result",
          "execution_count": 13,
          "data": {
            "text/plain": "      country           province      region_1      region_2\n0       Italy  Sicily & Sardinia          Etna           NaN\n1    Portugal              Douro           NaN           NaN\n10         US         California   Napa Valley          Napa\n100        US           New York  Finger Lakes  Finger Lakes",
            "text/html": "<div>\n<style scoped>\n    .dataframe tbody tr th:only-of-type {\n        vertical-align: middle;\n    }\n\n    .dataframe tbody tr th {\n        vertical-align: top;\n    }\n\n    .dataframe thead th {\n        text-align: right;\n    }\n</style>\n<table border=\"1\" class=\"dataframe\">\n  <thead>\n    <tr style=\"text-align: right;\">\n      <th></th>\n      <th>country</th>\n      <th>province</th>\n      <th>region_1</th>\n      <th>region_2</th>\n    </tr>\n  </thead>\n  <tbody>\n    <tr>\n      <th>0</th>\n      <td>Italy</td>\n      <td>Sicily &amp; Sardinia</td>\n      <td>Etna</td>\n      <td>NaN</td>\n    </tr>\n    <tr>\n      <th>1</th>\n      <td>Portugal</td>\n      <td>Douro</td>\n      <td>NaN</td>\n      <td>NaN</td>\n    </tr>\n    <tr>\n      <th>10</th>\n      <td>US</td>\n      <td>California</td>\n      <td>Napa Valley</td>\n      <td>Napa</td>\n    </tr>\n    <tr>\n      <th>100</th>\n      <td>US</td>\n      <td>New York</td>\n      <td>Finger Lakes</td>\n      <td>Finger Lakes</td>\n    </tr>\n  </tbody>\n</table>\n</div>"
          },
          "metadata": {}
        }
      ]
    },
    {
      "metadata": {
        "_uuid": "12b87365924856556f0d4b3550337dce29c6f8a1",
        "_cell_guid": "fe19502b-beb1-44f0-b13f-3926e02bbc2c"
      },
      "cell_type": "markdown",
      "source": "**Exercise 7**: Select the `country` and `variety` columns of the first 100 records. \n\nHint: you may use `loc` or `iloc`. When working on the answer this question and the several of the ones that follow, keep the following \"gotcha\" described in the [reference](https://www.kaggle.com/residentmario/indexing-selecting-assigning-reference) for this tutorial section:\n\n> `iloc` uses the Python stdlib indexing scheme, where the first element of the range is included and the last one excluded. So `0:10` will select entries `0,...,9`. `loc`, meanwhile, indexes inclusively. So `0:10` will select entries `0,...,10`.\n\n> [...]\n\n> ...[consider] when the DataFrame index is a simple numerical list, e.g. `0,...,1000`. In this case `df.iloc[0:1000]` will return 999 entries, while `df.loc[0:1000]` return 1000 of them! To get 1000 elements using `iloc`, you will need to go one higher and ask for `df.iloc[0:1001]`."
    },
    {
      "metadata": {
        "_uuid": "4b3ea349ff41a1f3f967453c8310abc3c2ca4f57",
        "_cell_guid": "f8a89edb-6a2f-49d6-a0b5-535494c03348",
        "trusted": true
      },
      "cell_type": "code",
      "source": "data = reviews.loc[0:99,['country','variety']]\ndata",
      "execution_count": 14,
      "outputs": [
        {
          "output_type": "execute_result",
          "execution_count": 14,
          "data": {
            "text/plain": "     country                   variety\n0      Italy               White Blend\n1   Portugal            Portuguese Red\n..       ...                       ...\n98     Italy                Sangiovese\n99        US  Bordeaux-style Red Blend\n\n[100 rows x 2 columns]",
            "text/html": "<div>\n<style scoped>\n    .dataframe tbody tr th:only-of-type {\n        vertical-align: middle;\n    }\n\n    .dataframe tbody tr th {\n        vertical-align: top;\n    }\n\n    .dataframe thead th {\n        text-align: right;\n    }\n</style>\n<table border=\"1\" class=\"dataframe\">\n  <thead>\n    <tr style=\"text-align: right;\">\n      <th></th>\n      <th>country</th>\n      <th>variety</th>\n    </tr>\n  </thead>\n  <tbody>\n    <tr>\n      <th>0</th>\n      <td>Italy</td>\n      <td>White Blend</td>\n    </tr>\n    <tr>\n      <th>1</th>\n      <td>Portugal</td>\n      <td>Portuguese Red</td>\n    </tr>\n    <tr>\n      <th>...</th>\n      <td>...</td>\n      <td>...</td>\n    </tr>\n    <tr>\n      <th>98</th>\n      <td>Italy</td>\n      <td>Sangiovese</td>\n    </tr>\n    <tr>\n      <th>99</th>\n      <td>US</td>\n      <td>Bordeaux-style Red Blend</td>\n    </tr>\n  </tbody>\n</table>\n<p>100 rows × 2 columns</p>\n</div>"
          },
          "metadata": {}
        }
      ]
    },
    {
      "metadata": {
        "_uuid": "60b84333af900162f9869a8a257b09f417d9f368",
        "_cell_guid": "739de3a4-9c07-461b-9937-0d0dc460ac7f"
      },
      "cell_type": "markdown",
      "source": "**Exercise 8**: Select wines made in `Italy`. Hint: `reviews.country` equals what?"
    },
    {
      "metadata": {
        "_uuid": "44b903e957e8ab31a879253efb380f7ed841b971",
        "_cell_guid": "7a965ec9-2b83-4198-94a8-03a13d2b4211",
        "trusted": true
      },
      "cell_type": "code",
      "source": "reviews.loc[reviews.country=='Italy',:]",
      "execution_count": 15,
      "outputs": [
        {
          "output_type": "execute_result",
          "execution_count": 15,
          "data": {
            "text/plain": "       country                                        description  \\\n0        Italy  Aromas include tropical fruit, broom, brimston...   \n6        Italy  Here's a bright, informal red that opens with ...   \n...        ...                                                ...   \n129961   Italy  Intense aromas of wild cherry, baking spice, t...   \n129962   Italy  Blackberry, cassis, grilled herb and toasted a...   \n\n                      designation  points  price           province  region_1  \\\n0                    Vulkà Bianco      87    NaN  Sicily & Sardinia      Etna   \n6                         Belsito      87   16.0  Sicily & Sardinia  Vittoria   \n...                           ...     ...    ...                ...       ...   \n129961                        NaN      90   30.0  Sicily & Sardinia   Sicilia   \n129962  Sàgana Tenuta San Giacomo      90   40.0  Sicily & Sardinia   Sicilia   \n\n       region_2    taster_name taster_twitter_handle  \\\n0           NaN  Kerin O’Keefe          @kerinokeefe   \n6           NaN  Kerin O’Keefe          @kerinokeefe   \n...         ...            ...                   ...   \n129961      NaN  Kerin O’Keefe          @kerinokeefe   \n129962      NaN  Kerin O’Keefe          @kerinokeefe   \n\n                                                    title       variety  \\\n0                       Nicosia 2013 Vulkà Bianco  (Etna)   White Blend   \n6        Terre di Giurfo 2013 Belsito Frappato (Vittoria)      Frappato   \n...                                                   ...           ...   \n129961                        COS 2013 Frappato (Sicilia)      Frappato   \n129962  Cusumano 2012 Sàgana Tenuta San Giacomo Nero d...  Nero d'Avola   \n\n                 winery  \n0               Nicosia  \n6       Terre di Giurfo  \n...                 ...  \n129961              COS  \n129962         Cusumano  \n\n[19540 rows x 13 columns]",
            "text/html": "<div>\n<style scoped>\n    .dataframe tbody tr th:only-of-type {\n        vertical-align: middle;\n    }\n\n    .dataframe tbody tr th {\n        vertical-align: top;\n    }\n\n    .dataframe thead th {\n        text-align: right;\n    }\n</style>\n<table border=\"1\" class=\"dataframe\">\n  <thead>\n    <tr style=\"text-align: right;\">\n      <th></th>\n      <th>country</th>\n      <th>description</th>\n      <th>designation</th>\n      <th>points</th>\n      <th>price</th>\n      <th>province</th>\n      <th>region_1</th>\n      <th>region_2</th>\n      <th>taster_name</th>\n      <th>taster_twitter_handle</th>\n      <th>title</th>\n      <th>variety</th>\n      <th>winery</th>\n    </tr>\n  </thead>\n  <tbody>\n    <tr>\n      <th>0</th>\n      <td>Italy</td>\n      <td>Aromas include tropical fruit, broom, brimston...</td>\n      <td>Vulkà Bianco</td>\n      <td>87</td>\n      <td>NaN</td>\n      <td>Sicily &amp; Sardinia</td>\n      <td>Etna</td>\n      <td>NaN</td>\n      <td>Kerin O’Keefe</td>\n      <td>@kerinokeefe</td>\n      <td>Nicosia 2013 Vulkà Bianco  (Etna)</td>\n      <td>White Blend</td>\n      <td>Nicosia</td>\n    </tr>\n    <tr>\n      <th>6</th>\n      <td>Italy</td>\n      <td>Here's a bright, informal red that opens with ...</td>\n      <td>Belsito</td>\n      <td>87</td>\n      <td>16.0</td>\n      <td>Sicily &amp; Sardinia</td>\n      <td>Vittoria</td>\n      <td>NaN</td>\n      <td>Kerin O’Keefe</td>\n      <td>@kerinokeefe</td>\n      <td>Terre di Giurfo 2013 Belsito Frappato (Vittoria)</td>\n      <td>Frappato</td>\n      <td>Terre di Giurfo</td>\n    </tr>\n    <tr>\n      <th>...</th>\n      <td>...</td>\n      <td>...</td>\n      <td>...</td>\n      <td>...</td>\n      <td>...</td>\n      <td>...</td>\n      <td>...</td>\n      <td>...</td>\n      <td>...</td>\n      <td>...</td>\n      <td>...</td>\n      <td>...</td>\n      <td>...</td>\n    </tr>\n    <tr>\n      <th>129961</th>\n      <td>Italy</td>\n      <td>Intense aromas of wild cherry, baking spice, t...</td>\n      <td>NaN</td>\n      <td>90</td>\n      <td>30.0</td>\n      <td>Sicily &amp; Sardinia</td>\n      <td>Sicilia</td>\n      <td>NaN</td>\n      <td>Kerin O’Keefe</td>\n      <td>@kerinokeefe</td>\n      <td>COS 2013 Frappato (Sicilia)</td>\n      <td>Frappato</td>\n      <td>COS</td>\n    </tr>\n    <tr>\n      <th>129962</th>\n      <td>Italy</td>\n      <td>Blackberry, cassis, grilled herb and toasted a...</td>\n      <td>Sàgana Tenuta San Giacomo</td>\n      <td>90</td>\n      <td>40.0</td>\n      <td>Sicily &amp; Sardinia</td>\n      <td>Sicilia</td>\n      <td>NaN</td>\n      <td>Kerin O’Keefe</td>\n      <td>@kerinokeefe</td>\n      <td>Cusumano 2012 Sàgana Tenuta San Giacomo Nero d...</td>\n      <td>Nero d'Avola</td>\n      <td>Cusumano</td>\n    </tr>\n  </tbody>\n</table>\n<p>19540 rows × 13 columns</p>\n</div>"
          },
          "metadata": {}
        }
      ]
    },
    {
      "metadata": {
        "_uuid": "791d4984ee7b23a75d71dc4571776dadfe5226b0",
        "_cell_guid": "0fdc460e-f8aa-455c-b1f5-53df0e1fa7bc"
      },
      "cell_type": "markdown",
      "source": "**Exercise 9**: Select wines whose `region_2` is not `NaN`."
    },
    {
      "metadata": {
        "_uuid": "72e4f1db01c3942b04332e1bf6667518d1a59970",
        "_cell_guid": "851ac090-28ab-4313-acba-0f2fea4435dd",
        "trusted": true
      },
      "cell_type": "code",
      "source": "reviews.loc[reviews.region_2.notnull()]",
      "execution_count": 16,
      "outputs": [
        {
          "output_type": "execute_result",
          "execution_count": 16,
          "data": {
            "text/plain": "       country                                        description  \\\n2           US  Tart and snappy, the flavors of lime flesh and...   \n4           US  Much like the regular bottling from 2012, this...   \n...        ...                                                ...   \n129952      US  This Zinfandel from the eastern section of Nap...   \n129967      US  Citation is given as much as a decade of bottl...   \n\n                               designation  points  price    province  \\\n2                                      NaN      87   14.0      Oregon   \n4       Vintner's Reserve Wild Child Block      87   65.0      Oregon   \n...                                    ...     ...    ...         ...   \n129952                                 NaN      90   22.0  California   \n129967                                 NaN      90   75.0      Oregon   \n\n                 region_1           region_2     taster_name  \\\n2       Willamette Valley  Willamette Valley    Paul Gregutt   \n4       Willamette Valley  Willamette Valley    Paul Gregutt   \n...                   ...                ...             ...   \n129952      Chiles Valley               Napa  Virginie Boone   \n129967             Oregon       Oregon Other    Paul Gregutt   \n\n       taster_twitter_handle  \\\n2                @paulgwine    \n4                @paulgwine    \n...                      ...   \n129952               @vboone   \n129967           @paulgwine    \n\n                                                    title     variety  \\\n2           Rainstorm 2013 Pinot Gris (Willamette Valley)  Pinot Gris   \n4       Sweet Cheeks 2012 Vintner's Reserve Wild Child...  Pinot Noir   \n...                                                   ...         ...   \n129952             Houdini 2011 Zinfandel (Chiles Valley)   Zinfandel   \n129967                  Citation 2004 Pinot Noir (Oregon)  Pinot Noir   \n\n              winery  \n2          Rainstorm  \n4       Sweet Cheeks  \n...              ...  \n129952       Houdini  \n129967      Citation  \n\n[50511 rows x 13 columns]",
            "text/html": "<div>\n<style scoped>\n    .dataframe tbody tr th:only-of-type {\n        vertical-align: middle;\n    }\n\n    .dataframe tbody tr th {\n        vertical-align: top;\n    }\n\n    .dataframe thead th {\n        text-align: right;\n    }\n</style>\n<table border=\"1\" class=\"dataframe\">\n  <thead>\n    <tr style=\"text-align: right;\">\n      <th></th>\n      <th>country</th>\n      <th>description</th>\n      <th>designation</th>\n      <th>points</th>\n      <th>price</th>\n      <th>province</th>\n      <th>region_1</th>\n      <th>region_2</th>\n      <th>taster_name</th>\n      <th>taster_twitter_handle</th>\n      <th>title</th>\n      <th>variety</th>\n      <th>winery</th>\n    </tr>\n  </thead>\n  <tbody>\n    <tr>\n      <th>2</th>\n      <td>US</td>\n      <td>Tart and snappy, the flavors of lime flesh and...</td>\n      <td>NaN</td>\n      <td>87</td>\n      <td>14.0</td>\n      <td>Oregon</td>\n      <td>Willamette Valley</td>\n      <td>Willamette Valley</td>\n      <td>Paul Gregutt</td>\n      <td>@paulgwine</td>\n      <td>Rainstorm 2013 Pinot Gris (Willamette Valley)</td>\n      <td>Pinot Gris</td>\n      <td>Rainstorm</td>\n    </tr>\n    <tr>\n      <th>4</th>\n      <td>US</td>\n      <td>Much like the regular bottling from 2012, this...</td>\n      <td>Vintner's Reserve Wild Child Block</td>\n      <td>87</td>\n      <td>65.0</td>\n      <td>Oregon</td>\n      <td>Willamette Valley</td>\n      <td>Willamette Valley</td>\n      <td>Paul Gregutt</td>\n      <td>@paulgwine</td>\n      <td>Sweet Cheeks 2012 Vintner's Reserve Wild Child...</td>\n      <td>Pinot Noir</td>\n      <td>Sweet Cheeks</td>\n    </tr>\n    <tr>\n      <th>...</th>\n      <td>...</td>\n      <td>...</td>\n      <td>...</td>\n      <td>...</td>\n      <td>...</td>\n      <td>...</td>\n      <td>...</td>\n      <td>...</td>\n      <td>...</td>\n      <td>...</td>\n      <td>...</td>\n      <td>...</td>\n      <td>...</td>\n    </tr>\n    <tr>\n      <th>129952</th>\n      <td>US</td>\n      <td>This Zinfandel from the eastern section of Nap...</td>\n      <td>NaN</td>\n      <td>90</td>\n      <td>22.0</td>\n      <td>California</td>\n      <td>Chiles Valley</td>\n      <td>Napa</td>\n      <td>Virginie Boone</td>\n      <td>@vboone</td>\n      <td>Houdini 2011 Zinfandel (Chiles Valley)</td>\n      <td>Zinfandel</td>\n      <td>Houdini</td>\n    </tr>\n    <tr>\n      <th>129967</th>\n      <td>US</td>\n      <td>Citation is given as much as a decade of bottl...</td>\n      <td>NaN</td>\n      <td>90</td>\n      <td>75.0</td>\n      <td>Oregon</td>\n      <td>Oregon</td>\n      <td>Oregon Other</td>\n      <td>Paul Gregutt</td>\n      <td>@paulgwine</td>\n      <td>Citation 2004 Pinot Noir (Oregon)</td>\n      <td>Pinot Noir</td>\n      <td>Citation</td>\n    </tr>\n  </tbody>\n</table>\n<p>50511 rows × 13 columns</p>\n</div>"
          },
          "metadata": {}
        }
      ]
    },
    {
      "metadata": {
        "_uuid": "c6647eb9b3debdccbf27b4477358d62fc6065db2",
        "_cell_guid": "7f9bcc9b-83ce-4330-963d-c2993b602571"
      },
      "cell_type": "markdown",
      "source": "The remaining exercises are visual."
    },
    {
      "metadata": {
        "_uuid": "83d3cf94f00cb52c29ddc735bfb3f96f6192a27a",
        "_cell_guid": "4df27dc6-87d5-44ae-9291-5e1569acac6d"
      },
      "cell_type": "markdown",
      "source": "**Exercise 10**: <!--What is the distribution of wine ratings assigned by Wine Magazine?--> Select the `points` column."
    },
    {
      "metadata": {
        "_uuid": "1dbea9335c0adf062d78a43fbfadf3fc122582a6",
        "_cell_guid": "f859a040-4cab-443c-9bee-cf6585f01a6f",
        "trusted": true
      },
      "cell_type": "code",
      "source": "reviews.points",
      "execution_count": 17,
      "outputs": [
        {
          "output_type": "execute_result",
          "execution_count": 17,
          "data": {
            "text/plain": "0         87\n1         87\n          ..\n129969    90\n129970    90\nName: points, Length: 129971, dtype: int64"
          },
          "metadata": {}
        }
      ]
    },
    {
      "metadata": {
        "_uuid": "b60ac9beb9e287c65fe31f756a9006326320465e",
        "_cell_guid": "86dfa923-c8be-4b03-b84f-e4e888d90816"
      },
      "cell_type": "markdown",
      "source": "**Exercise 11**: <!--What is the distribution of reviews scores for the first 1000 wines in the dataset?--> Select the `points` column for the first 1000 wines."
    },
    {
      "metadata": {
        "_uuid": "d8d13fb34cda115b00cda38903ac691b2592eba7",
        "_cell_guid": "fbefd44e-f6af-41ba-adcf-62c658fb7bbc",
        "trusted": true
      },
      "cell_type": "code",
      "source": "reviews.loc[0:999,'points']",
      "execution_count": 18,
      "outputs": [
        {
          "output_type": "execute_result",
          "execution_count": 18,
          "data": {
            "text/plain": "0      87\n1      87\n       ..\n998    88\n999    88\nName: points, Length: 1000, dtype: int64"
          },
          "metadata": {}
        }
      ]
    },
    {
      "metadata": {
        "_uuid": "16a8659d031254c01c8a25bad016aa7040bc7ca2",
        "_cell_guid": "f6f8126f-7d7c-447b-ba97-3910ce010d49"
      },
      "cell_type": "markdown",
      "source": "**Exercise 12**: <!--What is the distribution of reviews scores for the last 1000 wines in the dataset?--> Select the `points` column for the last 1000 wines."
    },
    {
      "metadata": {
        "_uuid": "8ca9d43f2cf3f1602ea3f53f3a1f56609adf11e8",
        "_cell_guid": "3296fb79-870a-4c8f-9126-abac0451c543",
        "trusted": true
      },
      "cell_type": "code",
      "source": "reviews.loc[len(reviews.points)-1000:,'points']",
      "execution_count": 21,
      "outputs": [
        {
          "output_type": "execute_result",
          "execution_count": 21,
          "data": {
            "text/plain": "128971    91\n128972    91\n          ..\n129969    90\n129970    90\nName: points, Length: 1000, dtype: int64"
          },
          "metadata": {}
        }
      ]
    },
    {
      "metadata": {
        "_uuid": "7416dd40ba264baa25f75c9583a4a896609f4eb6",
        "_cell_guid": "7b5287f1-9a12-4d08-89c3-054dc070878c"
      },
      "cell_type": "markdown",
      "source": "**Exercise 13**: <!--What is the distribution of reviews scores for wines made in Italy?--> Select the `points` column, but only for wines made in Italy."
    },
    {
      "metadata": {
        "_uuid": "7a9166bc624e4517abc140f91ac609f61b56050c",
        "_cell_guid": "37620840-d261-40b9-ac9e-758ada0049ac",
        "trusted": true
      },
      "cell_type": "code",
      "source": "reviews.loc[reviews.country=='Italy','points']",
      "execution_count": 22,
      "outputs": [
        {
          "output_type": "execute_result",
          "execution_count": 22,
          "data": {
            "text/plain": "0         87\n6         87\n          ..\n129961    90\n129962    90\nName: points, Length: 19540, dtype: int64"
          },
          "metadata": {}
        }
      ]
    },
    {
      "metadata": {
        "_uuid": "39f6c5f23156858a350c989c7d4a319d87e462fe",
        "_cell_guid": "0f7fb957-2242-45a7-8dfb-b696c3d56c57"
      },
      "cell_type": "markdown",
      "source": "**Exercise 14**: Who produces more above-averagely good wines, France or Italy? Select the `country` column, but only  when said `country` is one of those two options, _and_ the `points` column is greater than or equal to 90.\n\nYour output should look roughly like this:\n```\n119       France\n120        Italy\n           ...  \n129969    France\n129970    France\nName: country, Length: 15840, dtype: object\n```"
    },
    {
      "metadata": {
        "_uuid": "ac28247fdc7139ce33976dcb722271079dcffe07",
        "_cell_guid": "c2ec8e09-4cad-4039-900a-5b4b0966fea8",
        "trusted": true
      },
      "cell_type": "code",
      "source": "reviews.loc[((reviews.country=='France')|(reviews.country=='Italy'))&(reviews.points>=90),'country']",
      "execution_count": 25,
      "outputs": [
        {
          "output_type": "execute_result",
          "execution_count": 25,
          "data": {
            "text/plain": "119       France\n120        Italy\n           ...  \n129969    France\n129970    France\nName: country, Length: 15840, dtype: object"
          },
          "metadata": {}
        }
      ]
    },
    {
      "metadata": {
        "_uuid": "a83d3da821bf25b1cc19bc4de81e2738e36c4660",
        "_cell_guid": "97404b7b-c07a-4ed6-a68e-26402dea862e"
      },
      "cell_type": "markdown",
      "source": "## Keep going\n\nMove on to the [**Summary functions and maps workbook**](https://www.kaggle.com/residentmario/summary-functions-and-maps-workbook)."
    }
  ],
  "metadata": {
    "kernelspec": {
      "display_name": "Python 3",
      "language": "python",
      "name": "python3"
    },
    "language_info": {
      "name": "python",
      "version": "3.6.5",
      "mimetype": "text/x-python",
      "codemirror_mode": {
        "name": "ipython",
        "version": 3
      },
      "pygments_lexer": "ipython3",
      "nbconvert_exporter": "python",
      "file_extension": ".py"
    }
  },
  "nbformat": 4,
  "nbformat_minor": 1
}