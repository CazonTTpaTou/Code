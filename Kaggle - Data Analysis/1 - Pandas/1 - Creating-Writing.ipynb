{
  "cells": [
    {
      "metadata": {
        "_cell_guid": "efb8b603-f0d8-4ec2-99a6-6a67ec080f17",
        "_uuid": "821dbccf9832d3a36408b81fc110733b2fb12fcd"
      },
      "cell_type": "markdown",
      "source": "# Introduction\nWelcome to the **[Learn Pandas](https://www.kaggle.com/learn/pandas)** track. These hands-on exercises are targeted for someone who has worked with Pandas a little before. \nEach page it's own list of `relevant resources` you can use if you get stumped. The top item in each list has been custom-made to help you with the exercises on that page.\n\nThe first step in most data analytics projects is reading the data file. In this section, you'll create `Series` and `DataFrame` objects, both by hand and by reading data files.\n\n# Relevant Resources\n* ** [Creating, Reading and Writing Reference](https://www.kaggle.com/residentmario/creating-reading-and-writing-reference)**\n* [General Pandas Cheat Sheet](https://assets.datacamp.com/blog_assets/PandasPythonForDataScience.pdf)\n\n# Set Up\n**First, Fork this notebook using the button towards the top of the screen.  Then you can run and edit code in the cells below.**\n\nRun the code cell below to load libraries you will need (including coad to check your answers)."
    },
    {
      "metadata": {
        "_cell_guid": "a8203c90-46ec-4958-9041-829e81d92e42",
        "_uuid": "c20e15fb7c17fa437c9734129d3c9690a9240c75",
        "collapsed": true,
        "trusted": true
      },
      "cell_type": "code",
      "source": "import pandas as pd\npd.set_option('max_rows', 5)\n\nimport sys\nsys.path.append('../input/advanced-pandas-exercises/')\nfrom creating_reading_writing import *",
      "execution_count": 2,
      "outputs": []
    },
    {
      "metadata": {
        "_cell_guid": "b0f57fdb-3a89-4b0e-980b-c80591b48471",
        "_uuid": "157aa9d4c746b08ced9390f00eca8941512a548d"
      },
      "cell_type": "markdown",
      "source": "# Checking Answers\n\nYou can check your answers in each of the exercises that follow using the  `check_qN` function provided in the code cell above (replacing `N` with the number of the exercise). For example here's how you would check an incorrect answer to exercise 1:"
    },
    {
      "metadata": {
        "_cell_guid": "795c8aa5-8eb7-4320-a4a3-09fed84175b2",
        "_uuid": "e035d9f77a32545280adecc63ab1dc0263b3c9aa",
        "collapsed": true,
        "trusted": false
      },
      "cell_type": "code",
      "source": "check_q1(pd.DataFrame())",
      "execution_count": null,
      "outputs": []
    },
    {
      "metadata": {
        "_cell_guid": "67d4c62f-36f7-46c7-bd2d-75c6d8f0e616",
        "_uuid": "181dc283018b4503cfccef4dbbd3981e1ab4302f"
      },
      "cell_type": "markdown",
      "source": "For the questions that follow, if you use `check_qN` on your answer, and your answer is right, a simple `True` value will be returned.\n\nIf you get stuck, you may run the `print(answer_qN())` function to print the answer outright."
    },
    {
      "metadata": {
        "_cell_guid": "1d588271-b244-4ab5-a66f-2b3963fadc82",
        "_uuid": "2c6420c707d14bae3a0b817c2f0aa045bbc470ee"
      },
      "cell_type": "markdown",
      "source": "# Exercises"
    },
    {
      "metadata": {
        "_cell_guid": "5df74d84-9491-4057-a01d-cf40a3d1d39d",
        "_uuid": "b1a7567d6334c841e00f390ec42128f0f10e0a41"
      },
      "cell_type": "markdown",
      "source": "**Exercise 1**: Create a `DataFrame` that looks like this:\n\n![](https://i.imgur.com/Ax3pp2A.png)"
    },
    {
      "metadata": {
        "_cell_guid": "88885c4a-8cbd-494e-a8be-261aa5845ab0",
        "_uuid": "db8fd0bdecea1eb3f74ed075101ce676272a3f57",
        "trusted": true
      },
      "cell_type": "code",
      "source": "dictionnaire = {'Apples':[30],'Bananas':[21]}\npd.DataFrame(dictionnaire)",
      "execution_count": 4,
      "outputs": [
        {
          "output_type": "execute_result",
          "execution_count": 4,
          "data": {
            "text/plain": "   Apples  Bananas\n0      30       21",
            "text/html": "<div>\n<style scoped>\n    .dataframe tbody tr th:only-of-type {\n        vertical-align: middle;\n    }\n\n    .dataframe tbody tr th {\n        vertical-align: top;\n    }\n\n    .dataframe thead th {\n        text-align: right;\n    }\n</style>\n<table border=\"1\" class=\"dataframe\">\n  <thead>\n    <tr style=\"text-align: right;\">\n      <th></th>\n      <th>Apples</th>\n      <th>Bananas</th>\n    </tr>\n  </thead>\n  <tbody>\n    <tr>\n      <th>0</th>\n      <td>30</td>\n      <td>21</td>\n    </tr>\n  </tbody>\n</table>\n</div>"
          },
          "metadata": {}
        }
      ]
    },
    {
      "metadata": {
        "_cell_guid": "1d16dae3-41c5-4e2a-ba54-80838e171113",
        "_uuid": "85f5963c04c230b4b1a440b0bd2e4795a51f63c9"
      },
      "cell_type": "markdown",
      "source": "**Exercise 2**: Create the following `DataFrame`:\n\n![](https://i.imgur.com/CHPn7ZF.png)"
    },
    {
      "metadata": {
        "_cell_guid": "76d8939b-5a37-45cd-adbe-01ceb93b5211",
        "_uuid": "0f81afe385af4dde0314850a80d4adf508ad91f2",
        "trusted": true
      },
      "cell_type": "code",
      "source": "dictionnaire = {'Apples':[35,41],'Bananas':[21,34]}\npd.DataFrame(dictionnaire,index=['2017 Sales','2018 Sales'])",
      "execution_count": 5,
      "outputs": [
        {
          "output_type": "execute_result",
          "execution_count": 5,
          "data": {
            "text/plain": "            Apples  Bananas\n2017 Sales      35       21\n2018 Sales      41       34",
            "text/html": "<div>\n<style scoped>\n    .dataframe tbody tr th:only-of-type {\n        vertical-align: middle;\n    }\n\n    .dataframe tbody tr th {\n        vertical-align: top;\n    }\n\n    .dataframe thead th {\n        text-align: right;\n    }\n</style>\n<table border=\"1\" class=\"dataframe\">\n  <thead>\n    <tr style=\"text-align: right;\">\n      <th></th>\n      <th>Apples</th>\n      <th>Bananas</th>\n    </tr>\n  </thead>\n  <tbody>\n    <tr>\n      <th>2017 Sales</th>\n      <td>35</td>\n      <td>21</td>\n    </tr>\n    <tr>\n      <th>2018 Sales</th>\n      <td>41</td>\n      <td>34</td>\n    </tr>\n  </tbody>\n</table>\n</div>"
          },
          "metadata": {}
        }
      ]
    },
    {
      "metadata": {
        "_cell_guid": "adde33ec-19de-45cf-8de7-9740a7bc3172",
        "_uuid": "b3e38780c5306bcdd2d466fd741bca7445dca7d9"
      },
      "cell_type": "markdown",
      "source": "**Exercise 3**: Create a `Series` that looks like this:\n\n```\nFlour     4 cups\nMilk       1 cup\nEggs     2 large\nSpam       1 can\nName: Dinner, dtype: object\n```"
    },
    {
      "metadata": {
        "_cell_guid": "fc088fde-32bd-4a26-97f1-efbe1f851a4b",
        "_uuid": "22a5a566e7705cb57f15b6c15e5e64ed078d4627",
        "trusted": true
      },
      "cell_type": "code",
      "source": "dictionnaire_recette = {'Flour':'4 cups','Milk':'1 cup','Eggs':'2 large','Spam':'1 can'}\npd.Series(dictionnaire_recette,name='Dinner')",
      "execution_count": 9,
      "outputs": [
        {
          "output_type": "execute_result",
          "execution_count": 9,
          "data": {
            "text/plain": "Eggs     2 large\nFlour     4 cups\nMilk       1 cup\nSpam       1 can\nName: Dinner, dtype: object"
          },
          "metadata": {}
        }
      ]
    },
    {
      "metadata": {
        "_cell_guid": "b26ad337-26e6-4a6b-9fbc-d9106d308a8b",
        "_uuid": "b8c7ad15d6448e4b95f99cc64def47fdae10ab89"
      },
      "cell_type": "markdown",
      "source": "**Exercise 4**: Read the following `csv` dataset on wine reviews into the a `DataFrame`:\n\n![](https://i.imgur.com/74RCZtU.png)\n\nThe filepath to the CSV file is `../input/wine-reviews/winemag-data_first150k.csv`."
    },
    {
      "metadata": {
        "_cell_guid": "7b2fe999-1497-428c-bf48-c163e20a0476",
        "_uuid": "4c31028faf310cec34dd1cd38bf579c63a487e6f",
        "trusted": true
      },
      "cell_type": "code",
      "source": "df = pd.read_csv('../input/wine-reviews/winemag-data_first150k.csv')\ndf.head(5)",
      "execution_count": 10,
      "outputs": [
        {
          "output_type": "execute_result",
          "execution_count": 10,
          "data": {
            "text/plain": "   Unnamed: 0 country                                        description  \\\n0           0      US  This tremendous 100% varietal wine hails from ...   \n1           1   Spain  Ripe aromas of fig, blackberry and cassis are ...   \n2           2      US  Mac Watson honors the memory of a wine once ma...   \n3           3      US  This spent 20 months in 30% new French oak, an...   \n4           4  France  This is the top wine from La Bégude, named aft...   \n\n                            designation  points  price        province  \\\n0                     Martha's Vineyard      96  235.0      California   \n1  Carodorum Selección Especial Reserva      96  110.0  Northern Spain   \n2         Special Selected Late Harvest      96   90.0      California   \n3                               Reserve      96   65.0          Oregon   \n4                            La Brûlade      95   66.0        Provence   \n\n            region_1           region_2             variety  \\\n0        Napa Valley               Napa  Cabernet Sauvignon   \n1               Toro                NaN       Tinta de Toro   \n2     Knights Valley             Sonoma     Sauvignon Blanc   \n3  Willamette Valley  Willamette Valley          Pinot Noir   \n4             Bandol                NaN  Provence red blend   \n\n                    winery  \n0                    Heitz  \n1  Bodega Carmen Rodríguez  \n2                 Macauley  \n3                    Ponzi  \n4     Domaine de la Bégude  ",
            "text/html": "<div>\n<style scoped>\n    .dataframe tbody tr th:only-of-type {\n        vertical-align: middle;\n    }\n\n    .dataframe tbody tr th {\n        vertical-align: top;\n    }\n\n    .dataframe thead th {\n        text-align: right;\n    }\n</style>\n<table border=\"1\" class=\"dataframe\">\n  <thead>\n    <tr style=\"text-align: right;\">\n      <th></th>\n      <th>Unnamed: 0</th>\n      <th>country</th>\n      <th>description</th>\n      <th>designation</th>\n      <th>points</th>\n      <th>price</th>\n      <th>province</th>\n      <th>region_1</th>\n      <th>region_2</th>\n      <th>variety</th>\n      <th>winery</th>\n    </tr>\n  </thead>\n  <tbody>\n    <tr>\n      <th>0</th>\n      <td>0</td>\n      <td>US</td>\n      <td>This tremendous 100% varietal wine hails from ...</td>\n      <td>Martha's Vineyard</td>\n      <td>96</td>\n      <td>235.0</td>\n      <td>California</td>\n      <td>Napa Valley</td>\n      <td>Napa</td>\n      <td>Cabernet Sauvignon</td>\n      <td>Heitz</td>\n    </tr>\n    <tr>\n      <th>1</th>\n      <td>1</td>\n      <td>Spain</td>\n      <td>Ripe aromas of fig, blackberry and cassis are ...</td>\n      <td>Carodorum Selección Especial Reserva</td>\n      <td>96</td>\n      <td>110.0</td>\n      <td>Northern Spain</td>\n      <td>Toro</td>\n      <td>NaN</td>\n      <td>Tinta de Toro</td>\n      <td>Bodega Carmen Rodríguez</td>\n    </tr>\n    <tr>\n      <th>2</th>\n      <td>2</td>\n      <td>US</td>\n      <td>Mac Watson honors the memory of a wine once ma...</td>\n      <td>Special Selected Late Harvest</td>\n      <td>96</td>\n      <td>90.0</td>\n      <td>California</td>\n      <td>Knights Valley</td>\n      <td>Sonoma</td>\n      <td>Sauvignon Blanc</td>\n      <td>Macauley</td>\n    </tr>\n    <tr>\n      <th>3</th>\n      <td>3</td>\n      <td>US</td>\n      <td>This spent 20 months in 30% new French oak, an...</td>\n      <td>Reserve</td>\n      <td>96</td>\n      <td>65.0</td>\n      <td>Oregon</td>\n      <td>Willamette Valley</td>\n      <td>Willamette Valley</td>\n      <td>Pinot Noir</td>\n      <td>Ponzi</td>\n    </tr>\n    <tr>\n      <th>4</th>\n      <td>4</td>\n      <td>France</td>\n      <td>This is the top wine from La Bégude, named aft...</td>\n      <td>La Brûlade</td>\n      <td>95</td>\n      <td>66.0</td>\n      <td>Provence</td>\n      <td>Bandol</td>\n      <td>NaN</td>\n      <td>Provence red blend</td>\n      <td>Domaine de la Bégude</td>\n    </tr>\n  </tbody>\n</table>\n</div>"
          },
          "metadata": {}
        }
      ]
    },
    {
      "metadata": {
        "_cell_guid": "d7ebade5-7677-4026-ac97-00383ab536fe",
        "_uuid": "11f3989183a6ab1a147055c36fa15a85e2c8e20a",
        "collapsed": true
      },
      "cell_type": "markdown",
      "source": "**Exercise 5**: Read the following `xls` sheet into a `DataFrame`: \n\n![](https://i.imgur.com/QZJBIBF.png)\n\nThe filepath to the XLS file is `../input/publicassistance/xls_files_all/WICAgencies2014ytd.xls`.\n\nHint: the name of the method you need inclues the word `excel`. The name of the sheet is `Pregnant Women Participating`. Don't do any cleanup."
    },
    {
      "metadata": {
        "_cell_guid": "5dbc2d5d-e110-4f7b-8086-96d28825507b",
        "_uuid": "d64e2781ac696d8acfbba11b567a86b7d25526b1",
        "trusted": true
      },
      "cell_type": "code",
      "source": "excel = pd.read_excel(io='../input/publicassistance/xls_files_all/WICAgencies2014ytd.xls',sheet_name='Pregnant Women Participating')\nexcel",
      "execution_count": 12,
      "outputs": [
        {
          "output_type": "execute_result",
          "execution_count": 12,
          "data": {
            "text/plain": "    WIC PROGRAM -- NUMBER OF PREGNANT WOMEN PARTICIPATING Unnamed: 1  \\\n0                                     FISCAL YEAR 2014           NaN   \n1                          Data as of January 05, 2018           NaN   \n..                                                 ...           ...   \n104                                                NaN           NaN   \n105  All data are preliminary and are subject to re...           NaN   \n\n    Unnamed: 2 Unnamed: 3 Unnamed: 4 Unnamed: 5 Unnamed: 6 Unnamed: 7  \\\n0          NaN        NaN        NaN        NaN        NaN        NaN   \n1          NaN        NaN        NaN        NaN        NaN        NaN   \n..         ...        ...        ...        ...        ...        ...   \n104        NaN        NaN        NaN        NaN        NaN        NaN   \n105        NaN        NaN        NaN        NaN        NaN        NaN   \n\n    Unnamed: 8 Unnamed: 9 Unnamed: 10 Unnamed: 11 Unnamed: 12 Unnamed: 13  \n0          NaN        NaN         NaN         NaN         NaN         NaN  \n1          NaN        NaN         NaN         NaN         NaN         NaN  \n..         ...        ...         ...         ...         ...         ...  \n104        NaN        NaN         NaN         NaN         NaN         NaN  \n105        NaN        NaN         NaN         NaN         NaN         NaN  \n\n[106 rows x 14 columns]",
            "text/html": "<div>\n<style scoped>\n    .dataframe tbody tr th:only-of-type {\n        vertical-align: middle;\n    }\n\n    .dataframe tbody tr th {\n        vertical-align: top;\n    }\n\n    .dataframe thead th {\n        text-align: right;\n    }\n</style>\n<table border=\"1\" class=\"dataframe\">\n  <thead>\n    <tr style=\"text-align: right;\">\n      <th></th>\n      <th>WIC PROGRAM -- NUMBER OF PREGNANT WOMEN PARTICIPATING</th>\n      <th>Unnamed: 1</th>\n      <th>Unnamed: 2</th>\n      <th>Unnamed: 3</th>\n      <th>Unnamed: 4</th>\n      <th>Unnamed: 5</th>\n      <th>Unnamed: 6</th>\n      <th>Unnamed: 7</th>\n      <th>Unnamed: 8</th>\n      <th>Unnamed: 9</th>\n      <th>Unnamed: 10</th>\n      <th>Unnamed: 11</th>\n      <th>Unnamed: 12</th>\n      <th>Unnamed: 13</th>\n    </tr>\n  </thead>\n  <tbody>\n    <tr>\n      <th>0</th>\n      <td>FISCAL YEAR 2014</td>\n      <td>NaN</td>\n      <td>NaN</td>\n      <td>NaN</td>\n      <td>NaN</td>\n      <td>NaN</td>\n      <td>NaN</td>\n      <td>NaN</td>\n      <td>NaN</td>\n      <td>NaN</td>\n      <td>NaN</td>\n      <td>NaN</td>\n      <td>NaN</td>\n      <td>NaN</td>\n    </tr>\n    <tr>\n      <th>1</th>\n      <td>Data as of January 05, 2018</td>\n      <td>NaN</td>\n      <td>NaN</td>\n      <td>NaN</td>\n      <td>NaN</td>\n      <td>NaN</td>\n      <td>NaN</td>\n      <td>NaN</td>\n      <td>NaN</td>\n      <td>NaN</td>\n      <td>NaN</td>\n      <td>NaN</td>\n      <td>NaN</td>\n      <td>NaN</td>\n    </tr>\n    <tr>\n      <th>...</th>\n      <td>...</td>\n      <td>...</td>\n      <td>...</td>\n      <td>...</td>\n      <td>...</td>\n      <td>...</td>\n      <td>...</td>\n      <td>...</td>\n      <td>...</td>\n      <td>...</td>\n      <td>...</td>\n      <td>...</td>\n      <td>...</td>\n      <td>...</td>\n    </tr>\n    <tr>\n      <th>104</th>\n      <td>NaN</td>\n      <td>NaN</td>\n      <td>NaN</td>\n      <td>NaN</td>\n      <td>NaN</td>\n      <td>NaN</td>\n      <td>NaN</td>\n      <td>NaN</td>\n      <td>NaN</td>\n      <td>NaN</td>\n      <td>NaN</td>\n      <td>NaN</td>\n      <td>NaN</td>\n      <td>NaN</td>\n    </tr>\n    <tr>\n      <th>105</th>\n      <td>All data are preliminary and are subject to re...</td>\n      <td>NaN</td>\n      <td>NaN</td>\n      <td>NaN</td>\n      <td>NaN</td>\n      <td>NaN</td>\n      <td>NaN</td>\n      <td>NaN</td>\n      <td>NaN</td>\n      <td>NaN</td>\n      <td>NaN</td>\n      <td>NaN</td>\n      <td>NaN</td>\n      <td>NaN</td>\n    </tr>\n  </tbody>\n</table>\n<p>106 rows × 14 columns</p>\n</div>"
          },
          "metadata": {}
        }
      ]
    },
    {
      "metadata": {
        "_cell_guid": "915faad5-6110-4cb2-9dcb-bce167878e27",
        "_uuid": "8075f4da95182203626c69d8b28acd7fe9660d2a"
      },
      "cell_type": "markdown",
      "source": "**Exercise 6**: Suppose we have the following `DataFrame`:"
    },
    {
      "metadata": {
        "_cell_guid": "e2924830-6ec4-41ec-8e29-5606298ce928",
        "_uuid": "c3353ca46fd3817a4569fb5ed4bb82dd3846c934",
        "collapsed": true,
        "trusted": true
      },
      "cell_type": "code",
      "source": "q6_df = pd.DataFrame({'Cows': [12, 20], 'Goats': [22, 19]}, index=['Year 1', 'Year 2'])",
      "execution_count": 14,
      "outputs": []
    },
    {
      "metadata": {
        "_cell_guid": "7bf43a01-3c69-4a51-9061-012581f004f5",
        "_uuid": "e28acd9d39b24d0823af4dd832d9bc7240030434"
      },
      "cell_type": "markdown",
      "source": "Save this `DataFrame` to disc as a `csv` file with the name `cows_and_goats.csv`."
    },
    {
      "metadata": {
        "_cell_guid": "3e60ff82-a7d5-4712-81fd-6ca0851687f5",
        "_uuid": "d450cb71dd6cab95c7f604d30505534c562c854f",
        "trusted": true
      },
      "cell_type": "code",
      "source": "q6_df.to_csv('cows_and_goats.csv')",
      "execution_count": 16,
      "outputs": []
    },
    {
      "metadata": {
        "_cell_guid": "209d5beb-afc8-4c0c-a062-b8b9f82371d3",
        "_uuid": "d0672be743ede0fc750c9c2b385ea8838e88c841"
      },
      "cell_type": "markdown",
      "source": "**Exercise 7**: This exercise is optional. Read the following `SQL` data into a `DataFrame`:\n\n![](https://i.imgur.com/mmvbOT3.png)\n\nThe filepath is `../input/pitchfork-data/database.sqlite`. Hint: use the `sqlite3` library. The name of the table is `artists`."
    },
    {
      "metadata": {
        "_cell_guid": "7f322fbf-6322-414b-a682-3f57edb7d664",
        "_uuid": "682790cef8f7d390e5a0ac16af017a6500bab41c",
        "trusted": true
      },
      "cell_type": "code",
      "source": "import sqlite3\nconn = sqlite3.connect(\"../input/pitchfork-data/database.sqlite\")\ncur = conn.cursor()\ncur.execute(\"select * from artists limit 5;\")\n\nresults = cur.fetchall()\nSQL = pd.DataFrame(results,columns=['reviewid','artist'])\nSQL\n\n",
      "execution_count": 19,
      "outputs": [
        {
          "output_type": "execute_result",
          "execution_count": 19,
          "data": {
            "text/plain": "   reviewid          artist\n0     22703  massive attack\n1     22721        krallice\n2     22659    uranium club\n3     22661         kleenex\n4     22661         liliput",
            "text/html": "<div>\n<style scoped>\n    .dataframe tbody tr th:only-of-type {\n        vertical-align: middle;\n    }\n\n    .dataframe tbody tr th {\n        vertical-align: top;\n    }\n\n    .dataframe thead th {\n        text-align: right;\n    }\n</style>\n<table border=\"1\" class=\"dataframe\">\n  <thead>\n    <tr style=\"text-align: right;\">\n      <th></th>\n      <th>reviewid</th>\n      <th>artist</th>\n    </tr>\n  </thead>\n  <tbody>\n    <tr>\n      <th>0</th>\n      <td>22703</td>\n      <td>massive attack</td>\n    </tr>\n    <tr>\n      <th>1</th>\n      <td>22721</td>\n      <td>krallice</td>\n    </tr>\n    <tr>\n      <th>2</th>\n      <td>22659</td>\n      <td>uranium club</td>\n    </tr>\n    <tr>\n      <th>3</th>\n      <td>22661</td>\n      <td>kleenex</td>\n    </tr>\n    <tr>\n      <th>4</th>\n      <td>22661</td>\n      <td>liliput</td>\n    </tr>\n  </tbody>\n</table>\n</div>"
          },
          "metadata": {}
        }
      ]
    },
    {
      "metadata": {
        "_cell_guid": "df1aeded-b46d-4893-a274-3f0c9bebdb11",
        "_uuid": "362d33a7f561e3b9b72034bc7ac1a23a49e1de89"
      },
      "cell_type": "markdown",
      "source": "## Keep going\n\nMove on to the **[indexing, selecting and assigning workbook](https://www.kaggle.com/residentmario/indexing-selecting-assigning-workbook)**\n\n___\nThis is part of the [Learn Pandas](https://www.kaggle.com/learn/pandas) series."
    }
  ],
  "metadata": {
    "kernelspec": {
      "display_name": "Python 3",
      "language": "python",
      "name": "python3"
    },
    "language_info": {
      "name": "python",
      "version": "3.6.5",
      "mimetype": "text/x-python",
      "codemirror_mode": {
        "name": "ipython",
        "version": 3
      },
      "pygments_lexer": "ipython3",
      "nbconvert_exporter": "python",
      "file_extension": ".py"
    }
  },
  "nbformat": 4,
  "nbformat_minor": 1
}