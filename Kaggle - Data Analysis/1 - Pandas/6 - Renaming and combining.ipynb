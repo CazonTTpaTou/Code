{
  "cells": [
    {
      "metadata": {
        "_cell_guid": "b3696a68-f34c-4887-bc69-d40e9a31b2af",
        "_uuid": "538d86e885d712165dcbcd9b854258fd1804c108"
      },
      "cell_type": "markdown",
      "source": "# Renaming and combining workbook\n\n## Introduction\n\nThis is the worbook part of the \"Renaming and combining\" section of the Advanced Pandas tutorial. For the reference section, click [here](https://www.kaggle.com/residentmario/renaming-and-combining-reference).\n\nRenaming is covered in its own section in the [\"Essential Basic Functionality\"](https://pandas.pydata.org/pandas-docs/stable/basics.html#renaming-mapping-labels) section of the extensive official documentation. Combining is covered by the [\"Merge, join, concatenate\"](https://pandas.pydata.org/pandas-docs/stable/merging.html) section there."
    },
    {
      "metadata": {
        "_cell_guid": "8233f418-085f-45db-903a-87a8ca183808",
        "_uuid": "cf820f1d0be911ebf4c7d30a72374c58542cdf58",
        "trusted": true
      },
      "cell_type": "code",
      "source": "import pandas as pd\n\nfrom learntools.advanced_pandas.renaming_and_combining import *\n\npd.set_option('max_rows', 5)\nreviews = pd.read_csv(\"../input/wine-reviews/winemag-data-130k-v2.csv\", index_col=0)\n\nreviews.head(5)",
      "execution_count": 2,
      "outputs": [
        {
          "output_type": "execute_result",
          "execution_count": 2,
          "data": {
            "text/plain": "    country                                        description  \\\n0     Italy  Aromas include tropical fruit, broom, brimston...   \n1  Portugal  This is ripe and fruity, a wine that is smooth...   \n2        US  Tart and snappy, the flavors of lime flesh and...   \n3        US  Pineapple rind, lemon pith and orange blossom ...   \n4        US  Much like the regular bottling from 2012, this...   \n\n                          designation  points  price           province  \\\n0                        Vulkà Bianco      87    NaN  Sicily & Sardinia   \n1                            Avidagos      87   15.0              Douro   \n2                                 NaN      87   14.0             Oregon   \n3                Reserve Late Harvest      87   13.0           Michigan   \n4  Vintner's Reserve Wild Child Block      87   65.0             Oregon   \n\n              region_1           region_2         taster_name  \\\n0                 Etna                NaN       Kerin O’Keefe   \n1                  NaN                NaN          Roger Voss   \n2    Willamette Valley  Willamette Valley        Paul Gregutt   \n3  Lake Michigan Shore                NaN  Alexander Peartree   \n4    Willamette Valley  Willamette Valley        Paul Gregutt   \n\n  taster_twitter_handle                                              title  \\\n0          @kerinokeefe                  Nicosia 2013 Vulkà Bianco  (Etna)   \n1            @vossroger      Quinta dos Avidagos 2011 Avidagos Red (Douro)   \n2           @paulgwine       Rainstorm 2013 Pinot Gris (Willamette Valley)   \n3                   NaN  St. Julian 2013 Reserve Late Harvest Riesling ...   \n4           @paulgwine   Sweet Cheeks 2012 Vintner's Reserve Wild Child...   \n\n          variety               winery  \n0     White Blend              Nicosia  \n1  Portuguese Red  Quinta dos Avidagos  \n2      Pinot Gris            Rainstorm  \n3        Riesling           St. Julian  \n4      Pinot Noir         Sweet Cheeks  ",
            "text/html": "<div>\n<style scoped>\n    .dataframe tbody tr th:only-of-type {\n        vertical-align: middle;\n    }\n\n    .dataframe tbody tr th {\n        vertical-align: top;\n    }\n\n    .dataframe thead th {\n        text-align: right;\n    }\n</style>\n<table border=\"1\" class=\"dataframe\">\n  <thead>\n    <tr style=\"text-align: right;\">\n      <th></th>\n      <th>country</th>\n      <th>description</th>\n      <th>designation</th>\n      <th>points</th>\n      <th>price</th>\n      <th>province</th>\n      <th>region_1</th>\n      <th>region_2</th>\n      <th>taster_name</th>\n      <th>taster_twitter_handle</th>\n      <th>title</th>\n      <th>variety</th>\n      <th>winery</th>\n    </tr>\n  </thead>\n  <tbody>\n    <tr>\n      <th>0</th>\n      <td>Italy</td>\n      <td>Aromas include tropical fruit, broom, brimston...</td>\n      <td>Vulkà Bianco</td>\n      <td>87</td>\n      <td>NaN</td>\n      <td>Sicily &amp; Sardinia</td>\n      <td>Etna</td>\n      <td>NaN</td>\n      <td>Kerin O’Keefe</td>\n      <td>@kerinokeefe</td>\n      <td>Nicosia 2013 Vulkà Bianco  (Etna)</td>\n      <td>White Blend</td>\n      <td>Nicosia</td>\n    </tr>\n    <tr>\n      <th>1</th>\n      <td>Portugal</td>\n      <td>This is ripe and fruity, a wine that is smooth...</td>\n      <td>Avidagos</td>\n      <td>87</td>\n      <td>15.0</td>\n      <td>Douro</td>\n      <td>NaN</td>\n      <td>NaN</td>\n      <td>Roger Voss</td>\n      <td>@vossroger</td>\n      <td>Quinta dos Avidagos 2011 Avidagos Red (Douro)</td>\n      <td>Portuguese Red</td>\n      <td>Quinta dos Avidagos</td>\n    </tr>\n    <tr>\n      <th>2</th>\n      <td>US</td>\n      <td>Tart and snappy, the flavors of lime flesh and...</td>\n      <td>NaN</td>\n      <td>87</td>\n      <td>14.0</td>\n      <td>Oregon</td>\n      <td>Willamette Valley</td>\n      <td>Willamette Valley</td>\n      <td>Paul Gregutt</td>\n      <td>@paulgwine</td>\n      <td>Rainstorm 2013 Pinot Gris (Willamette Valley)</td>\n      <td>Pinot Gris</td>\n      <td>Rainstorm</td>\n    </tr>\n    <tr>\n      <th>3</th>\n      <td>US</td>\n      <td>Pineapple rind, lemon pith and orange blossom ...</td>\n      <td>Reserve Late Harvest</td>\n      <td>87</td>\n      <td>13.0</td>\n      <td>Michigan</td>\n      <td>Lake Michigan Shore</td>\n      <td>NaN</td>\n      <td>Alexander Peartree</td>\n      <td>NaN</td>\n      <td>St. Julian 2013 Reserve Late Harvest Riesling ...</td>\n      <td>Riesling</td>\n      <td>St. Julian</td>\n    </tr>\n    <tr>\n      <th>4</th>\n      <td>US</td>\n      <td>Much like the regular bottling from 2012, this...</td>\n      <td>Vintner's Reserve Wild Child Block</td>\n      <td>87</td>\n      <td>65.0</td>\n      <td>Oregon</td>\n      <td>Willamette Valley</td>\n      <td>Willamette Valley</td>\n      <td>Paul Gregutt</td>\n      <td>@paulgwine</td>\n      <td>Sweet Cheeks 2012 Vintner's Reserve Wild Child...</td>\n      <td>Pinot Noir</td>\n      <td>Sweet Cheeks</td>\n    </tr>\n  </tbody>\n</table>\n</div>"
          },
          "metadata": {}
        }
      ]
    },
    {
      "metadata": {
        "_cell_guid": "e00a05db-0789-4fdd-84bb-93b5071d4d9f",
        "_uuid": "7b469b3773734e8aafee707387e82783b4b19889"
      },
      "cell_type": "markdown",
      "source": "# Checking Answers\n\n**Check your answers in each exercise using the  `check_qN` function** (replacing `N` with the number of the exercise). For example here's how you would check an incorrect answer to exercise 1:"
    },
    {
      "metadata": {
        "collapsed": true,
        "_cell_guid": "479e6b47-ee90-4178-9eb0-be9ed897acb1",
        "_uuid": "bdde9e76afd2580bfb1654daa872402bcae8a650",
        "trusted": false
      },
      "cell_type": "code",
      "source": "check_q1(pd.DataFrame())",
      "execution_count": null,
      "outputs": []
    },
    {
      "metadata": {
        "_cell_guid": "4fb52c59-6736-4477-b903-e5f55b43dd31",
        "_uuid": "fadb78e219567d5cb2f59ed37a231919f6acbc98"
      },
      "cell_type": "markdown",
      "source": "If you get stuck, **use the `answer_qN` function to see the code with the correct answer.**\n\nFor the first set of questions, running the `check_qN` on the correct answer returns `True`.\n\nFor the second set of questions, using this function to check a correct answer will present an informative graph!"
    },
    {
      "metadata": {
        "_cell_guid": "7b79bbf8-1136-4207-8bcc-9b7ddc432e70",
        "_uuid": "41205e08261d0d382e8eb6366be9bfa6c3d3d831"
      },
      "cell_type": "markdown",
      "source": "# Exercises\n\nLook at your data by running the cell below:"
    },
    {
      "metadata": {
        "_cell_guid": "b7725a2b-531a-4b16-8d8b-8d56c663f7f9",
        "_uuid": "cd0641ea913b3e17cc230b26540dcd3fe63c8610",
        "trusted": true
      },
      "cell_type": "code",
      "source": "reviews.head()",
      "execution_count": 3,
      "outputs": [
        {
          "output_type": "execute_result",
          "execution_count": 3,
          "data": {
            "text/plain": "    country                                        description  \\\n0     Italy  Aromas include tropical fruit, broom, brimston...   \n1  Portugal  This is ripe and fruity, a wine that is smooth...   \n2        US  Tart and snappy, the flavors of lime flesh and...   \n3        US  Pineapple rind, lemon pith and orange blossom ...   \n4        US  Much like the regular bottling from 2012, this...   \n\n                          designation  points  price           province  \\\n0                        Vulkà Bianco      87    NaN  Sicily & Sardinia   \n1                            Avidagos      87   15.0              Douro   \n2                                 NaN      87   14.0             Oregon   \n3                Reserve Late Harvest      87   13.0           Michigan   \n4  Vintner's Reserve Wild Child Block      87   65.0             Oregon   \n\n              region_1           region_2         taster_name  \\\n0                 Etna                NaN       Kerin O’Keefe   \n1                  NaN                NaN          Roger Voss   \n2    Willamette Valley  Willamette Valley        Paul Gregutt   \n3  Lake Michigan Shore                NaN  Alexander Peartree   \n4    Willamette Valley  Willamette Valley        Paul Gregutt   \n\n  taster_twitter_handle                                              title  \\\n0          @kerinokeefe                  Nicosia 2013 Vulkà Bianco  (Etna)   \n1            @vossroger      Quinta dos Avidagos 2011 Avidagos Red (Douro)   \n2           @paulgwine       Rainstorm 2013 Pinot Gris (Willamette Valley)   \n3                   NaN  St. Julian 2013 Reserve Late Harvest Riesling ...   \n4           @paulgwine   Sweet Cheeks 2012 Vintner's Reserve Wild Child...   \n\n          variety               winery  \n0     White Blend              Nicosia  \n1  Portuguese Red  Quinta dos Avidagos  \n2      Pinot Gris            Rainstorm  \n3        Riesling           St. Julian  \n4      Pinot Noir         Sweet Cheeks  ",
            "text/html": "<div>\n<style scoped>\n    .dataframe tbody tr th:only-of-type {\n        vertical-align: middle;\n    }\n\n    .dataframe tbody tr th {\n        vertical-align: top;\n    }\n\n    .dataframe thead th {\n        text-align: right;\n    }\n</style>\n<table border=\"1\" class=\"dataframe\">\n  <thead>\n    <tr style=\"text-align: right;\">\n      <th></th>\n      <th>country</th>\n      <th>description</th>\n      <th>designation</th>\n      <th>points</th>\n      <th>price</th>\n      <th>province</th>\n      <th>region_1</th>\n      <th>region_2</th>\n      <th>taster_name</th>\n      <th>taster_twitter_handle</th>\n      <th>title</th>\n      <th>variety</th>\n      <th>winery</th>\n    </tr>\n  </thead>\n  <tbody>\n    <tr>\n      <th>0</th>\n      <td>Italy</td>\n      <td>Aromas include tropical fruit, broom, brimston...</td>\n      <td>Vulkà Bianco</td>\n      <td>87</td>\n      <td>NaN</td>\n      <td>Sicily &amp; Sardinia</td>\n      <td>Etna</td>\n      <td>NaN</td>\n      <td>Kerin O’Keefe</td>\n      <td>@kerinokeefe</td>\n      <td>Nicosia 2013 Vulkà Bianco  (Etna)</td>\n      <td>White Blend</td>\n      <td>Nicosia</td>\n    </tr>\n    <tr>\n      <th>1</th>\n      <td>Portugal</td>\n      <td>This is ripe and fruity, a wine that is smooth...</td>\n      <td>Avidagos</td>\n      <td>87</td>\n      <td>15.0</td>\n      <td>Douro</td>\n      <td>NaN</td>\n      <td>NaN</td>\n      <td>Roger Voss</td>\n      <td>@vossroger</td>\n      <td>Quinta dos Avidagos 2011 Avidagos Red (Douro)</td>\n      <td>Portuguese Red</td>\n      <td>Quinta dos Avidagos</td>\n    </tr>\n    <tr>\n      <th>2</th>\n      <td>US</td>\n      <td>Tart and snappy, the flavors of lime flesh and...</td>\n      <td>NaN</td>\n      <td>87</td>\n      <td>14.0</td>\n      <td>Oregon</td>\n      <td>Willamette Valley</td>\n      <td>Willamette Valley</td>\n      <td>Paul Gregutt</td>\n      <td>@paulgwine</td>\n      <td>Rainstorm 2013 Pinot Gris (Willamette Valley)</td>\n      <td>Pinot Gris</td>\n      <td>Rainstorm</td>\n    </tr>\n    <tr>\n      <th>3</th>\n      <td>US</td>\n      <td>Pineapple rind, lemon pith and orange blossom ...</td>\n      <td>Reserve Late Harvest</td>\n      <td>87</td>\n      <td>13.0</td>\n      <td>Michigan</td>\n      <td>Lake Michigan Shore</td>\n      <td>NaN</td>\n      <td>Alexander Peartree</td>\n      <td>NaN</td>\n      <td>St. Julian 2013 Reserve Late Harvest Riesling ...</td>\n      <td>Riesling</td>\n      <td>St. Julian</td>\n    </tr>\n    <tr>\n      <th>4</th>\n      <td>US</td>\n      <td>Much like the regular bottling from 2012, this...</td>\n      <td>Vintner's Reserve Wild Child Block</td>\n      <td>87</td>\n      <td>65.0</td>\n      <td>Oregon</td>\n      <td>Willamette Valley</td>\n      <td>Willamette Valley</td>\n      <td>Paul Gregutt</td>\n      <td>@paulgwine</td>\n      <td>Sweet Cheeks 2012 Vintner's Reserve Wild Child...</td>\n      <td>Pinot Noir</td>\n      <td>Sweet Cheeks</td>\n    </tr>\n  </tbody>\n</table>\n</div>"
          },
          "metadata": {}
        }
      ]
    },
    {
      "metadata": {
        "_cell_guid": "7a605a36-08d4-45f1-9b13-b3202751f8e6",
        "_uuid": "03a58c68581ef05bbf83c9a085721a9321e1ad38"
      },
      "cell_type": "markdown",
      "source": "**Exercise 1**: `region_1` and `region_2` are pretty uninformative names for locale columns in the dataset. Rename these columns to `region` and `locale`."
    },
    {
      "metadata": {
        "_cell_guid": "f9c4fbe3-1733-434d-9b13-5ccf021d8bd6",
        "_uuid": "de765f7dd44c704ecd9dc13bc335f46075182d93",
        "trusted": true
      },
      "cell_type": "code",
      "source": "reviews.rename(columns={'region_1': 'region','region_2':'locale'})\n",
      "execution_count": 15,
      "outputs": [
        {
          "output_type": "execute_result",
          "execution_count": 15,
          "data": {
            "text/plain": "         country                                        description  \\\n0          Italy  Aromas include tropical fruit, broom, brimston...   \n1       Portugal  This is ripe and fruity, a wine that is smooth...   \n...          ...                                                ...   \n129969    France  A dry style of Pinot Gris, this is crisp with ...   \n129970    France  Big, rich and off-dry, this is powered by inte...   \n\n                          designation  points  price           province  \\\n0                        Vulkà Bianco      87    NaN  Sicily & Sardinia   \n1                            Avidagos      87   15.0              Douro   \n...                               ...     ...    ...                ...   \n129969                            NaN      90   32.0             Alsace   \n129970  Lieu-dit Harth Cuvée Caroline      90   21.0             Alsace   \n\n        region locale    taster_name taster_twitter_handle  \\\n0         Etna    NaN  Kerin O’Keefe          @kerinokeefe   \n1          NaN    NaN     Roger Voss            @vossroger   \n...        ...    ...            ...                   ...   \n129969  Alsace    NaN     Roger Voss            @vossroger   \n129970  Alsace    NaN     Roger Voss            @vossroger   \n\n                                                    title         variety  \\\n0                       Nicosia 2013 Vulkà Bianco  (Etna)     White Blend   \n1           Quinta dos Avidagos 2011 Avidagos Red (Douro)  Portuguese Red   \n...                                                   ...             ...   \n129969      Domaine Marcel Deiss 2012 Pinot Gris (Alsace)      Pinot Gris   \n129970  Domaine Schoffit 2012 Lieu-dit Harth Cuvée Car...  Gewürztraminer   \n\n                      winery  \n0                    Nicosia  \n1        Quinta dos Avidagos  \n...                      ...  \n129969  Domaine Marcel Deiss  \n129970      Domaine Schoffit  \n\n[129971 rows x 13 columns]",
            "text/html": "<div>\n<style scoped>\n    .dataframe tbody tr th:only-of-type {\n        vertical-align: middle;\n    }\n\n    .dataframe tbody tr th {\n        vertical-align: top;\n    }\n\n    .dataframe thead th {\n        text-align: right;\n    }\n</style>\n<table border=\"1\" class=\"dataframe\">\n  <thead>\n    <tr style=\"text-align: right;\">\n      <th></th>\n      <th>country</th>\n      <th>description</th>\n      <th>designation</th>\n      <th>points</th>\n      <th>price</th>\n      <th>province</th>\n      <th>region</th>\n      <th>locale</th>\n      <th>taster_name</th>\n      <th>taster_twitter_handle</th>\n      <th>title</th>\n      <th>variety</th>\n      <th>winery</th>\n    </tr>\n  </thead>\n  <tbody>\n    <tr>\n      <th>0</th>\n      <td>Italy</td>\n      <td>Aromas include tropical fruit, broom, brimston...</td>\n      <td>Vulkà Bianco</td>\n      <td>87</td>\n      <td>NaN</td>\n      <td>Sicily &amp; Sardinia</td>\n      <td>Etna</td>\n      <td>NaN</td>\n      <td>Kerin O’Keefe</td>\n      <td>@kerinokeefe</td>\n      <td>Nicosia 2013 Vulkà Bianco  (Etna)</td>\n      <td>White Blend</td>\n      <td>Nicosia</td>\n    </tr>\n    <tr>\n      <th>1</th>\n      <td>Portugal</td>\n      <td>This is ripe and fruity, a wine that is smooth...</td>\n      <td>Avidagos</td>\n      <td>87</td>\n      <td>15.0</td>\n      <td>Douro</td>\n      <td>NaN</td>\n      <td>NaN</td>\n      <td>Roger Voss</td>\n      <td>@vossroger</td>\n      <td>Quinta dos Avidagos 2011 Avidagos Red (Douro)</td>\n      <td>Portuguese Red</td>\n      <td>Quinta dos Avidagos</td>\n    </tr>\n    <tr>\n      <th>...</th>\n      <td>...</td>\n      <td>...</td>\n      <td>...</td>\n      <td>...</td>\n      <td>...</td>\n      <td>...</td>\n      <td>...</td>\n      <td>...</td>\n      <td>...</td>\n      <td>...</td>\n      <td>...</td>\n      <td>...</td>\n      <td>...</td>\n    </tr>\n    <tr>\n      <th>129969</th>\n      <td>France</td>\n      <td>A dry style of Pinot Gris, this is crisp with ...</td>\n      <td>NaN</td>\n      <td>90</td>\n      <td>32.0</td>\n      <td>Alsace</td>\n      <td>Alsace</td>\n      <td>NaN</td>\n      <td>Roger Voss</td>\n      <td>@vossroger</td>\n      <td>Domaine Marcel Deiss 2012 Pinot Gris (Alsace)</td>\n      <td>Pinot Gris</td>\n      <td>Domaine Marcel Deiss</td>\n    </tr>\n    <tr>\n      <th>129970</th>\n      <td>France</td>\n      <td>Big, rich and off-dry, this is powered by inte...</td>\n      <td>Lieu-dit Harth Cuvée Caroline</td>\n      <td>90</td>\n      <td>21.0</td>\n      <td>Alsace</td>\n      <td>Alsace</td>\n      <td>NaN</td>\n      <td>Roger Voss</td>\n      <td>@vossroger</td>\n      <td>Domaine Schoffit 2012 Lieu-dit Harth Cuvée Car...</td>\n      <td>Gewürztraminer</td>\n      <td>Domaine Schoffit</td>\n    </tr>\n  </tbody>\n</table>\n<p>129971 rows × 13 columns</p>\n</div>"
          },
          "metadata": {}
        }
      ]
    },
    {
      "metadata": {
        "_cell_guid": "bd41facd-c1af-4766-b8a0-1f5929d5415f",
        "_uuid": "0fe8fd38b4b5934924b54d0ecd78938ec491239d"
      },
      "cell_type": "markdown",
      "source": "**Exercise 2**: Set the index name in the dataset to `wines`."
    },
    {
      "metadata": {
        "_cell_guid": "3762866a-47d0-496b-b499-f81732dc963d",
        "_uuid": "0b6ee2a0355e06d1acfdcaba5a0163d196cca5e4",
        "trusted": true
      },
      "cell_type": "code",
      "source": "reviews.rename_axis(\"wines\",axis=0)\n",
      "execution_count": 17,
      "outputs": [
        {
          "output_type": "execute_result",
          "execution_count": 17,
          "data": {
            "text/plain": "         country                                        description  \\\nwines                                                                 \n0          Italy  Aromas include tropical fruit, broom, brimston...   \n1       Portugal  This is ripe and fruity, a wine that is smooth...   \n...          ...                                                ...   \n129969    France  A dry style of Pinot Gris, this is crisp with ...   \n129970    France  Big, rich and off-dry, this is powered by inte...   \n\n                          designation  points  price           province  \\\nwines                                                                     \n0                        Vulkà Bianco      87    NaN  Sicily & Sardinia   \n1                            Avidagos      87   15.0              Douro   \n...                               ...     ...    ...                ...   \n129969                            NaN      90   32.0             Alsace   \n129970  Lieu-dit Harth Cuvée Caroline      90   21.0             Alsace   \n\n       region_1 region_2    taster_name taster_twitter_handle  \\\nwines                                                           \n0          Etna      NaN  Kerin O’Keefe          @kerinokeefe   \n1           NaN      NaN     Roger Voss            @vossroger   \n...         ...      ...            ...                   ...   \n129969   Alsace      NaN     Roger Voss            @vossroger   \n129970   Alsace      NaN     Roger Voss            @vossroger   \n\n                                                    title         variety  \\\nwines                                                                       \n0                       Nicosia 2013 Vulkà Bianco  (Etna)     White Blend   \n1           Quinta dos Avidagos 2011 Avidagos Red (Douro)  Portuguese Red   \n...                                                   ...             ...   \n129969      Domaine Marcel Deiss 2012 Pinot Gris (Alsace)      Pinot Gris   \n129970  Domaine Schoffit 2012 Lieu-dit Harth Cuvée Car...  Gewürztraminer   \n\n                      winery  \nwines                         \n0                    Nicosia  \n1        Quinta dos Avidagos  \n...                      ...  \n129969  Domaine Marcel Deiss  \n129970      Domaine Schoffit  \n\n[129971 rows x 13 columns]",
            "text/html": "<div>\n<style scoped>\n    .dataframe tbody tr th:only-of-type {\n        vertical-align: middle;\n    }\n\n    .dataframe tbody tr th {\n        vertical-align: top;\n    }\n\n    .dataframe thead th {\n        text-align: right;\n    }\n</style>\n<table border=\"1\" class=\"dataframe\">\n  <thead>\n    <tr style=\"text-align: right;\">\n      <th></th>\n      <th>country</th>\n      <th>description</th>\n      <th>designation</th>\n      <th>points</th>\n      <th>price</th>\n      <th>province</th>\n      <th>region_1</th>\n      <th>region_2</th>\n      <th>taster_name</th>\n      <th>taster_twitter_handle</th>\n      <th>title</th>\n      <th>variety</th>\n      <th>winery</th>\n    </tr>\n    <tr>\n      <th>wines</th>\n      <th></th>\n      <th></th>\n      <th></th>\n      <th></th>\n      <th></th>\n      <th></th>\n      <th></th>\n      <th></th>\n      <th></th>\n      <th></th>\n      <th></th>\n      <th></th>\n      <th></th>\n    </tr>\n  </thead>\n  <tbody>\n    <tr>\n      <th>0</th>\n      <td>Italy</td>\n      <td>Aromas include tropical fruit, broom, brimston...</td>\n      <td>Vulkà Bianco</td>\n      <td>87</td>\n      <td>NaN</td>\n      <td>Sicily &amp; Sardinia</td>\n      <td>Etna</td>\n      <td>NaN</td>\n      <td>Kerin O’Keefe</td>\n      <td>@kerinokeefe</td>\n      <td>Nicosia 2013 Vulkà Bianco  (Etna)</td>\n      <td>White Blend</td>\n      <td>Nicosia</td>\n    </tr>\n    <tr>\n      <th>1</th>\n      <td>Portugal</td>\n      <td>This is ripe and fruity, a wine that is smooth...</td>\n      <td>Avidagos</td>\n      <td>87</td>\n      <td>15.0</td>\n      <td>Douro</td>\n      <td>NaN</td>\n      <td>NaN</td>\n      <td>Roger Voss</td>\n      <td>@vossroger</td>\n      <td>Quinta dos Avidagos 2011 Avidagos Red (Douro)</td>\n      <td>Portuguese Red</td>\n      <td>Quinta dos Avidagos</td>\n    </tr>\n    <tr>\n      <th>...</th>\n      <td>...</td>\n      <td>...</td>\n      <td>...</td>\n      <td>...</td>\n      <td>...</td>\n      <td>...</td>\n      <td>...</td>\n      <td>...</td>\n      <td>...</td>\n      <td>...</td>\n      <td>...</td>\n      <td>...</td>\n      <td>...</td>\n    </tr>\n    <tr>\n      <th>129969</th>\n      <td>France</td>\n      <td>A dry style of Pinot Gris, this is crisp with ...</td>\n      <td>NaN</td>\n      <td>90</td>\n      <td>32.0</td>\n      <td>Alsace</td>\n      <td>Alsace</td>\n      <td>NaN</td>\n      <td>Roger Voss</td>\n      <td>@vossroger</td>\n      <td>Domaine Marcel Deiss 2012 Pinot Gris (Alsace)</td>\n      <td>Pinot Gris</td>\n      <td>Domaine Marcel Deiss</td>\n    </tr>\n    <tr>\n      <th>129970</th>\n      <td>France</td>\n      <td>Big, rich and off-dry, this is powered by inte...</td>\n      <td>Lieu-dit Harth Cuvée Caroline</td>\n      <td>90</td>\n      <td>21.0</td>\n      <td>Alsace</td>\n      <td>Alsace</td>\n      <td>NaN</td>\n      <td>Roger Voss</td>\n      <td>@vossroger</td>\n      <td>Domaine Schoffit 2012 Lieu-dit Harth Cuvée Car...</td>\n      <td>Gewürztraminer</td>\n      <td>Domaine Schoffit</td>\n    </tr>\n  </tbody>\n</table>\n<p>129971 rows × 13 columns</p>\n</div>"
          },
          "metadata": {}
        }
      ]
    },
    {
      "metadata": {
        "_cell_guid": "894ec88e-9510-49f1-bf37-d0ead0054a89",
        "_uuid": "65cf08dd44419d2b321daea399f51a0268c1ca57"
      },
      "cell_type": "markdown",
      "source": "**Exercise 3**: The [Things on Reddit](https://www.kaggle.com/residentmario/things-on-reddit/data) dataset includes product links from a selection of top-ranked forums (\"subreddits\") on Reddit.com. Create a `DataFrame` of products mentioned on *either* subreddit. Use the following data:"
    },
    {
      "metadata": {
        "_cell_guid": "2abc7da3-d8e1-490e-9623-9b6535347a9c",
        "_uuid": "fff720e4f35ba821931ee96e10777e0aad1835a6",
        "trusted": true
      },
      "cell_type": "code",
      "source": "gaming_products = pd.read_csv(\"../input/things-on-reddit/top-things/top-things/reddits/g/gaming.csv\")\ngaming_products['subreddit'] = \"r/gaming\"\nmovie_products = pd.read_csv(\"../input/things-on-reddit/top-things/top-things/reddits/m/movies.csv\")\nmovie_products['subreddit'] = \"r/movies\"\n\n",
      "execution_count": 19,
      "outputs": []
    },
    {
      "metadata": {
        "_cell_guid": "0e429416-9b17-480e-9d26-b06f49194259",
        "_uuid": "9d6c380351af95bac9564a7df251e96249037193",
        "trusted": true
      },
      "cell_type": "code",
      "source": "pd.concat([gaming_products, movie_products])",
      "execution_count": 20,
      "outputs": [
        {
          "output_type": "execute_result",
          "execution_count": 20,
          "data": {
            "text/plain": "                                                  name      category  \\\n0                 BOOMco Halo Covenant Needler Blaster  Toys & Games   \n1    Raspberry PI 3 Model B 1.2GHz 64-bit quad-core...   Electronics   \n..                                                 ...           ...   \n301                               Apocalypto [Blu-ray]   Movies & TV   \n302  Cinelinx: A Card Game for People Who Love Movi...  Toys & Games   \n\n                                           amazon_link  total_mentions  \\\n0    https://www.amazon.com/BOOMco-Halo-Covenant-Ne...             4.0   \n1    https://www.amazon.com/Raspberry-Model-A1-2GHz...            19.0   \n..                                                 ...             ...   \n301  https://www.amazon.com/Apocalypto-Blu-ray-Rudy...             1.0   \n302  https://www.amazon.com/Cinelinx-Card-Game-Peop...             1.0   \n\n     subreddit_mentions subreddit  \n0                     4  r/gaming  \n1                     3  r/gaming  \n..                  ...       ...  \n301                   1  r/movies  \n302                   1  r/movies  \n\n[796 rows x 6 columns]",
            "text/html": "<div>\n<style scoped>\n    .dataframe tbody tr th:only-of-type {\n        vertical-align: middle;\n    }\n\n    .dataframe tbody tr th {\n        vertical-align: top;\n    }\n\n    .dataframe thead th {\n        text-align: right;\n    }\n</style>\n<table border=\"1\" class=\"dataframe\">\n  <thead>\n    <tr style=\"text-align: right;\">\n      <th></th>\n      <th>name</th>\n      <th>category</th>\n      <th>amazon_link</th>\n      <th>total_mentions</th>\n      <th>subreddit_mentions</th>\n      <th>subreddit</th>\n    </tr>\n  </thead>\n  <tbody>\n    <tr>\n      <th>0</th>\n      <td>BOOMco Halo Covenant Needler Blaster</td>\n      <td>Toys &amp; Games</td>\n      <td>https://www.amazon.com/BOOMco-Halo-Covenant-Ne...</td>\n      <td>4.0</td>\n      <td>4</td>\n      <td>r/gaming</td>\n    </tr>\n    <tr>\n      <th>1</th>\n      <td>Raspberry PI 3 Model B 1.2GHz 64-bit quad-core...</td>\n      <td>Electronics</td>\n      <td>https://www.amazon.com/Raspberry-Model-A1-2GHz...</td>\n      <td>19.0</td>\n      <td>3</td>\n      <td>r/gaming</td>\n    </tr>\n    <tr>\n      <th>...</th>\n      <td>...</td>\n      <td>...</td>\n      <td>...</td>\n      <td>...</td>\n      <td>...</td>\n      <td>...</td>\n    </tr>\n    <tr>\n      <th>301</th>\n      <td>Apocalypto [Blu-ray]</td>\n      <td>Movies &amp; TV</td>\n      <td>https://www.amazon.com/Apocalypto-Blu-ray-Rudy...</td>\n      <td>1.0</td>\n      <td>1</td>\n      <td>r/movies</td>\n    </tr>\n    <tr>\n      <th>302</th>\n      <td>Cinelinx: A Card Game for People Who Love Movi...</td>\n      <td>Toys &amp; Games</td>\n      <td>https://www.amazon.com/Cinelinx-Card-Game-Peop...</td>\n      <td>1.0</td>\n      <td>1</td>\n      <td>r/movies</td>\n    </tr>\n  </tbody>\n</table>\n<p>796 rows × 6 columns</p>\n</div>"
          },
          "metadata": {}
        }
      ]
    },
    {
      "metadata": {
        "_cell_guid": "6b71e901-b9e4-43a9-87c9-e72262d2db02",
        "_uuid": "82629a1d21e0ac3d4c143bb1f97368ef59193eb7"
      },
      "cell_type": "markdown",
      "source": "**Exercise 4**: The [Powerlifting Database](https://www.kaggle.com/open-powerlifting/powerlifting-database) dataset on Kaggle includes one CSV table for powerlifting meets and a separate one for powerlifting competitors. Both tables include references to a `MeetID`, a unique key for each meet (competition) included in the database. Using this, generate a dataset combining the two tables into one. Use the following data:"
    },
    {
      "metadata": {
        "_cell_guid": "198c82e5-904a-4be3-a29f-d6a366bc4cc4",
        "_uuid": "6eef34e09315e275ca34eaee10d6a9c85ef277a2",
        "trusted": true
      },
      "cell_type": "code",
      "source": "powerlifting_meets = pd.read_csv(\"../input/powerlifting-database/meets.csv\")\npowerlifting_competitors = pd.read_csv(\"../input/powerlifting-database/openpowerlifting.csv\")\n\n",
      "execution_count": 22,
      "outputs": []
    },
    {
      "metadata": {
        "_cell_guid": "e15c6c6b-0080-4428-b4ab-32b605f48c49",
        "_uuid": "0ba2685b574f391bd66ba9baa8ccbcd9dd658833",
        "trusted": true
      },
      "cell_type": "code",
      "source": "#new_table = powerlifting_competitors.join(powerlifting_meets,lsuffix='_comp', rsuffix='_meet')  \npowerlifting_meets.set_index(\"MeetID\").join(powerlifting_competitors.set_index(\"MeetID\"))",
      "execution_count": 23,
      "outputs": [
        {
          "output_type": "execute_result",
          "execution_count": 23,
          "data": {
            "text/plain": "               MeetPath Federation        Date MeetCountry MeetState  \\\nMeetID                                                                 \n0        365strong/1601  365Strong  2016-10-29         USA        NC   \n0        365strong/1601  365Strong  2016-10-29         USA        NC   \n...                 ...        ...         ...         ...       ...   \n8481    xpc/2017-finals        XPC  2017-03-03         USA        OH   \n8481    xpc/2017-finals        XPC  2017-03-03         USA        OH   \n\n         MeetTown                                           MeetName  \\\nMeetID                                                                 \n0       Charlotte  2016 Junior & Senior National Powerlifting Cha...   \n0       Charlotte  2016 Junior & Senior National Powerlifting Cha...   \n...           ...                                                ...   \n8481     Columbus                                    2017 XPC Finals   \n8481     Columbus                                    2017 XPC Finals   \n\n                    Name Sex   Equipment   ...    WeightClassKg Squat4Kg  \\\nMeetID                                     ...                             \n0       Angie Belk Terry   F       Wraps   ...               60      NaN   \n0            Dawn Bogart   F  Single-ply   ...               60      NaN   \n...                  ...  ..         ...   ...              ...      ...   \n8481      Jeff Bumanglag   M   Multi-ply   ...              140      NaN   \n8481       Shane Hammock   M   Multi-ply   ...              140      NaN   \n\n        BestSquatKg Bench4Kg  BestBenchKg  Deadlift4Kg  BestDeadliftKg  \\\nMeetID                                                                   \n0             47.63      NaN        20.41          NaN           70.31   \n0            142.88      NaN        95.25          NaN          163.29   \n...             ...      ...          ...          ...             ...   \n8481            NaN      NaN          NaN          NaN          320.00   \n8481            NaN      NaN          NaN          NaN          362.50   \n\n        TotalKg  Place   Wilks  \nMeetID                          \n0        138.35      1  155.05  \n0        401.42      1  456.38  \n...         ...    ...     ...  \n8481     320.00      3  181.85  \n8481     362.50      2  205.18  \n\n[386414 rows x 23 columns]",
            "text/html": "<div>\n<style scoped>\n    .dataframe tbody tr th:only-of-type {\n        vertical-align: middle;\n    }\n\n    .dataframe tbody tr th {\n        vertical-align: top;\n    }\n\n    .dataframe thead th {\n        text-align: right;\n    }\n</style>\n<table border=\"1\" class=\"dataframe\">\n  <thead>\n    <tr style=\"text-align: right;\">\n      <th></th>\n      <th>MeetPath</th>\n      <th>Federation</th>\n      <th>Date</th>\n      <th>MeetCountry</th>\n      <th>MeetState</th>\n      <th>MeetTown</th>\n      <th>MeetName</th>\n      <th>Name</th>\n      <th>Sex</th>\n      <th>Equipment</th>\n      <th>...</th>\n      <th>WeightClassKg</th>\n      <th>Squat4Kg</th>\n      <th>BestSquatKg</th>\n      <th>Bench4Kg</th>\n      <th>BestBenchKg</th>\n      <th>Deadlift4Kg</th>\n      <th>BestDeadliftKg</th>\n      <th>TotalKg</th>\n      <th>Place</th>\n      <th>Wilks</th>\n    </tr>\n    <tr>\n      <th>MeetID</th>\n      <th></th>\n      <th></th>\n      <th></th>\n      <th></th>\n      <th></th>\n      <th></th>\n      <th></th>\n      <th></th>\n      <th></th>\n      <th></th>\n      <th></th>\n      <th></th>\n      <th></th>\n      <th></th>\n      <th></th>\n      <th></th>\n      <th></th>\n      <th></th>\n      <th></th>\n      <th></th>\n      <th></th>\n    </tr>\n  </thead>\n  <tbody>\n    <tr>\n      <th>0</th>\n      <td>365strong/1601</td>\n      <td>365Strong</td>\n      <td>2016-10-29</td>\n      <td>USA</td>\n      <td>NC</td>\n      <td>Charlotte</td>\n      <td>2016 Junior &amp; Senior National Powerlifting Cha...</td>\n      <td>Angie Belk Terry</td>\n      <td>F</td>\n      <td>Wraps</td>\n      <td>...</td>\n      <td>60</td>\n      <td>NaN</td>\n      <td>47.63</td>\n      <td>NaN</td>\n      <td>20.41</td>\n      <td>NaN</td>\n      <td>70.31</td>\n      <td>138.35</td>\n      <td>1</td>\n      <td>155.05</td>\n    </tr>\n    <tr>\n      <th>0</th>\n      <td>365strong/1601</td>\n      <td>365Strong</td>\n      <td>2016-10-29</td>\n      <td>USA</td>\n      <td>NC</td>\n      <td>Charlotte</td>\n      <td>2016 Junior &amp; Senior National Powerlifting Cha...</td>\n      <td>Dawn Bogart</td>\n      <td>F</td>\n      <td>Single-ply</td>\n      <td>...</td>\n      <td>60</td>\n      <td>NaN</td>\n      <td>142.88</td>\n      <td>NaN</td>\n      <td>95.25</td>\n      <td>NaN</td>\n      <td>163.29</td>\n      <td>401.42</td>\n      <td>1</td>\n      <td>456.38</td>\n    </tr>\n    <tr>\n      <th>...</th>\n      <td>...</td>\n      <td>...</td>\n      <td>...</td>\n      <td>...</td>\n      <td>...</td>\n      <td>...</td>\n      <td>...</td>\n      <td>...</td>\n      <td>...</td>\n      <td>...</td>\n      <td>...</td>\n      <td>...</td>\n      <td>...</td>\n      <td>...</td>\n      <td>...</td>\n      <td>...</td>\n      <td>...</td>\n      <td>...</td>\n      <td>...</td>\n      <td>...</td>\n      <td>...</td>\n    </tr>\n    <tr>\n      <th>8481</th>\n      <td>xpc/2017-finals</td>\n      <td>XPC</td>\n      <td>2017-03-03</td>\n      <td>USA</td>\n      <td>OH</td>\n      <td>Columbus</td>\n      <td>2017 XPC Finals</td>\n      <td>Jeff Bumanglag</td>\n      <td>M</td>\n      <td>Multi-ply</td>\n      <td>...</td>\n      <td>140</td>\n      <td>NaN</td>\n      <td>NaN</td>\n      <td>NaN</td>\n      <td>NaN</td>\n      <td>NaN</td>\n      <td>320.00</td>\n      <td>320.00</td>\n      <td>3</td>\n      <td>181.85</td>\n    </tr>\n    <tr>\n      <th>8481</th>\n      <td>xpc/2017-finals</td>\n      <td>XPC</td>\n      <td>2017-03-03</td>\n      <td>USA</td>\n      <td>OH</td>\n      <td>Columbus</td>\n      <td>2017 XPC Finals</td>\n      <td>Shane Hammock</td>\n      <td>M</td>\n      <td>Multi-ply</td>\n      <td>...</td>\n      <td>140</td>\n      <td>NaN</td>\n      <td>NaN</td>\n      <td>NaN</td>\n      <td>NaN</td>\n      <td>NaN</td>\n      <td>362.50</td>\n      <td>362.50</td>\n      <td>2</td>\n      <td>205.18</td>\n    </tr>\n  </tbody>\n</table>\n<p>386414 rows × 23 columns</p>\n</div>"
          },
          "metadata": {}
        }
      ]
    }
  ],
  "metadata": {
    "language_info": {
      "name": "python",
      "version": "3.6.5",
      "mimetype": "text/x-python",
      "codemirror_mode": {
        "name": "ipython",
        "version": 3
      },
      "pygments_lexer": "ipython3",
      "nbconvert_exporter": "python",
      "file_extension": ".py"
    },
    "kernelspec": {
      "display_name": "Python 3",
      "language": "python",
      "name": "python3"
    }
  },
  "nbformat": 4,
  "nbformat_minor": 1
}