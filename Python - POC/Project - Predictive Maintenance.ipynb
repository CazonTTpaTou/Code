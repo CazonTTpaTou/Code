{
 "cells": [
  {
   "cell_type": "markdown",
   "metadata": {},
   "source": [
    "# A predictive maintenance project in the solar industry"
   ]
  },
  {
   "cell_type": "markdown",
   "metadata": {},
   "source": [
    "<ul>\n",
    "    <li>1 - Context of problematic</li>\n",
    "    <li>2 - Presentation of data</li>\n",
    "    <li>3 - Study of hypothesis</li>\n",
    "    <li>4 - Modeling and learning</li>\n",
    "    <li>5 - Results and operation</li>\n",
    "</ul>    "
   ]
  },
  {
   "cell_type": "markdown",
   "metadata": {},
   "source": [
    "<img src=\"./Pictures/Fotolia_62738424_XS.jpg\" />"
   ]
  },
  {
   "cell_type": "markdown",
   "metadata": {},
   "source": [
    "## 1 - Context of problematic"
   ]
  },
  {
   "cell_type": "markdown",
   "metadata": {},
   "source": [
    "#### In the solar industry to make a photovoltaic panel, one of the crucial steps is the cutting of silicon ingots into wafers."
   ]
  },
  {
   "cell_type": "markdown",
   "metadata": {},
   "source": [
    "<img src=\"./Pictures/Ingot.PNG\" />"
   ]
  },
  {
   "cell_type": "markdown",
   "metadata": {},
   "source": [
    "#### For this, diamond wire saws are used. These equipment are very efficient but also subject to drift manufacturing. Quality monitoring is therefore imperative.\n",
    "<img src=\"./Pictures/Scie_Diamant.jpg\" />\n",
    "#### In our context, important and regular drifts were observed. This is why a predictive maintenance prediction project was set up to reduce the impact of these production anomalies."
   ]
  },
  {
   "cell_type": "markdown",
   "metadata": {},
   "source": [
    "<img src=\"./Pictures/Distribution Gausienne.png\" />\n",
    "#### The aim was to predict when a drift would occur in order to realize an action of maintenance to prevent the anomaly (for example change the wire of the saw or recalibrate settings...)."
   ]
  },
  {
   "cell_type": "markdown",
   "metadata": {},
   "source": [
    "## 2 - Presentation of data"
   ]
  },
  {
   "cell_type": "markdown",
   "metadata": {},
   "source": [
    "#### For this project, we had a datadet with a dozen of variables. Each hour for each day (the factory was working on unceasing full time shift - 24 hours a day), when a cut is performed on a silicium ingot, a log file is produced with many useful informations.\n",
    "\n",
    "#### Here are the most useful variables which be used for this project :\n",
    "<img src=\"./Pictures/Variables.png\" />"
   ]
  },
  {
   "cell_type": "code",
   "execution_count": 40,
   "metadata": {},
   "outputs": [],
   "source": [
    "import pandas as pd\n",
    "import numpy as np\n",
    "\n",
    "path = './/Data'\n",
    "fileName = 'Data_Maintenance.csv'\n",
    "\n",
    "filePath = '//'.join([path,fileName])\n",
    "\n",
    "data_maintenance = pd.read_csv(filePath,delimiter=';')\n"
   ]
  },
  {
   "cell_type": "code",
   "execution_count": 41,
   "metadata": {},
   "outputs": [
    {
     "data": {
      "text/html": [
       "<div>\n",
       "<style scoped>\n",
       "    .dataframe tbody tr th:only-of-type {\n",
       "        vertical-align: middle;\n",
       "    }\n",
       "\n",
       "    .dataframe tbody tr th {\n",
       "        vertical-align: top;\n",
       "    }\n",
       "\n",
       "    .dataframe thead th {\n",
       "        text-align: right;\n",
       "    }\n",
       "</style>\n",
       "<table border=\"1\" class=\"dataframe\">\n",
       "  <thead>\n",
       "    <tr style=\"text-align: right;\">\n",
       "      <th></th>\n",
       "      <th>Date</th>\n",
       "      <th>Time</th>\n",
       "      <th>DateTime</th>\n",
       "      <th>TTV</th>\n",
       "      <th>Thickness</th>\n",
       "      <th>SawGroove</th>\n",
       "      <th>SawEdge</th>\n",
       "      <th>SawStep</th>\n",
       "      <th>LastEmptying</th>\n",
       "      <th>OutSixSigma</th>\n",
       "      <th>WafersProduction</th>\n",
       "      <th>SiliciumType</th>\n",
       "    </tr>\n",
       "  </thead>\n",
       "  <tbody>\n",
       "    <tr>\n",
       "      <th>0</th>\n",
       "      <td>01/01/2017</td>\n",
       "      <td>00:00</td>\n",
       "      <td>01/01/2017 00:00</td>\n",
       "      <td>30</td>\n",
       "      <td>250</td>\n",
       "      <td>120</td>\n",
       "      <td>1</td>\n",
       "      <td>0</td>\n",
       "      <td>01/01/2017</td>\n",
       "      <td>0</td>\n",
       "      <td>1000</td>\n",
       "      <td>Mono</td>\n",
       "    </tr>\n",
       "    <tr>\n",
       "      <th>1</th>\n",
       "      <td>01/01/2017</td>\n",
       "      <td>01:00</td>\n",
       "      <td>01/01/2017 01:00</td>\n",
       "      <td>30</td>\n",
       "      <td>251</td>\n",
       "      <td>121</td>\n",
       "      <td>0</td>\n",
       "      <td>0</td>\n",
       "      <td>01/01/2017</td>\n",
       "      <td>0</td>\n",
       "      <td>3000</td>\n",
       "      <td>Mono</td>\n",
       "    </tr>\n",
       "    <tr>\n",
       "      <th>2</th>\n",
       "      <td>01/01/2017</td>\n",
       "      <td>02:00</td>\n",
       "      <td>01/01/2017 02:00</td>\n",
       "      <td>30</td>\n",
       "      <td>251</td>\n",
       "      <td>120</td>\n",
       "      <td>0</td>\n",
       "      <td>0</td>\n",
       "      <td>01/01/2017</td>\n",
       "      <td>0</td>\n",
       "      <td>5000</td>\n",
       "      <td>Mono</td>\n",
       "    </tr>\n",
       "    <tr>\n",
       "      <th>3</th>\n",
       "      <td>01/01/2017</td>\n",
       "      <td>03:00</td>\n",
       "      <td>01/01/2017 03:00</td>\n",
       "      <td>31</td>\n",
       "      <td>251</td>\n",
       "      <td>119</td>\n",
       "      <td>2</td>\n",
       "      <td>0</td>\n",
       "      <td>01/01/2017</td>\n",
       "      <td>0</td>\n",
       "      <td>6000</td>\n",
       "      <td>Mono</td>\n",
       "    </tr>\n",
       "    <tr>\n",
       "      <th>4</th>\n",
       "      <td>01/01/2017</td>\n",
       "      <td>04:00</td>\n",
       "      <td>01/01/2017 04:00</td>\n",
       "      <td>32</td>\n",
       "      <td>251</td>\n",
       "      <td>124</td>\n",
       "      <td>1</td>\n",
       "      <td>0</td>\n",
       "      <td>01/01/2017</td>\n",
       "      <td>0</td>\n",
       "      <td>7000</td>\n",
       "      <td>Mono</td>\n",
       "    </tr>\n",
       "  </tbody>\n",
       "</table>\n",
       "</div>"
      ],
      "text/plain": [
       "         Date   Time          DateTime  TTV  Thickness  SawGroove  SawEdge  \\\n",
       "0  01/01/2017  00:00  01/01/2017 00:00   30        250        120        1   \n",
       "1  01/01/2017  01:00  01/01/2017 01:00   30        251        121        0   \n",
       "2  01/01/2017  02:00  01/01/2017 02:00   30        251        120        0   \n",
       "3  01/01/2017  03:00  01/01/2017 03:00   31        251        119        2   \n",
       "4  01/01/2017  04:00  01/01/2017 04:00   32        251        124        1   \n",
       "\n",
       "   SawStep LastEmptying  OutSixSigma  WafersProduction SiliciumType  \n",
       "0        0   01/01/2017            0              1000         Mono  \n",
       "1        0   01/01/2017            0              3000         Mono  \n",
       "2        0   01/01/2017            0              5000         Mono  \n",
       "3        0   01/01/2017            0              6000         Mono  \n",
       "4        0   01/01/2017            0              7000         Mono  "
      ]
     },
     "execution_count": 41,
     "metadata": {},
     "output_type": "execute_result"
    }
   ],
   "source": [
    "data_maintenance.head(5)"
   ]
  },
  {
   "cell_type": "markdown",
   "metadata": {},
   "source": [
    "#### Let's take a look at the data :"
   ]
  },
  {
   "cell_type": "code",
   "execution_count": 12,
   "metadata": {},
   "outputs": [
    {
     "data": {
      "image/png": "[encoded data removed]",
      "text/plain": [
       "<Figure size 432x288 with 1 Axes>"
      ]
     },
     "metadata": {},
     "output_type": "display_data"
    }
   ],
   "source": [
    "import matplotlib.pyplot as plt\n",
    "import seaborn as sns\n",
    "\n",
    "data_maintenance.TTV.hist(label=\"Distribution of wafers thickness\")\n",
    "plt.plot([95, 95], [0, 3500],\n",
    "         color='red',\n",
    "         linestyle='--',\n",
    "         linewidth=3,\n",
    "         label=\"Out 6-sigma limit\")\n",
    "\n",
    "plt.legend(loc='upper right');\n",
    "plt.show()\n"
   ]
  },
  {
   "cell_type": "markdown",
   "metadata": {},
   "source": [
    "#### As we can see, mostly 15% of the production is out 6-sigma limit. It's a lot and it's a quite waste of ressources since the wafers which doesn't respond to quality criteria are thrown away.\n",
    "\n",
    "#### That's why this project of predictive maintenance has for first goal to prevent this drift of non quality production, because the cost of these anomalies are pretty heavy for the firm."
   ]
  },
  {
   "cell_type": "markdown",
   "metadata": {},
   "source": [
    "## 3 - Study of hypothesis"
   ]
  },
  {
   "cell_type": "markdown",
   "metadata": {},
   "source": [
    "#### At first, before beginning the step of modeling, we have to check the following hypothesis :\n",
    "<ul>\n",
    "    <li>A - Hypothesis of normality of data</li>\n",
    "    <li>B - Hypothesis of stationnary time serie</li>\n",
    "    <li>C - Hypothesis of event without memory (Markov process)</li>\n",
    "</ul>\n"
   ]
  },
  {
   "cell_type": "markdown",
   "metadata": {},
   "source": [
    "### A - Hypothesis of normality of data"
   ]
  },
  {
   "cell_type": "markdown",
   "metadata": {},
   "source": [
    "#### The purpose of the verification of this hypothesis is to know if parametric methods can be used for our learning model."
   ]
  },
  {
   "cell_type": "code",
   "execution_count": 14,
   "metadata": {},
   "outputs": [
    {
     "data": {
      "image/png": "[encoded data removed]",
      "text/plain": [
       "<Figure size 864x432 with 2 Axes>"
      ]
     },
     "metadata": {},
     "output_type": "display_data"
    }
   ],
   "source": [
    "g = sns.FacetGrid(data_maintenance, \n",
    "                  col=\"SiliciumType\", \n",
    "                  size=6)\n",
    "\n",
    "g.map(sns.kdeplot,\n",
    "      \"TTV\",\n",
    "      shade=True)\n",
    "\n",
    "plt.xlabel('TTV')\n",
    "plt.show()\n"
   ]
  },
  {
   "cell_type": "markdown",
   "metadata": {},
   "source": [
    "#### A first visual look would suggest that the parameter observed doesn't follow a gaussian distribution (low Skewness and non symetric Kurtosis).\n",
    "\n",
    "#### We could check also with a QQ plot test (using percentile cumul) :"
   ]
  },
  {
   "cell_type": "code",
   "execution_count": 15,
   "metadata": {},
   "outputs": [
    {
     "name": "stderr",
     "output_type": "stream",
     "text": [
      "C:\\Users\\monne\\Anaconda3\\lib\\site-packages\\statsmodels\\compat\\pandas.py:56: FutureWarning: The pandas.core.datetools module is deprecated and will be removed in a future version. Please use the pandas.tseries module instead.\n",
      "  from pandas.core import datetools\n"
     ]
    },
    {
     "data": {
      "image/png": "[encoded data removed]",
      "text/plain": [
       "<Figure size 432x288 with 1 Axes>"
      ]
     },
     "metadata": {},
     "output_type": "display_data"
    }
   ],
   "source": [
    "import scipy\n",
    "from statsmodels.graphics.gofplots import qqplot\n",
    "from scipy.stats import shapiro\n",
    "from scipy.stats import anderson\n",
    "from statsmodels.tsa.stattools import adfuller\n",
    "from statsmodels.tsa.stattools import kpss\n",
    "\n",
    "from statsmodels.tsa.arima_model import ARIMA\n",
    "\n",
    "qqplot(data_maintenance.TTV, line='s')\n",
    "plt.show()\n"
   ]
  },
  {
   "cell_type": "markdown",
   "metadata": {},
   "source": [
    "#### It seems that the distribution is not a gaussian one...\n",
    "#### To be sure, we could compute a statiscal test and we will use the following ones :\n",
    "<ul>\n",
    "<li>Shapiro Test </li>\n",
    "<li>D'Agostino Test</li>\n",
    "<li>Anderson Test</li>\n",
    "</ul>\n"
   ]
  },
  {
   "cell_type": "code",
   "execution_count": 17,
   "metadata": {},
   "outputs": [
    {
     "name": "stdout",
     "output_type": "stream",
     "text": [
      "Stats = 0.8932368159294128 - p-value = 0.0\n"
     ]
    },
    {
     "name": "stderr",
     "output_type": "stream",
     "text": [
      "C:\\Users\\monne\\Anaconda3\\lib\\site-packages\\scipy\\stats\\morestats.py:1310: UserWarning: p-value may not be accurate for N > 5000.\n",
      "  warnings.warn(\"p-value may not be accurate for N > 5000.\")\n"
     ]
    }
   ],
   "source": [
    "stats,p_value = shapiro(data_maintenance.TTV)\n",
    "print('Stats = {} - p-value = {}'.format(stats,p_value))\n"
   ]
  },
  {
   "cell_type": "code",
   "execution_count": 18,
   "metadata": {},
   "outputs": [
    {
     "name": "stdout",
     "output_type": "stream",
     "text": [
      "NormaltestResult(statistic=1268.5132451261297, pvalue=3.514379931470798e-276)\n"
     ]
    }
   ],
   "source": [
    "# D'Agostino and Pearson's Test\n",
    "print(scipy.stats.normaltest(data_maintenance.TTV))"
   ]
  },
  {
   "cell_type": "code",
   "execution_count": 28,
   "metadata": {},
   "outputs": [
    {
     "name": "stdout",
     "output_type": "stream",
     "text": [
      "Statistic: 259.087\n",
      "Critical value of 15.0%  : 0.576 --> data doesn't look normal (reject H0)\n",
      "Critical value of 10.0%  : 0.656 --> data doesn't look normal (reject H0)\n",
      "Critical value of 5.0%  : 0.787 --> data doesn't look normal (reject H0)\n",
      "Critical value of 2.0%  : 0.918 --> data doesn't look normal (reject H0)\n",
      "Critical value of 1.0%  : 1.092 --> data doesn't look normal (reject H0)\n"
     ]
    }
   ],
   "source": [
    "# Anderson's Test\n",
    "result = anderson(data_maintenance.TTV)\n",
    "print('Statistic: %.3f' % result.statistic)\n",
    "for i in range(len(result.critical_values)):\n",
    "    sl, cv = result.significance_level[i], result.critical_values[i]\n",
    "\t\n",
    "    if result.statistic < result.critical_values[i]:\n",
    "        print('%.3f: %.3f, data looks normal (fail to reject H0)' % (sl, cv))\n",
    "    else:\n",
    "        print('Critical value of {}%  : {} --> data doesn\\'t look normal (reject H0)'.format(round(sl,0), cv))\n"
   ]
  },
  {
   "cell_type": "markdown",
   "metadata": {},
   "source": [
    "## B - Hypothesis of stationnary time serie"
   ]
  },
  {
   "cell_type": "markdown",
   "metadata": {},
   "source": [
    "#### A first look on the distribution of one of the parameter (the BOW measure which is globally the same as the TTV criteria) would indicate that fluctuations are following a time serie, as we could read on the below picture :\n",
    "<img src=\"./Pictures/Distribution Chronologique.png\" />\n",
    "\n",
    "#### Let's check this assumption :\n",
    "<ul>\n",
    "    <li>Transform the data</li>\n",
    "    <li>Test of Ad Fuller</li>\n",
    "    <li>ARIMA performing</li>\n",
    "</ul>    "
   ]
  },
  {
   "cell_type": "markdown",
   "metadata": {},
   "source": [
    "### Transform the data :"
   ]
  },
  {
   "cell_type": "markdown",
   "metadata": {},
   "source": [
    "#### At first, we have to group the data on the variable Date in order to be able to compute the analysis on a daily basis."
   ]
  },
  {
   "cell_type": "code",
   "execution_count": 30,
   "metadata": {},
   "outputs": [
    {
     "name": "stdout",
     "output_type": "stream",
     "text": [
      "date_py\n",
      "2017-01-01    52.333333\n",
      "2017-01-02    56.291667\n",
      "2017-01-03    57.291667\n",
      "2017-01-04    57.333333\n",
      "2017-01-05    57.333333\n",
      "Name: TTV, dtype: float64\n"
     ]
    }
   ],
   "source": [
    "data_maintenance['year'] = data_maintenance['Date'].apply(lambda x:x[len(x)-4:])\n",
    "data_maintenance['month'] = data_maintenance['Date'].apply(lambda x:x[len(x)-7:len(x)-5])\n",
    "data_maintenance['day'] = data_maintenance['Date'].apply(lambda x:x[:2])\n",
    "     \n",
    "data_maintenance['date_py'] = pd.to_datetime(data_maintenance[['year','month','day']])\n",
    "\n",
    "grouped = data_maintenance.groupby('date_py')\n",
    "mean_TTV = grouped['TTV'].agg(np.mean)\n",
    "print(mean_TTV.head(5))\n"
   ]
  },
  {
   "cell_type": "markdown",
   "metadata": {},
   "source": [
    "#### The dataset is now regrouped by the date of the day (we keep the mean of each variable)\n"
   ]
  },
  {
   "cell_type": "code",
   "execution_count": 32,
   "metadata": {},
   "outputs": [
    {
     "data": {
      "image/png": "[encoded data removed]",
      "text/plain": [
       "<Figure size 432x288 with 1 Axes>"
      ]
     },
     "metadata": {},
     "output_type": "display_data"
    }
   ],
   "source": [
    "mean_TTV.plot()\n",
    "plt.show()"
   ]
  },
  {
   "cell_type": "markdown",
   "metadata": {},
   "source": [
    "#### The graphical visualisation could let think that we are facing a stationnary time series use case...\n",
    "#### Stationnary, because there is no trend, the variance doesn't grow with the date and there is not sign of covariance with the time axis..."
   ]
  },
  {
   "cell_type": "markdown",
   "metadata": {},
   "source": [
    "### Augmented Dickey Fuller Test"
   ]
  },
  {
   "cell_type": "code",
   "execution_count": 33,
   "metadata": {},
   "outputs": [
    {
     "name": "stdout",
     "output_type": "stream",
     "text": [
      "----------------------------------------\n",
      "Augmented Dickey Fuller Test\n",
      "valeur du test : -18.501751389268442 - Valeur de la p-value : 2.1201245071674424e-30\n",
      "Critical value à 1% % : -3.4483935212959844\n",
      "Critical value à 5% % : -2.8694912343676497\n",
      "Critical value à 10% % : -2.571005879151811\n",
      "----------------------------------------\n",
      "Reject H0 : the serie of fluctuations of TTV is stationnary...\n"
     ]
    }
   ],
   "source": [
    "\n",
    "print('--'*20)\n",
    "print('Augmented Dickey Fuller Test')\n",
    "\n",
    "results = adfuller(mean_TTV,\n",
    "                   autolag='AIC')\n",
    "\n",
    "test_statistics,p_value = results[0],results[1]\n",
    "\n",
    "print('valeur du test : {} - Valeur de la p-value : {}'.format(test_statistics,\n",
    "                                                          p_value))\n",
    "\n",
    "for key,value in results[4].items():\n",
    "    print('Critical value à {} % : {}'.format(key,value))\n",
    "print('--'*20)    \n",
    "if p_value < 0.05:\n",
    "    print('Reject H0 : the serie of fluctuations of TTV is stationnary...') \n",
    "else:\n",
    "    print('Fail to reject H0 : the serie of fluctuations of TTV is not stationnary...') \n",
    "    "
   ]
  },
  {
   "cell_type": "markdown",
   "metadata": {},
   "source": [
    "<img src=\"./Pictures/Tendance Thickness.PNG\" />"
   ]
  },
  {
   "cell_type": "markdown",
   "metadata": {},
   "source": [
    "### Kwiatkowski-Phillips-Schmidt-Shin Test"
   ]
  },
  {
   "cell_type": "code",
   "execution_count": 34,
   "metadata": {},
   "outputs": [
    {
     "name": "stdout",
     "output_type": "stream",
     "text": [
      "----------------------------------------\n",
      "Kwiatkowski-Phillips-Schmidt-Shin Test\n",
      "valeur du test : 0.036624491810607694 - Valeur de la p-value : 0.1\n",
      "Critical value à 10% % : 0.347\n",
      "Critical value à 5% % : 0.463\n",
      "Critical value à 2.5% % : 0.574\n",
      "Critical value à 1% % : 0.739\n",
      "----------------------------------------\n",
      "Fail to reject H0 : the serie of fluctuations of TTV is stationnary...\n"
     ]
    },
    {
     "name": "stderr",
     "output_type": "stream",
     "text": [
      "C:\\Users\\monne\\Anaconda3\\lib\\site-packages\\statsmodels\\tsa\\stattools.py:1260: InterpolationWarning: p-value is greater than the indicated p-value\n",
      "  warn(\"p-value is greater than the indicated p-value\", InterpolationWarning)\n"
     ]
    }
   ],
   "source": [
    "print('--'*20)\n",
    "print('Kwiatkowski-Phillips-Schmidt-Shin Test')    \n",
    "\n",
    "\n",
    "results = kpss(mean_TTV,\n",
    "                   regression='c')\n",
    "\n",
    "test_statistics,p_value = results[0],results[1]\n",
    "\n",
    "print('valeur du test : {} - Valeur de la p-value : {}'.format(test_statistics,\n",
    "                                                          p_value))\n",
    "\n",
    "for key,value in results[3].items():\n",
    "    print('Critical value à {} % : {}'.format(key,value))\n",
    "print('--'*20)    \n",
    "if p_value > 0.05:\n",
    "    print('Fail to reject H0 : the serie of fluctuations of TTV is stationnary...') \n",
    "else:\n",
    "    print('Reject H0 : the serie of fluctuations of TTV is not stationnary...') "
   ]
  },
  {
   "cell_type": "markdown",
   "metadata": {},
   "source": [
    "### ARIMA performing"
   ]
  },
  {
   "cell_type": "code",
   "execution_count": 35,
   "metadata": {},
   "outputs": [
    {
     "data": {
      "text/plain": [
       "Text(0.5,1,'RSS: 53269.1851')"
      ]
     },
     "execution_count": 35,
     "metadata": {},
     "output_type": "execute_result"
    },
    {
     "data": {
      "image/png": "[encoded data removed]",
      "text/plain": [
       "<Figure size 432x288 with 1 Axes>"
      ]
     },
     "metadata": {},
     "output_type": "display_data"
    }
   ],
   "source": [
    "# Forecast with ARIMA model       \n",
    "model = ARIMA(mean_TTV, order=(2,0, 0))  \n",
    "results_ARIMA = model.fit()  \n",
    "\n",
    "plt.plot(mean_TTV)\n",
    "plt.plot(results_ARIMA.fittedvalues, color='red')\n",
    "plt.title('RSS: %.4f'% sum((results_ARIMA.fittedvalues-mean_TTV)**2))"
   ]
  },
  {
   "cell_type": "markdown",
   "metadata": {},
   "source": [
    "<ul><li> The ARIMA model seems specifically poor on this case. </li>\n",
    "    <li> The predictions (in red) is not aligned on the time series.</li>\n",
    "    <li> And the RSS score is pretty high... but why ???</li>\n",
    "</ul>    \n",
    "\n",
    "#### After a lot of research and discussion with the process engineers, it seems that data are not correlated with date or time, but with the number of wafers produced.\n",
    "#### If nothing is produced while a month, all parameters will remain stable and no drift will be observed. So, our data are not a stationnary time serie use case...\n",
    "#### It's a bit tricky since results of tests and visual graphics insinuate the opposite, but this is an effect of an hidden correlation between the date and the cumul of number of wafers produced during the interval..."
   ]
  },
  {
   "cell_type": "markdown",
   "metadata": {},
   "source": [
    "### C - Hypothesis of event without memory (Markov process)"
   ]
  },
  {
   "cell_type": "markdown",
   "metadata": {},
   "source": [
    "#### If events observed were without memory, no links would be notified with a past parameter. But on the below visualisation, we could see that fluctutations seem correlated with the past cumul of wafers :\n",
    "<img src=\"./Pictures/Distribution Wafers.png\" />"
   ]
  },
  {
   "cell_type": "markdown",
   "metadata": {},
   "source": [
    "#### Futhermore, we have observed that drifts are sometimes concomitant with operations of emptying on the saw equipment (oil lubricant). It seems that probability of drift occurence is proportional with the past delay of the last action of emptying performed on the saw equipment :\n",
    "<img src=\"./Pictures/Concomittance_Maintenance.png\" />\n",
    "#### So, we can deduct that we are not facing a Markov process use case... "
   ]
  },
  {
   "cell_type": "markdown",
   "metadata": {},
   "source": [
    "# 4 - Modeling and learning\n",
    "<ul>\n",
    "    <li>A - Design the features</li>\n",
    "    <li>B - Select the features</li>\n",
    "    <li>C - Build the model</li>\n",
    "</ul>    "
   ]
  },
  {
   "cell_type": "markdown",
   "metadata": {},
   "source": [
    "### A - Design the features"
   ]
  },
  {
   "cell_type": "markdown",
   "metadata": {},
   "source": [
    "#### in connection with the observations made previously, we will create 4 new features :\n",
    "<ul>\n",
    "    <li>A feature to indicate if it is a day when an emptying action is performed</li>\n",
    "    <li>A feature to calculate the number of wafers produced since the last day of emptying</li>\n",
    "    <li>A feaure to count the number of days since the last action of emptying</li>\n",
    "    <li>A dummy feature for coding the type of silicium material (has an impact on the saw wire attrition)</li>\n",
    "</ul>    "
   ]
  },
  {
   "cell_type": "code",
   "execution_count": 43,
   "metadata": {},
   "outputs": [],
   "source": [
    "is_emptying =list()\n",
    "cumul_wafers = list()\n",
    "day_since_emptying = list()\n",
    "cumul_ant=0\n",
    "\n",
    "for index,row in data_maintenance.iterrows():    \n",
    "    if row['Date'][:2]=='01':\n",
    "        is_emptying.append(1)\n",
    "        cumul_wafers.append(0)\n",
    "        cumul_ant=row['WafersProduction']\n",
    "        day=int(row['LastEmptying'][:2])\n",
    "        day_since_emptying.append(0)\n",
    "        \n",
    "    else:\n",
    "        is_emptying.append(0)\n",
    "        cumul_wafers.append(row['WafersProduction']-cumul_ant)\n",
    "        day_since_emptying.append(np.abs(int(row['Date'][:2])-day))\n",
    "        \n",
    "data_maintenance['day of emptying']  = is_emptying      \n",
    "data_maintenance['cumul of wafers']  = cumul_wafers  \n",
    "data_maintenance['day since emptying']  = day_since_emptying  \n",
    "data_maintenance['Is Mono'] = data_maintenance['SiliciumType'].apply(lambda x: 1 if x=='Mono' else 0)\n"
   ]
  },
  {
   "cell_type": "code",
   "execution_count": 47,
   "metadata": {},
   "outputs": [
    {
     "data": {
      "text/html": [
       "<div>\n",
       "<style scoped>\n",
       "    .dataframe tbody tr th:only-of-type {\n",
       "        vertical-align: middle;\n",
       "    }\n",
       "\n",
       "    .dataframe tbody tr th {\n",
       "        vertical-align: top;\n",
       "    }\n",
       "\n",
       "    .dataframe thead th {\n",
       "        text-align: right;\n",
       "    }\n",
       "</style>\n",
       "<table border=\"1\" class=\"dataframe\">\n",
       "  <thead>\n",
       "    <tr style=\"text-align: right;\">\n",
       "      <th></th>\n",
       "      <th>Date</th>\n",
       "      <th>day of emptying</th>\n",
       "      <th>cumul of wafers</th>\n",
       "      <th>LastEmptying</th>\n",
       "      <th>day since emptying</th>\n",
       "      <th>Is Mono</th>\n",
       "    </tr>\n",
       "  </thead>\n",
       "  <tbody>\n",
       "    <tr>\n",
       "      <th>8761</th>\n",
       "      <td>01/01/2018</td>\n",
       "      <td>1</td>\n",
       "      <td>0</td>\n",
       "      <td>01/01/2018</td>\n",
       "      <td>0</td>\n",
       "      <td>0</td>\n",
       "    </tr>\n",
       "    <tr>\n",
       "      <th>8762</th>\n",
       "      <td>01/01/2018</td>\n",
       "      <td>1</td>\n",
       "      <td>0</td>\n",
       "      <td>01/01/2018</td>\n",
       "      <td>0</td>\n",
       "      <td>0</td>\n",
       "    </tr>\n",
       "    <tr>\n",
       "      <th>8763</th>\n",
       "      <td>01/01/2018</td>\n",
       "      <td>1</td>\n",
       "      <td>0</td>\n",
       "      <td>01/01/2018</td>\n",
       "      <td>0</td>\n",
       "      <td>0</td>\n",
       "    </tr>\n",
       "  </tbody>\n",
       "</table>\n",
       "</div>"
      ],
      "text/plain": [
       "            Date  day of emptying  cumul of wafers LastEmptying  \\\n",
       "8761  01/01/2018                1                0   01/01/2018   \n",
       "8762  01/01/2018                1                0   01/01/2018   \n",
       "8763  01/01/2018                1                0   01/01/2018   \n",
       "\n",
       "      day since emptying  Is Mono  \n",
       "8761                   0        0  \n",
       "8762                   0        0  \n",
       "8763                   0        0  "
      ]
     },
     "execution_count": 47,
     "metadata": {},
     "output_type": "execute_result"
    }
   ],
   "source": [
    "data_maintenance[['Date','day of emptying','cumul of wafers','LastEmptying','day since emptying','Is Mono']].tail(3)"
   ]
  },
  {
   "cell_type": "markdown",
   "metadata": {},
   "source": [
    "### B - Select the features"
   ]
  },
  {
   "cell_type": "markdown",
   "metadata": {},
   "source": [
    "#### At first, we are checking the correlation between variables since models are sometimes sensitive to it :"
   ]
  },
  {
   "cell_type": "code",
   "execution_count": 48,
   "metadata": {},
   "outputs": [
    {
     "data": {
      "text/plain": [
       "<matplotlib.image.AxesImage at 0x19eb99787b8>"
      ]
     },
     "execution_count": 48,
     "metadata": {},
     "output_type": "execute_result"
    },
    {
     "data": {
      "image/png": "[encoded data removed]",
      "text/plain": [
       "<Figure size 288x288 with 1 Axes>"
      ]
     },
     "metadata": {},
     "output_type": "display_data"
    }
   ],
   "source": [
    "plt.matshow(data_maintenance.corr())"
   ]
  },
  {
   "cell_type": "code",
   "execution_count": 52,
   "metadata": {},
   "outputs": [
    {
     "name": "stdout",
     "output_type": "stream",
     "text": [
      "----------------------------------------\n",
      "TTV\n",
      "----------------------------------------\n",
      "OutSixSigma    0.682667\n",
      "Name: TTV, dtype: float64\n",
      "----------------------------------------\n",
      "Thickness\n",
      "----------------------------------------\n",
      "SawStep    0.604948\n",
      "Name: Thickness, dtype: float64\n",
      "----------------------------------------\n",
      "SawStep\n",
      "----------------------------------------\n",
      "Thickness    0.604948\n",
      "Name: SawStep, dtype: float64\n",
      "----------------------------------------\n",
      "OutSixSigma\n",
      "----------------------------------------\n",
      "TTV    0.682667\n",
      "Name: OutSixSigma, dtype: float64\n",
      "----------------------------------------\n",
      "cumul of wafers\n",
      "----------------------------------------\n",
      "day since emptying    0.999174\n",
      "Name: cumul of wafers, dtype: float64\n",
      "----------------------------------------\n",
      "day since emptying\n",
      "----------------------------------------\n",
      "cumul of wafers    0.999174\n",
      "Name: day since emptying, dtype: float64\n"
     ]
    }
   ],
   "source": [
    "for col in data_maintenance.corr().columns:\n",
    "    conditions = (data_maintenance.corr()[col]>0.6) & (data_maintenance.corr()[col]<1)\n",
    "    if len(data_maintenance.corr()[conditions][col])>0:\n",
    "        columns_correlated = data_maintenance.corr()[conditions][col]\n",
    "        print('--'*20)\n",
    "        print(col)\n",
    "        print('--'*20)\n",
    "        print(columns_correlated)"
   ]
  },
  {
   "cell_type": "markdown",
   "metadata": {},
   "source": [
    "#### Then we are trying to detect the variables which explain the most of variability in the dataset with a PCA :"
   ]
  },
  {
   "cell_type": "code",
   "execution_count": 53,
   "metadata": {},
   "outputs": [
    {
     "name": "stdout",
     "output_type": "stream",
     "text": [
      "Variances explained by axes : [ 0.31732599  0.21365304  0.13912937  0.12088666]\n"
     ]
    },
    {
     "data": {
      "image/png": "[encoded data removed]",
      "text/plain": [
       "<Figure size 432x288 with 1 Axes>"
      ]
     },
     "metadata": {},
     "output_type": "display_data"
    }
   ],
   "source": [
    "from sklearn.preprocessing import StandardScaler\n",
    "\n",
    "features = data_maintenance.corr().columns.tolist()\n",
    "features.remove('OutSixSigma')\n",
    "target = 'OutSixSigma'\n",
    "\n",
    "X = data_maintenance.loc[:,features]\n",
    "y = data_maintenance.loc[:,target]\n",
    "\n",
    "X = StandardScaler().fit_transform(X)\n",
    "\n",
    "from sklearn.decomposition import PCA\n",
    "\n",
    "pca = PCA(n_components=4)\n",
    "principal_components = pca.fit_transform(X)\n",
    "\n",
    "principalDf = pd.DataFrame(data = principal_components,\n",
    "                           columns = ['PCI' + str(i) for i in range(4)])\n",
    "\n",
    "plt.scatter(principalDf.iloc[:,0],\n",
    "            principalDf.iloc[:,1],\n",
    "            c=y,\n",
    "            label=y.unique())\n",
    "\n",
    "print('Variances explained by axes : {}'.format(pca.explained_variance_ratio_))\n",
    "\n",
    "plt.show()\n"
   ]
  },
  {
   "cell_type": "code",
   "execution_count": 54,
   "metadata": {},
   "outputs": [
    {
     "name": "stdout",
     "output_type": "stream",
     "text": [
      "['Is Mono']\n",
      "['day of emptying']\n",
      "['SawGroove']\n",
      "['TTV']\n"
     ]
    }
   ],
   "source": [
    "sortedFeatures_axe1 = [i[0] for i in sorted(zip(features,pca.components_[0]),\n",
    "                                            key=lambda l:l[1],reverse=True)]\n",
    "\n",
    "sortedFeatures_axe2 = [i[0] for i in sorted(zip(features,pca.components_[1]),\n",
    "                                            key=lambda l:l[1],reverse=True)]\n",
    "\n",
    "sortedFeatures_axe3 = [i[0] for i in sorted(zip(features,pca.components_[2]),\n",
    "                                            key=lambda l:l[1],reverse=True)]\n",
    "\n",
    "sortedFeatures_axe4 = [i[0] for i in sorted(zip(features,pca.components_[3]),\n",
    "                                            key=lambda l:l[1],reverse=True)]\n",
    "    \n",
    "print(sortedFeatures_axe1[:1])    \n",
    "print(sortedFeatures_axe2[:1])  \n",
    "print(sortedFeatures_axe3[:1])    \n",
    "print(sortedFeatures_axe4[:1])  "
   ]
  },
  {
   "cell_type": "markdown",
   "metadata": {},
   "source": [
    "#### Then we have our features which will carry the most of variability for our future learning model.\n",
    "#### As we can see on the plan projection above, our data are segmented by the type of silicium and the proximity of the day of emptying. \n",
    "#### It seems that the day of emptying has an impact on the target feature (\"OutOf6Sigma\") since points in yellow on the plan, are systemtically above the others (when the axis vertical is carried by the \"day of emptying\" feature)."
   ]
  },
  {
   "cell_type": "markdown",
   "metadata": {},
   "source": [
    "<img src=\"./Pictures/Scatter_TTV.PNG\"/>"
   ]
  },
  {
   "cell_type": "markdown",
   "metadata": {},
   "source": [
    "### C - Build the model"
   ]
  },
  {
   "cell_type": "code",
   "execution_count": 55,
   "metadata": {},
   "outputs": [
    {
     "name": "stdout",
     "output_type": "stream",
     "text": [
      "Sensibility of predictions is about : 1.0\n",
      "Specificity of predictions is about : 1.0\n",
      "Perimeter of AUC curb : 1.0\n"
     ]
    },
    {
     "data": {
      "image/png": "[encoded data removed]",
      "text/plain": [
       "<Figure size 432x288 with 1 Axes>"
      ]
     },
     "metadata": {},
     "output_type": "display_data"
    }
   ],
   "source": [
    "from sklearn.model_selection import train_test_split\n",
    "\n",
    "train_features, test_features, train_target, test_target = train_test_split(X,\n",
    "                                                                            y,\n",
    "                                                                            test_size=0.25,\n",
    "                                                                            stratify=y)\n",
    "\n",
    "from sklearn.linear_model import LogisticRegression\n",
    "from sklearn.metrics import auc,roc_curve\n",
    "\n",
    "model_regression = LogisticRegression()\n",
    "model_regression.fit(train_features,train_target)\n",
    "predictions = model_regression.predict(test_features)\n",
    "probalities = model_regression.predict_proba(test_features)\n",
    "\n",
    "accuracy = predictions == test_target\n",
    "\n",
    "true_positives = (predictions==1) & (test_target==1)\n",
    "false_positives = (predictions==1) & (test_target==0)\n",
    "true_negatives = (predictions==0) & (test_target==0)\n",
    "false_negatives = (predictions==0) & (test_target==1)\n",
    "\n",
    "sensitivity = np.sum(true_positives) / (np.sum(true_positives)+np.sum(false_negatives))\n",
    "\n",
    "specificity = np.sum(true_negatives) / (np.sum(true_negatives) + np.sum(false_positives))\n",
    "\n",
    "print('Sensibility of predictions is about : {}'.format(sensitivity))\n",
    "print('Specificity of predictions is about : {}'.format(specificity))\n",
    "\n",
    "fpr, tpr, thresholds = roc_curve(test_target, probalities[:,1], pos_label=1)\n",
    "auc = auc(fpr,tpr)\n",
    "\n",
    "print('Perimeter of AUC curb : {}'.format(auc))\n",
    "\n",
    "plt.plot(fpr,tpr,label='AUC={}'.format(auc))\n",
    "plt.plot([0,1],[0,1],color='red')\n",
    "plt.legend(loc='lower right')\n",
    "plt.show()\n"
   ]
  },
  {
   "cell_type": "markdown",
   "metadata": {},
   "source": [
    "#### The score of accuracy seems perfect... too perfect. When performing this logistic regression, we made a rookie mistake. We keep features which contain information on the future... the measure of thickness or TTV are not known when the cut is peformed... these values are measured a fews hours later by a specific equipment. It a bias... \n",
    "#### When the predicition will be performed, no information about thickness of the wafer will be available.That's why we have toremove these features to build our model :"
   ]
  },
  {
   "cell_type": "code",
   "execution_count": 59,
   "metadata": {},
   "outputs": [
    {
     "name": "stdout",
     "output_type": "stream",
     "text": [
      "Sensibility of predictions is about : 0.20491803278688525\n",
      "Specificity of predictions is about : 1.0\n",
      "Perimeter of AUC curb : 0.6286194818425994\n"
     ]
    },
    {
     "data": {
      "image/png": "[encoded data removed]",
      "text/plain": [
       "<Figure size 432x288 with 1 Axes>"
      ]
     },
     "metadata": {},
     "output_type": "display_data"
    }
   ],
   "source": [
    "\n",
    "X_reduced = ['cumul of wafers', \n",
    "               'day since emptying', \n",
    "               'Is Mono', \n",
    "               'day of emptying',\n",
    "               'WafersProduction']\n",
    "\n",
    "X = data_maintenance.loc[:,X_reduced]\n",
    "y = data_maintenance.loc[:,target]\n",
    "\n",
    "X = StandardScaler().fit_transform(X)\n",
    "\n",
    "train_features, test_features, train_target, test_target = train_test_split(X,\n",
    "                                                                            y,\n",
    "                                                                            test_size=0.25,\n",
    "                                                                            stratify=y)\n",
    "\n",
    "from sklearn.metrics import auc,roc_curve\n",
    "\n",
    "penalty = {\n",
    "    0:10,\n",
    "    1:1\n",
    "}\n",
    "\n",
    "model_regression = LogisticRegression(class_weight=penalty)\n",
    "\n",
    "model_regression.fit(train_features,train_target)\n",
    "predictions = model_regression.predict(test_features)\n",
    "probalities = model_regression.predict_proba(test_features)\n",
    "\n",
    "accuracy = predictions == test_target\n",
    "\n",
    "true_positives = (predictions==1) & (test_target==1)\n",
    "false_positives = (predictions==1) & (test_target==0)\n",
    "true_negatives = (predictions==0) & (test_target==0)\n",
    "false_negatives = (predictions==0) & (test_target==1)\n",
    "\n",
    "sensitivity = np.sum(true_positives) / (np.sum(true_positives)+np.sum(false_negatives))\n",
    "\n",
    "specificity = np.sum(true_negatives) / (np.sum(true_negatives) + np.sum(false_positives))\n",
    "\n",
    "print('Sensibility of predictions is about : {}'.format(sensitivity))\n",
    "print('Specificity of predictions is about : {}'.format(specificity))\n",
    "\n",
    "fprs, tprs, thresholds = roc_curve(test_target, probalities[:,1], pos_label=1)\n",
    "aucs = auc(fprs,tprs)\n",
    "\n",
    "print('Perimeter of AUC curb : {}'.format(aucs))\n",
    "\n",
    "plt.plot(fprs,tprs,label='AUC={}'.format(aucs))\n",
    "plt.plot([0,1],[0,1],color='red')\n",
    "plt.legend(loc='lower right')\n",
    "plt.show()\n"
   ]
  },
  {
   "cell_type": "markdown",
   "metadata": {},
   "source": [
    "#### Right now, the accuracy of the model is less impressive. The cuts with drifts 'out of 6 sigma specifications' are very poorly predicted (about 20%)  The only good point is that the model never made a prediction of non drift which was false. But, this is not sufficient and we have to try better model than logistic regression... "
   ]
  },
  {
   "cell_type": "markdown",
   "metadata": {},
   "source": [
    "#### We will now perform an ensemblist model called \"Random Forest\". Ensemblist since many instances of decision trees are running to compute a accurate prediction on the binary target.\n",
    "\n",
    "<img src=\"./Pictures/Random Forest.PNG\" />"
   ]
  },
  {
   "cell_type": "code",
   "execution_count": 64,
   "metadata": {},
   "outputs": [
    {
     "name": "stdout",
     "output_type": "stream",
     "text": [
      "Sensibility of predictions is about : 0.27049180327868855\n",
      "Specificity of predictions is about : 0.9774011299435028\n",
      "Perimeter of AUC curb : 0.768103724098445\n"
     ]
    },
    {
     "data": {
      "image/png": "[encoded data removed]",
      "text/plain": [
       "<Figure size 432x288 with 1 Axes>"
      ]
     },
     "metadata": {},
     "output_type": "display_data"
    }
   ],
   "source": [
    "\n",
    "from sklearn.ensemble import RandomForestClassifier\n",
    "from sklearn.metrics import auc,roc_curve\n",
    "\n",
    "rf = RandomForestClassifier(n_estimators=10,\n",
    "                            random_state=1,\n",
    "                            class_weight='balanced')\n",
    "\n",
    "rf.fit(train_features,train_target)\n",
    "predictions = rf.predict(test_features)\n",
    "probalities = rf.predict_proba(test_features)\n",
    "\n",
    "accuracy = predictions == test_target\n",
    "\n",
    "true_positives = (predictions==1) & (test_target==1)\n",
    "false_positives = (predictions==1) & (test_target==0)\n",
    "true_negatives = (predictions==0) & (test_target==0)\n",
    "false_negatives = (predictions==0) & (test_target==1)\n",
    "\n",
    "sensitivity = np.sum(true_positives) / (np.sum(true_positives)+np.sum(false_negatives))\n",
    "\n",
    "specificity = np.sum(true_negatives) / (np.sum(true_negatives) + np.sum(false_positives))\n",
    "\n",
    "print('Sensibility of predictions is about : {}'.format(sensitivity))\n",
    "print('Specificity of predictions is about : {}'.format(specificity))\n",
    "\n",
    "fprs, tprs, thresholds = roc_curve(test_target, probalities[:,1], pos_label=1)\n",
    "aucs = auc(fprs,tprs)\n",
    "\n",
    "print('Perimeter of AUC curb : {}'.format(aucs))\n",
    "\n",
    "plt.plot(fprs,tprs,label='AUC={}'.format(aucs))\n",
    "plt.plot([0,1],[0,1],color='red')\n",
    "plt.legend(loc='lower right')\n",
    "plt.show()\n",
    "\n"
   ]
  },
  {
   "cell_type": "markdown",
   "metadata": {},
   "source": [
    "#### The reults are better so we can attempt a first move with this model... "
   ]
  },
  {
   "cell_type": "markdown",
   "metadata": {},
   "source": [
    "## 5 - Results and operation"
   ]
  },
  {
   "cell_type": "markdown",
   "metadata": {},
   "source": [
    "#### In production, an input of values of the features are sent to the model before the ingot been cut in the saw equipment. If the model predict a drift, an operation of preventive maintenance (change of diamant cutwire for example is then performed in order to prevent the drift or the anomaly. And the ingot is cut into wafers..."
   ]
  },
  {
   "cell_type": "code",
   "execution_count": 67,
   "metadata": {},
   "outputs": [
    {
     "name": "stdout",
     "output_type": "stream",
     "text": [
      "----------------------------------------\n",
      "With the data given in input, we can predict that a maintenance action is necesary !!!\n",
      "Probalities of need of action maintenance [ 70.]%\n",
      "----------------------------------------\n",
      "With the data given in input, no need at the moment for a maintenance action...\n",
      "Probalities of need of action maintenance [ 30.]%\n",
      "----------------------------------------\n"
     ]
    }
   ],
   "source": [
    "\n",
    "def prediction_maintenance(cumul_wafers,days_since_emptying,is_mono,days_of_emptying,WaferProduction):\n",
    "\n",
    "    data = [cumul_wafers,\n",
    "            days_since_emptying,\n",
    "            is_mono,\n",
    "            days_of_emptying,\n",
    "            WaferProduction]\n",
    "    \n",
    "    data_res = np.asarray(data).reshape(1,-1)\n",
    "    \n",
    "    #data = StandardScaler().fit_transform(data_res)\n",
    "    data = data_res\n",
    "    prevision = rf.predict(data)\n",
    "    prevision_proba = rf.predict_proba(data)\n",
    "    \n",
    "    if prevision:\n",
    "        print('With the data given in input, we can predict that a maintenance action is necesary !!!')\n",
    "    else :\n",
    "        print('With the data given in input, no need at the moment for a maintenance action...')\n",
    "    \n",
    "    print('Probalities of need of action maintenance {}%'.format(prevision_proba[:,1]*100))\n",
    "    \n",
    "    return prevision_proba\n",
    "\n",
    "#\n",
    "print('--'*20)\n",
    "### day 1\n",
    "cumul_wafers = 10\n",
    "days_since_emptying = 1\n",
    "is_mono = 0\n",
    "days_of_emptying= 0\n",
    "WaferProduction= 0\n",
    "\n",
    "prediction = prediction_maintenance(cumul_wafers,days_since_emptying,is_mono,days_of_emptying,WaferProduction)\n",
    "print('--'*20)\n",
    "\n",
    "### day 24\n",
    "cumul_wafers = 879000\n",
    "days_since_emptying = 24\n",
    "is_mono = 1\n",
    "days_of_emptying= 0\n",
    "WaferProduction= 8790000\n",
    "\n",
    "prediction = prediction_maintenance(cumul_wafers,days_since_emptying,is_mono,days_of_emptying,WaferProduction)\n",
    "print('--'*20)\n"
   ]
  },
  {
   "cell_type": "markdown",
   "metadata": {},
   "source": [
    "#### The model is perfectibe but it gives some interesting results. For example, the ratio of non quality on wafers cut dropped at 5% when it culminates at 15% before the predictive model. "
   ]
  },
  {
   "cell_type": "code",
   "execution_count": 69,
   "metadata": {},
   "outputs": [
    {
     "data": {
      "image/png": "[encoded data removed]",
      "text/plain": [
       "<Figure size 432x288 with 1 Axes>"
      ]
     },
     "metadata": {},
     "output_type": "display_data"
    }
   ],
   "source": [
    "data_maintenance.TTV.hist(label=\"Distribution of wafers thickness\",color=\"green\")\n",
    "plt.plot([115, 115], [0, 3500],\n",
    "         color='red',\n",
    "         linestyle='--',\n",
    "         linewidth=3,\n",
    "         label=\"Out 6-sigma limit\")\n",
    "\n",
    "plt.legend(loc='upper right');\n",
    "plt.show()"
   ]
  },
  {
   "cell_type": "markdown",
   "metadata": {},
   "source": [
    "#### Then, this project was a good example of a smart use of data science for accurate prediction of action maintenance... A first step towards industry 4.0 for solar manufacturing !!!\n",
    "\n",
    "<img src=\"./Pictures/Fotolia_83701344_XS.jpg\" />\n"
   ]
  }
 ],
 "metadata": {
  "kernelspec": {
   "display_name": "Python 3",
   "language": "python",
   "name": "python3"
  },
  "language_info": {
   "codemirror_mode": {
    "name": "ipython",
    "version": 3
   },
   "file_extension": ".py",
   "mimetype": "text/x-python",
   "name": "python",
   "nbconvert_exporter": "python",
   "pygments_lexer": "ipython3",
   "version": "3.6.4"
  }
 },
 "nbformat": 4,
 "nbformat_minor": 2
}
