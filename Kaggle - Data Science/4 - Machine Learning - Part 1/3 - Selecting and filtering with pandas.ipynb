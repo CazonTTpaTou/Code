{
  "cells": [
    {
      "metadata": {
        "_cell_guid": "7302f6da-c80a-4084-9c94-9f7814803ebd",
        "_uuid": "5f3abbb7cf2dcc1c4aab2ebc201b17ca857c5b6e"
      },
      "cell_type": "markdown",
      "source": "*This is part of Kaggle's [Learn Machine Learning](https://www.kaggle.com/learn/machine-learning) series.*\n\n# Selecting and Filtering Data\nYour dataset had  too many variables to wrap your head around, or even to print out nicely.  How can you pare down this overwhelming amount of data to something you can understand?\n\nTo show you the techniques, we'll start by picking a few variables using our intuition. Later tutorials will show you statistical techniques to  automatically prioritize variables.\n\nBefore we can choose variables/columns, it is helpful to see a list of all columns in the dataset. That is done with the **columns** property of the DataFrame (the bottom line of code below)."
    },
    {
      "metadata": {
        "_cell_guid": "f1f8ee3e-acfd-40cf-8a22-6ece9b38a1ab",
        "_uuid": "403f263694c540d758d4cf9c61e606976da501b3",
        "trusted": true
      },
      "cell_type": "code",
      "source": "import pandas as pd\n\nmelbourne_file_path = '../input/melbourne-housing-snapshot/melb_data.csv'\nmelbourne_data = pd.read_csv(melbourne_file_path) \nprint(melbourne_data.columns)",
      "execution_count": 1,
      "outputs": [
        {
          "output_type": "stream",
          "text": "Index(['Unnamed: 0', 'Suburb', 'Address', 'Rooms', 'Type', 'Price', 'Method',\n       'SellerG', 'Date', 'Distance', 'Postcode', 'Bedroom2', 'Bathroom',\n       'Car', 'Landsize', 'BuildingArea', 'YearBuilt', 'CouncilArea',\n       'Lattitude', 'Longtitude', 'Regionname', 'Propertycount'],\n      dtype='object')\n",
          "name": "stdout"
        }
      ]
    },
    {
      "metadata": {
        "_cell_guid": "c90db33f-6c6e-419e-9ec9-f9905064895d",
        "_uuid": "38785578a3b8c087338e1a147cbba99b6c4e865f"
      },
      "cell_type": "markdown",
      "source": "There are many ways to select a subset of your data. We'll start with two main approaches:  \n\n## Selecting a Single Column\nYou can pull out any variable (or column) with **dot-notation**.  This single column is stored in a **Series**, which is broadly like a DataFrame with only a single column of data.  Here's an example:"
    },
    {
      "metadata": {
        "_cell_guid": "21306e4c-fc7a-4b79-970d-dc8758742b5d",
        "_uuid": "39cf81111ac70b8263fe830bc508f9459728ca48",
        "trusted": true
      },
      "cell_type": "code",
      "source": "# store the series of prices separately as melbourne_price_data.\nmelbourne_price_data = melbourne_data.Price\n# the head command returns the top few lines of data.\nprint(melbourne_price_data.head())",
      "execution_count": 2,
      "outputs": [
        {
          "output_type": "stream",
          "text": "0    1480000.0\n1    1035000.0\n2    1465000.0\n3     850000.0\n4    1600000.0\nName: Price, dtype: float64\n",
          "name": "stdout"
        }
      ]
    },
    {
      "metadata": {
        "_cell_guid": "fed04ab7-81fa-425a-8e49-448b3a132efd",
        "_uuid": "f89ed3f9eb05f12c01d72b6331ab563a1fd64277"
      },
      "cell_type": "markdown",
      "source": "## Selecting Multiple Columns\nYou can select multiple columns from a DataFrame by providing a list of column names inside brackets. Remember, each item in that list should be a string (with quotes)."
    },
    {
      "metadata": {
        "_cell_guid": "9561d43f-13e2-443b-a73b-f40e27fc8dd1",
        "collapsed": true,
        "_uuid": "ca2cc31e84d02809a535a5214d2f7585d1a52c0d",
        "trusted": true
      },
      "cell_type": "code",
      "source": "columns_of_interest = ['Landsize', 'BuildingArea']\ntwo_columns_of_data = melbourne_data[columns_of_interest]",
      "execution_count": 4,
      "outputs": []
    },
    {
      "metadata": {
        "_cell_guid": "79aa89b8-43cf-4ea7-ad1a-52bc66b4779f",
        "_uuid": "826fe558c344f910d96fd7ac244d0ebfd913b9ac"
      },
      "cell_type": "markdown",
      "source": "We can verify that we got the columns we need with the **describe** command."
    },
    {
      "metadata": {
        "_cell_guid": "d533c58f-f312-4023-aeb6-ae0a04171e9e",
        "_uuid": "ed74795583d2fe9e31bc33df706dc5c70f0dd14f",
        "trusted": true
      },
      "cell_type": "code",
      "source": "two_columns_of_data.describe()",
      "execution_count": 5,
      "outputs": [
        {
          "output_type": "execute_result",
          "execution_count": 5,
          "data": {
            "text/plain": "            Landsize  BuildingArea\ncount   13603.000000   7762.000000\nmean      558.116371    151.220219\nstd      3987.326586    519.188596\nmin         0.000000      0.000000\n25%       176.500000     93.000000\n50%       440.000000    126.000000\n75%       651.000000    174.000000\nmax    433014.000000  44515.000000",
            "text/html": "<div>\n<style>\n    .dataframe thead tr:only-child th {\n        text-align: right;\n    }\n\n    .dataframe thead th {\n        text-align: left;\n    }\n\n    .dataframe tbody tr th {\n        vertical-align: top;\n    }\n</style>\n<table border=\"1\" class=\"dataframe\">\n  <thead>\n    <tr style=\"text-align: right;\">\n      <th></th>\n      <th>Landsize</th>\n      <th>BuildingArea</th>\n    </tr>\n  </thead>\n  <tbody>\n    <tr>\n      <th>count</th>\n      <td>13603.000000</td>\n      <td>7762.000000</td>\n    </tr>\n    <tr>\n      <th>mean</th>\n      <td>558.116371</td>\n      <td>151.220219</td>\n    </tr>\n    <tr>\n      <th>std</th>\n      <td>3987.326586</td>\n      <td>519.188596</td>\n    </tr>\n    <tr>\n      <th>min</th>\n      <td>0.000000</td>\n      <td>0.000000</td>\n    </tr>\n    <tr>\n      <th>25%</th>\n      <td>176.500000</td>\n      <td>93.000000</td>\n    </tr>\n    <tr>\n      <th>50%</th>\n      <td>440.000000</td>\n      <td>126.000000</td>\n    </tr>\n    <tr>\n      <th>75%</th>\n      <td>651.000000</td>\n      <td>174.000000</td>\n    </tr>\n    <tr>\n      <th>max</th>\n      <td>433014.000000</td>\n      <td>44515.000000</td>\n    </tr>\n  </tbody>\n</table>\n</div>"
          },
          "metadata": {}
        }
      ]
    },
    {
      "metadata": {
        "trusted": true,
        "_uuid": "310b89f1251d5cafb0d7d474640223d41df3bae6"
      },
      "cell_type": "code",
      "source": "# 1\nprint(melbourne_data.columns)",
      "execution_count": 6,
      "outputs": [
        {
          "output_type": "stream",
          "text": "Index(['Unnamed: 0', 'Suburb', 'Address', 'Rooms', 'Type', 'Price', 'Method',\n       'SellerG', 'Date', 'Distance', 'Postcode', 'Bedroom2', 'Bathroom',\n       'Car', 'Landsize', 'BuildingArea', 'YearBuilt', 'CouncilArea',\n       'Lattitude', 'Longtitude', 'Regionname', 'Propertycount'],\n      dtype='object')\n",
          "name": "stdout"
        }
      ]
    },
    {
      "metadata": {
        "trusted": true,
        "_uuid": "84edc367e08683331573f535e346be6336c073a2"
      },
      "cell_type": "code",
      "source": "# 2\nmelbourne_data_price = melbourne_data.Price\nmelbourne_data_price.head(3)",
      "execution_count": 8,
      "outputs": [
        {
          "output_type": "execute_result",
          "execution_count": 8,
          "data": {
            "text/plain": "0    1480000.0\n1    1035000.0\n2    1465000.0\nName: Price, dtype: float64"
          },
          "metadata": {}
        }
      ]
    },
    {
      "metadata": {
        "trusted": true,
        "_uuid": "398211d1004d3b02f7affa1bff604f7be070fee6"
      },
      "cell_type": "code",
      "source": "new_df = melbourne_data[['Suburb', 'Address', 'Rooms']]\nnew_df.head(3)\n",
      "execution_count": 10,
      "outputs": [
        {
          "output_type": "execute_result",
          "execution_count": 10,
          "data": {
            "text/plain": "       Suburb          Address  Rooms\n0  Abbotsford     85 Turner St      2\n1  Abbotsford  25 Bloomburg St      2\n2  Abbotsford     5 Charles St      3",
            "text/html": "<div>\n<style>\n    .dataframe thead tr:only-child th {\n        text-align: right;\n    }\n\n    .dataframe thead th {\n        text-align: left;\n    }\n\n    .dataframe tbody tr th {\n        vertical-align: top;\n    }\n</style>\n<table border=\"1\" class=\"dataframe\">\n  <thead>\n    <tr style=\"text-align: right;\">\n      <th></th>\n      <th>Suburb</th>\n      <th>Address</th>\n      <th>Rooms</th>\n    </tr>\n  </thead>\n  <tbody>\n    <tr>\n      <th>0</th>\n      <td>Abbotsford</td>\n      <td>85 Turner St</td>\n      <td>2</td>\n    </tr>\n    <tr>\n      <th>1</th>\n      <td>Abbotsford</td>\n      <td>25 Bloomburg St</td>\n      <td>2</td>\n    </tr>\n    <tr>\n      <th>2</th>\n      <td>Abbotsford</td>\n      <td>5 Charles St</td>\n      <td>3</td>\n    </tr>\n  </tbody>\n</table>\n</div>"
          },
          "metadata": {}
        }
      ]
    },
    {
      "metadata": {
        "trusted": true,
        "_uuid": "c3ab4c08f86590bbc970928003746f7f0613028d"
      },
      "cell_type": "code",
      "source": "new_df.describe()",
      "execution_count": 11,
      "outputs": [
        {
          "output_type": "execute_result",
          "execution_count": 11,
          "data": {
            "text/plain": "              Rooms\ncount  18396.000000\nmean       2.935040\nstd        0.958202\nmin        1.000000\n25%        2.000000\n50%        3.000000\n75%        3.000000\nmax       12.000000",
            "text/html": "<div>\n<style>\n    .dataframe thead tr:only-child th {\n        text-align: right;\n    }\n\n    .dataframe thead th {\n        text-align: left;\n    }\n\n    .dataframe tbody tr th {\n        vertical-align: top;\n    }\n</style>\n<table border=\"1\" class=\"dataframe\">\n  <thead>\n    <tr style=\"text-align: right;\">\n      <th></th>\n      <th>Rooms</th>\n    </tr>\n  </thead>\n  <tbody>\n    <tr>\n      <th>count</th>\n      <td>18396.000000</td>\n    </tr>\n    <tr>\n      <th>mean</th>\n      <td>2.935040</td>\n    </tr>\n    <tr>\n      <th>std</th>\n      <td>0.958202</td>\n    </tr>\n    <tr>\n      <th>min</th>\n      <td>1.000000</td>\n    </tr>\n    <tr>\n      <th>25%</th>\n      <td>2.000000</td>\n    </tr>\n    <tr>\n      <th>50%</th>\n      <td>3.000000</td>\n    </tr>\n    <tr>\n      <th>75%</th>\n      <td>3.000000</td>\n    </tr>\n    <tr>\n      <th>max</th>\n      <td>12.000000</td>\n    </tr>\n  </tbody>\n</table>\n</div>"
          },
          "metadata": {}
        }
      ]
    },
    {
      "metadata": {
        "_cell_guid": "dba39a02-e3a7-4e18-a468-81e3b0e4f8c5",
        "_uuid": "f9928f5334bf48a2b256caa9f7ca76524482d212"
      },
      "cell_type": "markdown",
      "source": "# Your Turn\nIn the notebook with your code:\n1. Print a list of the columns\n2. From the list of columns, find a name of the column with the sales prices of the homes. Use the dot notation to extract this to a variable (as you saw above to create `melbourne_price_data`.)\n3. Use the `head` command to print out the top few lines of the variable you just created.\n4. Pick any two variables and store them to a new DataFrame (as you saw above to create `two_columns_of_data`.)\n5. Use the describe command with the DataFrame you just created to see summaries of those variables. <br>\n\n# Continue\nNow that you can specify what data you want for a model, you are ready to **[build your first model](https://www.kaggle.com/dansbecker/your-first-scikit-learn-model)** in the next step."
    },
    {
      "metadata": {
        "_uuid": "2d33a5f2215f87bff9354d5b1baa9685f56b03c8"
      },
      "cell_type": "markdown",
      "source": ""
    },
    {
      "metadata": {
        "_uuid": "3d297940f98985f21be357b6cc8d9d6eeb058739"
      },
      "cell_type": "markdown",
      "source": ""
    }
  ],
  "metadata": {
    "language_info": {
      "name": "python",
      "version": "3.6.4",
      "mimetype": "text/x-python",
      "codemirror_mode": {
        "name": "ipython",
        "version": 3
      },
      "pygments_lexer": "ipython3",
      "nbconvert_exporter": "python",
      "file_extension": ".py"
    },
    "kernelspec": {
      "display_name": "Python 3",
      "language": "python",
      "name": "python3"
    }
  },
  "nbformat": 4,
  "nbformat_minor": 1
}