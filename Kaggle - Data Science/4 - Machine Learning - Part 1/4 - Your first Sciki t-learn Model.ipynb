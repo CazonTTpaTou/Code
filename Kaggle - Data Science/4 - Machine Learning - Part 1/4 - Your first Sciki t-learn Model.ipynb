{
  "cells": [
    {
      "metadata": {
        "_cell_guid": "dc1e7b02-f022-48ca-a270-21f4b0c70835",
        "_uuid": "0696f41450f17b2e0ebbbbb30a29053cde7de211"
      },
      "cell_type": "markdown",
      "source": "*This tutorial is part of the series [Learning Machine Learning](kaggle.com/learn/machine-learning).*\n\n# Choosing the Prediction Target\n\nYou have the code to load your data, and you know how to index it. You are ready to choose which column you want to predict. This column is called the **prediction target**. There is a convention that the prediction target is referred to as **y**. Here is an example doing that with the example data."
    },
    {
      "metadata": {
        "_kg_hide-output": true,
        "_kg_hide-input": true,
        "_cell_guid": "7077d33f-39ee-49ee-ac99-db2832a0662a",
        "collapsed": true,
        "_uuid": "ee9319beba1ff270e59644d7f62ec76658994e13",
        "trusted": true
      },
      "cell_type": "code",
      "source": "# This code loads the data. You have seen it before, so you don't need to focus on it here.\n\nimport pandas as pd\n\nmelbourne_file_path = '../input/melbourne-housing-snapshot/melb_data.csv'\nmelbourne_data = pd.read_csv(melbourne_file_path)\n\n# The Melbourne data has somemissing values (some houses for which some variables weren't recorded.)\n# We'll learn to handle missing values in a later tutorial.  \n# Your Iowa data doesn't have missing values in the predictors you use. \n# So we will take the simplest option for now, and drop those houses from our data. \n#Don't worry about this much for now, though the code is:\n\n# dropna drops missing values (think of na as \"not available\")\nmelbourne_data = melbourne_data.dropna(axis=0)",
      "execution_count": 2,
      "outputs": []
    },
    {
      "metadata": {
        "_cell_guid": "e5a6c21c-cda7-4df8-a9e9-15a2ae865026",
        "collapsed": true,
        "_uuid": "599dc0855ff966c6e8d84b5bd447b315bf85e339",
        "trusted": true
      },
      "cell_type": "code",
      "source": "y = melbourne_data.Price",
      "execution_count": 4,
      "outputs": []
    },
    {
      "metadata": {
        "_cell_guid": "a52b0b8d-ea0a-435b-bde1-1472f63977ba",
        "_uuid": "a0fac0889241e77f2e2deefbd63bc9f057d0c826"
      },
      "cell_type": "markdown",
      "source": "# Choosing Predictors\nNext we select the predictors. Sometimes, you will want to use all of the variables except the target..\n\nIt's possible to model with non-numeric variables, but we'll start with a narrower set of numeric variables.  In the example data, the predictors will be chosen as:"
    },
    {
      "metadata": {
        "_cell_guid": "b45e6964-5379-44b5-980c-11e556f34a4f",
        "collapsed": true,
        "_uuid": "001553f51fbd9c115b7728e625fd6c2830852071",
        "trusted": true
      },
      "cell_type": "code",
      "source": "melbourne_predictors = ['Rooms', 'Bathroom', 'Landsize', 'BuildingArea', \n                        'YearBuilt', 'Lattitude', 'Longtitude']",
      "execution_count": 5,
      "outputs": []
    },
    {
      "metadata": {
        "_cell_guid": "e30af6f8-45b8-4e33-9c3b-52a88266aee6",
        "_uuid": "f9d9562f7d3a41042c3bb3beb64056993703735d"
      },
      "cell_type": "markdown",
      "source": "By convention, this data is called **X**."
    },
    {
      "metadata": {
        "_cell_guid": "f3ce77d5-06e2-4433-b392-16d54014d2c8",
        "collapsed": true,
        "_uuid": "19b3d59d66644a58125cb8d41636a169d4c10af9",
        "trusted": true
      },
      "cell_type": "code",
      "source": "X = melbourne_data[melbourne_predictors]",
      "execution_count": 6,
      "outputs": []
    },
    {
      "metadata": {
        "_cell_guid": "acd7ddac-58c4-403c-b39f-d648a6bd271c",
        "_uuid": "8a4f43b00b0243645d5d12ef0ae402c8106bf10f"
      },
      "cell_type": "markdown",
      "source": "---\n# Building Your Model\n\nYou will use the **scikit-learn** library to create your models.  When coding, this library is written as **sklearn**, as you will see in the sample code. Scikit-learn is easily the most popular library for modeling the types of data typically stored in DataFrames. \n\nThe steps to building and using a model are:\n* **Define:** What type of model will it be?  A decision tree?  Some other type of model? Some other parameters of the model type are specified too.\n* **Fit:** Capture patterns from provided data. This is the heart of modeling.\n* **Predict:** Just what it sounds like\n* **Evaluate**: Determine how accurate the model's predictions are.\n\nHere is the example for defining and fitting the model."
    },
    {
      "metadata": {
        "_cell_guid": "8a390b1d-ae2a-4b73-b524-0dfde22879f7",
        "_uuid": "4d35fb0ec4c75f00d91f1d7d668af4afdd6d19fe",
        "trusted": true
      },
      "cell_type": "code",
      "source": "from sklearn.tree import DecisionTreeRegressor\n\n# Define model\nmelbourne_model = DecisionTreeRegressor()\n\n# Fit model\nmelbourne_model.fit(X, y)",
      "execution_count": 7,
      "outputs": [
        {
          "output_type": "execute_result",
          "execution_count": 7,
          "data": {
            "text/plain": "DecisionTreeRegressor(criterion='mse', max_depth=None, max_features=None,\n           max_leaf_nodes=None, min_impurity_decrease=0.0,\n           min_impurity_split=None, min_samples_leaf=1,\n           min_samples_split=2, min_weight_fraction_leaf=0.0,\n           presort=False, random_state=None, splitter='best')"
          },
          "metadata": {}
        }
      ]
    },
    {
      "metadata": {
        "_cell_guid": "976d98bc-4e00-4f8c-9810-b1ba35086f1f",
        "_uuid": "69c736b1d49b0de7bc7b6c9e60b6ac84f621fbc2"
      },
      "cell_type": "markdown",
      "source": "The output describes some parameters about the type of model you've built. Don't worry about it for now."
    },
    {
      "metadata": {
        "_cell_guid": "60aade6d-4f6c-482e-9e93-bffa1bc51e7b",
        "_uuid": "1ff19fb070af2b731ce8343dbfea16708ce437bb"
      },
      "cell_type": "markdown",
      "source": "In practice, you'll want to make predictions for new houses coming on the market rather than the houses we already have prices for. But we'll make predictions for the first rows of the training data to see how the predict function works.\n"
    },
    {
      "metadata": {
        "_cell_guid": "cd6bded9-35a7-478a-8616-9d37e7a2a783",
        "_uuid": "19bb827c7aa5a17feeef4dc368cc8da95cc9b09a",
        "trusted": true
      },
      "cell_type": "code",
      "source": "print(\"Making predictions for the following 5 houses:\")\nprint(X.head())\nprint(\"The predictions are\")\nprint(melbourne_model.predict(X.head()))",
      "execution_count": 8,
      "outputs": [
        {
          "output_type": "stream",
          "text": "Making predictions for the following 5 houses:\n   Rooms  Bathroom  Landsize  BuildingArea  YearBuilt  Lattitude  Longtitude\n1      2       1.0     156.0          79.0     1900.0   -37.8079    144.9934\n2      3       2.0     134.0         150.0     1900.0   -37.8093    144.9944\n4      4       1.0     120.0         142.0     2014.0   -37.8072    144.9941\n6      3       2.0     245.0         210.0     1910.0   -37.8024    144.9993\n7      2       1.0     256.0         107.0     1890.0   -37.8060    144.9954\nThe predictions are\n[ 1035000.  1465000.  1600000.  1876000.  1636000.]\n",
          "name": "stdout"
        }
      ]
    },
    {
      "metadata": {
        "trusted": true,
        "_uuid": "e70ab9ffc4ea9a364f83e7616e2c11841cd4b371"
      },
      "cell_type": "code",
      "source": "melbourne_data.columns",
      "execution_count": 11,
      "outputs": [
        {
          "output_type": "execute_result",
          "execution_count": 11,
          "data": {
            "text/plain": "Index(['Unnamed: 0', 'Suburb', 'Address', 'Rooms', 'Type', 'Price', 'Method',\n       'SellerG', 'Date', 'Distance', 'Postcode', 'Bedroom2', 'Bathroom',\n       'Car', 'Landsize', 'BuildingArea', 'YearBuilt', 'CouncilArea',\n       'Lattitude', 'Longtitude', 'Regionname', 'Propertycount'],\n      dtype='object')"
          },
          "metadata": {}
        }
      ]
    },
    {
      "metadata": {
        "trusted": true,
        "_uuid": "75ea72bc45b2514a331d596a28ac110ae16732b2"
      },
      "cell_type": "code",
      "source": "melbourne_data.head(1)",
      "execution_count": 13,
      "outputs": [
        {
          "output_type": "execute_result",
          "execution_count": 13,
          "data": {
            "text/plain": "   Unnamed: 0      Suburb          Address  Rooms Type      Price Method  \\\n1           2  Abbotsford  25 Bloomburg St      2    h  1035000.0      S   \n\n  SellerG       Date  Distance      ...        Bathroom  Car  Landsize  \\\n1  Biggin  4/02/2016       2.5      ...             1.0  0.0     156.0   \n\n   BuildingArea  YearBuilt  CouncilArea  Lattitude Longtitude  \\\n1          79.0     1900.0        Yarra   -37.8079   144.9934   \n\n              Regionname  Propertycount  \n1  Northern Metropolitan         4019.0  \n\n[1 rows x 22 columns]",
            "text/html": "<div>\n<style>\n    .dataframe thead tr:only-child th {\n        text-align: right;\n    }\n\n    .dataframe thead th {\n        text-align: left;\n    }\n\n    .dataframe tbody tr th {\n        vertical-align: top;\n    }\n</style>\n<table border=\"1\" class=\"dataframe\">\n  <thead>\n    <tr style=\"text-align: right;\">\n      <th></th>\n      <th>Unnamed: 0</th>\n      <th>Suburb</th>\n      <th>Address</th>\n      <th>Rooms</th>\n      <th>Type</th>\n      <th>Price</th>\n      <th>Method</th>\n      <th>SellerG</th>\n      <th>Date</th>\n      <th>Distance</th>\n      <th>...</th>\n      <th>Bathroom</th>\n      <th>Car</th>\n      <th>Landsize</th>\n      <th>BuildingArea</th>\n      <th>YearBuilt</th>\n      <th>CouncilArea</th>\n      <th>Lattitude</th>\n      <th>Longtitude</th>\n      <th>Regionname</th>\n      <th>Propertycount</th>\n    </tr>\n  </thead>\n  <tbody>\n    <tr>\n      <th>1</th>\n      <td>2</td>\n      <td>Abbotsford</td>\n      <td>25 Bloomburg St</td>\n      <td>2</td>\n      <td>h</td>\n      <td>1035000.0</td>\n      <td>S</td>\n      <td>Biggin</td>\n      <td>4/02/2016</td>\n      <td>2.5</td>\n      <td>...</td>\n      <td>1.0</td>\n      <td>0.0</td>\n      <td>156.0</td>\n      <td>79.0</td>\n      <td>1900.0</td>\n      <td>Yarra</td>\n      <td>-37.8079</td>\n      <td>144.9934</td>\n      <td>Northern Metropolitan</td>\n      <td>4019.0</td>\n    </tr>\n  </tbody>\n</table>\n<p>1 rows × 22 columns</p>\n</div>"
          },
          "metadata": {}
        }
      ]
    },
    {
      "metadata": {
        "trusted": true,
        "_uuid": "04a8202c59fa7493369f39e4974e0ad7fa56c3bf"
      },
      "cell_type": "code",
      "source": "y = melbourne_data.Rooms\n\npredictors=['BuildingArea','YearBuilt','Distance','Propertycount','Bathroom','Bedroom2','Landsize']\nX=melbourne_data[predictors]\n\nfrom sklearn.tree import DecisionTreeRegressor\n\nmelbourne_model = DecisionTreeRegressor()\n\nmelbourne_model.fit(X, y)\n\npredictions = melbourne_model.predict(X.head(5))\npredictions\n\n",
      "execution_count": 16,
      "outputs": [
        {
          "output_type": "execute_result",
          "execution_count": 16,
          "data": {
            "text/plain": "array([ 2.,  3.,  4.,  3.,  2.])"
          },
          "metadata": {}
        }
      ]
    },
    {
      "metadata": {
        "_cell_guid": "ab6189e0-8a2c-4cc2-89dc-ac71ffac5e7c",
        "_uuid": "ee8a624a186babbcdc09655089ba2067e206118e"
      },
      "cell_type": "markdown",
      "source": "---\n\n# Your Turn\nNow it's time for you to define and fit a model for your data (in your notebook).\n1. Select the target variable you want to predict. You can go back to the list of columns from your earlier commands to recall what it's called (*hint: you've already worked with this variable*). Save this to a new variable called `y`.\n2. Create a **list** of the names of the predictors we will use in the initial model.  Use just the following columns in the list (you can copy and paste the whole list to save some typing, though you'll still need to add quotes):\n    * LotArea\n    * YearBuilt\n    * 1stFlrSF\n    * 2ndFlrSF\n    * FullBath\n    * BedroomAbvGr\n    * TotRmsAbvGrd\n\n3. Using the list of variable names you just created, select a new DataFrame of the predictors data. Save this with the variable name `X`.\n4. Create a `DecisionTreeRegressorModel` and save it to a variable (with a name like my_model or iowa_model). Ensure you've done the relevant import so you can run this command.\n5. Fit the model you have created using the data in `X` and the target data you saved above.\n6. Make a few predictions with the model's `predict` command and print out the predictions.  \n\n\n---\n\n# Continue\n\nYou've built a decision tree model that can predict the prices of houses based on their characteristics.  It's natural to ask how accurate the model's predictions will be, and measuring accuracy is necessary for us to see whether or not other approaches improve our model. \n\nMove on to the [next page](https://www.kaggle.com/dansbecker/model-validation) to see how we measure model accuracy.\n"
    }
  ],
  "metadata": {
    "kernelspec": {
      "display_name": "Python 3",
      "language": "python",
      "name": "python3"
    },
    "language_info": {
      "name": "python",
      "version": "3.6.4",
      "mimetype": "text/x-python",
      "codemirror_mode": {
        "name": "ipython",
        "version": 3
      },
      "pygments_lexer": "ipython3",
      "nbconvert_exporter": "python",
      "file_extension": ".py"
    }
  },
  "nbformat": 4,
  "nbformat_minor": 1
}