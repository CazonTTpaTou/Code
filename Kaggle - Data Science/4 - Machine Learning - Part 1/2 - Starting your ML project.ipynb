{
  "cells": [
    {
      "metadata": {
        "_uuid": "8c8591f89df1d36843546a8241150b966682d4c8",
        "_cell_guid": "5f1611b2-6aae-4694-9516-d7651880b314"
      },
      "cell_type": "markdown",
      "source": "*This tutorial is part of the [Learn Machine Learning](https://www.kaggle.com/learn/machine-learning) educational track.*\n\n# Starting Your Project\n\nYou are about to build a simple model and then continually improve it. It is easiest to keep one browser tab (or window) for the tutorials you are reading, and a separate browser window with the code you are writing. You will continue writing code in the same place even as you progress through the sequence of tutorials.\n\n** The starting point for your project is at [THIS LINK](https://www.kaggle.com/dansbecker/my-model/).  Open that link in a new tab. Then hit the \"Fork Notebook\" button towards the top of the screen.**\n\n![Imgur](https://i.imgur.com/GRtMTWw.png)\n\n**You will see examples predicting home prices using data from Melbourne, Australia. You will then write code to build a model predicting prices in the US state of Iowa. The Iowa data is pre-loaded in your coding notebook.**\n\n### Working in Kaggle Notebooks\nYou will be coding in a \"notebook\" environment. These allow you to easily see your code and its output in one place.  A couple tips on the Kaggle notebook environment:\n\n1) It is composed of \"cells.\"  You will write code in the cells. Add a new cell by clicking on a cell, and then using the buttons in that look like this. ![Imgur](https://i.imgur.com/Lscji3d.png) The arrows indicate whether the new cell goes above or below your current location. <br><br>\n2) Execute the code in the current cell with the keyboard shortcut Control-Enter.\n\n\n---\n# Using Pandas to Get Familiar With Your Data\n\nThe first thing you'll want to do is familiarize yourself with the data.  You'll use the Pandas library for this.  Pandas is the primary tool that modern data scientists use for exploring and manipulating data.  Most people abbreviate pandas in their code as `pd`.  We do this with the command"
    },
    {
      "metadata": {
        "collapsed": true,
        "_uuid": "0d9fdf505bc0a0c98d4f3d8bb5ef387f05cda426",
        "_cell_guid": "1dde37af-64d3-45fc-b1b9-c300a1d49fc2",
        "trusted": false
      },
      "cell_type": "code",
      "source": "import pandas as pd",
      "execution_count": null,
      "outputs": []
    },
    {
      "metadata": {
        "_uuid": "390958537e6e6f663708b2d2cd4bd42b3a3d4cfd",
        "_cell_guid": "b62d4ca0-38c8-4cbf-91f8-d5b95eb293fc"
      },
      "cell_type": "markdown",
      "source": "The most important part of the Pandas library is the DataFrame.  A DataFrame holds the type of data you might think of as a table. This is similar to a sheet in Excel, or a table in a SQL database. The Pandas DataFrame has powerful methods for most things you'll want to do with this type of data.  Let's start by looking at a basic data overview with our example data from Melbourne and the data you'll be working with from Iowa.\n\nThe example will use data at the file path **`../input/melbourne-housing-snapshot/melb_data.csv`**.  Your data will be available in your notebook at `../input/train.csv` (which is already typed into the sample code for you).\n\nWe load and explore the data with the following:"
    },
    {
      "metadata": {
        "collapsed": true,
        "_uuid": "25c8f2fc298bb94a2c40075dff37f3fe3d132f4e",
        "_cell_guid": "051872bc-8ad1-4e9e-b9e2-af7ec905f9c5",
        "trusted": false
      },
      "cell_type": "code",
      "source": "# save filepath to variable for easier access\nmelbourne_file_path = '../input/melbourne-housing-snapshot/melb_data.csv'\n# read the data and store data in DataFrame titled melbourne_data\nmelbourne_data = pd.read_csv(melbourne_file_path) \n# print a summary of the data in Melbourne data\nprint(melbourne_data.describe())",
      "execution_count": null,
      "outputs": []
    },
    {
      "metadata": {
        "_uuid": "503ac4c159eb745678c4756aa8d1d2b81697be2a",
        "_cell_guid": "5538ff34-3427-4cb5-a11d-30a6378a631e"
      },
      "cell_type": "markdown",
      "source": "# Interpreting Data Description\nThe results show 8 numbers for each column in your original dataset. The first number, the **count**,  shows how many rows have non-missing values.  \n\nMissing values arise for many reasons. For example, the size of the 2nd bedroom wouldn't be collected when surveying a 1 bedroom house. We'll come back to the topic of missing data.\n\nThe second value is the **mean**, which is the average.  Under that, **std** is the standard deviation, which measures how numerically spread out the values are.\n\nTo interpret the **min**, **25%**, **50%**, **75%** and **max** values, imagine sorting each column from lowest to highest value.  The first (smallest) value is the min.  If you go a quarter way through the list, you'll find a number that is bigger than 25% of the values and smaller than 75% of the values.  That is the **25%** value (pronounced \"25th percentile\").  The 50th and 75th percentiles are defined analgously, and the **max** is the largest number.\n\n--- \n# Your Turn\n**Remember, the notebook you want to \"fork\" is [here](https://www.kaggle.com/dansbecker/my-model/).**\n\nRun the equivalent commands (to read the data and print the summary) in the code cell below.  The file path for your data is already shown in your coding notebook. Look at the mean, minimum and maximum values for the first few fields. Are any of the values so crazy that it makes you think you've misinterpreted the data?\n\nThere are a lot of fields in this data.  You don't need to look at it all quite yet.\n\nWhen your code is correct, you'll see the size, in square feet, of the smallest lot in your dataset.  This is from the **min** value of **LotArea**, and you can see the **max** size too.  You should notice that it's a big range of lot sizes! \n\nYou'll also see some columns filled with `...`.  That indicates that we had too many columns of data to print, so the middle ones were omitted from printing.\n\nWe'll take care of both issues in the next step.\n\n# Continue\nMove on to the next [page](https://www.kaggle.com/dansbecker/Selecting-And-Filtering-In-Pandas/) where you will focus in on the most relevant columns."
    }
  ],
  "metadata": {
    "kernelspec": {
      "display_name": "Python 3",
      "language": "python",
      "name": "python3"
    },
    "language_info": {
      "name": "python",
      "version": "3.6.4",
      "mimetype": "text/x-python",
      "codemirror_mode": {
        "name": "ipython",
        "version": 3
      },
      "pygments_lexer": "ipython3",
      "nbconvert_exporter": "python",
      "file_extension": ".py"
    }
  },
  "nbformat": 4,
  "nbformat_minor": 1
}