{
  "cells": [
    {
      "metadata": {
        "_cell_guid": "90699bee-7f6e-4262-a57a-292cb30a4c69",
        "_uuid": "52c87f335b1b86e3f8a3c60820ed519a22b91fd3"
      },
      "cell_type": "markdown",
      "source": "*This tutorial is part of the [Learn Machine Learning](https://www.kaggle.com/learn/machine-learning) series. In this step, you will learn to use model validation to measure the quality of your model. Measuring model quality is the key to iteratively improving your models.*\n\n# What is Model Validation\nYou've built a model. But how good is it?\n\nYou'll need to answer this question for almost every model you ever build. In most (though not necessarily all) applications, the relevant measure of model quality is predictive accuracy. In other words, will the model's predictions be close to what actually happens.\n\nSome people try answering this problem by making predictions with their *training data*. They compare those predictions to the actual target values in the *training data*. This approach has a critical shortcoming, which you will see in a moment (and which you'll subsequently see how to solve).\n\nEven with this simple approach, you'll need to summarize the model quality into a form that someone can understand. If you have predicted and actual home values for 10000 houses, you will inevitably end up with a mix of good and bad predictions. Looking through such a long list would be pointless.\n\nThere are many metrics for summarizing model quality, but we'll start with one called Mean Absolute Error (also called MAE). Let's break down this metric starting with the last word, error.\n\nThe prediction error for each house is: <br>\nerror=actual−predicted\n \nSo, if a house cost \\$150,000 and you predicted it would cost \\$100,000 the error is \\$50,000.\n\nWith the MAE metric, we take the absolute value of each error. This converts each error to a positive number. We then take the average of those absolute errors. This is our measure of model quality. In plain English, it can be said as\n\nOn average, our predictions are off by about X\n\nWe first load the Melbourne data and create X and y. That code isn't shown here, since you've already seen it a couple times."
    },
    {
      "metadata": {
        "_cell_guid": "e87769a8-8ecd-4780-a4be-bed8b594452a",
        "_uuid": "3b5523c77f0da82dea03021007a8eb7ae74e65c8",
        "_kg_hide-input": true,
        "collapsed": true,
        "_kg_hide-output": true,
        "trusted": true
      },
      "cell_type": "code",
      "source": "# Data Loading Code Hidden Here\nimport pandas as pd\n\n# Load data\nmelbourne_file_path = '../input/melbourne-housing-snapshot/melb_data.csv'\nmelbourne_data = pd.read_csv(melbourne_file_path) \n# Filter rows with missing values\nfiltered_melbourne_data = melbourne_data.dropna(axis=0)\n# Choose target and predictors\ny = filtered_melbourne_data.Price\nmelbourne_predictors = ['Rooms', 'Bathroom', 'Landsize', 'BuildingArea', \n                        'YearBuilt', 'Lattitude', 'Longtitude']\nX = filtered_melbourne_data[melbourne_predictors]",
      "execution_count": 1,
      "outputs": []
    },
    {
      "metadata": {
        "_cell_guid": "40172394-ae23-4e44-afe7-ffd40c747fcc",
        "_uuid": "9723d367b86d69b6de9f37e139090bb0849f0834"
      },
      "cell_type": "markdown",
      "source": "We then create the Decision tree model with this code:"
    },
    {
      "metadata": {
        "_cell_guid": "04269743-5cbb-47ab-93f1-5b608cd54d28",
        "_uuid": "df3403181c040831d0bc807de55cbd89cd60905f",
        "trusted": true
      },
      "cell_type": "code",
      "source": "from sklearn.tree import DecisionTreeRegressor\n# Define model\nmelbourne_model = DecisionTreeRegressor()\n# Fit model\nmelbourne_model.fit(X, y)",
      "execution_count": 2,
      "outputs": [
        {
          "output_type": "execute_result",
          "execution_count": 2,
          "data": {
            "text/plain": "DecisionTreeRegressor(criterion='mse', max_depth=None, max_features=None,\n           max_leaf_nodes=None, min_impurity_decrease=0.0,\n           min_impurity_split=None, min_samples_leaf=1,\n           min_samples_split=2, min_weight_fraction_leaf=0.0,\n           presort=False, random_state=None, splitter='best')"
          },
          "metadata": {}
        }
      ]
    },
    {
      "metadata": {
        "_cell_guid": "600dda75-c67d-4f0a-bb68-08b55ccca7ab",
        "_uuid": "204aaf777db1e07ae238b3c5ff8b5b552f72d78a"
      },
      "cell_type": "markdown",
      "source": "The calculation of mean absolute error in the Melbourne data is"
    },
    {
      "metadata": {
        "_cell_guid": "4104b69e-5a02-479c-9684-323ed9af0f8b",
        "_uuid": "de553486eddb02741007b5f529b0fe6a1f7300aa",
        "trusted": true
      },
      "cell_type": "code",
      "source": "from sklearn.metrics import mean_absolute_error\n\npredicted_home_prices = melbourne_model.predict(X)\nmean_absolute_error(y, predicted_home_prices)",
      "execution_count": 3,
      "outputs": [
        {
          "output_type": "execute_result",
          "execution_count": 3,
          "data": {
            "text/plain": "434.71594577146544"
          },
          "metadata": {}
        }
      ]
    },
    {
      "metadata": {
        "_cell_guid": "030a4791-a484-48b8-85e5-e5ab94cc07c6",
        "_uuid": "07a8221afe2b026623b0534a43379a1084010c8b"
      },
      "cell_type": "markdown",
      "source": "# The Problem with \"In-Sample\" Scores\n\nThe measure we just computed can be called an \"in-sample\" score. We used a single set of houses (called a data sample) for both building the model and for calculating it's MAE score. This is bad.\n\nImagine that, in the large real estate market, door color is unrelated to home price. However, in the sample of data you used to build the model, it may be that all homes with green doors were very expensive. The model's job is to find patterns that predict home prices, so it will see this pattern, and it will always predict high prices for homes with green doors.\n\nSince this pattern was originally derived from the training data, the model will appear accurate in the training data.\n\nBut this pattern likely won't hold when the model sees new data, and the model would be very inaccurate (and cost us lots of money) when we applied it to our real estate business.\n\nEven a model capturing only happenstance relationships in the data, relationships that will not be repeated when new data, can appear to be very accurate on in-sample accuracy measurements.\n\n# Example\n\nModels' practical value come from making predictions on new data, so we should measure performance on data that wasn't used to build the model. The most straightforward way to do this is to exclude some data from the model-building process, and then use those to test the model's accuracy on data it hasn't seen before. This data is called **validation data**.\n\nThe scikit-learn library has a function train_test_split to break up the data into two pieces, so the code to get a validation score looks like this:"
    },
    {
      "metadata": {
        "_cell_guid": "b9d1a3b5-dd2e-49ab-8902-64e350b025e6",
        "_uuid": "0b1782e8adc52855dc1168cf0ad5214c19a30330",
        "collapsed": true,
        "trusted": false
      },
      "cell_type": "code",
      "source": "from sklearn.model_selection import train_test_split\n\n# split data into training and validation data, for both predictors and target\n# The split is based on a random number generator. Supplying a numeric value to\n# the random_state argument guarantees we get the same split every time we\n# run this script.\ntrain_X, val_X, train_y, val_y = train_test_split(X, y,random_state = 0)\n# Define model\nmelbourne_model = DecisionTreeRegressor()\n# Fit model\nmelbourne_model.fit(train_X, train_y)\n\n# get predicted prices on validation data\nval_predictions = melbourne_model.predict(val_X)\nprint(mean_absolute_error(val_y, val_predictions))",
      "execution_count": null,
      "outputs": []
    },
    {
      "metadata": {
        "trusted": true,
        "_uuid": "1500ba99eedf8914dc16edd659cde6dd1d5b1c99"
      },
      "cell_type": "code",
      "source": "from sklearn.model_selection import train_test_split\n\ntrain_X, val_X, train_y, val_y = train_test_split(X, y,random_state = 0)\n\nmelbourne_model = DecisionTreeRegressor()\n\nmelbourne_model.fit(train_X, train_y)\n\nval_predictions = melbourne_model.predict(val_X)\nprint(mean_absolute_error(val_y, val_predictions))",
      "execution_count": 4,
      "outputs": [
        {
          "output_type": "stream",
          "text": "257872.747579\n",
          "name": "stdout"
        }
      ]
    },
    {
      "metadata": {
        "_cell_guid": "508fd0dc-df0e-4103-a7fc-c5eebd74280d",
        "_uuid": "b4ca3f561d7df5a00b85c111f2288e15abe73117"
      },
      "cell_type": "markdown",
      "source": "# Your Turn\n1. Use the `train_test_split` command to split up your data.\n2. Fit the model with the training data\n3. Make predictions with the validation predictors\n4. Calculate the mean absolute error between your predictions and the actual target values for the validation data.\n\n# Continue\nNow that you can measure model performance, you are ready to run some experiments comparing different models.  It's an especially fun part of machine learning.  Once you've done the steps above in your notebook, **[click here](https://www.kaggle.com/dansbecker/underfitting-overfitting-and-model-optimization) ** to continue"
    }
  ],
  "metadata": {
    "language_info": {
      "name": "python",
      "version": "3.6.4",
      "mimetype": "text/x-python",
      "codemirror_mode": {
        "name": "ipython",
        "version": 3
      },
      "pygments_lexer": "ipython3",
      "nbconvert_exporter": "python",
      "file_extension": ".py"
    },
    "kernelspec": {
      "display_name": "Python 3",
      "language": "python",
      "name": "python3"
    }
  },
  "nbformat": 4,
  "nbformat_minor": 1
}