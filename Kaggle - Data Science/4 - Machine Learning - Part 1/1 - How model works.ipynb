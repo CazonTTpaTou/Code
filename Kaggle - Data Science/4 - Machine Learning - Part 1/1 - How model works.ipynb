{
  "cells": [
    {
      "metadata": {
        "_cell_guid": "69a3a8be-b3cd-45b5-82bc-333e91e173bf",
        "_uuid": "fa74e8d20864d22e0c5622cdeb4d695bae301948"
      },
      "cell_type": "markdown",
      "source": "*This is the first step in Kaggle's [Learn Machine Learning](https://www.kaggle.com/learn/machine-learning) series.*\n\n\n---\n# Introduction\nWe'll start with an overview of how machine learning models work and how they are used. This may feel basic if you've done statistical modeling or machine learning before. Don't worry, we will progress to building powerful models soon.\n\nThe course will have you build models for the following scenario:\n\nYour cousin has made millions of dollars speculating on real estate. He's offered to become business partners with you because of your interest in data science. He'll supply the money, and you'll supply models that predict how much various houses are worth.\n\nYou ask your cousin how he's predicted real estate values in the past. and he says it is just intuition. But more questioning reveals that he's identified price patterns from houses he has seen in the past, and he uses those patterns to make predictions for new houses he is considering.\n\nMachine learning works the same way.  We'll start with a model called the Decision Tree. There are fancier models that give more accurate predictions. But decision trees are easy to understand, and they are the basic building block for some of the best models in data science.\n\nFor simplicity, we'll start with the simplest possible decision tree. \n\n![First Decision Trees](http://i.imgur.com/7tsb5b1.png)\n\nIt divides houses into only two categories. You predict the price of a new house by finding out which category it's in, and the prediction is the historical average price from that category.\n\nThis captures the relationship between house size and price. We use data to decide how to break the houses into two groups,  and then again to determine the predicted price in each group.  This step of capturing patterns from data is called **fitting** or **training** the model. The data used to **fit** the model is called the **training data**.  \n\nThe details of how the model is fit (e.g. how to split up the data) is complex enough that we will save it for later. After the model has been fit, you can apply it to new data to **predict** prices of additional homes.\n\n---\n# Example\nAssuming your decision tree works in a sensible way, which of the two trees shown here do you think you might get from **fitting** this especially simple decision tree?\n\n![First Decision Trees](http://i.imgur.com/prAjgku.png)\n\n---\n# Improving the Decision Tree\n\nThe decision tree on the left (Decision Tree 1) probably makes more sense, because it captures the reality that houses with more bedrooms tend to sell at higher prices than houses with fewer bedrooms.  The biggest shortcoming of this model is that it doesn't capture most factors affecting home price, like number of bathrooms, lot size, location, etc. \n\nYou can capture more factors using a tree that has more \"splits.\" These are called \"deeper\" trees. A decision tree that also considers the total size of each house's lot might look like this: \n![Depth 2 Tree](http://i.imgur.com/R3ywQsR.png)\n\nYou predict the price of any house by tracing through the decision tree, always picking the path corresponding to that house's characteristics. The predicted price for the house is at the bottom of the tree.  The point at the bottom where we make a prediction is called a **leaf.**   \n\nThe splits and values at the leaves will be determined by the data, so it's time for you to check out the data you will be working with.\n\n# Continue\nYou will write code as part of an ongoing data science project for the rest of the tutorials. **[Click here](https://www.kaggle.com/dansbecker/starting-your-ml-project)** to get started."
    }
  ],
  "metadata": {
    "kernelspec": {
      "display_name": "Python 3",
      "language": "python",
      "name": "python3"
    },
    "language_info": {
      "name": "python",
      "version": "3.6.4",
      "mimetype": "text/x-python",
      "codemirror_mode": {
        "name": "ipython",
        "version": 3
      },
      "pygments_lexer": "ipython3",
      "nbconvert_exporter": "python",
      "file_extension": ".py"
    }
  },
  "nbformat": 4,
  "nbformat_minor": 1
}