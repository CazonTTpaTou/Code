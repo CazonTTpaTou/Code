{
  "cells": [
    {
      "metadata": {
        "_uuid": "0f87e7601457bf4f4eb4178c61c19e0936a01f16",
        "_cell_guid": "8e824cf6-8f19-4381-adeb-1d622c6937da"
      },
      "cell_type": "markdown",
      "source": "# Intro\n\n**This is Lesson 1 in Kaggle's [Deep Learning](https://www.kaggle.com/learn/deep-learning) education track.**  \n\nAfter the end of this lesson, you will understand convolutions. Convolutions are the basic building block for deep learning models in computer vision (and many other applications).\n\nAfter that, we'll quickly progress to using world-class deep learning models.\n\n# Lesson\n"
    },
    {
      "metadata": {
        "_uuid": "6657afb2d9ead4c0b74362c50eac7fbbf367117f",
        "_kg_hide-input": true,
        "_cell_guid": "ee1605d4-6a20-431f-80ea-20efaceea8a5",
        "trusted": false,
        "collapsed": true
      },
      "cell_type": "code",
      "source": "from IPython.display import YouTubeVideo\n\nYouTubeVideo('OVbiVIChkVY', width=800, height=450)\n",
      "execution_count": null,
      "outputs": []
    },
    {
      "metadata": {
        "_uuid": "078061deb5f90105433c9f4ccfeb0de892f933af",
        "_cell_guid": "42f01c39-a26b-4da0-8f1f-13a3c896f04c"
      },
      "cell_type": "markdown",
      "source": "# Your Turn\n**After watching the video, get some [hands-on practice](https://www.kaggle.com/dansbecker/exercise-convolutions-for-computer-vision) with convolutions.**\n\n# Continue\nAfter the exercise, continue [here](https://www.kaggle.com/dansbecker/understanding-deep-learning-models) to combine many convolutions into powerful models.\n\n---\nHave questions, comments or feedback?  Bring them to [the Learn forum](https://www.kaggle.com/learn-forum)\n\n**[Deep Learning Track Home](https://www.kaggle.com/learn/deep-learning)**\n\n"
    }
  ],
  "metadata": {
    "kernelspec": {
      "display_name": "Python 3",
      "language": "python",
      "name": "python3"
    },
    "language_info": {
      "name": "python",
      "version": "3.6.4",
      "mimetype": "text/x-python",
      "codemirror_mode": {
        "name": "ipython",
        "version": 3
      },
      "pygments_lexer": "ipython3",
      "nbconvert_exporter": "python",
      "file_extension": ".py"
    }
  },
  "nbformat": 4,
  "nbformat_minor": 1
}