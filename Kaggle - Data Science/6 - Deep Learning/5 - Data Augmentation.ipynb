{
  "cells": [
    {
      "metadata": {
        "_cell_guid": "ff5854bc-a479-4651-b5a7-75c7fb3a91e5",
        "_uuid": "e4e9aa4b75f600ddba7c84374cf7817ec6d64f8b"
      },
      "cell_type": "markdown",
      "source": "# Intro\n\n**This is Lesson 5 in the [Deep Learning](https://www.kaggle.com/learn/machine-learning) track**  \n\nAt the end of this lesson, you will be able to use data augmentation. This trick that makes it seem like you have far more data than you actually have, resulting in even better models..\n\n# Lesson\n"
    },
    {
      "metadata": {
        "_cell_guid": "17218085-361d-49d1-a578-88064265033b",
        "_uuid": "df1f630886717c7e346882deaf03c3558e744b06",
        "_kg_hide-input": true,
        "trusted": false,
        "collapsed": true
      },
      "cell_type": "code",
      "source": "from IPython.display import YouTubeVideo\nYouTubeVideo('ypt_BAotCLo', width=800, height=450)",
      "execution_count": null,
      "outputs": []
    },
    {
      "metadata": {
        "_cell_guid": "a7bc8908-c5dd-4a42-b16e-c1de1f746378",
        "_uuid": "8818268baab3a391f8e4482f1fcbae7827b0bd1f"
      },
      "cell_type": "markdown",
      "source": "# Sample Code\n\nWe have some model set-up code which you've seen before.  It's not our focus for the moment, so it is hidden (but optionally visible by clicking the \"code\" button below.)"
    },
    {
      "metadata": {
        "_kg_hide-output": true,
        "_cell_guid": "2b5f7282-cb6d-473f-904a-da670f42dad3",
        "_uuid": "d2b604a89d2e75d69bfcda139cc4dc06e76f159d",
        "_kg_hide-input": true,
        "trusted": false,
        "collapsed": true
      },
      "cell_type": "code",
      "source": "from tensorflow.python.keras.applications import ResNet50\nfrom tensorflow.python.keras.models import Sequential\nfrom tensorflow.python.keras.layers import Dense, Flatten, GlobalAveragePooling2D\n\nnum_classes = 2\nresnet_weights_path = '../input/resnet50/resnet50_weights_tf_dim_ordering_tf_kernels_notop.h5'\n\nmy_new_model = Sequential()\nmy_new_model.add(ResNet50(include_top=False, pooling='avg', weights=resnet_weights_path))\nmy_new_model.add(Dense(num_classes, activation='softmax'))\n\n# Say not to train first layer (ResNet) model. It is already trained\nmy_new_model.layers[0].trainable = False\n\nmy_new_model.compile(optimizer='sgd', loss='categorical_crossentropy', metrics=['accuracy'])",
      "execution_count": null,
      "outputs": []
    },
    {
      "metadata": {
        "_cell_guid": "6197af3f-fe84-4e2f-91c4-0b09a8850726",
        "_uuid": "14d4521dafb4e37d3f78bd90b09a8a3090c70130"
      },
      "cell_type": "markdown",
      "source": "### Fitting a Model With Data Augmentation"
    },
    {
      "metadata": {
        "_cell_guid": "48880593-9f58-4bce-b534-9cde1410d87e",
        "_uuid": "f1ffff5bbc85908dbea5e10c7b143000f04f3f8a",
        "trusted": false,
        "collapsed": true
      },
      "cell_type": "code",
      "source": "from tensorflow.python.keras.applications.resnet50 import preprocess_input\nfrom tensorflow.python.keras.preprocessing.image import ImageDataGenerator\n\nimage_size = 224\n# The ImageDataGenerator previously specified preprocessing_function=preprocess_input\n# recent changes in keras require that we remove that argument\n\ndata_generator_with_aug = ImageDataGenerator( # preprocessing_function=preprocess_input,\n                                   horizontal_flip=True,\n                                   width_shift_range = 0.2,\n                                   height_shift_range = 0.2)\n\ntrain_generator = data_generator_with_aug.flow_from_directory(\n        '../input/urban-and-rural-photos/rural_and_urban_photos/train',\n        target_size=(image_size, image_size),\n        batch_size=24,\n        class_mode='categorical')\n\ndata_generator_no_aug = ImageDataGenerator() # preprocessing_function=preprocess_input)\nvalidation_generator = data_generator_no_aug.flow_from_directory(\n        '../input/urban-and-rural-photos/rural_and_urban_photos/val',\n        target_size=(image_size, image_size),\n        class_mode='categorical')\n\nmy_new_model.fit_generator(\n        train_generator,\n        steps_per_epoch=3,\n        epochs=2,\n        validation_data=validation_generator,\n        validation_steps=1)",
      "execution_count": null,
      "outputs": []
    },
    {
      "metadata": {
        "_cell_guid": "ca9cc334-1864-4234-b904-d69fc5d4503d",
        "_uuid": "603e0c7524b9b9b60b882e1f39f3c3f3a49bdc8f"
      },
      "cell_type": "markdown",
      "source": "# Exercise\nMove on to [apply data augmentation](https://www.kaggle.com/dansbecker/exercise-data-augmentation) yourself.\n\n# Continue\nAfter the exercise, move on for [a deeper understanding of deep learning](https://www.kaggle.com/dansbecker/a-deeper-understanding-of-deep-learning/).\n\n\n---\nHave questions, comments or feedback?  Bring them to [the Learn forum](https://www.kaggle.com/learn-forum)\n\n**[Deep Learning Track Home](https://www.kaggle.com/learn/deep-learning)**"
    }
  ],
  "metadata": {
    "kernelspec": {
      "display_name": "Python 3",
      "language": "python",
      "name": "python3"
    },
    "language_info": {
      "name": "python",
      "version": "3.6.4",
      "mimetype": "text/x-python",
      "codemirror_mode": {
        "name": "ipython",
        "version": 3
      },
      "pygments_lexer": "ipython3",
      "nbconvert_exporter": "python",
      "file_extension": ".py"
    }
  },
  "nbformat": 4,
  "nbformat_minor": 1
}