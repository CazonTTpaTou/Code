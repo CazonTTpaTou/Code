{
  "cells": [
    {
      "metadata": {
        "_cell_guid": "79f0f445-a312-4349-a39d-24d9b9a64df5",
        "_uuid": "555c62016d39951bcbafe3862df4f46e63d0f318"
      },
      "cell_type": "markdown",
      "source": "# Intro\n**This is Lesson 7 in the [Deep Learning](https://www.kaggle.com/learn/deep-learning) course**  \n\nThe models you've built so far have relied on pre-trained models.  But they aren't the ideal solution for many use cases.  In this lesson, you will learn how to build totally new models.\n\n# Lesson\n"
    },
    {
      "metadata": {
        "_kg_hide-input": true,
        "_cell_guid": "64d429e1-d45e-4ed5-b4c3-676279cadb0d",
        "_uuid": "8fcceee1e6e0c5ca0a0f76321a7b4174e57ab288",
        "trusted": false,
        "collapsed": true
      },
      "cell_type": "code",
      "source": "from IPython.display import YouTubeVideo\nYouTubeVideo('YbNE3zhtsoo', width=800, height=450)",
      "execution_count": null,
      "outputs": []
    },
    {
      "metadata": {
        "_cell_guid": "fec41147-092c-4877-bb52-7308db2ad4ec",
        "_uuid": "a839f3e8bd85ce85ec79003d95df7a3dde482623"
      },
      "cell_type": "markdown",
      "source": "# Sample Code"
    },
    {
      "metadata": {
        "_cell_guid": "729f1905-4eb0-4378-ba7a-763710fc6369",
        "_uuid": "63d5848b029396e156ce77502782b8be2aebf989",
        "trusted": true
      },
      "cell_type": "code",
      "source": "import numpy as np\nimport pandas as pd\nfrom sklearn.model_selection import train_test_split\nfrom tensorflow.python import keras\nfrom tensorflow.python.keras.models import Sequential\nfrom tensorflow.python.keras.layers import Dense, Flatten, Conv2D, Dropout\n\n\nimg_rows, img_cols = 28, 28\nnum_classes = 10\n\ndef data_prep(raw):\n    out_y = keras.utils.to_categorical(raw.label, num_classes)\n\n    num_images = raw.shape[0]\n    x_as_array = raw.values[:,1:]\n    x_shaped_array = x_as_array.reshape(num_images, img_rows, img_cols, 1)\n    out_x = x_shaped_array / 255\n    return out_x, out_y\n\ntrain_file = \"../input/digit-recognizer/train.csv\"\nraw_data = pd.read_csv(train_file)\n\nx, y = data_prep(raw_data)\n\nmodel = Sequential()\nmodel.add(Conv2D(20, kernel_size=(3, 3),\n                 activation='relu',\n                 input_shape=(img_rows, img_cols, 1)))\nmodel.add(Conv2D(20, kernel_size=(3, 3), activation='relu'))\nmodel.add(Flatten())\nmodel.add(Dense(128, activation='relu'))\nmodel.add(Dense(num_classes, activation='softmax'))\n\nmodel.compile(loss=keras.losses.categorical_crossentropy,\n              optimizer='adam',\n              metrics=['accuracy'])\nmodel.fit(x, y,\n          batch_size=128,\n          epochs=2,\n          validation_split = 0.2)",
      "execution_count": 1,
      "outputs": [
        {
          "output_type": "stream",
          "text": "/opt/conda/lib/python3.6/site-packages/h5py/__init__.py:36: FutureWarning: Conversion of the second argument of issubdtype from `float` to `np.floating` is deprecated. In future, it will be treated as `np.float64 == np.dtype(float).type`.\n  from ._conv import register_converters as _register_converters\n",
          "name": "stderr"
        },
        {
          "output_type": "stream",
          "text": "Train on 33600 samples, validate on 8400 samples\nEpoch 1/2\n33600/33600 [==============================] - 57s 2ms/step - loss: 0.2542 - acc: 0.9255 - val_loss: 0.0815 - val_acc: 0.9743\nEpoch 2/2\n33600/33600 [==============================] - 57s 2ms/step - loss: 0.0622 - acc: 0.9823 - val_loss: 0.0650 - val_acc: 0.9799\n",
          "name": "stdout"
        },
        {
          "output_type": "execute_result",
          "execution_count": 1,
          "data": {
            "text/plain": "<tensorflow.python.keras._impl.keras.callbacks.History at 0x7feb3fd339b0>"
          },
          "metadata": {}
        }
      ]
    },
    {
      "metadata": {
        "_cell_guid": "e3f1f017-2e97-486f-856a-61deb2c10566",
        "_uuid": "42b024ddd782d66edd69b3971b566a78cd222d0e"
      },
      "cell_type": "markdown",
      "source": "# Your Turn\nYou are ready to [build your own model](https://www.kaggle.com/dansbecker/exercise-modeling-from-scratch).\n\n# Keep Going\n[Move on](https://www.kaggle.com/dansbecker/dropout-and-strides-for-larger-models) to learn two techniques that will make your models run faster and more robust to overfitting."
    }
  ],
  "metadata": {
    "language_info": {
      "name": "python",
      "version": "3.6.5",
      "mimetype": "text/x-python",
      "codemirror_mode": {
        "name": "ipython",
        "version": 3
      },
      "pygments_lexer": "ipython3",
      "nbconvert_exporter": "python",
      "file_extension": ".py"
    },
    "kernelspec": {
      "display_name": "Python 3",
      "language": "python",
      "name": "python3"
    }
  },
  "nbformat": 4,
  "nbformat_minor": 1
}