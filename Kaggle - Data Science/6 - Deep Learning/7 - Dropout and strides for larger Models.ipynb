{
  "cells": [
    {
      "metadata": {
        "_cell_guid": "a2feaea0-fb12-4967-9379-381737576fd8",
        "_uuid": "4909b0982393ab6002b67c9d451e8ea8cc122bba"
      },
      "cell_type": "markdown",
      "source": "# Intro\n**This is Lesson 8 in the [Deep Learning](https://www.kaggle.com/learn/deep-learning) track**  \n\nAt the end of this lesson, you will understand and know how to use\n- **Stride lengths** to make your model faster and reduce memory consumption\n- **Dropout** to combat overfitting\n\nBoth of these techniques are especially useful in large models.\n\n# Lesson"
    },
    {
      "metadata": {
        "_cell_guid": "1d099e40-be54-4228-b425-0bcd0d11efdc",
        "_kg_hide-input": true,
        "collapsed": true,
        "_uuid": "a3649585db999fb8a22d39907d1bc816544f1986",
        "trusted": false
      },
      "cell_type": "code",
      "source": "from IPython.display import YouTubeVideo\nYouTubeVideo('fwNLf4t7MR8', width=800, height=450)",
      "execution_count": null,
      "outputs": []
    },
    {
      "metadata": {
        "_cell_guid": "b9ec7b88-9838-4e8d-8600-27bd255b6594",
        "_uuid": "8bc8e6a9207130a63b57e8fd636ea899dcce1018"
      },
      "cell_type": "markdown",
      "source": "# Sample Code"
    },
    {
      "metadata": {
        "_cell_guid": "ddd9a24e-e844-48ad-bdab-5b20b8eafce2",
        "_uuid": "88929562270b261ae6aa109b48fdd2990588f6af",
        "trusted": false,
        "collapsed": true
      },
      "cell_type": "code",
      "source": "import numpy as np\nimport pandas as pd\nfrom sklearn.model_selection import train_test_split\nfrom tensorflow.python import keras\nfrom tensorflow.python.keras.models import Sequential\nfrom tensorflow.python.keras.layers import Dense, Flatten, Conv2D, Dropout\n\nimg_rows, img_cols = 28, 28\nnum_classes = 10\n\ndef data_prep(raw):\n    out_y = keras.utils.to_categorical(raw.label, num_classes)\n\n    num_images = raw.shape[0]\n    x_as_array = raw.values[:,1:]\n    x_shaped_array = x_as_array.reshape(num_images, img_rows, img_cols, 1)\n    out_x = x_shaped_array / 255\n    return out_x, out_y\n\ntrain_size = 30000\ntrain_file = \"../input/digit-recognizer/train.csv\"\nraw_data = pd.read_csv(train_file)\n\nx, y = data_prep(raw_data)\n\nmodel = Sequential()\nmodel.add(Conv2D(30, kernel_size=(3, 3),\n                 strides=2,\n                 activation='relu',\n                 input_shape=(img_rows, img_cols, 1)))\nmodel.add(Dropout(0.5))\nmodel.add(Conv2D(30, kernel_size=(3, 3), strides=2, activation='relu'))\nmodel.add(Dropout(0.5))\nmodel.add(Flatten())\nmodel.add(Dense(128, activation='relu'))\nmodel.add(Dense(num_classes, activation='softmax'))\n\nmodel.compile(loss=keras.losses.categorical_crossentropy,\n              optimizer='adam',\n              metrics=['accuracy'])\nmodel.fit(x, y,\n          batch_size=128,\n          epochs=2,\n          validation_split = 0.2)",
      "execution_count": null,
      "outputs": []
    },
    {
      "metadata": {
        "_cell_guid": "c93d116f-2cb0-4926-88dc-01bbe9b06811",
        "_uuid": "c9606db4300e70c977ac741c629573dacdffcebe"
      },
      "cell_type": "markdown",
      "source": "# Exercise\nClick **[here](https://www.kaggle.com/dansbecker/exercise-dropout-and-strides-for-larger-models/)** to apply dropout and strides yourself.\n\n# Conclusion\nAfter the exercise, you have finished the [Deep Learning Track](https://www.kaggle.com/learn/deep-learning).  You can do some awesome things already, and you will be ready to start Level 2 when we release it. Level 2 will expand what you can do to many new types of applications.\n\n\n---\nHave questions, comments or feedback?  Bring them to [the Learn forum](https://www.kaggle.com/learn-forum)\n\n**[Deep Learning Track Home](https://www.kaggle.com/learn/deep-learning)**"
    }
  ],
  "metadata": {
    "language_info": {
      "name": "python",
      "version": "3.6.5",
      "mimetype": "text/x-python",
      "codemirror_mode": {
        "name": "ipython",
        "version": 3
      },
      "pygments_lexer": "ipython3",
      "nbconvert_exporter": "python",
      "file_extension": ".py"
    },
    "kernelspec": {
      "display_name": "Python 3",
      "language": "python",
      "name": "python3"
    }
  },
  "nbformat": 4,
  "nbformat_minor": 1
}