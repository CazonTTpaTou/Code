{
 "cells": [
  {
   "cell_type": "code",
   "execution_count": 4,
   "metadata": {},
   "outputs": [],
   "source": [
    "import numpy as np"
   ]
  },
  {
   "cell_type": "code",
   "execution_count": 5,
   "metadata": {},
   "outputs": [
    {
     "data": {
      "text/plain": [
       "array([[1., 0., 0.],\n",
       "       [0., 1., 0.],\n",
       "       [0., 0., 1.]])"
      ]
     },
     "execution_count": 5,
     "metadata": {},
     "output_type": "execute_result"
    }
   ],
   "source": [
    "# Creation d'un tableau avec définition du type\n",
    "np.array([1,2,3,4,5],dtype='float32')\n",
    "# Remplissage d'un tableau \n",
    "np.array([range(i,i+3) for i in [2,4,6]])\n",
    "# Un tableau de longueur 10, rempli d'entiers qui valent 0\n",
    "np.zeros(10, dtype=int)\n",
    "# Un tableau de taille 3x5 rempli de nombres à virgule flottante de valeur 1\n",
    "np.ones((3, 5), dtype=float)\n",
    "# Un tableau 3x5 rempli de 3,14\n",
    "np.full((3, 5), 3.14)\n",
    "# Un tableau rempli d'une séquence linéaire commençant à 0 et qui se termine à 20, avec un pas de 2\n",
    "np.arange(0, 20, 2)\n",
    "# Un tableau de 5 valeurs, espacées uniformément entre 0 et 1\n",
    "np.linspace(0, 1, 5)\n",
    "# Celle-ci vous la conaissez déjà! Essayez aussi \"randint\" et \"normal\"\n",
    "np.random.randint(5,7,[2,5])\n",
    "# La matrice identité de taille 3x3 \n",
    "np.eye(3)"
   ]
  },
  {
   "cell_type": "code",
   "execution_count": 6,
   "metadata": {},
   "outputs": [
    {
     "name": "stdout",
     "output_type": "stream",
     "text": [
      "nombre de dimensions de x1:  1\n",
      "forme de x1:  (6,)\n",
      "taille de x1:  6\n",
      "type de x1:  int32\n"
     ]
    }
   ],
   "source": [
    "np.random.seed(0)\n",
    "x1 = np.random.randint(10, size=6)  # Tableau de dimension 1\n",
    "print(\"nombre de dimensions de x1: \", x1.ndim)\n",
    "print(\"forme de x1: \", x1.shape)\n",
    "print(\"taille de x1: \", x1.size)\n",
    "print(\"type de x1: \", x1.dtype)"
   ]
  },
  {
   "cell_type": "code",
   "execution_count": 7,
   "metadata": {},
   "outputs": [
    {
     "name": "stdout",
     "output_type": "stream",
     "text": [
      "5\n",
      "9\n",
      "5\n",
      "[[ 1  2  3  4  5  6  7  8  9 10]]\n",
      "[]\n",
      "[[ 1  2  3  4  5  6  7  8  9 10]]\n"
     ]
    },
    {
     "data": {
      "text/plain": [
       "array([3, 7, 1])"
      ]
     },
     "execution_count": 7,
     "metadata": {},
     "output_type": "execute_result"
    }
   ],
   "source": [
    "# Pour accéder au premier élément\n",
    "print(x1[0])\n",
    "# Pour accéder au dernier élément\n",
    "print(x1[-1])\n",
    "x2 = np.random.randint(10, size=(3, 4))  # Tableau de dimension 2\n",
    "print(x2[0,1])\n",
    "\n",
    "x1 = np.array([range(i,i+10) for i in [1]])\n",
    "print(x1[:5])  # Les cinq premiers éléments\n",
    "print(x1[5:])  # Les éléments à partir de l'index 5\n",
    "print(x1[::2])  # Un élément sur deux\n",
    "\n",
    "# Inversion du tableau\n",
    "x1[::-1]\n",
    "\n",
    "x2[0,:] # La première ligne\n",
    "x2[:,0] # La première colonne"
   ]
  },
  {
   "cell_type": "code",
   "execution_count": 8,
   "metadata": {},
   "outputs": [
    {
     "data": {
      "text/plain": [
       "array([1, 2, 3, 3, 2, 1])"
      ]
     },
     "execution_count": 8,
     "metadata": {},
     "output_type": "execute_result"
    }
   ],
   "source": [
    "# Concaténation\n",
    "x = np.array([1, 2, 3])\n",
    "y = np.array([3, 2, 1])\n",
    "np.concatenate([x, y])"
   ]
  },
  {
   "cell_type": "code",
   "execution_count": 9,
   "metadata": {},
   "outputs": [
    {
     "name": "stdout",
     "output_type": "stream",
     "text": [
      "x     = [0 1 2 3]\n",
      "x + 5 = [5 6 7 8]\n",
      "x - 5 = [-5 -4 -3 -2]\n",
      "x * 2 = [0 2 4 6]\n",
      "x / 2 = [0.  0.5 1.  1.5]\n",
      "x // 2 = [0 0 1 1]\n"
     ]
    }
   ],
   "source": [
    "#Opérations arithmétiques sur lestableaux\n",
    "# Il y a tout d'abord des opération mathématiques simples\n",
    "x = np.arange(4)\n",
    "print(\"x     =\", x)\n",
    "print(\"x + 5 =\", x + 5)\n",
    "print(\"x - 5 =\", x - 5)\n",
    "print(\"x * 2 =\", x * 2)\n",
    "print(\"x / 2 =\", x / 2)\n",
    "print(\"x // 2 =\", x // 2)  # Division avec arrondi"
   ]
  },
  {
   "cell_type": "code",
   "execution_count": 10,
   "metadata": {},
   "outputs": [
    {
     "name": "stdout",
     "output_type": "stream",
     "text": [
      "La valeur absolue:  [2 1 1 2]\n",
      "Exponentielle:  [0.13533528 0.36787944 2.71828183 7.3890561 ]\n",
      "Logarithme:  [0.69314718 0.         0.         0.69314718]\n"
     ]
    }
   ],
   "source": [
    "# Opérations mathématiques\n",
    "x = [-2, -1, 1, 2]\n",
    "print(\"La valeur absolue: \", np.abs(x))\n",
    "print(\"Exponentielle: \", np.exp(x))\n",
    "print(\"Logarithme: \", np.log(np.abs(x)))"
   ]
  },
  {
   "cell_type": "code",
   "execution_count": 11,
   "metadata": {},
   "outputs": [
    {
     "data": {
      "text/plain": [
       "(array([0, 1, 2, 2], dtype=int64), array([2, 1, 0, 2], dtype=int64))"
      ]
     },
     "execution_count": 11,
     "metadata": {},
     "output_type": "execute_result"
    }
   ],
   "source": [
    "# Opérations booléennes\n",
    "x = np.random.rand(3,3)\n",
    "np.where(x > 0.5)"
   ]
  },
  {
   "cell_type": "code",
   "execution_count": 12,
   "metadata": {},
   "outputs": [
    {
     "data": {
      "text/plain": [
       "0.009356704856532616"
      ]
     },
     "execution_count": 12,
     "metadata": {},
     "output_type": "execute_result"
    }
   ],
   "source": [
    "# Agrégation\n",
    "L = np.random.random(100)\n",
    "np.sum(L)\n",
    "np.max(L)\n",
    "np.min(L)"
   ]
  },
  {
   "cell_type": "code",
   "execution_count": 13,
   "metadata": {},
   "outputs": [
    {
     "name": "stdout",
     "output_type": "stream",
     "text": [
      "[[0.65966841 0.53320625 0.23053302 0.39486929]\n",
      " [0.61880856 0.47486752 0.47013219 0.71607453]\n",
      " [0.287991   0.38346223 0.74916984 0.87845219]]\n",
      "La somme de tous les éléments de M:  6.397235040254322\n",
      "Les sommes des colonnes de M:  [1.56646798 1.39153599 1.44983505 1.98939601]\n",
      "0.18781193507680735\n",
      "2\n",
      "[2 2 0 0]\n",
      "[2 2 0]\n",
      "0.23527330692702828\n"
     ]
    }
   ],
   "source": [
    "# Notez la syntax variable.fonction au lieu de # np.fonction(variable)\n",
    "M = np.random.random((3, 4))\n",
    "print(M)\n",
    "print(\"La somme de tous les éléments de M: \", M.sum())\n",
    "print(\"Les sommes des colonnes de M: \", M.sum(axis=0))\n",
    "# Ecart Type\n",
    "print(M.std())\n",
    "# index du minimum\n",
    "print(M.argmin())\n",
    "# index du minimum pour chaque colonne\n",
    "print(M.argmin(axis=0))\n",
    "# index du minimum pour chaque ligne\n",
    "print(M.argmin(axis=1))\n",
    "# Calcul de percentiles\n",
    "print(np.percentile(M,0.75))"
   ]
  },
  {
   "cell_type": "code",
   "execution_count": 14,
   "metadata": {},
   "outputs": [
    {
     "name": "stdout",
     "output_type": "stream",
     "text": [
      "M vaut: \n",
      " [[1. 1. 1.]\n",
      " [1. 1. 1.]\n",
      " [1. 1. 1.]]\n",
      "M+ 5 vaut: \n",
      " [[6. 6. 6.]\n",
      " [6. 6. 6.]\n",
      " [6. 6. 6.]]\n"
     ]
    }
   ],
   "source": [
    "# Broadcasting\n",
    "M = np.ones((3, 3))\n",
    "print(\"M vaut: \\n\", M)\n",
    "print(\"M+ 5 vaut: \\n\", M+5)"
   ]
  },
  {
   "cell_type": "code",
   "execution_count": 15,
   "metadata": {},
   "outputs": [
    {
     "name": "stdout",
     "output_type": "stream",
     "text": [
      "[0 1 2]\n",
      "[[0]\n",
      " [1]\n",
      " [2]]\n",
      "[[0 1 2]\n",
      " [1 2 3]\n",
      " [2 3 4]]\n"
     ]
    }
   ],
   "source": [
    "# La ligne suivante crée une matrice de taille 3x1 avec trois lignes et une colonne.\n",
    "a = np.arange(3)\n",
    "b = np.arange(3)[:, np.newaxis]\n",
    "print(a)\n",
    "print(b)\n",
    "print(a+b)"
   ]
  },
  {
   "cell_type": "code",
   "execution_count": 16,
   "metadata": {},
   "outputs": [
    {
     "name": "stdout",
     "output_type": "stream",
     "text": [
      "[10  3  8  0 19 10 11  9 10  6  0 20 12  7 14]\n",
      "[ 3  0  9  6  0 12]\n"
     ]
    }
   ],
   "source": [
    "# Utilisation de masques\n",
    "np.random.seed(3)\n",
    "a = np.random.randint(0, 21, 15)\n",
    "print(a)\n",
    "(a % 3 == 0)\n",
    "mask = (a % 3 == 0)\n",
    "extract_from_a = a[mask] # or, a[a%3==0]\n",
    "print(extract_from_a)  # extract a sub-array with the mask"
   ]
  },
  {
   "cell_type": "code",
   "execution_count": 17,
   "metadata": {},
   "outputs": [
    {
     "name": "stdout",
     "output_type": "stream",
     "text": [
      "[10 -1  8 -1 19 10 11 -1 10 -1 -1 20 -1  7 14]\n"
     ]
    }
   ],
   "source": [
    "# Assign new values to index\n",
    "a[a % 3 == 0] = -1\n",
    "print(a)"
   ]
  }
 ],
 "metadata": {
  "kernelspec": {
   "display_name": "Python 3",
   "language": "python",
   "name": "python3"
  },
  "language_info": {
   "codemirror_mode": {
    "name": "ipython",
    "version": 3
   },
   "file_extension": ".py",
   "mimetype": "text/x-python",
   "name": "python",
   "nbconvert_exporter": "python",
   "pygments_lexer": "ipython3",
   "version": "3.6.4"
  }
 },
 "nbformat": 4,
 "nbformat_minor": 2
}
