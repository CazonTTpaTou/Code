{
 "cells": [
  {
   "cell_type": "code",
   "execution_count": 1,
   "metadata": {},
   "outputs": [],
   "source": [
    "import os\n",
    "import numpy\n",
    "from nltk.corpus import stopwords\n",
    "from nltk.tokenize import RegexpTokenizer\n",
    "import string\n",
    "from sklearn.feature_extraction.text import TfidfVectorizer\n",
    "from nltk.stem.snowball import SnowballStemmer\n",
    "import pickle"
   ]
  },
  {
   "cell_type": "markdown",
   "metadata": {},
   "source": [
    "Les fonctions sont grandement inspire (et ameliore !) du site web ci dessous\n",
    "https://machinelearningmastery.com/prepare-news-articles-text-summarization/"
   ]
  },
  {
   "cell_type": "code",
   "execution_count": 2,
   "metadata": {},
   "outputs": [],
   "source": [
    "# load doc into memory\n",
    "def load_doc(filepath):\n",
    "    with open(filepath,'rb') as f:\n",
    "        data = f.read().decode(\"utf-8\")\n",
    "    return data"
   ]
  },
  {
   "cell_type": "code",
   "execution_count": 3,
   "metadata": {},
   "outputs": [],
   "source": [
    "#Split the story and highlights\n",
    "def split_story(doc):\n",
    "    # find first highlight\n",
    "    index = doc.find('@highlight')\n",
    "    # split into story and highlights\n",
    "    story, highlights = doc[:index], doc[index:].split('@highlight')\n",
    "    # strip extra white space around each highlight\n",
    "    highlights = [h.strip() for h in highlights if len(h) > 0]\n",
    "    return story, highlights"
   ]
  },
  {
   "cell_type": "code",
   "execution_count": 4,
   "metadata": {},
   "outputs": [
    {
     "data": {
      "text/plain": [
       "'abcd'"
      ]
     },
     "execution_count": 4,
     "metadata": {},
     "output_type": "execute_result"
    }
   ],
   "source": [
    "#Punctuation cleaning,\n",
    "def punctation_cleaning(article):\n",
    "    toreturn = article.translate(str.maketrans(dict([(x, None) for x in string.punctuation])))\n",
    "    return toreturn\n",
    "punctation_cleaning('ab,cd()!')"
   ]
  },
  {
   "cell_type": "code",
   "execution_count": 5,
   "metadata": {},
   "outputs": [
    {
     "data": {
      "text/plain": [
       "'ab cde'"
      ]
     },
     "execution_count": 5,
     "metadata": {},
     "output_type": "execute_result"
    }
   ],
   "source": [
    "#Number  cleaning,\n",
    "def number_cleaning(article):\n",
    "    toreturn = article.translate(str.maketrans(dict([(str(x), None) for x in range(10)])))\n",
    "    return toreturn\n",
    "number_cleaning('ab1 2cd34e5')"
   ]
  },
  {
   "cell_type": "code",
   "execution_count": 6,
   "metadata": {},
   "outputs": [
    {
     "data": {
      "text/plain": [
       "'bone'"
      ]
     },
     "execution_count": 6,
     "metadata": {},
     "output_type": "execute_result"
    }
   ],
   "source": [
    "#word stemming\n",
    "stemmer = SnowballStemmer(\"english\")\n",
    "def wordstemmer(word):\n",
    "    return stemmer.stem(word)\n",
    "\n",
    "wordstemmer('bones')"
   ]
  },
  {
   "cell_type": "code",
   "execution_count": 7,
   "metadata": {},
   "outputs": [
    {
     "data": {
      "text/plain": [
       "\" It's official: U.S. President Barack Obama wants lawmakers weigh whether use military force Syria.\""
      ]
     },
     "execution_count": 7,
     "metadata": {},
     "output_type": "execute_result"
    }
   ],
   "source": [
    "#Stopwords suppression\n",
    "#stopwords = stopwords.words('english')\n",
    "def clean_stopwords(article):\n",
    "    data = article.split(' ')\n",
    "    toreturn = [word for word in data if word not in stopwords.words('english')]\n",
    "    return ' '.join(toreturn)\n",
    "\n",
    "clean_stopwords(''' It's official: U.S. President Barack Obama wants lawmakers to weigh in on whether to use military force in Syria.''')"
   ]
  },
  {
   "cell_type": "code",
   "execution_count": 8,
   "metadata": {},
   "outputs": [
    {
     "data": {
      "text/plain": [
       "'it s offici u s presid barack obama want lawmak to weigh in on whether to use militari forc in syria'"
      ]
     },
     "execution_count": 8,
     "metadata": {},
     "output_type": "execute_result"
    }
   ],
   "source": [
    "#Token separation, no capital letters\n",
    "tokenizer = RegexpTokenizer(r'\\w+')\n",
    "def tokenizer_article(article):\n",
    "    toreturn = tokenizer.tokenize(article.lower())\n",
    "    toreturn = [wordstemmer(w) for w in toreturn]\n",
    "    return ' '.join(toreturn)\n",
    "tokenizer_article(''' It's official: U.S. President Barack Obama wants lawmakers to weigh in on whether to use military force in Syria.''')"
   ]
  },
  {
   "cell_type": "code",
   "execution_count": null,
   "metadata": {},
   "outputs": [],
   "source": []
  },
  {
   "cell_type": "code",
   "execution_count": 9,
   "metadata": {},
   "outputs": [
    {
     "data": {
      "text/plain": [
       "['0001d1afc246a7964130f43ae940af6bc6c57f01.story',\n",
       " '0002095e55fcbd3a2f366d9bf92a95433dc305ef.story',\n",
       " '00027e965c8264c35cc1bc55556db388da82b07f.story',\n",
       " '0002c17436637c4fe1837c935c04de47adb18e9a.story',\n",
       " '0003ad6ef0c37534f80b55b4235108024b407f0b.story']"
      ]
     },
     "execution_count": 9,
     "metadata": {},
     "output_type": "execute_result"
    }
   ],
   "source": [
    "#List defining the stories to analyze\n",
    "toexplore =  os.path.join(os.getcwd(), 'cnn', 'stories')\n",
    "storylist = [x for x in os.listdir(toexplore) if x.endswith('story')]\n",
    "storylist[:5]"
   ]
  },
  {
   "cell_type": "code",
   "execution_count": 10,
   "metadata": {},
   "outputs": [
    {
     "name": "stdout",
     "output_type": "stream",
     "text": [
      "1000 / 92579 done !\n",
      "a backlash pour in against mandela posit eulog detractor accus him of be a communist terrorist racist there is some truth to some of the claim mandela had a close associ with communist and cofound a milit group\n",
      "2000 / 92579 done !\n",
      "the white hous creat the presid council on job and competit jeffrey immelt the ceo and chairman of general electr will lead the group the us unemploy rate linger between and\n",
      "3000 / 92579 done !\n",
      "egypt govern has been in turmoil sinc a string of disorgan strike has rippl through the economi analyst expect armi chief abdelfattah elsisi to run for presid he would have to resign his militari post to do so\n",
      "4000 / 92579 done !\n",
      "fire affect acr in north washo valley at least peopl have been evacu offici say there has been no contain of the fire offici say\n",
      "5000 / 92579 done !\n",
      "sufi shrine and western entiti have been target in libya militia group are tri to maintain law and order the govern use milit as hire gun embolden them an analyst say\n",
      "Completed\n"
     ]
    }
   ],
   "source": [
    "#le calcul est uniquement fait sur les 500 premieres stories, sinon mon pc n'a pas\n",
    "#Suffisament de memoire\n",
    "\n",
    "#Dataset creation and treatment\n",
    "article_dict = {}\n",
    "higlight_dict = {}\n",
    "counter =  0\n",
    "for filename in storylist[:5000]: #dataset limitation with x first stories\n",
    "    counter += 1\n",
    "    filepath = os.path.join(toexplore, filename)\n",
    "    article = load_doc(filepath)\n",
    "    story, highlights = split_story(article)\n",
    "    \n",
    "    story = punctation_cleaning(story)\n",
    "    story = clean_stopwords(story)\n",
    "    story = number_cleaning(story)\n",
    "    story = tokenizer_article(story)\n",
    "    article_dict[filename] = story\n",
    "    \n",
    "    highlights = ' '.join(highlights)\n",
    "    highlights = punctation_cleaning(highlights)\n",
    "    #highlights = clean_stopwords(highlights)\n",
    "    highlights = number_cleaning(highlights)\n",
    "    highlights = tokenizer_article(highlights)\n",
    "    higlight_dict[filename] = highlights\n",
    "    \n",
    "    if counter%1000 == 0:\n",
    "        print('{} / {} done !'.format(counter, len(storylist)))\n",
    "        #print(story)\n",
    "        print(highlights)\n",
    "print('Completed')\n"
   ]
  },
  {
   "cell_type": "code",
   "execution_count": 11,
   "metadata": {},
   "outputs": [],
   "source": [
    "#TF-IDF score calculation\n",
    "tokenize = RegexpTokenizer(r'\\w+')\n",
    "tfidfarticle = TfidfVectorizer()\n",
    "tfidf_article_results = tfidfarticle.fit_transform(article_dict.values())\n",
    "\n",
    "tfidfhighlight = TfidfVectorizer()\n",
    "tfidf_article_highlights = tfidfhighlight.fit_transform(article_dict.values())"
   ]
  },
  {
   "cell_type": "code",
   "execution_count": 12,
   "metadata": {},
   "outputs": [
    {
     "data": {
      "text/plain": [
       "array([[ 0.,  0.,  0., ...,  0.,  0.,  0.],\n",
       "       [ 0.,  0.,  0., ...,  0.,  0.,  0.],\n",
       "       [ 0.,  0.,  0., ...,  0.,  0.,  0.],\n",
       "       ..., \n",
       "       [ 0.,  0.,  0., ...,  0.,  0.,  0.],\n",
       "       [ 0.,  0.,  0., ...,  0.,  0.,  0.],\n",
       "       [ 0.,  0.,  0., ...,  0.,  0.,  0.]])"
      ]
     },
     "execution_count": 12,
     "metadata": {},
     "output_type": "execute_result"
    }
   ],
   "source": [
    "#tfidf results\n",
    "tfidf_article_results.toarray()#.shape\n"
   ]
  },
  {
   "cell_type": "code",
   "execution_count": 13,
   "metadata": {},
   "outputs": [
    {
     "data": {
      "text/plain": [
       "['aa',\n",
       " 'aaa',\n",
       " 'aaaaaaaah',\n",
       " 'aadvantag',\n",
       " 'aaj',\n",
       " 'aajtv',\n",
       " 'aal',\n",
       " 'aalesund',\n",
       " 'aaliyah',\n",
       " 'aamer']"
      ]
     },
     "execution_count": 13,
     "metadata": {},
     "output_type": "execute_result"
    }
   ],
   "source": [
    "#feature names for articles\n",
    "tfidfarticle.get_feature_names()[:10]"
   ]
  },
  {
   "cell_type": "code",
   "execution_count": null,
   "metadata": {},
   "outputs": [],
   "source": []
  },
  {
   "cell_type": "code",
   "execution_count": 15,
   "metadata": {},
   "outputs": [],
   "source": [
    "#data set saving\n",
    "dataset = {'article_dict':article_dict, 'higlight_dict':higlight_dict,\n",
    "           'tfidfarticle':tfidfarticle, 'tfidfhighlight':tfidfhighlight,\n",
    "           'tfidf_article_results':tfidf_article_results, 'tfidf_article_highlights':tfidf_article_highlights}\n",
    "with open('dataset.pkl', 'wb') as f:\n",
    "    pickle.dump(dataset, f, pickle.HIGHEST_PROTOCOL)"
   ]
  },
  {
   "cell_type": "code",
   "execution_count": 16,
   "metadata": {},
   "outputs": [],
   "source": [
    "#Data set loading\n",
    "def load_obj(name):\n",
    "    with open('dataset.pkl', 'rb') as f:\n",
    "        return pickle.load(f)\n",
    "dataset = load_obj('dataset')\n",
    "\n",
    "article_dict = dataset['article_dict']\n",
    "higlight_dict = dataset['higlight_dict']\n",
    "\n",
    "tfidfarticle = dataset['tfidfarticle']\n",
    "tfidfhighlight = dataset['tfidfhighlight']\n",
    "\n",
    "tfidf_article_results = dataset['tfidf_article_results']\n",
    "tfidf_article_highlights = dataset['tfidf_article_highlights']"
   ]
  },
  {
   "cell_type": "code",
   "execution_count": null,
   "metadata": {},
   "outputs": [],
   "source": []
  },
  {
   "cell_type": "code",
   "execution_count": 17,
   "metadata": {},
   "outputs": [
    {
     "data": {
      "text/plain": [
       "'syrian offici obama climb to the top of the tree doesnt know how to get down obama send a letter to the head of the hous and senat obama to seek congression approv on militari action against syria aim is to determin whether cw were use not by whom say un spokesman'"
      ]
     },
     "execution_count": 17,
     "metadata": {},
     "output_type": "execute_result"
    }
   ],
   "source": [
    "#display highlight\n",
    "higlight_dict['0001d1afc246a7964130f43ae940af6bc6c57f01.story']"
   ]
  },
  {
   "cell_type": "code",
   "execution_count": 18,
   "metadata": {},
   "outputs": [
    {
     "data": {
      "text/plain": [
       "'it offici us presid barack obama want lawmak weigh whether use militari forc syria obama sent letter head hous senat saturday night hour announc believ militari action syrian target right step take alleg use chemic weapon the propos legisl obama ask congress approv use militari forc deter disrupt prevent degrad potenti futur use chemic weapon weapon mass destruct it step set turn intern crisi fierc domest polit battl there key question loom debat what un weapon inspector find syria what happen congress vote and syrian govern react in televis address white hous rose garden earlier saturday presid said would take case congress want to while i believ i author carri militari action without specif congression author i know countri stronger take cours action even effect said we debat issu big busi usual obama said top congression leader agre schedul debat bodi return washington septemb the senat foreign relat committe hold hear matter tuesday sen robert menendez said transcript read obama full remark syrian crisi latest develop un inspector leav syria obama remark came short un inspector left syria carri evid determin whether chemic weapon use attack earli last week damascus suburb the aim game mandat clear ascertain whether chemic weapon use un spokesman martin nesirki told report saturday but use weapon report toxic gas attack damascus suburb august key point global debat syrian crisi top us offici said there doubt syrian govern behind syrian offici deni respons blame jihadist fight rebel british us intellig report say attack involv chemic weapon un offici stress import wait offici report inspector the inspector share find un secretarygener ban kimoon ban said want wait un team final report complet present un secur council the organ prohibit chemic weapon nine inspector belong said saturday could take three week analyz evid collect it need time abl analyz inform sampl nesirki said he note ban repeat said altern polit solut crisi syria militari solut option bergen syria problem hell us obama this menac must confront obama senior advis debat next step take presid comment saturday came amid mount polit pressur situat syria some us lawmak call immedi action other warn step could becom quagmir some global leader express support british parliament vote militari action earlier week blow obama hope get strong back key nato alli on saturday obama propos said would limit militari action syrian presid bashar alassad ani militari attack would openend includ us ground forc said syria alleg use chemic weapon earlier month assault human digniti presid said a failur respond forc obama argu could lead escal use chemic weapon prolifer terrorist group would peopl harm in world mani danger menac must confront syria missil strike what would happen next map us alli asset around syria obama decis came friday night on friday night presid made lastminut decis consult lawmak what happen vote no it unclear a senior administr offici told cnn obama author act without congress even congress reject request author use forc obama saturday continu shore support strike alassad govern he spoke phone french presid francoi holland rose garden speech the two leader agre intern communiti must deliv resolut messag assad regim other would consid use chemic weapon crime unaccept violat intern norm held account world white hous said meanwhil uncertainti loom congress would weigh us militari offici said remain readi key assert us intellig report syria syria who want chemic weapon horror reaction mix obama speech a spokesman syrian nation coalit said opposit group disappoint obama announc our fear lack action could embolden regim repeat attack serious way said spokesman louay safi so quit concern some member congress applaud obama decis hous speaker john boehner major leader eric cantor major whip kevin mccarthi confer chair cathi mcmorri rodger issu statement saturday prais presid under constitut respons declar war lie congress republican lawmak said we glad presid seek author militari action syria respons serious substant question rais more legisl includ obama fellow democrat sign letter call either vote least full debat us action british prime minist david cameron whose attempt get lawmak countri support militari action syria fail earlier week respond obama speech twitter post saturday i understand support barack obama posit syria cameron said an influenti lawmak russia stood syria critic unit state theori the main reason obama turn congress militari oper get enough support either world among alli us unit state alexei pushkov chairman internationalaffair committe russian state duma said twitter post in unit state scatter group antiwar protest around countri took street saturday like mani americanswer tire unit state get involv invad bomb countri said robin rosecran among hundr los angel demonstr what syria neighbor think whi russia china iran stand assad syria govern unfaz after obama speech militari polit analyst syrian state tv said obama embarrass russia oppos militari action syria cri help someon come rescu face two defeat polit militari level syria prime minist appear unfaz saberrattl the syrian armi status maximum readi finger trigger confront challeng wael nader alhalqi said meet deleg syrian expatri itali accord banner syria state tv broadcast prior obama address an anchor syrian state televis said obama appear prepar aggress syria base repeat lie a top syrian diplomat told state televis network obama face pressur take militari action israel turkey arab rightw extremist unit state i think done well cameron term take issu parliament said bashar jaafari syria ambassador unit nation both obama cameron said climb top tree dont know get down the syrian govern deni use chemic weapon august attack say jihadist fight rebel use effort turn global sentiment it british intellig put number peopl kill attack on saturday obama said told well peopl murder us secretari state john kerri friday cite death toll children no explan offer discrep iran us militari action syria would spark disast opinion whi strike syria bad idea'"
      ]
     },
     "execution_count": 18,
     "metadata": {},
     "output_type": "execute_result"
    }
   ],
   "source": [
    "#display article\n",
    "article_dict['0001d1afc246a7964130f43ae940af6bc6c57f01.story']"
   ]
  },
  {
   "cell_type": "code",
   "execution_count": null,
   "metadata": {},
   "outputs": [],
   "source": []
  }
 ],
 "metadata": {
  "kernelspec": {
   "display_name": "Python 3",
   "language": "python",
   "name": "python3"
  },
  "language_info": {
   "codemirror_mode": {
    "name": "ipython",
    "version": 3
   },
   "file_extension": ".py",
   "mimetype": "text/x-python",
   "name": "python",
   "nbconvert_exporter": "python",
   "pygments_lexer": "ipython3",
   "version": "3.6.4"
  }
 },
 "nbformat": 4,
 "nbformat_minor": 2
}
