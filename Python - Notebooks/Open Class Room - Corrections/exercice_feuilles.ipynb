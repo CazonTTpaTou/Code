{
 "cells": [
  {
   "cell_type": "markdown",
   "metadata": {},
   "source": [
    "# Exercice : classification des feuilles"
   ]
  },
  {
   "cell_type": "code",
   "execution_count": 168,
   "metadata": {},
   "outputs": [],
   "source": [
    "import warnings\n",
    "import numpy as np\n",
    "import pandas as pd\n",
    "import seaborn as sns\n",
    "import matplotlib.pyplot as plt\n",
    "\n",
    "from sklearn import model_selection\n",
    "from sklearn import preprocessing\n",
    "from sklearn import neighbors, metrics\n",
    "from sklearn import svm, datasets\n",
    "from sklearn.model_selection import GridSearchCV, train_test_split\n",
    "from sklearn.preprocessing import label_binarize, LabelEncoder\n",
    "from sklearn.multiclass import OneVsRestClassifier, OneVsOneClassifier\n",
    "from sklearn.linear_model import LogisticRegression\n",
    "from sklearn.metrics import roc_curve, auc, roc_auc_score, f1_score\n",
    "from sklearn.neighbors import KNeighborsClassifier\n",
    "from sklearn.svm import SVC, LinearSVC\n",
    "from numpy import interp\n",
    "\n",
    "warnings.filterwarnings('ignore')"
   ]
  },
  {
   "cell_type": "code",
   "execution_count": 187,
   "metadata": {},
   "outputs": [],
   "source": [
    "_FEUILLE = 'Dataset_feuilles_1.csv'"
   ]
  },
  {
   "cell_type": "markdown",
   "metadata": {},
   "source": [
    "__Ce travail est divisé en quatre parties :__\n",
    "\n",
    "* Créer une baseline de performances avec le K-NN\n",
    "* Utiliser le SVM multiclasse avec différents paramètres et l’optimiser\n",
    "* Une critique et visualisation des performances des modèles sur ce jeu de données\n",
    "* Une sélection d’un modèle final à partir des performances"
   ]
  },
  {
   "cell_type": "markdown",
   "metadata": {},
   "source": [
    "# Récupération des données et mise en place"
   ]
  },
  {
   "cell_type": "code",
   "execution_count": 185,
   "metadata": {},
   "outputs": [],
   "source": [
    "# Récuparation du dataset\n",
    "data = pd.read_csv(_FEUILLE, sep=\",\")\n",
    "\n",
    "# On récupère les features d'un côté...\n",
    "X = data.copy()\n",
    "X = X.drop(['species', 'id'], axis=1)  \n",
    "\n",
    "# et les labels de l'autre\n",
    "y = data.iloc[:,1] \n",
    "\n",
    "# On transforme les noms en valeurs numériques\n",
    "le = LabelEncoder().fit(y) \n",
    "y = le.transform(y)\n",
    "n_classes = y.shape[0]\n",
    "\n",
    "# Dispatch en training/testing\n",
    "X_train, X_test, y_train, y_test = train_test_split(X, y, test_size=0.2)"
   ]
  },
  {
   "cell_type": "code",
   "execution_count": 171,
   "metadata": {
    "collapsed": true
   },
   "outputs": [],
   "source": [
    "# Score à optimiser\n",
    "opt_score = 'accuracy'"
   ]
  },
  {
   "cell_type": "markdown",
   "metadata": {},
   "source": [
    "# Baseline : Knn avec un gridsearch"
   ]
  },
  {
   "cell_type": "code",
   "execution_count": 172,
   "metadata": {},
   "outputs": [
    {
     "name": "stdout",
     "output_type": "stream",
     "text": [
      "\t\tSCORE\t Accuracy 0.8611 pour {'n_neighbors': 2}\n",
      "\t\tSCORE\t Accuracy 0.8699 pour {'n_neighbors': 3}\n",
      "\t\tSCORE\t Accuracy 0.8561 pour {'n_neighbors': 4}\n",
      "\t\tSCORE\t Accuracy 0.8359 pour {'n_neighbors': 5}\n",
      "\t\tSCORE\t Accuracy 0.8308 pour {'n_neighbors': 6}\n",
      "\t\tSCORE\t Accuracy 0.8245 pour {'n_neighbors': 7}\n",
      "\t\tSCORE\t Accuracy 0.803 pour {'n_neighbors': 8}\n",
      "\t\tSCORE\t Accuracy 0.7841 pour {'n_neighbors': 9}\n",
      "\t\tSCORE\t Accuracy 0.7664 pour {'n_neighbors': 10}\n",
      "\t\tSCORE\t Accuracy 0.7386 pour {'n_neighbors': 11}\n",
      "\t\tSCORE\t Accuracy 0.726 pour {'n_neighbors': 12}\n",
      "\t\tSCORE\t Accuracy 0.7197 pour {'n_neighbors': 13}\n",
      "\t\tSCORE\t Accuracy 0.7083 pour {'n_neighbors': 14}\n",
      "\t\tSCORE\t Accuracy 0.6907 pour {'n_neighbors': 15}\n",
      "\t\tSCORE\t Accuracy 0.6768 pour {'n_neighbors': 16}\n",
      "\t\tSCORE\t Accuracy 0.6654 pour {'n_neighbors': 17}\n",
      "\t\tSCORE\t Accuracy 0.6667 pour {'n_neighbors': 18}\n",
      "\t\tSCORE\t Accuracy 0.6515 pour {'n_neighbors': 19}\n",
      "\n",
      "\t\t{'n_neighbors': 3}\t0.869949\n"
     ]
    }
   ],
   "source": [
    "# Modèle à utiliser = KNeighborsClassifier()\n",
    "model = neighbors.KNeighborsClassifier()\n",
    "\n",
    "# Toutes les valeurs à tester\n",
    "axe_X = range(2,20)\n",
    "param_grid = {'n_neighbors':axe_X }\n",
    "\n",
    "# Création de la gridsearch puis fit sur les données à entrainer\n",
    "knn = model_selection.GridSearchCV(model, param_grid, cv=10, scoring=opt_score, refit=True)\n",
    "knn.fit(X_train, y_train)\n",
    "\n",
    "# Sauvegarde des meilleurs résultats\n",
    "best_params = knn.best_params_\n",
    "score = knn.best_score_\n",
    "\n",
    "# Affichage\n",
    "score_knn = []\n",
    "for a, c in zip(knn.cv_results_['mean_test_score'], knn.cv_results_['params']):\n",
    "    print(\"\\t%s %s %s pour %s\" % ('\\tSCORE\\t',  \"Accuracy\" , round(a,4), c))\n",
    "    score_knn.append(abs(a))\n",
    "\n",
    "# List --> Dataframe\n",
    "score_knn = pd.DataFrame(score_knn)\n",
    "\n",
    "# Affichage des meilleurs résultats\n",
    "print('\\n\\t\\t%s\\t%f' % (str(best_params), abs(score)))"
   ]
  },
  {
   "cell_type": "markdown",
   "metadata": {},
   "source": [
    "# SVM Multiclasse avec différents paramètres\n",
    "# 1er test : Linear Support Vector Classification"
   ]
  },
  {
   "cell_type": "code",
   "execution_count": 173,
   "metadata": {},
   "outputs": [
    {
     "name": "stdout",
     "output_type": "stream",
     "text": [
      "\t\tSCORE\t Accuracy 0.5518 pour {'C': 0.10000000000000001}\n",
      "\t\tSCORE\t Accuracy 0.8283 pour {'C': 1.0}\n",
      "\t\tSCORE\t Accuracy 0.9407 pour {'C': 10.0}\n",
      "\t\tSCORE\t Accuracy 0.9558 pour {'C': 100.0}\n",
      "\t\tSCORE\t Accuracy 0.9545 pour {'C': 1000.0}\n",
      "\t\tSCORE\t Accuracy 0.9533 pour {'C': 10000.0}\n",
      "\n",
      "\t\t{'C': 100.0}\t0.955808\n"
     ]
    }
   ],
   "source": [
    "# Modèle à utiliser = LinearSVC()\n",
    "model = LinearSVC()\n",
    "\n",
    "# Toutes les valeurs à tester\n",
    "params = { 'C': np.logspace(-1, 4, 6) }\n",
    "\n",
    "# Création de la gridsearch puis fit sur les données à entrainer\n",
    "lsvc = GridSearchCV(model, params, cv=10, scoring=opt_score, refit=True)\n",
    "lsvc.fit(X_train, y_train)\n",
    "\n",
    "# Sauvegarde des meilleurs résultats\n",
    "best_params = lsvc.best_params_\n",
    "score = lsvc.best_score_\n",
    "\n",
    "# Affichage\n",
    "score_lsvc = []\n",
    "for a, c in zip(lsvc.cv_results_['mean_test_score'], lsvc.cv_results_['params']):\n",
    "    print(\"\\t%s %s %s pour %s\" % ('\\tSCORE\\t',  \"Accuracy\" , round(a,4), c))\n",
    "    score_lsvc.append(abs(a))\n",
    "\n",
    "# List --> Dataframe\n",
    "score_lsvc = pd.DataFrame(score_lsvc)\n",
    "\n",
    "# Affichage des meilleurs résultats\n",
    "print('\\n\\t\\t%s\\t%f' % (str(best_params), abs(score)))"
   ]
  },
  {
   "cell_type": "markdown",
   "metadata": {},
   "source": [
    "# 2nd test : C-Support Vector Classification"
   ]
  },
  {
   "cell_type": "code",
   "execution_count": 174,
   "metadata": {},
   "outputs": [
    {
     "name": "stdout",
     "output_type": "stream",
     "text": [
      "\t\tSCORE\t Accuracy 0.1263 pour {'C': 10.0}\n",
      "\t\tSCORE\t Accuracy 0.1856 pour {'C': 100.0}\n",
      "\t\tSCORE\t Accuracy 0.822 pour {'C': 1000.0}\n",
      "\t\tSCORE\t Accuracy 0.9343 pour {'C': 10000.0}\n",
      "\t\tSCORE\t Accuracy 0.9343 pour {'C': 100000.0}\n",
      "\t\tSCORE\t Accuracy 0.9343 pour {'C': 1000000.0}\n",
      "\n",
      "\t\t{'C': 10000.0}\t0.934343\n"
     ]
    }
   ],
   "source": [
    "# Modèle à utiliser = SVC()\n",
    "model = SVC()\n",
    "\n",
    "# Toutes les valeurs à tester\n",
    "params = { 'C': np.logspace(1, 6, 6) }\n",
    "\n",
    "# Création de la gridsearch puis fit sur les données à entrainer\n",
    "svc = GridSearchCV(model, params, cv=10, scoring=opt_score, refit=True)\n",
    "svc.fit(X_train, y_train)\n",
    "\n",
    "# Sauvegarde des meilleurs résultats\n",
    "best_params = svc.best_params_\n",
    "score = svc.best_score_\n",
    "\n",
    "# Affichage\n",
    "score_svc = []\n",
    "for a, c in zip(svc.cv_results_['mean_test_score'], svc.cv_results_['params']):\n",
    "    print(\"\\t%s %s %s pour %s\" % ('\\tSCORE\\t',  \"Accuracy\" , round(a,4), c))\n",
    "    score_svc.append(abs(a))\n",
    "        \n",
    "# List --> Dataframe\n",
    "score_svc = pd.DataFrame(score_svc)\n",
    "\n",
    "# Affichage des meilleurs résultats\n",
    "print('\\n\\t\\t%s\\t%f' % (str(best_params), abs(score)))"
   ]
  },
  {
   "cell_type": "code",
   "execution_count": 175,
   "metadata": {},
   "outputs": [
    {
     "name": "stdout",
     "output_type": "stream",
     "text": [
      "Accuracy knn : 0.82\n",
      "F1 : 0.82\n",
      "Accuracy lsvc : 0.92\n",
      "F1 : 0.92\n",
      "Accuracy svc : 0.91\n",
      "F1 : 0.91\n"
     ]
    }
   ],
   "source": [
    "y_pred = knn.predict(X_test)\n",
    "print(\"Accuracy knn : %.2f\" % metrics.accuracy_score(y_test, y_pred))\n",
    "print(\"F1 : %.2f\" % metrics.f1_score(y_test, y_pred, average='weighted'))\n",
    "\n",
    "y_pred = lsvc.predict(X_test)\n",
    "print(\"Accuracy lsvc : %.2f\" % metrics.accuracy_score(y_test, y_pred))\n",
    "print(\"F1 : %.2f\" % metrics.f1_score(y_test, y_pred, average='weighted'))\n",
    "\n",
    "y_pred = svc.predict(X_test)\n",
    "print(\"Accuracy svc : %.2f\" % metrics.accuracy_score(y_test, y_pred))\n",
    "print(\"F1 : %.2f\" % metrics.f1_score(y_test, y_pred, average='weighted'))"
   ]
  },
  {
   "cell_type": "markdown",
   "metadata": {},
   "source": [
    "Le meilleur résultat est obtenu pour le Linear SVC, puis le SVC et enfin la baseline définie avec le knn. Nous allons donc visualer ces résultats sous forme de graphique, en appliquant les trois méthodes.\n",
    "\n",
    "Nous gardons les meilleurs paramètres."
   ]
  },
  {
   "cell_type": "markdown",
   "metadata": {
    "collapsed": true
   },
   "source": [
    "# Visualiation des résultats sous forme de graphique"
   ]
  },
  {
   "cell_type": "code",
   "execution_count": 176,
   "metadata": {},
   "outputs": [
    {
     "data": {
      "text/plain": [
       "<matplotlib.figure.Figure at 0x1a5c98ce080>"
      ]
     },
     "execution_count": 176,
     "metadata": {},
     "output_type": "execute_result"
    }
   ],
   "source": [
    "# Binarize the output\n",
    "y = label_binarize(y, classes=range(0, 100))\n",
    "n_classes = y.shape[1]\n",
    "\n",
    "# shuffle and split training and test sets\n",
    "X_train, X_test, y_train, y_test = train_test_split(X, y, test_size=.2, random_state=0)\n",
    "\n",
    "plt.figure(figsize=(10, 8))"
   ]
  },
  {
   "cell_type": "code",
   "execution_count": 177,
   "metadata": {},
   "outputs": [],
   "source": [
    "model = svm.SVC(C = 100)\n",
    "\n",
    "# Learn to predict each class against the other\n",
    "classifier = OneVsRestClassifier(model)\n",
    "y_score_svc = classifier.fit(X_train, y_train).decision_function(X_test)"
   ]
  },
  {
   "cell_type": "code",
   "execution_count": 178,
   "metadata": {},
   "outputs": [],
   "source": [
    "model = neighbors.KNeighborsClassifier(n_neighbors=3)\n",
    "\n",
    "# Learn to predict each class against the other\n",
    "classifier = OneVsRestClassifier(model)\n",
    "y_score_knn = classifier.fit(X_train, y_train).predict(X_test)"
   ]
  },
  {
   "cell_type": "code",
   "execution_count": 179,
   "metadata": {},
   "outputs": [],
   "source": [
    "model = svm.LinearSVC(C = 100000)\n",
    "\n",
    "# Learn to predict each class against the other\n",
    "classifier = OneVsRestClassifier(model)\n",
    "y_score_lsvc = classifier.fit(X_train, y_train).decision_function(X_test)"
   ]
  },
  {
   "cell_type": "code",
   "execution_count": 180,
   "metadata": {},
   "outputs": [],
   "source": [
    "# Sauvegarde des scores\n",
    "all_score = [y_score_svc, y_score_knn, y_score_lsvc]\n",
    "noms = ['SVC', 'knn', 'Linear SVC']\n",
    "colors = ['blue', 'red', 'green']"
   ]
  },
  {
   "cell_type": "code",
   "execution_count": 181,
   "metadata": {},
   "outputs": [],
   "source": [
    "for y_score, name, color in zip(all_score, noms, colors):  \n",
    "    # Compute ROC curve and ROC area for each class\n",
    "    fpr = dict()\n",
    "    tpr = dict()\n",
    "    roc_auc = dict()\n",
    "\n",
    "    for i in range(n_classes):\n",
    "        fpr[i], tpr[i], _ = roc_curve(y_test[:, i], y_score[:, i])\n",
    "        roc_auc[i] = auc(fpr[i], tpr[i])\n",
    "\n",
    "    # Compute micro-average ROC curve and ROC area\n",
    "    fpr[\"micro\"], tpr[\"micro\"], _ = roc_curve(y_test.ravel(), y_score.ravel())\n",
    "    roc_auc[\"micro\"] = auc(fpr[\"micro\"], tpr[\"micro\"])\n",
    "\n",
    "    # First aggregate all false positive rates\n",
    "    all_fpr = np.unique(np.concatenate([fpr[i] for i in range(n_classes)]))\n",
    "\n",
    "    # Then interpolate all ROC curves at this points\n",
    "    mean_tpr = np.zeros_like(all_fpr)\n",
    "    for i in range(n_classes):\n",
    "        mean_tpr += interp(all_fpr, fpr[i], tpr[i])\n",
    "\n",
    "    # Finally average it and compute AUC\n",
    "    mean_tpr /= n_classes\n",
    "\n",
    "    # Plot all ROC curves\n",
    "    plt.plot(fpr[\"micro\"], tpr[\"micro\"],\n",
    "             label=name + ' average ROC = {0:0.3f}'\n",
    "                   ''.format(roc_auc[\"micro\"]),\n",
    "             color=color, linestyle=':', linewidth=2)"
   ]
  },
  {
   "cell_type": "code",
   "execution_count": 182,
   "metadata": {},
   "outputs": [
    {
     "data": {
      "text/plain": [
       "<matplotlib.figure.Figure at 0x1a5c871fe10>"
      ]
     },
     "metadata": {},
     "output_type": "display_data"
    },
    {
     "data": {
      "text/plain": [
       "<matplotlib.figure.Figure at 0x1a5bf94aeb8>"
      ]
     },
     "metadata": {},
     "output_type": "display_data"
    },
    {
     "data": {
      "text/plain": [
       "<matplotlib.figure.Figure at 0x1a5bf94a518>"
      ]
     },
     "metadata": {},
     "output_type": "display_data"
    },
    {
     "data": {
      "text/plain": [
       "<matplotlib.figure.Figure at 0x1a5bf94a978>"
      ]
     },
     "metadata": {},
     "output_type": "display_data"
    },
    {
     "data": {
      "text/plain": [
       "<matplotlib.figure.Figure at 0x1a5be394c88>"
      ]
     },
     "metadata": {},
     "output_type": "display_data"
    },
    {
     "data": {
      "text/plain": [
       "<matplotlib.figure.Figure at 0x1a5c2f98240>"
      ]
     },
     "metadata": {},
     "output_type": "display_data"
    },
    {
     "data": {
      "text/plain": [
       "<matplotlib.figure.Figure at 0x1a5c85d1940>"
      ]
     },
     "metadata": {},
     "output_type": "display_data"
    },
    {
     "data": {
      "text/plain": [
       "<matplotlib.figure.Figure at 0x1a5c98a02b0>"
      ]
     },
     "metadata": {},
     "output_type": "display_data"
    },
    {
     "data": {
      "image/png": "[encoded data removed]",
      "text/plain": [
       "<matplotlib.figure.Figure at 0x1a5c98ce080>"
      ]
     },
     "metadata": {},
     "output_type": "display_data"
    }
   ],
   "source": [
    "# caractèristiques des figures\n",
    "plt.grid('on')\n",
    "plt.plot([0, 1], [0, 1], 'k--', lw=1)\n",
    "plt.xlim([0.0, 1.0])\n",
    "plt.ylim([0.0, 1.05])\n",
    "plt.xlabel('Taux de faux positifs')\n",
    "plt.ylabel('Taux de vrais positifs')\n",
    "plt.title('ROC des différents essais')\n",
    "plt.legend(loc=\"lower right\")\n",
    "plt.show()"
   ]
  },
  {
   "cell_type": "markdown",
   "metadata": {},
   "source": [
    "Les résultats sont identiques à ceux trouvés un peu plus haut."
   ]
  }
 ],
 "metadata": {
  "kernelspec": {
   "display_name": "Python 3",
   "language": "python",
   "name": "python3"
  },
  "language_info": {
   "codemirror_mode": {
    "name": "ipython",
    "version": 3
   },
   "file_extension": ".py",
   "mimetype": "text/x-python",
   "name": "python",
   "nbconvert_exporter": "python",
   "pygments_lexer": "ipython3",
   "version": "3.6.4"
  }
 },
 "nbformat": 4,
 "nbformat_minor": 2
}
