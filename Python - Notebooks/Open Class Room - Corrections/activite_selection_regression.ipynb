{
 "cells": [
  {
   "cell_type": "markdown",
   "metadata": {},
   "source": [
    "Votre mission\n",
    "\n",
    "Dans cette activité, vous utiliserez la version régression du K-nn afin de prédire la qualité du vin. Vous évaluerez votre modèle à l’aide des méthodes étudiées dans cette partie pour optimiser votre algorithme et choisir les meilleurs hyper-paramètres (le nombre de voisins), à nouveau à l’aide d’une grid search, à implémenter vous même.\n",
    "\n",
    "Objectif\n",
    "\n",
    "Dans cette activité, vous devez optimiser l’erreur quadratique moyenne (Mean Squared Error, MSE). Vous pourrez observer le comportement de la MSE et la comparer à celui de R^2.\n",
    "\n",
    "Vous comparerez les performances à l’aide d’une baseline naïve ainsi que les différentes heuristiques, comme effectué dans le TP précédent.  Pour cela, vous utiliserez cette fois le second dataset (https://archive.ics.uci.edu/ml/machine-learning-databases/wine-quality/winequality-red.csv)\n",
    "\n",
    "Livrable\n",
    "\n",
    "Un classeur iPython où vous interpréterez les valeurs des différentes heuristiques utilisées ainsi que le choix final."
   ]
  },
  {
   "cell_type": "code",
   "execution_count": 1,
   "metadata": {},
   "outputs": [],
   "source": [
    "%matplotlib inline\n",
    "import numpy as np\n",
    "import pandas as pd\n",
    "import matplotlib.pyplot as plt\n",
    "import seaborn as sns\n",
    "from sklearn import model_selection, preprocessing, neighbors, metrics, dummy"
   ]
  },
  {
   "cell_type": "code",
   "execution_count": 2,
   "metadata": {},
   "outputs": [
    {
     "data": {
      "text/html": [
       "<div>\n",
       "<style scoped>\n",
       "    .dataframe tbody tr th:only-of-type {\n",
       "        vertical-align: middle;\n",
       "    }\n",
       "\n",
       "    .dataframe tbody tr th {\n",
       "        vertical-align: top;\n",
       "    }\n",
       "\n",
       "    .dataframe thead th {\n",
       "        text-align: right;\n",
       "    }\n",
       "</style>\n",
       "<table border=\"1\" class=\"dataframe\">\n",
       "  <thead>\n",
       "    <tr style=\"text-align: right;\">\n",
       "      <th></th>\n",
       "      <th>fixed acidity</th>\n",
       "      <th>volatile acidity</th>\n",
       "      <th>citric acid</th>\n",
       "      <th>residual sugar</th>\n",
       "      <th>chlorides</th>\n",
       "      <th>free sulfur dioxide</th>\n",
       "      <th>total sulfur dioxide</th>\n",
       "      <th>density</th>\n",
       "      <th>pH</th>\n",
       "      <th>sulphates</th>\n",
       "      <th>alcohol</th>\n",
       "      <th>quality</th>\n",
       "    </tr>\n",
       "  </thead>\n",
       "  <tbody>\n",
       "    <tr>\n",
       "      <th>0</th>\n",
       "      <td>7.4</td>\n",
       "      <td>0.70</td>\n",
       "      <td>0.00</td>\n",
       "      <td>1.9</td>\n",
       "      <td>0.076</td>\n",
       "      <td>11.0</td>\n",
       "      <td>34.0</td>\n",
       "      <td>0.9978</td>\n",
       "      <td>3.51</td>\n",
       "      <td>0.56</td>\n",
       "      <td>9.4</td>\n",
       "      <td>5</td>\n",
       "    </tr>\n",
       "    <tr>\n",
       "      <th>1</th>\n",
       "      <td>7.8</td>\n",
       "      <td>0.88</td>\n",
       "      <td>0.00</td>\n",
       "      <td>2.6</td>\n",
       "      <td>0.098</td>\n",
       "      <td>25.0</td>\n",
       "      <td>67.0</td>\n",
       "      <td>0.9968</td>\n",
       "      <td>3.20</td>\n",
       "      <td>0.68</td>\n",
       "      <td>9.8</td>\n",
       "      <td>5</td>\n",
       "    </tr>\n",
       "    <tr>\n",
       "      <th>2</th>\n",
       "      <td>7.8</td>\n",
       "      <td>0.76</td>\n",
       "      <td>0.04</td>\n",
       "      <td>2.3</td>\n",
       "      <td>0.092</td>\n",
       "      <td>15.0</td>\n",
       "      <td>54.0</td>\n",
       "      <td>0.9970</td>\n",
       "      <td>3.26</td>\n",
       "      <td>0.65</td>\n",
       "      <td>9.8</td>\n",
       "      <td>5</td>\n",
       "    </tr>\n",
       "    <tr>\n",
       "      <th>3</th>\n",
       "      <td>11.2</td>\n",
       "      <td>0.28</td>\n",
       "      <td>0.56</td>\n",
       "      <td>1.9</td>\n",
       "      <td>0.075</td>\n",
       "      <td>17.0</td>\n",
       "      <td>60.0</td>\n",
       "      <td>0.9980</td>\n",
       "      <td>3.16</td>\n",
       "      <td>0.58</td>\n",
       "      <td>9.8</td>\n",
       "      <td>6</td>\n",
       "    </tr>\n",
       "    <tr>\n",
       "      <th>4</th>\n",
       "      <td>7.4</td>\n",
       "      <td>0.70</td>\n",
       "      <td>0.00</td>\n",
       "      <td>1.9</td>\n",
       "      <td>0.076</td>\n",
       "      <td>11.0</td>\n",
       "      <td>34.0</td>\n",
       "      <td>0.9978</td>\n",
       "      <td>3.51</td>\n",
       "      <td>0.56</td>\n",
       "      <td>9.4</td>\n",
       "      <td>5</td>\n",
       "    </tr>\n",
       "  </tbody>\n",
       "</table>\n",
       "</div>"
      ],
      "text/plain": [
       "   fixed acidity  volatile acidity  citric acid  residual sugar  chlorides  \\\n",
       "0            7.4              0.70         0.00             1.9      0.076   \n",
       "1            7.8              0.88         0.00             2.6      0.098   \n",
       "2            7.8              0.76         0.04             2.3      0.092   \n",
       "3           11.2              0.28         0.56             1.9      0.075   \n",
       "4            7.4              0.70         0.00             1.9      0.076   \n",
       "\n",
       "   free sulfur dioxide  total sulfur dioxide  density    pH  sulphates  \\\n",
       "0                 11.0                  34.0   0.9978  3.51       0.56   \n",
       "1                 25.0                  67.0   0.9968  3.20       0.68   \n",
       "2                 15.0                  54.0   0.9970  3.26       0.65   \n",
       "3                 17.0                  60.0   0.9980  3.16       0.58   \n",
       "4                 11.0                  34.0   0.9978  3.51       0.56   \n",
       "\n",
       "   alcohol  quality  \n",
       "0      9.4        5  \n",
       "1      9.8        5  \n",
       "2      9.8        5  \n",
       "3      9.8        6  \n",
       "4      9.4        5  "
      ]
     },
     "execution_count": 2,
     "metadata": {},
     "output_type": "execute_result"
    }
   ],
   "source": [
    "data = pd.read_csv('winequality-red.csv', sep=\";\")\n",
    "X = data.as_matrix(data.columns[:-1])\n",
    "y = data.as_matrix([data.columns[-1]])\n",
    "y = y.ravel()\n",
    "data.head()"
   ]
  },
  {
   "cell_type": "code",
   "execution_count": 3,
   "metadata": {},
   "outputs": [],
   "source": [
    "# Séparation des données: 70% pour la validation croisée, 30% pour le test\n",
    "X_train, X_test, y_train, y_test = model_selection.train_test_split(X, y, test_size=0.3)"
   ]
  },
  {
   "cell_type": "code",
   "execution_count": 4,
   "metadata": {},
   "outputs": [],
   "source": [
    "# Standardisation des features\n",
    "std_scale = preprocessing.StandardScaler().fit(X_train)\n",
    "X_train_std = std_scale.transform(X_train)\n",
    "X_test_std = std_scale.transform(X_test)"
   ]
  },
  {
   "cell_type": "code",
   "execution_count": 5,
   "metadata": {},
   "outputs": [],
   "source": [
    "# Grille des hyperparamètres\n",
    "param_grid = {'n_neighbors': range(5,50)}"
   ]
  },
  {
   "cell_type": "code",
   "execution_count": 6,
   "metadata": {},
   "outputs": [
    {
     "name": "stdout",
     "output_type": "stream",
     "text": [
      "{'n_neighbors': 10}\n"
     ]
    }
   ],
   "source": [
    "# On lance la validation croisée \n",
    "# On cherche à minimiser la MSE, le score qu'on choisit de maximiser est l'opposé de la MSE\n",
    "regr = model_selection.GridSearchCV(neighbors.KNeighborsRegressor(), param_grid, cv=5, scoring='neg_mean_squared_error')\n",
    "regr.fit(X_train_std, y_train)\n",
    "print(regr.best_params_)"
   ]
  },
  {
   "cell_type": "code",
   "execution_count": 7,
   "metadata": {},
   "outputs": [
    {
     "data": {
      "image/png": "[encoded data removed]",
      "text/plain": [
       "<matplotlib.figure.Figure at 0x7fbff11cd2b0>"
      ]
     },
     "metadata": {},
     "output_type": "display_data"
    }
   ],
   "source": [
    "fig = plt.figure()\n",
    "plt.title(\"GridSearchCV minimisant la MSE\")\n",
    "plt.xlabel(\"n_neighbors\")\n",
    "plt.ylabel(\"MSE\")\n",
    "plt.scatter(param_grid['n_neighbors'], np.abs(regr.cv_results_['mean_test_score']))\n",
    "plt.show()"
   ]
  },
  {
   "cell_type": "code",
   "execution_count": 8,
   "metadata": {},
   "outputs": [
    {
     "name": "stdout",
     "output_type": "stream",
     "text": [
      "MSE: 0.41225 \n",
      " R2: 0.37452323253608677\n"
     ]
    }
   ],
   "source": [
    "# On calcule la MSE et R^2 le test set\n",
    "y_pred = regr.predict(X_test_std)\n",
    "print(f\"MSE: {metrics.mean_squared_error(y_test, y_pred)} \\n R2: {metrics.r2_score(y_test, y_pred)}\")"
   ]
  },
  {
   "cell_type": "code",
   "execution_count": 9,
   "metadata": {},
   "outputs": [],
   "source": [
    "# On étudie en parallèle la validation croisée qui minimise le MSE et celle qui maximise le R^2"
   ]
  },
  {
   "cell_type": "code",
   "execution_count": 10,
   "metadata": {},
   "outputs": [
    {
     "data": {
      "text/plain": [
       "{'n_neighbors': 10}"
      ]
     },
     "execution_count": 10,
     "metadata": {},
     "output_type": "execute_result"
    }
   ],
   "source": [
    "scoring = {'MSE': 'neg_mean_squared_error', 'R2': 'r2'}\n",
    "regr = model_selection.GridSearchCV(neighbors.KNeighborsRegressor(), param_grid, cv=5, scoring=scoring, refit='MSE')\n",
    "regr.fit(X_train_std, y_train)\n",
    "regr.best_params_"
   ]
  },
  {
   "cell_type": "code",
   "execution_count": 11,
   "metadata": {},
   "outputs": [
    {
     "name": "stderr",
     "output_type": "stream",
     "text": [
      "/usr/lib/python3/dist-packages/matplotlib/cbook/deprecation.py:106: MatplotlibDeprecationWarning: Adding an axes using the same arguments as a previous axes currently reuses the earlier instance.  In a future version, a new instance will always be created and returned.  Meanwhile, this warning can be suppressed, and the future behavior ensured, by passing a unique label to each axes instance.\n",
      "  warnings.warn(message, mplDeprecation, stacklevel=1)\n"
     ]
    },
    {
     "data": {
      "image/png": "[encoded data removed]",
      "text/plain": [
       "<matplotlib.figure.Figure at 0x7fbff1134f28>"
      ]
     },
     "metadata": {},
     "output_type": "display_data"
    }
   ],
   "source": [
    "# Fortement inspiré de la doc de sklearn\n",
    "fig = plt.figure()\n",
    "\n",
    "plt.title(\"GridSearchCV pour la MSE et le R^2\")\n",
    "\n",
    "plt.xlabel(\"n_neighbors\")\n",
    "plt.ylabel(\"Score\")\n",
    "\n",
    "ax = plt.axes()\n",
    "\n",
    "X_axis = np.array(regr.cv_results_['param_n_neighbors'].data, dtype=float)\n",
    "\n",
    "for scorer, color in zip(sorted(scoring), ['g', 'r']):\n",
    "    sample_score_mean = regr.cv_results_[f'mean_test_{scorer}']\n",
    "    if scorer == 'MSE':\n",
    "        sample_score_mean = np.abs(sample_score_mean)\n",
    "    sample_score_std = regr.cv_results_[f'std_test_{scorer}']\n",
    "    ax.fill_between(X_axis, sample_score_mean - 2 * sample_score_std,\n",
    "                    sample_score_mean + 2 * sample_score_std,\n",
    "                    alpha=0.1, color=color)\n",
    "    ax.plot(X_axis, sample_score_mean, color=color,\n",
    "            alpha=1,\n",
    "            label=f\"{scorer}\")\n",
    "    best_index = np.nonzero(regr.cv_results_['rank_test_%s' % scorer] == 1)[0][0]\n",
    "    best_score = regr.cv_results_['mean_test_%s' % scorer][best_index]\n",
    "    if scorer == 'MSE':\n",
    "        best_score = np.abs(best_score)\n",
    "\n",
    "    #ax.plot([X_axis[best_index], ] * 2, [0, best_score], linestyle='-.', color=color, marker='x', markeredgewidth=3, ms=8)\n",
    "    #ax.plot([X_axis[best_index], best_score], linestyle='-.', color=color, marker='x')\n",
    "    #ax.annotate(f\"{best_score:0.2f}\", (X_axis[best_index], best_score + 0.005))\n",
    "    ax.plot(X_axis[best_index], best_score,'ro',label=f\"{best_score:0.2f}\", color=color, marker='x')\n",
    "\n",
    "ax.legend()\n",
    "plt.show()"
   ]
  },
  {
   "cell_type": "code",
   "execution_count": 12,
   "metadata": {},
   "outputs": [],
   "source": [
    "# On compare la MSE et le R^2 avec des baseline naïve"
   ]
  },
  {
   "cell_type": "code",
   "execution_count": 13,
   "metadata": {},
   "outputs": [],
   "source": [
    "def regr_dummy(strat, **keywords):\n",
    "    if strat == 'random':\n",
    "        y_pred = np.random.randint(np.min(y), np.max(y), y_test.shape)\n",
    "    else:\n",
    "        regr = dummy.DummyRegressor(strat, **keywords)\n",
    "        regr.fit(X_train_std, y_train)\n",
    "        y_pred = regr.predict(X_test_std)\n",
    "    print(f\"MSE: {metrics.mean_squared_error(y_test, y_pred)} \\n R2: {metrics.r2_score(y_test, y_pred)}\")"
   ]
  },
  {
   "cell_type": "code",
   "execution_count": 14,
   "metadata": {},
   "outputs": [
    {
     "name": "stdout",
     "output_type": "stream",
     "text": [
      "Knn avec n = {regr.best_params_}\n",
      "MSE: 0.41225 \n",
      " R2: 0.37452323253608677\n",
      "\n",
      " Stratégie : mean\n",
      "MSE: 0.6591622702671621 \n",
      " R2: -9.869264009454426e-05\n",
      "\n",
      " Stratégie : median\n",
      "MSE: 0.6591622702671621 \n",
      " R2: -9.869264009454426e-05\n",
      "\n",
      " Stratégie : random\n",
      "MSE: 0.6591622702671621 \n",
      " R2: -9.869264009454426e-05\n",
      "\n",
      "Stratégie : mode\n",
      "MSE: 1.0708333333333333 \n",
      " R2: -0.6246970814455803\n"
     ]
    }
   ],
   "source": [
    "print('Knn avec n = {regr.best_params_}')\n",
    "y_pred = regr.predict(X_test_std)\n",
    "print(f\"MSE: {metrics.mean_squared_error(y_test, y_pred)} \\n R2: {metrics.r2_score(y_test, y_pred)}\")\n",
    "for strat in ['mean', 'median', 'random']:\n",
    "    print('\\n Stratégie : '+strat)\n",
    "    regr_dummy('mean')\n",
    "from scipy.stats import mode\n",
    "mod= mode(y, axis=0)\n",
    "print('\\n'+'Stratégie : mode')\n",
    "regr_dummy('constant', constant=mod[0])"
   ]
  },
  {
   "cell_type": "code",
   "execution_count": 15,
   "metadata": {
    "scrolled": true
   },
   "outputs": [
    {
     "name": "stdout",
     "output_type": "stream",
     "text": [
      "Conclusion :\n",
      "La validation croisée nous donne un régresseur knn optimal au sens de la MSE pour {'n_neighbors': 10}.\n",
      "Comme attendu R^2 est d'autant meilleur que la MSE est petite.\n",
      "Le régresseur obtenu a mieux appris que des régresseurs naïfs (prédiction aléatoire, prédiction constante égale \n",
      "à la moyenne, à la médiane, au mode. Ces régresseurs naïfs obtiennent de très mauvais scores (on obtient des R^2 négatifs).\n",
      "Le modèle sélectionné avec un R^2 très inférieur à 1 apparait vraiment peu pertinent : la fraction de la variance\n",
      "inexpliquée est très grande. \n",
      "\n"
     ]
    }
   ],
   "source": [
    "print(f'''Conclusion :\n",
    "La validation croisée nous donne un régresseur knn optimal au sens de la MSE pour {regr.best_params_}.\n",
    "Comme attendu R^2 est d'autant meilleur que la MSE est petite.\n",
    "Le régresseur obtenu a mieux appris que des régresseurs naïfs (prédiction aléatoire, prédiction constante égale \n",
    "à la moyenne, à la médiane, au mode. Ces régresseurs naïfs obtiennent de très mauvais scores (on obtient des R^2 négatifs).\n",
    "Le modèle sélectionné avec un R^2 très inférieur à 1 apparait vraiment peu pertinent : la fraction de la variance\n",
    "inexpliquée est très grande. \n",
    "''')"
   ]
  },
  {
   "cell_type": "code",
   "execution_count": null,
   "metadata": {},
   "outputs": [],
   "source": []
  }
 ],
 "metadata": {
  "kernelspec": {
   "display_name": "Python 3",
   "language": "python",
   "name": "python3"
  },
  "language_info": {
   "codemirror_mode": {
    "name": "ipython",
    "version": 3
   },
   "file_extension": ".py",
   "mimetype": "text/x-python",
   "name": "python",
   "nbconvert_exporter": "python",
   "pygments_lexer": "ipython3",
   "version": "3.6.4+"
  }
 },
 "nbformat": 4,
 "nbformat_minor": 2
}
