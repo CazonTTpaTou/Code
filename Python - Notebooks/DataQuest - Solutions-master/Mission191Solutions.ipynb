{
 "cells": [
  {
   "cell_type": "markdown",
   "metadata": {
    "heading_collapsed": true
   },
   "source": [
    "## Creating Helper Functions"
   ]
  },
  {
   "cell_type": "code",
   "execution_count": 1,
   "metadata": {
    "hidden": true
   },
   "outputs": [
    {
     "data": {
      "text/html": [
       "<div>\n",
       "<table border=\"1\" class=\"dataframe\">\n",
       "  <thead>\n",
       "    <tr style=\"text-align: right;\">\n",
       "      <th></th>\n",
       "      <th>name</th>\n",
       "      <th>type</th>\n",
       "    </tr>\n",
       "  </thead>\n",
       "  <tbody>\n",
       "    <tr>\n",
       "      <th>0</th>\n",
       "      <td>album</td>\n",
       "      <td>table</td>\n",
       "    </tr>\n",
       "    <tr>\n",
       "      <th>1</th>\n",
       "      <td>artist</td>\n",
       "      <td>table</td>\n",
       "    </tr>\n",
       "    <tr>\n",
       "      <th>2</th>\n",
       "      <td>customer</td>\n",
       "      <td>table</td>\n",
       "    </tr>\n",
       "    <tr>\n",
       "      <th>3</th>\n",
       "      <td>employee</td>\n",
       "      <td>table</td>\n",
       "    </tr>\n",
       "    <tr>\n",
       "      <th>4</th>\n",
       "      <td>genre</td>\n",
       "      <td>table</td>\n",
       "    </tr>\n",
       "    <tr>\n",
       "      <th>5</th>\n",
       "      <td>invoice</td>\n",
       "      <td>table</td>\n",
       "    </tr>\n",
       "    <tr>\n",
       "      <th>6</th>\n",
       "      <td>invoice_line</td>\n",
       "      <td>table</td>\n",
       "    </tr>\n",
       "    <tr>\n",
       "      <th>7</th>\n",
       "      <td>media_type</td>\n",
       "      <td>table</td>\n",
       "    </tr>\n",
       "    <tr>\n",
       "      <th>8</th>\n",
       "      <td>playlist</td>\n",
       "      <td>table</td>\n",
       "    </tr>\n",
       "    <tr>\n",
       "      <th>9</th>\n",
       "      <td>playlist_track</td>\n",
       "      <td>table</td>\n",
       "    </tr>\n",
       "    <tr>\n",
       "      <th>10</th>\n",
       "      <td>track</td>\n",
       "      <td>table</td>\n",
       "    </tr>\n",
       "  </tbody>\n",
       "</table>\n",
       "</div>"
      ],
      "text/plain": [
       "              name   type\n",
       "0            album  table\n",
       "1           artist  table\n",
       "2         customer  table\n",
       "3         employee  table\n",
       "4            genre  table\n",
       "5          invoice  table\n",
       "6     invoice_line  table\n",
       "7       media_type  table\n",
       "8         playlist  table\n",
       "9   playlist_track  table\n",
       "10           track  table"
      ]
     },
     "execution_count": 1,
     "metadata": {},
     "output_type": "execute_result"
    }
   ],
   "source": [
    "import sqlite3\n",
    "import pandas as pd\n",
    "import numpy as np\n",
    "import matplotlib.pyplot as plt\n",
    "from matplotlib import cm\n",
    "%matplotlib inline\n",
    "\n",
    "db = 'chinook.db'\n",
    "\n",
    "def run_query(q):\n",
    "    with sqlite3.connect(db) as conn:\n",
    "        return pd.read_sql(q, conn)\n",
    "\n",
    "def run_command(c):\n",
    "    with sqlite3.connect(db) as conn:\n",
    "        conn.isolation_level = None\n",
    "        conn.execute(c)\n",
    "\n",
    "def show_tables():\n",
    "    q = '''\n",
    "    SELECT\n",
    "        name,\n",
    "        type\n",
    "    FROM sqlite_master\n",
    "    WHERE type IN (\"table\",\"view\");\n",
    "    '''\n",
    "    return run_query(q)\n",
    "\n",
    "show_tables()"
   ]
  },
  {
   "cell_type": "markdown",
   "metadata": {
    "heading_collapsed": true
   },
   "source": [
    "## Selecting New Albums to Purchase"
   ]
  },
  {
   "cell_type": "code",
   "execution_count": 2,
   "metadata": {
    "hidden": true
   },
   "outputs": [
    {
     "data": {
      "text/html": [
       "<div>\n",
       "<table border=\"1\" class=\"dataframe\">\n",
       "  <thead>\n",
       "    <tr style=\"text-align: right;\">\n",
       "      <th></th>\n",
       "      <th>genre</th>\n",
       "      <th>tracks_sold</th>\n",
       "      <th>percentage_sold</th>\n",
       "    </tr>\n",
       "  </thead>\n",
       "  <tbody>\n",
       "    <tr>\n",
       "      <th>0</th>\n",
       "      <td>Rock</td>\n",
       "      <td>561</td>\n",
       "      <td>0.533777</td>\n",
       "    </tr>\n",
       "    <tr>\n",
       "      <th>1</th>\n",
       "      <td>Alternative &amp; Punk</td>\n",
       "      <td>130</td>\n",
       "      <td>0.123692</td>\n",
       "    </tr>\n",
       "    <tr>\n",
       "      <th>2</th>\n",
       "      <td>Metal</td>\n",
       "      <td>124</td>\n",
       "      <td>0.117983</td>\n",
       "    </tr>\n",
       "    <tr>\n",
       "      <th>3</th>\n",
       "      <td>R&amp;B/Soul</td>\n",
       "      <td>53</td>\n",
       "      <td>0.050428</td>\n",
       "    </tr>\n",
       "    <tr>\n",
       "      <th>4</th>\n",
       "      <td>Blues</td>\n",
       "      <td>36</td>\n",
       "      <td>0.034253</td>\n",
       "    </tr>\n",
       "    <tr>\n",
       "      <th>5</th>\n",
       "      <td>Alternative</td>\n",
       "      <td>35</td>\n",
       "      <td>0.033302</td>\n",
       "    </tr>\n",
       "    <tr>\n",
       "      <th>6</th>\n",
       "      <td>Latin</td>\n",
       "      <td>22</td>\n",
       "      <td>0.020932</td>\n",
       "    </tr>\n",
       "    <tr>\n",
       "      <th>7</th>\n",
       "      <td>Pop</td>\n",
       "      <td>22</td>\n",
       "      <td>0.020932</td>\n",
       "    </tr>\n",
       "    <tr>\n",
       "      <th>8</th>\n",
       "      <td>Hip Hop/Rap</td>\n",
       "      <td>20</td>\n",
       "      <td>0.019029</td>\n",
       "    </tr>\n",
       "    <tr>\n",
       "      <th>9</th>\n",
       "      <td>Jazz</td>\n",
       "      <td>14</td>\n",
       "      <td>0.013321</td>\n",
       "    </tr>\n",
       "  </tbody>\n",
       "</table>\n",
       "</div>"
      ],
      "text/plain": [
       "                genre  tracks_sold  percentage_sold\n",
       "0                Rock          561         0.533777\n",
       "1  Alternative & Punk          130         0.123692\n",
       "2               Metal          124         0.117983\n",
       "3            R&B/Soul           53         0.050428\n",
       "4               Blues           36         0.034253\n",
       "5         Alternative           35         0.033302\n",
       "6               Latin           22         0.020932\n",
       "7                 Pop           22         0.020932\n",
       "8         Hip Hop/Rap           20         0.019029\n",
       "9                Jazz           14         0.013321"
      ]
     },
     "execution_count": 2,
     "metadata": {},
     "output_type": "execute_result"
    }
   ],
   "source": [
    "albums_to_purchase = '''\n",
    "WITH usa_tracks_sold AS\n",
    "   (\n",
    "    SELECT il.* FROM invoice_line il\n",
    "    INNER JOIN invoice i on il.invoice_id = i.invoice_id\n",
    "    INNER JOIN customer c on i.customer_id = c.customer_id\n",
    "    WHERE c.country = \"USA\"\n",
    "   )\n",
    "\n",
    "SELECT\n",
    "    g.name genre,\n",
    "    count(uts.invoice_line_id) tracks_sold,\n",
    "    cast(count(uts.invoice_line_id) AS FLOAT) / (\n",
    "        SELECT COUNT(*) from usa_tracks_sold\n",
    "    ) percentage_sold\n",
    "FROM usa_tracks_sold uts\n",
    "INNER JOIN track t on t.track_id = uts.track_id\n",
    "INNER JOIN genre g on g.genre_id = t.genre_id\n",
    "GROUP BY 1\n",
    "ORDER BY 2 DESC\n",
    "LIMIT 10;\n",
    "'''\n",
    "\n",
    "run_query(albums_to_purchase)"
   ]
  },
  {
   "cell_type": "code",
   "execution_count": 3,
   "metadata": {
    "hidden": true,
    "scrolled": true
   },
   "outputs": [
    {
     "data": {
      "image/png": "[encoded data removed]",
      "text/plain": [
       "<matplotlib.figure.Figure at 0x107b6b390>"
      ]
     },
     "metadata": {},
     "output_type": "display_data"
    }
   ],
   "source": [
    "genre_sales_usa = run_query(albums_to_purchase)\n",
    "genre_sales_usa.set_index(\"genre\", inplace=True, drop=True)\n",
    "\n",
    "genre_sales_usa[\"tracks_sold\"].plot.barh(\n",
    "    title=\"Top Selling Genres in the USA\",\n",
    "    xlim=(0, 625),\n",
    "    colormap=plt.cm.Accent\n",
    ")\n",
    "\n",
    "plt.ylabel('')\n",
    "\n",
    "for i, label in enumerate(list(genre_sales_usa.index)):\n",
    "    score = genre_sales_usa.loc[label, \"tracks_sold\"]\n",
    "    label = (genre_sales_usa.loc[label, \"percentage_sold\"] * 100\n",
    "            ).astype(int).astype(str) + \"%\"\n",
    "    plt.annotate(str(label), (score + 10, i - 0.15))\n",
    "\n",
    "plt.show()"
   ]
  },
  {
   "cell_type": "markdown",
   "metadata": {
    "hidden": true
   },
   "source": [
    "Based on the sales of tracks across different genres in the USA, we should purchase the new albums by the following artists:\n",
    "\n",
    "- Red Tone (Punk)\n",
    "- Slim Jim Bites (Blues)\n",
    "- Meteor and the Girls (Pop)\n",
    "\n",
    "It's worth keeping in mind that combined, these three genres only make up only 17% of total sales, so we should be on the lookout for artists and albums from the 'rock' genre, which accounts for 53% of sales."
   ]
  },
  {
   "cell_type": "markdown",
   "metadata": {
    "heading_collapsed": true
   },
   "source": [
    "## Analyzing Employee Sales Performance"
   ]
  },
  {
   "cell_type": "code",
   "execution_count": 4,
   "metadata": {
    "hidden": true
   },
   "outputs": [
    {
     "data": {
      "text/html": [
       "<div>\n",
       "<table border=\"1\" class=\"dataframe\">\n",
       "  <thead>\n",
       "    <tr style=\"text-align: right;\">\n",
       "      <th></th>\n",
       "      <th>employee</th>\n",
       "      <th>hire_date</th>\n",
       "      <th>total_sales</th>\n",
       "    </tr>\n",
       "  </thead>\n",
       "  <tbody>\n",
       "    <tr>\n",
       "      <th>0</th>\n",
       "      <td>Jane Peacock</td>\n",
       "      <td>2017-04-01 00:00:00</td>\n",
       "      <td>1731.51</td>\n",
       "    </tr>\n",
       "    <tr>\n",
       "      <th>1</th>\n",
       "      <td>Margaret Park</td>\n",
       "      <td>2017-05-03 00:00:00</td>\n",
       "      <td>1584.00</td>\n",
       "    </tr>\n",
       "    <tr>\n",
       "      <th>2</th>\n",
       "      <td>Steve Johnson</td>\n",
       "      <td>2017-10-17 00:00:00</td>\n",
       "      <td>1393.92</td>\n",
       "    </tr>\n",
       "  </tbody>\n",
       "</table>\n",
       "</div>"
      ],
      "text/plain": [
       "        employee            hire_date  total_sales\n",
       "0   Jane Peacock  2017-04-01 00:00:00      1731.51\n",
       "1  Margaret Park  2017-05-03 00:00:00      1584.00\n",
       "2  Steve Johnson  2017-10-17 00:00:00      1393.92"
      ]
     },
     "execution_count": 4,
     "metadata": {},
     "output_type": "execute_result"
    }
   ],
   "source": [
    "employee_sales_performance = '''\n",
    "WITH customer_support_rep_sales AS\n",
    "    (\n",
    "     SELECT\n",
    "         i.customer_id,\n",
    "         c.support_rep_id,\n",
    "         SUM(i.total) total\n",
    "     FROM invoice i\n",
    "     INNER JOIN customer c ON i.customer_id = c.customer_id\n",
    "     GROUP BY 1,2\n",
    "    )\n",
    "\n",
    "SELECT\n",
    "    e.first_name || \" \" || e.last_name employee,\n",
    "    e.hire_date,\n",
    "    SUM(csrs.total) total_sales\n",
    "FROM customer_support_rep_sales csrs\n",
    "INNER JOIN employee e ON e.employee_id = csrs.support_rep_id\n",
    "GROUP BY 1;\n",
    "'''\n",
    "\n",
    "run_query(employee_sales_performance)"
   ]
  },
  {
   "cell_type": "code",
   "execution_count": 5,
   "metadata": {
    "hidden": true,
    "scrolled": false
   },
   "outputs": [
    {
     "data": {
      "image/png": "[encoded data removed]",
      "text/plain": [
       "<matplotlib.figure.Figure at 0x112492668>"
      ]
     },
     "metadata": {},
     "output_type": "display_data"
    }
   ],
   "source": [
    "employee_sales = run_query(employee_sales_performance)\n",
    "\n",
    "employee_sales.set_index(\"employee\", drop=True, inplace=True)\n",
    "employee_sales.sort_values(\"total_sales\", inplace=True)\n",
    "employee_sales.plot.barh(\n",
    "    legend=False,\n",
    "    title='Sales Breakdown by Employee',\n",
    "    colormap=plt.cm.Accent\n",
    ")\n",
    "plt.ylabel('')\n",
    "plt.show()"
   ]
  },
  {
   "cell_type": "markdown",
   "metadata": {
    "hidden": true
   },
   "source": [
    "While there is a 20% difference in sales between Jane (the top employee) and Steve (the bottom employee), the difference roughly corresponds with the differences in their hiring dates."
   ]
  },
  {
   "cell_type": "markdown",
   "metadata": {
    "heading_collapsed": true
   },
   "source": [
    "## Analyzing Sales by Country"
   ]
  },
  {
   "cell_type": "code",
   "execution_count": 6,
   "metadata": {
    "hidden": true
   },
   "outputs": [
    {
     "data": {
      "text/html": [
       "<div>\n",
       "<table border=\"1\" class=\"dataframe\">\n",
       "  <thead>\n",
       "    <tr style=\"text-align: right;\">\n",
       "      <th></th>\n",
       "      <th>country</th>\n",
       "      <th>customers</th>\n",
       "      <th>total_sales</th>\n",
       "      <th>average_order</th>\n",
       "      <th>customer_lifetime_value</th>\n",
       "    </tr>\n",
       "  </thead>\n",
       "  <tbody>\n",
       "    <tr>\n",
       "      <th>0</th>\n",
       "      <td>USA</td>\n",
       "      <td>13</td>\n",
       "      <td>1040.49</td>\n",
       "      <td>7.942672</td>\n",
       "      <td>80.037692</td>\n",
       "    </tr>\n",
       "    <tr>\n",
       "      <th>1</th>\n",
       "      <td>Canada</td>\n",
       "      <td>8</td>\n",
       "      <td>535.59</td>\n",
       "      <td>7.047237</td>\n",
       "      <td>66.948750</td>\n",
       "    </tr>\n",
       "    <tr>\n",
       "      <th>2</th>\n",
       "      <td>Brazil</td>\n",
       "      <td>5</td>\n",
       "      <td>427.68</td>\n",
       "      <td>7.011148</td>\n",
       "      <td>85.536000</td>\n",
       "    </tr>\n",
       "    <tr>\n",
       "      <th>3</th>\n",
       "      <td>France</td>\n",
       "      <td>5</td>\n",
       "      <td>389.07</td>\n",
       "      <td>7.781400</td>\n",
       "      <td>77.814000</td>\n",
       "    </tr>\n",
       "    <tr>\n",
       "      <th>4</th>\n",
       "      <td>Germany</td>\n",
       "      <td>4</td>\n",
       "      <td>334.62</td>\n",
       "      <td>8.161463</td>\n",
       "      <td>83.655000</td>\n",
       "    </tr>\n",
       "    <tr>\n",
       "      <th>5</th>\n",
       "      <td>Czech Republic</td>\n",
       "      <td>2</td>\n",
       "      <td>273.24</td>\n",
       "      <td>9.108000</td>\n",
       "      <td>136.620000</td>\n",
       "    </tr>\n",
       "    <tr>\n",
       "      <th>6</th>\n",
       "      <td>United Kingdom</td>\n",
       "      <td>3</td>\n",
       "      <td>245.52</td>\n",
       "      <td>8.768571</td>\n",
       "      <td>81.840000</td>\n",
       "    </tr>\n",
       "    <tr>\n",
       "      <th>7</th>\n",
       "      <td>Portugal</td>\n",
       "      <td>2</td>\n",
       "      <td>185.13</td>\n",
       "      <td>6.383793</td>\n",
       "      <td>92.565000</td>\n",
       "    </tr>\n",
       "    <tr>\n",
       "      <th>8</th>\n",
       "      <td>India</td>\n",
       "      <td>2</td>\n",
       "      <td>183.15</td>\n",
       "      <td>8.721429</td>\n",
       "      <td>91.575000</td>\n",
       "    </tr>\n",
       "    <tr>\n",
       "      <th>9</th>\n",
       "      <td>Other</td>\n",
       "      <td>15</td>\n",
       "      <td>1094.94</td>\n",
       "      <td>7.448571</td>\n",
       "      <td>72.996000</td>\n",
       "    </tr>\n",
       "  </tbody>\n",
       "</table>\n",
       "</div>"
      ],
      "text/plain": [
       "          country  customers  total_sales  average_order  \\\n",
       "0             USA         13      1040.49       7.942672   \n",
       "1          Canada          8       535.59       7.047237   \n",
       "2          Brazil          5       427.68       7.011148   \n",
       "3          France          5       389.07       7.781400   \n",
       "4         Germany          4       334.62       8.161463   \n",
       "5  Czech Republic          2       273.24       9.108000   \n",
       "6  United Kingdom          3       245.52       8.768571   \n",
       "7        Portugal          2       185.13       6.383793   \n",
       "8           India          2       183.15       8.721429   \n",
       "9           Other         15      1094.94       7.448571   \n",
       "\n",
       "   customer_lifetime_value  \n",
       "0                80.037692  \n",
       "1                66.948750  \n",
       "2                85.536000  \n",
       "3                77.814000  \n",
       "4                83.655000  \n",
       "5               136.620000  \n",
       "6                81.840000  \n",
       "7                92.565000  \n",
       "8                91.575000  \n",
       "9                72.996000  "
      ]
     },
     "execution_count": 6,
     "metadata": {},
     "output_type": "execute_result"
    }
   ],
   "source": [
    "sales_by_country = '''\n",
    "WITH country_or_other AS\n",
    "    (\n",
    "     SELECT\n",
    "       CASE\n",
    "           WHEN (\n",
    "                 SELECT count(*)\n",
    "                 FROM customer\n",
    "                 where country = c.country\n",
    "                ) = 1 THEN \"Other\"\n",
    "           ELSE c.country\n",
    "       END AS country,\n",
    "       c.customer_id,\n",
    "       il.*\n",
    "     FROM invoice_line il\n",
    "     INNER JOIN invoice i ON i.invoice_id = il.invoice_id\n",
    "     INNER JOIN customer c ON c.customer_id = i.customer_id\n",
    "    )\n",
    "\n",
    "SELECT\n",
    "    country,\n",
    "    customers,\n",
    "    total_sales,\n",
    "    average_order,\n",
    "    customer_lifetime_value\n",
    "FROM\n",
    "    (\n",
    "    SELECT\n",
    "        country,\n",
    "        count(distinct customer_id) customers,\n",
    "        SUM(unit_price) total_sales,\n",
    "        SUM(unit_price) / count(distinct customer_id) customer_lifetime_value,\n",
    "        SUM(unit_price) / count(distinct invoice_id) average_order,\n",
    "        CASE\n",
    "            WHEN country = \"Other\" THEN 1\n",
    "            ELSE 0\n",
    "        END AS sort\n",
    "    FROM country_or_other\n",
    "    GROUP BY country\n",
    "    ORDER BY sort ASC, total_sales DESC\n",
    "    );\n",
    "'''\n",
    "\n",
    "run_query(sales_by_country)"
   ]
  },
  {
   "cell_type": "markdown",
   "metadata": {
    "heading_collapsed": true
   },
   "source": [
    "## Visualizing Sales by Country"
   ]
  },
  {
   "cell_type": "code",
   "execution_count": 7,
   "metadata": {
    "hidden": true,
    "scrolled": false
   },
   "outputs": [
    {
     "data": {
      "image/png": "[encoded data removed]",
      "text/plain": [
       "<matplotlib.figure.Figure at 0x112ad3b38>"
      ]
     },
     "metadata": {},
     "output_type": "display_data"
    }
   ],
   "source": [
    "country_metrics = run_query(sales_by_country)\n",
    "country_metrics.set_index(\"country\", drop=True, inplace=True)\n",
    "colors = [plt.cm.Accent(i) for i in np.linspace(0, 1, country_metrics.shape[0])]\n",
    "\n",
    "fig, axes = plt.subplots(nrows=2, ncols=2, figsize=(9, 10))\n",
    "ax1, ax2, ax3, ax4 = axes.flatten()\n",
    "fig.subplots_adjust(hspace=.5, wspace=.3)\n",
    "\n",
    "\n",
    "# top left\n",
    "sales_breakdown = country_metrics[\"total_sales\"].copy().rename('')\n",
    "sales_breakdown.plot.pie(\n",
    "    ax=ax1,\n",
    "    startangle=-90,\n",
    "    counterclock=False,\n",
    "    title='Sales Breakdown by Country,\\nNumber of Customers',\n",
    "    colormap=plt.cm.Accent,\n",
    "    fontsize=8,\n",
    "    wedgeprops={'linewidth':0}\n",
    "    \n",
    ")\n",
    "\n",
    "# top right\n",
    "cvd_cols = [\"customers\",\"total_sales\"]\n",
    "custs_vs_dollars = country_metrics[cvd_cols].copy()\n",
    "custs_vs_dollars.index.name = ''\n",
    "for c in cvd_cols:\n",
    "    custs_vs_dollars[c] /= custs_vs_dollars[c].sum() / 100\n",
    "custs_vs_dollars.plot.bar(\n",
    "    ax=ax2,\n",
    "    colormap=plt.cm.Set1,\n",
    "    title=\"Pct Customers vs Sales\"\n",
    ")\n",
    "ax2.tick_params(top=\"off\", right=\"off\", left=\"off\", bottom=\"off\")\n",
    "ax2.spines[\"top\"].set_visible(False)\n",
    "ax2.spines[\"right\"].set_visible(False)\n",
    "\n",
    "\n",
    "# bottom left\n",
    "avg_order = country_metrics[\"average_order\"].copy()\n",
    "avg_order.index.name = ''\n",
    "difference_from_avg = avg_order * 100 / avg_order.mean() - 100\n",
    "difference_from_avg.drop(\"Other\", inplace=True)\n",
    "difference_from_avg.plot.bar(\n",
    "    ax=ax3,\n",
    "    color=colors,\n",
    "    title=\"Average Order,\\nPct Difference from Mean\"\n",
    ")\n",
    "ax3.tick_params(top=\"off\", right=\"off\", left=\"off\", bottom=\"off\")\n",
    "ax3.axhline(0, color='k')\n",
    "ax3.spines[\"top\"].set_visible(False)\n",
    "ax3.spines[\"right\"].set_visible(False)\n",
    "ax3.spines[\"bottom\"].set_visible(False)\n",
    "\n",
    "# bottom right\n",
    "ltv = country_metrics[\"customer_lifetime_value\"].copy()\n",
    "ltv.index.name = ''\n",
    "ltv.drop(\"Other\",inplace=True)\n",
    "ltv.plot.bar(\n",
    "    ax=ax4,\n",
    "    color=colors,\n",
    "    title=\"Customer Lifetime Value, Dollars\"\n",
    ")\n",
    "ax4.tick_params(top=\"off\", right=\"off\", left=\"off\", bottom=\"off\")\n",
    "ax4.spines[\"top\"].set_visible(False)\n",
    "ax4.spines[\"right\"].set_visible(False)\n",
    "\n",
    "plt.show()"
   ]
  },
  {
   "cell_type": "markdown",
   "metadata": {
    "hidden": true
   },
   "source": [
    "Based on the data, there may be opportunity in the following countries:\n",
    "\n",
    "- Czech Republic\n",
    "- United Kingdom\n",
    "- India\n",
    "\n",
    "It's worth keeping in mind that because the amount of data from each of these countries is relatively low.  Because of this, we should be cautious spending too much money on new marketing campaigns, as the sample size is not large enough to give us high confidence.  A better approach would be to run small campaigns in these countries, collecting and analyzing the new customers to make sure that these trends hold with new customers."
   ]
  },
  {
   "cell_type": "markdown",
   "metadata": {
    "heading_collapsed": true
   },
   "source": [
    "## Albums vs Individual Tracks"
   ]
  },
  {
   "cell_type": "code",
   "execution_count": 8,
   "metadata": {
    "hidden": true,
    "scrolled": false
   },
   "outputs": [
    {
     "data": {
      "text/html": [
       "<div>\n",
       "<table border=\"1\" class=\"dataframe\">\n",
       "  <thead>\n",
       "    <tr style=\"text-align: right;\">\n",
       "      <th></th>\n",
       "      <th>album_purchase</th>\n",
       "      <th>number_of_invoices</th>\n",
       "      <th>percent</th>\n",
       "    </tr>\n",
       "  </thead>\n",
       "  <tbody>\n",
       "    <tr>\n",
       "      <th>0</th>\n",
       "      <td>no</td>\n",
       "      <td>500</td>\n",
       "      <td>0.814332</td>\n",
       "    </tr>\n",
       "    <tr>\n",
       "      <th>1</th>\n",
       "      <td>yes</td>\n",
       "      <td>114</td>\n",
       "      <td>0.185668</td>\n",
       "    </tr>\n",
       "  </tbody>\n",
       "</table>\n",
       "</div>"
      ],
      "text/plain": [
       "  album_purchase  number_of_invoices   percent\n",
       "0             no                 500  0.814332\n",
       "1            yes                 114  0.185668"
      ]
     },
     "execution_count": 8,
     "metadata": {},
     "output_type": "execute_result"
    }
   ],
   "source": [
    "albums_vs_tracks = '''\n",
    "WITH invoice_first_track AS\n",
    "    (\n",
    "     SELECT\n",
    "         il.invoice_id invoice_id,\n",
    "         MIN(il.track_id) first_track_id\n",
    "     FROM invoice_line il\n",
    "     GROUP BY 1\n",
    "    )\n",
    "\n",
    "SELECT\n",
    "    album_purchase,\n",
    "    COUNT(invoice_id) number_of_invoices,\n",
    "    CAST(count(invoice_id) AS FLOAT) / (\n",
    "                                         SELECT COUNT(*) FROM invoice\n",
    "                                      ) percent\n",
    "FROM\n",
    "    (\n",
    "    SELECT\n",
    "        ifs.*,\n",
    "        CASE\n",
    "            WHEN\n",
    "                 (\n",
    "                  SELECT t.track_id FROM track t\n",
    "                  WHERE t.album_id = (\n",
    "                                      SELECT t2.album_id FROM track t2\n",
    "                                      WHERE t2.track_id = ifs.first_track_id\n",
    "                                     ) \n",
    "\n",
    "                  EXCEPT \n",
    "\n",
    "                  SELECT il2.track_id FROM invoice_line il2\n",
    "                  WHERE il2.invoice_id = ifs.invoice_id\n",
    "                 ) IS NULL\n",
    "             AND\n",
    "                 (\n",
    "                  SELECT il2.track_id FROM invoice_line il2\n",
    "                  WHERE il2.invoice_id = ifs.invoice_id\n",
    "\n",
    "                  EXCEPT \n",
    "\n",
    "                  SELECT t.track_id FROM track t\n",
    "                  WHERE t.album_id = (\n",
    "                                      SELECT t2.album_id FROM track t2\n",
    "                                      WHERE t2.track_id = ifs.first_track_id\n",
    "                                     ) \n",
    "                 ) IS NULL\n",
    "             THEN \"yes\"\n",
    "             ELSE \"no\"\n",
    "         END AS \"album_purchase\"\n",
    "     FROM invoice_first_track ifs\n",
    "    )\n",
    "GROUP BY album_purchase;\n",
    "'''\n",
    "\n",
    "run_query(albums_vs_tracks)"
   ]
  },
  {
   "cell_type": "markdown",
   "metadata": {
    "hidden": true
   },
   "source": [
    "Album purchases account for 18.6% of purchases.  Based on this data, I would recommend against purchasing only select tracks from albums from record companies, since there is potential to lose one fifth of revenue."
   ]
  }
 ],
 "metadata": {
  "kernelspec": {
   "display_name": "dscontent",
   "language": "python",
   "name": "dscontent"
  },
  "language_info": {
   "codemirror_mode": {
    "name": "ipython",
    "version": 3
   },
   "file_extension": ".py",
   "mimetype": "text/x-python",
   "name": "python",
   "nbconvert_exporter": "python",
   "pygments_lexer": "ipython3",
   "version": "3.4.4"
  },
  "notify_time": "30"
 },
 "nbformat": 4,
 "nbformat_minor": 2
}
