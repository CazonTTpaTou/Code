{
 "cells": [
  {
   "cell_type": "markdown",
   "metadata": {},
   "source": [
    "# Spark SQL"
   ]
  },
  {
   "cell_type": "code",
   "execution_count": null,
   "metadata": {},
   "outputs": [],
   "source": [
    "# Find path to PySpark.\n",
    "import findspark\n",
    "findspark.init()"
   ]
  },
  {
   "cell_type": "code",
   "execution_count": 2,
   "metadata": {},
   "outputs": [],
   "source": [
    "# Import PySpark and initialize SparkContext object.\n",
    "import pyspark\n",
    "sc = pyspark.SparkContext()"
   ]
  },
  {
   "cell_type": "code",
   "execution_count": 10,
   "metadata": {},
   "outputs": [],
   "source": [
    "# Read `recent-grads.csv` in to an RDD.\n",
    "path ='E:\\\\OneDrive\\\\Formation\\\\2018 - DataQuest\\\\Codes\\\\_Solutions-master'\n",
    "file = 'recent-grads.csv'\n",
    "file_path = '\\\\'.join([path,file])\n",
    "\n",
    "f = sc.textFile(file_path)"
   ]
  },
  {
   "cell_type": "markdown",
   "metadata": {},
   "source": [
    "## RDD Transformations"
   ]
  },
  {
   "cell_type": "code",
   "execution_count": 11,
   "metadata": {},
   "outputs": [],
   "source": [
    "# Slice data in lines\n",
    "data = f.map(lambda line: line.split('\\n'))"
   ]
  },
  {
   "cell_type": "code",
   "execution_count": 6,
   "metadata": {},
   "outputs": [
    {
     "data": {
      "text/plain": [
       "[['Rank,Major_code,Major,Total,Men,Women,Major_category,ShareWomen,Sample_size,Employed,Full_time,Part_time,Full_time_year_round,Unemployed,Unemployment_rate,Median,P25th,P75th,College_jobs,Non_college_jobs,Low_wage_jobs'],\n",
       " ['1,2419,PETROLEUM ENGINEERING,2339,2057,282,Engineering,0.120564344,36,1976,1849,270,1207,37,0.018380527,110000,95000,125000,1534,364,193'],\n",
       " ['2,2416,MINING AND MINERAL ENGINEERING,756,679,77,Engineering,0.101851852,7,640,556,170,388,85,0.117241379,75000,55000,90000,350,257,50'],\n",
       " ['3,2415,METALLURGICAL ENGINEERING,856,725,131,Engineering,0.153037383,3,648,558,133,340,16,0.024096386,73000,50000,105000,456,176,0'],\n",
       " ['4,2417,NAVAL ARCHITECTURE AND MARINE ENGINEERING,1258,1123,135,Engineering,0.107313196,16,758,1069,150,692,40,0.050125313,70000,43000,80000,529,102,0']]"
      ]
     },
     "execution_count": 6,
     "metadata": {},
     "output_type": "execute_result"
    }
   ],
   "source": [
    "data.take(5)"
   ]
  },
  {
   "cell_type": "code",
   "execution_count": 21,
   "metadata": {},
   "outputs": [
    {
     "name": "stdout",
     "output_type": "stream",
     "text": [
      "2,2416,MINING AND MINERAL ENGINEERING,756,679,77,Engineering,0.101851852,7,640,556,170,388,85,0.117241379,75000,55000,90000,350,257,50\n"
     ]
    }
   ],
   "source": [
    "s = ['2,2416,MINING AND MINERAL ENGINEERING,756,679,77,Engineering,0.101851852,7,640,556,170,388,85,0.117241379,75000,55000,90000,350,257,50']\n",
    "for i in s:\n",
    "    print(i)"
   ]
  },
  {
   "cell_type": "code",
   "execution_count": 22,
   "metadata": {},
   "outputs": [
    {
     "data": {
      "text/plain": [
       "'2,2416,MINING AND MINERAL ENGINEERING,756,679,77,Engineering,0.101851852,7,640,556,170,388,85,0.117241379,75000,55000,90000,350,257,50'"
      ]
     },
     "execution_count": 22,
     "metadata": {},
     "output_type": "execute_result"
    }
   ],
   "source": [
    "s[0]"
   ]
  },
  {
   "cell_type": "code",
   "execution_count": 25,
   "metadata": {},
   "outputs": [],
   "source": [
    "def Search_Job(line):\n",
    "    id = line[0] \n",
    "    if 'ENGINEERING' in line[0]:\n",
    "        yield id,'Good Job :'\n",
    "        \n",
    "good_jobs = data.flatMap(lambda x:Search_Job(x))  \n",
    "    "
   ]
  },
  {
   "cell_type": "code",
   "execution_count": 26,
   "metadata": {},
   "outputs": [
    {
     "data": {
      "text/plain": [
       "[('1,2419,PETROLEUM ENGINEERING,2339,2057,282,Engineering,0.120564344,36,1976,1849,270,1207,37,0.018380527,110000,95000,125000,1534,364,193',\n",
       "  'Good Job :'),\n",
       " ('2,2416,MINING AND MINERAL ENGINEERING,756,679,77,Engineering,0.101851852,7,640,556,170,388,85,0.117241379,75000,55000,90000,350,257,50',\n",
       "  'Good Job :'),\n",
       " ('3,2415,METALLURGICAL ENGINEERING,856,725,131,Engineering,0.153037383,3,648,558,133,340,16,0.024096386,73000,50000,105000,456,176,0',\n",
       "  'Good Job :'),\n",
       " ('4,2417,NAVAL ARCHITECTURE AND MARINE ENGINEERING,1258,1123,135,Engineering,0.107313196,16,758,1069,150,692,40,0.050125313,70000,43000,80000,529,102,0',\n",
       "  'Good Job :'),\n",
       " ('5,2405,CHEMICAL ENGINEERING,32260,21239,11021,Engineering,0.341630502,289,25694,23170,5180,16697,1672,0.061097712,65000,50000,75000,18314,4440,972',\n",
       "  'Good Job :')]"
      ]
     },
     "execution_count": 26,
     "metadata": {},
     "output_type": "execute_result"
    }
   ],
   "source": [
    "good_jobs.take(5)"
   ]
  },
  {
   "cell_type": "code",
   "execution_count": 27,
   "metadata": {},
   "outputs": [],
   "source": [
    "def naval_job(line):\n",
    "    if 'naval' in line[0].lower():\n",
    "        return True\n",
    "    else:\n",
    "        return False\n",
    "    \n",
    "sea_jobs = data.filter(lambda x:naval_job(x))    \n"
   ]
  },
  {
   "cell_type": "code",
   "execution_count": 28,
   "metadata": {},
   "outputs": [
    {
     "data": {
      "text/plain": [
       "[['4,2417,NAVAL ARCHITECTURE AND MARINE ENGINEERING,1258,1123,135,Engineering,0.107313196,16,758,1069,150,692,40,0.050125313,70000,43000,80000,529,102,0']]"
      ]
     },
     "execution_count": 28,
     "metadata": {},
     "output_type": "execute_result"
    }
   ],
   "source": [
    "sea_jobs.take(5)"
   ]
  },
  {
   "cell_type": "markdown",
   "metadata": {},
   "source": [
    "## RDD Actions"
   ]
  },
  {
   "cell_type": "code",
   "execution_count": 29,
   "metadata": {},
   "outputs": [
    {
     "data": {
      "text/plain": [
       "174"
      ]
     },
     "execution_count": 29,
     "metadata": {},
     "output_type": "execute_result"
    }
   ],
   "source": [
    "data_count = data.count()\n",
    "data_count"
   ]
  },
  {
   "cell_type": "code",
   "execution_count": 31,
   "metadata": {},
   "outputs": [
    {
     "data": {
      "text/plain": [
       "[['Rank,Major_code,Major,Total,Men,Women,Major_category,ShareWomen,Sample_size,Employed,Full_time,Part_time,Full_time_year_round,Unemployed,Unemployment_rate,Median,P25th,P75th,College_jobs,Non_college_jobs,Low_wage_jobs'],\n",
       " ['1,2419,PETROLEUM ENGINEERING,2339,2057,282,Engineering,0.120564344,36,1976,1849,270,1207,37,0.018380527,110000,95000,125000,1534,364,193'],\n",
       " ['2,2416,MINING AND MINERAL ENGINEERING,756,679,77,Engineering,0.101851852,7,640,556,170,388,85,0.117241379,75000,55000,90000,350,257,50']]"
      ]
     },
     "execution_count": 31,
     "metadata": {},
     "output_type": "execute_result"
    }
   ],
   "source": [
    "data_collect = data.collect()[:3]\n",
    "data_collect"
   ]
  },
  {
   "cell_type": "markdown",
   "metadata": {},
   "source": [
    "## Transforming Dataset"
   ]
  },
  {
   "cell_type": "code",
   "execution_count": 43,
   "metadata": {},
   "outputs": [],
   "source": [
    "def return_id(line):\n",
    "    data = line[0]\n",
    "    if data[0]!='R':\n",
    "        raw_data = data.split(',')\n",
    "        return int(raw_data[0])\n",
    "    \n",
    "data_ids = data.map(lambda line:return_id(line))    \n"
   ]
  },
  {
   "cell_type": "code",
   "execution_count": 45,
   "metadata": {},
   "outputs": [
    {
     "data": {
      "text/plain": [
       "[None, 1, 2, 3, 4]"
      ]
     },
     "execution_count": 45,
     "metadata": {},
     "output_type": "execute_result"
    }
   ],
   "source": [
    "list_data_ids = data_ids.collect()\n",
    "list_data_ids[:5]"
   ]
  },
  {
   "cell_type": "code",
   "execution_count": 46,
   "metadata": {},
   "outputs": [
    {
     "data": {
      "text/plain": [
       "[1, 2, 3, 4, 5]"
      ]
     },
     "execution_count": 46,
     "metadata": {},
     "output_type": "execute_result"
    }
   ],
   "source": [
    "real_text = data_ids.filter(lambda x:x is not None)\n",
    "\n",
    "list_data_ids = real_text.collect()\n",
    "list_data_ids[:5]"
   ]
  },
  {
   "cell_type": "markdown",
   "metadata": {},
   "source": [
    "## Spark DataFrames"
   ]
  },
  {
   "cell_type": "code",
   "execution_count": 62,
   "metadata": {},
   "outputs": [],
   "source": [
    "import csv\n",
    "with open(file_path,'r') as f:\n",
    "    body=list(csv.reader(f))\n",
    "            "
   ]
  },
  {
   "cell_type": "code",
   "execution_count": 65,
   "metadata": {},
   "outputs": [],
   "source": [
    "header = body[:1][0]\n",
    "body = body[1:]"
   ]
  },
  {
   "cell_type": "code",
   "execution_count": 47,
   "metadata": {},
   "outputs": [],
   "source": [
    "# Import SQLContext\n",
    "from pyspark.sql import SQLContext\n",
    "\n",
    "# Pass in the SparkContext object `sc`\n",
    "sqlCtx = SQLContext(sc)"
   ]
  },
  {
   "cell_type": "code",
   "execution_count": 68,
   "metadata": {},
   "outputs": [],
   "source": [
    "df = sqlCtx.read.csv(file_path,\n",
    "                     header=True)"
   ]
  },
  {
   "cell_type": "code",
   "execution_count": 69,
   "metadata": {},
   "outputs": [
    {
     "name": "stdout",
     "output_type": "stream",
     "text": [
      "<class 'pyspark.sql.dataframe.DataFrame'>\n"
     ]
    }
   ],
   "source": [
    "print(type(df))"
   ]
  },
  {
   "cell_type": "code",
   "execution_count": 50,
   "metadata": {},
   "outputs": [
    {
     "name": "stdout",
     "output_type": "stream",
     "text": [
      "root\n",
      " |-- _c0: string (nullable = true)\n",
      " |-- _c1: string (nullable = true)\n",
      " |-- _c2: string (nullable = true)\n",
      " |-- _c3: string (nullable = true)\n",
      " |-- _c4: string (nullable = true)\n",
      " |-- _c5: string (nullable = true)\n",
      " |-- _c6: string (nullable = true)\n",
      " |-- _c7: string (nullable = true)\n",
      " |-- _c8: string (nullable = true)\n",
      " |-- _c9: string (nullable = true)\n",
      " |-- _c10: string (nullable = true)\n",
      " |-- _c11: string (nullable = true)\n",
      " |-- _c12: string (nullable = true)\n",
      " |-- _c13: string (nullable = true)\n",
      " |-- _c14: string (nullable = true)\n",
      " |-- _c15: string (nullable = true)\n",
      " |-- _c16: string (nullable = true)\n",
      " |-- _c17: string (nullable = true)\n",
      " |-- _c18: string (nullable = true)\n",
      " |-- _c19: string (nullable = true)\n",
      " |-- _c20: string (nullable = true)\n",
      "\n"
     ]
    }
   ],
   "source": [
    "df.printSchema()"
   ]
  },
  {
   "cell_type": "code",
   "execution_count": 70,
   "metadata": {},
   "outputs": [
    {
     "name": "stdout",
     "output_type": "stream",
     "text": [
      "+----+----------+--------------------+-----+-----+-----+--------------+-----------+-----------+--------+---------+---------+--------------------+----------+-----------------+------+-----+------+------------+----------------+-------------+\n",
      "|Rank|Major_code|               Major|Total|  Men|Women|Major_category| ShareWomen|Sample_size|Employed|Full_time|Part_time|Full_time_year_round|Unemployed|Unemployment_rate|Median|P25th| P75th|College_jobs|Non_college_jobs|Low_wage_jobs|\n",
      "+----+----------+--------------------+-----+-----+-----+--------------+-----------+-----------+--------+---------+---------+--------------------+----------+-----------------+------+-----+------+------------+----------------+-------------+\n",
      "|   1|      2419|PETROLEUM ENGINEE...| 2339| 2057|  282|   Engineering|0.120564344|         36|    1976|     1849|      270|                1207|        37|      0.018380527|110000|95000|125000|        1534|             364|          193|\n",
      "|   2|      2416|MINING AND MINERA...|  756|  679|   77|   Engineering|0.101851852|          7|     640|      556|      170|                 388|        85|      0.117241379| 75000|55000| 90000|         350|             257|           50|\n",
      "|   3|      2415|METALLURGICAL ENG...|  856|  725|  131|   Engineering|0.153037383|          3|     648|      558|      133|                 340|        16|      0.024096386| 73000|50000|105000|         456|             176|            0|\n",
      "|   4|      2417|NAVAL ARCHITECTUR...| 1258| 1123|  135|   Engineering|0.107313196|         16|     758|     1069|      150|                 692|        40|      0.050125313| 70000|43000| 80000|         529|             102|            0|\n",
      "|   5|      2405|CHEMICAL ENGINEERING|32260|21239|11021|   Engineering|0.341630502|        289|   25694|    23170|     5180|               16697|      1672|      0.061097712| 65000|50000| 75000|       18314|            4440|          972|\n",
      "+----+----------+--------------------+-----+-----+-----+--------------+-----------+-----------+--------+---------+---------+--------------------+----------+-----------------+------+-----+------+------------+----------------+-------------+\n",
      "only showing top 5 rows\n",
      "\n"
     ]
    }
   ],
   "source": [
    "df.show(5)"
   ]
  },
  {
   "cell_type": "code",
   "execution_count": 71,
   "metadata": {},
   "outputs": [
    {
     "name": "stdout",
     "output_type": "stream",
     "text": [
      "+--------------------+-----+-----+-----+\n",
      "|               Major|Total|  Men|Women|\n",
      "+--------------------+-----+-----+-----+\n",
      "|PETROLEUM ENGINEE...| 2339| 2057|  282|\n",
      "|MINING AND MINERA...|  756|  679|   77|\n",
      "|METALLURGICAL ENG...|  856|  725|  131|\n",
      "|NAVAL ARCHITECTUR...| 1258| 1123|  135|\n",
      "|CHEMICAL ENGINEERING|32260|21239|11021|\n",
      "| NUCLEAR ENGINEERING| 2573| 2200|  373|\n",
      "|   ACTUARIAL SCIENCE| 3777| 2110| 1667|\n",
      "|ASTRONOMY AND AST...| 1792|  832|  960|\n",
      "|MECHANICAL ENGINE...|91227|80320|10907|\n",
      "|ELECTRICAL ENGINE...|81527|65511|16016|\n",
      "|COMPUTER ENGINEERING|41542|33258| 8284|\n",
      "|AEROSPACE ENGINEE...|15058|12953| 2105|\n",
      "|BIOMEDICAL ENGINE...|14955| 8407| 6548|\n",
      "|   MATERIALS SCIENCE| 4279| 2949| 1330|\n",
      "|ENGINEERING MECHA...| 4321| 3526|  795|\n",
      "|BIOLOGICAL ENGINE...| 8925| 6062| 2863|\n",
      "|INDUSTRIAL AND MA...|18968|12453| 6515|\n",
      "| GENERAL ENGINEERING|61152|45683|15469|\n",
      "|ARCHITECTURAL ENG...| 2825| 1835|  990|\n",
      "|     COURT REPORTING| 1148|  877|  271|\n",
      "+--------------------+-----+-----+-----+\n",
      "only showing top 20 rows\n",
      "\n"
     ]
    }
   ],
   "source": [
    "df.select('Major','Total','Men','Women').show()"
   ]
  },
  {
   "cell_type": "code",
   "execution_count": 77,
   "metadata": {},
   "outputs": [
    {
     "name": "stdout",
     "output_type": "stream",
     "text": [
      "+--------------------+-----+-----+-----+\n",
      "|               Major|Total|  Men|Women|\n",
      "+--------------------+-----+-----+-----+\n",
      "|PETROLEUM ENGINEE...| 2339| 2057|  282|\n",
      "|CHEMICAL ENGINEERING|32260|21239|11021|\n",
      "| NUCLEAR ENGINEERING| 2573| 2200|  373|\n",
      "|   ACTUARIAL SCIENCE| 3777| 2110| 1667|\n",
      "|MECHANICAL ENGINE...|91227|80320|10907|\n",
      "+--------------------+-----+-----+-----+\n",
      "only showing top 5 rows\n",
      "\n"
     ]
    }
   ],
   "source": [
    "Major_2000 = df[df['Total']>2000]\n",
    "Major_2000.select('Major','Total','Men','Women').show(5)"
   ]
  },
  {
   "cell_type": "code",
   "execution_count": 83,
   "metadata": {},
   "outputs": [
    {
     "name": "stdout",
     "output_type": "stream",
     "text": [
      "+--------------------+-----+----+-----+\n",
      "|               Major|Total| Men|Women|\n",
      "+--------------------+-----+----+-----+\n",
      "|PETROLEUM ENGINEE...| 2339|2057|  282|\n",
      "|MINING AND MINERA...|  756| 679|   77|\n",
      "|NAVAL ARCHITECTUR...| 1258|1123|  135|\n",
      "| NUCLEAR ENGINEERING| 2573|2200|  373|\n",
      "|ASTRONOMY AND AST...| 1792| 832|  960|\n",
      "+--------------------+-----+----+-----+\n",
      "only showing top 5 rows\n",
      "\n"
     ]
    }
   ],
   "source": [
    "Female = df[df['Women']>=df['Men']].select('Major','Total','Men','Women').show(5)\n",
    "Female"
   ]
  },
  {
   "cell_type": "code",
   "execution_count": 86,
   "metadata": {},
   "outputs": [],
   "source": [
    "pandas_df = df.toPandas()"
   ]
  },
  {
   "cell_type": "code",
   "execution_count": 99,
   "metadata": {},
   "outputs": [],
   "source": [
    "def Men_Women(line):\n",
    "    if line['Women'] and line['Men']:\n",
    "        if line['Women']>=line['Men']:\n",
    "            return True\n",
    "        else:\n",
    "            return False\n",
    "    else:\n",
    "        return False\n",
    "\n",
    "pandas_df = pandas_df.dropna()    \n",
    "pandas_df['Egality']=pandas_df.apply(Men_Women,axis=1)"
   ]
  },
  {
   "cell_type": "code",
   "execution_count": 100,
   "metadata": {},
   "outputs": [
    {
     "data": {
      "text/html": [
       "<div>\n",
       "<style scoped>\n",
       "    .dataframe tbody tr th:only-of-type {\n",
       "        vertical-align: middle;\n",
       "    }\n",
       "\n",
       "    .dataframe tbody tr th {\n",
       "        vertical-align: top;\n",
       "    }\n",
       "\n",
       "    .dataframe thead th {\n",
       "        text-align: right;\n",
       "    }\n",
       "</style>\n",
       "<table border=\"1\" class=\"dataframe\">\n",
       "  <thead>\n",
       "    <tr style=\"text-align: right;\">\n",
       "      <th></th>\n",
       "      <th>Rank</th>\n",
       "      <th>Major_code</th>\n",
       "      <th>Major</th>\n",
       "      <th>Total</th>\n",
       "      <th>Men</th>\n",
       "      <th>Women</th>\n",
       "      <th>Major_category</th>\n",
       "      <th>ShareWomen</th>\n",
       "      <th>Sample_size</th>\n",
       "      <th>Employed</th>\n",
       "      <th>...</th>\n",
       "      <th>Full_time_year_round</th>\n",
       "      <th>Unemployed</th>\n",
       "      <th>Unemployment_rate</th>\n",
       "      <th>Median</th>\n",
       "      <th>P25th</th>\n",
       "      <th>P75th</th>\n",
       "      <th>College_jobs</th>\n",
       "      <th>Non_college_jobs</th>\n",
       "      <th>Low_wage_jobs</th>\n",
       "      <th>Egality</th>\n",
       "    </tr>\n",
       "  </thead>\n",
       "  <tbody>\n",
       "    <tr>\n",
       "      <th>0</th>\n",
       "      <td>1</td>\n",
       "      <td>2419</td>\n",
       "      <td>PETROLEUM ENGINEERING</td>\n",
       "      <td>2339</td>\n",
       "      <td>2057</td>\n",
       "      <td>282</td>\n",
       "      <td>Engineering</td>\n",
       "      <td>0.120564344</td>\n",
       "      <td>36</td>\n",
       "      <td>1976</td>\n",
       "      <td>...</td>\n",
       "      <td>1207</td>\n",
       "      <td>37</td>\n",
       "      <td>0.018380527</td>\n",
       "      <td>110000</td>\n",
       "      <td>95000</td>\n",
       "      <td>125000</td>\n",
       "      <td>1534</td>\n",
       "      <td>364</td>\n",
       "      <td>193</td>\n",
       "      <td>1.0</td>\n",
       "    </tr>\n",
       "    <tr>\n",
       "      <th>1</th>\n",
       "      <td>2</td>\n",
       "      <td>2416</td>\n",
       "      <td>MINING AND MINERAL ENGINEERING</td>\n",
       "      <td>756</td>\n",
       "      <td>679</td>\n",
       "      <td>77</td>\n",
       "      <td>Engineering</td>\n",
       "      <td>0.101851852</td>\n",
       "      <td>7</td>\n",
       "      <td>640</td>\n",
       "      <td>...</td>\n",
       "      <td>388</td>\n",
       "      <td>85</td>\n",
       "      <td>0.117241379</td>\n",
       "      <td>75000</td>\n",
       "      <td>55000</td>\n",
       "      <td>90000</td>\n",
       "      <td>350</td>\n",
       "      <td>257</td>\n",
       "      <td>50</td>\n",
       "      <td>1.0</td>\n",
       "    </tr>\n",
       "    <tr>\n",
       "      <th>2</th>\n",
       "      <td>NaN</td>\n",
       "      <td>NaN</td>\n",
       "      <td>NaN</td>\n",
       "      <td>NaN</td>\n",
       "      <td>NaN</td>\n",
       "      <td>NaN</td>\n",
       "      <td>NaN</td>\n",
       "      <td>NaN</td>\n",
       "      <td>NaN</td>\n",
       "      <td>NaN</td>\n",
       "      <td>...</td>\n",
       "      <td>NaN</td>\n",
       "      <td>NaN</td>\n",
       "      <td>NaN</td>\n",
       "      <td>NaN</td>\n",
       "      <td>NaN</td>\n",
       "      <td>NaN</td>\n",
       "      <td>NaN</td>\n",
       "      <td>NaN</td>\n",
       "      <td>NaN</td>\n",
       "      <td>NaN</td>\n",
       "    </tr>\n",
       "  </tbody>\n",
       "</table>\n",
       "<p>3 rows × 22 columns</p>\n",
       "</div>"
      ],
      "text/plain": [
       "  Rank Major_code                           Major Total   Men Women  \\\n",
       "0    1       2419           PETROLEUM ENGINEERING  2339  2057   282   \n",
       "1    2       2416  MINING AND MINERAL ENGINEERING   756   679    77   \n",
       "2  NaN        NaN                             NaN   NaN   NaN   NaN   \n",
       "\n",
       "  Major_category   ShareWomen Sample_size Employed   ...    \\\n",
       "0    Engineering  0.120564344          36     1976   ...     \n",
       "1    Engineering  0.101851852           7      640   ...     \n",
       "2            NaN          NaN         NaN      NaN   ...     \n",
       "\n",
       "  Full_time_year_round Unemployed Unemployment_rate  Median  P25th   P75th  \\\n",
       "0                 1207         37       0.018380527  110000  95000  125000   \n",
       "1                  388         85       0.117241379   75000  55000   90000   \n",
       "2                  NaN        NaN               NaN     NaN    NaN     NaN   \n",
       "\n",
       "  College_jobs Non_college_jobs Low_wage_jobs Egality  \n",
       "0         1534              364           193     1.0  \n",
       "1          350              257            50     1.0  \n",
       "2          NaN              NaN           NaN     NaN  \n",
       "\n",
       "[3 rows x 22 columns]"
      ]
     },
     "execution_count": 100,
     "metadata": {},
     "output_type": "execute_result"
    }
   ],
   "source": [
    "pandas_df_women = pandas_df.where(pandas_df['Egality']==True)\n",
    "pandas_df_women.head(3)"
   ]
  },
  {
   "cell_type": "code",
   "execution_count": 101,
   "metadata": {},
   "outputs": [
    {
     "data": {
      "image/png": "[encoded data removed]",
      "text/plain": [
       "<Figure size 432x288 with 1 Axes>"
      ]
     },
     "metadata": {},
     "output_type": "display_data"
    }
   ],
   "source": [
    "from matplotlib import pyplot as plt\n",
    "%matplotlib inline\n",
    "\n",
    "pandas_df['Total'].hist()\n",
    "plt.show()"
   ]
  },
  {
   "cell_type": "markdown",
   "metadata": {},
   "source": [
    "## Spark SQL"
   ]
  },
  {
   "cell_type": "code",
   "execution_count": 110,
   "metadata": {},
   "outputs": [],
   "source": [
    "# Import SQLContext\n",
    "from pyspark.sql import SQLContext\n",
    "\n",
    "# Pass in the SparkContext object `sc`\n",
    "sqlCtx = SQLContext(sc)"
   ]
  },
  {
   "cell_type": "code",
   "execution_count": 111,
   "metadata": {},
   "outputs": [],
   "source": [
    "df = sqlCtx.read.csv(file_path,\n",
    "                     header=True)"
   ]
  },
  {
   "cell_type": "code",
   "execution_count": 112,
   "metadata": {},
   "outputs": [
    {
     "name": "stdout",
     "output_type": "stream",
     "text": [
      "['major_results']\n"
     ]
    }
   ],
   "source": [
    "df.registerTempTable('major_results')\n",
    "\n",
    "tables = sqlCtx.tableNames()\n",
    "\n",
    "print(tables)"
   ]
  },
  {
   "cell_type": "code",
   "execution_count": 105,
   "metadata": {},
   "outputs": [
    {
     "name": "stdout",
     "output_type": "stream",
     "text": [
      "+-----+\n",
      "|women|\n",
      "+-----+\n",
      "|  282|\n",
      "|   77|\n",
      "|  131|\n",
      "|  135|\n",
      "|11021|\n",
      "|  373|\n",
      "| 1667|\n",
      "|  960|\n",
      "|10907|\n",
      "|16016|\n",
      "| 8284|\n",
      "| 2105|\n",
      "| 6548|\n",
      "| 1330|\n",
      "|  795|\n",
      "| 2863|\n",
      "| 6515|\n",
      "|15469|\n",
      "|  990|\n",
      "|  271|\n",
      "+-----+\n",
      "only showing top 20 rows\n",
      "\n"
     ]
    }
   ],
   "source": [
    "query = \"SELECT women FROM major_results\"\n",
    "sqlCtx.sql(query).show()"
   ]
  },
  {
   "cell_type": "code",
   "execution_count": 116,
   "metadata": {},
   "outputs": [
    {
     "data": {
      "text/plain": [
       "DataFrame[women: string]"
      ]
     },
     "execution_count": 116,
     "metadata": {},
     "output_type": "execute_result"
    }
   ],
   "source": [
    "query = \"\"\"SELECT men,women FROM major_results\"\"\"\n",
    "\n",
    "df = sqlCtx.sql(query)\n",
    "\n",
    "df.describe().show()"
   ]
  },
  {
   "cell_type": "code",
   "execution_count": null,
   "metadata": {},
   "outputs": [],
   "source": [
    "df1 = sqlCtx.read.csv(file_path,\n",
    "                     header=True)\n",
    "\n",
    "df2 = sqlCtx.read.csv(file_path,\n",
    "                     header=True)\n",
    "\n",
    "tables = sqlCtx.tableNames()\n"
   ]
  },
  {
   "cell_type": "code",
   "execution_count": null,
   "metadata": {},
   "outputs": [],
   "source": [
    "df1.registerTempTable('major1')\n",
    "df2.registerTempTable('major2')\n",
    "\n",
    "query = \"\"\"SELECT \n",
    "                t1.total,\n",
    "                t2.total\n",
    "            FROM \n",
    "                major1 as t1\n",
    "            INNER JOIN \n",
    "                major2 as t2\n",
    "                ON t1.major_code = t2.major_code\n",
    "            \"\"\"\n"
   ]
  },
  {
   "cell_type": "code",
   "execution_count": null,
   "metadata": {},
   "outputs": [],
   "source": [
    "sqlCtx.sql(query).show()"
   ]
  },
  {
   "cell_type": "code",
   "execution_count": null,
   "metadata": {},
   "outputs": [],
   "source": [
    "df1.registerTempTable('major1')\n",
    "df2.registerTempTable('major2')\n",
    "\n",
    "query = \"\"\"SELECT \n",
    "                SUM(t1.total),\n",
    "                SUM(t2.total)\n",
    "            FROM \n",
    "                major1 as t1\n",
    "            INNER JOIN \n",
    "                major2 as t2\n",
    "                ON t1.major_code = t2.major_code\n",
    "            \"\"\"\n"
   ]
  },
  {
   "cell_type": "code",
   "execution_count": null,
   "metadata": {},
   "outputs": [],
   "source": [
    "sqlCtx.sql(query).show()"
   ]
  },
  {
   "cell_type": "code",
   "execution_count": null,
   "metadata": {},
   "outputs": [],
   "source": []
  }
 ],
 "metadata": {
  "kernelspec": {
   "display_name": "Python 3",
   "language": "python",
   "name": "python3"
  },
  "language_info": {
   "codemirror_mode": {
    "name": "ipython",
    "version": 3
   },
   "file_extension": ".py",
   "mimetype": "text/x-python",
   "name": "python",
   "nbconvert_exporter": "python",
   "pygments_lexer": "ipython3",
   "version": "3.6.4"
  }
 },
 "nbformat": 4,
 "nbformat_minor": 2
}
