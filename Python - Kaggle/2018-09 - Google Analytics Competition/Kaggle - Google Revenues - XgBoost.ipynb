{
 "cells": [
  {
   "cell_type": "code",
   "execution_count": 1,
   "metadata": {},
   "outputs": [],
   "source": [
    "import pandas as pd\n",
    "from pandas.io.json import json_normalize\n",
    "import json\n",
    "import numpy as np\n",
    "\n",
    "from sklearn.linear_model import LinearRegression\n",
    "from sklearn.linear_model import LogisticRegression\n",
    "from sklearn.ensemble import RandomForestClassifier\n",
    "from sklearn.feature_selection import RFECV\n",
    "from sklearn.model_selection import GridSearchCV\n",
    "\n",
    "pd.options.mode.chained_assignment = None\n",
    "pd.options.display.max_columns = 999\n"
   ]
  },
  {
   "cell_type": "code",
   "execution_count": 2,
   "metadata": {},
   "outputs": [],
   "source": [
    "\n",
    "def dataset(Path,Name):\n",
    "\n",
    "    pathFile = '\\\\'.join([Path,Name])\n",
    "\n",
    "    dict_cols = ['trafficSource','totals','geoNetwork','device'] \n",
    "\n",
    "    df = pd.read_csv(pathFile, dtype={'fullVisitorId': 'str'}, nrows=None)\n",
    "\n",
    "    for column in dict_cols:\n",
    "        df = df.join(pd.DataFrame(df.pop(column).apply(pd.io.json.loads).values.tolist(), index=df.index))\n",
    "\n",
    "    try:\n",
    "        df['Revenue']=df['transactionRevenue']\n",
    "    except:    \n",
    "        df['Revenue']=0\n",
    "\n",
    "    cols = df.columns.tolist()\n",
    "\n",
    "    print('--'*30)\n",
    "    print(df.shape)\n",
    "\n",
    "    liste_features = ['Revenue',\n",
    "                        'fullVisitorId', \n",
    "                        'bounces', \n",
    "                        'hits', \n",
    "                        'newVisits', \n",
    "                        'pageviews', \n",
    "                        'visits', \n",
    "                        'subContinent', \n",
    "                        'deviceCategory', \n",
    "                        'isMobile']\n",
    "\n",
    "    new_df = df[liste_features]\n",
    "\n",
    "    col_dummies = [                     \n",
    "                        'subContinent', \n",
    "                        'deviceCategory', \n",
    "                        'isMobile']\n",
    "\n",
    "    for col in col_dummies:\n",
    "        dummies = pd.get_dummies(new_df[col],prefix=col)\n",
    "        new_df = pd.concat([new_df,dummies],axis=1)\n",
    "        #new_df.drop(col)\n",
    "\n",
    "\n",
    "    new_df = new_df.drop(col_dummies,axis=1)\n",
    "\n",
    "    return new_df\n"
   ]
  },
  {
   "cell_type": "code",
   "execution_count": 3,
   "metadata": {},
   "outputs": [
    {
     "name": "stdout",
     "output_type": "stream",
     "text": [
      "------------------------------------------------------------\n",
      "(903653, 51)\n"
     ]
    }
   ],
   "source": [
    "Path = 'c:\\\\users\\\\monne\\\\Desktop\\\\Google Analytics Customers'\n",
    "Name = 'train.csv'\n",
    "\n",
    "train_features = dataset(Path,Name)"
   ]
  },
  {
   "cell_type": "code",
   "execution_count": 4,
   "metadata": {},
   "outputs": [
    {
     "name": "stdout",
     "output_type": "stream",
     "text": [
      "(903653, 35)\n"
     ]
    }
   ],
   "source": [
    "train_features = train_features.fillna(0)\n",
    "print(train_features.shape)"
   ]
  },
  {
   "cell_type": "code",
   "execution_count": 5,
   "metadata": {},
   "outputs": [
    {
     "name": "stdout",
     "output_type": "stream",
     "text": [
      "(903653,)\n",
      "(903653,)\n"
     ]
    }
   ],
   "source": [
    "train_target = train_features.pop('Revenue')\n",
    "train_id = train_features.pop('fullVisitorId')\n",
    "print(train_target.shape)\n",
    "print(train_id.shape)"
   ]
  },
  {
   "cell_type": "code",
   "execution_count": 6,
   "metadata": {},
   "outputs": [
    {
     "name": "stdout",
     "output_type": "stream",
     "text": [
      "<class 'pandas.core.series.Series'>\n"
     ]
    }
   ],
   "source": [
    "train_targets = train_target.copy()\n",
    "print(type(train_targets))"
   ]
  },
  {
   "cell_type": "code",
   "execution_count": 7,
   "metadata": {},
   "outputs": [
    {
     "name": "stdout",
     "output_type": "stream",
     "text": [
      "0\n",
      "[1.00000000e+00 3.78600010e+07 3.06670001e+08 ... 3.35260001e+08\n",
      " 3.07500010e+07 6.93900010e+07]\n",
      "23129500001.0\n",
      "1.0\n"
     ]
    }
   ],
   "source": [
    "train_targets = train_targets.fillna(0)\n",
    "print(train_targets.isna().sum())\n",
    "train_targets = train_targets.astype(np.float)\n",
    "train_targets = train_targets + 1\n",
    "print(train_targets.unique())\n",
    "print(train_targets.max())\n",
    "print(train_targets.min())"
   ]
  },
  {
   "cell_type": "code",
   "execution_count": 8,
   "metadata": {},
   "outputs": [
    {
     "name": "stdout",
     "output_type": "stream",
     "text": [
      "[ 0.         17.44940573 19.54128281 ... 19.63041691 17.24140058\n",
      " 18.05525334]\n"
     ]
    }
   ],
   "source": [
    "train_targets = np.log(train_targets)\n",
    "print(train_targets.unique())"
   ]
  },
  {
   "cell_type": "code",
   "execution_count": 9,
   "metadata": {},
   "outputs": [
    {
     "name": "stdout",
     "output_type": "stream",
     "text": [
      "[[0.]\n",
      " [0.]\n",
      " [0.]\n",
      " ...\n",
      " [0.]\n",
      " [0.]\n",
      " [0.]]\n"
     ]
    }
   ],
   "source": [
    "train_target_shape = train_targets.values.reshape(-1,1)\n",
    "print(train_target_shape)"
   ]
  },
  {
   "cell_type": "code",
   "execution_count": 10,
   "metadata": {},
   "outputs": [
    {
     "data": {
      "text/plain": [
       "count    903653.000000\n",
       "mean          0.227118\n",
       "std           2.003710\n",
       "min           0.000000\n",
       "25%           0.000000\n",
       "50%           0.000000\n",
       "75%           0.000000\n",
       "max          23.864375\n",
       "Name: Revenue, dtype: float64"
      ]
     },
     "execution_count": 10,
     "metadata": {},
     "output_type": "execute_result"
    }
   ],
   "source": [
    "train_targets.describe()"
   ]
  },
  {
   "cell_type": "code",
   "execution_count": 11,
   "metadata": {},
   "outputs": [],
   "source": [
    "X = train_features.as_matrix().astype(np.float)\n",
    "y = train_targets.as_matrix().astype(np.float)"
   ]
  },
  {
   "cell_type": "code",
   "execution_count": 15,
   "metadata": {},
   "outputs": [
    {
     "name": "stdout",
     "output_type": "stream",
     "text": [
      "bounces - <class 'str'> \n",
      "hits - <class 'str'> \n",
      "newVisits - <class 'str'> \n",
      "pageviews - <class 'str'> \n",
      "visits - <class 'str'> \n",
      "subContinent_(not set) - <class 'str'> \n",
      "subContinent_Australasia - <class 'str'> \n",
      "subContinent_Caribbean - <class 'str'> \n",
      "subContinent_Central America - <class 'str'> \n",
      "subContinent_Central Asia - <class 'str'> \n",
      "subContinent_Eastern Africa - <class 'str'> \n",
      "subContinent_Eastern Asia - <class 'str'> \n",
      "subContinent_Eastern Europe - <class 'str'> \n",
      "subContinent_Melanesia - <class 'str'> \n",
      "subContinent_Micronesian Region - <class 'str'> \n",
      "subContinent_Middle Africa - <class 'str'> \n",
      "subContinent_Northern Africa - <class 'str'> \n",
      "subContinent_Northern America - <class 'str'> \n",
      "subContinent_Northern Europe - <class 'str'> \n",
      "subContinent_Polynesia - <class 'str'> \n",
      "subContinent_South America - <class 'str'> \n",
      "subContinent_Southeast Asia - <class 'str'> \n",
      "subContinent_Southern Africa - <class 'str'> \n",
      "subContinent_Southern Asia - <class 'str'> \n",
      "subContinent_Southern Europe - <class 'str'> \n",
      "subContinent_Western Africa - <class 'str'> \n",
      "subContinent_Western Asia - <class 'str'> \n",
      "subContinent_Western Europe - <class 'str'> \n",
      "deviceCategory_desktop - <class 'str'> \n",
      "deviceCategory_mobile - <class 'str'> \n",
      "deviceCategory_tablet - <class 'str'> \n",
      "isMobile_False - <class 'str'> \n",
      "isMobile_True - <class 'str'> \n"
     ]
    }
   ],
   "source": [
    "for col in train_features.columns:\n",
    "    print('{} - {} '.format(col,type(col)))\n",
    "    train_features[col] = train_features[col].astype(np.float)"
   ]
  },
  {
   "cell_type": "code",
   "execution_count": 18,
   "metadata": {},
   "outputs": [
    {
     "name": "stdout",
     "output_type": "stream",
     "text": [
      "[0]\teval-rmse:1.86512\ttrain-rmse:1.86512\n",
      "[1]\teval-rmse:1.78141\ttrain-rmse:1.78141\n",
      "[2]\teval-rmse:1.7356\ttrain-rmse:1.7356\n",
      "[3]\teval-rmse:1.70941\ttrain-rmse:1.70941\n",
      "[4]\teval-rmse:1.69369\ttrain-rmse:1.69369\n",
      "[5]\teval-rmse:1.68358\ttrain-rmse:1.68358\n",
      "[6]\teval-rmse:1.67748\ttrain-rmse:1.67748\n",
      "[7]\teval-rmse:1.67202\ttrain-rmse:1.67202\n",
      "[8]\teval-rmse:1.66846\ttrain-rmse:1.66846\n",
      "[9]\teval-rmse:1.66591\ttrain-rmse:1.66591\n"
     ]
    }
   ],
   "source": [
    "import xgboost as xgb\n",
    "\n",
    "dtrain = xgb.DMatrix(train_features, label=train_targets)\n",
    "dtest = dtrain\n",
    "\n",
    "param = {'bst:max_depth':2, \n",
    "         'bst:eta':1, \n",
    "         'silent':1, \n",
    "         'objective':'reg:linear',\n",
    "         'nthread':4,\n",
    "         'eval_metric':'rmse'\n",
    "        }\n",
    "\n",
    "evallist = [(dtest,'eval'), (dtrain,'train')]\n",
    "\n",
    "num_round = 10\n",
    "bst = xgb.train( param, dtrain, num_round, evallist )"
   ]
  },
  {
   "cell_type": "code",
   "execution_count": 19,
   "metadata": {},
   "outputs": [
    {
     "name": "stderr",
     "output_type": "stream",
     "text": [
      "Exception ignored in: <bound method DMatrix.__del__ of <xgboost.core.DMatrix object at 0x000001DEDCE44208>>\n",
      "Traceback (most recent call last):\n",
      "  File \"C:\\Users\\monne\\Anaconda3\\lib\\site-packages\\xgboost\\core.py\", line 366, in __del__\n",
      "    if self.handle is not None:\n",
      "AttributeError: 'DMatrix' object has no attribute 'handle'\n"
     ]
    },
    {
     "name": "stdout",
     "output_type": "stream",
     "text": [
      "------------------------------------------------------------\n",
      "(804684, 49)\n"
     ]
    }
   ],
   "source": [
    "Name = 'test.csv'\n",
    "\n",
    "test_features = dataset(Path,Name)"
   ]
  },
  {
   "cell_type": "code",
   "execution_count": 20,
   "metadata": {},
   "outputs": [
    {
     "name": "stdout",
     "output_type": "stream",
     "text": [
      "(804684, 35)\n"
     ]
    }
   ],
   "source": [
    "test_features = test_features.fillna(0)\n",
    "print(test_features.shape)"
   ]
  },
  {
   "cell_type": "code",
   "execution_count": 21,
   "metadata": {},
   "outputs": [
    {
     "name": "stdout",
     "output_type": "stream",
     "text": [
      "(804684,)\n",
      "(804684,)\n"
     ]
    }
   ],
   "source": [
    "test_target = test_features.pop('Revenue')\n",
    "test_id = test_features.pop('fullVisitorId')\n",
    "print(test_target.shape)\n",
    "print(test_id.shape)"
   ]
  },
  {
   "cell_type": "code",
   "execution_count": 22,
   "metadata": {},
   "outputs": [
    {
     "name": "stdout",
     "output_type": "stream",
     "text": [
      "<class 'pandas.core.series.Series'>\n"
     ]
    }
   ],
   "source": [
    "test_targets = test_target.copy()\n",
    "print(type(test_targets))"
   ]
  },
  {
   "cell_type": "code",
   "execution_count": 23,
   "metadata": {},
   "outputs": [
    {
     "name": "stdout",
     "output_type": "stream",
     "text": [
      "0\n",
      "[1.]\n",
      "1.0\n",
      "1.0\n"
     ]
    }
   ],
   "source": [
    "test_targets = test_targets.fillna(0)\n",
    "print(test_targets.isna().sum())\n",
    "test_targets = test_targets.astype(np.float)\n",
    "test_targets = test_targets + 1\n",
    "print(test_targets.unique())\n",
    "print(test_targets.max())\n",
    "print(test_targets.min())"
   ]
  },
  {
   "cell_type": "code",
   "execution_count": 24,
   "metadata": {},
   "outputs": [
    {
     "name": "stdout",
     "output_type": "stream",
     "text": [
      "[0.]\n"
     ]
    }
   ],
   "source": [
    "test_targets = np.log(test_targets)\n",
    "print(test_targets.unique())"
   ]
  },
  {
   "cell_type": "code",
   "execution_count": 25,
   "metadata": {},
   "outputs": [
    {
     "name": "stdout",
     "output_type": "stream",
     "text": [
      "(804684, 33)\n",
      "(903653, 33)\n",
      "bounces\n",
      "hits\n",
      "newVisits\n",
      "pageviews\n",
      "visits\n",
      "subContinent_(not set)\n",
      "subContinent_Australasia\n",
      "subContinent_Caribbean\n",
      "subContinent_Central America\n",
      "subContinent_Central Asia\n",
      "subContinent_Eastern Africa\n",
      "subContinent_Eastern Asia\n",
      "subContinent_Eastern Europe\n",
      "subContinent_Melanesia\n",
      "subContinent_Micronesian Region\n",
      "subContinent_Middle Africa\n",
      "subContinent_Northern Africa\n",
      "subContinent_Northern America\n",
      "subContinent_Northern Europe\n",
      "subContinent_Polynesia\n",
      "subContinent_South America\n",
      "subContinent_Southeast Asia\n",
      "subContinent_Southern Africa\n",
      "subContinent_Southern Asia\n",
      "subContinent_Southern Europe\n",
      "subContinent_Western Africa\n",
      "subContinent_Western Asia\n",
      "subContinent_Western Europe\n",
      "deviceCategory_desktop\n",
      "deviceCategory_mobile\n",
      "deviceCategory_tablet\n",
      "isMobile_False\n",
      "isMobile_True\n"
     ]
    }
   ],
   "source": [
    "print(test_features.shape)\n",
    "print(train_features.shape)\n",
    "for col in train_features.columns.tolist():\n",
    "    print(col)\n"
   ]
  },
  {
   "cell_type": "code",
   "execution_count": 30,
   "metadata": {},
   "outputs": [
    {
     "name": "stdout",
     "output_type": "stream",
     "text": [
      "bounces - <class 'str'> \n",
      "hits - <class 'str'> \n",
      "newVisits - <class 'str'> \n",
      "pageviews - <class 'str'> \n",
      "visits - <class 'str'> \n",
      "subContinent_(not set) - <class 'str'> \n",
      "subContinent_Australasia - <class 'str'> \n",
      "subContinent_Caribbean - <class 'str'> \n",
      "subContinent_Central America - <class 'str'> \n",
      "subContinent_Central Asia - <class 'str'> \n",
      "subContinent_Eastern Africa - <class 'str'> \n",
      "subContinent_Eastern Asia - <class 'str'> \n",
      "subContinent_Eastern Europe - <class 'str'> \n",
      "subContinent_Melanesia - <class 'str'> \n",
      "subContinent_Micronesian Region - <class 'str'> \n",
      "subContinent_Middle Africa - <class 'str'> \n",
      "subContinent_Northern Africa - <class 'str'> \n",
      "subContinent_Northern America - <class 'str'> \n",
      "subContinent_Northern Europe - <class 'str'> \n",
      "subContinent_Polynesia - <class 'str'> \n",
      "subContinent_South America - <class 'str'> \n",
      "subContinent_Southeast Asia - <class 'str'> \n",
      "subContinent_Southern Africa - <class 'str'> \n",
      "subContinent_Southern Asia - <class 'str'> \n",
      "subContinent_Southern Europe - <class 'str'> \n",
      "subContinent_Western Africa - <class 'str'> \n",
      "subContinent_Western Asia - <class 'str'> \n",
      "subContinent_Western Europe - <class 'str'> \n",
      "deviceCategory_desktop - <class 'str'> \n",
      "deviceCategory_mobile - <class 'str'> \n",
      "deviceCategory_tablet - <class 'str'> \n",
      "isMobile_False - <class 'str'> \n",
      "isMobile_True - <class 'str'> \n"
     ]
    }
   ],
   "source": [
    "for col in test_features.columns:\n",
    "    print('{} - {} '.format(col,type(col)))\n",
    "    test_features[col] = test_features[col].astype(np.float)\n"
   ]
  },
  {
   "cell_type": "code",
   "execution_count": 31,
   "metadata": {},
   "outputs": [],
   "source": [
    "datatest = xgb.DMatrix(test_features)\n",
    "\n",
    "predictions_revenue = bst.predict(datatest)"
   ]
  },
  {
   "cell_type": "code",
   "execution_count": 32,
   "metadata": {},
   "outputs": [
    {
     "name": "stdout",
     "output_type": "stream",
     "text": [
      "----------------------------------------\n",
      "Mean square error : 540868.9669724304\n",
      "Root mean square error : 735.4379422986214\n",
      "----------------------------------------\n"
     ]
    }
   ],
   "source": [
    "mse = np.array((test_targets - predictions_revenue)**2).sum()\n",
    "rmse = np.sqrt(mse)\n",
    "\n",
    "print('--'*20)\n",
    "print(f\"Mean square error : {mse}\")\n",
    "print(f\"Root mean square error : {rmse}\")\n",
    "print('--'*20)\n"
   ]
  },
  {
   "cell_type": "code",
   "execution_count": 33,
   "metadata": {},
   "outputs": [],
   "source": [
    "sub_df = pd.DataFrame({\"fullVisitorId\":test_id})\n",
    "predictions_revenue[predictions_revenue < 0] = 0"
   ]
  },
  {
   "cell_type": "code",
   "execution_count": 34,
   "metadata": {},
   "outputs": [],
   "source": [
    "sub_df[\"PredictedLogRevenue\"] = np.expm1(predictions_revenue)\n",
    "sub_df = sub_df.groupby(\"fullVisitorId\")[\"PredictedLogRevenue\"].sum().reset_index()\n",
    "sub_df.columns = [\"fullVisitorId\", \"PredictedLogRevenue\"]"
   ]
  },
  {
   "cell_type": "code",
   "execution_count": 35,
   "metadata": {},
   "outputs": [
    {
     "name": "stdout",
     "output_type": "stream",
     "text": [
      "----------------------------------------\n",
      "         fullVisitorId  PredictedLogRevenue\n",
      "0  0000000259678714014             0.016037\n",
      "1  0000049363351866189             0.048620\n",
      "2  0000053049821714864             0.015813\n",
      "3  0000059488412965267             0.048620\n",
      "4  0000085840370633780             0.016037\n",
      "----------------------------------------\n"
     ]
    }
   ],
   "source": [
    "sub_df[\"PredictedLogRevenue\"] = np.log1p(sub_df[\"PredictedLogRevenue\"])\n",
    "\n",
    "print('--'*20)\n",
    "print(sub_df.head())\n",
    "print('--'*20)\n"
   ]
  },
  {
   "cell_type": "code",
   "execution_count": 36,
   "metadata": {},
   "outputs": [],
   "source": [
    "Path = 'c:\\\\users\\\\monne\\\\Desktop'\n",
    "Name = 'Submission 2018-10-30.csv'\n",
    "pathFile = '\\\\'.join([Path,Name])\n",
    "sub_df.to_csv(pathFile, index=False)\n"
   ]
  },
  {
   "cell_type": "code",
   "execution_count": null,
   "metadata": {},
   "outputs": [],
   "source": []
  }
 ],
 "metadata": {
  "kernelspec": {
   "display_name": "Python 3",
   "language": "python",
   "name": "python3"
  },
  "language_info": {
   "codemirror_mode": {
    "name": "ipython",
    "version": 3
   },
   "file_extension": ".py",
   "mimetype": "text/x-python",
   "name": "python",
   "nbconvert_exporter": "python",
   "pygments_lexer": "ipython3",
   "version": "3.6.4"
  }
 },
 "nbformat": 4,
 "nbformat_minor": 2
}
