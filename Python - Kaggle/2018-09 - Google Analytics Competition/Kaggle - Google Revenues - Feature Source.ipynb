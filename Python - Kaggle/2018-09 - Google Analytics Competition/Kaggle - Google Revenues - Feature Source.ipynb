{
 "cells": [
  {
   "cell_type": "code",
   "execution_count": 10,
   "metadata": {},
   "outputs": [],
   "source": [
    "import pandas as pd\n",
    "from pandas.io.json import json_normalize\n",
    "import json\n",
    "import numpy as np\n",
    "\n",
    "from sklearn.linear_model import LinearRegression\n",
    "from sklearn.linear_model import LogisticRegression\n",
    "from sklearn.ensemble import RandomForestClassifier\n",
    "from sklearn.feature_selection import RFECV\n",
    "from sklearn.model_selection import GridSearchCV\n",
    "\n",
    "from matplotlib import pyplot as plt\n",
    "import seaborn as sns\n",
    "\n",
    "pd.options.mode.chained_assignment = None\n",
    "pd.options.display.max_columns = 999\n"
   ]
  },
  {
   "cell_type": "code",
   "execution_count": 11,
   "metadata": {},
   "outputs": [],
   "source": []
  },
  {
   "cell_type": "code",
   "execution_count": 43,
   "metadata": {},
   "outputs": [],
   "source": [
    "\n",
    "def dataset(Path,Name):\n",
    "\n",
    "    pathFile = '\\\\'.join([Path,Name])\n",
    "\n",
    "    dict_cols = ['trafficSource','totals','geoNetwork','device'] \n",
    "\n",
    "    df = pd.read_csv(pathFile, dtype={'fullVisitorId': 'str'}, nrows=None)\n",
    "\n",
    "    for column in dict_cols:\n",
    "        df = df.join(pd.DataFrame(df.pop(column).apply(pd.io.json.loads).values.tolist(), index=df.index))\n",
    "\n",
    "    try:\n",
    "        df['Revenue']=df['transactionRevenue']\n",
    "    except:    \n",
    "        df['Revenue']=0\n",
    "\n",
    "    cols = df.columns.tolist()\n",
    "    \n",
    "    source_stats = df[['source','fullVisitorId']].groupby('source').count().reset_index()\n",
    "    source_sorted = source_stats.sort_values(by='fullVisitorId',ascending=False).iloc[:20,:]\n",
    "    \n",
    "    plt.figure(figsize=(14,10))\n",
    "    sns.barplot(x=\"fullVisitorId\", y=\"source\", data=source_sorted)\n",
    "    plt.title('Source distribution')\n",
    "    plt.tight_layout()\n",
    "    plt.show()\n",
    "    \n",
    "    source_sorted_top = source_sorted['source'].tolist()\n",
    "    \n",
    "    def categorie(value):\n",
    "        cat = 'Other'\n",
    "\n",
    "        for val in source_sorted_top:\n",
    "            if val.strip() == value.strip():\n",
    "                return val\n",
    "\n",
    "        return cat\n",
    "    \n",
    "    def is_google_source(value):\n",
    "        if value.lower().find('google') >= 0:\n",
    "            return True\n",
    "        else:\n",
    "            return False\n",
    "    \n",
    "    df['source_cat'] = df['source'].apply(categorie)\n",
    "    df['source_google'] = df['source'].apply(is_google_source)\n",
    "        \n",
    "    print('--'*30)\n",
    "    print(df.shape)\n",
    "\n",
    "    liste_features = ['Revenue',\n",
    "                        'fullVisitorId', \n",
    "                        'bounces', \n",
    "                        'hits', \n",
    "                        'newVisits', \n",
    "                        'pageviews', \n",
    "                        'visits', \n",
    "                        'subContinent', \n",
    "                        'deviceCategory', \n",
    "                        'isMobile',\n",
    "                        'source_google']\n",
    "\n",
    "    new_df = df[liste_features]    \n",
    "    \n",
    "    col_dummies = [     'source_google',                \n",
    "                        'subContinent', \n",
    "                        'deviceCategory', \n",
    "                        'isMobile']\n",
    "\n",
    "    for col in col_dummies:\n",
    "        dummies = pd.get_dummies(new_df[col],prefix=col)\n",
    "        new_df = pd.concat([new_df,dummies],axis=1)\n",
    "        #new_df.drop(col)\n",
    "\n",
    "\n",
    "    new_df = new_df.drop(col_dummies,axis=1)\n",
    "\n",
    "    return new_df\n"
   ]
  },
  {
   "cell_type": "code",
   "execution_count": 44,
   "metadata": {},
   "outputs": [
    {
     "data": {
      "image/png": "[encoded data removed]",
      "text/plain": [
       "<Figure size 1008x720 with 1 Axes>"
      ]
     },
     "metadata": {},
     "output_type": "display_data"
    },
    {
     "name": "stdout",
     "output_type": "stream",
     "text": [
      "------------------------------------------------------------\n",
      "(903653, 53)\n"
     ]
    }
   ],
   "source": [
    "Path = 'c:\\\\users\\\\monne\\\\Desktop\\\\Google Analytics Customers'\n",
    "Name = 'train.csv'\n",
    "\n",
    "train_features = dataset(Path,Name)"
   ]
  },
  {
   "cell_type": "code",
   "execution_count": 45,
   "metadata": {},
   "outputs": [
    {
     "name": "stdout",
     "output_type": "stream",
     "text": [
      "(903653, 37)\n"
     ]
    }
   ],
   "source": [
    "train_features = train_features.fillna(0)\n",
    "print(train_features.shape)"
   ]
  },
  {
   "cell_type": "code",
   "execution_count": 46,
   "metadata": {},
   "outputs": [
    {
     "name": "stdout",
     "output_type": "stream",
     "text": [
      "(903653,)\n",
      "(903653,)\n"
     ]
    }
   ],
   "source": [
    "train_target = train_features.pop('Revenue')\n",
    "train_id = train_features.pop('fullVisitorId')\n",
    "print(train_target.shape)\n",
    "print(train_id.shape)"
   ]
  },
  {
   "cell_type": "code",
   "execution_count": 47,
   "metadata": {},
   "outputs": [
    {
     "name": "stdout",
     "output_type": "stream",
     "text": [
      "<class 'pandas.core.series.Series'>\n"
     ]
    }
   ],
   "source": [
    "train_targets = train_target.copy()\n",
    "print(type(train_targets))"
   ]
  },
  {
   "cell_type": "code",
   "execution_count": 48,
   "metadata": {},
   "outputs": [
    {
     "name": "stdout",
     "output_type": "stream",
     "text": [
      "0\n",
      "[  1.00000000e+00   3.78600010e+07   3.06670001e+08 ...,   3.35260001e+08\n",
      "   3.07500010e+07   6.93900010e+07]\n",
      "23129500001.0\n",
      "1.0\n"
     ]
    }
   ],
   "source": [
    "train_targets = train_targets.fillna(0)\n",
    "print(train_targets.isna().sum())\n",
    "train_targets = train_targets.astype(np.float)\n",
    "train_targets = train_targets + 1\n",
    "print(train_targets.unique())\n",
    "print(train_targets.max())\n",
    "print(train_targets.min())"
   ]
  },
  {
   "cell_type": "code",
   "execution_count": 49,
   "metadata": {},
   "outputs": [
    {
     "name": "stdout",
     "output_type": "stream",
     "text": [
      "[  0.          17.44940573  19.54128281 ...,  19.63041691  17.24140058\n",
      "  18.05525334]\n"
     ]
    }
   ],
   "source": [
    "train_targets = np.log(train_targets)\n",
    "print(train_targets.unique())"
   ]
  },
  {
   "cell_type": "code",
   "execution_count": 50,
   "metadata": {},
   "outputs": [
    {
     "name": "stdout",
     "output_type": "stream",
     "text": [
      "[[ 0.]\n",
      " [ 0.]\n",
      " [ 0.]\n",
      " ..., \n",
      " [ 0.]\n",
      " [ 0.]\n",
      " [ 0.]]\n"
     ]
    }
   ],
   "source": [
    "train_target_shape = train_targets.values.reshape(-1,1)\n",
    "print(train_target_shape)"
   ]
  },
  {
   "cell_type": "code",
   "execution_count": 51,
   "metadata": {},
   "outputs": [
    {
     "data": {
      "text/plain": [
       "count    903653.000000\n",
       "mean          0.227118\n",
       "std           2.003710\n",
       "min           0.000000\n",
       "25%           0.000000\n",
       "50%           0.000000\n",
       "75%           0.000000\n",
       "max          23.864375\n",
       "Name: Revenue, dtype: float64"
      ]
     },
     "execution_count": 51,
     "metadata": {},
     "output_type": "execute_result"
    }
   ],
   "source": [
    "train_targets.describe()"
   ]
  },
  {
   "cell_type": "code",
   "execution_count": 52,
   "metadata": {},
   "outputs": [],
   "source": [
    "X = train_features.as_matrix().astype(np.float)\n",
    "y = train_targets.as_matrix().astype(np.float)"
   ]
  },
  {
   "cell_type": "code",
   "execution_count": 53,
   "metadata": {},
   "outputs": [
    {
     "data": {
      "text/plain": [
       "RandomForestRegressor(bootstrap=True, criterion='mse', max_depth=None,\n",
       "           max_features='auto', max_leaf_nodes=None,\n",
       "           min_impurity_decrease=0.0, min_impurity_split=None,\n",
       "           min_samples_leaf=1, min_samples_split=2,\n",
       "           min_weight_fraction_leaf=0.0, n_estimators=10, n_jobs=1,\n",
       "           oob_score=False, random_state=1, verbose=0, warm_start=False)"
      ]
     },
     "execution_count": 53,
     "metadata": {},
     "output_type": "execute_result"
    }
   ],
   "source": [
    "#from sklearn.tree import DecisionTreeRegressor \n",
    "#lr = LinearRegression()\n",
    "from sklearn.ensemble import RandomForestRegressor\n",
    "lr = RandomForestRegressor(n_estimators=10,\n",
    "                           random_state=1)\n",
    "\n",
    "lr.fit(train_features,train_targets)"
   ]
  },
  {
   "cell_type": "code",
   "execution_count": 54,
   "metadata": {},
   "outputs": [
    {
     "data": {
      "image/png": "[encoded data removed]",
      "text/plain": [
       "<Figure size 1008x720 with 1 Axes>"
      ]
     },
     "metadata": {},
     "output_type": "display_data"
    },
    {
     "name": "stdout",
     "output_type": "stream",
     "text": [
      "------------------------------------------------------------\n",
      "(804684, 51)\n"
     ]
    }
   ],
   "source": [
    "Name = 'test.csv'\n",
    "\n",
    "test_features = dataset(Path,Name)"
   ]
  },
  {
   "cell_type": "code",
   "execution_count": 55,
   "metadata": {},
   "outputs": [
    {
     "name": "stdout",
     "output_type": "stream",
     "text": [
      "(804684, 37)\n"
     ]
    }
   ],
   "source": [
    "test_features = test_features.fillna(0)\n",
    "print(test_features.shape)"
   ]
  },
  {
   "cell_type": "code",
   "execution_count": 56,
   "metadata": {},
   "outputs": [
    {
     "name": "stdout",
     "output_type": "stream",
     "text": [
      "(804684,)\n",
      "(804684,)\n"
     ]
    }
   ],
   "source": [
    "test_target = test_features.pop('Revenue')\n",
    "test_id = test_features.pop('fullVisitorId')\n",
    "print(test_target.shape)\n",
    "print(test_id.shape)"
   ]
  },
  {
   "cell_type": "code",
   "execution_count": 57,
   "metadata": {},
   "outputs": [
    {
     "name": "stdout",
     "output_type": "stream",
     "text": [
      "<class 'pandas.core.series.Series'>\n"
     ]
    }
   ],
   "source": [
    "test_targets = test_target.copy()\n",
    "print(type(test_targets))"
   ]
  },
  {
   "cell_type": "code",
   "execution_count": 58,
   "metadata": {},
   "outputs": [
    {
     "name": "stdout",
     "output_type": "stream",
     "text": [
      "0\n",
      "[ 1.]\n",
      "1.0\n",
      "1.0\n"
     ]
    }
   ],
   "source": [
    "test_targets = test_targets.fillna(0)\n",
    "print(test_targets.isna().sum())\n",
    "test_targets = test_targets.astype(np.float)\n",
    "test_targets = test_targets + 1\n",
    "print(test_targets.unique())\n",
    "print(test_targets.max())\n",
    "print(test_targets.min())"
   ]
  },
  {
   "cell_type": "code",
   "execution_count": 59,
   "metadata": {},
   "outputs": [
    {
     "name": "stdout",
     "output_type": "stream",
     "text": [
      "[ 0.]\n"
     ]
    }
   ],
   "source": [
    "test_targets = np.log(test_targets)\n",
    "print(test_targets.unique())"
   ]
  },
  {
   "cell_type": "code",
   "execution_count": 60,
   "metadata": {},
   "outputs": [
    {
     "name": "stdout",
     "output_type": "stream",
     "text": [
      "(804684, 35)\n",
      "(903653, 35)\n",
      "bounces\n",
      "hits\n",
      "newVisits\n",
      "pageviews\n",
      "visits\n",
      "source_google_False\n",
      "source_google_True\n",
      "subContinent_(not set)\n",
      "subContinent_Australasia\n",
      "subContinent_Caribbean\n",
      "subContinent_Central America\n",
      "subContinent_Central Asia\n",
      "subContinent_Eastern Africa\n",
      "subContinent_Eastern Asia\n",
      "subContinent_Eastern Europe\n",
      "subContinent_Melanesia\n",
      "subContinent_Micronesian Region\n",
      "subContinent_Middle Africa\n",
      "subContinent_Northern Africa\n",
      "subContinent_Northern America\n",
      "subContinent_Northern Europe\n",
      "subContinent_Polynesia\n",
      "subContinent_South America\n",
      "subContinent_Southeast Asia\n",
      "subContinent_Southern Africa\n",
      "subContinent_Southern Asia\n",
      "subContinent_Southern Europe\n",
      "subContinent_Western Africa\n",
      "subContinent_Western Asia\n",
      "subContinent_Western Europe\n",
      "deviceCategory_desktop\n",
      "deviceCategory_mobile\n",
      "deviceCategory_tablet\n",
      "isMobile_False\n",
      "isMobile_True\n"
     ]
    }
   ],
   "source": [
    "print(test_features.shape)\n",
    "print(train_features.shape)\n",
    "for col in train_features.columns.tolist():\n",
    "    print(col)\n"
   ]
  },
  {
   "cell_type": "code",
   "execution_count": 61,
   "metadata": {},
   "outputs": [
    {
     "name": "stdout",
     "output_type": "stream",
     "text": [
      "bounces\n",
      "hits\n",
      "newVisits\n",
      "pageviews\n",
      "visits\n",
      "source_google_False\n",
      "source_google_True\n",
      "subContinent_(not set)\n",
      "subContinent_Australasia\n",
      "subContinent_Caribbean\n",
      "subContinent_Central America\n",
      "subContinent_Central Asia\n",
      "subContinent_Eastern Africa\n",
      "subContinent_Eastern Asia\n",
      "subContinent_Eastern Europe\n",
      "subContinent_Melanesia\n",
      "subContinent_Micronesian Region\n",
      "subContinent_Middle Africa\n",
      "subContinent_Northern Africa\n",
      "subContinent_Northern America\n",
      "subContinent_Northern Europe\n",
      "subContinent_Polynesia\n",
      "subContinent_South America\n",
      "subContinent_Southeast Asia\n",
      "subContinent_Southern Africa\n",
      "subContinent_Southern Asia\n",
      "subContinent_Southern Europe\n",
      "subContinent_Western Africa\n",
      "subContinent_Western Asia\n",
      "subContinent_Western Europe\n",
      "deviceCategory_desktop\n",
      "deviceCategory_mobile\n",
      "deviceCategory_tablet\n",
      "isMobile_False\n",
      "isMobile_True\n"
     ]
    }
   ],
   "source": [
    "for col in test_features.columns.tolist():\n",
    "    print(col)"
   ]
  },
  {
   "cell_type": "code",
   "execution_count": 62,
   "metadata": {},
   "outputs": [],
   "source": [
    "predictions_revenue = lr.predict(test_features)"
   ]
  },
  {
   "cell_type": "code",
   "execution_count": 63,
   "metadata": {},
   "outputs": [
    {
     "name": "stdout",
     "output_type": "stream",
     "text": [
      "----------------------------------------\n",
      "Mean square error : 753162.823752735\n",
      "Root mean square error : 867.849539812481\n",
      "----------------------------------------\n"
     ]
    }
   ],
   "source": [
    "mse = np.array((test_targets - predictions_revenue)**2).sum()\n",
    "rmse = np.sqrt(mse)\n",
    "\n",
    "print('--'*20)\n",
    "print(f\"Mean square error : {mse}\")\n",
    "print(f\"Root mean square error : {rmse}\")\n",
    "print('--'*20)\n"
   ]
  },
  {
   "cell_type": "code",
   "execution_count": 64,
   "metadata": {},
   "outputs": [],
   "source": [
    "sub_df = pd.DataFrame({\"fullVisitorId\":test_id})\n",
    "predictions_revenue[predictions_revenue < 0] = 0"
   ]
  },
  {
   "cell_type": "code",
   "execution_count": 65,
   "metadata": {},
   "outputs": [],
   "source": [
    "sub_df[\"PredictedLogRevenue\"] = np.expm1(predictions_revenue)\n",
    "sub_df = sub_df.groupby(\"fullVisitorId\")[\"PredictedLogRevenue\"].sum().reset_index()\n",
    "sub_df.columns = [\"fullVisitorId\", \"PredictedLogRevenue\"]"
   ]
  },
  {
   "cell_type": "code",
   "execution_count": 66,
   "metadata": {},
   "outputs": [
    {
     "name": "stdout",
     "output_type": "stream",
     "text": [
      "----------------------------------------\n",
      "         fullVisitorId  PredictedLogRevenue\n",
      "0  0000000259678714014              0.00000\n",
      "1  0000049363351866189              0.00000\n",
      "2  0000053049821714864              0.00000\n",
      "3  0000059488412965267              0.00000\n",
      "4  0000085840370633780              0.00146\n",
      "----------------------------------------\n"
     ]
    }
   ],
   "source": [
    "sub_df[\"PredictedLogRevenue\"] = np.log1p(sub_df[\"PredictedLogRevenue\"])\n",
    "\n",
    "print('--'*20)\n",
    "print(sub_df.head())\n",
    "print('--'*20)\n"
   ]
  },
  {
   "cell_type": "code",
   "execution_count": 67,
   "metadata": {},
   "outputs": [],
   "source": [
    "Path = 'c:\\\\users\\\\monne\\\\Desktop'\n",
    "Name = 'Submission 2018-10-03.csv'\n",
    "pathFile = '\\\\'.join([Path,Name])\n",
    "sub_df.to_csv(pathFile, index=False)\n"
   ]
  },
  {
   "cell_type": "code",
   "execution_count": null,
   "metadata": {},
   "outputs": [],
   "source": []
  }
 ],
 "metadata": {
  "kernelspec": {
   "display_name": "Python 3",
   "language": "python",
   "name": "python3"
  },
  "language_info": {
   "codemirror_mode": {
    "name": "ipython",
    "version": 3
   },
   "file_extension": ".py",
   "mimetype": "text/x-python",
   "name": "python",
   "nbconvert_exporter": "python",
   "pygments_lexer": "ipython3",
   "version": "3.6.4"
  }
 },
 "nbformat": 4,
 "nbformat_minor": 2
}
