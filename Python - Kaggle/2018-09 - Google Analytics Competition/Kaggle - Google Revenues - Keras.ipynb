{
 "cells": [
  {
   "cell_type": "code",
   "execution_count": 1,
   "metadata": {},
   "outputs": [],
   "source": [
    "import pandas as pd\n",
    "from pandas.io.json import json_normalize\n",
    "import json\n",
    "import numpy as np\n",
    "\n",
    "from sklearn.linear_model import LinearRegression\n",
    "from sklearn.linear_model import LogisticRegression\n",
    "from sklearn.ensemble import RandomForestClassifier\n",
    "from sklearn.feature_selection import RFECV\n",
    "from sklearn.model_selection import GridSearchCV\n",
    "\n",
    "pd.options.mode.chained_assignment = None\n",
    "pd.options.display.max_columns = 999\n"
   ]
  },
  {
   "cell_type": "code",
   "execution_count": 2,
   "metadata": {},
   "outputs": [],
   "source": [
    "\n",
    "def dataset(Path,Name):\n",
    "\n",
    "    pathFile = '\\\\'.join([Path,Name])\n",
    "\n",
    "    dict_cols = ['trafficSource','totals','geoNetwork','device'] \n",
    "\n",
    "    df = pd.read_csv(pathFile, dtype={'fullVisitorId': 'str'}, nrows=None)\n",
    "\n",
    "    for column in dict_cols:\n",
    "        df = df.join(pd.DataFrame(df.pop(column).apply(pd.io.json.loads).values.tolist(), index=df.index))\n",
    "\n",
    "    try:\n",
    "        df['Revenue']=df['transactionRevenue']\n",
    "    except:    \n",
    "        df['Revenue']=0\n",
    "\n",
    "    cols = df.columns.tolist()\n",
    "\n",
    "    print('--'*30)\n",
    "    print(df.shape)\n",
    "\n",
    "    liste_features = ['Revenue',\n",
    "                        'fullVisitorId', \n",
    "                        'bounces', \n",
    "                        'hits', \n",
    "                        'newVisits', \n",
    "                        'pageviews', \n",
    "                        'visits', \n",
    "                        'subContinent', \n",
    "                        'deviceCategory', \n",
    "                        'isMobile']\n",
    "\n",
    "    new_df = df[liste_features]\n",
    "\n",
    "    col_dummies = [                     \n",
    "                        'subContinent', \n",
    "                        'deviceCategory', \n",
    "                        'isMobile']\n",
    "\n",
    "    for col in col_dummies:\n",
    "        dummies = pd.get_dummies(new_df[col],prefix=col)\n",
    "        new_df = pd.concat([new_df,dummies],axis=1)\n",
    "        #new_df.drop(col)\n",
    "\n",
    "\n",
    "    new_df = new_df.drop(col_dummies,axis=1)\n",
    "\n",
    "    return new_df\n"
   ]
  },
  {
   "cell_type": "code",
   "execution_count": 3,
   "metadata": {},
   "outputs": [
    {
     "name": "stdout",
     "output_type": "stream",
     "text": [
      "------------------------------------------------------------\n",
      "(903653, 51)\n"
     ]
    }
   ],
   "source": [
    "Path = 'c:\\\\users\\\\monne\\\\Desktop\\\\Google Analytics Customers'\n",
    "Name = 'train.csv'\n",
    "\n",
    "train_features = dataset(Path,Name)"
   ]
  },
  {
   "cell_type": "code",
   "execution_count": 4,
   "metadata": {},
   "outputs": [
    {
     "name": "stdout",
     "output_type": "stream",
     "text": [
      "(903653, 35)\n"
     ]
    }
   ],
   "source": [
    "train_features = train_features.fillna(0)\n",
    "print(train_features.shape)"
   ]
  },
  {
   "cell_type": "code",
   "execution_count": 5,
   "metadata": {},
   "outputs": [
    {
     "name": "stdout",
     "output_type": "stream",
     "text": [
      "(903653,)\n",
      "(903653,)\n"
     ]
    }
   ],
   "source": [
    "train_target = train_features.pop('Revenue')\n",
    "train_id = train_features.pop('fullVisitorId')\n",
    "print(train_target.shape)\n",
    "print(train_id.shape)"
   ]
  },
  {
   "cell_type": "code",
   "execution_count": 6,
   "metadata": {},
   "outputs": [
    {
     "name": "stdout",
     "output_type": "stream",
     "text": [
      "<class 'pandas.core.series.Series'>\n"
     ]
    }
   ],
   "source": [
    "train_targets = train_target.copy()\n",
    "print(type(train_targets))"
   ]
  },
  {
   "cell_type": "code",
   "execution_count": 7,
   "metadata": {},
   "outputs": [
    {
     "name": "stdout",
     "output_type": "stream",
     "text": [
      "0\n",
      "[1.00000000e+00 3.78600010e+07 3.06670001e+08 ... 3.35260001e+08\n",
      " 3.07500010e+07 6.93900010e+07]\n",
      "23129500001.0\n",
      "1.0\n"
     ]
    }
   ],
   "source": [
    "train_targets = train_targets.fillna(0)\n",
    "print(train_targets.isna().sum())\n",
    "train_targets = train_targets.astype(np.float)\n",
    "train_targets = train_targets + 1\n",
    "print(train_targets.unique())\n",
    "print(train_targets.max())\n",
    "print(train_targets.min())"
   ]
  },
  {
   "cell_type": "code",
   "execution_count": 8,
   "metadata": {},
   "outputs": [
    {
     "name": "stdout",
     "output_type": "stream",
     "text": [
      "[ 0.         17.44940573 19.54128281 ... 19.63041691 17.24140058\n",
      " 18.05525334]\n"
     ]
    }
   ],
   "source": [
    "train_targets = np.log(train_targets)\n",
    "print(train_targets.unique())"
   ]
  },
  {
   "cell_type": "code",
   "execution_count": 9,
   "metadata": {},
   "outputs": [
    {
     "name": "stdout",
     "output_type": "stream",
     "text": [
      "[[0.]\n",
      " [0.]\n",
      " [0.]\n",
      " ...\n",
      " [0.]\n",
      " [0.]\n",
      " [0.]]\n"
     ]
    }
   ],
   "source": [
    "train_target_shape = train_targets.values.reshape(-1,1)\n",
    "print(train_target_shape)"
   ]
  },
  {
   "cell_type": "code",
   "execution_count": 10,
   "metadata": {},
   "outputs": [
    {
     "data": {
      "text/plain": [
       "count    903653.000000\n",
       "mean          0.227118\n",
       "std           2.003710\n",
       "min           0.000000\n",
       "25%           0.000000\n",
       "50%           0.000000\n",
       "75%           0.000000\n",
       "max          23.864375\n",
       "Name: Revenue, dtype: float64"
      ]
     },
     "execution_count": 10,
     "metadata": {},
     "output_type": "execute_result"
    }
   ],
   "source": [
    "train_targets.describe()"
   ]
  },
  {
   "cell_type": "code",
   "execution_count": 11,
   "metadata": {},
   "outputs": [],
   "source": [
    "X = train_features.as_matrix().astype(np.float)\n",
    "y = train_targets.as_matrix().astype(np.float)"
   ]
  },
  {
   "cell_type": "code",
   "execution_count": 12,
   "metadata": {},
   "outputs": [
    {
     "name": "stdout",
     "output_type": "stream",
     "text": [
      "bounces - <class 'str'> \n",
      "hits - <class 'str'> \n",
      "newVisits - <class 'str'> \n",
      "pageviews - <class 'str'> \n",
      "visits - <class 'str'> \n",
      "subContinent_(not set) - <class 'str'> \n",
      "subContinent_Australasia - <class 'str'> \n",
      "subContinent_Caribbean - <class 'str'> \n",
      "subContinent_Central America - <class 'str'> \n",
      "subContinent_Central Asia - <class 'str'> \n",
      "subContinent_Eastern Africa - <class 'str'> \n",
      "subContinent_Eastern Asia - <class 'str'> \n",
      "subContinent_Eastern Europe - <class 'str'> \n",
      "subContinent_Melanesia - <class 'str'> \n",
      "subContinent_Micronesian Region - <class 'str'> \n",
      "subContinent_Middle Africa - <class 'str'> \n",
      "subContinent_Northern Africa - <class 'str'> \n",
      "subContinent_Northern America - <class 'str'> \n",
      "subContinent_Northern Europe - <class 'str'> \n",
      "subContinent_Polynesia - <class 'str'> \n",
      "subContinent_South America - <class 'str'> \n",
      "subContinent_Southeast Asia - <class 'str'> \n",
      "subContinent_Southern Africa - <class 'str'> \n",
      "subContinent_Southern Asia - <class 'str'> \n",
      "subContinent_Southern Europe - <class 'str'> \n",
      "subContinent_Western Africa - <class 'str'> \n",
      "subContinent_Western Asia - <class 'str'> \n",
      "subContinent_Western Europe - <class 'str'> \n",
      "deviceCategory_desktop - <class 'str'> \n",
      "deviceCategory_mobile - <class 'str'> \n",
      "deviceCategory_tablet - <class 'str'> \n",
      "isMobile_False - <class 'str'> \n",
      "isMobile_True - <class 'str'> \n"
     ]
    }
   ],
   "source": [
    "for col in train_features.columns:\n",
    "    print('{} - {} '.format(col,type(col)))\n",
    "    train_features[col] = train_features[col].astype(np.float)"
   ]
  },
  {
   "cell_type": "code",
   "execution_count": 15,
   "metadata": {},
   "outputs": [
    {
     "data": {
      "text/plain": [
       "33"
      ]
     },
     "execution_count": 15,
     "metadata": {},
     "output_type": "execute_result"
    }
   ],
   "source": [
    "dimension = train_features.shape[1]\n",
    "dimension"
   ]
  },
  {
   "cell_type": "code",
   "execution_count": 36,
   "metadata": {},
   "outputs": [
    {
     "name": "stdout",
     "output_type": "stream",
     "text": [
      "_________________________________________________________________\n",
      "Layer (type)                 Output Shape              Param #   \n",
      "=================================================================\n",
      "dense_7 (Dense)              (None, 200)               6800      \n",
      "_________________________________________________________________\n",
      "dense_8 (Dense)              (None, 100)               20100     \n",
      "_________________________________________________________________\n",
      "dense_9 (Dense)              (None, 1)                 101       \n",
      "=================================================================\n",
      "Total params: 27,001\n",
      "Trainable params: 27,001\n",
      "Non-trainable params: 0\n",
      "_________________________________________________________________\n",
      "Epoch 1/20\n",
      "903653/903653 [==============================] - 128s 142us/step - loss: 2.9828 - mean_squared_error: 2.9828\n",
      "Epoch 2/20\n",
      "903653/903653 [==============================] - 96s 106us/step - loss: 2.8707 - mean_squared_error: 2.8707\n",
      "Epoch 3/20\n",
      "903653/903653 [==============================] - 94s 104us/step - loss: 2.8467 - mean_squared_error: 2.8467\n",
      "Epoch 4/20\n",
      "903653/903653 [==============================] - 135s 149us/step - loss: 2.8339 - mean_squared_error: 2.8339\n",
      "Epoch 5/20\n",
      "903653/903653 [==============================] - 160s 177us/step - loss: 2.8285 - mean_squared_error: 2.8285\n",
      "Epoch 6/20\n",
      "903653/903653 [==============================] - 130s 144us/step - loss: 2.8209 - mean_squared_error: 2.8209\n",
      "Epoch 7/20\n",
      "903653/903653 [==============================] - 106s 117us/step - loss: 2.8175 - mean_squared_error: 2.8175 - loss: 2.8136 - mean_squar\n",
      "Epoch 8/20\n",
      "903653/903653 [==============================] - 94s 104us/step - loss: 2.8089 - mean_squared_error: 2.8089\n",
      "Epoch 9/20\n",
      "903653/903653 [==============================] - 88s 97us/step - loss: 2.8131 - mean_squared_error: 2.8131\n",
      "Epoch 10/20\n",
      "903653/903653 [==============================] - 90s 99us/step - loss: 2.8102 - mean_squared_error: 2.8102\n",
      "Epoch 11/20\n",
      "903653/903653 [==============================] - 92s 102us/step - loss: 2.8136 - mean_squared_error: 2.8136\n",
      "Epoch 12/20\n",
      "903653/903653 [==============================] - 92s 102us/step - loss: 2.8130 - mean_squared_error: 2.8130\n",
      "Epoch 13/20\n",
      "903653/903653 [==============================] - 93s 103us/step - loss: 2.8104 - mean_squared_error: 2.8104\n",
      "Epoch 14/20\n",
      "903653/903653 [==============================] - 93s 103us/step - loss: 2.8064 - mean_squared_error: 2.8064\n",
      "Epoch 15/20\n",
      "903653/903653 [==============================] - 132s 146us/step - loss: 2.8049 - mean_squared_error: 2.8049\n",
      "Epoch 16/20\n",
      "903653/903653 [==============================] - 98s 109us/step - loss: 2.8057 - mean_squared_error: 2.8057\n",
      "Epoch 17/20\n",
      "903653/903653 [==============================] - 93s 103us/step - loss: 2.8050 - mean_squared_error: 2.8050\n",
      "Epoch 18/20\n",
      "903653/903653 [==============================] - 102s 113us/step - loss: 2.8031 - mean_squared_error: 2.8031\n",
      "Epoch 19/20\n",
      "903653/903653 [==============================] - 104s 115us/step - loss: 2.8030 - mean_squared_error: 2.8030\n",
      "Epoch 20/20\n",
      "903653/903653 [==============================] - 113s 125us/step - loss: 2.8056 - mean_squared_error: 2.8056\n"
     ]
    },
    {
     "data": {
      "text/plain": [
       "<keras.callbacks.History at 0x156a135d208>"
      ]
     },
     "execution_count": 36,
     "metadata": {},
     "output_type": "execute_result"
    }
   ],
   "source": [
    "from keras.models import Sequential\n",
    "from keras.layers import Dense\n",
    "\n",
    "# Define model\n",
    "model = Sequential()\n",
    "model.add(Dense(200, input_dim=dimension, activation= \"relu\"))\n",
    "model.add(Dense(100, activation= \"relu\"))\n",
    "model.add(Dense(1))\n",
    "model.summary() #Print model Summary\n",
    "\n",
    "# Compile model\n",
    "model.compile(loss= \"mean_squared_error\" , optimizer=\"adam\", metrics=[\"mean_squared_error\"])\n",
    "\n",
    "# Fit Model\n",
    "model.fit(train_features, train_targets, epochs=20)\n"
   ]
  },
  {
   "cell_type": "code",
   "execution_count": 17,
   "metadata": {},
   "outputs": [
    {
     "name": "stdout",
     "output_type": "stream",
     "text": [
      "------------------------------------------------------------\n",
      "(804684, 49)\n"
     ]
    }
   ],
   "source": [
    "Name = 'test.csv'\n",
    "\n",
    "test_features = dataset(Path,Name)"
   ]
  },
  {
   "cell_type": "code",
   "execution_count": 18,
   "metadata": {},
   "outputs": [
    {
     "name": "stdout",
     "output_type": "stream",
     "text": [
      "(804684, 35)\n"
     ]
    }
   ],
   "source": [
    "test_features = test_features.fillna(0)\n",
    "print(test_features.shape)"
   ]
  },
  {
   "cell_type": "code",
   "execution_count": 19,
   "metadata": {},
   "outputs": [
    {
     "name": "stdout",
     "output_type": "stream",
     "text": [
      "(804684,)\n",
      "(804684,)\n"
     ]
    }
   ],
   "source": [
    "test_target = test_features.pop('Revenue')\n",
    "test_id = test_features.pop('fullVisitorId')\n",
    "print(test_target.shape)\n",
    "print(test_id.shape)"
   ]
  },
  {
   "cell_type": "code",
   "execution_count": 20,
   "metadata": {},
   "outputs": [
    {
     "name": "stdout",
     "output_type": "stream",
     "text": [
      "<class 'pandas.core.series.Series'>\n"
     ]
    }
   ],
   "source": [
    "test_targets = test_target.copy()\n",
    "print(type(test_targets))"
   ]
  },
  {
   "cell_type": "code",
   "execution_count": 21,
   "metadata": {},
   "outputs": [
    {
     "name": "stdout",
     "output_type": "stream",
     "text": [
      "0\n",
      "[1.]\n",
      "1.0\n",
      "1.0\n"
     ]
    }
   ],
   "source": [
    "test_targets = test_targets.fillna(0)\n",
    "print(test_targets.isna().sum())\n",
    "test_targets = test_targets.astype(np.float)\n",
    "test_targets = test_targets + 1\n",
    "print(test_targets.unique())\n",
    "print(test_targets.max())\n",
    "print(test_targets.min())"
   ]
  },
  {
   "cell_type": "code",
   "execution_count": 22,
   "metadata": {},
   "outputs": [
    {
     "name": "stdout",
     "output_type": "stream",
     "text": [
      "[0.]\n"
     ]
    }
   ],
   "source": [
    "test_targets = np.log(test_targets)\n",
    "print(test_targets.unique())"
   ]
  },
  {
   "cell_type": "code",
   "execution_count": 23,
   "metadata": {},
   "outputs": [
    {
     "name": "stdout",
     "output_type": "stream",
     "text": [
      "(804684, 33)\n",
      "(903653, 33)\n",
      "bounces\n",
      "hits\n",
      "newVisits\n",
      "pageviews\n",
      "visits\n",
      "subContinent_(not set)\n",
      "subContinent_Australasia\n",
      "subContinent_Caribbean\n",
      "subContinent_Central America\n",
      "subContinent_Central Asia\n",
      "subContinent_Eastern Africa\n",
      "subContinent_Eastern Asia\n",
      "subContinent_Eastern Europe\n",
      "subContinent_Melanesia\n",
      "subContinent_Micronesian Region\n",
      "subContinent_Middle Africa\n",
      "subContinent_Northern Africa\n",
      "subContinent_Northern America\n",
      "subContinent_Northern Europe\n",
      "subContinent_Polynesia\n",
      "subContinent_South America\n",
      "subContinent_Southeast Asia\n",
      "subContinent_Southern Africa\n",
      "subContinent_Southern Asia\n",
      "subContinent_Southern Europe\n",
      "subContinent_Western Africa\n",
      "subContinent_Western Asia\n",
      "subContinent_Western Europe\n",
      "deviceCategory_desktop\n",
      "deviceCategory_mobile\n",
      "deviceCategory_tablet\n",
      "isMobile_False\n",
      "isMobile_True\n"
     ]
    }
   ],
   "source": [
    "print(test_features.shape)\n",
    "print(train_features.shape)\n",
    "for col in train_features.columns.tolist():\n",
    "    print(col)\n"
   ]
  },
  {
   "cell_type": "code",
   "execution_count": 24,
   "metadata": {},
   "outputs": [
    {
     "name": "stdout",
     "output_type": "stream",
     "text": [
      "bounces - <class 'str'> \n",
      "hits - <class 'str'> \n",
      "newVisits - <class 'str'> \n",
      "pageviews - <class 'str'> \n",
      "visits - <class 'str'> \n",
      "subContinent_(not set) - <class 'str'> \n",
      "subContinent_Australasia - <class 'str'> \n",
      "subContinent_Caribbean - <class 'str'> \n",
      "subContinent_Central America - <class 'str'> \n",
      "subContinent_Central Asia - <class 'str'> \n",
      "subContinent_Eastern Africa - <class 'str'> \n",
      "subContinent_Eastern Asia - <class 'str'> \n",
      "subContinent_Eastern Europe - <class 'str'> \n",
      "subContinent_Melanesia - <class 'str'> \n",
      "subContinent_Micronesian Region - <class 'str'> \n",
      "subContinent_Middle Africa - <class 'str'> \n",
      "subContinent_Northern Africa - <class 'str'> \n",
      "subContinent_Northern America - <class 'str'> \n",
      "subContinent_Northern Europe - <class 'str'> \n",
      "subContinent_Polynesia - <class 'str'> \n",
      "subContinent_South America - <class 'str'> \n",
      "subContinent_Southeast Asia - <class 'str'> \n",
      "subContinent_Southern Africa - <class 'str'> \n",
      "subContinent_Southern Asia - <class 'str'> \n",
      "subContinent_Southern Europe - <class 'str'> \n",
      "subContinent_Western Africa - <class 'str'> \n",
      "subContinent_Western Asia - <class 'str'> \n",
      "subContinent_Western Europe - <class 'str'> \n",
      "deviceCategory_desktop - <class 'str'> \n",
      "deviceCategory_mobile - <class 'str'> \n",
      "deviceCategory_tablet - <class 'str'> \n",
      "isMobile_False - <class 'str'> \n",
      "isMobile_True - <class 'str'> \n"
     ]
    }
   ],
   "source": [
    "for col in test_features.columns:\n",
    "    print('{} - {} '.format(col,type(col)))\n",
    "    test_features[col] = test_features[col].astype(np.float)\n"
   ]
  },
  {
   "cell_type": "code",
   "execution_count": 37,
   "metadata": {},
   "outputs": [],
   "source": [
    "predictions_revenue = model.predict(test_features)"
   ]
  },
  {
   "cell_type": "code",
   "execution_count": 42,
   "metadata": {},
   "outputs": [
    {
     "ename": "MemoryError",
     "evalue": "",
     "output_type": "error",
     "traceback": [
      "\u001b[1;31m---------------------------------------------------------------------------\u001b[0m",
      "\u001b[1;31mMemoryError\u001b[0m                               Traceback (most recent call last)",
      "\u001b[1;32m<ipython-input-42-761703fcf979>\u001b[0m in \u001b[0;36m<module>\u001b[1;34m()\u001b[0m\n\u001b[1;32m----> 1\u001b[1;33m \u001b[0mmse\u001b[0m \u001b[1;33m=\u001b[0m \u001b[0mnp\u001b[0m\u001b[1;33m.\u001b[0m\u001b[0marray\u001b[0m\u001b[1;33m(\u001b[0m\u001b[1;33m(\u001b[0m\u001b[0mtest_targets\u001b[0m \u001b[1;33m-\u001b[0m \u001b[0mpredictions_revenue\u001b[0m\u001b[1;33m)\u001b[0m\u001b[1;33m**\u001b[0m\u001b[1;36m2\u001b[0m\u001b[1;33m)\u001b[0m\u001b[1;33m.\u001b[0m\u001b[0msum\u001b[0m\u001b[1;33m(\u001b[0m\u001b[1;33m)\u001b[0m\u001b[1;33m\u001b[0m\u001b[0m\n\u001b[0m\u001b[0;32m      2\u001b[0m \u001b[0mrmse\u001b[0m \u001b[1;33m=\u001b[0m \u001b[0mnp\u001b[0m\u001b[1;33m.\u001b[0m\u001b[0msqrt\u001b[0m\u001b[1;33m(\u001b[0m\u001b[0mmse\u001b[0m\u001b[1;33m)\u001b[0m\u001b[1;33m\u001b[0m\u001b[0m\n\u001b[0;32m      3\u001b[0m \u001b[1;33m\u001b[0m\u001b[0m\n\u001b[0;32m      4\u001b[0m \u001b[0mprint\u001b[0m\u001b[1;33m(\u001b[0m\u001b[1;34m'--'\u001b[0m\u001b[1;33m*\u001b[0m\u001b[1;36m20\u001b[0m\u001b[1;33m)\u001b[0m\u001b[1;33m\u001b[0m\u001b[0m\n\u001b[0;32m      5\u001b[0m \u001b[0mprint\u001b[0m\u001b[1;33m(\u001b[0m\u001b[1;34mf\"Mean square error : {mse}\"\u001b[0m\u001b[1;33m)\u001b[0m\u001b[1;33m\u001b[0m\u001b[0m\n",
      "\u001b[1;32mC:\\Users\\monne\\Anaconda3\\lib\\site-packages\\pandas\\core\\ops.py\u001b[0m in \u001b[0;36mwrapper\u001b[1;34m(left, right, name, na_op)\u001b[0m\n\u001b[0;32m    737\u001b[0m                 \u001b[0mlvalues\u001b[0m \u001b[1;33m=\u001b[0m \u001b[0mlvalues\u001b[0m\u001b[1;33m.\u001b[0m\u001b[0mvalues\u001b[0m\u001b[1;33m\u001b[0m\u001b[0m\n\u001b[0;32m    738\u001b[0m \u001b[1;33m\u001b[0m\u001b[0m\n\u001b[1;32m--> 739\u001b[1;33m         \u001b[0mresult\u001b[0m \u001b[1;33m=\u001b[0m \u001b[0mwrap_results\u001b[0m\u001b[1;33m(\u001b[0m\u001b[0msafe_na_op\u001b[0m\u001b[1;33m(\u001b[0m\u001b[0mlvalues\u001b[0m\u001b[1;33m,\u001b[0m \u001b[0mrvalues\u001b[0m\u001b[1;33m)\u001b[0m\u001b[1;33m)\u001b[0m\u001b[1;33m\u001b[0m\u001b[0m\n\u001b[0m\u001b[0;32m    740\u001b[0m         return construct_result(\n\u001b[0;32m    741\u001b[0m             \u001b[0mleft\u001b[0m\u001b[1;33m,\u001b[0m\u001b[1;33m\u001b[0m\u001b[0m\n",
      "\u001b[1;32mC:\\Users\\monne\\Anaconda3\\lib\\site-packages\\pandas\\core\\ops.py\u001b[0m in \u001b[0;36msafe_na_op\u001b[1;34m(lvalues, rvalues)\u001b[0m\n\u001b[0;32m    698\u001b[0m         \u001b[1;32mtry\u001b[0m\u001b[1;33m:\u001b[0m\u001b[1;33m\u001b[0m\u001b[0m\n\u001b[0;32m    699\u001b[0m             \u001b[1;32mwith\u001b[0m \u001b[0mnp\u001b[0m\u001b[1;33m.\u001b[0m\u001b[0merrstate\u001b[0m\u001b[1;33m(\u001b[0m\u001b[0mall\u001b[0m\u001b[1;33m=\u001b[0m\u001b[1;34m'ignore'\u001b[0m\u001b[1;33m)\u001b[0m\u001b[1;33m:\u001b[0m\u001b[1;33m\u001b[0m\u001b[0m\n\u001b[1;32m--> 700\u001b[1;33m                 \u001b[1;32mreturn\u001b[0m \u001b[0mna_op\u001b[0m\u001b[1;33m(\u001b[0m\u001b[0mlvalues\u001b[0m\u001b[1;33m,\u001b[0m \u001b[0mrvalues\u001b[0m\u001b[1;33m)\u001b[0m\u001b[1;33m\u001b[0m\u001b[0m\n\u001b[0m\u001b[0;32m    701\u001b[0m         \u001b[1;32mexcept\u001b[0m \u001b[0mException\u001b[0m\u001b[1;33m:\u001b[0m\u001b[1;33m\u001b[0m\u001b[0m\n\u001b[0;32m    702\u001b[0m             \u001b[1;32mif\u001b[0m \u001b[0misinstance\u001b[0m\u001b[1;33m(\u001b[0m\u001b[0mrvalues\u001b[0m\u001b[1;33m,\u001b[0m \u001b[0mABCSeries\u001b[0m\u001b[1;33m)\u001b[0m\u001b[1;33m:\u001b[0m\u001b[1;33m\u001b[0m\u001b[0m\n",
      "\u001b[1;32mC:\\Users\\monne\\Anaconda3\\lib\\site-packages\\pandas\\core\\ops.py\u001b[0m in \u001b[0;36mna_op\u001b[1;34m(x, y)\u001b[0m\n\u001b[0;32m    674\u001b[0m \u001b[1;33m\u001b[0m\u001b[0m\n\u001b[0;32m    675\u001b[0m         \u001b[1;32mtry\u001b[0m\u001b[1;33m:\u001b[0m\u001b[1;33m\u001b[0m\u001b[0m\n\u001b[1;32m--> 676\u001b[1;33m             \u001b[0mresult\u001b[0m \u001b[1;33m=\u001b[0m \u001b[0mexpressions\u001b[0m\u001b[1;33m.\u001b[0m\u001b[0mevaluate\u001b[0m\u001b[1;33m(\u001b[0m\u001b[0mop\u001b[0m\u001b[1;33m,\u001b[0m \u001b[0mstr_rep\u001b[0m\u001b[1;33m,\u001b[0m \u001b[0mx\u001b[0m\u001b[1;33m,\u001b[0m \u001b[0my\u001b[0m\u001b[1;33m,\u001b[0m \u001b[1;33m**\u001b[0m\u001b[0meval_kwargs\u001b[0m\u001b[1;33m)\u001b[0m\u001b[1;33m\u001b[0m\u001b[0m\n\u001b[0m\u001b[0;32m    677\u001b[0m         \u001b[1;32mexcept\u001b[0m \u001b[0mTypeError\u001b[0m\u001b[1;33m:\u001b[0m\u001b[1;33m\u001b[0m\u001b[0m\n\u001b[0;32m    678\u001b[0m             \u001b[1;32mif\u001b[0m \u001b[0misinstance\u001b[0m\u001b[1;33m(\u001b[0m\u001b[0my\u001b[0m\u001b[1;33m,\u001b[0m \u001b[1;33m(\u001b[0m\u001b[0mnp\u001b[0m\u001b[1;33m.\u001b[0m\u001b[0mndarray\u001b[0m\u001b[1;33m,\u001b[0m \u001b[0mABCSeries\u001b[0m\u001b[1;33m,\u001b[0m \u001b[0mpd\u001b[0m\u001b[1;33m.\u001b[0m\u001b[0mIndex\u001b[0m\u001b[1;33m)\u001b[0m\u001b[1;33m)\u001b[0m\u001b[1;33m:\u001b[0m\u001b[1;33m\u001b[0m\u001b[0m\n",
      "\u001b[1;32mC:\\Users\\monne\\Anaconda3\\lib\\site-packages\\pandas\\core\\computation\\expressions.py\u001b[0m in \u001b[0;36mevaluate\u001b[1;34m(op, op_str, a, b, use_numexpr, **eval_kwargs)\u001b[0m\n\u001b[0;32m    202\u001b[0m     \u001b[0muse_numexpr\u001b[0m \u001b[1;33m=\u001b[0m \u001b[0muse_numexpr\u001b[0m \u001b[1;32mand\u001b[0m \u001b[0m_bool_arith_check\u001b[0m\u001b[1;33m(\u001b[0m\u001b[0mop_str\u001b[0m\u001b[1;33m,\u001b[0m \u001b[0ma\u001b[0m\u001b[1;33m,\u001b[0m \u001b[0mb\u001b[0m\u001b[1;33m)\u001b[0m\u001b[1;33m\u001b[0m\u001b[0m\n\u001b[0;32m    203\u001b[0m     \u001b[1;32mif\u001b[0m \u001b[0muse_numexpr\u001b[0m\u001b[1;33m:\u001b[0m\u001b[1;33m\u001b[0m\u001b[0m\n\u001b[1;32m--> 204\u001b[1;33m         \u001b[1;32mreturn\u001b[0m \u001b[0m_evaluate\u001b[0m\u001b[1;33m(\u001b[0m\u001b[0mop\u001b[0m\u001b[1;33m,\u001b[0m \u001b[0mop_str\u001b[0m\u001b[1;33m,\u001b[0m \u001b[0ma\u001b[0m\u001b[1;33m,\u001b[0m \u001b[0mb\u001b[0m\u001b[1;33m,\u001b[0m \u001b[1;33m**\u001b[0m\u001b[0meval_kwargs\u001b[0m\u001b[1;33m)\u001b[0m\u001b[1;33m\u001b[0m\u001b[0m\n\u001b[0m\u001b[0;32m    205\u001b[0m     \u001b[1;32mreturn\u001b[0m \u001b[0m_evaluate_standard\u001b[0m\u001b[1;33m(\u001b[0m\u001b[0mop\u001b[0m\u001b[1;33m,\u001b[0m \u001b[0mop_str\u001b[0m\u001b[1;33m,\u001b[0m \u001b[0ma\u001b[0m\u001b[1;33m,\u001b[0m \u001b[0mb\u001b[0m\u001b[1;33m)\u001b[0m\u001b[1;33m\u001b[0m\u001b[0m\n\u001b[0;32m    206\u001b[0m \u001b[1;33m\u001b[0m\u001b[0m\n",
      "\u001b[1;32mC:\\Users\\monne\\Anaconda3\\lib\\site-packages\\pandas\\core\\computation\\expressions.py\u001b[0m in \u001b[0;36m_evaluate_numexpr\u001b[1;34m(op, op_str, a, b, truediv, reversed, **eval_kwargs)\u001b[0m\n\u001b[0;32m    108\u001b[0m                                              'b_value': b_value},\n\u001b[0;32m    109\u001b[0m                                  \u001b[0mcasting\u001b[0m\u001b[1;33m=\u001b[0m\u001b[1;34m'safe'\u001b[0m\u001b[1;33m,\u001b[0m \u001b[0mtruediv\u001b[0m\u001b[1;33m=\u001b[0m\u001b[0mtruediv\u001b[0m\u001b[1;33m,\u001b[0m\u001b[1;33m\u001b[0m\u001b[0m\n\u001b[1;32m--> 110\u001b[1;33m                                  **eval_kwargs)\n\u001b[0m\u001b[0;32m    111\u001b[0m         \u001b[1;32mexcept\u001b[0m \u001b[0mValueError\u001b[0m \u001b[1;32mas\u001b[0m \u001b[0mdetail\u001b[0m\u001b[1;33m:\u001b[0m\u001b[1;33m\u001b[0m\u001b[0m\n\u001b[0;32m    112\u001b[0m             \u001b[1;32mif\u001b[0m \u001b[1;34m'unknown type object'\u001b[0m \u001b[1;32min\u001b[0m \u001b[0mstr\u001b[0m\u001b[1;33m(\u001b[0m\u001b[0mdetail\u001b[0m\u001b[1;33m)\u001b[0m\u001b[1;33m:\u001b[0m\u001b[1;33m\u001b[0m\u001b[0m\n",
      "\u001b[1;32mC:\\Users\\monne\\Anaconda3\\lib\\site-packages\\numexpr\\necompiler.py\u001b[0m in \u001b[0;36mevaluate\u001b[1;34m(ex, local_dict, global_dict, out, order, casting, **kwargs)\u001b[0m\n\u001b[0;32m    818\u001b[0m     \u001b[0m_numexpr_last\u001b[0m \u001b[1;33m=\u001b[0m \u001b[0mdict\u001b[0m\u001b[1;33m(\u001b[0m\u001b[0mex\u001b[0m\u001b[1;33m=\u001b[0m\u001b[0mcompiled_ex\u001b[0m\u001b[1;33m,\u001b[0m \u001b[0margnames\u001b[0m\u001b[1;33m=\u001b[0m\u001b[0mnames\u001b[0m\u001b[1;33m,\u001b[0m \u001b[0mkwargs\u001b[0m\u001b[1;33m=\u001b[0m\u001b[0mkwargs\u001b[0m\u001b[1;33m)\u001b[0m\u001b[1;33m\u001b[0m\u001b[0m\n\u001b[0;32m    819\u001b[0m     \u001b[1;32mwith\u001b[0m \u001b[0mevaluate_lock\u001b[0m\u001b[1;33m:\u001b[0m\u001b[1;33m\u001b[0m\u001b[0m\n\u001b[1;32m--> 820\u001b[1;33m         \u001b[1;32mreturn\u001b[0m \u001b[0mcompiled_ex\u001b[0m\u001b[1;33m(\u001b[0m\u001b[1;33m*\u001b[0m\u001b[0marguments\u001b[0m\u001b[1;33m,\u001b[0m \u001b[1;33m**\u001b[0m\u001b[0mkwargs\u001b[0m\u001b[1;33m)\u001b[0m\u001b[1;33m\u001b[0m\u001b[0m\n\u001b[0m\u001b[0;32m    821\u001b[0m \u001b[1;33m\u001b[0m\u001b[0m\n\u001b[0;32m    822\u001b[0m \u001b[1;33m\u001b[0m\u001b[0m\n",
      "\u001b[1;31mMemoryError\u001b[0m: "
     ]
    }
   ],
   "source": [
    "mse = np.array((test_targets - predictions_revenue)**2).sum()\n",
    "rmse = np.sqrt(mse)\n",
    "\n",
    "print('--'*20)\n",
    "print(f\"Mean square error : {mse}\")\n",
    "print(f\"Root mean square error : {rmse}\")\n",
    "print('--'*20)\n"
   ]
  },
  {
   "cell_type": "code",
   "execution_count": 38,
   "metadata": {},
   "outputs": [],
   "source": [
    "sub_df = pd.DataFrame({\"fullVisitorId\":test_id})\n",
    "predictions_revenue[predictions_revenue < 0] = 0"
   ]
  },
  {
   "cell_type": "code",
   "execution_count": 39,
   "metadata": {},
   "outputs": [],
   "source": [
    "sub_df[\"PredictedLogRevenue\"] = np.expm1(predictions_revenue)\n",
    "sub_df = sub_df.groupby(\"fullVisitorId\")[\"PredictedLogRevenue\"].sum().reset_index()\n",
    "sub_df.columns = [\"fullVisitorId\", \"PredictedLogRevenue\"]"
   ]
  },
  {
   "cell_type": "code",
   "execution_count": 40,
   "metadata": {},
   "outputs": [
    {
     "name": "stdout",
     "output_type": "stream",
     "text": [
      "----------------------------------------\n",
      "         fullVisitorId  PredictedLogRevenue\n",
      "0  0000000259678714014             0.729345\n",
      "1  0000049363351866189             0.038042\n",
      "2  0000053049821714864             0.036615\n",
      "3  0000059488412965267             0.049500\n",
      "4  0000085840370633780             0.000000\n",
      "----------------------------------------\n"
     ]
    }
   ],
   "source": [
    "sub_df[\"PredictedLogRevenue\"] = np.log1p(sub_df[\"PredictedLogRevenue\"])\n",
    "\n",
    "print('--'*20)\n",
    "print(sub_df.head())\n",
    "print('--'*20)\n"
   ]
  },
  {
   "cell_type": "code",
   "execution_count": 41,
   "metadata": {},
   "outputs": [],
   "source": [
    "Path = 'c:\\\\users\\\\monne\\\\Desktop'\n",
    "Name = 'Submission 2018-11-02-Bis.csv'\n",
    "pathFile = '\\\\'.join([Path,Name])\n",
    "sub_df.to_csv(pathFile, index=False)\n"
   ]
  },
  {
   "cell_type": "code",
   "execution_count": null,
   "metadata": {},
   "outputs": [],
   "source": []
  }
 ],
 "metadata": {
  "kernelspec": {
   "display_name": "Python 3",
   "language": "python",
   "name": "python3"
  },
  "language_info": {
   "codemirror_mode": {
    "name": "ipython",
    "version": 3
   },
   "file_extension": ".py",
   "mimetype": "text/x-python",
   "name": "python",
   "nbconvert_exporter": "python",
   "pygments_lexer": "ipython3",
   "version": "3.6.4"
  }
 },
 "nbformat": 4,
 "nbformat_minor": 2
}
