{
  "cells": [
    {
      "metadata": {
        "_uuid": "9248aa4a53b274e72700c3d223d6dc14942b6314"
      },
      "cell_type": "markdown",
      "source": "# What does your IDE say about you?\nWhen you go to write some code, what application do you open? Jupyter notebook? ATOM? IDEs are central to data science and analytical workflows. I believe that by taking a dive into the types of IDEs that Kaggle 2018 survey respondents say they use, we can gain insights to what the IDEs we use say about us.\n\n<table align=\"center\"><tr>\n<td>    <img src=\"http://jupyter.org/assets/main-logo.svg\" alt=\"Jupyter\" style=\"width: 100px;\"> </td>\n<td>    <img src=\"https://www.rstudio.com/wp-content/uploads/2014/06/RStudio-Ball.png\" alt=\"RStudio\" style=\"width: 100px;\"> </td>\n<td>   <img src=\"https://caktus-website-production-2015.s3.amazonaws.com/media/blog-images/logo.png\" alt=\"PyCharm\" style=\"width: 100px;\"> </td>\n<td>   <img src=\"https://upload.wikimedia.org/wikipedia/commons/f/f5/Notepad_plus_plus.png\" alt=\"Notepad\" style=\"width: 100px;\"> </td>\n<td>   <img src=\"https://upload.wikimedia.org/wikipedia/en/thumb/d/d2/Sublime_Text_3_logo.png/150px-Sublime_Text_3_logo.png\" alt=\"Sublime\" style=\"width: 100px;\"> </td>\n<td>   <img src=\"https://upload.wikimedia.org/wikipedia/commons/thumb/2/2d/Visual_Studio_Code_1.18_icon.svg/1028px-Visual_Studio_Code_1.18_icon.svg.png\" alt=\"VSC\" style=\"width: 100px;\"> </td>\n<td>   <img src=\"https://upload.wikimedia.org/wikipedia/commons/thumb/2/21/Matlab_Logo.png/220px-Matlab_Logo.png\" alt=\"Matlab\" style=\"width: 100px;\"> </td>\n <td>   <img src=\"https://upload.wikimedia.org/wikipedia/commons/thumb/8/80/Atom_editor_logo.svg/2000px-Atom_editor_logo.svg.png\" alt=\"Atom\" style=\"width: 100px;\"> </td>\n </tr></table>\n    \n## In this analysis I will explore the 2018 Kaggle Survey Results, specifically Q13 related to IDE useage:\n`Q13: Which of the following integrated development environments (IDE's) have you used at work or school in the last 5 years?`\n\n\n## A Tale of the 4 types of Kagglers.\nLater we will use clustering techniques to identify the 4 types of kagglers based on IDE use. Suprisingly these groups are quite unique and divide our population roughly in 4 equal parts.\n- **The Jupyter Lover** - Respondents that primarily uses Jupyter as their development environment.\n- **Jack of All IDEs** -  These respondents use a wide range of IDEs\n- **RStudio + Jupyer** - This group consists of users that use RStudio and Jupyter.\n- **Never Jupyters (and non-coders)** - This group consists of respondents who either don't use development software, or use a specialized IDE exclusively.\n\n## First, lets look at overall IDE use for Kaggle 2018 Survey respondents.\n**Some general questions to explore:**\n1. Generally what IDEs do respondents say they've used? Is there a specific type of IDEs that are used more/less commonly? Are there IDEs that are used commonly together?\n2. Can we define some distinct groups of \"coders\" by the IDEs they use? If someone uses VIM are they more commonly an experienced programmer? Are students more likely to use Jupyter notebooks?\n3. Are there other details about a respondant that correlate with the IDE they use? Do respondents who use specific IDEs typically make more or less money? Do specific job titles trend towards specific IDES?\n4. What were some of the freeform responses. What IDEs should be included next year as a selection?\n"
    },
    {
      "metadata": {
        "_uuid": "8f2839f25d086af736a60e9eeb907d3b93b6e0e5",
        "_cell_guid": "b1076dfc-b9ad-4769-8c92-a6c4dae69d19",
        "trusted": true,
        "_kg_hide-input": true
      },
      "cell_type": "code",
      "source": "import numpy as np # linear algebra\nimport pandas as pd # data processing, CSV file I/O (e.g. pd.read_csv)\nimport warnings\nimport seaborn as sns\nfrom matplotlib_venn import venn3, venn2\nwarnings.filterwarnings(\"ignore\")\nimport matplotlib.pylab as plt\nplt.style.use('fivethirtyeight')\n%matplotlib inline\n\n# Read Multiple Choice\nmc = pd.read_csv('../input/multipleChoiceResponses.csv')",
      "execution_count": null,
      "outputs": []
    },
    {
      "metadata": {
        "_kg_hide-input": true,
        "trusted": true,
        "_uuid": "01d1971f2468551eed7ac4c7c9415ccec4de7a56"
      },
      "cell_type": "code",
      "source": "# Data Prep\nide_qs = mc[['Q13_Part_1','Q13_Part_2','Q13_Part_3','Q13_Part_4','Q13_Part_5',\n             'Q13_Part_6','Q13_Part_7','Q13_Part_8','Q13_Part_9','Q13_Part_10',\n             'Q13_Part_11','Q13_Part_12','Q13_Part_13','Q13_Part_14','Q13_Part_15']].drop(0)\n\n# ide_qs = mc.drop(0).copy()\n\ncolumn_rename = {'Q13_Part_1': 'Jupyter/IPython',\n                 'Q13_Part_2': 'RStudio',\n                'Q13_Part_3': 'PyCharm',\n                'Q13_Part_4': 'Visual Studio Code',\n                'Q13_Part_5': 'nteract',\n                'Q13_Part_6': 'Atom',\n                'Q13_Part_7': 'MATLAB',\n                'Q13_Part_8': 'Visual Studio',\n                'Q13_Part_9': 'Notepad++',\n                'Q13_Part_10': 'Sublime Text',\n                'Q13_Part_11': 'Vim',\n                'Q13_Part_12': 'IntelliJ',\n                'Q13_Part_13': 'Spyder',\n                'Q13_Part_14': 'None',\n                'Q13_Part_15': 'Other',\n                }\nide_qs_binary = ide_qs.rename(columns=column_rename).fillna(0).replace('[^\\\\d]',1, regex=True)\nmc_and_ide = pd.concat([mc.drop(0), ide_qs_binary], axis=1)",
      "execution_count": null,
      "outputs": []
    },
    {
      "metadata": {
        "_uuid": "1a4705947ac02fc68ef64fb3bc83674a385ebaf9"
      },
      "cell_type": "markdown",
      "source": "# Overall IDE Popularity\nTakeaways:\n* Jupyter is a big favorite with over 50% of repondants using it.\n* RStudio leads up the rest of the pack. It's safe to say that respondents who code esclusively in R  would prefer RStudio as their main IDE.\n* Notepad++ is the top pure text editor above Sublime.\n* Some reponded with *None*.  Is it safe to assume that these people don't code?"
    },
    {
      "metadata": {
        "trusted": true,
        "_uuid": "9184160fd2505d3015ae1a473693bf40186cfeca",
        "_kg_hide-input": true
      },
      "cell_type": "code",
      "source": "color_pal = sns.color_palette(\"husl\", 16)\n\n(ide_qs_binary.sum() / ide_qs_binary.count()) \\\n    .sort_values() \\\n    .plot(kind='barh', figsize=(10, 10),\n          title='Percentage of respondents who have used this IDE in past 5 Years.',\n         color=color_pal)\n\nplt.show()",
      "execution_count": null,
      "outputs": []
    },
    {
      "metadata": {
        "_uuid": "f1c453cf5f8882ae0cd38ea10a77abc5631505df"
      },
      "cell_type": "markdown",
      "source": "# Overlap Between IDE Useage\nWe can start by making venn-diagrams with the most popular IDES. These are interesting because we can not only see how many people have used the IDE, but be can also see overlap between IDEs."
    },
    {
      "metadata": {
        "trusted": true,
        "_uuid": "197f3a3b37d3e017cd19bd2e11e86d4dee915caa",
        "_kg_hide-input": true
      },
      "cell_type": "code",
      "source": "plt.figure(figsize=(15, 8))\n\nvenn3(subsets=(len(ide_qs_binary.loc[(ide_qs_binary['Jupyter/IPython'] == 1) & (ide_qs_binary['RStudio'] == 0) & (ide_qs_binary['Notepad++'] == 0)]),\n               len(ide_qs_binary.loc[(ide_qs_binary['Jupyter/IPython'] == 0) & (ide_qs_binary['RStudio'] == 1) & (ide_qs_binary['Notepad++'] == 0)]),\n               len(ide_qs_binary.loc[(ide_qs_binary['Jupyter/IPython'] == 1) & (ide_qs_binary['RStudio'] == 1) & (ide_qs_binary['Notepad++'] == 0)]),\n               len(ide_qs_binary.loc[(ide_qs_binary['Jupyter/IPython'] == 0) & (ide_qs_binary['RStudio'] == 0) & (ide_qs_binary['Notepad++'] == 1)]),\n               len(ide_qs_binary.loc[(ide_qs_binary['Jupyter/IPython'] == 1) & (ide_qs_binary['RStudio'] == 0) & (ide_qs_binary['Notepad++'] == 1)]),\n               len(ide_qs_binary.loc[(ide_qs_binary['Jupyter/IPython'] == 0) & (ide_qs_binary['RStudio'] == 1) & (ide_qs_binary['Notepad++'] == 1)]),\n               len(ide_qs_binary.loc[(ide_qs_binary['Jupyter/IPython'] == 1) & (ide_qs_binary['RStudio'] == 1) & (ide_qs_binary['Notepad++'] == 1)])),\n      set_labels=('Jupyter', 'RStudio', 'Notepad++'))\nplt.title('Jupyter vs RStudio vs Notepad++ (All users)')\nplt.show()",
      "execution_count": null,
      "outputs": []
    },
    {
      "metadata": {
        "_uuid": "34a0552e5b75b12032849f4aeab11cc9ee7ad8be"
      },
      "cell_type": "markdown",
      "source": "# Students Love Jupyter!\n\nA lot of kaggleres (nearly half of all respondents) answered that they were \"students\". Since jupyter has a large use within teaching, it's interesting to see how the venn diagram differs between students and non-student respondents. While Jupyter is still very popular amonst both groups, the overlap between jupyter and the next top two popular IDEs (RStudio and Notepad++) is more varies amonst non-students. For non-students there are some exclusive users of RStudio and Notepad++, but most every student that uses these IDEs has also had some interaction with Jupyter."
    },
    {
      "metadata": {
        "trusted": true,
        "_uuid": "366cd691d5ddc53ae4e5cc6ac933bf222b73d685",
        "_kg_hide-input": true
      },
      "cell_type": "code",
      "source": "# Venn Diagram of \nplt.figure(figsize=(15, 8))\nplt.subplot(1, 2, 1)\nvenn3(subsets=(len(ide_qs_binary.loc[(ide_qs_binary['Jupyter/IPython'] == 1) & (ide_qs_binary['RStudio'] == 0) & (ide_qs_binary['Notepad++'] == 0 & (mc_and_ide['Q6'] == 'Student'))]),\n               len(ide_qs_binary.loc[(ide_qs_binary['Jupyter/IPython'] == 0) & (ide_qs_binary['RStudio'] == 1) & (ide_qs_binary['Notepad++'] == 0)& (mc_and_ide['Q6'] == 'Student')]),\n               len(ide_qs_binary.loc[(ide_qs_binary['Jupyter/IPython'] == 1) & (ide_qs_binary['RStudio'] == 1) & (ide_qs_binary['Notepad++'] == 0)& (mc_and_ide['Q6'] == 'Student')]),\n               len(ide_qs_binary.loc[(ide_qs_binary['Jupyter/IPython'] == 0) & (ide_qs_binary['RStudio'] == 0) & (ide_qs_binary['Notepad++'] == 1)& (mc_and_ide['Q6'] == 'Student')]),\n               len(ide_qs_binary.loc[(ide_qs_binary['Jupyter/IPython'] == 1) & (ide_qs_binary['RStudio'] == 0) & (ide_qs_binary['Notepad++'] == 1)& (mc_and_ide['Q6'] == 'Student')]),\n               len(ide_qs_binary.loc[(ide_qs_binary['Jupyter/IPython'] == 0) & (ide_qs_binary['RStudio'] == 1) & (ide_qs_binary['Notepad++'] == 1)& (mc_and_ide['Q6'] == 'Student')]),\n               len(ide_qs_binary.loc[(ide_qs_binary['Jupyter/IPython'] == 1) & (ide_qs_binary['RStudio'] == 1) & (ide_qs_binary['Notepad++'] == 1& (mc_and_ide['Q6'] == 'Student'))])),\n      set_labels=('Jupyter', 'RStudio', 'Notepad++'))\nplt.title('Students IDE Use')\nplt.subplot(1, 2, 2)\nvenn3(subsets=(len(ide_qs_binary.loc[(ide_qs_binary['Jupyter/IPython'] == 1) & (ide_qs_binary['RStudio'] == 0) & (ide_qs_binary['Notepad++'] == 0) & (mc_and_ide['Q6'] != 'Student')]),\n               len(ide_qs_binary.loc[(ide_qs_binary['Jupyter/IPython'] == 0) & (ide_qs_binary['RStudio'] == 1) & (ide_qs_binary['Notepad++'] == 0)& (mc_and_ide['Q6'] != 'Student')]),\n               len(ide_qs_binary.loc[(ide_qs_binary['Jupyter/IPython'] == 1) & (ide_qs_binary['RStudio'] == 1) & (ide_qs_binary['Notepad++'] == 0)& (mc_and_ide['Q6'] != 'Student')]),\n               len(ide_qs_binary.loc[(ide_qs_binary['Jupyter/IPython'] == 0) & (ide_qs_binary['RStudio'] == 0) & (ide_qs_binary['Notepad++'] == 1)& (mc_and_ide['Q6'] != 'Student')]),\n               len(ide_qs_binary.loc[(ide_qs_binary['Jupyter/IPython'] == 1) & (ide_qs_binary['RStudio'] == 0) & (ide_qs_binary['Notepad++'] == 1)& (mc_and_ide['Q6'] != 'Student')]),\n               len(ide_qs_binary.loc[(ide_qs_binary['Jupyter/IPython'] == 0) & (ide_qs_binary['RStudio'] == 1) & (ide_qs_binary['Notepad++'] == 1)& (mc_and_ide['Q6'] != 'Student')]),\n               len(ide_qs_binary.loc[(ide_qs_binary['Jupyter/IPython'] == 1) & (ide_qs_binary['RStudio'] == 1) & (ide_qs_binary['Notepad++'] == 1& (mc_and_ide['Q6'] != 'Student'))])),\n      set_labels=('Jupyter', 'RStudio', 'Notepad++'))\nplt.title('Non-Students IDE Use')\nplt.show()",
      "execution_count": null,
      "outputs": []
    },
    {
      "metadata": {
        "_uuid": "e4cf5077b9b5210b7bb42f36215eac3b2de0f2a2"
      },
      "cell_type": "markdown",
      "source": "# Notepad++ is the most popular 'text editor' but others are close behind.\nI wanted to look at a venn diagram showing some of the IDEs that serve the same purpose. Since RStudio is exclusively R, and Jupyter is unique in it's interactive cells - how did respondents overlap in which text editors they say they use.\n\nThis is a pretty clean venn diagram. You can see that there are more exclusive Notepad++ users than PyCharm and Sublime Text, but the areas where they overlap are strikingly similar. The 1556 people in the center are possibly just peopel who enjoy trying everything out, since the question said \"[which IDE] have you used at work or school in the last 5 years?\" So the respondents aren't necessarily stating which IDE they like the most, just the ones they've used."
    },
    {
      "metadata": {
        "trusted": true,
        "_uuid": "b4b024c62c5bcdba4691a00f8ab831445fac48cb",
        "_kg_hide-input": true,
        "_kg_hide-output": false
      },
      "cell_type": "code",
      "source": "# Mabye do some more venn diagrams like this, but it might be too much.\nplt.figure(figsize=(15, 8))\n\nvenn3(subsets=(len(ide_qs_binary.loc[(ide_qs_binary['Sublime Text'] == 1) & (ide_qs_binary['PyCharm'] == 0) & (ide_qs_binary['Notepad++'] == 0)]),\n               len(ide_qs_binary.loc[(ide_qs_binary['Sublime Text'] == 0) & (ide_qs_binary['PyCharm'] == 1) & (ide_qs_binary['Notepad++'] == 0)]),\n               len(ide_qs_binary.loc[(ide_qs_binary['Sublime Text'] == 1) & (ide_qs_binary['PyCharm'] == 1) & (ide_qs_binary['Notepad++'] == 0)]),\n               len(ide_qs_binary.loc[(ide_qs_binary['Sublime Text'] == 0) & (ide_qs_binary['PyCharm'] == 0) & (ide_qs_binary['Notepad++'] == 1)]),\n               len(ide_qs_binary.loc[(ide_qs_binary['Sublime Text'] == 1) & (ide_qs_binary['PyCharm'] == 0) & (ide_qs_binary['Notepad++'] == 1)]),\n               len(ide_qs_binary.loc[(ide_qs_binary['Sublime Text'] == 0) & (ide_qs_binary['PyCharm'] == 1) & (ide_qs_binary['Notepad++'] == 1)]),\n               len(ide_qs_binary.loc[(ide_qs_binary['Sublime Text'] == 1) & (ide_qs_binary['PyCharm'] == 1) & (ide_qs_binary['Notepad++'] == 1)])),\n      set_labels=('Sublime Text', 'PyCharm', 'Notepad++'))\nplt.title('Sublime Text vs PyCharm vs Notepad++ (All)')\nplt.show()",
      "execution_count": null,
      "outputs": []
    },
    {
      "metadata": {
        "trusted": true,
        "_uuid": "1a59713e2fb04bc4fa905abd67ee884d24fe23f6"
      },
      "cell_type": "markdown",
      "source": "# Job Title and IDEs - the results might suprise you! \n## *Hover over a cell to see the percentage\n\nLet's work off of the hypothesis that the type of work you do will impact the type of tools you use. We compare the IDE use of different job types below. This chart allows us to see what percentage of professional groups use each IDE. \n\nSome interesting insights we can see are:\n1. Jupyter/IPython is popular for pretty much every job title. This is obviously biased because the respondents also use kaggle! Surveying non-kaggler \n2. Statisticians use Jupyter the least (51.9%). Is this because they also tend to be R users (74.68% use RStudio)?\n3. DBA/Database Engineers and Software Engineer are heavy Notepad++ users, but I find it personally suprising that Data Journalists and Developer Advocates also use this IDE.  What drives this similarity among disparate occupations?\n4. Visual Studio and Visual Studio Code are popular amonst Developer Advocates and Software Engineers\n5. Matlab looks to be quite popular within academia. Students, Research Assistants, Research Scientists, and Principal Investigators stand out as Matlab users."
    },
    {
      "metadata": {
        "_kg_hide-input": true,
        "trusted": true,
        "_uuid": "0d95024e445fa6e10296b0f737e86c109ab30649"
      },
      "cell_type": "code",
      "source": "ide_by_q6 = mc_and_ide \\\n    .rename(columns={'Q6':'Job Title'}) \\\n    .groupby('Job Title')['Jupyter/IPython','RStudio','PyCharm','Visual Studio Code',\n                   'nteract','Atom','MATLAB','Visual Studio','Notepad++','Sublime Text',\n                   'Vim','IntelliJ','Spyder','None','Other'] \\\n    .mean()\n\ndef magnify():\n    return [dict(selector=\"th\",\n                 props=[(\"font-size\", \"8pt\")]),\n            dict(selector=\"td\",\n                 props=[('padding', \"0em 0em\")]),\n            dict(selector=\"th:hover\",\n                 props=[(\"font-size\", \"9pt\")]),\n            dict(selector=\"tr:hover td:hover\",\n                 props=[('max-width', '200px'),\n                        ('font-size', '9pt')])\n]\nnp.random.seed(25)\ncmap = cmap=sns.diverging_palette(5, 250, as_cmap=True)\n#bigdf = pd.DataFrame(np.random.randn(20, 25)).cumsum()\nide_by_q6.T.sort_values('Data Analyst', ascending=False).T \\\n    .sort_values('RStudio', ascending=False) \\\n    .rename(columns={'Jupyter/IPython': 'Jupyter',\n                     'Visual Studio':'VStudio',\n                     'Visual Studio Code': \"VSCode\",\n                     'Sublime Text': 'Sublime'}) \\\n    [['Jupyter','RStudio','Notepad++','PyCharm','Spyder','Sublime','MATLAB','VStudio','VSCode']] \\\n    .sort_index() \\\n    .style.background_gradient(cmap, axis=1)\\\n    .set_properties(**{'max-width': '100px', 'font-size': '1pt'})\\\n    .set_caption(\"Hover to magnify\")\\\n    .set_precision(2)\\\n    .set_table_styles(magnify()) \\\n    .format(\"{:.2%}\")",
      "execution_count": null,
      "outputs": []
    },
    {
      "metadata": {
        "_uuid": "11d26583b828a0734c7f325146268aa745d03a6c"
      },
      "cell_type": "markdown",
      "source": "# Correlations between IDEs and Salary\n\nIt's always fun to plot the data by salary.   Of course, we shoud be weary of drawing any causal conclusions from this analysis. Correlation does note equal causation! Don't change the IDE you use thinking it will make you more money.\n\n*Note: I ignored NA values and those that answered \"I do not wish to disclose my approximate yearly compensation\" to the salary question. This may bias our results and should be considered.\n\nSome takeaways:\n- Each IDE appears to have it's own unique trend when looking at popularity vs. income which I find unexpected and interesting.\n- RStudio use appears to have a somewhat normal distribution around the mid-salary range.\n- PyCharm and VSCode appear to be fairly flat, with little changes in popularity around income.\n- Notepad++ starts to trend downward as salary goes above \\$100k. VIM trends upwards."
    },
    {
      "metadata": {
        "_kg_hide-input": true,
        "trusted": true,
        "_uuid": "12f7769db4b84cb02be94490c455104c33f532f8"
      },
      "cell_type": "code",
      "source": "# Make Salary into a categorical so it can be sorted\nsalary_ordered = ['0-10,000' ,\n                    '10-20,000',\n                    '20-30,000',\n                    '30-40,000',\n                    '40-50,000',\n                    '50-60,000',\n                    '60-70,000',\n                    '70-80,000',\n                    '80-90,000',\n                    '90-100,000',\n                    '100-125,000',\n                    '125-150,000',\n                    '150-200,000',\n                    '200-250,000',\n                    '250-300,000',\n                    '300-400,000',\n                    '400-500,000',\n                    '500,000+',\n                  #  'I do not wish to disclose my approximate yearly compensation'\n                 ]\nmc_and_ide['Salary'] = pd.Categorical(mc_and_ide['Q9'], salary_ordered)\n\n\nide_salary_breakdown = mc_and_ide.groupby('Salary')['Jupyter/IPython','RStudio','PyCharm','Visual Studio Code',\n                   'nteract','Atom','MATLAB','Visual Studio','Notepad++','Sublime Text',\n                   'Vim','IntelliJ','Spyder','None','Other'].mean().sort_index()\n\nide_salary_breakdown['Mean Salary'] = [5, 15, 25, 35, 45, 55, 65, 75,\n                                       85, 95, 112.500, 137.500, 175.000, 225.000, 275.000,\n                                       350.000, 450.000, 550.000]",
      "execution_count": null,
      "outputs": []
    },
    {
      "metadata": {
        "_kg_hide-input": true,
        "trusted": true,
        "scrolled": false,
        "_uuid": "eb5e4fba8e4b129b62905f105c1e2eb9328248bc"
      },
      "cell_type": "code",
      "source": "fig, axes = plt.subplots(nrows=5, ncols=3, sharex=True, sharey=True, figsize=(15, 15))\ncolor_pal = sns.color_palette(\"husl\", 16)\nn = 1\nfor col in ide_salary_breakdown.set_index('Mean Salary').columns:\n    #print(col)\n    plt.subplot(5, 3, n)\n    ide_salary_breakdown.set_index('Mean Salary')[col].plot(title=col, xlim=(20,300), color=color_pal[n])\n    plt.ylabel('% Use')\n    plt.xlabel('Mean Salary ($1,000)')\n    n += 1\nplt.subplots_adjust(hspace = 0.5)\nplt.suptitle('IDE Use (% of respondents) by Salary (\\$20k-$300k)', size=20)\nfig.tight_layout()\nfig.subplots_adjust(top=0.93)\nplt.show()",
      "execution_count": null,
      "outputs": []
    },
    {
      "metadata": {
        "_uuid": "78b706d8699742228ba7243dc914f1c1313d16bd"
      },
      "cell_type": "markdown",
      "source": "## Lets look closer at the relationship between salary and IDE use\nIn the below chart we can see the excact number of respondents from each salary grouping. \nWith a chart like this insights are usually in the abnormalities. For instance:\n- We can see that PyCharm is comparably popular in the \\$120-\\$150k to other IDEs. Could this be because this is the salary range of a serious python developer?\n- We can see the proportinal relationship between Jupyter and unix based text editors varies in salary range. We see a Jupyter to Vim ratio of almost `4:1` in the \\$0-\\$10k salary, but that drops down to a `2:1` ratio in the \\$150-\\$200k range. Could it be that those that have more job experience also spend more time in the unix shell? "
    },
    {
      "metadata": {
        "_kg_hide-input": true,
        "trusted": true,
        "_uuid": "ab6f0db7547fe8ff08034be8f1218a5b95962628"
      },
      "cell_type": "code",
      "source": "salary_ide_counts = mc_and_ide.groupby('Salary')['Jupyter/IPython', 'RStudio', 'PyCharm',\n                             'Visual Studio Code', 'nteract', 'Atom',\n                             'MATLAB', 'Visual Studio', 'Notepad++',\n                             'Sublime Text', 'Vim', 'IntelliJ', 'Spyder',\n                             'None', 'Other'] \\\n    .sum() \\\n    .T \\\n    .sort_values('90-100,000', ascending=False) \\\n    .T \\\n    .sort_index() \\\n    .T\n\nsalary_ide_counts.columns = [str(col) for col in salary_ide_counts.columns]\nsalary_ide_counts['\\$250k+'] = salary_ide_counts[['250-300,000', '300-400,000', '400-500,000', '500,000+']].sum(axis=1)\nsalary_ide_counts['\\$150k-$250k'] = salary_ide_counts[['150-200,000', '200-250,000']].sum(axis=1)\nsalary_ide_counts['\\$100k-$150k'] = salary_ide_counts[['100-125,000', '125-150,000']].sum(axis=1)\nsalary_ide_counts['\\$80k-$100k'] = salary_ide_counts[['80-90,000', '90-100,000']].sum(axis=1)\nsalary_ide_counts['\\$60k-$80k'] = salary_ide_counts[['60-70,000', '70-80,000']].sum(axis=1)\nsalary_ide_counts['\\$40k-$60k'] = salary_ide_counts[['40-50,000', '50-60,000']].sum(axis=1)\nsalary_ide_counts['\\$20k-$40k'] = salary_ide_counts[['20-30,000', '30-40,000']].sum(axis=1)\nsalary_ide_counts['\\$0-$20k'] = salary_ide_counts[['0-10,000', '10-20,000']].sum(axis=1)\n\nsalary_ide_counts[['\\$0-$20k','\\$20k-$40k','\\$40k-$60k','\\$60k-$80k','\\$80k-$100k','\\$100k-$150k','\\$150k-$250k','\\$250k+']] \\\n    .style.background_gradient(cmap)",
      "execution_count": null,
      "outputs": []
    },
    {
      "metadata": {
        "_uuid": "61f6b306b277bac951f602290bdbd16aae7f546c"
      },
      "cell_type": "markdown",
      "source": "# The country you reside and your IDE\n(Results shown are % of respondents who use the IDE within the county)\n\nSome really interesting insights can be drawn from looking at IDE use by country.  To keep things simple I'm only looking at the top 10 countries (and later top 5) by respondents. This is only to keep the visualizations easy to read and gain insights.\n\nSome insights that stand out are:\n- China and Russia have less love for RStudio compared to other countries. They also appear to be heavier PyCharm users.\n- Jupyter is not as popular in China as in other countries, with only 46% of chinese respondents saying they use Jupyer. China also has more than average MATLAB users.\n- Visual Studio Code is popular in Brazil with 30% of brazilians saying they've used it.\n- Spyder apears to have a slightly stronger following in India than in other countries."
    },
    {
      "metadata": {
        "trusted": true,
        "_uuid": "53da04985dd09976c6705631aae86ddb2b1c4be1",
        "_kg_hide-input": true
      },
      "cell_type": "code",
      "source": "# Make a sorted list of country by number of responses.\ncountry_sorted = mc_and_ide.groupby('Q3').count().sort_values('Q1', ascending=False).index\n\ncountry_ide_stats = mc_and_ide.groupby('Q3')['Jupyter/IPython','RStudio','PyCharm',\n                                             'Visual Studio Code',\n                   'nteract','Atom','MATLAB','Visual Studio','Notepad++','Sublime Text',\n                   'Vim','IntelliJ','Spyder','None','Other'] \\\n    .mean()\ncountry_ide_stats.index = pd.Categorical(country_ide_stats.index, country_sorted)\ncountry_ide_stats.sort_index()[:10] \\\n    .rename({'United Kingdom of Great Britain and Northern Ireland':'GB/N.Ireland',\n             'United States of America':'USA'}) \\\n    .T \\\n    .sort_values('USA', ascending=False) \\\n    .style.background_gradient(cmap, axis=0).format(\"{:.0%}\")",
      "execution_count": null,
      "outputs": []
    },
    {
      "metadata": {
        "_kg_hide-input": true,
        "trusted": true,
        "_uuid": "098bf91aecdf5a0f6fbfd6b23ef783a704df9c1a"
      },
      "cell_type": "code",
      "source": "country_ide_stats.sort_index()[:6].drop('Other',axis=1) \\\n    .rename({'United Kingdom of Great Britain and Northern Ireland':'GB/N.Ireland',\n             'United States of America':'USA'}) \\\n    .T \\\n    .sort_values('USA', ascending=False) \\\n    .plot(kind='bar', figsize=(15, 5), title='Percentage of Respondents who use IDE for Top 5 Countries')\nplt.show()",
      "execution_count": null,
      "outputs": []
    },
    {
      "metadata": {
        "_uuid": "d469bd812b6bd7f1c048c69f734804ae54d72033"
      },
      "cell_type": "markdown",
      "source": "# IDE Use By Age\nSuprisingly, visually we don't see any major differences in age groups distribution of IDE use. It does appear that RStudio is less popular proportionally amonst the younger respondents (Ages 18-24).  When looking at the distribution of each IDE we can see some have higher use in the younger respondents. "
    },
    {
      "metadata": {
        "_kg_hide-input": true,
        "trusted": true,
        "_uuid": "94430fd07b0f004534e44d24f7fc2e3e991e5782"
      },
      "cell_type": "code",
      "source": "age_ide_counts = mc_and_ide.groupby('Q2')['Jupyter/IPython','RStudio','PyCharm','Visual Studio Code',\n                   'nteract','Atom','MATLAB','Visual Studio','Notepad++','Sublime Text',\n                   'Vim','Spyder'] \\\n    .sum()\n\nage_ide_counts.apply(lambda x: x / x.sum() * 100, axis=1) \\\n    .plot(kind='bar', stacked=True, figsize=(15, 5), title=\"IDE Use by Age\", colormap=plt.get_cmap('tab20'))\nplt.style.use('ggplot')\nplt.ylabel('Percent total Use')\nplt.xlabel('Age')\nplt.legend(loc='center left', bbox_to_anchor=(1.0, 0.5))\nplt.show()",
      "execution_count": null,
      "outputs": []
    },
    {
      "metadata": {
        "trusted": true,
        "_uuid": "8eddedaf83dac5289cd44502a09f6b6f91f66f37",
        "_kg_hide-input": true
      },
      "cell_type": "code",
      "source": "fig, axes = plt.subplots(nrows=4, ncols=3, sharex=True, sharey=True, figsize=(15, 10))\nn = 1\nfor col in age_ide_counts.columns:\n    plt.subplot(4, 3, n)\n    age_ide_counts[col].plot.bar(title=col, color=color_pal[n])\n    plt.xlabel('Age')\n    plt.ylabel('Count')\n    n += 1\nplt.subplots_adjust(hspace = 0.9)\n#fig.tight_layout()\n#fig.subplots_adjust(top=0.93)\nplt.show()",
      "execution_count": null,
      "outputs": []
    },
    {
      "metadata": {
        "_uuid": "8e179862c26c5759cb76ccde253514f13ea17091"
      },
      "cell_type": "markdown",
      "source": "# Freeform Responses\nWe should also look at the freeform responses. The wordcloud shows the commonly listed freeform responses. Eclipse, emacs, netbeans, xcode, octave. These should be added as options to select from in the 2019 survey."
    },
    {
      "metadata": {
        "_kg_hide-input": true,
        "trusted": true,
        "_uuid": "22f1995f38502d8d243524ba78ebd9bb2b90e05d"
      },
      "cell_type": "code",
      "source": "ff = pd.read_csv('../input/freeFormResponses.csv')\nff['count'] = 1\nff['IDE_lower'] = ff['Q13_OTHER_TEXT'].str.lower()\nff.drop(0)[['IDE_lower','count']].groupby('IDE_lower').sum()[['count']].sort_values('count', ascending=False)\n\nfrom wordcloud import WordCloud, STOPWORDS, ImageColorGenerator\nplt.figure(figsize=[15,8])\n\n# Create and generate a word cloud image:\nide_words = ' '.join(ff['IDE_lower'].drop(0).dropna().values)\nwordcloud = WordCloud(colormap=\"Blues\",\n                      width=1200,\n                      height=480,\n                      normalize_plurals=False).generate(ide_words)\n\n# Display the generated image:\nplt.imshow(wordcloud, interpolation='bilinear')\nplt.axis(\"off\")\nplt.show()",
      "execution_count": null,
      "outputs": []
    },
    {
      "metadata": {
        "_uuid": "a9339129c3bc54687edbea84280921d641181295"
      },
      "cell_type": "markdown",
      "source": "# The 4 Types of Kagglers (by IDE use)\n## *This section is still in progress, please let me know if you have suggestions for better describing these clusters**\n\nNext we will use the KMeans clustering algorithm to divide the kaggle survey respondents into 4 groups based solely on their IDE use. We will then look to see if we can gain any insights from these four group."
    },
    {
      "metadata": {
        "_kg_hide-input": true,
        "trusted": true,
        "_uuid": "f54424c4c1d9dd2c61b35dfc2410bdc860798162"
      },
      "cell_type": "code",
      "source": "ide_qs_binary = ide_qs.rename(columns=column_rename).fillna(0).replace('[^\\\\d]',1, regex=True)\nide_qs_binary['no reponse'] = ide_qs_binary.sum(axis=1).apply(lambda x: 1 if x == 0 else 0)\nide_qs_binary = ide_qs_binary.loc[ide_qs_binary['no reponse'] == 0].drop('no reponse', axis=1).copy()\n\n# Make the clusters\nfrom sklearn.cluster import KMeans\ny_pred = KMeans(n_clusters=4, random_state=1).fit_predict(ide_qs_binary)\nide_qs_binary['cluster'] = y_pred\n\n# Name the clusters\ny_pred_named = ['Cluster1' if x == 0 else \\\n                'Cluster2' if x == 1 else \\\n                'Cluster3' if x == 2 else \\\n                'Cluster4' for x in y_pred]\n\nide_qs_binary['cluster_name'] = y_pred_named\n\ncluster1 = ide_qs_binary.loc[ide_qs_binary['cluster'] == 0]\ncluster2 = ide_qs_binary.loc[ide_qs_binary['cluster'] == 1]\ncluster3 = ide_qs_binary.loc[ide_qs_binary['cluster'] == 2]\ncluster4 = ide_qs_binary.loc[ide_qs_binary['cluster'] == 3]\n\nide_qs_binary = ide_qs_binary.replace({ide_qs_binary.groupby('cluster_name').sum().sort_values('Jupyter/IPython', ascending=False).iloc[0].name: 'Jupyter Lovers',\n                     ide_qs_binary.groupby('cluster_name').sum().sort_values('Jupyter/IPython', ascending=True).iloc[0].name: 'Anti-Jupyters',\n                     ide_qs_binary.groupby('cluster_name').sum().sort_values('RStudio', ascending=False).iloc[0].name: 'RStudio and Jupyter',\n                     ide_qs_binary.groupby('cluster_name').sum().sort_values('PyCharm', ascending=False).iloc[0].name: 'Jack of All IDEs'}).copy()\n\nmc_and_ide['cluster_name'] = ide_qs_binary['cluster_name']\nmc_and_ide['cluster_name'] = mc_and_ide['cluster_name'].fillna('No Response')\nmc_and_ide['count'] = 1",
      "execution_count": null,
      "outputs": []
    },
    {
      "metadata": {
        "_uuid": "d396f4b496edbf629062b3304d64fb3856aa1f34"
      },
      "cell_type": "markdown",
      "source": "Lets return to the venn-diagrams from before, so that we can get a sense of our four clusters. Note that the Anti-Jupyters don't have any "
    },
    {
      "metadata": {
        "trusted": true,
        "_uuid": "3b9f0ae1218371859213b8de0e63436ccfc5276b",
        "_kg_hide-input": true
      },
      "cell_type": "code",
      "source": "def ven3_jrn(df):\n    if df['cluster_name'].iloc[0] == 'Anti-Jupyters':\n        return venn2(subsets=(len(df.loc[(df['RStudio'] == 1) & (df['Notepad++'] == 0)]),\n                              len(df.loc[(df['RStudio'] == 0) & (df['Notepad++'] == 1)]),\n                              len(df.loc[(df['RStudio'] == 1) & (df['Notepad++'] == 1)])),\n                    set_labels=('RStudio', 'Notepad++'))\n    if df['cluster_name'].iloc[0] == 'Jupyter Lovers':\n        return venn2(subsets=(len(df.loc[(df['Jupyter/IPython'] == 1) & (df['Notepad++'] == 0)]),\n                              len(df.loc[(df['Jupyter/IPython'] == 0) & (df['Notepad++'] == 1)]),\n                              len(df.loc[(df['Jupyter/IPython'] == 1) & (df['Notepad++'] == 1)])),\n                    set_labels=('Jupyter/IPython', 'Notepad++'))\n    return venn3(subsets=(len(df.loc[(df['Jupyter/IPython'] == 1) & (df['RStudio'] == 0) & (df['Notepad++'] == 0)]),\n               len(df.loc[(df['Jupyter/IPython'] == 0) & (df['RStudio'] == 1) & (df['Notepad++'] == 0)]),\n               len(df.loc[(df['Jupyter/IPython'] == 1) & (df['RStudio'] == 1) & (df['Notepad++'] == 0)]),\n               len(df.loc[(df['Jupyter/IPython'] == 0) & (df['RStudio'] == 0) & (df['Notepad++'] == 1)]),\n               len(df.loc[(df['Jupyter/IPython'] == 1) & (df['RStudio'] == 0) & (df['Notepad++'] == 1)]),\n               len(df.loc[(df['Jupyter/IPython'] == 0) & (df['RStudio'] == 1) & (df['Notepad++'] == 1)]),\n               len(df.loc[(df['Jupyter/IPython'] == 1) & (df['RStudio'] == 1) & (df['Notepad++'] == 1)])),\n      set_labels=('Jupyter', 'RStudio', 'Notepad++'))\n\nplt.figure(figsize=(15, 8))\nn = 1\n\nfor i, d in ide_qs_binary.groupby('cluster_name'):\n    plt.subplot(1, 4, n)\n    ven3_jrn(d)\n    plt.title(i)\n    n += 1\nplt.show()",
      "execution_count": null,
      "outputs": []
    },
    {
      "metadata": {
        "_kg_hide-input": true,
        "trusted": true,
        "_uuid": "13638559222a4e8baee79f432f25f8c5078a49b0"
      },
      "cell_type": "code",
      "source": "ide_qs_binary.groupby('cluster_name') \\\n    .sum() \\\n    .T \\\n    .sort_values('Jupyter Lovers', ascending=False) \\\n    .T \\\n    .drop('cluster', axis=1) \\\n    .plot(kind='bar', figsize=(15, 5), title='IDE by Cluster Group', rot=0, colormap=plt.get_cmap('tab20'))\nplt.legend(loc='center left', bbox_to_anchor=(1.0, 0.5))\nplt.show()",
      "execution_count": null,
      "outputs": []
    },
    {
      "metadata": {
        "_uuid": "0ed0671f1c9d0b78e4bdef33de7b4bba67aad85c"
      },
      "cell_type": "markdown",
      "source": "With this information we will group our population into three distincy groups:\n\nGroup 1 - **The Jupyter Lover** (5549 respondents in this group)\n\n <img src=\"https://ih1.redbubble.net/image.457277318.8824/ra,unisex_tshirt,x2200,heather_grey,front-c,392,146,750,1000-bg,f8f8f8.jpg\" alt=\"Jupyter Lover\" style=\"width: 200px;\">\n- These people tend to use Jupyter more than any other IDE, they also tend to use Jupyer exclusively.\n\nGroup 2 - **Jack of All IDEs** (4222 respondents in this group)\n<img src=\"https://cdn-images-1.medium.com/max/1200/1*rV2Jl_qaqzCzCp9Vf0_kUw.png\" alt=\"Jupyter Lover\" style=\"width: 300px;\">\n- A slightly smaller group of kagglers than the other two. These kagglers use Jupyter like group 1, but also use Notepad++, RStudio and other IDEs.\n\nGroup 3 - **RStudio + Jupyer** (5872 respondents in this group)\n <img src=\"https://ih1.redbubble.net/image.319703067.4496/ra,womens_tshirt,x1900,fafafa:ca443f4786,front-c,265,125,750,1000-bg,f8f8f8.u1.jpg\" alt=\"Jupyter Lover\" style=\"width: 200px;\">\n - These respondents use RStudio but also use Jupyter.\n \nGroup 4 - **Never Jupyters (and non-coders)** (4588 respondents in this group)\n <img src=\"https://i.imgflip.com/2m8ycy.jpg\" alt=\"Jupyter Lover\" style=\"width: 400px;\">\n- These kagglers don't use Jupyter at all. While some use IDEs, many of them selected no IDEs at all. This group contains many non-coders but also very specialized IDE users that use one IDE exclusively.\n\n**NO RESPONSE GROUP** (4743 respondents) - We droped the respondents that didn't answer anything for this question- the assumption being that they didn't take the time to select any answer including 'none' so we will no use them for clustering.\n\n"
    },
    {
      "metadata": {
        "_uuid": "6cb0c20a203b93b392bc22977130668bb8a12e58"
      },
      "cell_type": "markdown",
      "source": "## What other insights can we pull from these three groups?\nWe can start by looking at the top 3 answers for other questions these groups replied with for some of the other survey questions.\n\n\n"
    },
    {
      "metadata": {
        "_uuid": "d26c7ce264c5d3fec741f9194ad4be2069fed4fd"
      },
      "cell_type": "markdown",
      "source": "|           | Jupyter Lovers                                    | Jack of All IDEs                                  | RStudio + Jupyter                            |                    No Jupyter                   | No Response                                       |\n|-----------|---------------------------------------------------|---------------------------------------------------|----------------------------------------------|:-----------------------------------------------:|---------------------------------------------------|\n| Age       | 1.25-29 2.22-24 3.30-34                           | 1.25-29 2.22-24 3.30-34                           | 1.25-29 2.30-34 3.22-24                      |             1.25-29 2.22-24 3.30-34             | 1. 22-24 2. 25-29 3. 18-21                        |\n| Country   | 1. India 2. USA 3. China                          | 1. USA 2. India 3. China                          | 1. USA 2. India 3. UK                        |             1. USA 2. India 3. China            | 1. India 2. USA 3. China                          |\n| Job Title | 1. Student 2. Data Scientist 3. Software Engineer | 1. Student 2. Software Engineer 3. Data Scientist | 1. Data Scientist 2. Student 3. Data Analyst | 1. Student 2. Software Engineer 3. Data Analyst | 1. Student 2. Software Engineer 3. Data Scientist |\n|           |                                                   |                                                   |                                              |                                                 |                                                   |\n|           |                                                   |                                                   |                                              |                                                 |                                                   |\n|           |                                                   |                                                   |                                              |                                                 |                                                   |\n|           |                                                   |                                                   |                                              |                                                 |                                                   |\n|           |                                                   |                                                   |                                              |                                                 |                                                   |"
    },
    {
      "metadata": {
        "_kg_hide-input": true,
        "trusted": true,
        "_uuid": "eaa5f3049b4eba494d85035fb489695ec0005d42"
      },
      "cell_type": "code",
      "source": "# groups = [('count','Jupyter Lovers'),\n#          ('count','Jack of All IDEs'),\n#          ('count','RStudio and Jupyter'),\n#          ('count','Anti-Jupyters'),\n#          ('count','No Response'),]\n\n# for col in mc_and_ide.columns:\n#     print('-----' +col)\n#     print('-----------------' + mc[col][0])\n#     for group in groups:\n#         print(group)\n#         print('-----{}------'.format(group[1]))\n#         print(mc_and_ide.groupby(['cluster_name',col])[['count']].sum().unstack('cluster_name').sort_values(group, ascending=False)[[group]][:3])",
      "execution_count": null,
      "outputs": []
    },
    {
      "metadata": {
        "_uuid": "9126b123e1f7d86c94574a839c82b8588a399b0c"
      },
      "cell_type": "markdown",
      "source": "# Work in progress - Plot the groups as % of other questions...."
    },
    {
      "metadata": {
        "_kg_hide-input": true,
        "trusted": true,
        "_uuid": "533313c38501eb92b5b0392aebce36c34ec1c9f1",
        "_kg_hide-output": true
      },
      "cell_type": "code",
      "source": "for col in df.columns:\n    df[[col]].sort_values(col, ascending=True).plot.barh(title = col, figsize=(10, 5))\n    plt.show()",
      "execution_count": null,
      "outputs": []
    },
    {
      "metadata": {
        "_uuid": "d7c45c6575fa111d1d2913fd402a54f768ead05f"
      },
      "cell_type": "markdown",
      "source": "## TODO - think of the best way to display this data without overloading the reader and showing how each *group* is unique."
    },
    {
      "metadata": {
        "_kg_hide-input": true,
        "trusted": true,
        "_uuid": "72b95cd34f7de92a631a32fa6fd27aadc67f41bc"
      },
      "cell_type": "code",
      "source": "def plot_question_groups(question):\n    mc_and_ide.groupby(['cluster_name', question]) \\\n        .count()['count'] \\\n        .unstack('cluster_name') \\\n        .apply(lambda x: x / x.sum(), axis=1) \\\n        .sort_values('Jupyter Lovers', ascending=False) \\\n        .sort_values('Anti-Jupyters') \\\n        .plot.barh(stacked=True, figsize=(15, 5), title=mc[question][0])\n    plt.legend(loc='center left', bbox_to_anchor=(1.0, 0.5))\n    plt.show()",
      "execution_count": null,
      "outputs": []
    },
    {
      "metadata": {
        "_kg_hide-input": true,
        "trusted": true,
        "scrolled": false,
        "_uuid": "cf7fbcf67e1e002eeac72cdda49cf0e4fed5ee57"
      },
      "cell_type": "code",
      "source": "plot_question_groups('Q1')\nplot_question_groups('Q2')\nplot_question_groups('Q3')\nplot_question_groups('Q5')\nplot_question_groups('Q6')\nplot_question_groups('Q7')\nplot_question_groups('Q8')\nplot_question_groups('Q9')\nplot_question_groups('Q10')",
      "execution_count": null,
      "outputs": []
    },
    {
      "metadata": {
        "_kg_hide-input": true,
        "trusted": true,
        "_uuid": "c6bb57d49916df64833bad6cb72af6e33afed176"
      },
      "cell_type": "code",
      "source": "plot_question_groups('Q17')\nplot_question_groups('Q18')\nplot_question_groups('Q20')\nplot_question_groups('Q22')",
      "execution_count": null,
      "outputs": []
    },
    {
      "metadata": {
        "_kg_hide-input": true,
        "trusted": true,
        "_uuid": "c4973ffae100177a9718e00b1d4c5d023afc184e"
      },
      "cell_type": "code",
      "source": "plot_question_groups('Q23')\nplot_question_groups('Q24')\nplot_question_groups('Q25')",
      "execution_count": null,
      "outputs": []
    },
    {
      "metadata": {
        "_kg_hide-input": true,
        "trusted": true,
        "_uuid": "10b317630c032a7935cbd52339ed5ee3e40b6d37"
      },
      "cell_type": "code",
      "source": "plot_question_groups('Q26')",
      "execution_count": null,
      "outputs": []
    },
    {
      "metadata": {
        "_kg_hide-input": true,
        "trusted": true,
        "_uuid": "6de477b622c0e02f6eefa031487f64bfdb71361a"
      },
      "cell_type": "code",
      "source": "plot_question_groups('Q32')",
      "execution_count": null,
      "outputs": []
    },
    {
      "metadata": {
        "_kg_hide-input": true,
        "trusted": true,
        "_uuid": "e7067a8702204d2099b3cd4a48ed34b3c0361b35"
      },
      "cell_type": "code",
      "source": "plot_question_groups('Q37')",
      "execution_count": null,
      "outputs": []
    },
    {
      "metadata": {
        "_kg_hide-input": true,
        "trusted": true,
        "_uuid": "29e9f84c25a1477d229b960d89e360ea2b478123"
      },
      "cell_type": "code",
      "source": "plot_question_groups('Q40')",
      "execution_count": null,
      "outputs": []
    },
    {
      "metadata": {
        "_kg_hide-input": true,
        "trusted": true,
        "_uuid": "fbdc7c468308bc2876f829b8a7037e2b675c8413"
      },
      "cell_type": "code",
      "source": "plot_question_groups('Q43')",
      "execution_count": null,
      "outputs": []
    },
    {
      "metadata": {
        "_kg_hide-input": true,
        "trusted": true,
        "_uuid": "71963f159617d4f43b626b107fe3aa3a8959278a"
      },
      "cell_type": "code",
      "source": "plot_question_groups('Q46')",
      "execution_count": null,
      "outputs": []
    },
    {
      "metadata": {
        "_kg_hide-input": true,
        "trusted": true,
        "_uuid": "219f3c0690719bc4f56297e4db0994bd9b4b999d"
      },
      "cell_type": "code",
      "source": "plot_question_groups('Q48')",
      "execution_count": null,
      "outputs": []
    },
    {
      "metadata": {
        "_uuid": "70c7068fed963652a46ed33ea0b2658671425032"
      },
      "cell_type": "markdown",
      "source": "# Conclusion\nHere I will discuss some main takeaway points from this analysis....."
    },
    {
      "metadata": {
        "_uuid": "436b666ecde82737bb7e583fb92eb4dcd16991db"
      },
      "cell_type": "markdown",
      "source": "# MORE TO COME - Check back soon. - Please upvote if you enjoyed it!"
    }
  ],
  "metadata": {
    "kernelspec": {
      "display_name": "Python 3",
      "language": "python",
      "name": "python3"
    },
    "language_info": {
      "name": "python",
      "version": "3.6.6",
      "mimetype": "text/x-python",
      "codemirror_mode": {
        "name": "ipython",
        "version": 3
      },
      "pygments_lexer": "ipython3",
      "nbconvert_exporter": "python",
      "file_extension": ".py"
    }
  },
  "nbformat": 4,
  "nbformat_minor": 1
}