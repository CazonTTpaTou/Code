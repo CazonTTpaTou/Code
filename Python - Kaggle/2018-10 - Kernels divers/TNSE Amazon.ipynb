{
  "cells": [
    {
      "metadata": {
        "collapsed": true,
        "_uuid": "74e19c3f993479df3a9e6fba62b800ea18efd0dc"
      },
      "cell_type": "markdown",
      "source": "# tSNE\n\n## Introduction\n- tSNE: t-distributed Stochastic Neighborhood Embedding\n- Why tSNE?\n    - tSNE is a very useful technique to visualize higher dimension data. It is state of art to visualize n-D data into 2-D surface. There are other techniques as well but tSNE is somewhat better. Basically it groups points based on visual similarity.\n- t-distribution?\n    - Used to solve the crowding problem.\n- Neighborhood?\n    - Points that are geometrically closed.\n- Embedding?\n    - Finding low dimensional space for points given in higher dimensional space.\n- How does it do?\n    - It preserves local structure of data.\n- Important parameters\n    - perplexity: Number of points considered as neighbor geometrically.\n    - n_iter: Number of iterations to be repeated.\n    \n## Important\n   - It is very important to understand the limitations and advantage of tsne otherwise there is high chance to misinterpret it.\n   - Please visit \"https://distill.pub/2016/misread-tsne/\" and play with it.\n\n\n## Objective\n- Get Amazon Fine Foor Review dataset and prepare 4 categories of datasets: \n      (i) BoW, \n      (ii) TF-IDF, \n      (iii) Word2Vec, \n      (iv) TFIDF-W2V\n        \n- Apply following of all of the above:\n    1. Perform TSNE representation for positive and negative reviews.\n    2. Analyze, on which of the four datasets, TSNE is giving better result.\n        \n        \n- There are many important things we should take care while working with tSNE.\n- We will explore and see interesting behavior of tSNE with real world data in this document.\n- It is prepared by taking the help of other's sources too, so, many-many thanks to them."
    },
    {
      "metadata": {
        "_uuid": "e901f5792cc49c75af8778669295c9b1d8bc8bb6"
      },
      "cell_type": "markdown",
      "source": "# Data Preprocessing"
    },
    {
      "metadata": {
        "trusted": true,
        "_uuid": "bafbfff3ea6930ec4397a576b158cefe438ec772"
      },
      "cell_type": "code",
      "source": "# Importing libraries\nimport warnings\nwarnings.filterwarnings('ignore')\nimport sqlite3\nimport pandas as pd\nimport numpy as np\nfrom time import time\nfrom nltk.corpus import stopwords\nimport nltk\nimport re\nfrom sklearn.feature_extraction.text import CountVectorizer\nfrom sklearn.preprocessing import StandardScaler\nfrom sklearn.manifold import TSNE\nfrom sklearn.feature_extraction.text import TfidfTransformer\nfrom sklearn.feature_extraction.text import TfidfVectorizer\nimport seaborn as sb\nimport matplotlib.pyplot as plt\nimport numpy as np\nimport gensim",
      "execution_count": null,
      "outputs": []
    },
    {
      "metadata": {
        "_uuid": "79ad93549d802336feafaf3266760de419d1ff6a"
      },
      "cell_type": "markdown",
      "source": "## Loading dataset"
    },
    {
      "metadata": {
        "trusted": true,
        "_uuid": "80de06f29e1423cf51495459a1da31a293ec80d9"
      },
      "cell_type": "code",
      "source": "# Connection to the dataset\ncon = sqlite3.connect('../input/database.sqlite')\n\n# It is given that the table name is 'Reviews'\n# Creating pandas dataframe and storing into variable 'dataset' by help of sql query\ndataset = pd.read_sql_query(\"\"\"\nSELECT *\nFROM Reviews\n\"\"\", con)\n\n# Getting the shape of actual data: row, column\ndisplay(dataset.shape)",
      "execution_count": null,
      "outputs": []
    },
    {
      "metadata": {
        "trusted": true,
        "_uuid": "bc71a25e43014d88dfdb750c5b3ca72dc712017e"
      },
      "cell_type": "code",
      "source": "# Displaying first 5 data points\ndisplay(dataset.head())",
      "execution_count": null,
      "outputs": []
    },
    {
      "metadata": {
        "_uuid": "81d314b6f65b58029aa5b90a795cdd61824384d4"
      },
      "cell_type": "markdown",
      "source": "## Filtering"
    },
    {
      "metadata": {
        "trusted": true,
        "_uuid": "8d3b710ab810869dfe30b724173c534ec069fc2d"
      },
      "cell_type": "code",
      "source": "# Considering only those reviews which score is either 1,2 or 4,5\n# Since, 3 is kind of neutral review, so, we are eliminating it\nfiltered_data = pd.read_sql_query(\"\"\"\nSELECT *\nFROM Reviews\nWHERE Score != 3\n\"\"\", con)",
      "execution_count": null,
      "outputs": []
    },
    {
      "metadata": {
        "trusted": true,
        "_uuid": "045ca4f3d4cb64c3db691054fc62f1c9613a871c"
      },
      "cell_type": "code",
      "source": "# Getting shape of new dataset\ndisplay(filtered_data.shape)",
      "execution_count": null,
      "outputs": []
    },
    {
      "metadata": {
        "trusted": true,
        "_uuid": "f752dae8fce489543ef1d7683ae724436d5d5210"
      },
      "cell_type": "code",
      "source": "# Changing the scores into 'positive' or 'negative'\n# Score greater that 3 is considered as 'positive' and less than 3 is 'negative'\ndef partition(x):\n    if x>3:\n        return 'positive'\n    return 'negative'\n\nactual_score = filtered_data['Score']\npositiveNegative = actual_score.map(partition)\nfiltered_data['Score'] = positiveNegative",
      "execution_count": null,
      "outputs": []
    },
    {
      "metadata": {
        "trusted": true,
        "_uuid": "e54c08a7764b235aa5377b3366c203a227729a4f"
      },
      "cell_type": "code",
      "source": "# Sorting data points according to the 'ProductId'\nsorted_data = filtered_data.sort_values('ProductId', axis=0, ascending=True, inplace=False, kind='quicksort', na_position='last')\n\n# Eliminating the duplicate data points based on: 'UserId', 'ProfileName', 'Time', 'Summary'\nfinal = sorted_data.drop_duplicates(subset={'UserId', 'ProfileName', 'Time', 'Summary'}, keep='first', inplace=False)\n\n# Eliminating the row where 'HelpfulnessDenominator' is greater than 'HelpfulnessNumerator' as these are the wrong entry\nfinal = final[final['HelpfulnessDenominator'] >= final['HelpfulnessNumerator']]\n\n# Getting shape of final data frame\ndisplay(final.shape)",
      "execution_count": null,
      "outputs": []
    },
    {
      "metadata": {
        "_uuid": "6e4d823a23791d500ff595a607a7f629705aa787"
      },
      "cell_type": "markdown",
      "source": "- Next step is to clean the text of the reviews."
    },
    {
      "metadata": {
        "trusted": true,
        "_uuid": "d9d3bf24b28f1a009c51b55ba781cbb3c2e9384e"
      },
      "cell_type": "code",
      "source": "%%time\n\n# Creating the set of stopwords\nstop = set(stopwords.words('english'))\n\n# For stemming purpose\nsnow = nltk.stem.SnowballStemmer('english')\n\n# Defining function to clean html tags\ndef cleanhtml(sentence):\n    cleaner = re.compile('<.*>')\n    cleantext = re.sub(cleaner, ' ', sentence)\n    return cleantext\n\n# Defining function to remove special symbols\ndef cleanpunc(sentence):\n    cleaned = re.sub(r'[?|.|!|*|@|#|\\'|\"|,|)|(|\\|/]', r'', sentence)\n    return cleaned\n\n\n# Important steps to clean the text data. Please trace it out carefully\ni = 0\nstr1 = ''\nall_positive_words = []\nall_negative_words = []\nfinal_string = []\ns=''\nfor sent in final['Text'].values:\n    filtered_sentence = []\n    sent = cleanhtml(sent)\n    for w in sent.split():\n        for cleaned_words in cleanpunc(w).split():\n            if ((cleaned_words.isalpha()) & (len(cleaned_words)>2)):\n                if (cleaned_words.lower() not in stop):\n                    s = (snow.stem(cleaned_words.lower())).encode('utf-8')\n                    filtered_sentence.append(s)\n                    if (final['Score'].values)[i] == 'positive':\n                        all_positive_words.append(s)\n                    if (final['Score'].values)[i] == 'negative':\n                        all_negative_words.append(s)\n                else:\n                    continue\n            else:\n                continue\n    str1 = b\" \".join(filtered_sentence)\n    final_string.append(str1)\n    i += 1\n    \n# Adding new column into dataframe to store cleaned text\nfinal['CleanedText'] = final_string\nfinal['CleanedText'] = final['CleanedText'].str.decode('utf-8')\n\n# Creating new dataset with cleaned text for future use\nconn = sqlite3.connect('final.sqlite')\nc = conn.cursor()\nconn.text_factory = str\nfinal.to_sql('Reviews', conn, schema=None, if_exists='replace', index=True, index_label=None, chunksize=None, dtype=None)\n\n# Getting shape of new datset\nprint(final.shape)",
      "execution_count": null,
      "outputs": []
    },
    {
      "metadata": {
        "trusted": true,
        "_uuid": "00f1cf2ff345aa954c6aba7e15078280d197e323"
      },
      "cell_type": "code",
      "source": "# Creating connection to read from database\nconn = sqlite3.connect('./final.sqlite')\n\n# Creating data frame for visualization using sql query\nfinal = pd.read_sql_query(\"\"\"\nSELECT *\nFROM Reviews\n\"\"\", conn)",
      "execution_count": null,
      "outputs": []
    },
    {
      "metadata": {
        "trusted": true,
        "_uuid": "417b33251d19fe3e7274e11e4ca92b21a3b2657b"
      },
      "cell_type": "code",
      "source": "# Displaying first 3 data points of newly created datset\ndisplay(final.head(3))",
      "execution_count": null,
      "outputs": []
    },
    {
      "metadata": {
        "_uuid": "b71966e2df0c78a82b5afff8d27fbf27e13c724b"
      },
      "cell_type": "markdown",
      "source": "- We can see that the new dataset is containing new column with cleaned text which will be useful for next procedure."
    },
    {
      "metadata": {
        "trusted": true,
        "_uuid": "97cb0b8133463512f771f316e5bb7034b4e50e88"
      },
      "cell_type": "code",
      "source": "# Getting the number of data points in each class: positive or negative\ndisplay(final['Score'].value_counts())",
      "execution_count": null,
      "outputs": []
    },
    {
      "metadata": {
        "_uuid": "555501cf4b2f5e9a2f2f4b3ae9398950eb1f98f8"
      },
      "cell_type": "markdown",
      "source": "- It can be observed that the data set is imbalanced.\n- There are much more data points belonging to positive class than negative."
    },
    {
      "metadata": {
        "_uuid": "200467478b3fecea5bf7d8bcdc23da3d0296fbe4"
      },
      "cell_type": "markdown",
      "source": "# BoW "
    },
    {
      "metadata": {
        "trusted": true,
        "_uuid": "0e22b0ddc68a5fdbe9517e3adc3cfc2fe7db315b"
      },
      "cell_type": "code",
      "source": "# Taking equal sample of negative and positive reviews to keep it balanced.\n# If it is not balanced then there is chance that one class lebel can dominant other class label which might be sever probelm sometimes.\npositive_points = final[final['Score'] == 'positive'].sample(n=3000)\nnegative_points = final[final['Score'] == 'negative'].sample(n=3000)\n\n# Concatenating both of above\ntotal_points = pd.concat([positive_points, negative_points])",
      "execution_count": null,
      "outputs": []
    },
    {
      "metadata": {
        "trusted": true,
        "_uuid": "8a2ee06b834b65515e751e9e15728b528e9e5e76"
      },
      "cell_type": "code",
      "source": "%%time\n# Initializing vectorizer for bigram\ncount_vect = CountVectorizer(ngram_range=(1,1))\n\n# Initializing standard scaler\nstd_scaler = StandardScaler(with_mean=False)\n\n# Creating count vectors and converting into dense representation\nsample_points = total_points['CleanedText']\nsample_points = count_vect.fit_transform(sample_points)\nsample_points = std_scaler.fit_transform(sample_points)\nsample_points = sample_points.todense()\n\n# Storing class label in variable\nlabels = total_points['Score']\n\n# Getting shape\nprint(sample_points.shape, labels.shape)",
      "execution_count": null,
      "outputs": []
    },
    {
      "metadata": {
        "_uuid": "e019267f338228d7c5de48a9a88c691f37b12df4"
      },
      "cell_type": "markdown",
      "source": "## TSNE for Word2Vec"
    },
    {
      "metadata": {
        "_uuid": "94a54b508e75cc6849a9d30cb19e53c841054b5b"
      },
      "cell_type": "markdown",
      "source": "## With default parameters"
    },
    {
      "metadata": {
        "trusted": true,
        "_uuid": "e500954d0fdb9137515bf8e18544a1eaefd53139"
      },
      "cell_type": "code",
      "source": "%%time\nfrom sklearn.manifold import TSNE\n\ntsne_data = sample_points\ntsne_labels = labels\n\n# Initializing with most explained variance\nmodel = TSNE(n_components=2, random_state=15)\n\n# Fitting model\ntsne_data = model.fit_transform(tsne_data)\n\n# Adding labels to the data point\ntsne_data = np.vstack((tsne_data.T, tsne_labels)).T\n\n# Creating data frame\ntsne_df = pd.DataFrame(data=tsne_data, columns=('Dim_1', 'Dim_2', 'label'))\n\n# Plotting graph for class labels\nsb.FacetGrid(tsne_df, hue='label', size=5).map(plt.scatter, 'Dim_1', 'Dim_2').add_legend()\nplt.title(\"TSNE with default parameters\")\nplt.xlabel(\"Dim_1\")\nplt.ylabel(\"Dim_2\")\nplt.show()\n",
      "execution_count": null,
      "outputs": []
    },
    {
      "metadata": {
        "_uuid": "50b257bedc5c836e7156c274d9ac2cbbd028266b"
      },
      "cell_type": "markdown",
      "source": "- Almost all the negative and positive labels are overlapping to each other which means, even after applying tSNE, class labels are not separated. "
    },
    {
      "metadata": {
        "_uuid": "cf35eb9df6c5d0a3a34a17391ede8046448dab36"
      },
      "cell_type": "markdown",
      "source": "## With different parameters"
    },
    {
      "metadata": {
        "trusted": true,
        "_uuid": "51c27ac7250bcd6273abc0dc87196bd90fb13d12"
      },
      "cell_type": "code",
      "source": "%%time\nfrom sklearn.manifold import TSNE\n\ntsne_data = sample_points\ntsne_labels = labels\n\n# Initializing with most explained variance\nmodel = TSNE(n_components=2, random_state=15, perplexity=20, n_iter=2000)\n\n# Fitting model\ntsne_data = model.fit_transform(tsne_data)\n\n# Adding labels to the data point\ntsne_data = np.vstack((tsne_data.T, tsne_labels)).T\n\n# Creating data frame\ntsne_df = pd.DataFrame(data=tsne_data, columns=('Dim_1', 'Dim_2', 'label'))\n\n# Plotting graph for class labels\nsb.FacetGrid(tsne_df, hue='label', size=5).map(plt.scatter, 'Dim_1', 'Dim_2').add_legend()\nplt.title(\"TSNE with perplexity: 20, n_iter:2000\")\nplt.xlabel(\"Dim_1\")\nplt.ylabel(\"Dim_2\")\nplt.show()\n",
      "execution_count": null,
      "outputs": []
    },
    {
      "metadata": {
        "_uuid": "98ae501c2490b8edea17b836699faf14cc3bf0ed"
      },
      "cell_type": "markdown",
      "source": "# TF-IDF"
    },
    {
      "metadata": {
        "trusted": true,
        "_uuid": "274f50a814af7c2d7f2c5a756ae65e37d0f2a7e7"
      },
      "cell_type": "code",
      "source": "%%time\n\n# Initializing tf-idf vectorizer for bigram\ntfidf_vect = TfidfVectorizer(ngram_range=(1,2))\n\ntfidf_data = total_points['CleanedText']\ntfidf_data = tfidf_vect.fit_transform(tfidf_data)\ntfidf_data = tfidf_data.todense()\n\ntfidf_labels = labels\n",
      "execution_count": null,
      "outputs": []
    },
    {
      "metadata": {
        "trusted": true,
        "_uuid": "60644352f63b8bb8b8c073a87e9b784ca7adaab5"
      },
      "cell_type": "code",
      "source": "print(tfidf_data.shape, tfidf_labels.shape)",
      "execution_count": null,
      "outputs": []
    },
    {
      "metadata": {
        "_uuid": "b5a7ec3fa00b2e36202b0a029a973158797b0fca"
      },
      "cell_type": "markdown",
      "source": "## TSNE for TF-IDF"
    },
    {
      "metadata": {
        "_uuid": "11ba87d7bbd47d1b90e751d324f1733c0951bb59"
      },
      "cell_type": "markdown",
      "source": "## Default parameters"
    },
    {
      "metadata": {
        "trusted": true,
        "_uuid": "63892a84a8187d348da33be9ffef75e38a26b9f6"
      },
      "cell_type": "code",
      "source": "%%time\n\nmodel = TSNE(n_components=2, random_state=15)\n\n# Fitting model\ntsne_data = model.fit_transform(tfidf_data)\n\n\n# Attaching feature and label\ntsne_data = np.vstack((tsne_data.T, tfidf_labels)).T\n\n# Creating data frame\ntsne_df = pd.DataFrame(data=tsne_data, columns=('Dim_1', 'Dim_2', 'label'))\n\n# Plotting graph for class labels\nsb.FacetGrid(tsne_df, hue='label', size=5).map(plt.scatter, 'Dim_1', 'Dim_2').add_legend()\nplt.title(\"TSNE with default parameters\")\nplt.xlabel(\"Dim_1\")\nplt.ylabel(\"Dim_2\")\nplt.show()",
      "execution_count": null,
      "outputs": []
    },
    {
      "metadata": {
        "_uuid": "1d3ffa369a3c05beed50a603186cefa5a09f02ff"
      },
      "cell_type": "markdown",
      "source": "## Different parameters"
    },
    {
      "metadata": {
        "trusted": true,
        "_uuid": "b2070e2c92b6a80a74b315843720b20404db5175"
      },
      "cell_type": "code",
      "source": "%%time\nfrom sklearn.manifold import TSNE\n\ntsne_data = sample_points\ntsne_labels = labels\n\n# Initializing with most explained variance\nmodel = TSNE(n_components=2, random_state=15, perplexity=20, n_iter=2000)\n\n# Fitting model\ntsne_data = model.fit_transform(tsne_data)\n\n# Adding labels to the data point\ntsne_data = np.vstack((tsne_data.T, tsne_labels)).T\n\n# Creating data frame\ntsne_df = pd.DataFrame(data=tsne_data, columns=('Dim_1', 'Dim_2', 'label'))\n\n# Plotting graph for class labels\nsb.FacetGrid(tsne_df, hue='label', size=5).map(plt.scatter, 'Dim_1', 'Dim_2').add_legend()\nplt.title(\"TSNE with perplexity: 20, n_iter:2000\")\nplt.xlabel(\"Dim_1\")\nplt.ylabel(\"Dim_2\")\nplt.show()",
      "execution_count": null,
      "outputs": []
    },
    {
      "metadata": {
        "_uuid": "de5cc9070568a88dca804d508beafb3b4b5eca05"
      },
      "cell_type": "markdown",
      "source": "# Word2Vec"
    },
    {
      "metadata": {
        "trusted": true,
        "_uuid": "d83c9f2a4d50142b501ceafa57a05309748153ee"
      },
      "cell_type": "code",
      "source": "# Getting text from Review\nw2v_points = total_points['Text']\nw2v_labels = labels.copy()",
      "execution_count": null,
      "outputs": []
    },
    {
      "metadata": {
        "trusted": true,
        "_uuid": "85fdc956f45f06b6580c22b06472bb223f58b15c"
      },
      "cell_type": "code",
      "source": "import re\ndef cleanhtml(sentence):\n    cleantext = re.sub('<.*>', '', sentence)\n    return cleantext\n\ndef cleanpunc(sentence):\n    cleaned = re.sub(r'[?|!|\\'|#|@|.|,|)|(|\\|/]', r'', sentence)\n    return cleaned",
      "execution_count": null,
      "outputs": []
    },
    {
      "metadata": {
        "trusted": true,
        "_uuid": "5713a8d1d93f6d71a36b8fc843fdabe3cde823d0"
      },
      "cell_type": "code",
      "source": "# Creating list of sentences\nsent_list = []\nfor sent in w2v_points:\n    sentence = []\n    sent = cleanhtml(sent)\n    for w in sent.split():\n        for cleaned_words in cleanpunc(w).split():\n            if(cleaned_words.isalpha()):\n                sentence.append(cleaned_words.lower())\n            else:\n                continue\n    sent_list.append(sentence)",
      "execution_count": null,
      "outputs": []
    },
    {
      "metadata": {
        "trusted": true,
        "_uuid": "d4d35d6422422ead5907168fe4a31292e877bfe3"
      },
      "cell_type": "code",
      "source": "print(sent_list[1])",
      "execution_count": null,
      "outputs": []
    },
    {
      "metadata": {
        "trusted": true,
        "_uuid": "3a8161ddc3f81eab492fc68529e7b983ea304ac2"
      },
      "cell_type": "code",
      "source": "# Initializing model for words occur atleast 5 times\nw2v_model = gensim.models.Word2Vec(sent_list, min_count=5, size=50, workers=4)\n\n# Applying model for word2vec\nw2v_words = w2v_model[w2v_model.wv.vocab]",
      "execution_count": null,
      "outputs": []
    },
    {
      "metadata": {
        "trusted": true,
        "_uuid": "f058d03e0e2d79d97f8de19350e40968900c886a"
      },
      "cell_type": "code",
      "source": "print(\"Number of words occur min 5 times: \", len(w2v_words))",
      "execution_count": null,
      "outputs": []
    },
    {
      "metadata": {
        "trusted": true,
        "_uuid": "cd1db6624abc9e400a1dc56fcb2a9ed17c661b25"
      },
      "cell_type": "code",
      "source": "print(w2v_words.shape)",
      "execution_count": null,
      "outputs": []
    },
    {
      "metadata": {
        "trusted": true,
        "_uuid": "2d76709a4bae0f89b5e157cd142263a02bd1ed5a"
      },
      "cell_type": "code",
      "source": "# Getting 10 similar words\ndisplay(w2v_model.wv.most_similar(\"sweet\"))",
      "execution_count": null,
      "outputs": []
    },
    {
      "metadata": {
        "_uuid": "5acb931f6fbb979b58365dba04aed045bc3ec75d"
      },
      "cell_type": "markdown",
      "source": "# Avg W2V"
    },
    {
      "metadata": {
        "trusted": true,
        "_uuid": "b346280714cdcf6a35231ada0fbd16422018cd8e"
      },
      "cell_type": "code",
      "source": "# Producing average word to vec vectors\nimport numpy as np\nsent_vectors = []\nfor sent in sent_list:\n    sent_vec = np.zeros(200)\n    cnt_words = 0\n    for word in sent:\n        try:\n            vec = w2v_model.wv[word]\n            sent_vec += vec\n            cnt_words += 1\n        except:\n            pass\n    sent_vec /= cnt_words\n    sent_vectors.append(sent_vec)\nsent_vectors = np.nan_to_num(sent_vectors)",
      "execution_count": null,
      "outputs": []
    },
    {
      "metadata": {
        "trusted": true,
        "_uuid": "afd870b82123d59f712c9170e5bf4d4838b82f2e"
      },
      "cell_type": "code",
      "source": "print(sent_vectors.shape)",
      "execution_count": null,
      "outputs": []
    },
    {
      "metadata": {
        "_uuid": "a34e446193bb074fabba4421b3a685f9a9ccc328"
      },
      "cell_type": "markdown",
      "source": "## TSNE for Avg W2V"
    },
    {
      "metadata": {
        "_uuid": "04f6ec89133325362aa30d05ce3719665d1aa6bd"
      },
      "cell_type": "markdown",
      "source": "## Default parameters"
    },
    {
      "metadata": {
        "trusted": true,
        "_uuid": "f6680213703eb810b454ea979ebd48b962201a4d"
      },
      "cell_type": "code",
      "source": "%%time\n\nmodel = TSNE(n_components=2, random_state=15)\n\n# Fitting model\nw2v_points = model.fit_transform(sent_vectors)\n\n\n# Attaching feature and label\ntsne_data = np.vstack((w2v_points.T, w2v_labels)).T\n\n# Creating data frame\ntsne_df = pd.DataFrame(data=tsne_data, columns=('Dim_1', 'Dim_2', 'label'))\n\n# Plotting graph for class labels\nsb.FacetGrid(tsne_df, hue='label', size=5).map(plt.scatter, 'Dim_1', 'Dim_2').add_legend()\nplt.title(\"TSNE with default parameters\")\nplt.xlabel(\"Dim_1\")\nplt.ylabel(\"Dim_2\")\nplt.show()",
      "execution_count": null,
      "outputs": []
    },
    {
      "metadata": {
        "_uuid": "39d3878fabb86cec54c3ab0d0f520ea25cddeb56"
      },
      "cell_type": "markdown",
      "source": "## Different parameters"
    },
    {
      "metadata": {
        "trusted": true,
        "_uuid": "06b774405ea581c4abf9a6f8d693b208d03744ff"
      },
      "cell_type": "code",
      "source": "%%time\nfrom sklearn.manifold import TSNE\n\ntsne_data = sample_points\ntsne_labels = labels\n\n# Initializing with most explained variance\nmodel = TSNE(n_components=2, random_state=15, perplexity=20, n_iter=2000)\n\n# Fitting model\ntsne_data = model.fit_transform(tsne_data)\n\n# Adding labels to the data point\ntsne_data = np.vstack((tsne_data.T, tsne_labels)).T\n\n# Creating data frame\ntsne_df = pd.DataFrame(data=tsne_data, columns=('Dim_1', 'Dim_2', 'label'))\n\n# Plotting graph for class labels\nsb.FacetGrid(tsne_df, hue='label', size=5).map(plt.scatter, 'Dim_1', 'Dim_2').add_legend()\nplt.title(\"TSNE with perplexity: 20, n_iter:2000\")\nplt.xlabel(\"Dim_1\")\nplt.ylabel(\"Dim_2\")\nplt.show()\n",
      "execution_count": null,
      "outputs": []
    },
    {
      "metadata": {
        "_uuid": "18a760d9d0ff0a1ff465514e3f553b821935a35d"
      },
      "cell_type": "markdown",
      "source": "# TFIDF-W2V"
    },
    {
      "metadata": {
        "trusted": true,
        "_uuid": "4b0ad1e8021e67de00c509e1d462d8b8d1e054d2"
      },
      "cell_type": "code",
      "source": "%%time\n\ntfidf_feat = tfidf_vect.get_feature_names()\ntfidf_w2v_vectors = []\nrow = 0\nfor sent in sent_list:\n    sent_vec = np.zeros(200)\n    weight_sum = 0\n    for word in sent:\n        if word in w2v_words:\n            vec = w2v_model.wv[word]\n            tf_idf = final_tf_idf[row, tfidf_feat.index(word)]\n            sent_vec += (vec*tf_idf)\n            weight_sum += tf_idf\n    if weight_sum != 0:\n        sent_vec /= weight_sum\n    tfidf_w2v_vectors.append(sent_vec)\n    row += 1\n",
      "execution_count": null,
      "outputs": []
    },
    {
      "metadata": {
        "_uuid": "7d91e1e214d43e5952131bdf3f2a2f837271269c"
      },
      "cell_type": "markdown",
      "source": "## TSNE for TFIDF-W2V"
    },
    {
      "metadata": {
        "_uuid": "283b9432aec6ee0e6d4ff0eb9d828f01c360fa6d"
      },
      "cell_type": "markdown",
      "source": "## Default parameters"
    },
    {
      "metadata": {
        "trusted": true,
        "_uuid": "0000429d41d4b74e00d74e92bd9c32d7d155d0fa"
      },
      "cell_type": "code",
      "source": "%%time\n\n# Defining model for two features with most explained variance\nmodel = TSNE(n_components=2, random_state=15)\n\n# Fitting model\ntfidf_w2v_points = model.fit_transform(tfidf_w2v_vectors)\n\n# Attaching feature and label\ntsne_data = np.vstack((tfidf_w2v_points.T, labels)).T\n\n# Creating data frame\ntsne_df = pd.DataFrame(data=tsne_data, columns=('Dim_1', 'Dim_2', 'label'))\n\n# Plotting graph for class labels\nsb.FacetGrid(tsne_df, hue='label', size=5).map(plt.scatter, 'Dim_1', 'Dim_2').add_legend()\nplt.title(\"TSNE with default parameters\")\nplt.xlabel(\"Dim_1\")\nplt.ylabel(\"Dim_2\")\nplt.show()",
      "execution_count": null,
      "outputs": []
    },
    {
      "metadata": {
        "_uuid": "b816f40011f4787ae09308d5dd70a5bb5029fe7f"
      },
      "cell_type": "markdown",
      "source": "## Different parameters"
    },
    {
      "metadata": {
        "trusted": true,
        "_uuid": "6875da476ebda526b40a3a8e94bfea7d360b32a0"
      },
      "cell_type": "code",
      "source": "%%time\nfrom sklearn.manifold import TSNE\n\ntsne_data = sample_points\ntsne_labels = labels\n\n# Initializing with most explained variance\nmodel = TSNE(n_components=2, random_state=15, perplexity=20, n_iter=2000)\n\n# Fitting model\ntsne_data = model.fit_transform(tsne_data)\n\n# Adding labels to the data point\ntsne_data = np.vstack((tsne_data.T, tsne_labels)).T\n\n# Creating data frame\ntsne_df = pd.DataFrame(data=tsne_data, columns=('Dim_1', 'Dim_2', 'label'))\n\n# Plotting graph for class labels\nsb.FacetGrid(tsne_df, hue='label', size=5).map(plt.scatter, 'Dim_1', 'Dim_2').add_legend()\nplt.title(\"TSNE with perplexity: 20, n_iter:2000\")\nplt.xlabel(\"Dim_1\")\nplt.ylabel(\"Dim_2\")\nplt.show()\n",
      "execution_count": null,
      "outputs": []
    },
    {
      "metadata": {
        "collapsed": true,
        "_uuid": "d97cf6ad6c92eb6dbccee3677e00e25b7e773a96"
      },
      "cell_type": "markdown",
      "source": "# Observation:\n- Even though t-SNE is very powerful technique to visualize high dimension data but still it's unable to separate the class labels in our dataset.\n- It accepts dense matrix to execute on it but computationally it is very expensive for much higher dimensional data as in our case.\n- There were completely overlapping of class labels on each other that means t-SNE failed to separate the class labels.\n- Changing parameters and getting stable t-SNE model is very important but even after trying out many combinations of parameters. It is found out that it doesn't help in our case of Amazon Fine Food Reviews dataset and some of the parameter adjustment are shown here also.\n"
    }
  ],
  "metadata": {
    "kernelspec": {
      "display_name": "Python 3",
      "language": "python",
      "name": "python3"
    },
    "language_info": {
      "name": "python",
      "version": "3.6.6",
      "mimetype": "text/x-python",
      "codemirror_mode": {
        "name": "ipython",
        "version": 3
      },
      "pygments_lexer": "ipython3",
      "nbconvert_exporter": "python",
      "file_extension": ".py"
    },
    "latex_envs": {
      "LaTeX_envs_menu_present": true,
      "autoclose": false,
      "autocomplete": true,
      "bibliofile": "biblio.bib",
      "cite_by": "apalike",
      "current_citInitial": 1,
      "eqLabelWithNumbers": true,
      "eqNumInitial": 1,
      "hotkeys": {
        "equation": "Ctrl-E",
        "itemize": "Ctrl-I"
      },
      "labels_anchors": false,
      "latex_user_defs": false,
      "report_style_numbering": false,
      "user_envs_cfg": false
    },
    "toc": {
      "base_numbering": 1,
      "nav_menu": {
        "height": "198px",
        "width": "285px"
      },
      "number_sections": true,
      "sideBar": true,
      "skip_h1_title": false,
      "title_cell": "Table of Contents",
      "title_sidebar": "Contents",
      "toc_cell": false,
      "toc_position": {
        "height": "350px",
        "left": "656px",
        "top": "31.6px",
        "width": "165px"
      },
      "toc_section_display": true,
      "toc_window_display": false
    }
  },
  "nbformat": 4,
  "nbformat_minor": 1
}