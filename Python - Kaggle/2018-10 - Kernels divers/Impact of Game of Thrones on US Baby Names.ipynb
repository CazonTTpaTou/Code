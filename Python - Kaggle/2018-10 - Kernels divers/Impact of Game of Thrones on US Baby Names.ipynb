{
  "cells": [
    {
      "metadata": {
        "_uuid": "4d66bf4775fd880644ed4f7b4b468057b206dcb5"
      },
      "cell_type": "markdown",
      "source": "## Impact of Game of Thrones on US Baby Names\n\n#### Table of contents\n1. [Introduction](#introduction)\n2. [Importing required modules](#2)\n3. [Importing the data](#3)\n4. [Viewing a sample of the data](#4)\n5. [Some basic summary statistics](#5)\n6. [Trend in number of yearly applicants in the last 20 years](#6)\n7. [Function to plot the yearly number of applicants with a particular name](#7)\n8. [Trend in popularity of Game of Thrones character names](#8)\n    *     [Daenerys Targaryen](#i)\n    *     [Arya Stark](#ii)\n    *     [Sansa Stark](#iii)\n    *     [Tyrion Lannister](#iv)\n    *     [Brienne Tarth](#v)\n    *     [Lyanna Stark](#vi)\n    *      [Meera Reed](#vii)\n    *      [Other important characters](#viii)\n9. [Next step](#9)\n10. [References](#10)\n\n\n![](http://theunknows.e-monsite.com/medias/images/got.jpg?fx=r_1200_800)"
    },
    {
      "metadata": {
        "_uuid": "8040d5516fe2449ffecc9d38232dfd484db78ab5"
      },
      "cell_type": "markdown",
      "source": "### 1.Introduction <a name=\"introduction\"></a>\n\n#### Objective:\n* Popular culture has always impacted society in interesting ways\n* In this kernel, we explore how Game of Thrones has inspired baby names in recent years\n* We look at some manually chosen Game of Thrones characters, and how the popularity of their names has risen along with their popularity on the show\n\n#### Background:\n* ** Game of Thrones**\n    * Game of Thrones is an American fantasy drama television series acclaimed by critics and audiences\n    * The show has a broad, active fan base. In 2012 Vulture.com ranked the series' fans as the most devoted in popular culture, more so than Lady Gaga's, Justin Bieber's, Harry Potter's or Star Wars'\n* **About the data**\n    * This public dataset was created by the Social Security Administration and contains all names from Social Security card applications for births that occurred in the United States after 1879\n    * All data are from a 100% sample of records on Social Security card applications\n    * To safeguard privacy, the Social Security Administration restricts names to those with at least 5 occurrences"
    },
    {
      "metadata": {
        "_uuid": "7d83aa61ae60a0e79c11abe12ee8ec1ed4816355"
      },
      "cell_type": "markdown",
      "source": "### 2.Importing required modules <a name=\"2\"></a>"
    },
    {
      "metadata": {
        "_uuid": "8f2839f25d086af736a60e9eeb907d3b93b6e0e5",
        "_cell_guid": "b1076dfc-b9ad-4769-8c92-a6c4dae69d19",
        "trusted": true,
        "scrolled": true
      },
      "cell_type": "code",
      "source": "import numpy as np # linear algebra\nimport pandas as pd # data processing, CSV file I/O (e.g. pd.read_csv)\nimport matplotlib.pyplot as plt\nfrom tabulate import tabulate\nimport bq_helper\nimport os",
      "execution_count": null,
      "outputs": []
    },
    {
      "metadata": {
        "_uuid": "7a850872b39eec50dbcc16ce3e6d9d6047bf01ed"
      },
      "cell_type": "markdown",
      "source": "### 3.Importing the data <a name=\"3\"></a>"
    },
    {
      "metadata": {
        "_cell_guid": "79c7e3d0-c299-4dcb-8224-4455121ee9b0",
        "_uuid": "d629ff2d2480ee46fbb7e2d37f6b5fab8052498a",
        "trusted": true
      },
      "cell_type": "code",
      "source": "usa_names = bq_helper.BigQueryHelper(active_project=\"bigquery-public-data\", dataset_name=\"usa_names\")\nquery = \"\"\"SELECT year, gender, name, sum(number) as count FROM `bigquery-public-data.usa_names.usa_1910_current` GROUP BY year, gender, name\"\"\"\ndata = usa_names.query_to_pandas_safe(query)\ndata.to_csv(\"usa_names_data.csv\")",
      "execution_count": null,
      "outputs": []
    },
    {
      "metadata": {
        "_uuid": "f375f8164e03ded9b41998d7ad7af624e77d2eed"
      },
      "cell_type": "markdown",
      "source": "### 4.Viewing a sample of the data <a name=\"4\"></a>"
    },
    {
      "metadata": {
        "trusted": true,
        "_uuid": "a515d08b89862842fc629666911fd3407c3c21fa"
      },
      "cell_type": "code",
      "source": "data.sample(5)",
      "execution_count": null,
      "outputs": []
    },
    {
      "metadata": {
        "_uuid": "bd43c6529cf30356051a6f4e7e5d1b9e5a9d1411"
      },
      "cell_type": "markdown",
      "source": "### 5.Some basic summary statistics <a name=\"5\"></a>"
    },
    {
      "metadata": {
        "trusted": true,
        "_uuid": "2f338f98207a6dddf81adc5627d2807ef007662e",
        "scrolled": false
      },
      "cell_type": "code",
      "source": "print(\"Number of rows and columns in the data: \",data.shape,\"\\n\")\nprint(\"Number and Range of years available: \",len(data[\"year\"].unique()),\"years between \",data[\"year\"].min(), \"to \",data[\"year\"].max())\n\nprint(\"Total number of applicants in the dataset: \",sum(data[\"count\"]))\nprint(\"% of male applicants : \",\"{0:.2f}\".format(sum(data[\"count\"][data[\"gender\"]==\"M\"])/sum(data[\"count\"])))\nprint(\"% of female applicants :\",\"{0:.2f}\".format(sum(data[\"count\"][data[\"gender\"]==\"F\"])/sum(data[\"count\"])),\"\\n\")\n\nprint(\"Total number of unique names in the data set: \",len(data[\"name\"].unique()))\nprint(\"Total number of unique male names in the data set: \",len(data[\"name\"][data[\"gender\"]==\"M\"].unique()))\nprint(\"Total number of unique female names in the data set: \",len(data[\"name\"][data[\"gender\"]==\"F\"].unique()),\"\\n\")\n\nprint(\"\\n Most popular male names of all time\")\nprint(tabulate(data[data[\"gender\"]==\"M\"].groupby('name', as_index=False).agg({\"count\": \"sum\"}).sort_values(\"count\",ascending=False).reset_index(drop=True).head(5),headers='keys', tablefmt='psql'))\n\nprint(\"\\n Most popular female names of all time\")\nprint(tabulate(data[data[\"gender\"]==\"F\"].groupby('name', as_index=False).agg({\"count\": \"sum\"}).sort_values(\"count\",ascending=False).reset_index(drop=True).head(5),headers='keys', tablefmt='psql'))",
      "execution_count": null,
      "outputs": []
    },
    {
      "metadata": {
        "_uuid": "6ae8f17c73940bcc722084a7577e4dec58d9f29b"
      },
      "cell_type": "markdown",
      "source": "### 6.Trend in number of yearly applicants in the last 20 years <a name=\"6\"></a>\n\nLet us first plot a bar chart of the number of social security applicants each year in the past 20 years."
    },
    {
      "metadata": {
        "trusted": true,
        "scrolled": true,
        "_uuid": "ff311a771f9d97c8cff5beae36b993e7d7991260"
      },
      "cell_type": "code",
      "source": "data=data[data[\"year\"]>=1998]\ndata_agg=data.groupby([\"year\"],as_index=False).agg({\"count\": \"sum\"})\nax=data_agg.plot('year', 'count', kind='bar', figsize=(17,5), color='#86bf91', zorder=2, width=0.85)\nax.set_xlabel(\"Year\", labelpad=20, size=12)\n# Set y-axis label\nax.set_ylabel(\"# of Applicants\", labelpad=20, size=12)\nax.legend_.remove()",
      "execution_count": null,
      "outputs": []
    },
    {
      "metadata": {
        "_uuid": "a55c06151c96dd46f424c8bca017699d6c2dab2b"
      },
      "cell_type": "markdown",
      "source": "We observe that the total number of applicants each year has fluctuated between 3M to 3.5M in the last 20 years"
    },
    {
      "metadata": {
        "_uuid": "297bc9c21e6c881eb667feb91a55464c0bec04c7"
      },
      "cell_type": "markdown",
      "source": "### 7.Function to plot the yearly number of applicants with a particular name  <a name=\"7\"></a>"
    },
    {
      "metadata": {
        "trusted": true,
        "_uuid": "62491c7e539eee70219d05c4c5b2b7dd4ea9595a"
      },
      "cell_type": "code",
      "source": "def plot_yearly_count(character_name):\n    data_agg=data[data[\"name\"]==character_name].groupby([\"year\"],as_index=False).agg({\"count\": \"sum\"})\n    if len(data_agg)==0:\n        print(\"No data available\")\n    else:\n        year_df=pd.DataFrame()\n        year_df[\"year\"]=data[\"year\"].unique()\n        data_agg[\"key\"]=1\n        data_agg=pd.merge(year_df,data_agg,on=[\"year\"],how=\"left\")\n        data_agg=data_agg.sort_values(\"year\",ascending=True)\n        ax=data_agg.plot('year', 'count', kind='bar', figsize=(17,5), color='#86bf91', zorder=2, width=0.85)\n        # Switch off ticks\n        ax.tick_params(axis=\"both\", which=\"both\", bottom=False, top=False, labelbottom=True, left=False, right=False, labelleft=True)\n        # Set x-axis label\n        ax.set_xlabel(\"Year\", labelpad=20, size=12)\n        # Set y-axis label\n        ax.set_ylabel(\"# of Applicants\", labelpad=20, size=12)\n        # Set title\n        ax.set_title(\"Popularity of the name \"+str(character_name)+\" in the past 20 years\")\n        ax.legend_.remove()",
      "execution_count": null,
      "outputs": []
    },
    {
      "metadata": {
        "trusted": true,
        "_uuid": "e06c44b38b075de6d0660fac3b024047e159e18e"
      },
      "cell_type": "markdown",
      "source": "### 8.Trend in popularity of Game of Thrones character names  <a name=\"8\"></a>\n\n* Game of Thrones premiered on HBO in the United States on April 17, 2011 \n* For reference, below is the year that each season was released:\n    * Season 1:  2011\n    * Season 2: 2012\n    * Season 3: 2013\n    * Season 4: 2014\n    * Season 5: 2015\n    * Season 6: 2016\n    * Season 7: 2017\n* If we find an uptick in the number of applicants with a certain character name the same year that the character was introduced, or got a lot of screentime, this would be an indicator that some parents named their babies after the character"
    },
    {
      "metadata": {
        "_uuid": "1a2e92ab9bcd110dc14a45d3ef6c8d53a6644547"
      },
      "cell_type": "markdown",
      "source": "### Daenerys Targaryen <a name=\"i\"></a>\n\n![](https://imagesvc.timeincapp.com/v3/fan/image?url=https%3A%2F%2Fwinteriscoming.net%2Ffiles%2F2017%2F04%2FGoT-Sn7_FirstLook_11.jpg&c=sc&w=850&h=560)\n\n"
    },
    {
      "metadata": {
        "trusted": true,
        "_uuid": "cf6e257da8168bc0abffc4135b32e4b497e7f8cc"
      },
      "cell_type": "code",
      "source": "plot_yearly_count(\"Daenerys\")",
      "execution_count": null,
      "outputs": []
    },
    {
      "metadata": {
        "_uuid": "fadf16fd66bb8d9dc5f9483f092866d2d11d9ce6"
      },
      "cell_type": "markdown",
      "source": "* We observe above that about 20 childen were named Daenerys in 2013\n* The name has never appeared in the data base before, clearly indicating that the parents were inspired by the Game of Thrones character, who emerges  as a clear protagonist on the show in season 3, released in 2013. \n* It is also interesting to observe that about 60 children were named Daenerys in 2016 and 2017\n* Let us take a look at the popularity of her other name \"Khaleesi\", across the years"
    },
    {
      "metadata": {
        "trusted": true,
        "scrolled": true,
        "_uuid": "06298300a16d3cb58a9add21c048a46b036afda6"
      },
      "cell_type": "code",
      "source": "plot_yearly_count(\"Khaleesi\")",
      "execution_count": null,
      "outputs": []
    },
    {
      "metadata": {
        "_uuid": "4a88d0cb9b7086d8731257bc9ad489ffe65dfd8c"
      },
      "cell_type": "markdown",
      "source": "Again, it is very clear from the above that the name \"Khaleesi\" has been inspired by Game of Thrones, growing in popularity with the popularity of the show from 2011 to 2017, when a whopping ~400 children were named Khaleesi"
    },
    {
      "metadata": {
        "_uuid": "f5ff45b6770db3cfeab67738dee3fdf6a4ea98f3"
      },
      "cell_type": "markdown",
      "source": "###  Arya Stark  <a name=\"ii\"></a>\n\n![](http://images6.fanpop.com/image/photos/39600000/arya-stark-arya-stark-39631351-1280-1019.jpg)"
    },
    {
      "metadata": {
        "trusted": true,
        "_uuid": "5366b0bfddc90f4cbaf052c49bd31b8371e3892e"
      },
      "cell_type": "code",
      "source": "plot_yearly_count(\"Arya\")",
      "execution_count": null,
      "outputs": []
    },
    {
      "metadata": {
        "_uuid": "488397d45c5e034f990b4ca027cefd1140e77216"
      },
      "cell_type": "markdown",
      "source": "Observe above how the popularity of the name Arya shoots up between 2011 to 2017, during which the character on the show transforms from a water dancer to a faceless woman"
    },
    {
      "metadata": {
        "_uuid": "80ab25ad213e954cd1a45a4d10ecfcb84a1e9ede"
      },
      "cell_type": "markdown",
      "source": "### Sansa Stark <a name=\"iii\"></a>\n\n![](https://wallpapersite.com/images/pages/pic_h/7345.jpg)"
    },
    {
      "metadata": {
        "trusted": true,
        "_uuid": "9310bb3f830f5886aa4ab296493a0c73094905c5",
        "scrolled": false
      },
      "cell_type": "code",
      "source": "plot_yearly_count(\"Sansa\")",
      "execution_count": null,
      "outputs": []
    },
    {
      "metadata": {
        "_uuid": "fb076e5702b48d56f04fa8167b097daeffc47042"
      },
      "cell_type": "markdown",
      "source": "While in the intitial few seasons, audiences found the character Sansa Stark largely annoying, she is established as a legitimate player in the game by seasons 5-6"
    },
    {
      "metadata": {
        "_uuid": "6614312735c0a5cd6aa28b83a51c43d3a2893722"
      },
      "cell_type": "markdown",
      "source": "### Tyrion Lannister  <a name=\"iv\"></a>\n\n![](https://www.nerdplanet.it/wp-content/uploads/2018/10/tyrion-lannister.png)"
    },
    {
      "metadata": {
        "trusted": true,
        "_uuid": "9a70f0538685a715f719ec95fb2e6e361b4aec52"
      },
      "cell_type": "code",
      "source": "plot_yearly_count(\"Tyrion\")",
      "execution_count": null,
      "outputs": []
    },
    {
      "metadata": {
        "_uuid": "770bed5dc98cf4015d368cf37cd09ff8ceb12dc3"
      },
      "cell_type": "markdown",
      "source": "The above plot shows another obvious case of parents naming thier children after their favorite Game of Thrones character."
    },
    {
      "metadata": {
        "_uuid": "a34526a939913e049f30264892d6c7db190fd094"
      },
      "cell_type": "markdown",
      "source": "> ### Brienne Tarth  <a name=\"v\"></a>\n\n![](http://cdn.collider.com/wp-content/uploads/game-of-thrones-season-three-28.jpg)"
    },
    {
      "metadata": {
        "trusted": true,
        "_uuid": "a920b60f8f6116fd5cc952af40995856c31b60ff",
        "scrolled": false
      },
      "cell_type": "code",
      "source": "plot_yearly_count(\"Brienne\")",
      "execution_count": null,
      "outputs": []
    },
    {
      "metadata": {
        "_uuid": "c9d2a7b46f5bfcf4bd8cdc185c59de7111ced11f"
      },
      "cell_type": "markdown",
      "source": "The name \"Brienne\" appears in the database for the first time in 2016, with 5 children named Brienne in 2016 and 2017"
    },
    {
      "metadata": {
        "_uuid": "d4d01473a68658cfbaeea75210f1db27e2f621cd"
      },
      "cell_type": "markdown",
      "source": "### Lyanna Stark  <a name=\"vi\"></a>\n\n![](http://watchersonthewall.com/wp-content/uploads/2017/08/Lyanna-Stark.jpg)"
    },
    {
      "metadata": {
        "trusted": true,
        "scrolled": true,
        "_uuid": "5bae177f808e7d95d79736e9c2df59c7dbdf2dce"
      },
      "cell_type": "code",
      "source": "plot_yearly_count(\"Lyanna\")",
      "execution_count": null,
      "outputs": []
    },
    {
      "metadata": {
        "_kg_hide-input": true,
        "_uuid": "7a00406d8a65e5ad2e89c386b21bded109aa3332"
      },
      "cell_type": "markdown",
      "source": "The name Lyanna shoots up in popularity in the year 2016. This is the same year that season 6 was aired, which ends with a possible  revelation of Jon Snow's true heritage. Season 7, that aired in 2017, confirms the revelation through Bran's vision of Rhaegar and Lyanna's wedding."
    },
    {
      "metadata": {
        "_uuid": "388f15196f08a32ac30b813bf9323722b04bbbb9"
      },
      "cell_type": "markdown",
      "source": "### Meera Reed  <a name=\"vii\"></a>\n\n![](http://www.blackfilm.com/read/wp-content/uploads/2016/04/Game-Of-Thrones-S6-Ep2-Ellie-Kendrick.jpg)"
    },
    {
      "metadata": {
        "trusted": true,
        "_uuid": "7b354a9bf0f8c7be822fb9d243913c069c335bf5"
      },
      "cell_type": "code",
      "source": "plot_yearly_count(\"Meera\")",
      "execution_count": null,
      "outputs": []
    },
    {
      "metadata": {
        "_uuid": "29b18c22e5ee9357342b62ead16f8f1c6b8ab5d5"
      },
      "cell_type": "markdown",
      "source": "The name Meera shows an increase in popularity from 2013 onwards. 2013 happens to be the year when season 3 was aired, and Meera Reed's character was first introduced onscreen."
    },
    {
      "metadata": {
        "_uuid": "54c5dc20db5be59b5a2efed50b64b76d438e47b3"
      },
      "cell_type": "markdown",
      "source": "### 8.Other Important Characters  <a name=\"vii\"></a>\n\nLet us look at the popularity of the names of other characters such as Jon Stark, Catelyn Stark, Jaime Lannister"
    },
    {
      "metadata": {
        "trusted": true,
        "_uuid": "fa50cdf32471e606a3dd6befabde3e78b5fde972"
      },
      "cell_type": "code",
      "source": "plot_yearly_count(\"Jon\")\nplot_yearly_count(\"Catelyn\")\nplot_yearly_count(\"Jaime\")",
      "execution_count": null,
      "outputs": []
    },
    {
      "metadata": {
        "_uuid": "d6b4daf0ae9c94539b77f7b49053fae7a30ff050"
      },
      "cell_type": "markdown",
      "source": "From the above graphs, I was not able to descern any noticable impact of the show on the popularity of the names."
    },
    {
      "metadata": {
        "_uuid": "ce98a427aff70ecc5ec2e1cfaad0c104c63bfef5"
      },
      "cell_type": "markdown",
      "source": "### Next Steps: <a name=\"9\"></a>\n*  It would be interesting to analyize the impact of other popular culture phenomenon such as Harry Potter on the popularity of names\n* The Game of Thrones characters above were chosen from my memory, and I may have missed important characters that show a trend. To avoid this, instead of manually looking for character names, we could use the [Game of Thrones data set](https://www.kaggle.com/mylesoneill/game-of-thrones) available on Kaggle, to search for the character names in this dataset"
    },
    {
      "metadata": {
        "_uuid": "06bf8fbeecfe1f9c6dacce26212006136cf12b87"
      },
      "cell_type": "markdown",
      "source": "### References <a name=\"10\"></a>\n* https://gameofthrones.fandom.com/wiki/Daenerys_Targaryen\n* https://gameofthrones.fandom.com/wiki/Arya_Stark\n* https://gameofthrones.fandom.com/wiki/Sansa_Stark\n* https://gameofthrones.fandom.com/wiki/Tyrion_Lannister\n* https://gameofthrones.fandom.com/wiki/Brienne_of_Tarth\n* https://gameofthrones.fandom.com/wiki/Lyanna_Stark\n* https://gameofthrones.fandom.com/wiki/Meera_Reed\n* https://closeronline.co.uk/family/news/game-thrones-baby-boy-name-baby-girl-name-meaning/\n"
    }
  ],
  "metadata": {
    "kernelspec": {
      "display_name": "Python 3",
      "language": "python",
      "name": "python3"
    },
    "language_info": {
      "name": "python",
      "version": "3.6.6",
      "mimetype": "text/x-python",
      "codemirror_mode": {
        "name": "ipython",
        "version": 3
      },
      "pygments_lexer": "ipython3",
      "nbconvert_exporter": "python",
      "file_extension": ".py"
    }
  },
  "nbformat": 4,
  "nbformat_minor": 1
}