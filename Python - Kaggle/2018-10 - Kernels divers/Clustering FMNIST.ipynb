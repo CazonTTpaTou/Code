{
  "cells": [
    {
      "metadata": {
        "_uuid": "3696fd2fbb78e4f97762e9340031cecaf660bf96"
      },
      "cell_type": "markdown",
      "source": "<img src=\"https://i.imgflip.com/2jxxia.jpg\" title=\"made at imgflip.com\">\n# Unsupervised Deep Learning\nWe, data scientists regularly use **DNNs, CNNs and RNNs** for most applications of deep learning but that's only the **supervised side** of the neural networks family but there is also the more sophisticated and less talked about **unsupervised side** which is just as or even more intriguing than the conventional supervised architectures. These unsupervised models enable the neural networks to perform tasks like **clustering, anomaly detection, feature selection, feature extraction, dimensionality reduction and recommender systems**. Some of these neural networks are: **Self organizing maps, Boltzmann machines, Autoencoders**\n\n### Self Organizing Maps\n<img src=\"https://www.researchgate.net/profile/Damian_Jankowski3/publication/291834232/figure/fig3/AS:553741877481472@1509033759154/Self-organizing-map-structure.png\">\n\n### Boltzmann Machines\n<img src=\"https://upload.wikimedia.org/wikipedia/commons/thumb/7/7a/Boltzmannexamplev1.png/330px-Boltzmannexamplev1.png\">\n\n### Autoencoders\n<img src=\"https://cdn-images-1.medium.com/max/1000/1*ZEvDcg1LP7xvrTSHt0B5-Q@2x.png\" height=\"400\" width=\"500\">"
    },
    {
      "metadata": {
        "_kg_hide-input": false,
        "_uuid": "4d8f1335c363be16f9468208ef728bc4c861ac47"
      },
      "cell_type": "markdown",
      "source": "# Aim\nThis is supposed to be a tutorial on **Self Organizing Maps** where we will perform clustering on Fashion MNIST using a neural network.\n# Concepts covered\n- Self Organizing Maps(For unsupervised deep learning)\n- Bayesian Optimization\n- Analysis of Self Organized Maps\n- Some image processing\n\n# Self Organizing Maps\nA self-organizing map (SOM) or self-organizing feature map (SOFM) is a type of artificial neural network (ANN) that is trained using unsupervised learning to produce a low-dimensional (typically two-dimensional), discretized representation of the input space of the training samples, called a map, and is therefore a method to do dimensionality reduction. Self-organizing maps differ from other artificial neural networks as they apply competitive learning as opposed to error-correction learning (such as backpropagation with gradient descent), and in the sense that they use a neighborhood function to preserve the topological properties of the input space.\n<img src=\"http://www.pitt.edu/~is2470pb/Spring05/FinalProjects/Group1a/tutorial/kohonen1.gif\">\nThis makes SOMs useful for visualization by creating low-dimensional views of high-dimensional data, akin to multidimensional scaling. The artificial neural network introduced by the Finnish professor Teuvo Kohonen in the 1980s is sometimes called a Kohonen map or network. The Kohonen net is a computationally convenient abstraction building on biological models of neural systems from the 1970s and morphogenesis models dating back to Alan Turing in the 1950s.\n<img src=\"https://www.nnwj.de/uploads/pics/1_2-kohonon-feature-map.gif\">\nWhile it is typical to consider this type of network structure as related to feedforward networks where the nodes are visualized as being attached, this type of architecture is fundamentally different in arrangement and motivation. It has been shown that while self-organizing maps with a small number of nodes behave in a way that is similar to K-means, larger self-organizing maps rearrange data in a way that is fundamentally topological in character.\n\nSource: [Wikipedia](http://https://en.wikipedia.org/wiki/Self-organizing_map)"
    },
    {
      "metadata": {
        "_uuid": "c31a7c39f25c09e72ff10c3630365ec7c73e141b"
      },
      "cell_type": "markdown",
      "source": "# Things we can do with Self Organizing Maps\n* Visualizing high dimensional data into a low dimensional view which is usually 2D - In this case we have 784 columns because the Fashion MNIST dataset has images of dimensions 28x28 \n* Clustering - According to [Wikipedia](https://en.wikipedia.org/wiki/Self-organizing_map): It has been shown that while self-organizing maps with a small number of nodes behave in a way that is similar to K-means, larger self-organizing maps rearrange data in a way that is fundamentally topological in character.\n* Anomaly detection - We identify entities whose topological distance to its topological neighbors is significantly higher than all its topological neighbors amongst themselves as anomalies\n* Non-linear Dmensionality Reduction - For visualization, we convert high-dimensional data into low-dimensional data"
    },
    {
      "metadata": {
        "_uuid": "b9e6f92b8a0a7de60cbad39da167a60770b2412d"
      },
      "cell_type": "markdown",
      "source": "# About the dataset: Fashion MNIST\n## Context\nFashion-MNIST is a dataset of Zalando's article images—consisting of a training set of 60,000 examples and a test set of 10,000 examples. Each example is a 28x28 grayscale image, associated with a label from 10 classes. Zalando intends Fashion-MNIST to serve as a direct drop-in replacement for the original MNIST dataset for benchmarking machine learning algorithms. It shares the same image size and structure of training and testing splits.\n\nThe original MNIST dataset contains a lot of handwritten digits. Members of the AI/ML/Data Science community love this dataset and use it as a benchmark to validate their algorithms. In fact, MNIST is often the first dataset researchers try. \"If it doesn't work on MNIST, it won't work at all\", they said. \"Well, if it does work on MNIST, it may still fail on others.\" Zalando seeks to replace the original MNIST dataset.\n\n## Content\nEach image is 28 pixels in height and 28 pixels in width, for a total of 784 pixels in total. Each pixel has a single pixel-value associated with it, indicating the lightness or darkness of that pixel, with higher numbers meaning darker. This pixel-value is an integer between 0 and 255. The training and test data sets have 785 columns. The first column consists of the class labels (see above), and represents the article of clothing. The rest of the columns contain the pixel-values of the associated image. To locate a pixel on the image, suppose that we have decomposed x as x = i * 28 + j, where i and j are integers between 0 and 27. The pixel is located on row i and column j of a 28 x 28 matrix. For example, pixel31 indicates the pixel that is in the fourth column from the left, and the second row from the top, as in the ascii-diagram below. \n\n## Labels\nLabels\nEach training and test example is assigned to one of the following labels:\n* 0 T-shirt/top\n* 1 Trouser\n* 2 Pullover\n* 3 Dress\n* 4 Coat\n* 5 Sandal\n* 6 Shirt\n* 7 Sneaker\n* 8 Bag\n* 9 Ankle boot \n"
    },
    {
      "metadata": {
        "_uuid": "8f2839f25d086af736a60e9eeb907d3b93b6e0e5",
        "_cell_guid": "b1076dfc-b9ad-4769-8c92-a6c4dae69d19",
        "trusted": true
      },
      "cell_type": "code",
      "source": "# Loading libraries\nimport numpy as np\nimport pandas as pd\nimport matplotlib.pyplot as plt\nimport seaborn as sns\nfrom minisom import MiniSom\nimport concurrent.futures\nimport time\nfrom pylab import bone, pcolor, colorbar, plot, show, rcParams, savefig\nimport os\nprint(os.listdir(\"../input\"))",
      "execution_count": null,
      "outputs": []
    },
    {
      "metadata": {
        "_cell_guid": "79c7e3d0-c299-4dcb-8224-4455121ee9b0",
        "_uuid": "d629ff2d2480ee46fbb7e2d37f6b5fab8052498a",
        "trusted": true
      },
      "cell_type": "code",
      "source": "# Loading training and test set\ntrain = pd.read_csv('../input/fashion-mnist_train.csv')\ntest = pd.read_csv('../input/fashion-mnist_test.csv')\ntrain.head()",
      "execution_count": null,
      "outputs": []
    },
    {
      "metadata": {
        "trusted": true,
        "_uuid": "090cc984845cfb615dbce16cbce70dc78243ef64"
      },
      "cell_type": "code",
      "source": "# Combining training and test set to get over 70k samples\nnew_train = train.drop(columns=['label'])\nnew_test = test.drop(columns=['label'])\nsom_data = pd.concat([new_train, new_test], ignore_index=True).values\nlabels = pd.concat([train['label'], test['label']], ignore_index=True).values",
      "execution_count": null,
      "outputs": []
    },
    {
      "metadata": {
        "_uuid": "6191482a0c1d7746e304b7484b6beef2d2f3adec"
      },
      "cell_type": "markdown",
      "source": "# Some sample images"
    },
    {
      "metadata": {
        "trusted": true,
        "_uuid": "8acc305edb6840fd8adb5b7641fcaf91d38bf5bb"
      },
      "cell_type": "code",
      "source": "f, ax = plt.subplots(1,5)\nf.set_size_inches(80, 40)\nfor i in range(5):\n    ax[i].imshow(som_data[i].reshape(28, 28))\nplt.show()",
      "execution_count": null,
      "outputs": []
    },
    {
      "metadata": {
        "trusted": true,
        "_uuid": "351dea3254b7ef4c7e70a8d80031bdf9692f6c81"
      },
      "cell_type": "code",
      "source": "#Initializing the map\nstart_time = time.time()\n# The map will have x*y = 50*50 = 2500 features  \nsom = MiniSom(x=50,y=50,input_len=som_data.shape[1],sigma=0.5,learning_rate=0.4)\n# There are two ways to train this data\n# train_batch: Data is trained in batches\n# train_random: Random samples of data are trained. Following line of code provides random weights as we are going to use train_random for training\nsom.random_weights_init(som_data)",
      "execution_count": null,
      "outputs": []
    },
    {
      "metadata": {
        "trusted": true,
        "_uuid": "fc0d2d8f0a94449aa10d60381c42e80d85884d0c",
        "_kg_hide-input": true
      },
      "cell_type": "code",
      "source": "# Training data for 1000 iterations\nsom.train_random(data=som_data,num_iteration=1000)",
      "execution_count": null,
      "outputs": []
    },
    {
      "metadata": {
        "_uuid": "797a636294419557545258961ed9b44b7a842a5e"
      },
      "cell_type": "markdown",
      "source": "Now, we will plot the map. First, we will manually define labels with their markers.\n* 0 -> Light blue circle\n* 1 -> Caramel square\n* 2 -> Blue pentagon\n* 3 -> Orange star\n* 4 -> Tomato red triangle\n* 5 -> Bright cyan tri_down\n* 6 -> Electric indigo hexagon\n* 7 -> Light orange x\n* 8 -> Raspberry plus\n* 9 -> Purple diamond"
    },
    {
      "metadata": {
        "trusted": true,
        "_uuid": "bad72a51e3b06b647b48b87112c9d9e089940b36"
      },
      "cell_type": "code",
      "source": "# Finally plotting the map\nwith concurrent.futures.ProcessPoolExecutor() as executor:\n    rcParams['figure.figsize'] = 25, 20\n    bone()\n    pcolor(som.distance_map().T)\n    colorbar()\n    markers = ['o','s','p','*','^','1','h','x','+','d']\n    colors = ['#57B8FF','#B66D0D','#009FB7','#FBB13C','#FE6847','#4FB5A5','#670BE8','#F29F60','#8E1C4A','#85809B']\n    for i,x in enumerate(som_data):\n        w = som.winner(x)\n        plot(w[0]+0.5,w[1]+0.5,markers[labels[i]],markeredgecolor=colors[labels[i]],markerfacecolor='None',markersize=10,markeredgewidth=2)\n    savefig(\"map.png\")\n    show()\nend_time = time.time() - start_time",
      "execution_count": null,
      "outputs": []
    },
    {
      "metadata": {
        "trusted": true,
        "_uuid": "2ef494f87fae14bd51946fc1cc3013c8ba1a0894"
      },
      "cell_type": "code",
      "source": "print(int(end_time),\"seconds taken to complete the task.\")",
      "execution_count": null,
      "outputs": []
    },
    {
      "metadata": {
        "trusted": true,
        "_uuid": "8f6009e863bfa86eef7685f0e000dea88bcfa32c"
      },
      "cell_type": "markdown",
      "source": "# How to interpret and evaluate a Self Organizing Map\n* **Again, a Self Organizing Map creates a view that represents high dimensional data as low dimensional data preserving topological properties of the input space using a neighborhood function** \n* The heatmap in the background on which the clusters reside represent the topological properties of the input space. The colorbar() on the right represent the topological distance. The distance goes from **0(black) to 1(white) where lesser the distance, more is the correlation/similarity of the feature with its immediate neighboring features**.\n* If the feature is white i.e., **topological distance close to 1, then they can be classified as anomalies**.\n* The markers(colored shapes) represent different labels and are clustered on the topological space on the basis of their topological properties.\n* Our goal is to have distinct clusters but that doesn't mean all the points of the cluster have to be close to each other because this is non-linear dimensionality reduction and not K-means clustering where points are located close to the centroids\n* For better evaluation, we have to take care that any**given feature should be occupied by only one label/marker. We should optimize the map for the same.** \n* Overlap of mutiple labels on a feature means its uniqueness is compromised and there is a scope of improvement."
    },
    {
      "metadata": {
        "_uuid": "8bbdd641a435320d62bceb00c58f7c3e5e61d749"
      },
      "cell_type": "markdown",
      "source": "# Analyzing the results\n**Minisom objects provide us with enough data to perform good analysis of our results and gain more insights**"
    },
    {
      "metadata": {
        "trusted": true,
        "_uuid": "cf11f4b4011a1928f5da34d36f05d9ac90428bac"
      },
      "cell_type": "code",
      "source": "start_time = time.time()\n# Returns a matrix where the element i,j is the number of time that the neuron i,j have been winner.\nact_res = som.activation_response(som_data)\n# Returns a dictionary wm where wm[(i,j)] is a list with all the patterns that have been mapped in the position i,j.\nwinner_map = som.win_map(som_data)\n# Returns a dictionary wm where wm[(i,j)] is a dictionary that contains the number of samples from a given label that have been mapped in position i,j.\nlabelmap = som.labels_map(som_data,labels)\nend_time = time.time() - start_time\nprint(int(end_time),\"seconds taken to extract data from results.\")",
      "execution_count": null,
      "outputs": []
    },
    {
      "metadata": {
        "_uuid": "fdafc7a4f9724088bd0b4946de61a710b843ba79"
      },
      "cell_type": "markdown",
      "source": "## Heatmap for performance of neurons\nWe will use *act_res* to generate a heatmap which indicates the neurons which perform better than others.\n**Colour given to a neuron represents the number of times it has been winner. Lighter colour shade is directly proportional to this frequency of winning.**"
    },
    {
      "metadata": {
        "trusted": true,
        "_uuid": "54903b70dccec264beba7245f7e84a69e2c0fe6c"
      },
      "cell_type": "code",
      "source": "sns.heatmap(act_res)",
      "execution_count": null,
      "outputs": []
    },
    {
      "metadata": {
        "_uuid": "937bfc5508e7f4135a71ec9240c5a5e3a0a7dd2a"
      },
      "cell_type": "markdown",
      "source": "## Distribution of outlier neurons"
    },
    {
      "metadata": {
        "trusted": true,
        "_uuid": "accbf38974db2d7312679e0242158f8451a1f156"
      },
      "cell_type": "code",
      "source": "# Extracting outliers\nq75, q25 = np.percentile(act_res.flatten(), [75 ,25])\niqr = q75 - q25\nlower_fence = q25 - (1.5*iqr)\nupper_fence = q75 + (1.5*iqr)\ncondition = (act_res < lower_fence) | (act_res > upper_fence)\noutlier_neurons = np.extract(condition,act_res)",
      "execution_count": null,
      "outputs": []
    },
    {
      "metadata": {
        "trusted": true,
        "_uuid": "d93fe504116057ea5ef483a3aaeddcfab416bba1"
      },
      "cell_type": "code",
      "source": "# Plotting the distribution of neurons and outliers\nf, (ax1, ax2) = plt.subplots(1, 2, sharex='col', sharey='row', figsize=(15,5))\nax1.set(xlabel='Distribution of all neurons')\nax2.set(xlabel='Distribution of outliers')\nsns.distplot(act_res.flatten(),ax=ax1)\nsns.distplot(outlier_neurons,ax=ax2)\nplt.close(2)\nplt.close(3)",
      "execution_count": null,
      "outputs": []
    },
    {
      "metadata": {
        "_uuid": "9beaed4d1fe2863cbd7778e2e27fbdc84998d51f"
      },
      "cell_type": "markdown",
      "source": "## Visualizing patterns \n*winner_map* contains dominant features/patterns generated by neurons. Some of these features if visualized look like amalgamation of different kinds of clothes.\nLike a generated feature may generate images that look like the combination of shirts, coats and pullovers. This may help in clustering"
    },
    {
      "metadata": {
        "trusted": true,
        "_uuid": "3f4f9c4a0383a348bf297a5026ba8ccc3c3994d6"
      },
      "cell_type": "code",
      "source": "count=0\nf, ax = plt.subplots(2,5)\nf.set_size_inches(80, 40)\nfor i in range(2):\n    for j in range(5):\n        ax[i][j].imshow(winner_map[list(winner_map)[1]][count].reshape(28, 28))\n        count = count + 1\nplt.show()",
      "execution_count": null,
      "outputs": []
    },
    {
      "metadata": {
        "_uuid": "2deb7af6e9499cedfa80284d1a872e93efa22fe6"
      },
      "cell_type": "markdown",
      "source": "**Check the comments for intrpretation**\n\nFuture versions will consist of Bayesian Optimizaation(if it's possible) and more analysis of the map produced.\n\n**Kindly upvote, comment, share and fork this kernel if you like my work. I am open to suggestions.**"
    }
  ],
  "metadata": {
    "kernelspec": {
      "display_name": "Python 3",
      "language": "python",
      "name": "python3"
    },
    "language_info": {
      "name": "python",
      "version": "3.6.6",
      "mimetype": "text/x-python",
      "codemirror_mode": {
        "name": "ipython",
        "version": 3
      },
      "pygments_lexer": "ipython3",
      "nbconvert_exporter": "python",
      "file_extension": ".py"
    }
  },
  "nbformat": 4,
  "nbformat_minor": 1
}