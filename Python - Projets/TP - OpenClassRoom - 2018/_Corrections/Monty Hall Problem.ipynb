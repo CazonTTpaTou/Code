{
 "cells": [
  {
   "cell_type": "code",
   "execution_count": 1,
   "metadata": {
    "collapsed": true
   },
   "outputs": [],
   "source": [
    "import numpy as np\n",
    "import matplotlib.pyplot as plt\n",
    "import module_MH as MH\n",
    "import module_Strat as Strategy\n",
    "\n",
    "%matplotlib inline"
   ]
  },
  {
   "cell_type": "code",
   "execution_count": 2,
   "metadata": {},
   "outputs": [
    {
     "name": "stdout",
     "output_type": "stream",
     "text": [
      "En changeant de porte, le joueur a gagné 6712 sur 10000 parties.\n",
      "En gardant son choix initial, le joueur a gagné 3332 sur 10000 parties.\n"
     ]
    }
   ],
   "source": [
    "res_CHANGER = np.sum(MH.play(Strategy.strat.CHANGER, 10000))\n",
    "res_GARDER = np.sum(MH.play(Strategy.strat.GARDER, 10000))\n",
    "\n",
    "print(\"En changeant de porte, le joueur a gagné {} sur 10000 parties.\"\n",
    "      .format(res_CHANGER))\n",
    "\n",
    "print(\"En gardant son choix initial, le joueur a gagné {} sur 10000 parties.\"\n",
    "      .format(res_GARDER))"
   ]
  },
  {
   "cell_type": "code",
   "execution_count": 4,
   "metadata": {},
   "outputs": [
    {
     "data": {
      "image/png": "[encoded data removed]",
      "text/plain": [
       "<matplotlib.figure.Figure at 0x1114aba20>"
      ]
     },
     "metadata": {},
     "output_type": "display_data"
    }
   ],
   "source": [
    "# Plots - bar chart\n",
    "plot = plt.bar([1,2],[res_CHANGER, res_GARDER], tick_label=[\"Changer\",\"Garder\"])"
   ]
  },
  {
   "cell_type": "code",
   "execution_count": 10,
   "metadata": {},
   "outputs": [],
   "source": [
    "# Sampling \n",
    "samples =  np.array([1000, 10000, 20000, 50000, 80000, 100000])\n",
    "\n",
    "gains_CHANGER = np.array(list(map(lambda x: np.sum(MH.play(Strategy.strat.CHANGER, x)), samples )))\n",
    "gains_GARDER = np.array(list(map(lambda x: np.sum(MH.play(Strategy.strat.GARDER, x)), samples )))"
   ]
  },
  {
   "cell_type": "code",
   "execution_count": 11,
   "metadata": {},
   "outputs": [
    {
     "data": {
      "text/plain": [
       "Text(0.5,0,'Samples')"
      ]
     },
     "execution_count": 11,
     "metadata": {},
     "output_type": "execute_result"
    },
    {
     "data": {
      "image/png": "[encoded data removed]",
      "text/plain": [
       "<matplotlib.figure.Figure at 0x1116e8cc0>"
      ]
     },
     "metadata": {},
     "output_type": "display_data"
    }
   ],
   "source": [
    "# Plots- Evolution\n",
    "figure = plt.figure()\n",
    "plot = plt.scatter(samples, gains_CHANGER)\n",
    "plot = plt.scatter(samples, gains_GARDER)\n",
    "plt.xlabel(\"Samples\")"
   ]
  },
  {
   "cell_type": "code",
   "execution_count": null,
   "metadata": {
    "collapsed": true
   },
   "outputs": [],
   "source": []
  }
 ],
 "metadata": {
  "kernelspec": {
   "display_name": "Python 3",
   "language": "python",
   "name": "python3"
  },
  "language_info": {
   "codemirror_mode": {
    "name": "ipython",
    "version": 3
   },
   "file_extension": ".py",
   "mimetype": "text/x-python",
   "name": "python",
   "nbconvert_exporter": "python",
   "pygments_lexer": "ipython3",
   "version": "3.6.3"
  }
 },
 "nbformat": 4,
 "nbformat_minor": 2
}
