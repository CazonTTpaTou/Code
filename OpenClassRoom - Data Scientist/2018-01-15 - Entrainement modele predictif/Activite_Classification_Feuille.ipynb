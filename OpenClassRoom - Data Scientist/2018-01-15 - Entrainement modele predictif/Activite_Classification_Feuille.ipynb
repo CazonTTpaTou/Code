{
 "cells": [
  {
   "cell_type": "markdown",
   "metadata": {},
   "source": [
    "# Activité - Classification de feuilles d'arbres"
   ]
  },
  {
   "cell_type": "markdown",
   "metadata": {},
   "source": [
    "## Importation des modules Python"
   ]
  },
  {
   "cell_type": "code",
   "execution_count": 66,
   "metadata": {},
   "outputs": [],
   "source": [
    "# -*- coding: utf-8 -*-\n",
    "import pandas as pd\n",
    "import numpy as np\n",
    "import matplotlib\n",
    "from matplotlib import pyplot as plt\n",
    "\n",
    "from sklearn.preprocessing import StandardScaler, LabelEncoder\n",
    "from sklearn.neighbors import KNeighborsClassifier\n",
    "from sklearn.model_selection import GridSearchCV\n",
    "from sklearn.model_selection import train_test_split\n",
    "\n",
    "from sklearn.svm import SVC\n",
    "from sklearn.svm import LinearSVC\n",
    "from sklearn.metrics import accuracy_score, confusion_matrix"
   ]
  },
  {
   "cell_type": "markdown",
   "metadata": {},
   "source": [
    "## Traitement du jeu de données"
   ]
  },
  {
   "cell_type": "markdown",
   "metadata": {},
   "source": [
    "### Importation du jeu de données"
   ]
  },
  {
   "cell_type": "code",
   "execution_count": 38,
   "metadata": {},
   "outputs": [
    {
     "data": {
      "text/plain": [
       "species\n",
       "Acer_Capillipes    10\n",
       "Acer_Circinatum    10\n",
       "Acer_Mono          10\n",
       "Acer_Opalus        10\n",
       "Acer_Palmatum      10\n",
       "dtype: int64"
      ]
     },
     "execution_count": 38,
     "metadata": {},
     "output_type": "execute_result"
    }
   ],
   "source": [
    "#Imporation des données\n",
    "raw_data = pd.read_csv(\"E:/Data/RawData/Dataset_feuilles_1.csv\")\n",
    "\n",
    "# Aperçu du jeu de données\n",
    "snapshot = raw_data.groupby('species').size()\n",
    "snapshot.head(5)\n"
   ]
  },
  {
   "cell_type": "code",
   "execution_count": 39,
   "metadata": {},
   "outputs": [
    {
     "data": {
      "text/plain": [
       "species\n",
       "Tilia_Tomentosa                 10\n",
       "Ulmus_Bergmanniana              10\n",
       "Viburnum_Tinus                  10\n",
       "Viburnum_x_Rhytidophylloides    10\n",
       "Zelkova_Serrata                 10\n",
       "dtype: int64"
      ]
     },
     "execution_count": 39,
     "metadata": {},
     "output_type": "execute_result"
    }
   ],
   "source": [
    "snapshot.tail(5)"
   ]
  },
  {
   "cell_type": "code",
   "execution_count": 40,
   "metadata": {},
   "outputs": [],
   "source": [
    "## On remarque que chaque espèce de feuille comporte un échantillon de 10 individus"
   ]
  },
  {
   "cell_type": "markdown",
   "metadata": {},
   "source": [
    "### Description des données"
   ]
  },
  {
   "cell_type": "code",
   "execution_count": 41,
   "metadata": {},
   "outputs": [
    {
     "name": "stdout",
     "output_type": "stream",
     "text": [
      "Nombre espèces distinctes : 99 \n"
     ]
    }
   ],
   "source": [
    "snapshot = raw_data.groupby('species').size()\n",
    "print('Nombre espèces distinctes : {} '.format(len(snapshot)))"
   ]
  },
  {
   "cell_type": "code",
   "execution_count": 42,
   "metadata": {},
   "outputs": [
    {
     "name": "stdout",
     "output_type": "stream",
     "text": [
      "Nombre de feuille moyenne par espèces : 10.0 \n"
     ]
    }
   ],
   "source": [
    "print('Nombre de feuille moyenne par espèces : {} '.format(snapshot.mean()))"
   ]
  },
  {
   "cell_type": "code",
   "execution_count": 43,
   "metadata": {},
   "outputs": [
    {
     "data": {
      "text/plain": [
       "species\n",
       "Acer_Capillipes     10\n",
       "Acer_Circinatum     10\n",
       "Acer_Mono           10\n",
       "Acer_Opalus         10\n",
       "Acer_Palmatum       10\n",
       "Acer_Pictum         10\n",
       "Acer_Platanoids     10\n",
       "Acer_Rubrum         10\n",
       "Acer_Rufinerve      10\n",
       "Acer_Saccharinum    10\n",
       "dtype: int64"
      ]
     },
     "execution_count": 43,
     "metadata": {},
     "output_type": "execute_result"
    }
   ],
   "source": [
    "# Les 99 espèces semblent identiquement distribuées à raison de classes d'effectifs de 10 individus\n",
    "syntheseFamille = snapshot \n",
    "snapshot.head(10)"
   ]
  },
  {
   "cell_type": "code",
   "execution_count": 44,
   "metadata": {},
   "outputs": [],
   "source": [
    "## On remarque néanmoins que de nombreuses espèces semblent appartenir à une famille commune\n",
    "## La dénomination de cette fammille apparaît dans la première partie du titre\n",
    "# On va donc vérifier que ces famillies sont bien distribuées selon des répartitions équivalentes"
   ]
  },
  {
   "cell_type": "code",
   "execution_count": 45,
   "metadata": {},
   "outputs": [
    {
     "name": "stdout",
     "output_type": "stream",
     "text": [
      "53.54 % des observations appartiennent à 3 familles de feuilles.\n",
      "46.46 % des observations appartiennent à 31 familles de feuilles.\n"
     ]
    }
   ],
   "source": [
    "# Synthèse par famille\n",
    "syntheseFamille = snapshot \n",
    "# On ne conserve que le premier mot du nom avant le underscore\n",
    "syntheseFamille.index = syntheseFamille.index.map(lambda x:x[0:x.find('_')])\n",
    "# On agrège pour obtenir le nombre d'occurences de chaque famille\n",
    "nombre_famille = len(syntheseFamille.sum(level=0))\n",
    "\n",
    "ratio_3_premiers = (syntheseFamille.sum(level=0).sort_values(ascending=False)[:3].sum() \n",
    "                    /\n",
    "                    syntheseFamille.sum())\n",
    "\n",
    "ratio_3_autres = (syntheseFamille.sum(level=0).sort_values(ascending=False)[3:].sum()\n",
    "                    /\n",
    "                    syntheseFamille.sum())\n",
    "\n",
    "print('{} % des observations appartiennent à 3 familles de feuilles.'.\n",
    "      format(100*np.round(ratio_3_premiers,4)))\n",
    "\n",
    "print('{} % des observations appartiennent à {} familles de feuilles.'.\n",
    "      format(100*np.round(ratio_3_autres,4),nombre_famille-3))"
   ]
  },
  {
   "cell_type": "code",
   "execution_count": 46,
   "metadata": {},
   "outputs": [],
   "source": [
    "# Il semblerait donc que les familles de feuille ne soient pas distribuées de façon égalitaire\n",
    "# Plus de la moitié des feuilles de l'échantillon appartiennent à 3 familles de feuilles sur un total de 34 catégories"
   ]
  },
  {
   "cell_type": "code",
   "execution_count": 47,
   "metadata": {},
   "outputs": [
    {
     "name": "stdout",
     "output_type": "stream",
     "text": [
      "species\n",
      "Quercus    380\n",
      "Acer       100\n",
      "Alnus       50\n",
      "Cornus      30\n",
      "Populus     30\n",
      "dtype: int64\n"
     ]
    },
    {
     "data": {
      "text/plain": [
       "<matplotlib.axes._subplots.AxesSubplot at 0x2325fa49e80>"
      ]
     },
     "execution_count": 47,
     "metadata": {},
     "output_type": "execute_result"
    },
    {
     "data": {
      "image/png": "[encoded data removed]",
      "text/plain": [
       "<Figure size 432x288 with 1 Axes>"
      ]
     },
     "metadata": {},
     "output_type": "display_data"
    }
   ],
   "source": [
    "# Affichage des familles de feuille les plus représentées\n",
    "print(syntheseFamille.sum(level=0).sort_values(ascending=False)[:5])\n",
    "syntheseFamille.sum(level=0).plot()"
   ]
  },
  {
   "cell_type": "code",
   "execution_count": 48,
   "metadata": {},
   "outputs": [],
   "source": [
    "# Les 3 catégories Quercus, Acer et Alnus sont sur-représentées par rapport aux autres catégories...\n",
    "# Il faudra être donc vigilant quant à la composition des données de test et d'apprentissage\n",
    "# afin que ces jeux de données restent représentatifs de l'ensemble de la population"
   ]
  },
  {
   "cell_type": "markdown",
   "metadata": {},
   "source": [
    "### Création des jeux de données"
   ]
  },
  {
   "cell_type": "markdown",
   "metadata": {},
   "source": [
    "#### Encodage des étiquettes de feuilles"
   ]
  },
  {
   "cell_type": "code",
   "execution_count": 49,
   "metadata": {},
   "outputs": [],
   "source": [
    "#Encodage des données\n",
    "labelencoder=LabelEncoder()\n",
    "Espece = raw_data.iloc[:,1]\n",
    "Proprietes = raw_data.iloc[:,2:raw_data.shape[1]]\n",
    "especeEncode = labelencoder.fit_transform(Espece)"
   ]
  },
  {
   "cell_type": "markdown",
   "metadata": {},
   "source": [
    "#### Normalisation du jeu de données"
   ]
  },
  {
   "cell_type": "code",
   "execution_count": 50,
   "metadata": {},
   "outputs": [],
   "source": [
    "# Normalisaton - Réduction des données\n",
    "scaler = StandardScaler().fit(Proprietes)\n",
    "proprietesNR = scaler.transform(Proprietes)"
   ]
  },
  {
   "cell_type": "markdown",
   "metadata": {},
   "source": [
    "#### Construction des jeux de données de test et d'apprentissage"
   ]
  },
  {
   "cell_type": "code",
   "execution_count": 51,
   "metadata": {},
   "outputs": [],
   "source": [
    "# Vu les constats sur la sur-représentation de certaines familles de feuilles dans l'échantillon\n",
    "# On va instaurer un nombre minimal pour l'effectif de chaque classe d'apprentissage afin d'éviter une sous représentation\n",
    "# En effet, si certaines familles d'espèce sont sous-représentées, il y aura un risque de sous apprentissage\n",
    "# Ce qui impliquerait une médiocre aptitude à prédire correctement les familles sur lequel le modèle n'aurait pas appris"
   ]
  },
  {
   "cell_type": "code",
   "execution_count": 69,
   "metadata": {},
   "outputs": [
    {
     "name": "stdout",
     "output_type": "stream",
     "text": [
      "Effectif minimal dans le jeu d'entrainement 5.0\n"
     ]
    }
   ],
   "source": [
    "# Construction des jeux d'entrainement et de test\n",
    "cluster_inferieur_cinq = True\n",
    "# On vérifie qu'on ait aucune classe d'effectif inférieur à 5\n",
    "while (cluster_inferieur_cinq):\n",
    "    \n",
    "    Features_train, Features_test, Label_train, Label_test = train_test_split(proprietesNR, \n",
    "                                                                              especeEncode, \n",
    "                                                                              test_size=0.2)\n",
    "    distribution_classe = pd.Series(np.ones(Label_train.shape[0]),\n",
    "                                    index=Label_train)\n",
    "    cluster_inferieur_cinq = (distribution_classe.sum(level=0).min()  < 5)\n",
    "\n",
    "print('Effectif minimal dans le jeu d\\'entrainement {}'\n",
    "      .format(distribution_classe.sum(level=0).min()))"
   ]
  },
  {
   "cell_type": "code",
   "execution_count": 53,
   "metadata": {},
   "outputs": [],
   "source": [
    "# On a fixé un un seuil minimal de 5, en rapport avec les classes d'effectif de 10 individus"
   ]
  },
  {
   "cell_type": "markdown",
   "metadata": {},
   "source": [
    "## Création de la baseline KNN"
   ]
  },
  {
   "cell_type": "code",
   "execution_count": 54,
   "metadata": {},
   "outputs": [],
   "source": [
    "# Définiton des paramètres potentiels de la classification des plus proches voisins\n",
    "parametres_knn = {'n_neighbors': np.arange(1, 10),\n",
    "                  'metric':[\"euclidean\",\n",
    "                            \"manhattan\",\n",
    "                            \"chebyshev\",\n",
    "                            \"minkowski\"],\n",
    "                   'weights' : ['uniform',\n",
    "                                'distance']}"
   ]
  },
  {
   "cell_type": "code",
   "execution_count": 55,
   "metadata": {},
   "outputs": [],
   "source": [
    "# Recherche par grille des paramètres optimaux de la classification KNN\n",
    "baseLineKNN = GridSearchCV(\n",
    "                        estimator=KNeighborsClassifier(),\n",
    "                        param_grid=parametres_knn,\n",
    "                        cv=5,\n",
    "                        scoring='accuracy')   "
   ]
  },
  {
   "cell_type": "code",
   "execution_count": 70,
   "metadata": {},
   "outputs": [
    {
     "name": "stdout",
     "output_type": "stream",
     "text": [
      "Les paramètres optimaux pour la base KNN sont les suivants : {'metric': 'manhattan', 'n_neighbors': 1, 'weights': 'uniform'}\n"
     ]
    }
   ],
   "source": [
    "# Entrainement du modèle KNN \n",
    "baseLineKNN.fit(Features_train,\n",
    "                Label_train)      \n",
    "\n",
    "print('Les paramètres optimaux pour la base KNN sont les suivants : {}'.\n",
    "      format(baseLineKNN.best_params_))"
   ]
  },
  {
   "cell_type": "markdown",
   "metadata": {},
   "source": [
    "## Utlisation d'une SVM avec différents paramètres"
   ]
  },
  {
   "cell_type": "markdown",
   "metadata": {},
   "source": [
    "### Création d'une SVM basique"
   ]
  },
  {
   "cell_type": "code",
   "execution_count": 72,
   "metadata": {},
   "outputs": [
    {
     "data": {
      "text/plain": [
       "LinearSVC(C=1.0, class_weight=None, dual=True, fit_intercept=True,\n",
       "     intercept_scaling=1, loss='squared_hinge', max_iter=1000,\n",
       "     multi_class='ovr', penalty='l2', random_state=None, tol=0.0001,\n",
       "     verbose=0)"
      ]
     },
     "execution_count": 72,
     "metadata": {},
     "output_type": "execute_result"
    }
   ],
   "source": [
    "# Création d'un classifieur avec les paramètres par défaut de la bibliothèque SKLearn\n",
    "SVM_Base =LinearSVC()\n",
    "\n",
    "SVM_Base.fit(Features_train,\n",
    "             Label_train)"
   ]
  },
  {
   "cell_type": "code",
   "execution_count": 60,
   "metadata": {},
   "outputs": [],
   "source": [
    "# On remarque qu'on utilise l'option Dual = True dans ce cas, ce qui signifie que l'on va résoudre \n",
    "# le problème en mode dual avec cette classification (cas où le nombre de Features est supérieur au nombre d'individus)"
   ]
  },
  {
   "cell_type": "markdown",
   "metadata": {},
   "source": [
    "### Création d'une SVM multi-classe optimisée"
   ]
  },
  {
   "cell_type": "code",
   "execution_count": 61,
   "metadata": {},
   "outputs": [
    {
     "name": "stdout",
     "output_type": "stream",
     "text": [
      "Les paramètres optimaux pour le SVM multi-classe sont les suivants : {'C': 0.1, 'multi_class': 'crammer_singer', 'penalty': 'l1'}\n"
     ]
    }
   ],
   "source": [
    "# Création d'un classifieur SVM multi-class avec différents paramètres\n",
    "parametres_grid_svm = {'multi_class': ['ovr', \n",
    "                                       'crammer_singer'],\n",
    "                       'C': 10**np.linspace(-3,3,num=7),\n",
    "                       'penalty': ['l1','l2']}\n",
    "\n",
    "SVM_MultiClass = GridSearchCV(estimator=LinearSVC(dual=False),\n",
    "                              param_grid=parametres_grid_svm,\n",
    "                              cv=5,\n",
    "                              scoring='accuracy')\n",
    "        \n",
    "SVM_MultiClass.fit(Features_train,\n",
    "                   Label_train)                   \n",
    "\n",
    "print('Les paramètres optimaux pour le SVM multi-classe sont les suivants : {}'.\n",
    "      format(SVM_MultiClass.best_params_))               "
   ]
  },
  {
   "cell_type": "markdown",
   "metadata": {},
   "source": [
    "## Evaluation et visualisation des performances des modèles"
   ]
  },
  {
   "cell_type": "code",
   "execution_count": 73,
   "metadata": {},
   "outputs": [
    {
     "name": "stdout",
     "output_type": "stream",
     "text": [
      " --------------------------------------------------------------------------------\n",
      "          Performance du modèle KNN\n",
      " --------------------------------------------------------------------------------\n",
      "\n",
      "Détail des erreurs :\n",
      "\n",
      " Classe réelle (n°)                   | Classe prédite (n°)                  | Qté\n",
      " --------------------------------------------------------------------------------\n",
      " Cytisus_Battandieri                  | Tilia_Tomentosa                      |  1\n",
      " Quercus_Canariensis                  | Quercus_Dolicholepis                 |  1\n",
      " Quercus_Coccifera                    | Cornus_Controversa                   |  1\n",
      " Quercus_Coccifera                    | Celtis_Koraiensis                    |  1\n",
      " Quercus_Coccifera                    | Alnus_Maximowiczii                   |  1\n",
      " Quercus_Semecarpifolia               | Liquidambar_Styraciflua              |  1\n",
      " Quercus_Texana                       | Cornus_Controversa                   |  1\n",
      " Acer_Pictum                          | Quercus_Variabilis                   |  1\n",
      " --------------------------------------------------------------------------------\n",
      "Score de la prédiction KNN : 95.96%\n",
      "--- soit 190 prédictions correctes sur 198).\n",
      "--- soit 8 erreurs de prédicition sur 198).\n",
      " --------------------------------------------------------------------------------\n",
      "\n",
      " --------------------------------------------------------------------------------\n",
      "          Performance du modèle SVM_BASE\n",
      " --------------------------------------------------------------------------------\n",
      "\n",
      "Détail des erreurs :\n",
      "\n",
      " Classe réelle (n°)                   | Classe prédite (n°)                  | Qté\n",
      " --------------------------------------------------------------------------------\n",
      " Quercus_Ilex                         | Phildelphus                          |  1\n",
      " Celtis_Koraiensis                    | Cotinus_Coggygria                    |  1\n",
      " Quercus_Alnifolia                    | Quercus_Pyrenaica                    |  1\n",
      " Liriodendron_Tulipifera              | Quercus_Coccifera                    |  1\n",
      " --------------------------------------------------------------------------------\n",
      "Score de la prédiction SVM_Base : 97.98%\n",
      "--- soit 194 prédictions correctes sur 198).\n",
      "--- soit 4 erreurs de prédicition sur 198).\n",
      " --------------------------------------------------------------------------------\n",
      "\n",
      " --------------------------------------------------------------------------------\n",
      "          Performance du modèle SVM_MULTI_CLASSE\n",
      " --------------------------------------------------------------------------------\n",
      "\n",
      "Détail des erreurs :\n",
      "\n",
      " Classe réelle (n°)                   | Classe prédite (n°)                  | Qté\n",
      " --------------------------------------------------------------------------------\n",
      " --------------------------------------------------------------------------------\n",
      "Score de la prédiction SVM_Multi_Classe : 100.00%\n",
      "--- soit 198 prédictions correctes sur 198).\n",
      "--- soit 0 erreurs de prédicition sur 198).\n",
      " --------------------------------------------------------------------------------\n",
      "\n"
     ]
    }
   ],
   "source": [
    "# Ensemble des modèles comparés\n",
    "Modeles = {'KNN': baseLineKNN,\n",
    "           'SVM_Base': SVM_Base,\n",
    "           'SVM_Multi_Classe': SVM_MultiClass\n",
    "           }\n",
    "\n",
    "for title,model in Modeles.items():\n",
    "    # Calcul des prédictions du modèle\n",
    "    predictions = model.predict(Features_test)\n",
    "    c_matr = confusion_matrix(Label_test, predictions)\n",
    "    \n",
    "    print(' ' + '-' * 80)\n",
    "    print('          Performance du modèle {0}'.format(title.upper()))\n",
    "    print(' ' + '-' * 80)    \n",
    "    \n",
    "    # Tableau des erreurs :\n",
    "    erreur=0\n",
    "    # En tête du tableau\n",
    "    print('\\nDétail des erreurs :\\n\\n {0:37s}| {1:37s}| {2:s}'\n",
    "          .format('Classe réelle (n°)', \n",
    "                  'Classe prédite (n°)',\n",
    "                  'Qté'))\n",
    "    print(' ' + '-' * 80)\n",
    "    # Détail des erreurs de prédiction \n",
    "    for i in np.arange(0,c_matr.shape[0]):\n",
    "        if np.sum(c_matr[i, :]):\n",
    "            for j in np.arange(0,c_matr.shape[1]):\n",
    "                # Parcours de la matrice de confusion hors diagonale\n",
    "                if (c_matr[i, j]) & (j!=i):\n",
    "                    erreur += c_matr[i, j]\n",
    "                    print(' {0:37s}| {1:37s}| {2:>2d}'                      \n",
    "                           .format(Espece[i], \n",
    "                                   Espece[j], \n",
    "                                   c_matr[i, j]))    \n",
    "                    \n",
    "    # Revue des performances\n",
    "    score=(1-accuracy_score(Label_test, predictions))*len(Features_test)\n",
    "    \n",
    "    print(' ' + '-' * 80)\n",
    "    \n",
    "    print('Score de la prédiction {0} : {1:.2f}%'.\n",
    "          format(title,\n",
    "                  100*accuracy_score(Label_test, \n",
    "                                             predictions)))\n",
    "    \n",
    "    print('--- soit {0} prédictions correctes sur {1}).'.\n",
    "         format(len(Label_test) - erreur, len(Label_test)))\n",
    "    \n",
    "    print('--- soit {0} erreurs de prédicition sur {1}).'.\n",
    "         format(erreur, len(Label_test)))\n",
    "    \n",
    "    print(' ' + '-' * 80)\n",
    "    print('')\n",
    "                         "
   ]
  },
  {
   "cell_type": "code",
   "execution_count": 62,
   "metadata": {},
   "outputs": [],
   "source": [
    "# On constate pour chacun des modèles un nombre d'erreurs relativement raisonnable, \n",
    "# d'autant que de nombreuses erreurs se souvent font sur des prédictions de la même famille de feuille\n",
    "\n",
    "# Ces résultats laissent donc présager de bonnes performances des différents modèles...\n",
    "# De plus, pour chacun des modèles le score exact de la pertinence de sa classification est plutôt élevé (supérieur à 90%)"
   ]
  },
  {
   "cell_type": "markdown",
   "metadata": {},
   "source": [
    "## Détermination du meilleur modèle"
   ]
  },
  {
   "cell_type": "code",
   "execution_count": 74,
   "metadata": {},
   "outputs": [
    {
     "data": {
      "image/png": "[encoded data removed]",
      "text/plain": [
       "<Figure size 576x576 with 1 Axes>"
      ]
     },
     "metadata": {},
     "output_type": "display_data"
    }
   ],
   "source": [
    "# Détermination du meilleur modèle\n",
    "Models = []    \n",
    "Performance = []\n",
    "\n",
    "for title, model in Modeles.items():\n",
    "    Models.append(title)\n",
    "    Performance.append(accuracy_score(Label_test, \n",
    "                                 model.predict(Features_test)))\n",
    "    \n",
    "visualisation = pd.Series(Performance,index=Models)\n",
    "AbscisseOptimum = visualisation.idxmax()\n",
    "\n",
    "# Affichage des résultats sur un graphique en courbe\n",
    "Titre = 'Resultats des performances des modèles de classification'\n",
    "\n",
    "fig = plt.figure(figsize=(8,8))\n",
    "ax = fig.add_subplot(1,1,1)\n",
    "\n",
    "ax.set_title(Titre)\n",
    "ax.set_ylim([0.8,1.05])\n",
    "\n",
    "ax.plot(visualisation.index,visualisation.values,\n",
    "        'ko--',\n",
    "        color='blue',\n",
    "        label = 'Performances des modèles')\n",
    "\n",
    "ax.plot([AbscisseOptimum, AbscisseOptimum], \n",
    "        [0.80, 1.05],\n",
    "        linestyle='--',\n",
    "        color='red',\n",
    "        label='Meilleur modèle')\n",
    "\n",
    "plt.legend(loc = 'lower left')\n",
    "plt.ylabel('Score de la classification')\n",
    "plt.xlabel('Modèle de classification')\n",
    "\n",
    "plt.show()  "
   ]
  },
  {
   "cell_type": "code",
   "execution_count": null,
   "metadata": {},
   "outputs": [],
   "source": [
    "# Le modèle du SVM multi-classe donne les meilleurs résultats \n",
    "# C'est pourquoi,nous faisons le choix de ce modèle !!!"
   ]
  },
  {
   "cell_type": "code",
   "execution_count": 75,
   "metadata": {},
   "outputs": [],
   "source": [
    "# A noter tout de même, qu'il y a une part de hasard dans la constitution des jeux de test et d'apprentissage\n",
    "# Le score de 100% du modèle SVM_Multi-classe comporte donc une part d'aléa et n'est pas forcément reproductible\n",
    "# Si l'ordre de grandeur (au dessus des 96%) est représentatif de la performance du modèle SVM multi-classe \n",
    "# La perfection des prédictions (aucune erreur) tient tout de même de l'exception..."
   ]
  },
  {
   "cell_type": "markdown",
   "metadata": {},
   "source": [
    "## Conclusion"
   ]
  },
  {
   "cell_type": "code",
   "execution_count": 76,
   "metadata": {},
   "outputs": [
    {
     "data": {
      "image/png": "[encoded data removed]",
      "text/plain": [
       "<IPython.core.display.Image object>"
      ]
     },
     "execution_count": 76,
     "metadata": {},
     "output_type": "execute_result"
    }
   ],
   "source": [
    "from IPython.display import Image\n",
    "from IPython.core.display import HTML \n",
    "Image(filename = \"Performances_Modeles.png\")"
   ]
  },
  {
   "cell_type": "code",
   "execution_count": 77,
   "metadata": {},
   "outputs": [],
   "source": [
    "# La revue des performances des modèles linéaires étudiés nous amène à choisir le SVM multi-classe !!\n",
    "# A noter tout de même, que ces performances sont liés au jeu de données dont les caractéristiques sont très favorables\n",
    "# aux algorithmes de classification linéaires, ce qui n'est pas toujours le cas...\n",
    "\n",
    "# Enfin, il convient de nuancer l'excellence des performances du SVM multi-classe au vu des temps de traitement assez longs,\n",
    "# qui s'avèrerait plus problématique sur des jeux de données plus volumineux (plusieurs millions d'individus)..."
   ]
  },
  {
   "cell_type": "code",
   "execution_count": null,
   "metadata": {},
   "outputs": [],
   "source": []
  }
 ],
 "metadata": {
  "kernelspec": {
   "display_name": "Python 3",
   "language": "python",
   "name": "python3"
  },
  "language_info": {
   "codemirror_mode": {
    "name": "ipython",
    "version": 3
   },
   "file_extension": ".py",
   "mimetype": "text/x-python",
   "name": "python",
   "nbconvert_exporter": "python",
   "pygments_lexer": "ipython3",
   "version": "3.6.4"
  }
 },
 "nbformat": 4,
 "nbformat_minor": 2
}
