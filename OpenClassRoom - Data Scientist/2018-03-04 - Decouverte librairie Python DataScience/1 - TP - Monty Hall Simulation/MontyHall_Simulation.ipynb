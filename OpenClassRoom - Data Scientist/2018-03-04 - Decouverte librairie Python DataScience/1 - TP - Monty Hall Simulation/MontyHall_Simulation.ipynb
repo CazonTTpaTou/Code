{
 "cells": [
  {
   "cell_type": "markdown",
   "metadata": {},
   "source": [
    "# Simulation Monty Hall"
   ]
  },
  {
   "cell_type": "markdown",
   "metadata": {},
   "source": [
    "### Diagramme de classes de l'application"
   ]
  },
  {
   "cell_type": "code",
   "execution_count": 3,
   "metadata": {},
   "outputs": [
    {
     "data": {
      "image/png": "[encoded data removed]",
      "text/plain": [
       "<IPython.core.display.Image object>"
      ]
     },
     "execution_count": 3,
     "metadata": {},
     "output_type": "execute_result"
    }
   ],
   "source": [
    "from IPython.display import Image\n",
    "from IPython.core.display import HTML \n",
    "Image(filename = \"DiagrammeClasse.png\")"
   ]
  },
  {
   "cell_type": "markdown",
   "metadata": {},
   "source": [
    "### Classe Joueur"
   ]
  },
  {
   "cell_type": "code",
   "execution_count": 1,
   "metadata": {},
   "outputs": [],
   "source": [
    "from numpy import random as rand\n",
    "\n",
    "class joueur:\n",
    "\n",
    "    ChoixPorteInitial = 0\n",
    "    DecisionChangerChoix = False\n",
    "\n",
    "    def __init__(self, strategie):\n",
    "        self.ChoisirStrategie(strategie)\n",
    "        self.ChoisirPorteInitiale()\n",
    "\n",
    "    def ChoisirStrategie(self,strategie):\n",
    "        self.DecisionChangerChoix = strategie\n",
    "\n",
    "    def ChoisirPorteInitiale(self):\n",
    "        self.ChoixPorteInitial = rand.randint(3)\n",
    "    \n",
    "    def RenvoyerPorteChoisie(self):\n",
    "        return self.ChoixPorteInitial\n",
    "\n",
    "    def RenvoyerDecisionChangerChoix(self):\n",
    "        return self.DecisionChangerChoix\n",
    "\n"
   ]
  },
  {
   "cell_type": "markdown",
   "metadata": {},
   "source": [
    "### Classe Presentateur"
   ]
  },
  {
   "cell_type": "code",
   "execution_count": 2,
   "metadata": {},
   "outputs": [],
   "source": [
    "from numpy import random as rand\n",
    "\n",
    "class presentateur:\n",
    "\n",
    "    def __init__(self):\n",
    "        self.ChoisirUnePorteAuHasard()\n",
    "\n",
    "    def ChoisirUnePorteAuHasard(self):\n",
    "        self.ChoixPortePresentateur = rand.randint(2)\n",
    "    \n",
    "    def RenvoyerPorteChoisie(self):\n",
    "        return self.ChoixPortePresentateur\n"
   ]
  },
  {
   "cell_type": "markdown",
   "metadata": {},
   "source": [
    "### Classe Porte"
   ]
  },
  {
   "cell_type": "code",
   "execution_count": 3,
   "metadata": {},
   "outputs": [],
   "source": [
    "class porte:\n",
    "\n",
    "    EstPorteGagnante = False\n",
    "    EstPorteFerme = True\n",
    "\n",
    "    def __init__(self,estGagnante):\n",
    "        self.EstPorteGagnante = estGagnante\n",
    "        self.EstPorteFerme = True\n",
    "    \n",
    "    def OuvrirPorte(self):\n",
    "        self.EstPorteFerme = False\n",
    "\n",
    "    def RenvoyerSiEstPorteFerme(self):\n",
    "        return self.EstPorteFerme\n",
    "\n",
    "    def RenvoyerSiEstPorteGagnante(self):\n",
    "        return self.EstPorteGagnante"
   ]
  },
  {
   "cell_type": "markdown",
   "metadata": {},
   "source": [
    "### Classe Portes"
   ]
  },
  {
   "cell_type": "code",
   "execution_count": 4,
   "metadata": {},
   "outputs": [],
   "source": [
    "from MontyHall_Porte import porte\n",
    "import numpy as np\n",
    "from numpy import random as rand\n",
    "\n",
    "class portes:\n",
    "\n",
    "    def __init__(self,numeroPorteGagnante):  \n",
    "\n",
    "        if (numeroPorteGagnante) == 0:\n",
    "                self.Porte1 = porte(True)\n",
    "        else : self.Porte1 = porte(False)\n",
    "\n",
    "        if (numeroPorteGagnante) == 1:\n",
    "                self.Porte2 = porte(True)\n",
    "        else : self.Porte2 = porte(False)\n",
    "\n",
    "        if (numeroPorteGagnante) == 2:\n",
    "                self.Porte3 = porte(True)\n",
    "        else : self.Porte3 = porte(False)\n",
    "\n",
    "        self.Les3Portes = np.array([[0,0,0],[0,0,0]])\n",
    "\n",
    "    def ConversionBooleanInteger(self,bool):\n",
    "        if bool :\n",
    "            return 1\n",
    "        else :\n",
    "            return 0\n",
    "\n",
    "    def ConversionDes3PortesEnTableau(self):\n",
    "        self.Les3Portes[0,0] = self.ConversionBooleanInteger(self.Porte1.RenvoyerSiEstPorteGagnante())\n",
    "        self.Les3Portes[0,1] = self.ConversionBooleanInteger(self.Porte2.RenvoyerSiEstPorteGagnante())\n",
    "        self.Les3Portes[0,2] = self.ConversionBooleanInteger(self.Porte3.RenvoyerSiEstPorteGagnante())\n",
    "\n",
    "        self.Les3Portes[1,0] = self.ConversionBooleanInteger(self.Porte1.RenvoyerSiEstPorteFerme())\n",
    "        self.Les3Portes[1,1] = self.ConversionBooleanInteger(self.Porte2.RenvoyerSiEstPorteFerme())\n",
    "        self.Les3Portes[1,2] = self.ConversionBooleanInteger(self.Porte3.RenvoyerSiEstPorteFerme())\n",
    "\n",
    "    def ChoisirUnePortePerdanteFermee(self,numeroPorteJ,numeroPorteP):\n",
    "        numeroPorteJoueur = numeroPorteJ + 1\n",
    "        numeroPortePresentateur = numeroPorteP + 1\n",
    "\n",
    "        if (numeroPorteJoueur==1):\n",
    "            if(numeroPortePresentateur==1):\n",
    "                if(self.Porte2.RenvoyerSiEstPorteGagnante()):\n",
    "                    self.Porte3.OuvrirPorte()\n",
    "                else: self.Porte2.OuvrirPorte()\n",
    "            if(numeroPortePresentateur==2):\n",
    "                if(self.Porte3.RenvoyerSiEstPorteGagnante()):\n",
    "                    self.Porte2.OuvrirPorte()\n",
    "                else: self.Porte3.OuvrirPorte()\n",
    "\n",
    "        if (numeroPorteJoueur==2):\n",
    "            if(numeroPortePresentateur==1):\n",
    "                if(self.Porte1.RenvoyerSiEstPorteGagnante()):\n",
    "                    self.Porte3.OuvrirPorte()\n",
    "                else: self.Porte1.OuvrirPorte()\n",
    "            if(numeroPortePresentateur==2):\n",
    "                if(self.Porte3.RenvoyerSiEstPorteGagnante()):\n",
    "                    self.Porte1.OuvrirPorte()\n",
    "                else: self.Porte3.OuvrirPorte()\n",
    "\n",
    "        if (numeroPorteJoueur==3):\n",
    "            if(numeroPortePresentateur==1):\n",
    "                if(self.Porte1.RenvoyerSiEstPorteGagnante()):\n",
    "                    self.Porte2.OuvrirPorte()\n",
    "                else: self.Porte1.OuvrirPorte()\n",
    "            if(numeroPortePresentateur==2):\n",
    "                if(self.Porte2.RenvoyerSiEstPorteGagnante()):\n",
    "                    self.Porte1.OuvrirPorte()\n",
    "                else: self.Porte2.OuvrirPorte()\n",
    "                \n",
    "        self.ConversionDes3PortesEnTableau()\n",
    "\n",
    "    def ChoisirUneNouvellePorte(self,numeroPorteJoueur):\n",
    "        if(numeroPorteJoueur==0):\n",
    "            self.Porte1.OuvrirPorte()\n",
    "        if(numeroPorteJoueur==1):\n",
    "            self.Porte2.OuvrirPorte()  \n",
    "        if(numeroPorteJoueur==2):\n",
    "            self.Porte3.OuvrirPorte()   \n",
    "\n",
    "        self.ConversionDes3PortesEnTableau()\n",
    "        #self.impression()\n",
    "\n",
    "    def EstChoixPorteJoueurGagnant(self):\n",
    "        if(np.array([np.sum(self.Les3Portes[:,0]),np.sum(self.Les3Portes[:,1]),np.sum(self.Les3Portes[:,2])]).max()==2):\n",
    "            return True\n",
    "        else : return False\n",
    "\n",
    "    def impression(self):\n",
    "        print(self.Les3Portes)\n"
   ]
  },
  {
   "cell_type": "markdown",
   "metadata": {},
   "source": [
    "### Classe Partie"
   ]
  },
  {
   "cell_type": "code",
   "execution_count": 5,
   "metadata": {},
   "outputs": [],
   "source": [
    "from MontyHall_Joueur import joueur\n",
    "from MontyHall_Presentateur import presentateur\n",
    "from MontyHall_Portes import portes\n",
    "from numpy import random as rand\n",
    "\n",
    "class partie:\n",
    "\n",
    "    PartieGagnante = 0\n",
    "    StrategieSuivie = False\n",
    "    NumeroPorteGagnante = 0\n",
    "\n",
    "    def __init__(self,joueur,presentateur):\n",
    "        self.Joueur = joueur\n",
    "        self.Presentateur = presentateur\n",
    "        self.DefinitionPorteGagnante()\n",
    "\n",
    "    def DefinitionPorteGagnante(self):\n",
    "        self.NumeroPorteGagnante = rand.randint(3)\n",
    "\n",
    "    def RenvoyerNumeroPorteGagnante(self):\n",
    "        return self.NumeroPorteGagnante\n",
    "\n",
    "    def DemarrerPartie(self):\n",
    "        #print (\"Le joueur a choisi la porte n° {}\".format(self.Joueur.RenvoyerPorteChoisie()))\n",
    "        part = portes(self.RenvoyerNumeroPorteGagnante())\n",
    "        if(self.Joueur.RenvoyerDecisionChangerChoix()):\n",
    "            part.ChoisirUnePortePerdanteFermee(self.Joueur.RenvoyerPorteChoisie(),self.Presentateur.RenvoyerPorteChoisie())\n",
    "            part.ChoisirUneNouvellePorte(self.Joueur.RenvoyerPorteChoisie())\n",
    "            self.PartieGagnante = int(part.EstChoixPorteJoueurGagnant())\n",
    "        else:\n",
    "            if(self.RenvoyerNumeroPorteGagnante()==self.Joueur.RenvoyerPorteChoisie()):\n",
    "                self.PartieGagnante = 1\n",
    "            else : self.PartieGagnante = 0\n",
    "\n",
    "    def RenvoyerResultatPartie(self):\n",
    "        #print(\"La partie a pour résultat: {}\".format(self.PartieGagnante))\n",
    "        return self.PartieGagnante\n"
   ]
  },
  {
   "cell_type": "markdown",
   "metadata": {},
   "source": [
    "### Classe simulation"
   ]
  },
  {
   "cell_type": "code",
   "execution_count": 6,
   "metadata": {},
   "outputs": [],
   "source": [
    "from MontyHall_Joueur import joueur\n",
    "from MontyHall_Presentateur import presentateur\n",
    "from MontyHall_Portes import portes\n",
    "from MontyHall_Partie import partie\n",
    "\n",
    "from numpy import random as rand\n",
    "import matplotlib.pyplot as plt \n",
    "import numpy as np\n",
    "\n",
    "class simulation:\n",
    "\n",
    "    def __init__(self,NombreSimulation):\n",
    "        self.nombreSimulations = NombreSimulation\n",
    "        self.grilleSimulationSansChgtChoix = np.empty(NombreSimulation)\n",
    "        self.grilleSimulationAvecChgtChoix = np.empty(NombreSimulation)\n",
    "        self.grilleSimulation = np.empty(NombreSimulation)\n",
    "\n",
    "    def simuler(self,nombreSimulation,TypeStrategie):\n",
    "        part = partie(joueur(TypeStrategie),presentateur())\n",
    "        part.DemarrerPartie()\n",
    "        if(TypeStrategie):\n",
    "            self.grilleSimulationAvecChgtChoix[nombreSimulation] = part.RenvoyerResultatPartie()\n",
    "        else:\n",
    "            self.grilleSimulationSansChgtChoix[nombreSimulation] = part.RenvoyerResultatPartie()\n",
    "\n",
    "    def simulation(self,nombreSimulation,TypeStrategie):\n",
    "        if nombreSimulation == 0:\n",
    "            self.simuler(nombreSimulation-1,TypeStrategie)\n",
    "        else:\n",
    "            self.simuler(nombreSimulation-1,TypeStrategie)\n",
    "            self.simulation(nombreSimulation-1,TypeStrategie)\n",
    "\n",
    "    def demarrerSimulation(self):\n",
    "        print(\"---------------------------------------------------------------------------\")\n",
    "        print(\"Simulation avec changement du choix initial :\")\n",
    "        self.simulation(self.nombreSimulations,True)\n",
    "        print(\"Nombre de parties gagnées : {}\".format(np.sum(self.grilleSimulationAvecChgtChoix[:])))\n",
    "        print(\"Probabilté de gain : {}\".format(np.sum(self.grilleSimulationAvecChgtChoix[:])/self.nombreSimulations))\n",
    "        print(\"---------------------------------------------------------------------------\")\n",
    "        print(\"Simulation sans changement du choix initial :\")\n",
    "        self.simulation(self.nombreSimulations,False)\n",
    "        print(\"Nombre de parties gagnées : {}\".format(np.sum(self.grilleSimulationSansChgtChoix[:])))\n",
    "        print(\"Probabilté de gain : {}\".format(np.sum(self.grilleSimulationSansChgtChoix[:])/self.nombreSimulations))\n",
    "        print(\"---------------------------------------------------------------------------\")\n",
    "\n",
    "        self.AfficherResultatsGraphiques()\n",
    "\n",
    "    def AfficherResultatsGraphiques(self):\n",
    "        histogramme = plt.bar(\n",
    "                        [0,1],\n",
    "                        [np.sum(self.grilleSimulationSansChgtChoix[:])/self.nombreSimulations,\n",
    "                         np.sum(self.grilleSimulationAvecChgtChoix[:])/self.nombreSimulations],\n",
    "                        tick_label=[\"Sans Changement\",\"Avec Changement\"])\n",
    "\n"
   ]
  },
  {
   "cell_type": "markdown",
   "metadata": {},
   "source": [
    "## Programme principal"
   ]
  },
  {
   "cell_type": "code",
   "execution_count": 7,
   "metadata": {},
   "outputs": [
    {
     "name": "stdout",
     "output_type": "stream",
     "text": [
      "---------------------------------------------------------------------------\n",
      "Simulation avec changement du choix initial :\n",
      "Nombre de parties gagnées : 334.0\n",
      "Probabilté de gain : 0.668\n",
      "---------------------------------------------------------------------------\n",
      "Simulation sans changement du choix initial :\n",
      "Nombre de parties gagnées : 170.0\n",
      "Probabilté de gain : 0.34\n",
      "---------------------------------------------------------------------------\n"
     ]
    },
    {
     "data": {
      "image/png": "[encoded data removed]",
      "text/plain": [
       "<matplotlib.figure.Figure at 0x1e9b0c3c518>"
      ]
     },
     "metadata": {},
     "output_type": "display_data"
    }
   ],
   "source": [
    "# Effectuer 500 simulations du Monty Hall :\n",
    "sim = simulation(500)\n",
    "sim.demarrerSimulation()"
   ]
  },
  {
   "cell_type": "markdown",
   "metadata": {},
   "source": [
    "### On retrouve donc bien les 2/3 de probabilités pour un jeu avec changement du choix initial contre 1/3 pour l'autre option où le joueur conserve sa décision de départ..."
   ]
  }
 ],
 "metadata": {
  "kernelspec": {
   "display_name": "Python 3",
   "language": "python",
   "name": "python3"
  },
  "language_info": {
   "codemirror_mode": {
    "name": "ipython",
    "version": 3
   },
   "file_extension": ".py",
   "mimetype": "text/x-python",
   "name": "python",
   "nbconvert_exporter": "python",
   "pygments_lexer": "ipython3",
   "version": "3.6.4"
  }
 },
 "nbformat": 4,
 "nbformat_minor": 2
}
