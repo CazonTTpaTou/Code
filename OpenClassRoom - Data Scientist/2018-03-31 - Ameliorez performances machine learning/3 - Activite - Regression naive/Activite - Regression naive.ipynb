{
 "cells": [
  {
   "cell_type": "markdown",
   "metadata": {},
   "source": [
    "# Sélectionnez le nombre de voisins dans un kNN pour une régression"
   ]
  },
  {
   "cell_type": "markdown",
   "metadata": {},
   "source": [
    "## Choisir les meilleurs hyper-paramètres pour la régression kNN"
   ]
  },
  {
   "cell_type": "markdown",
   "metadata": {},
   "source": [
    "### Code de la classe permettant de réaliser une validation croisée (grid search) pour le choix du meilleur paramètre"
   ]
  },
  {
   "cell_type": "code",
   "execution_count": 1,
   "metadata": {},
   "outputs": [],
   "source": [
    "# -*- coding: utf-8 -*-\n",
    "\n",
    "import pandas as pd\n",
    "import numpy as np\n",
    "import matplotlib.pyplot as plt\n",
    "\n",
    "from sklearn import model_selection\n",
    "from sklearn import preprocessing\n",
    "from sklearn import neighbors\n",
    "from sklearn import metrics\n",
    "\n",
    "class ValidationCroiseeRegression:\n",
    "    \n",
    "    def __init__(self,cheminFichier,nombreFold,hyperParametre):  \n",
    "        \"\"\"Initialisation de l'objet validation croisée de classification K-neighbors\"\"\"              \n",
    "        self.ensembleFold = []\n",
    "        self.nombreFolds = nombreFold\n",
    "        self.hyperParametres = []\n",
    "        self.modele = neighbors.KNeighborsRegressor()\n",
    "        \n",
    "        self.data = pd.read_csv(cheminFichier, sep=\";\") \n",
    "        self.Decoupage_Fold(self.returnData(),nombreFold)  \n",
    "        self.initialisationParametres(hyperParametre)\n",
    "\n",
    "    def initialisationParametres(self,hyperParametre):\n",
    "        \"\"\"Initialisation des hyperparamètres possibles au format de l'objet de classification\"\"\"\n",
    "        for parametre in hyperParametre:\n",
    "            for parametreValeur in hyperParametre[parametre]:\n",
    "                valeur = parametre + \"=\" + str(parametreValeur)\n",
    "                self.hyperParametres.append(valeur) \n",
    "        \n",
    "        self.resultat = pd.DataFrame(np.zeros(len(self.hyperParametres)),\n",
    "                                     index=self.hyperParametres,\n",
    "                                     columns=['RMSE'])\n",
    "        \n",
    "    def returnData(self):\n",
    "        \"\"\"Retourne les données brutes passées en paramètre à la création de la classe\"\"\"\n",
    "        return self.data\n",
    "\n",
    "    def returnFeatures(self,donnees):\n",
    "        \"\"\"Renvoie les varaibles explicatives d'un dataset passé en paramètre\"\"\"\n",
    "        raw_data = donnees[:,:-1]\n",
    "        data_scale = preprocessing.StandardScaler().fit(raw_data)\n",
    "        return data_scale.transform(raw_data)\n",
    "             \n",
    "    def returnClassification(self,donnees):\n",
    "        \"\"\"Renvoie la variable expliquée d'un dataset passé en paramètre\"\"\"\n",
    "        data = donnees[:,-1] \n",
    "        y = np.asarray(data.reshape(-1,1))\n",
    "        return y.squeeze()\n",
    "    \n",
    "    def returnEnsembleFold(self):\n",
    "        \"\"\"Retourne l'ensemble des jeux de données partagés en K-fold\"\"\"\n",
    "        return self.ensembleFold\n",
    "\n",
    "    def returnSetTraining(self):\n",
    "        \"\"\"Renvoie les K-fold dévolus à l'apprentissage des données\"\"\"\n",
    "        return self.SetTraining\n",
    "    \n",
    "    def returnSetTest(self):\n",
    "        \"\"\"Renvoie les K-fold dévolus au test des données\"\"\"\n",
    "        return self.SetTest\n",
    "    \n",
    "    def returnClassificationTraining(self):\n",
    "        \"\"\"Renvoie les variables expliquées des K-fold dévolus à l'apprentissage des données\"\"\"\n",
    "        return self.returnClassification(self.returnSetTraining())\n",
    "    \n",
    "    def returnClassificationTest(self):\n",
    "        \"\"\"Renvoie les variables expliquées des K-fold dévolus au test des données\"\"\"\n",
    "        return self.returnClassification(self.returnSetTest())\n",
    " \n",
    "    def returnFeaturesTraining(self):\n",
    "        \"\"\"Renvoie les variables explicatives des K-fold dévolus à l'apprentissage des données\"\"\"\n",
    "        return self.returnFeatures(self.returnSetTraining())\n",
    "    \n",
    "    def returnFeaturesTest(self):\n",
    "        \"\"\"Renvoie les variables explicatives des K-fold dévolus au test des données\"\"\"\n",
    "        return self.returnFeatures(self.returnSetTest())\n",
    "    \n",
    "    def Decoupage_Fold(self,Dataset,nombre_Folds):\n",
    "        \"\"\" Découpe le jeu de données complet en un nombre pré-défini de K-folds non stratifiés\"\"\"\n",
    "        nombreIndividus = Dataset.shape[0]\n",
    "        Taille_Fold = int(nombreIndividus / nombre_Folds) + 1\n",
    "        debutFold = 0\n",
    "        finFold = 0\n",
    "        \n",
    "        for numeroFold in range(0,nombre_Folds) :\n",
    "            debutFold = numeroFold * Taille_Fold\n",
    "            finFold = min((numeroFold+1) * Taille_Fold,nombreIndividus)\n",
    "            self.ensembleFold.append(Dataset.iloc[debutFold:finFold,:])\n",
    "\n",
    "    def CombinaisonFold(self,numeroFoldTest):\n",
    "        \"\"\" Renvoie la combinatoire des numéros de K-fold dévolus au test et à l'apprentissage\"\"\"\n",
    "        combinaisonFold = []\n",
    "        for indice in range(0,self.nombreFolds):\n",
    "            if indice!=numeroFoldTest:\n",
    "                combinaisonFold.append(indice)\n",
    "        return combinaisonFold\n",
    "    \n",
    "    def Separation_Test_Training(self,numeroFoldTest):\n",
    "        \"\"\" Sépare le jeu de données en folds d'apprentissage et folds de test\"\"\"\n",
    "        combinaisonFold = self.CombinaisonFold(numeroFoldTest)\n",
    "        self.SetTraining = np.matrix(self.returnEnsembleFold()[combinaisonFold[-1]])\n",
    "        combinaisonFold.pop()\n",
    "        \n",
    "        for numero_fold in combinaisonFold:\n",
    "            self.SetTraining = np.vstack([self.SetTraining,self.ensembleFold[numero_fold]])\n",
    "        \n",
    "        self.SetTest = np.matrix(self.ensembleFold[numeroFoldTest])\n",
    "\n",
    "    def decomposition_Parametres(self,parametres):     \n",
    "        \"\"\" Transforme le libellé des hyperparamètres en dictionnaire de paramètres\"\"\"\n",
    "        params = {}\n",
    "        param= parametres[:parametres.find('=')]\n",
    "        params[param]=int(parametres[-1])\n",
    "        return params\n",
    "\n",
    "    def entrainement_Modele(self,hyperParametres):\n",
    "        \"\"\"Entraine le modèle sur toutes les combinaisons de K-folds selon des hyperparamètres fixés\"\"\"\n",
    "        self.erreur = []\n",
    "        classification = neighbors.KNeighborsRegressor()\n",
    "        classification.set_params(**self.decomposition_Parametres(hyperParametres))\n",
    "        \n",
    "        for numeroFoldTest in range(0,self.nombreFolds):            \n",
    "            self.Separation_Test_Training(numeroFoldTest)            \n",
    "            classification.fit(self.returnFeaturesTraining(),\n",
    "                               self.returnClassificationTraining())\n",
    "            \n",
    "            self.calcul_Erreur_Modele(\n",
    "                                        classification.predict(\n",
    "                                                                self.returnFeaturesTest()))         \n",
    "            \n",
    "        self.modele = classification\n",
    "                                \n",
    "        return (np.array(self.erreur)).mean()\n",
    "                        \n",
    "    def calcul_Erreur_Modele(self,prediction):\n",
    "        \"\"\"Calcul le Root Mean Squared Error en comparant prédiction du modèle et données de test\"\"\"\n",
    "        classification_test = self.returnClassificationTest()\n",
    "        \n",
    "        RMSE = np.sqrt(\n",
    "               metrics.mean_squared_error(classification_test,prediction))\n",
    "        \n",
    "        self.erreur.append(RMSE)\n",
    "        \n",
    "        return (np.array(self.erreur)).mean()\n",
    "\n",
    "    def evaluation_HyperParametres(self):\n",
    "        \"\"\"Performe l'ensemble des évaluations du modèle pour chaque combinaison d'hyperparamètres\"\"\"\n",
    "        for hyper_parametres in self.hyperParametres:\n",
    "            self.resultat.loc[hyper_parametres] = self.entrainement_Modele(hyper_parametres)\n",
    "        \n",
    "        self.resultat['R-carré'] = 1 - self.resultat['RMSE']\n",
    "        self.resultat['Coefficient-Pearson'] = np.sqrt(1 - self.resultat['RMSE'])\n",
    "        print(self.resultat)\n",
    "        \n",
    "        return self.renvoyer_Meilleur_Modele()\n",
    "\n",
    "    def renvoyer_Meilleur_Parametre(self):\n",
    "        \"\"\"Renvoie les hyperparamètres permettant d'obtenir le meilleur score de classification\"\"\"\n",
    "        return self.resultat.idxmin()[0]\n",
    "        \n",
    "    def renvoyer_Meilleur_Score(self):\n",
    "        \"\"\"Renvoie le meilleur score obtenu après exécution de toutes les combinaisons d'hyperparamètres\"\"\"\n",
    "        meilleurRMSE = self.resultat.loc[self.renvoyer_Meilleur_Parametre()][0]\n",
    "        meilleurRcarre = self.resultat.loc[self.renvoyer_Meilleur_Parametre()][1]\n",
    "        meilleurCoefPearson = self.resultat.loc[self.renvoyer_Meilleur_Parametre()][2]\n",
    "\n",
    "        return round(meilleurRMSE,4), round(meilleurRcarre,4), round(meilleurCoefPearson,4)                   \n",
    "        \n",
    "    def renvoyer_Meilleur_Modele(self):\n",
    "        \"\"\"Renvoie l'objet du modèle de classification entraîné ayant le meilleur score\"\"\"\n",
    "        self.entrainement_Modele(self.resultat.idxmin()[0])\n",
    "        return self.modele\n",
    "    \n",
    "    def renvoyer_Resultats(self):\n",
    "        \"\"\"Renvoie l'ensemble des résultats pour toutes les simulations avec les hyperparamètres\"\"\"\n",
    "        return self.resultat"
   ]
  },
  {
   "cell_type": "markdown",
   "metadata": {},
   "source": [
    "### Détermination du meilleur hyper-paramètre du nombre de voisins"
   ]
  },
  {
   "cell_type": "code",
   "execution_count": 2,
   "metadata": {},
   "outputs": [
    {
     "name": "stdout",
     "output_type": "stream",
     "text": [
      "--------------------------------------------------------------------------------\n",
      "------- Validation croisée avec notre propre bibliothèque ----------------------\n",
      "--------------------------------------------------------------------------------\n",
      "                    RMSE   R-carré  Coefficient-Pearson\n",
      "n_neighbors=3   0.756276  0.243724             0.493684\n",
      "n_neighbors=5   0.736574  0.263426             0.513250\n",
      "n_neighbors=7   0.716445  0.283555             0.532499\n",
      "n_neighbors=9   0.705611  0.294389             0.542576\n",
      "n_neighbors=11  0.896459  0.103541             0.321777\n",
      "n_neighbors=13  0.756276  0.243724             0.493684\n",
      "n_neighbors=15  0.736574  0.263426             0.513250\n",
      "n_neighbors=18  0.709055  0.290945             0.539393\n",
      "n_neighbors=21  0.896459  0.103541             0.321777\n",
      "--------------------------------------------------------------------------------\n",
      "Les hyper-paramètres donnant le meilleur score sont les suivants : n_neighbors=9\n",
      "--------------------------------------------------------------------------------\n",
      "Le meilleur RMSE obtenu après validation croisée des K-folds et hyperparamètres est le suivant : 0.7056\n",
      "--------------------------------------------------------------------------------\n",
      "Le meilleur coefficient de détermination obtenu avec cet hyperparamètre est le suivant : 0.2944\n",
      "--------------------------------------------------------------------------------\n",
      "Le meilleur coefficient de corrélation de Pearson obtenu avec cet hyperparamètre est le suivant : 0.5426\n",
      "--------------------------------------------------------------------------------\n"
     ]
    }
   ],
   "source": [
    "# -*- coding: utf-8 -*-\n",
    "import pandas as pd\n",
    "import numpy as np\n",
    "import matplotlib.pyplot as plt\n",
    "import pylab as pl\n",
    "import collections\n",
    "\n",
    "from sklearn import model_selection\n",
    "from sklearn import preprocessing\n",
    "from sklearn import neighbors\n",
    "from sklearn import metrics\n",
    "from sklearn import dummy\n",
    "\n",
    "# Importation de notre classe personnelle de classification par validation croisée\n",
    "# from Validation_Croisee_Regression import ValidationCroiseeRegression\n",
    "\n",
    "# Configuration des paramètres\n",
    "filePath = 'E:\\Data\\RawData\\ClassificationVin\\winequality-red.csv'\n",
    "nombre_Folds = 5\n",
    "hyperparametres = {'n_neighbors':[3, 5, 7, 9, 11, 13, 15, 18, 21]}\n",
    "\n",
    "# Classification avec notre propre bibliothèque de validation croisée de classification\n",
    "print('--------------------------------------------------------------------------------')\n",
    "print('------- Validation croisée avec notre propre bibliothèque ----------------------')\n",
    "print('--------------------------------------------------------------------------------')\n",
    "validation_Custom = ValidationCroiseeRegression(filePath,5,hyperparametres)\n",
    "Classifieur_Custom = validation_Custom.evaluation_HyperParametres()\n",
    "print('--------------------------------------------------------------------------------')\n",
    "print('Les hyper-paramètres donnant le meilleur score sont les suivants : {}'.format(validation_Custom.renvoyer_Meilleur_Parametre()))\n",
    "print('--------------------------------------------------------------------------------')\n",
    "print('Le meilleur RMSE obtenu après validation croisée des K-folds et hyperparamètres est le suivant : {}'.format(validation_Custom.renvoyer_Meilleur_Score()[0]))\n",
    "print('--------------------------------------------------------------------------------')\n",
    "print('Le meilleur coefficient de détermination obtenu avec cet hyperparamètre est le suivant : {}'.format(validation_Custom.renvoyer_Meilleur_Score()[1]))\n",
    "print('--------------------------------------------------------------------------------')\n",
    "print('Le meilleur coefficient de corrélation de Pearson obtenu avec cet hyperparamètre est le suivant : {}'.format(validation_Custom.renvoyer_Meilleur_Score()[2]))\n",
    "print('--------------------------------------------------------------------------------')\n"
   ]
  },
  {
   "cell_type": "markdown",
   "metadata": {},
   "source": [
    "### On constate donc que l'hyper-paramètre donnant les meilleures performances de RMSE est n_neighbors=9"
   ]
  },
  {
   "cell_type": "markdown",
   "metadata": {},
   "source": [
    "## Observation des comportements du RMSE et du R-carré"
   ]
  },
  {
   "cell_type": "code",
   "execution_count": 3,
   "metadata": {},
   "outputs": [
    {
     "data": {
      "image/png": "[encoded data removed]",
      "text/plain": [
       "<Figure size 432x288 with 1 Axes>"
      ]
     },
     "metadata": {},
     "output_type": "display_data"
    }
   ],
   "source": [
    "# On récupère les résultats pour chacun des hyperparamètres testés\n",
    "resultats = validation_Custom.renvoyer_Resultats()\n",
    "\n",
    "abscisse = np.array([3, 5, 7, 9, 11, 13, 15,18,21])\n",
    "\n",
    "ordonnee_RMSE = np.array(resultats['RMSE'])\n",
    "ordonnee_Coeff_R2 = np.array(resultats['R-carré'])\n",
    "ordonnee_Coeff_Pearson = np.array(resultats['Coefficient-Pearson'])\n",
    "\n",
    "# On trace une courbe pour chacun des indictateurs observés\n",
    "plt.plot(abscisse,ordonnee_RMSE,linestyle='--',color='blue',label=\"RMSE\")\n",
    "plt.plot(abscisse,ordonnee_Coeff_R2,\"b:o\",color='red',label=\"R-carré\")\n",
    "plt.plot(abscisse,ordonnee_Coeff_Pearson,\"-\",color='green',label=\"Coef Pearson\")\n",
    "\n",
    "plt.plot([9, 9], [0, 1],\"-.\",color='black')\n",
    "\n",
    "# On intègre les légendes et les titres des axes\n",
    "plt.title('Comportement RMSE - R-carré - coefficient de Pearson selon hyperparamètres')\n",
    "axes = plt.gca()\n",
    "axes = axes.set(xlabel='Nombre des n voisins considérés pour la régression KNN', \n",
    "                ylabel='Valeur obtenue après évaluation du modèle')\n",
    "\n",
    "plt.legend(loc='upper left')\n",
    "pl.xticks(range(0,22))\n",
    "\n",
    "plt.show()"
   ]
  },
  {
   "cell_type": "markdown",
   "metadata": {},
   "source": [
    "### On constate que pour un nombre de voisin égal à 9, on obtient un coefficient de corrélation de Pearson égal à 0.54, qui est le maximum obtenu pour tous les hyper-paramètres testés... Ce qui corespond néanmoins à une corélation plutôt moyenne..."
   ]
  },
  {
   "cell_type": "markdown",
   "metadata": {},
   "source": [
    "## Comparaison des prédictions avec une baseline naïve"
   ]
  },
  {
   "cell_type": "code",
   "execution_count": 4,
   "metadata": {},
   "outputs": [],
   "source": [
    "# Import du dataset de notation du vin rouge\n",
    "data = pd.read_csv('E:\\Data\\RawData\\ClassificationVin\\winequality-white.csv', sep=\";\")\n",
    "\n",
    "X = data.as_matrix(data.columns[:-1])\n",
    "y = data.as_matrix([data.columns[-1]])\n",
    "y = y.flatten()\n",
    "\n",
    "X_train, X_test, y_train, y_test = model_selection.train_test_split(\n",
    "                                                                    X, \n",
    "                                                                    y,\n",
    "                                                                    test_size=0.3)\n",
    "\n",
    "std_scale = preprocessing.StandardScaler().fit(X_train)\n",
    "X_train_std = std_scale.transform(X_train)\n",
    "X_test_std = std_scale.transform(X_test)"
   ]
  },
  {
   "cell_type": "markdown",
   "metadata": {},
   "source": [
    "### Choix de la baseline naïve présentant les prédictions les plus proches de la régression kNN :"
   ]
  },
  {
   "cell_type": "code",
   "execution_count": 5,
   "metadata": {},
   "outputs": [
    {
     "name": "stdout",
     "output_type": "stream",
     "text": [
      "--------------------------------------------------------------------------------\n",
      "Valeur du Root Mean Squared Error pour simulation aléatoire : 1.9464\n",
      "Valeur du Root Mean Squared Error pour simulation dummy moyenne : 0.9109\n",
      "Valeur du Root Mean Squared Error pour simulation dummy médiane : 0.9181\n",
      "Valeur du Root Mean Squared Error pour simulation dummy quantile 25% : 1.27\n",
      "Valeur du Root Mean Squared Error pour simulation dummy quantile 75% : 0.9181\n",
      "Valeur du Root Mean Squared Error pour simulation dummy fréquence modale : 0.9181\n",
      "--------------------------------------------------------------------------------\n"
     ]
    }
   ],
   "source": [
    "# Simulation d'une régression naïve totalement aléatoire\n",
    "y_pred_random = np.random.randint(np.min(y),np.max(y),y_test.shape[0])\n",
    "RMSE_random = np.sqrt(\n",
    "               metrics.mean_squared_error(y_test,y_pred_random))\n",
    "\n",
    "# Simulation d'une régression naïve avec la bibliothèque Sklearn DummyRegressor - stratégie moyenne\n",
    "dumMean = dummy.DummyRegressor(strategy='mean')\n",
    "dumMean.fit(X_train,y_train)\n",
    "prediction = dumMean.predict(X_test)\n",
    "\n",
    "RMSE_dumMean = np.sqrt(\n",
    "               metrics.mean_squared_error(y_test,prediction))\n",
    "\n",
    "# Simulation d'une régression naïve avec la bibliothèque Sklearn DummyRegressor - stratégie médiane\n",
    "dumMedian = dummy.DummyRegressor(strategy='median')\n",
    "dumMedian.fit(X_train,y_train)\n",
    "prediction = dumMedian.predict(X_test)\n",
    "\n",
    "RMSE_dumMedian = np.sqrt(\n",
    "               metrics.mean_squared_error(y_test,prediction))\n",
    "\n",
    "# Simulation d'une régression naïve avec la bibliothèque Sklearn DummyRegressor - stratégie quantile 25%\n",
    "dumQuant25 = dummy.DummyRegressor(strategy='quantile',quantile=0.25)\n",
    "dumQuant25.fit(X_train,y_train)\n",
    "prediction = dumQuant25.predict(X_test)\n",
    "\n",
    "RMSE_dumQuant25 = np.sqrt(\n",
    "               metrics.mean_squared_error(y_test,prediction))\n",
    "\n",
    "# Simulation d'une régression naïve avec la bibliothèque Sklearn DummyRegressor - stratégie quantile 75%\n",
    "dumQuant75 = dummy.DummyRegressor(strategy='quantile',quantile=0.75)\n",
    "dumQuant75.fit(X_train,y_train)\n",
    "prediction = dumQuant75.predict(X_test)\n",
    "\n",
    "RMSE_dumQuant75 = np.sqrt(\n",
    "               metrics.mean_squared_error(y_test,prediction))\n",
    "\n",
    "# Simulation d'une régression naïve avec la bibliothèque Sklearn DummyRegressor - stratégie valeur la plus fréquente\n",
    "data = collections.Counter(y_test)\n",
    "mode_y_test = data.most_common(1)\n",
    "valeur_frequente = mode_y_test[0][0]\n",
    "\n",
    "dumMode = dummy.DummyRegressor(strategy='constant',constant=valeur_frequente)\n",
    "dumMode.fit(X_train,y_train)\n",
    "prediction = dumMode.predict(X_test)\n",
    "\n",
    "RMSE_dumMode = np.sqrt(\n",
    "               metrics.mean_squared_error(y_test,prediction))\n",
    "\n",
    "print('--------------------------------------------------------------------------------')\n",
    "print('Valeur du Root Mean Squared Error pour simulation aléatoire : {}'.format(round(RMSE_random,4)))\n",
    "print('Valeur du Root Mean Squared Error pour simulation dummy moyenne : {}'.format(round(RMSE_dumMean,4)))\n",
    "print('Valeur du Root Mean Squared Error pour simulation dummy médiane : {}'.format(round(RMSE_dumMedian,4)))\n",
    "print('Valeur du Root Mean Squared Error pour simulation dummy quantile 25% : {}'.format(round(RMSE_dumQuant25,4)))\n",
    "print('Valeur du Root Mean Squared Error pour simulation dummy quantile 75% : {}'.format(round(RMSE_dumQuant75,4)))\n",
    "print('Valeur du Root Mean Squared Error pour simulation dummy fréquence modale : {}'.format(round(RMSE_dumMode,4)))\n",
    "print('--------------------------------------------------------------------------------')\n"
   ]
  },
  {
   "cell_type": "markdown",
   "metadata": {},
   "source": [
    "### On constate que l'indicateur du RMSE présente la meilleure performance avec la simulation de la bibliothèque dummy en mode moyenne (le simulateur renvoie une régression toujours égale à la moyenne du dataset d'apprentissage)."
   ]
  },
  {
   "cell_type": "markdown",
   "metadata": {},
   "source": [
    "### Ce que confirme le graphique suivant :"
   ]
  },
  {
   "cell_type": "code",
   "execution_count": 6,
   "metadata": {},
   "outputs": [
    {
     "data": {
      "image/png": "[encoded data removed]",
      "text/plain": [
       "<Figure size 432x288 with 1 Axes>"
      ]
     },
     "metadata": {},
     "output_type": "display_data"
    }
   ],
   "source": [
    "# On trace un graphique pour comparer résultats de RMSE et classifieurs naïfs\n",
    "# On trace une courbe pour chacun des indictateurs observés\n",
    "listeCouleurs = ['red',\n",
    "                 'green',\n",
    "                 'purple',\n",
    "                 'yellow',\n",
    "                 'pink',\n",
    "                 'cyan',\n",
    "                 'tomato',\n",
    "                 'grey',\n",
    "                 'goldenrod',\n",
    "                 'darkkhaki']\n",
    "\n",
    "plt.plot(abscisse,ordonnee_RMSE,\"b:o\",color=listeCouleurs[0],label=\"RMSE KNN\")\n",
    "\n",
    "plt.plot([0, 21], [RMSE_random, RMSE_random],\"-.\",color=listeCouleurs[1],label=\"Modèle aléatoire\")\n",
    "plt.plot([0, 21], [RMSE_dumMean, RMSE_dumMean],\"-.\",color=listeCouleurs[2],label=\"Dummy moyenne\")\n",
    "plt.plot([0, 21], [RMSE_dumMedian, RMSE_dumMedian],\"-.\",color=listeCouleurs[3],label=\"Dummy médiane\")\n",
    "plt.plot([0, 21], [RMSE_dumQuant25, RMSE_dumQuant25],\"-.\",color=listeCouleurs[5],label=\"Dummy quantile 25%\")\n",
    "plt.plot([0, 21], [RMSE_dumQuant75, RMSE_dumQuant75],\"-.\",color=listeCouleurs[6],label=\"Dummy quantile 75%\")\n",
    "plt.plot([0, 21], [RMSE_dumMode, RMSE_dumMode],\"-.\",color=listeCouleurs[7],label=\"Dummy fréquence modale\")\n",
    "\n",
    "plt.plot([9, 9], [0, 2],\"--\",color='black')\n",
    "\n",
    "# On intègre les légendes et les titres des axes\n",
    "plt.title('Comparaison RMSE KNN et RMSE de modélisations naïves')\n",
    "axes = plt.gca()\n",
    "axes = axes.set(xlabel='Nombre des n voisins considérés pour la régression KNN', \n",
    "                ylabel='Valeur obtenue après évaluation du modèle')\n",
    "\n",
    "plt.legend(loc='upper right')\n",
    "pl.xticks(range(0,22))\n",
    "\n",
    "plt.show()"
   ]
  },
  {
   "cell_type": "markdown",
   "metadata": {},
   "source": [
    "### On constate néanmoins que la médiane est relativement proche de la moyenne, ce qui dénote une dispersion plutôt resserrée sur le jeu de données... Quoiqu'il en soit notre régression Knn offre de meilleures performances en terme de RMSE que les simumations naïves, ce qui signifie que cette régression Knn apporte une plus-value en terme d'apprentissage sur les données, ce qui permet de délivrer des prédictions plus intelligentes."
   ]
  },
  {
   "cell_type": "markdown",
   "metadata": {},
   "source": [
    "### Nous choisissons donc la simulation naïve de la moyenne pour le restant de la comparaison en raison de ses meilleures performances... "
   ]
  },
  {
   "cell_type": "markdown",
   "metadata": {},
   "source": [
    "### Nous allons donc désormais superposer les prédictions de la régression Knn et celles de la prédiction naïve, afin de comparer leurs comportements... "
   ]
  },
  {
   "cell_type": "code",
   "execution_count": 7,
   "metadata": {},
   "outputs": [
    {
     "data": {
      "image/png": "[encoded data removed]",
      "text/plain": [
       "<Figure size 432x288 with 1 Axes>"
      ]
     },
     "metadata": {},
     "output_type": "display_data"
    }
   ],
   "source": [
    "# On représente les points avec une régression KNN avec n_neighbor=9\n",
    "# et la prédiction avec une régression naïve de type moyenne (celle-ci a la meilleure performance)\n",
    "Classifieur_Custom.fit(X_train_std,y_train)\n",
    "y_pred = Classifieur_Custom.predict(X_test_std)\n",
    "\n",
    "dumMean = dummy.DummyRegressor(strategy='mean')\n",
    "dumMean.fit(X_train,y_train)\n",
    "prediction = dumMean.predict(X_test)\n",
    "\n",
    "# Prédiction Knn\n",
    "sizes = {} \n",
    "\n",
    "for (yt, yp) in zip(list(y_test), list(y_pred)):\n",
    "    if (yt, yp) not in sizes:\n",
    "        sizes[(yt, yp)] = 1\n",
    "    else:\n",
    "         sizes[(yt, yp)] += 1\n",
    "\n",
    "keys = sizes.keys()\n",
    "\n",
    "plt.scatter([k[0] for k in keys], \n",
    "            [k[1] for k in keys], \n",
    "            s=[sizes[k] for k in keys], \n",
    "            color='blue')\n",
    "\n",
    "# Prédiction naïve\n",
    "sizes2 = {} \n",
    "\n",
    "for (yt, yp) in zip(list(y_test), list(prediction)):\n",
    "    if (yt, yp) not in sizes2:\n",
    "        sizes2[(yt, yp)] = 1\n",
    "    else:\n",
    "         sizes2[(yt, yp)] += 1\n",
    "\n",
    "keys2 = sizes2.keys()\n",
    "\n",
    "plt.scatter([k[0] for k in keys2], \n",
    "            [k[1] for k in keys2], \n",
    "            s=[sizes2[k] for k in keys2], \n",
    "            color='green')\n",
    "\n",
    "# On insère la bissectrice de la régression parfaite\n",
    "plt.plot([3,9],[3,9],linestyle='--',color='red')\n",
    "\n",
    "# On intègre les légendes et les titres des axes\n",
    "plt.title('Juxtaposition des régressions KNN et de la régression naïve par moyenne')\n",
    "axes = plt.gca()\n",
    "axes = axes.set(xlabel='Classification réelle du vin rouge noté par les juges', \n",
    "                ylabel='Valeur obtenue avec modèles régression')\n",
    "\n",
    "# Affichage du graphique\n",
    "plt.show()"
   ]
  },
  {
   "cell_type": "markdown",
   "metadata": {},
   "source": [
    "### On constate donc qu'à l'exception de la classe 6, pour laquelle les prédictions de la régression Knn sont centrées autour de la moyenne, pour les autres classes, la régression Knn offrent des prédictions qui se rapprochent plus des classes réelles (classes 5 et 7 par exemple) que la baseline naïve. La régression apporte donc de l'information et permet d'améliorer la prédiction qui découlerait d'une moyenne constante. "
   ]
  },
  {
   "cell_type": "markdown",
   "metadata": {},
   "source": [
    "### Il s'avère toutefois que la régression Knn semble avoir des difficultés à offrir des prédictions cohérentes sur lesclasses excentrées (classes n° 3, 4 et 9). La régresion semble donc moins efficace sur les outliers, peut être en raison d'un apprentissage underfitté (modèle pas assez complexe)... "
   ]
  }
 ],
 "metadata": {
  "kernelspec": {
   "display_name": "Python 3",
   "language": "python",
   "name": "python3"
  },
  "language_info": {
   "codemirror_mode": {
    "name": "ipython",
    "version": 3
   },
   "file_extension": ".py",
   "mimetype": "text/x-python",
   "name": "python",
   "nbconvert_exporter": "python",
   "pygments_lexer": "ipython3",
   "version": "3.6.4"
  }
 },
 "nbformat": 4,
 "nbformat_minor": 2
}
