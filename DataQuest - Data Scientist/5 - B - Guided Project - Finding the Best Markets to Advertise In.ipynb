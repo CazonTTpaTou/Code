{
 "cells": [
  {
   "cell_type": "markdown",
   "metadata": {},
   "source": [
    "## Guided Project: Finding the Best Markets to Advertise In"
   ]
  },
  {
   "cell_type": "code",
   "execution_count": 2,
   "metadata": {
    "collapsed": false
   },
   "outputs": [
    {
     "name": "stdout",
     "output_type": "stream",
     "text": [
      "Age\n",
      "AttendedBootcamp\n",
      "BootcampFinish\n",
      "BootcampLoanYesNo\n",
      "BootcampName\n",
      "BootcampRecommend\n",
      "ChildrenNumber\n",
      "CityPopulation\n",
      "CodeEventConferences\n",
      "CodeEventDjangoGirls\n",
      "CodeEventFCC\n",
      "CodeEventGameJam\n",
      "CodeEventGirlDev\n",
      "CodeEventHackathons\n",
      "CodeEventMeetup\n",
      "CodeEventNodeSchool\n",
      "CodeEventNone\n",
      "CodeEventOther\n",
      "CodeEventRailsBridge\n",
      "CodeEventRailsGirls\n",
      "CodeEventStartUpWknd\n",
      "CodeEventWkdBootcamps\n",
      "CodeEventWomenCode\n",
      "CodeEventWorkshops\n",
      "CommuteTime\n",
      "CountryCitizen\n",
      "CountryLive\n",
      "EmploymentField\n",
      "EmploymentFieldOther\n",
      "EmploymentStatus\n",
      "EmploymentStatusOther\n",
      "ExpectedEarning\n",
      "FinanciallySupporting\n",
      "FirstDevJob\n",
      "Gender\n",
      "GenderOther\n",
      "HasChildren\n",
      "HasDebt\n",
      "HasFinancialDependents\n",
      "HasHighSpdInternet\n",
      "HasHomeMortgage\n",
      "HasServedInMilitary\n",
      "HasStudentDebt\n",
      "HomeMortgageOwe\n",
      "HoursLearning\n",
      "ID.x\n",
      "ID.y\n",
      "Income\n",
      "IsEthnicMinority\n",
      "IsReceiveDisabilitiesBenefits\n",
      "IsSoftwareDev\n",
      "IsUnderEmployed\n",
      "JobApplyWhen\n",
      "JobInterestBackEnd\n",
      "JobInterestDataEngr\n",
      "JobInterestDataSci\n",
      "JobInterestDevOps\n",
      "JobInterestFrontEnd\n",
      "JobInterestFullStack\n",
      "JobInterestGameDev\n",
      "JobInterestInfoSec\n",
      "JobInterestMobile\n",
      "JobInterestOther\n",
      "JobInterestProjMngr\n",
      "JobInterestQAEngr\n",
      "JobInterestUX\n",
      "JobPref\n",
      "JobRelocateYesNo\n",
      "JobRoleInterest\n",
      "JobWherePref\n",
      "LanguageAtHome\n",
      "MaritalStatus\n",
      "MoneyForLearning\n",
      "MonthsProgramming\n",
      "NetworkID\n",
      "Part1EndTime\n",
      "Part1StartTime\n",
      "Part2EndTime\n",
      "Part2StartTime\n",
      "PodcastChangeLog\n",
      "PodcastCodeNewbie\n",
      "PodcastCodePen\n",
      "PodcastDevTea\n",
      "PodcastDotNET\n",
      "PodcastGiantRobots\n",
      "PodcastJSAir\n",
      "PodcastJSJabber\n",
      "PodcastNone\n",
      "PodcastOther\n",
      "PodcastProgThrowdown\n",
      "PodcastRubyRogues\n",
      "PodcastSEDaily\n",
      "PodcastSERadio\n",
      "PodcastShopTalk\n",
      "PodcastTalkPython\n",
      "PodcastTheWebAhead\n",
      "ResourceCodecademy\n",
      "ResourceCodeWars\n",
      "ResourceCoursera\n",
      "ResourceCSS\n",
      "ResourceEdX\n",
      "ResourceEgghead\n",
      "ResourceFCC\n",
      "ResourceHackerRank\n",
      "ResourceKA\n",
      "ResourceLynda\n",
      "ResourceMDN\n",
      "ResourceOdinProj\n",
      "ResourceOther\n",
      "ResourcePluralSight\n",
      "ResourceSkillcrush\n",
      "ResourceSO\n",
      "ResourceTreehouse\n",
      "ResourceUdacity\n",
      "ResourceUdemy\n",
      "ResourceW3S\n",
      "SchoolDegree\n",
      "SchoolMajor\n",
      "StudentDebtOwe\n",
      "YouTubeCodeCourse\n",
      "YouTubeCodingTrain\n",
      "YouTubeCodingTut360\n",
      "YouTubeComputerphile\n",
      "YouTubeDerekBanas\n",
      "YouTubeDevTips\n",
      "YouTubeEngineeredTruth\n",
      "YouTubeFCC\n",
      "YouTubeFunFunFunction\n",
      "YouTubeGoogleDev\n",
      "YouTubeLearnCode\n",
      "YouTubeLevelUpTuts\n",
      "YouTubeMIT\n",
      "YouTubeMozillaHacks\n",
      "YouTubeOther\n",
      "YouTubeSimplilearn\n",
      "YouTubeTheNewBoston\n",
      "    Age  AttendedBootcamp  BootcampFinish  BootcampLoanYesNo BootcampName  \\\n",
      "0  27.0               0.0             NaN                NaN          NaN   \n",
      "1  34.0               0.0             NaN                NaN          NaN   \n",
      "2  21.0               0.0             NaN                NaN          NaN   \n",
      "\n",
      "   BootcampRecommend  ChildrenNumber       CityPopulation  \\\n",
      "0                NaN             NaN  more than 1 million   \n",
      "1                NaN             NaN    less than 100,000   \n",
      "2                NaN             NaN  more than 1 million   \n",
      "\n",
      "   CodeEventConferences  CodeEventDjangoGirls         ...           \\\n",
      "0                   NaN                   NaN         ...            \n",
      "1                   NaN                   NaN         ...            \n",
      "2                   NaN                   NaN         ...            \n",
      "\n",
      "   YouTubeFCC  YouTubeFunFunFunction  YouTubeGoogleDev  YouTubeLearnCode  \\\n",
      "0         NaN                    NaN               NaN               NaN   \n",
      "1         1.0                    NaN               NaN               NaN   \n",
      "2         NaN                    NaN               NaN               1.0   \n",
      "\n",
      "   YouTubeLevelUpTuts  YouTubeMIT  YouTubeMozillaHacks  YouTubeOther  \\\n",
      "0                 NaN         NaN                  NaN           NaN   \n",
      "1                 NaN         NaN                  NaN           NaN   \n",
      "2                 1.0         NaN                  NaN           NaN   \n",
      "\n",
      "   YouTubeSimplilearn  YouTubeTheNewBoston  \n",
      "0                 NaN                  NaN  \n",
      "1                 NaN                  NaN  \n",
      "2                 NaN                  NaN  \n",
      "\n",
      "[3 rows x 136 columns]\n"
     ]
    }
   ],
   "source": [
    "import pandas as pd\n",
    "\n",
    "data = pd.read_csv('2017-fCC-New-Coders-Survey-Data.csv')\n",
    "\n",
    "for col in data.columns:\n",
    "    print(col)\n",
    "\n",
    "print(data.head(3))"
   ]
  },
  {
   "cell_type": "code",
   "execution_count": 4,
   "metadata": {
    "collapsed": false
   },
   "outputs": [
    {
     "data": {
      "text/plain": [
       "Full-Stack Web Developer                                                                                                                         0.120158\n",
       "  Front-End Web Developer                                                                                                                        0.044269\n",
       "  Data Scientist                                                                                                                                 0.023715\n",
       "  Mobile Developer                                                                                                                               0.016601\n",
       "Back-End Web Developer                                                                                                                           0.015810\n",
       "Full-Stack Web Developer,   Front-End Web Developer                                                                                              0.012648\n",
       "  Front-End Web Developer, Full-Stack Web Developer                                                                                              0.011067\n",
       "  Product Manager                                                                                                                                0.011067\n",
       "Data Engineer                                                                                                                                    0.010277\n",
       "Information Security                                                                                                                             0.009486\n",
       "  Front-End Web Developer, Back-End Web Developer, Full-Stack Web Developer                                                                      0.009486\n",
       "Back-End Web Developer, Full-Stack Web Developer                                                                                                 0.009486\n",
       "  User Experience Designer,   Front-End Web Developer                                                                                            0.007905\n",
       "  User Experience Designer                                                                                                                       0.007905\n",
       "Back-End Web Developer, Full-Stack Web Developer,   Front-End Web Developer                                                                      0.007905\n",
       "Game Developer                                                                                                                                   0.007115\n",
       "Full-Stack Web Developer, Back-End Web Developer                                                                                                 0.006324\n",
       "Back-End Web Developer,   Front-End Web Developer, Full-Stack Web Developer                                                                      0.006324\n",
       "  Front-End Web Developer, Full-Stack Web Developer, Back-End Web Developer                                                                      0.004743\n",
       "  Front-End Web Developer,   User Experience Designer                                                                                            0.004743\n",
       "  Front-End Web Developer, Full-Stack Web Developer,   Mobile Developer                                                                          0.003953\n",
       "Data Engineer,   Data Scientist                                                                                                                  0.003953\n",
       "Full-Stack Web Developer,   Mobile Developer                                                                                                     0.003953\n",
       "Back-End Web Developer,   Front-End Web Developer                                                                                                0.003953\n",
       "  Data Scientist, Full-Stack Web Developer                                                                                                       0.003953\n",
       "  DevOps / SysAdmin                                                                                                                              0.003953\n",
       "  User Experience Designer, Full-Stack Web Developer,   Front-End Web Developer                                                                  0.003162\n",
       "  Mobile Developer, Game Developer                                                                                                               0.003162\n",
       "Full-Stack Web Developer,   Mobile Developer,   Front-End Web Developer                                                                          0.003162\n",
       "Full-Stack Web Developer, Information Security                                                                                                   0.003162\n",
       "                                                                                                                                                   ...   \n",
       "  Mobile Developer, Back-End Web Developer,   Front-End Web Developer                                                                            0.000791\n",
       "  DevOps / SysAdmin, Full-Stack Web Developer, Information Security, Back-End Web Developer                                                      0.000791\n",
       "Information Security,   Data Scientist,   Product Manager                                                                                        0.000791\n",
       "  Mobile Developer,   User Experience Designer, Back-End Web Developer                                                                           0.000791\n",
       "Back-End Web Developer,   Quality Assurance Engineer,   Front-End Web Developer, Information Security, Full-Stack Web Developer                  0.000791\n",
       "  Data Scientist, Data Engineer, Back-End Web Developer                                                                                          0.000791\n",
       "  User Experience Designer,   Mobile Developer, Full-Stack Web Developer, Information Security                                                   0.000791\n",
       "Back-End Web Developer, Information Security, Data Engineer,   DevOps / SysAdmin                                                                 0.000791\n",
       "  User Experience Designer, Full-Stack Web Developer,   Mobile Developer, Data Engineer, Back-End Web Developer                                  0.000791\n",
       "  Quality Assurance Engineer, Information Security, Game Developer, Full-Stack Web Developer                                                     0.000791\n",
       "  Quality Assurance Engineer,   Front-End Web Developer,   User Experience Designer, Full-Stack Web Developer, Back-End Web Developer            0.000791\n",
       "  User Experience Designer,   Product Manager,   Front-End Web Developer, Back-End Web Developer, Full-Stack Web Developer                       0.000791\n",
       "Full-Stack Web Developer, Game Developer,   Front-End Web Developer,   Mobile Developer                                                          0.000791\n",
       "Data Engineer,   DevOps / SysAdmin, Back-End Web Developer                                                                                       0.000791\n",
       "  Front-End Web Developer, Full-Stack Web Developer, Game Developer                                                                              0.000791\n",
       "Game Developer, Data Engineer,   Data Scientist,   Mobile Developer,   Front-End Web Developer,   DevOps / SysAdmin,   Product Manager           0.000791\n",
       "  User Experience Designer, Full-Stack Web Developer, Game Developer,   Front-End Web Developer,   Mobile Developer                              0.000791\n",
       "  Front-End Web Developer, Game Developer, Information Security, Full-Stack Web Developer, Back-End Web Developer                                0.000791\n",
       "  Front-End Web Developer,   DevOps / SysAdmin, Full-Stack Web Developer, Information Security                                                   0.000791\n",
       "  Front-End Web Developer,   User Experience Designer, Back-End Web Developer                                                                    0.000791\n",
       "  Mobile Developer, Back-End Web Developer, Data Engineer,   Data Scientist,   User Experience Designer,   Front-End Web Developer               0.000791\n",
       "Information Security, Back-End Web Developer,   Mobile Developer                                                                                 0.000791\n",
       "  Mobile Developer,   User Experience Designer, Full-Stack Web Developer,   Data Scientist,   Front-End Web Developer, Back-End Web Developer    0.000791\n",
       "Back-End Web Developer, Information Security,   DevOps / SysAdmin, Data Engineer,   Data Scientist,   Quality Assurance Engineer                 0.000791\n",
       "  Front-End Web Developer,   Mobile Developer, Full-Stack Web Developer, Information Security, Back-End Web Developer                            0.000791\n",
       "  User Experience Designer, Back-End Web Developer, Full-Stack Web Developer,   Mobile Developer,   Front-End Web Developer                      0.000791\n",
       "  User Experience Designer,   Data Scientist,   Quality Assurance Engineer, Back-End Web Developer,   DevOps / SysAdmin                          0.000791\n",
       "Data Engineer,   User Experience Designer, Full-Stack Web Developer, Game Developer,   Front-End Web Developer, Back-End Web Developer           0.000791\n",
       "  Mobile Developer,   Front-End Web Developer,   Data Scientist,   User Experience Designer, Full-Stack Web Developer                            0.000791\n",
       "Information Security, Full-Stack Web Developer                                                                                                   0.000791\n",
       "Name: JobRoleInterest, Length: 732, dtype: float64"
      ]
     },
     "execution_count": 4,
     "metadata": {},
     "output_type": "execute_result"
    }
   ],
   "source": [
    "distrib = data['JobRoleInterest'].value_counts(normalize=True)\n",
    "distrib"
   ]
  },
  {
   "cell_type": "markdown",
   "metadata": {},
   "source": [
    "## Development interest"
   ]
  },
  {
   "cell_type": "code",
   "execution_count": 13,
   "metadata": {
    "collapsed": false
   },
   "outputs": [
    {
     "data": {
      "text/plain": [
       "1     0.272727\n",
       "3     0.180237\n",
       "4     0.165217\n",
       "2     0.125692\n",
       "5     0.123320\n",
       "6     0.067194\n",
       "7     0.033202\n",
       "8     0.011858\n",
       "9     0.011067\n",
       "10    0.004743\n",
       "11    0.002372\n",
       "12    0.002372\n",
       "Name: JobRoleInterest, dtype: float64"
      ]
     },
     "execution_count": 13,
     "metadata": {},
     "output_type": "execute_result"
    }
   ],
   "source": [
    "languages = data['JobRoleInterest'].dropna()\n",
    "list_langage = languages.str.split(',')\n",
    "\n",
    "list_langage_number = list_langage.apply(lambda x:len(x))\n",
    "list_langage_number\n",
    "\n",
    "list_langage_number.value_counts(normalize=True).sort_values(ascending=False)"
   ]
  },
  {
   "cell_type": "code",
   "execution_count": 19,
   "metadata": {
    "collapsed": false
   },
   "outputs": [
    {
     "data": {
      "text/plain": [
       "1     0.272727\n",
       "2     0.125692\n",
       "3     0.180237\n",
       "4     0.165217\n",
       "5     0.123320\n",
       "6     0.067194\n",
       "7     0.033202\n",
       "8     0.011858\n",
       "9     0.011067\n",
       "10    0.004743\n",
       "11    0.002372\n",
       "12    0.002372\n",
       "Name: JobRoleInterest, dtype: float64"
      ]
     },
     "execution_count": 19,
     "metadata": {},
     "output_type": "execute_result"
    }
   ],
   "source": [
    "number_langages = list_langage_number.value_counts(normalize=True).sort_index(ascending=True)\n",
    "number_langages"
   ]
  },
  {
   "cell_type": "code",
   "execution_count": 32,
   "metadata": {
    "collapsed": false
   },
   "outputs": [
    {
     "data": {
      "text/plain": [
       "{'01 langage(s)': 0.2727272727272727,\n",
       " '02 langage(s)': 0.3984189723320158,\n",
       " '03 langage(s)': 0.5786561264822134,\n",
       " '04 langage(s)': 0.7438735177865612,\n",
       " '05 langage(s)': 0.8671936758893279,\n",
       " '06 langage(s)': 0.9343873517786561,\n",
       " '07 langage(s)': 0.9675889328063241,\n",
       " '08 langage(s)': 0.9794466403162055,\n",
       " '09 langage(s)': 0.9905138339920949,\n",
       " '10 langage(s)': 0.9952569169960475,\n",
       " '11 langage(s)': 0.9976284584980237,\n",
       " '12 langage(s)': 1.0}"
      ]
     },
     "execution_count": 32,
     "metadata": {},
     "output_type": "execute_result"
    }
   ],
   "source": [
    "diagramme={}\n",
    "cumul=0\n",
    "for value in number_langages.items():\n",
    "    if value[0]<=9:\n",
    "        chiffre=str(0) + str(value[0]) + ' ' + 'langage(s)'\n",
    "    else:\n",
    "        chiffre=str(value[0]) + ' ' + 'langage(s)'\n",
    "   \n",
    "    cumul+=value[1]\n",
    "    diagramme[chiffre]=cumul\n",
    "\n",
    "diagramme"
   ]
  },
  {
   "cell_type": "markdown",
   "metadata": {},
   "source": [
    "## Interest Visualisation"
   ]
  },
  {
   "cell_type": "code",
   "execution_count": 35,
   "metadata": {
    "collapsed": false
   },
   "outputs": [
    {
     "data": {
      "text/plain": [
       "01 langage(s)    0.272727\n",
       "02 langage(s)    0.398419\n",
       "03 langage(s)    0.578656\n",
       "04 langage(s)    0.743874\n",
       "05 langage(s)    0.867194\n",
       "06 langage(s)    0.934387\n",
       "07 langage(s)    0.967589\n",
       "08 langage(s)    0.979447\n",
       "09 langage(s)    0.990514\n",
       "10 langage(s)    0.995257\n",
       "11 langage(s)    0.997628\n",
       "12 langage(s)    1.000000\n",
       "dtype: float64"
      ]
     },
     "execution_count": 35,
     "metadata": {},
     "output_type": "execute_result"
    }
   ],
   "source": [
    "df = pd.Series(diagramme)\n",
    "df"
   ]
  },
  {
   "cell_type": "raw",
   "metadata": {},
   "source": []
  },
  {
   "cell_type": "code",
   "execution_count": 38,
   "metadata": {
    "collapsed": false
   },
   "outputs": [
    {
     "data": {
      "image/png": "[encoded data removed]",
      "text/plain": [
       "<matplotlib.figure.Figure at 0x7f53f5754160>"
      ]
     },
     "metadata": {},
     "output_type": "display_data"
    }
   ],
   "source": [
    "import matplotlib.pyplot as plt\n",
    "%matplotlib inline\n",
    "\n",
    "df.plot.barh()\n",
    "plt.axvline(x=0.80,color='red',label='Pareto')\n",
    "plt.legend()\n",
    "plt.show()"
   ]
  },
  {
   "cell_type": "markdown",
   "metadata": {},
   "source": [
    "## Localisation markets"
   ]
  },
  {
   "cell_type": "code",
   "execution_count": 43,
   "metadata": {
    "collapsed": false
   },
   "outputs": [
    {
     "data": {
      "text/plain": [
       "United States of America         0.500000\n",
       "India                            0.084677\n",
       "United Kingdom                   0.051613\n",
       "Canada                           0.039516\n",
       "Germany                          0.020968\n",
       "Poland                           0.019355\n",
       "Brazil                           0.018548\n",
       "Australia                        0.015323\n",
       "Romania                          0.011290\n",
       "Russia                           0.010484\n",
       "Italy                            0.009677\n",
       "France                           0.008871\n",
       "Spain                            0.008871\n",
       "Netherlands (Holland, Europe)    0.008065\n",
       "Serbia                           0.007258\n",
       "Mexico                           0.007258\n",
       "Belgium                          0.007258\n",
       "New Zealand                      0.006452\n",
       "Turkey                           0.006452\n",
       "Sweden                           0.006452\n",
       "Bosnia & Herzegovina             0.005645\n",
       "Argentina                        0.005645\n",
       "Singapore                        0.005645\n",
       "Philippines                      0.005645\n",
       "Greece                           0.004839\n",
       "Ukraine                          0.004839\n",
       "Ireland                          0.004839\n",
       "Portugal                         0.004839\n",
       "Nigeria                          0.004839\n",
       "Hungary                          0.004032\n",
       "                                   ...   \n",
       "Puerto Rico                      0.001613\n",
       "Taiwan                           0.001613\n",
       "Georgia                          0.001613\n",
       "Thailand                         0.001613\n",
       "Peru                             0.001613\n",
       "Belarus                          0.001613\n",
       "Sri Lanka                        0.001613\n",
       "Kyrgyzstan                       0.000806\n",
       "Czech Republic                   0.000806\n",
       "Albania                          0.000806\n",
       "Botswana                         0.000806\n",
       "Chile                            0.000806\n",
       "Senegal                          0.000806\n",
       "Ecuador                          0.000806\n",
       "Bahrain                          0.000806\n",
       "Slovenia                         0.000806\n",
       "Algeria                          0.000806\n",
       "Iceland                          0.000806\n",
       "Guam                             0.000806\n",
       "Tunisia                          0.000806\n",
       "Slovakia                         0.000806\n",
       "Haiti                            0.000806\n",
       "Turkmenistan                     0.000806\n",
       "Iraq                             0.000806\n",
       "Virgin Islands (USA)             0.000806\n",
       "Panama                           0.000806\n",
       "Jamaica                          0.000806\n",
       "Morocco                          0.000806\n",
       "Cyprus                           0.000806\n",
       "Honduras                         0.000806\n",
       "Name: CountryLive, Length: 89, dtype: float64"
      ]
     },
     "execution_count": 43,
     "metadata": {},
     "output_type": "execute_result"
    }
   ],
   "source": [
    "data =data.dropna(subset=['JobRoleInterest'])\n",
    "country = data['CountryLive'].value_counts(normalize=True).sort_values(ascending=False)\n",
    "country"
   ]
  },
  {
   "cell_type": "code",
   "execution_count": 44,
   "metadata": {
    "collapsed": false
   },
   "outputs": [
    {
     "data": {
      "text/plain": [
       "United States of America    0.500000\n",
       "India                       0.084677\n",
       "Name: CountryLive, dtype: float64"
      ]
     },
     "execution_count": 44,
     "metadata": {},
     "output_type": "execute_result"
    }
   ],
   "source": [
    "country[:2]"
   ]
  },
  {
   "cell_type": "markdown",
   "metadata": {},
   "source": [
    "## Mobile Interests"
   ]
  },
  {
   "cell_type": "code",
   "execution_count": 45,
   "metadata": {
    "collapsed": false
   },
   "outputs": [
    {
     "name": "stdout",
     "output_type": "stream",
     "text": [
      "True     87.98419\n",
      "False    12.01581\n",
      "Name: JobRoleInterest, dtype: float64\n"
     ]
    },
    {
     "data": {
      "image/png": "[encoded data removed]",
      "text/plain": [
       "<matplotlib.figure.Figure at 0x7f53f56b8e48>"
      ]
     },
     "metadata": {},
     "output_type": "display_data"
    }
   ],
   "source": [
    "interests_no_nulls = data['JobRoleInterest'].dropna()\n",
    "web_or_mobile = interests_no_nulls.str.contains(\n",
    "    'Web Developer|Mobile Developer') # returns an array of booleans\n",
    "freq_table = web_or_mobile.value_counts(normalize = True) * 100\n",
    "print(freq_table)\n",
    "\n",
    "\n",
    "%matplotlib inline\n",
    "import matplotlib.pyplot as plt\n",
    "plt.style.use('fivethirtyeight')\n",
    "\n",
    "freq_table.plot.bar()\n",
    "plt.title('Most Participants are Interested in \\nWeb or Mobile Development',\n",
    "          y = 1.08) # y pads the title upward\n",
    "plt.ylabel('Percentage', fontsize = 12)\n",
    "plt.xticks([0,1],['Web or mobile\\ndevelopment', 'Other subject'],\n",
    "           rotation = 0) # the initial xtick labels were True and False\n",
    "plt.ylim([0,100])\n",
    "plt.show()"
   ]
  },
  {
   "cell_type": "markdown",
   "metadata": {},
   "source": [
    "## Money for learning"
   ]
  },
  {
   "cell_type": "code",
   "execution_count": 63,
   "metadata": {
    "collapsed": true
   },
   "outputs": [],
   "source": [
    "data['Money_per_month']=data['MoneyForLearning']/(data['MonthsProgramming'].replace(0,1))"
   ]
  },
  {
   "cell_type": "code",
   "execution_count": 64,
   "metadata": {
    "collapsed": false
   },
   "outputs": [
    {
     "data": {
      "text/plain": [
       "False    1143\n",
       "True      122\n",
       "Name: Money_per_month, dtype: int64"
      ]
     },
     "execution_count": 64,
     "metadata": {},
     "output_type": "execute_result"
    }
   ],
   "source": [
    "data['Money_per_month'].isna().value_counts()"
   ]
  },
  {
   "cell_type": "code",
   "execution_count": 65,
   "metadata": {
    "collapsed": false
   },
   "outputs": [],
   "source": [
    "new_data = data.dropna(subset=['CountryLive','Money_per_month'])\n",
    "\n",
    "condition1=  new_data['CountryLive']== 'United States of America'\n",
    "condition2=  new_data['CountryLive']== 'United Kingdom'\n",
    "condition3=  new_data['CountryLive']== 'India'\n",
    "condition4=  new_data['CountryLive']== 'Canada'\n",
    "\n",
    "condition = condition1 | condition2 | condition3 | condition4\n"
   ]
  },
  {
   "cell_type": "code",
   "execution_count": 66,
   "metadata": {
    "collapsed": true
   },
   "outputs": [],
   "source": [
    "new_data = new_data[condition]"
   ]
  },
  {
   "cell_type": "code",
   "execution_count": 68,
   "metadata": {
    "collapsed": false
   },
   "outputs": [
    {
     "data": {
      "text/plain": [
       "CountryLive\n",
       "United States of America    262.466988\n",
       "India                       119.467205\n",
       "Canada                       35.808258\n",
       "United Kingdom               18.921319\n",
       "Name: Money_per_month, dtype: float64"
      ]
     },
     "execution_count": 68,
     "metadata": {},
     "output_type": "execute_result"
    }
   ],
   "source": [
    "new_data.groupby(['CountryLive'])['Money_per_month'].mean().sort_values(ascending=False)"
   ]
  },
  {
   "cell_type": "code",
   "execution_count": 69,
   "metadata": {
    "collapsed": false
   },
   "outputs": [
    {
     "data": {
      "text/plain": [
       "CountryLive\n",
       "United States of America    6.666667\n",
       "United Kingdom              0.000000\n",
       "India                       0.000000\n",
       "Canada                      0.000000\n",
       "Name: Money_per_month, dtype: float64"
      ]
     },
     "execution_count": 69,
     "metadata": {},
     "output_type": "execute_result"
    }
   ],
   "source": [
    "new_data.groupby(['CountryLive'])['Money_per_month'].median().sort_values(ascending=False)"
   ]
  },
  {
   "cell_type": "code",
   "execution_count": 72,
   "metadata": {
    "collapsed": false
   },
   "outputs": [
    {
     "data": {
      "text/plain": [
       "CountryLive\n",
       "United States of America    50000.000000\n",
       "India                        5000.000000\n",
       "Canada                        583.333333\n",
       "United Kingdom                285.714286\n",
       "Name: Money_per_month, dtype: float64"
      ]
     },
     "execution_count": 72,
     "metadata": {},
     "output_type": "execute_result"
    }
   ],
   "source": [
    "new_data.groupby(['CountryLive'])['Money_per_month'].max().sort_values(ascending=False)"
   ]
  },
  {
   "cell_type": "markdown",
   "metadata": {},
   "source": [
    "## Dealing with extreme Outliers"
   ]
  },
  {
   "cell_type": "code",
   "execution_count": 87,
   "metadata": {
    "collapsed": false
   },
   "outputs": [
    {
     "data": {
      "text/plain": [
       "CountryLive\n",
       "United States of America     13.333333\n",
       "United States of America    200.000000\n",
       "United Kingdom                0.000000\n",
       "United States of America      0.000000\n",
       "United States of America     16.666667\n",
       "dtype: float64"
      ]
     },
     "execution_count": 87,
     "metadata": {},
     "output_type": "execute_result"
    }
   ],
   "source": [
    "box_plot = pd.Series(new_data['Money_per_month'].values\n",
    "                     ,index=new_data['CountryLive'])\n",
    "\n",
    "box_plot.head()\n"
   ]
  },
  {
   "cell_type": "code",
   "execution_count": 93,
   "metadata": {
    "collapsed": false
   },
   "outputs": [
    {
     "data": {
      "image/png": "[encoded data removed]",
      "text/plain": [
       "<matplotlib.figure.Figure at 0x7f53f4cbbd68>"
      ]
     },
     "metadata": {},
     "output_type": "display_data"
    }
   ],
   "source": [
    "#box_plot.isna().sum()\n",
    "#box_plot.plot(kind='box',use_index=True)\n",
    "#new_data[['CountryLive','Money_per_month']].plot(kind='box')\n",
    "box_plot.plot.box()\n",
    "plt.show()"
   ]
  },
  {
   "cell_type": "code",
   "execution_count": 94,
   "metadata": {
    "collapsed": false
   },
   "outputs": [
    {
     "data": {
      "text/plain": [
       "<matplotlib.axes._subplots.AxesSubplot at 0x7f53f4c3d9b0>"
      ]
     },
     "execution_count": 94,
     "metadata": {},
     "output_type": "execute_result"
    },
    {
     "data": {
      "image/png": "[encoded data removed]",
      "text/plain": [
       "<matplotlib.figure.Figure at 0x7f53f4c45ac8>"
      ]
     },
     "metadata": {},
     "output_type": "display_data"
    }
   ],
   "source": [
    "new_data[['CountryLive','Money_per_month']].boxplot(by='CountryLive')"
   ]
  },
  {
   "cell_type": "code",
   "execution_count": 95,
   "metadata": {
    "collapsed": false
   },
   "outputs": [
    {
     "data": {
      "text/plain": [
       "CountryLive\n",
       "United States of America    50000.000000\n",
       "India                        5000.000000\n",
       "Canada                        583.333333\n",
       "United Kingdom                285.714286\n",
       "Name: Money_per_month, dtype: float64"
      ]
     },
     "execution_count": 95,
     "metadata": {},
     "output_type": "execute_result"
    }
   ],
   "source": [
    "new_data.groupby(['CountryLive'])['Money_per_month'].max().sort_values(ascending=False)"
   ]
  },
  {
   "cell_type": "code",
   "execution_count": 96,
   "metadata": {
    "collapsed": true
   },
   "outputs": [],
   "source": [
    "condition = new_data['Money_per_month']< 5000\n",
    "new_data_cap = new_data[condition]\n",
    "\n"
   ]
  },
  {
   "cell_type": "code",
   "execution_count": 97,
   "metadata": {
    "collapsed": false
   },
   "outputs": [
    {
     "data": {
      "text/plain": [
       "<matplotlib.axes._subplots.AxesSubplot at 0x7f53f4ad1390>"
      ]
     },
     "execution_count": 97,
     "metadata": {},
     "output_type": "execute_result"
    },
    {
     "data": {
      "image/png": "[encoded data removed]",
      "text/plain": [
       "<matplotlib.figure.Figure at 0x7f53f4cb6f98>"
      ]
     },
     "metadata": {},
     "output_type": "display_data"
    }
   ],
   "source": [
    "new_data_cap[['CountryLive','Money_per_month']].boxplot(by='CountryLive')"
   ]
  },
  {
   "cell_type": "code",
   "execution_count": 99,
   "metadata": {
    "collapsed": false
   },
   "outputs": [
    {
     "data": {
      "text/plain": [
       "<matplotlib.axes._subplots.AxesSubplot at 0x7f53f4bf14e0>"
      ]
     },
     "execution_count": 99,
     "metadata": {},
     "output_type": "execute_result"
    },
    {
     "data": {
      "image/png": "[encoded data removed]",
      "text/plain": [
       "<matplotlib.figure.Figure at 0x7f53f4a41b38>"
      ]
     },
     "metadata": {},
     "output_type": "display_data"
    }
   ],
   "source": [
    "condition = new_data['Money_per_month']< 500\n",
    "new_data_cap = new_data[condition]\n",
    "new_data_cap[['CountryLive','Money_per_month']].boxplot(by='CountryLive')\n"
   ]
  },
  {
   "cell_type": "code",
   "execution_count": 102,
   "metadata": {
    "collapsed": false
   },
   "outputs": [
    {
     "data": {
      "text/plain": [
       "CountryLive\n",
       "United States of America    482.758621\n",
       "Canada                      325.000000\n",
       "United Kingdom              285.714286\n",
       "India                       250.000000\n",
       "Name: Money_per_month, dtype: float64"
      ]
     },
     "execution_count": 102,
     "metadata": {},
     "output_type": "execute_result"
    }
   ],
   "source": [
    "new_data_cap.groupby(['CountryLive'])['Money_per_month'].max().sort_values(ascending=False)"
   ]
  },
  {
   "cell_type": "code",
   "execution_count": 103,
   "metadata": {
    "collapsed": false
   },
   "outputs": [
    {
     "name": "stderr",
     "output_type": "stream",
     "text": [
      "/dataquest/system/env/python3/lib/python3.4/site-packages/seaborn/categorical.py:454: FutureWarning: remove_na is deprecated and is a private function. Do not use.\n",
      "  box_data = remove_na(group_data)\n"
     ]
    },
    {
     "data": {
      "text/plain": [
       "<matplotlib.axes._subplots.AxesSubplot at 0x7f53ec907128>"
      ]
     },
     "execution_count": 103,
     "metadata": {},
     "output_type": "execute_result"
    },
    {
     "data": {
      "image/png": "[encoded data removed]",
      "text/plain": [
       "<matplotlib.figure.Figure at 0x7f53f4def2b0>"
      ]
     },
     "metadata": {},
     "output_type": "display_data"
    }
   ],
   "source": [
    "import seaborn as sns\n",
    "\n",
    "sns.boxplot(x='CountryLive',\n",
    "            y='Money_per_month',\n",
    "           data=new_data_cap)\n"
   ]
  },
  {
   "cell_type": "markdown",
   "metadata": {},
   "source": [
    "## Z-Score for choosing second market"
   ]
  },
  {
   "cell_type": "code",
   "execution_count": 109,
   "metadata": {
    "collapsed": false
   },
   "outputs": [
    {
     "name": "stderr",
     "output_type": "stream",
     "text": [
      "/dataquest/system/env/python3/lib/python3.4/site-packages/ipykernel/__main__.py:7: SettingWithCopyWarning: \n",
      "A value is trying to be set on a copy of a slice from a DataFrame.\n",
      "Try using .loc[row_indexer,col_indexer] = value instead\n",
      "\n",
      "See the caveats in the documentation: http://pandas.pydata.org/pandas-docs/stable/indexing.html#indexing-view-versus-copy\n"
     ]
    }
   ],
   "source": [
    "def z_score(value,mean,std):\n",
    "    return (value-mean)/std\n",
    "\n",
    "mean = new_data_cap['Money_per_month'].mean()\n",
    "std = new_data_cap['Money_per_month'].std(ddof=1)\n",
    "\n",
    "new_data_cap['z_score']=new_data_cap['Money_per_month'].apply(lambda x:(x-mean)/std)"
   ]
  },
  {
   "cell_type": "code",
   "execution_count": 111,
   "metadata": {
    "collapsed": false
   },
   "outputs": [
    {
     "data": {
      "text/plain": [
       "CountryLive\n",
       "United States of America    0.077173\n",
       "Canada                     -0.122463\n",
       "United Kingdom             -0.182548\n",
       "India                      -0.279734\n",
       "Name: z_score, dtype: float64"
      ]
     },
     "execution_count": 111,
     "metadata": {},
     "output_type": "execute_result"
    }
   ],
   "source": [
    "new_data_cap.groupby(['CountryLive'])['z_score'].mean().sort_values(ascending=False)\n"
   ]
  },
  {
   "cell_type": "code",
   "execution_count": 119,
   "metadata": {
    "collapsed": false
   },
   "outputs": [
    {
     "name": "stdout",
     "output_type": "stream",
     "text": [
      "Z-score United States of America : 0.2591618373811662\n",
      "Z-score United Kingdom : 0.8967313005116765\n",
      "Z-score India : 1.1997306396928151\n",
      "Z-score Canada : 0.5412114307936637\n",
      "Z-score nan : nan\n"
     ]
    }
   ],
   "source": [
    "for country in new_data_cap['CountryLive'].unique():\n",
    "    data_country=new_data_cap[new_data_cap['CountryLive']==country]\n",
    "    mean = data_country['Money_per_month'].mean()\n",
    "    std = data_country['Money_per_month'].std(ddof=1)\n",
    "    z_score= (59-mean)/std\n",
    "    print('Z-score {} : {}'.format(country,z_score))\n",
    "    \n",
    "    "
   ]
  },
  {
   "cell_type": "code",
   "execution_count": null,
   "metadata": {
    "collapsed": true
   },
   "outputs": [],
   "source": []
  }
 ],
 "metadata": {
  "kernelspec": {
   "display_name": "Python 3",
   "language": "python",
   "name": "python3"
  },
  "language_info": {
   "codemirror_mode": {
    "name": "ipython",
    "version": 3
   },
   "file_extension": ".py",
   "mimetype": "text/x-python",
   "name": "python",
   "nbconvert_exporter": "python",
   "pygments_lexer": "ipython3",
   "version": "3.4.3"
  }
 },
 "nbformat": 4,
 "nbformat_minor": 2
}
