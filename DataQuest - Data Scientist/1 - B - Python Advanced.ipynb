{
 "cells": [
  {
   "cell_type": "code",
   "execution_count": 2,
   "metadata": {
    "collapsed": false
   },
   "outputs": [
    {
     "name": "stdout",
     "output_type": "stream",
     "text": [
      "[['', 'year', 'month', 'intent', 'police', 'sex', 'age', 'race', 'hispanic', 'place', 'education'], ['1', '2012', '01', 'Suicide', '0', 'M', '34', 'Asian/Pacific Islander', '100', 'Home', '4'], ['2', '2012', '01', 'Suicide', '0', 'F', '21', 'White', '100', 'Street', '3'], ['3', '2012', '01', 'Suicide', '0', 'M', '60', 'White', '100', 'Other specified', '4'], ['4', '2012', '02', 'Suicide', '0', 'M', '64', 'White', '100', 'Home', '4']]\n"
     ]
    }
   ],
   "source": [
    "import csv\n",
    "\n",
    "with open(\"guns.csv\",\"r\") as f:\n",
    "    data = list(csv.reader(f))\n",
    "    \n",
    "print(data[:5])    \n",
    "    "
   ]
  },
  {
   "cell_type": "code",
   "execution_count": 3,
   "metadata": {
    "collapsed": false
   },
   "outputs": [
    {
     "data": {
      "text/plain": [
       "[['1',\n",
       "  '2012',\n",
       "  '01',\n",
       "  'Suicide',\n",
       "  '0',\n",
       "  'M',\n",
       "  '34',\n",
       "  'Asian/Pacific Islander',\n",
       "  '100',\n",
       "  'Home',\n",
       "  '4'],\n",
       " ['2', '2012', '01', 'Suicide', '0', 'F', '21', 'White', '100', 'Street', '3'],\n",
       " ['3',\n",
       "  '2012',\n",
       "  '01',\n",
       "  'Suicide',\n",
       "  '0',\n",
       "  'M',\n",
       "  '60',\n",
       "  'White',\n",
       "  '100',\n",
       "  'Other specified',\n",
       "  '4'],\n",
       " ['4', '2012', '02', 'Suicide', '0', 'M', '64', 'White', '100', 'Home', '4'],\n",
       " ['5',\n",
       "  '2012',\n",
       "  '02',\n",
       "  'Suicide',\n",
       "  '0',\n",
       "  'M',\n",
       "  '31',\n",
       "  'White',\n",
       "  '100',\n",
       "  'Other specified',\n",
       "  '2']]"
      ]
     },
     "execution_count": 3,
     "metadata": {},
     "output_type": "execute_result"
    }
   ],
   "source": [
    "headers = data[0]\n",
    "data = data[1:]\n",
    "\n",
    "data[:5]"
   ]
  },
  {
   "cell_type": "code",
   "execution_count": 6,
   "metadata": {
    "collapsed": false
   },
   "outputs": [
    {
     "name": "stdout",
     "output_type": "stream",
     "text": [
      "{'2014': 33599, '2012': 33563, '2013': 33636}\n"
     ]
    }
   ],
   "source": [
    "years = [row[1] for row in data]\n",
    "\n",
    "year_counts = {}\n",
    "\n",
    "for year in years:\n",
    "    try:\n",
    "        year_counts[year]+=1\n",
    "    except:\n",
    "        year_counts[year]=1\n",
    "        \n",
    "print(year_counts)\n"
   ]
  },
  {
   "cell_type": "code",
   "execution_count": 7,
   "metadata": {
    "collapsed": false
   },
   "outputs": [
    {
     "name": "stdout",
     "output_type": "stream",
     "text": [
      "[datetime.datetime(2012, 1, 1, 0, 0), datetime.datetime(2012, 1, 1, 0, 0), datetime.datetime(2012, 1, 1, 0, 0), datetime.datetime(2012, 2, 1, 0, 0), datetime.datetime(2012, 2, 1, 0, 0)]\n",
      "{datetime.datetime(2013, 8, 1, 0, 0): 2859, datetime.datetime(2013, 11, 1, 0, 0): 2758, datetime.datetime(2012, 10, 1, 0, 0): 2733, datetime.datetime(2014, 2, 1, 0, 0): 2361, datetime.datetime(2013, 12, 1, 0, 0): 2765, datetime.datetime(2012, 12, 1, 0, 0): 2791, datetime.datetime(2013, 10, 1, 0, 0): 2808, datetime.datetime(2012, 6, 1, 0, 0): 2826, datetime.datetime(2014, 9, 1, 0, 0): 2914, datetime.datetime(2012, 11, 1, 0, 0): 2729, datetime.datetime(2014, 8, 1, 0, 0): 2970, datetime.datetime(2014, 11, 1, 0, 0): 2756, datetime.datetime(2013, 7, 1, 0, 0): 3079, datetime.datetime(2014, 4, 1, 0, 0): 2862, datetime.datetime(2012, 2, 1, 0, 0): 2357, datetime.datetime(2012, 9, 1, 0, 0): 2852, datetime.datetime(2013, 4, 1, 0, 0): 2798, datetime.datetime(2013, 9, 1, 0, 0): 2742, datetime.datetime(2014, 1, 1, 0, 0): 2651, datetime.datetime(2012, 3, 1, 0, 0): 2743, datetime.datetime(2014, 10, 1, 0, 0): 2865, datetime.datetime(2012, 4, 1, 0, 0): 2795, datetime.datetime(2013, 6, 1, 0, 0): 2920, datetime.datetime(2014, 6, 1, 0, 0): 2931, datetime.datetime(2014, 3, 1, 0, 0): 2684, datetime.datetime(2012, 1, 1, 0, 0): 2758, datetime.datetime(2013, 1, 1, 0, 0): 2864, datetime.datetime(2013, 3, 1, 0, 0): 2862, datetime.datetime(2012, 5, 1, 0, 0): 2999, datetime.datetime(2012, 8, 1, 0, 0): 2954, datetime.datetime(2013, 2, 1, 0, 0): 2375, datetime.datetime(2014, 7, 1, 0, 0): 2884, datetime.datetime(2014, 12, 1, 0, 0): 2857, datetime.datetime(2012, 7, 1, 0, 0): 3026, datetime.datetime(2013, 5, 1, 0, 0): 2806, datetime.datetime(2014, 5, 1, 0, 0): 2864}\n"
     ]
    }
   ],
   "source": [
    "import datetime \n",
    "\n",
    "dates = [datetime.datetime(year=int(row[1]),month=int(row[2]),day=1) for row in data]\n",
    "\n",
    "print(dates[:5])\n",
    "\n",
    "date_counts = {}\n",
    "\n",
    "for date in dates:\n",
    "    try:\n",
    "        date_counts[date]+=1\n",
    "    except:\n",
    "        date_counts[date]=1\n",
    "        \n",
    "print(date_counts)        \n"
   ]
  },
  {
   "cell_type": "code",
   "execution_count": 8,
   "metadata": {
    "collapsed": false
   },
   "outputs": [
    {
     "data": {
      "text/plain": [
       "['',\n",
       " 'year',\n",
       " 'month',\n",
       " 'intent',\n",
       " 'police',\n",
       " 'sex',\n",
       " 'age',\n",
       " 'race',\n",
       " 'hispanic',\n",
       " 'place',\n",
       " 'education']"
      ]
     },
     "execution_count": 8,
     "metadata": {},
     "output_type": "execute_result"
    }
   ],
   "source": [
    "headers"
   ]
  },
  {
   "cell_type": "code",
   "execution_count": 12,
   "metadata": {
    "collapsed": false
   },
   "outputs": [
    {
     "name": "stdout",
     "output_type": "stream",
     "text": [
      "{'M': 86349, 'F': 14449}\n",
      "------------------------------\n",
      "{'Native American/Native Alaskan': 917, 'Black': 23296, 'Asian/Pacific Islander': 1326, 'Hispanic': 9022, 'White': 66237}\n"
     ]
    }
   ],
   "source": [
    "def counter(number):\n",
    "    count = {}\n",
    "    for row in data:\n",
    "        try:\n",
    "            count[row[number]]+=1\n",
    "        except:\n",
    "            count[row[number]]=1\n",
    "    return count\n",
    "\n",
    "sex_counts = counter(5)\n",
    "race_counts = counter(7)\n",
    "\n",
    "print(sex_counts)\n",
    "print('-'*30)\n",
    "print(race_counts)\n"
   ]
  },
  {
   "cell_type": "code",
   "execution_count": 13,
   "metadata": {
    "collapsed": false
   },
   "outputs": [
    {
     "name": "stdout",
     "output_type": "stream",
     "text": [
      "[['Id', 'Year', 'Id', 'Sex', 'Id', 'Hispanic Origin', 'Id', 'Id2', 'Geography', 'Total', 'Race Alone - White', 'Race Alone - Hispanic', 'Race Alone - Black or African American', 'Race Alone - American Indian and Alaska Native', 'Race Alone - Asian', 'Race Alone - Native Hawaiian and Other Pacific Islander', 'Two or More Races'], ['cen42010', 'April 1, 2010 Census', 'totsex', 'Both Sexes', 'tothisp', 'Total', '0100000US', '', 'United States', '308745538', '197318956', '44618105', '40250635', '3739506', '15159516', '674625', '6984195']]\n"
     ]
    }
   ],
   "source": [
    "with open(\"census.csv\",\"r\") as f:\n",
    "    census = list(csv.reader(f))\n",
    "    \n",
    "print(census)    \n"
   ]
  },
  {
   "cell_type": "code",
   "execution_count": 34,
   "metadata": {
    "collapsed": false
   },
   "outputs": [
    {
     "data": {
      "text/plain": [
       "{'Asian/Pacific Islander': 15834141,\n",
       " 'Black': 40250635,\n",
       " 'Hispanic': 44618105,\n",
       " 'Native American/Native Alaskan': 3739506,\n",
       " 'White': 197318956}"
      ]
     },
     "execution_count": 34,
     "metadata": {},
     "output_type": "execute_result"
    }
   ],
   "source": [
    "population=[3739506,40250635,15159516 + 674625,44618105,197318956]\n",
    "\n",
    "mapping = {}\n",
    "races = []\n",
    "\n",
    "for index,race in enumerate(race_counts):\n",
    "    races.insert(index,race)\n",
    "    \n",
    "for index,race in enumerate(races):\n",
    "    mapping[race] = population[index]\n",
    "    \n",
    "race_per_hundredk = {}    \n",
    "    \n",
    "for race in mapping:\n",
    "    race_per_hundredk[race] = (race_counts[race] / mapping[race]) * 100000\n",
    "    \n",
    "mapping\n",
    "    "
   ]
  },
  {
   "cell_type": "code",
   "execution_count": 33,
   "metadata": {
    "collapsed": false
   },
   "outputs": [
    {
     "data": {
      "text/plain": [
       "{'Asian/Pacific Islander': 1326,\n",
       " 'Black': 23296,\n",
       " 'Hispanic': 9022,\n",
       " 'Native American/Native Alaskan': 917,\n",
       " 'White': 66237}"
      ]
     },
     "execution_count": 33,
     "metadata": {},
     "output_type": "execute_result"
    }
   ],
   "source": [
    "race_counts"
   ]
  },
  {
   "cell_type": "code",
   "execution_count": 32,
   "metadata": {
    "collapsed": false
   },
   "outputs": [
    {
     "data": {
      "text/plain": [
       "{'Asian/Pacific Islander': 8.374309664161762,\n",
       " 'Black': 57.8773477735196,\n",
       " 'Hispanic': 20.220491210910907,\n",
       " 'Native American/Native Alaskan': 24.521955573811088,\n",
       " 'White': 33.56849303419181}"
      ]
     },
     "execution_count": 32,
     "metadata": {},
     "output_type": "execute_result"
    }
   ],
   "source": [
    "race_per_hundredk"
   ]
  },
  {
   "cell_type": "code",
   "execution_count": 36,
   "metadata": {
    "collapsed": false
   },
   "outputs": [],
   "source": [
    "intents = [row[3] for row in data]\n"
   ]
  },
  {
   "cell_type": "code",
   "execution_count": 42,
   "metadata": {
    "collapsed": false
   },
   "outputs": [],
   "source": [
    "races = [row[7] for row in data]\n"
   ]
  },
  {
   "cell_type": "code",
   "execution_count": 43,
   "metadata": {
    "collapsed": false
   },
   "outputs": [
    {
     "data": {
      "text/plain": [
       "{'Asian/Pacific Islander': 3.530346230970155,\n",
       " 'Black': 48.471284987180944,\n",
       " 'Hispanic': 12.627161104219914,\n",
       " 'Native American/Native Alaskan': 8.717729026240365,\n",
       " 'White': 4.6356417981453335}"
      ]
     },
     "execution_count": 43,
     "metadata": {},
     "output_type": "execute_result"
    }
   ],
   "source": [
    "homicide_race_counts = {}\n",
    "\n",
    "for index,race in enumerate(races):\n",
    "    if intents[index] == 'Homicide':\n",
    "        try:\n",
    "            homicide_race_counts[race] += 1\n",
    "        except:\n",
    "            homicide_race_counts[race] = 1\n",
    "\n",
    "homicide_race_rate = {}            \n",
    "            \n",
    "for race in homicide_race_counts:\n",
    "    homicide_race_rate[race] = (homicide_race_counts[race] / mapping[race]) * 100000\n",
    "\n",
    "homicide_race_rate\n"
   ]
  },
  {
   "cell_type": "code",
   "execution_count": 48,
   "metadata": {
    "collapsed": true
   },
   "outputs": [],
   "source": [
    "def stats_intent(intent):\n",
    "\n",
    "    homicide_race_counts = {}\n",
    "\n",
    "    for index,race in enumerate(races):\n",
    "        if intents[index] == intent:\n",
    "            try:\n",
    "                homicide_race_counts[race] += 1\n",
    "            except:\n",
    "                homicide_race_counts[race] = 1\n",
    "\n",
    "    homicide_race_rate = {}            \n",
    "\n",
    "    for race in homicide_race_counts:\n",
    "        homicide_race_rate[race] = (homicide_race_counts[race] / mapping[race]) * 100000\n",
    "        \n",
    "    return homicide_race_rate\n"
   ]
  },
  {
   "cell_type": "code",
   "execution_count": 49,
   "metadata": {
    "collapsed": false
   },
   "outputs": [
    {
     "name": "stdout",
     "output_type": "stream",
     "text": [
      "-----------------------------------\n",
      "Accidental\n",
      "{'Black': 0.814893976206835, 'Asian/Pacific Islander': 0.07578560782046845, 'White': 0.5736904466492313, 'Hispanic': 0.3249801846133985, 'Native American/Native Alaskan': 0.5883130017708221}\n",
      "-----------------------------------\n",
      "NA\n",
      "{'White': 0.0005067936807855399}\n",
      "-----------------------------------\n",
      "Suicide\n",
      "{'Native American/Native Alaskan': 14.841532544673013, 'White': 28.06217969245692, 'Asian/Pacific Islander': 4.705023152187416, 'Hispanic': 7.106980451097149, 'Black': 8.278130270491385}\n",
      "-----------------------------------\n",
      "Undetermined\n",
      "{'Native American/Native Alaskan': 0.3743810011268868, 'Black': 0.3130385396404305, 'Asian/Pacific Islander': 0.0631546731837237, 'Hispanic': 0.16136947098044616, 'White': 0.2964743032595409}\n",
      "-----------------------------------\n",
      "Homicide\n",
      "{'Black': 48.471284987180944, 'Asian/Pacific Islander': 3.530346230970155, 'White': 4.6356417981453335, 'Hispanic': 12.627161104219914, 'Native American/Native Alaskan': 8.717729026240365}\n"
     ]
    }
   ],
   "source": [
    "for intent in set(intents):\n",
    "    stats = stats_intent(intent)\n",
    "    print('-'*35)\n",
    "    print(intent)\n",
    "    print(stats)\n",
    "    "
   ]
  },
  {
   "cell_type": "code",
   "execution_count": null,
   "metadata": {
    "collapsed": true
   },
   "outputs": [],
   "source": []
  }
 ],
 "metadata": {
  "kernelspec": {
   "display_name": "Python 3",
   "language": "python",
   "name": "python3"
  },
  "language_info": {
   "codemirror_mode": {
    "name": "ipython",
    "version": 3
   },
   "file_extension": ".py",
   "mimetype": "text/x-python",
   "name": "python",
   "nbconvert_exporter": "python",
   "pygments_lexer": "ipython3",
   "version": "3.4.3"
  }
 },
 "nbformat": 4,
 "nbformat_minor": 0
}
