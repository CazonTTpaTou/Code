{
 "cells": [
  {
   "cell_type": "code",
   "execution_count": 2,
   "metadata": {
    "collapsed": false
   },
   "outputs": [
    {
     "name": "stdout",
     "output_type": "stream",
     "text": [
      "   Show Number    Air Date      Round                         Category  Value  \\\n",
      "0         4680  2004-12-31  Jeopardy!                          HISTORY   $200   \n",
      "1         4680  2004-12-31  Jeopardy!  ESPN's TOP 10 ALL-TIME ATHLETES   $200   \n",
      "2         4680  2004-12-31  Jeopardy!      EVERYBODY TALKS ABOUT IT...   $200   \n",
      "3         4680  2004-12-31  Jeopardy!                 THE COMPANY LINE   $200   \n",
      "4         4680  2004-12-31  Jeopardy!              EPITAPHS & TRIBUTES   $200   \n",
      "\n",
      "                                            Question      Answer  \n",
      "0  For the last 8 years of his life, Galileo was ...  Copernicus  \n",
      "1  No. 2: 1912 Olympian; football star at Carlisl...  Jim Thorpe  \n",
      "2  The city of Yuma in this state has a record av...     Arizona  \n",
      "3  In 1963, live on \"The Art Linkletter Show\", th...  McDonald's  \n",
      "4  Signer of the Dec. of Indep., framer of the Co...  John Adams  \n"
     ]
    }
   ],
   "source": [
    "import pandas as pd\n",
    "\n",
    "jeopardy = pd.read_csv('jeopardy.csv')\n",
    "\n",
    "print(jeopardy.head(5))\n"
   ]
  },
  {
   "cell_type": "markdown",
   "metadata": {},
   "source": [
    "## Jeopardy questions"
   ]
  },
  {
   "cell_type": "code",
   "execution_count": 5,
   "metadata": {
    "collapsed": false
   },
   "outputs": [],
   "source": [
    "new_col=[]\n",
    "\n",
    "for col in jeopardy.columns:\n",
    "    new_col.append(col.lstrip())\n",
    "\n",
    "jeopardy.columns = new_col"
   ]
  },
  {
   "cell_type": "code",
   "execution_count": 7,
   "metadata": {
    "collapsed": false
   },
   "outputs": [
    {
     "data": {
      "text/plain": [
       "Show Number     int64\n",
       "Air Date       object\n",
       "Round          object\n",
       "Category       object\n",
       "Value          object\n",
       "Question       object\n",
       "Answer         object\n",
       "dtype: object"
      ]
     },
     "execution_count": 7,
     "metadata": {},
     "output_type": "execute_result"
    }
   ],
   "source": [
    "jeopardy.dtypes"
   ]
  },
  {
   "cell_type": "code",
   "execution_count": 10,
   "metadata": {
    "collapsed": false
   },
   "outputs": [
    {
     "data": {
      "text/plain": [
       "Show Number             int64\n",
       "Air Date       datetime64[ns]\n",
       "Round                  object\n",
       "Category               object\n",
       "Value                  object\n",
       "Question               object\n",
       "Answer                 object\n",
       "dtype: object"
      ]
     },
     "execution_count": 10,
     "metadata": {},
     "output_type": "execute_result"
    }
   ],
   "source": [
    "jeopardy['Air Date'] = pd.to_datetime(jeopardy['Air Date'])\n",
    "jeopardy.dtypes"
   ]
  },
  {
   "cell_type": "markdown",
   "metadata": {},
   "source": [
    "## Normalize Text"
   ]
  },
  {
   "cell_type": "code",
   "execution_count": 17,
   "metadata": {
    "collapsed": false
   },
   "outputs": [
    {
     "name": "stdout",
     "output_type": "stream",
     "text": [
      "bonjourmonsieur m  loty po \n"
     ]
    }
   ],
   "source": [
    "import string\n",
    "\n",
    "def normalize(texte):\n",
    "    text = texte.lower()\n",
    "    table_puntuation = {ord(char): None for char in string.punctuation}\n",
    "    text = text.translate(table_puntuation)\n",
    "    return text\n",
    "    "
   ]
  },
  {
   "cell_type": "code",
   "execution_count": 19,
   "metadata": {
    "collapsed": false
   },
   "outputs": [],
   "source": [
    "jeopardy['clean_question'] = jeopardy['Question'].apply(normalize)\n",
    "\n",
    "jeopardy['clean_answer'] = jeopardy['Answer'].apply(normalize)\n"
   ]
  },
  {
   "cell_type": "code",
   "execution_count": 20,
   "metadata": {
    "collapsed": false
   },
   "outputs": [
    {
     "data": {
      "text/plain": [
       "0    for the last 8 years of his life galileo was u...\n",
       "1    no 2 1912 olympian football star at carlisle i...\n",
       "2    the city of yuma in this state has a record av...\n",
       "3    in 1963 live on the art linkletter show this c...\n",
       "4    signer of the dec of indep framer of the const...\n",
       "Name: clean_question, dtype: object"
      ]
     },
     "execution_count": 20,
     "metadata": {},
     "output_type": "execute_result"
    }
   ],
   "source": [
    "jeopardy['clean_question'].head(5)"
   ]
  },
  {
   "cell_type": "markdown",
   "metadata": {},
   "source": [
    "## Columns normalizing"
   ]
  },
  {
   "cell_type": "code",
   "execution_count": 23,
   "metadata": {
    "collapsed": false
   },
   "outputs": [
    {
     "data": {
      "text/plain": [
       "0    200\n",
       "1    200\n",
       "2    200\n",
       "3    200\n",
       "4    200\n",
       "Name: clean_value, dtype: int64"
      ]
     },
     "execution_count": 23,
     "metadata": {},
     "output_type": "execute_result"
    }
   ],
   "source": [
    "def normalize_dollars(text):\n",
    "    table_puntuation = {ord(char): None for char in string.punctuation}\n",
    "    text = text.translate(table_puntuation)\n",
    "    try:\n",
    "        value = int(text)\n",
    "    except:\n",
    "        value=0\n",
    "    return value\n",
    "\n",
    "jeopardy['clean_value'] = jeopardy['Value'].apply(normalize_dollars)\n",
    "jeopardy['clean_value'].head(5)"
   ]
  },
  {
   "cell_type": "code",
   "execution_count": 21,
   "metadata": {
    "collapsed": false
   },
   "outputs": [
    {
     "data": {
      "text/plain": [
       "'!\"#$%&\\'()*+,-./:;<=>?@[\\\\]^_`{|}~'"
      ]
     },
     "execution_count": 21,
     "metadata": {},
     "output_type": "execute_result"
    }
   ],
   "source": [
    "string.punctuation"
   ]
  },
  {
   "cell_type": "markdown",
   "metadata": {},
   "source": [
    "## Answer in questions"
   ]
  },
  {
   "cell_type": "code",
   "execution_count": 29,
   "metadata": {
    "collapsed": false
   },
   "outputs": [
    {
     "data": {
      "text/plain": [
       "0.06035277385469894"
      ]
     },
     "execution_count": 29,
     "metadata": {},
     "output_type": "execute_result"
    }
   ],
   "source": [
    "def question_answer(row):\n",
    "    split_answer = row['clean_answer'].split(' ')\n",
    "    \n",
    "    try:\n",
    "        split_answer.remove('the')\n",
    "    except:\n",
    "        pass\n",
    "        \n",
    "    split_question = row['clean_question'].split(' ')\n",
    "    \n",
    "    match_count=0\n",
    "    \n",
    "    for word in split_answer:\n",
    "        if word in split_question:\n",
    "            match_count+=1\n",
    "    try:\n",
    "        ratio = match_count / len(split_answer)        \n",
    "    except:\n",
    "        ratio = 0\n",
    "    \n",
    "    return ratio\n",
    "   \n",
    "jeopardy['answer_in_question'] = jeopardy.apply(question_answer,axis=1)\n",
    "\n",
    "mean_answer_in_question = jeopardy['answer_in_question'].mean()\n",
    "\n",
    "mean_answer_in_question\n",
    "    "
   ]
  },
  {
   "cell_type": "markdown",
   "metadata": {},
   "source": [
    "## Recycled questions"
   ]
  },
  {
   "cell_type": "code",
   "execution_count": 33,
   "metadata": {
    "collapsed": false
   },
   "outputs": [],
   "source": [
    "jeopardy_sorted = jeopardy.sort_values(by='Air Date',ascending=True)"
   ]
  },
  {
   "cell_type": "code",
   "execution_count": 45,
   "metadata": {
    "collapsed": false
   },
   "outputs": [
    {
     "name": "stdout",
     "output_type": "stream",
     "text": [
      "0.9375968798439922\n"
     ]
    }
   ],
   "source": [
    "terms_used = set()\n",
    "question_overlap = []\n",
    "\n",
    "for row in jeopardy_sorted.iterrows():\n",
    "    split_question = row[1]['clean_question'].split(' ')\n",
    "    new_split_question = [word for word in split_question if len(word)>6]\n",
    "    match_count=0\n",
    "    \n",
    "    for wd in new_split_question:\n",
    "        if terms_used.intersection(wd)==set():\n",
    "            match_count+=1\n",
    "            terms_used.add(wd)\n",
    "    \n",
    "    if len(new_split_question)>0:\n",
    "        ratio = match_count/len(new_split_question)\n",
    "        \n",
    "    else:\n",
    "        ratio=0\n",
    "        \n",
    "    question_overlap.append(ratio)\n",
    "    \n",
    "jeopardy_sorted['question_overlaps'] = question_overlap\n",
    "    \n",
    "mean_jeopardy_question_overlap = jeopardy_sorted['question_overlaps'].mean()\n",
    "\n",
    "print(mean_jeopardy_question_overlap)    \n"
   ]
  },
  {
   "cell_type": "markdown",
   "metadata": {},
   "source": [
    "## Low values vs high values questions"
   ]
  },
  {
   "cell_type": "code",
   "execution_count": 46,
   "metadata": {
    "collapsed": false
   },
   "outputs": [
    {
     "data": {
      "text/plain": [
       "19449"
      ]
     },
     "execution_count": 46,
     "metadata": {},
     "output_type": "execute_result"
    }
   ],
   "source": [
    "len(terms_used)"
   ]
  },
  {
   "cell_type": "code",
   "execution_count": 47,
   "metadata": {
    "collapsed": true
   },
   "outputs": [],
   "source": [
    "def high_value(row):\n",
    "    if row['clean_value']>800:\n",
    "        value=1\n",
    "    else:\n",
    "        value=0\n",
    "    return value\n",
    "\n",
    "jeopardy_sorted['high_value'] = jeopardy_sorted.apply(high_value,axis=1)\n"
   ]
  },
  {
   "cell_type": "code",
   "execution_count": 63,
   "metadata": {
    "collapsed": true
   },
   "outputs": [],
   "source": [
    "def high_low_count(word):\n",
    "    low_count = 0\n",
    "    high_count = 0\n",
    "    for row in jeopardy_sorted.iterrows():\n",
    "        if word in row[1]['clean_question'].split(' '):\n",
    "            if row[1]['high_value']==1:\n",
    "                high_count+=1\n",
    "            else:\n",
    "                low_count+=1\n",
    "    return low_count,high_count\n",
    "\n",
    "observed_expected = []\n",
    "comparaison_terms = list(terms_used)[:5]\n"
   ]
  },
  {
   "cell_type": "code",
   "execution_count": 64,
   "metadata": {
    "collapsed": false
   },
   "outputs": [
    {
     "data": {
      "text/plain": [
       "['senatorelect', 'ambroses', 'involuntary', 'fermors', 'goldwyn']"
      ]
     },
     "execution_count": 64,
     "metadata": {},
     "output_type": "execute_result"
    }
   ],
   "source": [
    "comparaison_terms"
   ]
  },
  {
   "cell_type": "code",
   "execution_count": 65,
   "metadata": {
    "collapsed": false
   },
   "outputs": [],
   "source": [
    "for word in comparaison_terms:\n",
    "    observed_expected.append(high_low_count(word))\n",
    "        "
   ]
  },
  {
   "cell_type": "code",
   "execution_count": 66,
   "metadata": {
    "collapsed": false
   },
   "outputs": [
    {
     "data": {
      "text/plain": [
       "[(0, 1), (0, 1), (4, 0), (0, 1), (0, 1)]"
      ]
     },
     "execution_count": 66,
     "metadata": {},
     "output_type": "execute_result"
    }
   ],
   "source": [
    "observed_expected"
   ]
  },
  {
   "cell_type": "markdown",
   "metadata": {},
   "source": [
    "## Applying the chi-squared test"
   ]
  },
  {
   "cell_type": "code",
   "execution_count": 57,
   "metadata": {
    "collapsed": true
   },
   "outputs": [],
   "source": [
    "high_value_count = jeopardy_sorted['high_value'].sum()\n",
    "low_value_count = len(jeopardy_sorted['high_value'])-high_value_count\n"
   ]
  },
  {
   "cell_type": "code",
   "execution_count": 58,
   "metadata": {
    "collapsed": false
   },
   "outputs": [
    {
     "data": {
      "text/plain": [
       "14265"
      ]
     },
     "execution_count": 58,
     "metadata": {},
     "output_type": "execute_result"
    }
   ],
   "source": [
    "low_value_count"
   ]
  },
  {
   "cell_type": "code",
   "execution_count": 59,
   "metadata": {
    "collapsed": false
   },
   "outputs": [
    {
     "data": {
      "text/plain": [
       "5734"
      ]
     },
     "execution_count": 59,
     "metadata": {},
     "output_type": "execute_result"
    }
   ],
   "source": [
    "high_value_count"
   ]
  },
  {
   "cell_type": "code",
   "execution_count": 62,
   "metadata": {
    "collapsed": false
   },
   "outputs": [
    {
     "data": {
      "text/plain": [
       "14265"
      ]
     },
     "execution_count": 62,
     "metadata": {},
     "output_type": "execute_result"
    }
   ],
   "source": [
    "low_value_count = len(jeopardy_sorted[jeopardy_sorted['high_value']==0])\n",
    "low_value_count"
   ]
  },
  {
   "cell_type": "code",
   "execution_count": 71,
   "metadata": {
    "collapsed": false
   },
   "outputs": [],
   "source": [
    "from scipy.stats import chisquare\n",
    "\n",
    "chi_squared = []\n",
    "\n",
    "for liste in observed_expected:\n",
    "    total = liste[0] + liste[1]\n",
    "    total_prop = total / len(jeopardy_sorted)\n",
    "    \n",
    "    expected_high_value = total_prop * high_value_count\n",
    "    expected_low_value = total_prop * low_value_count\n",
    "                                 \n",
    "    chi_high,p_value_high = chisquare(liste[1],expected_high_value)   \n",
    "    chi_low,p_value_low = chisquare(liste[0],expected_low_value)                                     \n",
    "   \n",
    "    chi_squared.append([chi_high,p_value_high])                             \n",
    "    chi_squared.append([chi_low,p_value_low])  \n",
    "                             "
   ]
  },
  {
   "cell_type": "markdown",
   "metadata": {},
   "source": [
    "## Next steps"
   ]
  },
  {
   "cell_type": "code",
   "execution_count": 72,
   "metadata": {
    "collapsed": false
   },
   "outputs": [
    {
     "data": {
      "text/plain": [
       "[[1.7745064529124608, nan],\n",
       " [0.7132856642832142, nan],\n",
       " [1.7745064529124608, nan],\n",
       " [0.7132856642832142, nan],\n",
       " [1.1468573428671434, nan],\n",
       " [0.4609940416403926, nan],\n",
       " [1.7745064529124608, nan],\n",
       " [0.7132856642832142, nan],\n",
       " [1.7745064529124608, nan],\n",
       " [0.7132856642832142, nan]]"
      ]
     },
     "execution_count": 72,
     "metadata": {},
     "output_type": "execute_result"
    }
   ],
   "source": [
    "chi_squared"
   ]
  },
  {
   "cell_type": "code",
   "execution_count": null,
   "metadata": {
    "collapsed": true
   },
   "outputs": [],
   "source": []
  }
 ],
 "metadata": {
  "kernelspec": {
   "display_name": "Python 3",
   "language": "python",
   "name": "python3"
  },
  "language_info": {
   "codemirror_mode": {
    "name": "ipython",
    "version": 3
   },
   "file_extension": ".py",
   "mimetype": "text/x-python",
   "name": "python",
   "nbconvert_exporter": "python",
   "pygments_lexer": "ipython3",
   "version": "3.4.3"
  }
 },
 "nbformat": 4,
 "nbformat_minor": 0
}
